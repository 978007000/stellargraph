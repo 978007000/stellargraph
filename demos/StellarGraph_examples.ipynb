{
 "cells": [
  {
   "cell_type": "markdown",
   "metadata": {},
   "source": [
    "# StellarGraph examples"
   ]
  },
  {
   "cell_type": "markdown",
   "metadata": {},
   "source": [
    "The StellarGraph object is a subclass of NetworkX MultiGraph, and has all the features built into NetworkX.\n"
   ]
  },
  {
   "cell_type": "markdown",
   "metadata": {},
   "source": [
    "Some example graphs"
   ]
  },
  {
   "cell_type": "code",
   "execution_count": 369,
   "metadata": {},
   "outputs": [],
   "source": [
    "import networkx as nx\n",
    "from stellar.data.stellargraph import *\n",
    "from stellar.data.loader import *"
   ]
  },
  {
   "cell_type": "code",
   "execution_count": 13,
   "metadata": {},
   "outputs": [],
   "source": [
    "%reload_ext autoreload\n",
    "%autoreload 2"
   ]
  },
  {
   "cell_type": "markdown",
   "metadata": {},
   "source": [
    "We can create StellarGraph objects from NetworkX graphs:\n",
    "\n",
    "By default the edge types will be empty strings."
   ]
  },
  {
   "cell_type": "code",
   "execution_count": 466,
   "metadata": {},
   "outputs": [
    {
     "data": {
      "text/plain": [
       "StellarGraph: Undirected multigraph\n",
       "    Nodes: 34, Edges: 78"
      ]
     },
     "execution_count": 466,
     "metadata": {},
     "output_type": "execute_result"
    }
   ],
   "source": [
    "G = StellarGraph(nx.karate_club_graph())\n",
    "G"
   ]
  },
  {
   "cell_type": "markdown",
   "metadata": {},
   "source": [
    "Note that certain NX operations will return a NetworkX object, not a StellarGraph object:"
   ]
  },
  {
   "cell_type": "code",
   "execution_count": 371,
   "metadata": {},
   "outputs": [
    {
     "data": {
      "text/plain": [
       "<networkx.classes.graphviews.SubMultiGraph at 0x1117d4e80>"
      ]
     },
     "execution_count": 371,
     "metadata": {},
     "output_type": "execute_result"
    }
   ],
   "source": [
    "nx.subgraph(G, [0])"
   ]
  },
  {
   "cell_type": "code",
   "execution_count": 224,
   "metadata": {},
   "outputs": [
    {
     "data": {
      "text/plain": [
       "<networkx.classes.multigraph.MultiGraph at 0x10e1864e0>"
      ]
     },
     "execution_count": 224,
     "metadata": {},
     "output_type": "execute_result"
    }
   ],
   "source": [
    "G.copy()"
   ]
  },
  {
   "cell_type": "code",
   "execution_count": 345,
   "metadata": {},
   "outputs": [
    {
     "data": {
      "text/plain": [
       "<networkx.classes.multidigraph.MultiDiGraph at 0x112b8d940>"
      ]
     },
     "execution_count": 345,
     "metadata": {},
     "output_type": "execute_result"
    }
   ],
   "source": [
    "G.to_directed()"
   ]
  },
  {
   "cell_type": "markdown",
   "metadata": {},
   "source": [
    "To create a heterogenous graph we need to specify node and/or edge labels:"
   ]
  },
  {
   "cell_type": "code",
   "execution_count": 373,
   "metadata": {},
   "outputs": [],
   "source": [
    "G = StellarGraph()\n",
    "G.add_nodes_from([0, 1, 2, 3], label=\"movie\")\n",
    "G.add_nodes_from([4, 5], label=\"user\")\n",
    "e_keys = G.add_edges_from([(0, 4), (1, 4), (1, 5), (2, 4), (3, 5)], label=\"rating\")"
   ]
  },
  {
   "cell_type": "markdown",
   "metadata": {},
   "source": [
    "We can query the object to find more information about the Graph types"
   ]
  },
  {
   "cell_type": "code",
   "execution_count": 374,
   "metadata": {},
   "outputs": [
    {
     "name": "stdout",
     "output_type": "stream",
     "text": [
      "StellarGraph: Undirected multigraph\n",
      " Nodes: 6, Edges: 5\n",
      "\n",
      " Node types:\n",
      "  movie: [4]\n",
      "    Edge types: movie-rating->user\n",
      "  user: [2]\n",
      "    Edge types: user-rating->movie\n",
      "\n",
      " Edge types:\n",
      "    movie-rating->user: [5]\n",
      "\n"
     ]
    }
   ],
   "source": [
    "print(G.info())"
   ]
  },
  {
   "cell_type": "markdown",
   "metadata": {},
   "source": [
    "Add some more edges to form a real multigraph"
   ]
  },
  {
   "cell_type": "code",
   "execution_count": 375,
   "metadata": {},
   "outputs": [],
   "source": [
    "e_keys = G.add_edges_from([(0, 4), (1, 4)], label=\"another\")\n",
    "e_keys = G.add_edges_from([(4, 5)], label=\"friend\")"
   ]
  },
  {
   "cell_type": "code",
   "execution_count": 377,
   "metadata": {},
   "outputs": [
    {
     "name": "stdout",
     "output_type": "stream",
     "text": [
      "StellarGraph: Undirected multigraph\n",
      " Nodes: 6, Edges: 8\n",
      "\n",
      " Node types:\n",
      "  movie: [4]\n",
      "    Edge types: movie-another->user, movie-rating->user\n",
      "  user: [2]\n",
      "    Edge types: user-another->movie, user-friend->user, user-rating->movie\n",
      "\n",
      " Edge types:\n",
      "    movie-another->user: [2]\n",
      "    movie-rating->user: [5]\n",
      "    user-friend->user: [1]\n",
      "\n"
     ]
    }
   ],
   "source": [
    "print(G.info())"
   ]
  },
  {
   "cell_type": "code",
   "execution_count": 397,
   "metadata": {},
   "outputs": [
    {
     "data": {
      "image/png": "[encoded data removed]",
      "text/plain": [
       "<Figure size 432x288 with 1 Axes>"
      ]
     },
     "metadata": {},
     "output_type": "display_data"
    }
   ],
   "source": [
    "sg = G.create_graph_schema(create_type_maps=True)\n",
    "nx.draw(G, with_labels=True, width=5, node_size=500,\n",
    "        node_color=[sg.get_node_type(n,True) for n in G],\n",
    "        edge_color=[sg.get_edge_type(e,True) for e in G.edges(keys=True)])"
   ]
  },
  {
   "cell_type": "markdown",
   "metadata": {},
   "source": [
    "## Loading graphs from different formats"
   ]
  },
  {
   "cell_type": "markdown",
   "metadata": {},
   "source": [
    "EPGM formats are ideal for storing heterogeneous graphs. They are handled through a helper function:"
   ]
  },
  {
   "cell_type": "code",
   "execution_count": 464,
   "metadata": {},
   "outputs": [
    {
     "name": "stdout",
     "output_type": "stream",
     "text": [
      "...reading ../tests/resources/data/yelp/yelp.epgm/graphs.json using utf-8 encoding...\n",
      "...reading ../tests/resources/data/yelp/yelp.epgm/vertices.json using utf-8 encoding...\n",
      "...reading ../tests/resources/data/yelp/yelp.epgm/edges.json using utf-8 encoding...\n",
      "WARNING: dataset name not specified, using dataset 'small_yelp_example' in the 1st graph head\n",
      "Converting the EPGM graph 59be1422c4785d276d9c3658 to NetworkX graph...\n",
      "Graph statistics: 621 nodes, 6832 edges\n"
     ]
    }
   ],
   "source": [
    "graph_loc = \"../tests/resources/data/yelp/yelp.epgm\"\n",
    "G = from_epgm(graph_loc, directed=True)"
   ]
  },
  {
   "cell_type": "code",
   "execution_count": 465,
   "metadata": {},
   "outputs": [
    {
     "name": "stdout",
     "output_type": "stream",
     "text": [
      "StellarDiGraph: Directed multigraph\n",
      " Nodes: 621, Edges: 6832\n",
      "\n",
      " Node types:\n",
      "  business: [10]\n",
      "        Attributes: {'BusinessAcceptsCreditCards', 'BikeParking', 'state', 'GoodForKids', 'Smoking', 'city', 'name', 'categories', 'NoiseLevel', 'DriveThru', 'WiFi', 'DogsAllowed', 'yelpId', 'Alcohol', 'RestaurantsPriceRange2', 'stars', 'HappyHour', 'HasTV'}\n",
      "    Edge types: business-locatedIn->city\n",
      "  city: [3]\n",
      "        Attributes: {'name'}\n",
      "    Edge types: city-state->state\n",
      "  review: [37]\n",
      "        Attributes: {'useful', 'userId', 'businessId', 'yelpId', 'stars'}\n",
      "    Edge types: review-towards->business\n",
      "  state: [2]\n",
      "        Attributes: {'name'}\n",
      "    Edge types: \n",
      "  user: [569]\n",
      "        Attributes: {'elite', 'useful', 'compliment_more', 'cool', 'compliment_profile', 'compliment_note', 'compliment_funny', 'compliment_cute', 'compliment_hot', 'name', 'compliment_writer', 'yelpId', 'compliment_cool', 'funny', 'fans', 'compliment_plain', 'average_stars', 'compliment_photos', 'compliment_list'}\n",
      "    Edge types: user-friend->user, user-writes->review\n",
      "\n",
      " Edge types:\n",
      "    business-locatedIn->city: [10]\n",
      "        Attributes: {'toYelpId', 'fromYelpId'}\n",
      "    city-state->state: [3]\n",
      "        Attributes: {'toYelpId', 'fromYelpId'}\n",
      "    review-towards->business: [37]\n",
      "        Attributes: {'toYelpId', 'fromYelpId'}\n",
      "    user-friend->user: [6745]\n",
      "        Attributes: {'toYelpId', 'fromYelpId', 'date'}\n",
      "    user-writes->review: [37]\n",
      "        Attributes: {'toYelpId', 'fromYelpId', 'date'}\n",
      "\n"
     ]
    }
   ],
   "source": [
    "print(G.info())"
   ]
  },
  {
   "cell_type": "markdown",
   "metadata": {},
   "source": [
    "## Graph Schema"
   ]
  },
  {
   "cell_type": "markdown",
   "metadata": {},
   "source": [
    "The graph schema gives information on the node and edge types "
   ]
  },
  {
   "cell_type": "code",
   "execution_count": 407,
   "metadata": {},
   "outputs": [
    {
     "data": {
      "text/plain": [
       "GraphSchema:\n",
       "node type: movie\n",
       "   movie -- another -> user\n",
       "   movie -- rating -> user\n",
       "node type: user\n",
       "   user -- another -> movie\n",
       "   user -- friend -> user\n",
       "   user -- rating -> movie"
      ]
     },
     "execution_count": 407,
     "metadata": {},
     "output_type": "execute_result"
    }
   ],
   "source": [
    "G = StellarGraph()\n",
    "G.add_nodes_from([0, 1, 2, 3], label=\"movie\")\n",
    "G.add_nodes_from([4, 5], label=\"user\")\n",
    "e_keys = G.add_edges_from([(0, 4), (1, 4), (1, 5), (2, 4), (3, 5)], label=\"rating\")\n",
    "e_keys = G.add_edges_from([(0, 4), (1, 4)], label=\"another\")\n",
    "e_keys = G.add_edges_from([(4, 5)], label=\"friend\")\n",
    "\n",
    "gs = G.create_graph_schema(create_type_maps=True)\n",
    "gs"
   ]
  },
  {
   "cell_type": "markdown",
   "metadata": {},
   "source": [
    "Note that we have edge types move-rating->user as this is an undirected graph.  If we convert it to a directional graph, we have the expected semantics of our edge types:"
   ]
  },
  {
   "cell_type": "code",
   "execution_count": 421,
   "metadata": {},
   "outputs": [
    {
     "data": {
      "text/plain": [
       "GraphSchema:\n",
       "node type: movie\n",
       "   movie -- another -> user\n",
       "   movie -- rating -> user\n",
       "node type: user\n",
       "   user -- friend -> user"
      ]
     },
     "execution_count": 421,
     "metadata": {},
     "output_type": "execute_result"
    }
   ],
   "source": [
    "Gd = StellarDiGraph()\n",
    "Gd.add_nodes_from([0, 1, 2, 3], label=\"movie\")\n",
    "Gd.add_nodes_from([4, 5], label=\"user\")\n",
    "e_keys = Gd.add_edges_from([(0, 4), (1, 4), (1, 5), (2, 4), (3, 5)], label=\"rating\")\n",
    "e_keys = Gd.add_edges_from([(0, 4), (1, 4)], label=\"another\")\n",
    "e_keys = Gd.add_edges_from([(4, 5)], label=\"friend\")\n",
    "Gd.create_graph_schema()"
   ]
  },
  {
   "cell_type": "markdown",
   "metadata": {},
   "source": [
    "The node edges and types are available. The ordering of these is important and maintained in all methods:"
   ]
  },
  {
   "cell_type": "code",
   "execution_count": 422,
   "metadata": {},
   "outputs": [
    {
     "data": {
      "text/plain": [
       "[EdgeType(n1='user', rel='another', n2='movie'),\n",
       " EdgeType(n1='user', rel='friend', n2='user'),\n",
       " EdgeType(n1='user', rel='rating', n2='movie')]"
      ]
     },
     "execution_count": 422,
     "metadata": {},
     "output_type": "execute_result"
    }
   ],
   "source": [
    "gs.schema['user']"
   ]
  },
  {
   "cell_type": "code",
   "execution_count": 423,
   "metadata": {},
   "outputs": [
    {
     "data": {
      "text/plain": [
       "['movie', 'user']"
      ]
     },
     "execution_count": 423,
     "metadata": {},
     "output_type": "execute_result"
    }
   ],
   "source": [
    "gs.node_types"
   ]
  },
  {
   "cell_type": "code",
   "execution_count": 424,
   "metadata": {},
   "outputs": [
    {
     "data": {
      "text/plain": [
       "[EdgeType(n1='movie', rel='another', n2='user'),\n",
       " EdgeType(n1='movie', rel='rating', n2='user'),\n",
       " EdgeType(n1='user', rel='another', n2='movie'),\n",
       " EdgeType(n1='user', rel='friend', n2='user'),\n",
       " EdgeType(n1='user', rel='rating', n2='movie')]"
      ]
     },
     "execution_count": 424,
     "metadata": {},
     "output_type": "execute_result"
    }
   ],
   "source": [
    "gs.edge_types"
   ]
  },
  {
   "cell_type": "markdown",
   "metadata": {},
   "source": [
    "Nodes and edges have indices that should be extracted using the node_index and edge_index functions:"
   ]
  },
  {
   "cell_type": "code",
   "execution_count": 425,
   "metadata": {},
   "outputs": [
    {
     "data": {
      "text/plain": [
       "0"
      ]
     },
     "execution_count": 425,
     "metadata": {},
     "output_type": "execute_result"
    }
   ],
   "source": [
    "gs.node_index('movie')"
   ]
  },
  {
   "cell_type": "code",
   "execution_count": 426,
   "metadata": {},
   "outputs": [
    {
     "data": {
      "text/plain": [
       "1"
      ]
     },
     "execution_count": 426,
     "metadata": {},
     "output_type": "execute_result"
    }
   ],
   "source": [
    "gs.edge_index(('movie', 'rating', 'user'))"
   ]
  },
  {
   "cell_type": "markdown",
   "metadata": {},
   "source": [
    "The graph schema can be used to quickly look up node and edge types:"
   ]
  },
  {
   "cell_type": "code",
   "execution_count": 427,
   "metadata": {},
   "outputs": [
    {
     "data": {
      "text/plain": [
       "'movie'"
      ]
     },
     "execution_count": 427,
     "metadata": {},
     "output_type": "execute_result"
    }
   ],
   "source": [
    "gs.get_node_type(0)"
   ]
  },
  {
   "cell_type": "markdown",
   "metadata": {},
   "source": [
    "We can easily do filtering of nodes and edges based on types:"
   ]
  },
  {
   "cell_type": "markdown",
   "metadata": {},
   "source": [
    "The edge type is specified to be a triple:"
   ]
  },
  {
   "cell_type": "code",
   "execution_count": 428,
   "metadata": {},
   "outputs": [
    {
     "data": {
      "text/plain": [
       "[4, 5]"
      ]
     },
     "execution_count": 428,
     "metadata": {},
     "output_type": "execute_result"
    }
   ],
   "source": [
    "[ n for n in G if gs.get_node_type(n) == 'user' ]"
   ]
  },
  {
   "cell_type": "code",
   "execution_count": 429,
   "metadata": {},
   "outputs": [
    {
     "data": {
      "text/plain": [
       "EdgeType(n1='movie', rel='rating', n2='user')"
      ]
     },
     "execution_count": 429,
     "metadata": {},
     "output_type": "execute_result"
    }
   ],
   "source": [
    "gs.get_edge_type((0,4,0))"
   ]
  },
  {
   "cell_type": "code",
   "execution_count": 430,
   "metadata": {},
   "outputs": [
    {
     "data": {
      "text/plain": [
       "[(0, 4, 0), (1, 4, 0), (1, 5, 0), (2, 4, 0), (3, 5, 0)]"
      ]
     },
     "execution_count": 430,
     "metadata": {},
     "output_type": "execute_result"
    }
   ],
   "source": [
    "[ e for e in G.edges(keys=True) if gs.get_edge_type(e) == ('movie', 'rating', 'user') ]"
   ]
  },
  {
   "cell_type": "markdown",
   "metadata": {},
   "source": [
    "This is a named tuple, so we can compare edges with tuples:"
   ]
  },
  {
   "cell_type": "code",
   "execution_count": 431,
   "metadata": {},
   "outputs": [
    {
     "data": {
      "text/plain": [
       "True"
      ]
     },
     "execution_count": 431,
     "metadata": {},
     "output_type": "execute_result"
    }
   ],
   "source": [
    "gs.get_edge_type((0,4,0)) == ('movie', 'rating', 'user')"
   ]
  },
  {
   "cell_type": "code",
   "execution_count": 432,
   "metadata": {},
   "outputs": [
    {
     "data": {
      "text/plain": [
       "1"
      ]
     },
     "execution_count": 432,
     "metadata": {},
     "output_type": "execute_result"
    }
   ],
   "source": [
    "gs.edge_index(('movie', 'rating', 'user'))"
   ]
  },
  {
   "cell_type": "code",
   "execution_count": 433,
   "metadata": {},
   "outputs": [
    {
     "data": {
      "text/plain": [
       "[4, 5]"
      ]
     },
     "execution_count": 433,
     "metadata": {},
     "output_type": "execute_result"
    }
   ],
   "source": [
    "[ n for n in G if gs.get_node_type(n) == 'user' ]"
   ]
  },
  {
   "cell_type": "markdown",
   "metadata": {},
   "source": [
    "Note that StellarGraph assumes there is only a single edge with the same edge type between two noddes.\n",
    "\n",
    "This isn't enforced ATM so things may break if we add multiple edges with the same edge type, even though NetworkX supports this by creating a new edge key."
   ]
  },
  {
   "cell_type": "code",
   "execution_count": 438,
   "metadata": {},
   "outputs": [],
   "source": [
    "G.add_edges_from([(0,4)], label=\"another\")\n",
    "gs = G.create_graph_schema(create_type_maps=True)"
   ]
  },
  {
   "cell_type": "code",
   "execution_count": 439,
   "metadata": {},
   "outputs": [
    {
     "data": {
      "text/plain": [
       "[(0, 4, 1), (0, 4, 2), (0, 4, 3), (1, 4, 1)]"
      ]
     },
     "execution_count": 439,
     "metadata": {},
     "output_type": "execute_result"
    }
   ],
   "source": [
    "[ e for e in G.edges(keys=True) if gs.get_edge_type(e) == ('movie', 'another', 'user') ]"
   ]
  },
  {
   "cell_type": "code",
   "execution_count": 440,
   "metadata": {},
   "outputs": [
    {
     "data": {
      "text/plain": [
       "[EdgeType(n1='user', rel='another', n2='movie'),\n",
       " EdgeType(n1='user', rel='friend', n2='user'),\n",
       " EdgeType(n1='user', rel='rating', n2='movie')]"
      ]
     },
     "execution_count": 440,
     "metadata": {},
     "output_type": "execute_result"
    }
   ],
   "source": [
    "gs.edge_types_for_node_type('user')"
   ]
  },
  {
   "cell_type": "markdown",
   "metadata": {},
   "source": [
    "Or the sampling adjacency list schema (for GraphSAGE)"
   ]
  },
  {
   "cell_type": "code",
   "execution_count": 442,
   "metadata": {},
   "outputs": [
    {
     "data": {
      "text/plain": [
       "[EdgeType(n1='user', rel='another', n2='movie'),\n",
       " EdgeType(n1='user', rel='friend', n2='user'),\n",
       " EdgeType(n1='user', rel='rating', n2='movie')]"
      ]
     },
     "execution_count": 442,
     "metadata": {},
     "output_type": "execute_result"
    }
   ],
   "source": [
    "gs.schema['user']"
   ]
  },
  {
   "cell_type": "code",
   "execution_count": 443,
   "metadata": {},
   "outputs": [
    {
     "data": {
      "text/plain": [
       "[('user', [2, 3, 4]),\n",
       " ('movie', [5, 6]),\n",
       " ('movie', [7, 8]),\n",
       " ('user', [9, 10, 11]),\n",
       " ('movie', [12, 13]),\n",
       " ('user', [14, 15, 16]),\n",
       " ('user', [17, 18, 19]),\n",
       " ('user', []),\n",
       " ('user', []),\n",
       " ('movie', []),\n",
       " ('user', []),\n",
       " ('movie', []),\n",
       " ('user', []),\n",
       " ('user', []),\n",
       " ('movie', []),\n",
       " ('user', []),\n",
       " ('movie', []),\n",
       " ('movie', []),\n",
       " ('user', []),\n",
       " ('movie', [])]"
      ]
     },
     "execution_count": 443,
     "metadata": {},
     "output_type": "execute_result"
    }
   ],
   "source": [
    "gs.get_type_adjacency_list(['user', 'movie'], n_hops=2)"
   ]
  },
  {
   "cell_type": "code",
   "execution_count": null,
   "metadata": {},
   "outputs": [],
   "source": []
  }
 ],
 "metadata": {
  "kernelspec": {
   "display_name": "Stellar ML [3]",
   "language": "python",
   "name": "stellarml"
  },
  "language_info": {
   "codemirror_mode": {
    "name": "ipython",
    "version": 3
   },
   "file_extension": ".py",
   "mimetype": "text/x-python",
   "name": "python",
   "nbconvert_exporter": "python",
   "pygments_lexer": "ipython3",
   "version": "3.6.5"
  }
 },
 "nbformat": 4,
 "nbformat_minor": 2
}
