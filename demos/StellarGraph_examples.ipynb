{
 "cells": [
  {
   "cell_type": "markdown",
   "metadata": {},
   "source": [
    "# StellarGraph examples"
   ]
  },
  {
   "cell_type": "markdown",
   "metadata": {},
   "source": [
    "The StellarGraph object is a subclass of NetworkX MultiGraph, and has all the features built into NetworkX.\n"
   ]
  },
  {
   "cell_type": "markdown",
   "metadata": {},
   "source": [
    "Import NetworkX and stellar:"
   ]
  },
  {
   "cell_type": "code",
   "execution_count": 288,
   "metadata": {},
   "outputs": [],
   "source": [
    "import networkx as nx\n",
    "from stellar.data.stellargraph import *\n",
    "from stellar.data.loader import *"
   ]
  },
  {
   "cell_type": "code",
   "execution_count": 289,
   "metadata": {},
   "outputs": [],
   "source": [
    "%reload_ext autoreload\n",
    "%autoreload 2"
   ]
  },
  {
   "cell_type": "markdown",
   "metadata": {},
   "source": [
    "We can create StellarGraph objects from NetworkX graphs:"
   ]
  },
  {
   "cell_type": "code",
   "execution_count": 290,
   "metadata": {},
   "outputs": [],
   "source": [
    "G = StellarGraph(nx.karate_club_graph())"
   ]
  },
  {
   "cell_type": "markdown",
   "metadata": {},
   "source": [
    "If not specified by an existing node/edge attributes, the node/edge types will default to be empty strings:"
   ]
  },
  {
   "cell_type": "code",
   "execution_count": 291,
   "metadata": {},
   "outputs": [
    {
     "name": "stdout",
     "output_type": "stream",
     "text": [
      "['']\n",
      "[EdgeType(n1='', rel='', n2='')]\n"
     ]
    }
   ],
   "source": [
    "sg = G.create_graph_schema()\n",
    "print(sg.node_types)\n",
    "print(sg.edge_types)"
   ]
  },
  {
   "cell_type": "markdown",
   "metadata": {},
   "source": [
    "Note that certain NX operations will return a NetworkX object, not a StellarGraph object:"
   ]
  },
  {
   "cell_type": "code",
   "execution_count": 292,
   "metadata": {},
   "outputs": [
    {
     "data": {
      "text/plain": [
       "<networkx.classes.graphviews.SubMultiGraph at 0x1090c2c18>"
      ]
     },
     "execution_count": 292,
     "metadata": {},
     "output_type": "execute_result"
    }
   ],
   "source": [
    "nx.subgraph(G, [0])"
   ]
  },
  {
   "cell_type": "code",
   "execution_count": 293,
   "metadata": {},
   "outputs": [
    {
     "data": {
      "text/plain": [
       "<networkx.classes.graphviews.MultiDiGraphView at 0x1090c2198>"
      ]
     },
     "execution_count": 293,
     "metadata": {},
     "output_type": "execute_result"
    }
   ],
   "source": [
    "nx.to_directed(G)"
   ]
  },
  {
   "cell_type": "markdown",
   "metadata": {},
   "source": [
    "We should at least make the methods of StellarGraph return StellarGraph objects:"
   ]
  },
  {
   "cell_type": "code",
   "execution_count": 294,
   "metadata": {},
   "outputs": [
    {
     "data": {
      "text/plain": [
       "<networkx.classes.multigraph.MultiGraph at 0x10119f278>"
      ]
     },
     "execution_count": 294,
     "metadata": {},
     "output_type": "execute_result"
    }
   ],
   "source": [
    "G.copy()"
   ]
  },
  {
   "cell_type": "code",
   "execution_count": 295,
   "metadata": {},
   "outputs": [
    {
     "data": {
      "text/plain": [
       "<networkx.classes.multidigraph.MultiDiGraph at 0x1090d0400>"
      ]
     },
     "execution_count": 295,
     "metadata": {},
     "output_type": "execute_result"
    }
   ],
   "source": [
    "G.to_directed()"
   ]
  },
  {
   "cell_type": "markdown",
   "metadata": {},
   "source": [
    "---"
   ]
  },
  {
   "cell_type": "markdown",
   "metadata": {},
   "source": [
    "To create a heterogenous graph we need to specify node and/or edge labels:"
   ]
  },
  {
   "cell_type": "code",
   "execution_count": 296,
   "metadata": {},
   "outputs": [],
   "source": [
    "G = StellarGraph()\n",
    "G.add_nodes_from([0, 1, 2, 3], label=\"movie\")\n",
    "G.add_nodes_from([4, 5], label=\"user\")\n",
    "e_keys = G.add_edges_from([(0, 4), (1, 4), (1, 5), (2, 4), (3, 5)], label=\"rating\")"
   ]
  },
  {
   "cell_type": "markdown",
   "metadata": {},
   "source": [
    "We can query the object to find more information about the Graph types"
   ]
  },
  {
   "cell_type": "code",
   "execution_count": 297,
   "metadata": {},
   "outputs": [
    {
     "name": "stdout",
     "output_type": "stream",
     "text": [
      "StellarGraph: Undirected multigraph\n",
      " Nodes: 6, Edges: 5\n",
      "\n",
      " Node types:\n",
      "  movie: [4]\n",
      "    Edge types: movie-rating->user\n",
      "  user: [2]\n",
      "    Edge types: user-rating->movie\n",
      "\n",
      " Edge types:\n",
      "    movie-rating->user: [5]\n",
      "\n"
     ]
    }
   ],
   "source": [
    "print(G.info())"
   ]
  },
  {
   "cell_type": "markdown",
   "metadata": {},
   "source": [
    "Add some more edges to form a real multigraph"
   ]
  },
  {
   "cell_type": "code",
   "execution_count": 298,
   "metadata": {},
   "outputs": [],
   "source": [
    "e_keys = G.add_edges_from([(0, 4), (1, 4)], label=\"another\")\n",
    "e_keys = G.add_edges_from([(4, 5)], label=\"friend\")"
   ]
  },
  {
   "cell_type": "code",
   "execution_count": 299,
   "metadata": {},
   "outputs": [
    {
     "name": "stdout",
     "output_type": "stream",
     "text": [
      "StellarGraph: Undirected multigraph\n",
      " Nodes: 6, Edges: 8\n",
      "\n",
      " Node types:\n",
      "  movie: [4]\n",
      "    Edge types: movie-another->user, movie-rating->user\n",
      "  user: [2]\n",
      "    Edge types: user-another->movie, user-friend->user, user-rating->movie\n",
      "\n",
      " Edge types:\n",
      "    movie-another->user: [2]\n",
      "    movie-rating->user: [5]\n",
      "    user-friend->user: [1]\n",
      "\n"
     ]
    }
   ],
   "source": [
    "print(G.info())"
   ]
  },
  {
   "cell_type": "markdown",
   "metadata": {},
   "source": [
    "**Note: NetworkX plots don't work for multigraphs -- there are multiple types of edges between some nodes that are just shown as a single edge in the graph. We need better plotting!**"
   ]
  },
  {
   "cell_type": "code",
   "execution_count": 300,
   "metadata": {},
   "outputs": [
    {
     "data": {
      "image/png": "[encoded data removed]",
      "text/plain": [
       "<Figure size 432x288 with 1 Axes>"
      ]
     },
     "metadata": {},
     "output_type": "display_data"
    }
   ],
   "source": [
    "sg = G.create_graph_schema(create_type_maps=True)\n",
    "nx.draw(G, with_labels=True, width=5, node_size=500,\n",
    "        node_color=[sg.get_node_type(n,True) for n in G],\n",
    "        edge_color=[sg.get_edge_type(e,True) for e in G.edges(keys=True)])"
   ]
  },
  {
   "cell_type": "markdown",
   "metadata": {},
   "source": [
    "## Loading graphs from different formats"
   ]
  },
  {
   "cell_type": "markdown",
   "metadata": {},
   "source": [
    "EPGM formats are ideal for storing heterogeneous graphs. They are handled through a helper function:"
   ]
  },
  {
   "cell_type": "code",
   "execution_count": 301,
   "metadata": {},
   "outputs": [
    {
     "name": "stdout",
     "output_type": "stream",
     "text": [
      "...reading ../tests/resources/data/yelp/yelp.epgm/graphs.json using utf-8 encoding...\n",
      "...reading ../tests/resources/data/yelp/yelp.epgm/vertices.json using utf-8 encoding...\n",
      "...reading ../tests/resources/data/yelp/yelp.epgm/edges.json using utf-8 encoding...\n",
      "WARNING: dataset name not specified, using dataset 'small_yelp_example' in the 1st graph head\n",
      "Converting the EPGM graph 59be1422c4785d276d9c3658 to NetworkX graph...\n",
      "Graph statistics: 621 nodes, 6832 edges\n"
     ]
    }
   ],
   "source": [
    "graph_loc = \"../tests/resources/data/yelp/yelp.epgm\"\n",
    "G = from_epgm(graph_loc, directed=True)"
   ]
  },
  {
   "cell_type": "code",
   "execution_count": 302,
   "metadata": {},
   "outputs": [
    {
     "name": "stdout",
     "output_type": "stream",
     "text": [
      "StellarDiGraph: Directed multigraph\n",
      " Nodes: 621, Edges: 6832\n",
      "\n",
      " Node types:\n",
      "  business: [10]\n",
      "        Attributes: {'RestaurantsPriceRange2', 'GoodForKids', 'HappyHour', 'DriveThru', 'BikeParking', 'name', 'HasTV', 'stars', 'DogsAllowed', 'categories', 'NoiseLevel', 'WiFi', 'Smoking', 'yelpId', 'BusinessAcceptsCreditCards', 'state', 'city', 'Alcohol'}\n",
      "    Edge types: business-locatedIn->city\n",
      "  city: [3]\n",
      "        Attributes: {'name'}\n",
      "    Edge types: city-state->state\n",
      "  review: [37]\n",
      "        Attributes: {'userId', 'useful', 'yelpId', 'stars', 'businessId'}\n",
      "    Edge types: review-towards->business\n",
      "  state: [2]\n",
      "        Attributes: {'name'}\n",
      "    Edge types: \n",
      "  user: [569]\n",
      "        Attributes: {'compliment_profile', 'compliment_list', 'average_stars', 'compliment_hot', 'compliment_plain', 'useful', 'compliment_photos', 'name', 'compliment_more', 'compliment_writer', 'elite', 'fans', 'compliment_cute', 'compliment_funny', 'yelpId', 'compliment_note', 'compliment_cool', 'funny', 'cool'}\n",
      "    Edge types: user-friend->user, user-writes->review\n",
      "\n",
      " Edge types:\n",
      "    business-locatedIn->city: [10]\n",
      "        Attributes: {'fromYelpId', 'toYelpId'}\n",
      "    city-state->state: [3]\n",
      "        Attributes: {'fromYelpId', 'toYelpId'}\n",
      "    review-towards->business: [37]\n",
      "        Attributes: {'fromYelpId', 'toYelpId'}\n",
      "    user-friend->user: [6745]\n",
      "        Attributes: {'fromYelpId', 'toYelpId', 'date'}\n",
      "    user-writes->review: [37]\n",
      "        Attributes: {'fromYelpId', 'toYelpId', 'date'}\n",
      "\n"
     ]
    }
   ],
   "source": [
    "print(G.info())"
   ]
  },
  {
   "cell_type": "markdown",
   "metadata": {},
   "source": [
    "## Graph Schema"
   ]
  },
  {
   "cell_type": "markdown",
   "metadata": {},
   "source": [
    "The graph schema gives information on the node and edge types "
   ]
  },
  {
   "cell_type": "code",
   "execution_count": 434,
   "metadata": {},
   "outputs": [
    {
     "data": {
      "text/plain": [
       "GraphSchema:\n",
       "node type: movie\n",
       "   movie -- another -> user\n",
       "   movie -- rating -> user\n",
       "node type: user\n",
       "   user -- another -> movie\n",
       "   user -- friend -> user\n",
       "   user -- rating -> movie"
      ]
     },
     "execution_count": 434,
     "metadata": {},
     "output_type": "execute_result"
    }
   ],
   "source": [
    "G = StellarGraph()\n",
    "G.add_nodes_from([0, 1, 2, 3], label=\"movie\")\n",
    "G.add_nodes_from([4, 5], label=\"user\")\n",
    "e_keys = G.add_edges_from([(4, 0), (4, 1), (5, 1), (4, 2), (5, 3)], label=\"rating\")\n",
    "e_keys = G.add_edges_from([(0, 4), (1, 4)], label=\"another\")\n",
    "e_keys = G.add_edges_from([(4, 5)], label=\"friend\")\n",
    "\n",
    "gs = G.create_graph_schema(create_type_maps=True)\n",
    "gs"
   ]
  },
  {
   "cell_type": "markdown",
   "metadata": {},
   "source": [
    "Note that we have edge types move-rating->user as this is an undirected graph.  If we convert it to a directional graph, we have the expected semantics of our edge types:"
   ]
  },
  {
   "cell_type": "code",
   "execution_count": 416,
   "metadata": {},
   "outputs": [
    {
     "data": {
      "text/plain": [
       "GraphSchema:\n",
       "node type: movie\n",
       "   movie -- another -> user\n",
       "node type: user\n",
       "   user -- friend -> user\n",
       "   user -- rating -> movie"
      ]
     },
     "execution_count": 416,
     "metadata": {},
     "output_type": "execute_result"
    }
   ],
   "source": [
    "Gd = StellarDiGraph()\n",
    "Gd.add_nodes_from([0, 1, 2, 3], label=\"movie\")\n",
    "Gd.add_nodes_from([4, 5], label=\"user\")\n",
    "e_keys = Gd.add_edges_from([(4, 0), (4, 1), (5, 1), (4, 2), (5, 3)], label=\"rating\")\n",
    "e_keys = Gd.add_edges_from([(0, 4), (1, 4)], label=\"another\")\n",
    "e_keys = Gd.add_edges_from([(4, 5)], label=\"friend\")\n",
    "Gd.create_graph_schema()"
   ]
  },
  {
   "cell_type": "markdown",
   "metadata": {},
   "source": [
    "---"
   ]
  },
  {
   "cell_type": "markdown",
   "metadata": {},
   "source": [
    "The node edges and types are available. The ordering of these is important and maintained in all methods:"
   ]
  },
  {
   "cell_type": "code",
   "execution_count": 417,
   "metadata": {},
   "outputs": [
    {
     "data": {
      "text/plain": [
       "['movie', 'user']"
      ]
     },
     "execution_count": 417,
     "metadata": {},
     "output_type": "execute_result"
    }
   ],
   "source": [
    "gs.node_types"
   ]
  },
  {
   "cell_type": "code",
   "execution_count": 418,
   "metadata": {},
   "outputs": [
    {
     "data": {
      "text/plain": [
       "[EdgeType(n1='movie', rel='another', n2='user'),\n",
       " EdgeType(n1='movie', rel='rating', n2='user'),\n",
       " EdgeType(n1='user', rel='another', n2='movie'),\n",
       " EdgeType(n1='user', rel='friend', n2='user'),\n",
       " EdgeType(n1='user', rel='rating', n2='movie')]"
      ]
     },
     "execution_count": 418,
     "metadata": {},
     "output_type": "execute_result"
    }
   ],
   "source": [
    "gs.edge_types"
   ]
  },
  {
   "cell_type": "markdown",
   "metadata": {},
   "source": [
    "Nodes and edges have indices that should be extracted using the node_index and edge_index functions:"
   ]
  },
  {
   "cell_type": "code",
   "execution_count": 419,
   "metadata": {},
   "outputs": [
    {
     "data": {
      "text/plain": [
       "0"
      ]
     },
     "execution_count": 419,
     "metadata": {},
     "output_type": "execute_result"
    }
   ],
   "source": [
    "gs.node_index('movie')"
   ]
  },
  {
   "cell_type": "code",
   "execution_count": 420,
   "metadata": {},
   "outputs": [
    {
     "data": {
      "text/plain": [
       "4"
      ]
     },
     "execution_count": 420,
     "metadata": {},
     "output_type": "execute_result"
    }
   ],
   "source": [
    "gs.edge_index(('user', 'rating', 'movie'))"
   ]
  },
  {
   "cell_type": "markdown",
   "metadata": {},
   "source": [
    "Note for an undirected graph the index is different for the inverse direction.\n",
    "\n",
    "**TODO: Should we change this behaviour?**"
   ]
  },
  {
   "cell_type": "code",
   "execution_count": 421,
   "metadata": {},
   "outputs": [
    {
     "data": {
      "text/plain": [
       "1"
      ]
     },
     "execution_count": 421,
     "metadata": {},
     "output_type": "execute_result"
    }
   ],
   "source": [
    "gs.edge_index(('movie', 'rating', 'user'))"
   ]
  },
  {
   "cell_type": "markdown",
   "metadata": {},
   "source": [
    "---"
   ]
  },
  {
   "cell_type": "markdown",
   "metadata": {},
   "source": [
    "The graph schema can be used to quickly look up node and edge types:"
   ]
  },
  {
   "cell_type": "code",
   "execution_count": 435,
   "metadata": {},
   "outputs": [
    {
     "data": {
      "text/plain": [
       "'movie'"
      ]
     },
     "execution_count": 435,
     "metadata": {},
     "output_type": "execute_result"
    }
   ],
   "source": [
    "gs.get_node_type(0)"
   ]
  },
  {
   "cell_type": "markdown",
   "metadata": {},
   "source": [
    "We can easily do filtering of nodes and edges based on types:"
   ]
  },
  {
   "cell_type": "code",
   "execution_count": 443,
   "metadata": {},
   "outputs": [
    {
     "data": {
      "text/plain": [
       "[4, 5]"
      ]
     },
     "execution_count": 443,
     "metadata": {},
     "output_type": "execute_result"
    }
   ],
   "source": [
    "[ n for n in G if gs.get_node_type(n) == 'user' ]"
   ]
  },
  {
   "cell_type": "code",
   "execution_count": 444,
   "metadata": {},
   "outputs": [
    {
     "data": {
      "text/plain": [
       "[(0, 4, 0), (1, 4, 0), (1, 5, 0), (2, 4, 0), (3, 5, 0)]"
      ]
     },
     "execution_count": 444,
     "metadata": {},
     "output_type": "execute_result"
    }
   ],
   "source": [
    "[ e for e in G.edges(keys=True) if gs.is_of_edge_type(e, ('movie', 'rating', 'user')) ]"
   ]
  },
  {
   "cell_type": "markdown",
   "metadata": {},
   "source": [
    "This is a named tuple, so we can compare edges with tuples:"
   ]
  },
  {
   "cell_type": "code",
   "execution_count": 445,
   "metadata": {},
   "outputs": [
    {
     "data": {
      "text/plain": [
       "True"
      ]
     },
     "execution_count": 445,
     "metadata": {},
     "output_type": "execute_result"
    }
   ],
   "source": [
    "gs.get_edge_type((0,4,0)) == ('movie', 'rating', 'user')"
   ]
  },
  {
   "cell_type": "markdown",
   "metadata": {},
   "source": [
    "But this doesn't work:"
   ]
  },
  {
   "cell_type": "code",
   "execution_count": 446,
   "metadata": {},
   "outputs": [
    {
     "data": {
      "text/plain": [
       "False"
      ]
     },
     "execution_count": 446,
     "metadata": {},
     "output_type": "execute_result"
    }
   ],
   "source": [
    "gs.get_edge_type((4,0,0)) == ('movie', 'rating', 'user')"
   ]
  },
  {
   "cell_type": "markdown",
   "metadata": {},
   "source": [
    "Note that StellarGraph assumes there is only a single edge with the same edge type between two noddes.\n",
    "\n",
    "This isn't enforced ATM so things may break if we add multiple edges with the same edge type, even though NetworkX supports this by creating a new edge key."
   ]
  },
  {
   "cell_type": "code",
   "execution_count": 438,
   "metadata": {},
   "outputs": [],
   "source": [
    "G.add_edges_from([(0,4)], label=\"another\")\n",
    "gs = G.create_graph_schema(create_type_maps=True)"
   ]
  },
  {
   "cell_type": "code",
   "execution_count": 439,
   "metadata": {},
   "outputs": [
    {
     "data": {
      "text/plain": [
       "[(0, 4, 1), (0, 4, 2), (0, 4, 3), (1, 4, 1)]"
      ]
     },
     "execution_count": 439,
     "metadata": {},
     "output_type": "execute_result"
    }
   ],
   "source": [
    "[ e for e in G.edges(keys=True) if gs.get_edge_type(e) == ('movie', 'another', 'user') ]"
   ]
  },
  {
   "cell_type": "code",
   "execution_count": 440,
   "metadata": {},
   "outputs": [
    {
     "data": {
      "text/plain": [
       "[EdgeType(n1='user', rel='another', n2='movie'),\n",
       " EdgeType(n1='user', rel='friend', n2='user'),\n",
       " EdgeType(n1='user', rel='rating', n2='movie')]"
      ]
     },
     "execution_count": 440,
     "metadata": {},
     "output_type": "execute_result"
    }
   ],
   "source": [
    "gs.edge_types_for_node_type('user')"
   ]
  },
  {
   "cell_type": "markdown",
   "metadata": {},
   "source": [
    "Or the sampling adjacency list schema (for GraphSAGE)"
   ]
  },
  {
   "cell_type": "code",
   "execution_count": 442,
   "metadata": {},
   "outputs": [
    {
     "data": {
      "text/plain": [
       "[EdgeType(n1='user', rel='another', n2='movie'),\n",
       " EdgeType(n1='user', rel='friend', n2='user'),\n",
       " EdgeType(n1='user', rel='rating', n2='movie')]"
      ]
     },
     "execution_count": 442,
     "metadata": {},
     "output_type": "execute_result"
    }
   ],
   "source": [
    "gs.schema['user']"
   ]
  },
  {
   "cell_type": "code",
   "execution_count": 443,
   "metadata": {},
   "outputs": [
    {
     "data": {
      "text/plain": [
       "[('user', [2, 3, 4]),\n",
       " ('movie', [5, 6]),\n",
       " ('movie', [7, 8]),\n",
       " ('user', [9, 10, 11]),\n",
       " ('movie', [12, 13]),\n",
       " ('user', [14, 15, 16]),\n",
       " ('user', [17, 18, 19]),\n",
       " ('user', []),\n",
       " ('user', []),\n",
       " ('movie', []),\n",
       " ('user', []),\n",
       " ('movie', []),\n",
       " ('user', []),\n",
       " ('user', []),\n",
       " ('movie', []),\n",
       " ('user', []),\n",
       " ('movie', []),\n",
       " ('movie', []),\n",
       " ('user', []),\n",
       " ('movie', [])]"
      ]
     },
     "execution_count": 443,
     "metadata": {},
     "output_type": "execute_result"
    }
   ],
   "source": [
    "gs.get_type_adjacency_list(['user', 'movie'], n_hops=2)"
   ]
  },
  {
   "cell_type": "markdown",
   "metadata": {},
   "source": [
    "---"
   ]
  },
  {
   "cell_type": "markdown",
   "metadata": {},
   "source": [
    "## Walkers and Mappers"
   ]
  },
  {
   "cell_type": "code",
   "execution_count": 447,
   "metadata": {},
   "outputs": [],
   "source": [
    "from stellar.data.explorer import *"
   ]
  },
  {
   "cell_type": "markdown",
   "metadata": {},
   "source": [
    "### Homogeneous Graph"
   ]
  },
  {
   "cell_type": "code",
   "execution_count": 448,
   "metadata": {},
   "outputs": [
    {
     "data": {
      "text/plain": [
       "GraphSchema:\n",
       "node type: node\n",
       "   node -- edge -> node"
      ]
     },
     "execution_count": 448,
     "metadata": {},
     "output_type": "execute_result"
    }
   ],
   "source": [
    "G = StellarGraph()\n",
    "G.add_nodes_from([0, 1, 2, 3, 4, 5, 6], label=\"node\")\n",
    "e_keys = G.add_edges_from([(0, 3), (1, 2), (1, 3), (4, 5)], label=\"edge\")\n",
    "\n",
    "gs = G.create_graph_schema(create_type_maps=True)\n",
    "gs"
   ]
  },
  {
   "cell_type": "code",
   "execution_count": 449,
   "metadata": {},
   "outputs": [],
   "source": [
    "walker = SampledBreadthFirstWalk(G)"
   ]
  },
  {
   "cell_type": "code",
   "execution_count": 450,
   "metadata": {},
   "outputs": [
    {
     "data": {
      "text/plain": [
       "[[0, 3, 3, 1, 1, 0, 0, 1, 1],\n",
       " [1, 2, 3, 1, 1, 1, 1, 0, 0],\n",
       " [4, 5, 5, 4, 4, 4, 4, 4, 4]]"
      ]
     },
     "execution_count": 450,
     "metadata": {},
     "output_type": "execute_result"
    }
   ],
   "source": [
    "node_samples = walker.run(nodes=[0, 1, 4], n_size=[2, 3])\n",
    "node_samples"
   ]
  },
  {
   "cell_type": "markdown",
   "metadata": {},
   "source": [
    "Proposed format:"
   ]
  },
  {
   "cell_type": "code",
   "execution_count": 451,
   "metadata": {},
   "outputs": [
    {
     "data": {
      "text/plain": [
       "[[[0], [3, 3], [1, 1, 0], [0, 1, 1]],\n",
       " [[1], [2, 3], [1, 1, 1], [1, 0, 0]],\n",
       " [[4], [5, 5], [4, 4, 4], [4, 4, 4]]]"
      ]
     },
     "execution_count": 451,
     "metadata": {},
     "output_type": "execute_result"
    }
   ],
   "source": [
    "def get_levels(samples_per_hop, walks):\n",
    "    loc = 0\n",
    "    ssize = 1\n",
    "    lol_walks = [[] for ii in range(len(walks))]\n",
    "    for nsamples in [1] + samples_per_hop:\n",
    "        for ii in range(ssize):\n",
    "            end_loc = loc + nsamples\n",
    "            for ii in range(len(walks)):\n",
    "                lol_walks[ii].append(walks[ii][loc:end_loc])\n",
    "            loc = end_loc\n",
    "        ssize = nsamples*ssize\n",
    "    return lol_walks\n",
    "\n",
    "get_levels([2,3], node_samples)"
   ]
  },
  {
   "cell_type": "markdown",
   "metadata": {},
   "source": [
    "Isolated nodes:"
   ]
  },
  {
   "cell_type": "code",
   "execution_count": 452,
   "metadata": {},
   "outputs": [
    {
     "ename": "ValueError",
     "evalue": "(SampledBreadthFirstWalk) Node with id 6 has no neighbours and no self link. I don't know what to do!",
     "output_type": "error",
     "traceback": [
      "\u001b[0;31m---------------------------------------------------------------------------\u001b[0m",
      "\u001b[0;31mValueError\u001b[0m                                Traceback (most recent call last)",
      "\u001b[0;32m<ipython-input-452-19d5d4e08d8a>\u001b[0m in \u001b[0;36m<module>\u001b[0;34m()\u001b[0m\n\u001b[0;32m----> 1\u001b[0;31m \u001b[0mwalker\u001b[0m\u001b[0;34m.\u001b[0m\u001b[0mrun\u001b[0m\u001b[0;34m(\u001b[0m\u001b[0mnodes\u001b[0m\u001b[0;34m=\u001b[0m\u001b[0;34m[\u001b[0m\u001b[0;36m6\u001b[0m\u001b[0;34m]\u001b[0m\u001b[0;34m,\u001b[0m \u001b[0mn_size\u001b[0m\u001b[0;34m=\u001b[0m\u001b[0;34m[\u001b[0m\u001b[0;36m2\u001b[0m\u001b[0;34m,\u001b[0m \u001b[0;36m2\u001b[0m\u001b[0;34m]\u001b[0m\u001b[0;34m)\u001b[0m\u001b[0;34m\u001b[0m\u001b[0m\n\u001b[0m",
      "\u001b[0;32m~/Code/stellar-ml/stellar/data/explorer.py\u001b[0m in \u001b[0;36mrun\u001b[0;34m(self, nodes, n, n_size)\u001b[0m\n\u001b[1;32m    457\u001b[0m                             raise ValueError(\n\u001b[1;32m    458\u001b[0m                                 \"({}) Node with id {} has no neighbours and no self link. I don't know what to do!\".format(\n\u001b[0;32m--> 459\u001b[0;31m                                     \u001b[0mtype\u001b[0m\u001b[0;34m(\u001b[0m\u001b[0mself\u001b[0m\u001b[0;34m)\u001b[0m\u001b[0;34m.\u001b[0m\u001b[0m__name__\u001b[0m\u001b[0;34m,\u001b[0m \u001b[0mfrontier\u001b[0m\u001b[0;34m[\u001b[0m\u001b[0;36m0\u001b[0m\u001b[0;34m]\u001b[0m\u001b[0;34m\u001b[0m\u001b[0m\n\u001b[0m\u001b[1;32m    460\u001b[0m                                 )\n\u001b[1;32m    461\u001b[0m                             )\n",
      "\u001b[0;31mValueError\u001b[0m: (SampledBreadthFirstWalk) Node with id 6 has no neighbours and no self link. I don't know what to do!"
     ]
    }
   ],
   "source": [
    "walker.run(nodes=[6], n_size=[2, 2])"
   ]
  },
  {
   "cell_type": "markdown",
   "metadata": {},
   "source": [
    "### Heterogeneous graph"
   ]
  },
  {
   "cell_type": "code",
   "execution_count": 479,
   "metadata": {},
   "outputs": [
    {
     "data": {
      "text/plain": [
       "GraphSchema:\n",
       "node type: movie\n",
       "   movie -- rating -> user\n",
       "node type: user\n",
       "   user -- friend -> user\n",
       "   user -- rating -> movie"
      ]
     },
     "execution_count": 479,
     "metadata": {},
     "output_type": "execute_result"
    }
   ],
   "source": [
    "G = StellarGraph()\n",
    "G.add_nodes_from([0, 1, 2, 3], label=\"movie\")\n",
    "G.add_nodes_from([4, 5], label=\"user\")\n",
    "e_keys = G.add_edges_from([(0, 4), (1, 4), (1, 5), (2, 4), (3, 5)], label=\"rating\")\n",
    "#e_keys = G.add_edges_from([(0, 4), (1, 4)], label=\"another\")\n",
    "e_keys = G.add_edges_from([(4, 5)], label=\"friend\")\n",
    "\n",
    "gs = G.create_graph_schema(create_type_maps=True)\n",
    "gs"
   ]
  },
  {
   "cell_type": "code",
   "execution_count": 475,
   "metadata": {},
   "outputs": [
    {
     "data": {
      "text/plain": [
       "GraphSchema:\n",
       "node type: movie\n",
       "node type: user\n",
       "   user -- rating -> movie"
      ]
     },
     "execution_count": 475,
     "metadata": {},
     "output_type": "execute_result"
    }
   ],
   "source": [
    "G = StellarDiGraph()\n",
    "G.add_nodes_from([0, 1, 2, 3], label=\"movie\")\n",
    "G.add_nodes_from([4, 5], label=\"user\")\n",
    "G.add_edges_from([(4, 0), (4, 1), (5, 1), (4, 2), (5, 3)], label=\"rating\")\n",
    "\n",
    "gs = G.create_graph_schema()\n",
    "gs"
   ]
  },
  {
   "cell_type": "code",
   "execution_count": 480,
   "metadata": {},
   "outputs": [
    {
     "data": {
      "text/plain": [
       "[EdgeType(n1='user', rel='friend', n2='user'),\n",
       " EdgeType(n1='user', rel='rating', n2='movie')]"
      ]
     },
     "execution_count": 480,
     "metadata": {},
     "output_type": "execute_result"
    }
   ],
   "source": [
    "gs.edge_types_for_node_type('user')"
   ]
  },
  {
   "cell_type": "code",
   "execution_count": 481,
   "metadata": {},
   "outputs": [
    {
     "data": {
      "text/plain": [
       "[EdgeType(n1='movie', rel='rating', n2='user')]"
      ]
     },
     "execution_count": 481,
     "metadata": {},
     "output_type": "execute_result"
    }
   ],
   "source": [
    "gs.edge_types_for_node_type('movie')"
   ]
  },
  {
   "cell_type": "code",
   "execution_count": 482,
   "metadata": {},
   "outputs": [
    {
     "data": {
      "text/plain": [
       "EdgeType(n1='movie', rel='rating', n2='user')"
      ]
     },
     "execution_count": 482,
     "metadata": {},
     "output_type": "execute_result"
    }
   ],
   "source": [
    "gs.get_edge_type((0,4,0))"
   ]
  },
  {
   "cell_type": "markdown",
   "metadata": {},
   "source": [
    "Sample nodes by edge type for each head node"
   ]
  },
  {
   "cell_type": "markdown",
   "metadata": {},
   "source": [
    "First layer:\n",
    "* sample from 'user' nodes"
   ]
  },
  {
   "cell_type": "code",
   "execution_count": 483,
   "metadata": {},
   "outputs": [
    {
     "name": "stdout",
     "output_type": "stream",
     "text": [
      "[[EdgeType(n1='user', rel='friend', n2='user'), EdgeType(n1='user', rel='rating', n2='movie')]]\n"
     ]
    }
   ],
   "source": [
    "head_node_types = ['user']\n",
    "edges_1 = [gs.edge_types_for_node_type(hn) for hn in head_node_types]\n",
    "print(edges_1)"
   ]
  },
  {
   "cell_type": "markdown",
   "metadata": {},
   "source": [
    "Second layer:\n",
    "* Sample from final node types: 'movie' and 'movie'"
   ]
  },
  {
   "cell_type": "code",
   "execution_count": 484,
   "metadata": {},
   "outputs": [
    {
     "name": "stdout",
     "output_type": "stream",
     "text": [
      "[[EdgeType(n1='user', rel='friend', n2='user'), EdgeType(n1='user', rel='rating', n2='movie')], [EdgeType(n1='movie', rel='rating', n2='user')]]\n"
     ]
    }
   ],
   "source": [
    "edges_2 = [gs.edge_types_for_node_type(et.n2) for edge_types in edges_1 for et in edge_types]\n",
    "print(edges_2)"
   ]
  },
  {
   "cell_type": "markdown",
   "metadata": {},
   "source": [
    "Expected node types for sampling:"
   ]
  },
  {
   "cell_type": "code",
   "execution_count": 485,
   "metadata": {},
   "outputs": [
    {
     "data": {
      "text/plain": [
       "['user', 'user', 'movie', 'user', 'movie', 'user']"
      ]
     },
     "execution_count": 485,
     "metadata": {},
     "output_type": "execute_result"
    }
   ],
   "source": [
    "head_node_types + [et.n2 for edge_types in edges_1 for et in edge_types] + [et.n2 for edge_types in edges_2 for et in edge_types]"
   ]
  },
  {
   "cell_type": "markdown",
   "metadata": {},
   "source": [
    "Note this matches the expected node types for GraphSAGE"
   ]
  },
  {
   "cell_type": "code",
   "execution_count": 495,
   "metadata": {},
   "outputs": [
    {
     "data": {
      "text/plain": [
       "[('user', [1, 2]),\n",
       " ('user', [3, 4]),\n",
       " ('movie', [5]),\n",
       " ('user', []),\n",
       " ('movie', []),\n",
       " ('user', [])]"
      ]
     },
     "execution_count": 495,
     "metadata": {},
     "output_type": "execute_result"
    }
   ],
   "source": [
    "gs.get_type_adjacency_list(head_node_types, 2)"
   ]
  },
  {
   "cell_type": "markdown",
   "metadata": {},
   "source": [
    "Therefore we can use the edge types given in `gs.edge_types_for_node_type` to sample nodes for HinSAGE:"
   ]
  },
  {
   "cell_type": "code",
   "execution_count": 494,
   "metadata": {},
   "outputs": [
    {
     "name": "stdout",
     "output_type": "stream",
     "text": [
      "sampling: 4 user\n",
      "\t EdgeType(n1='user', rel='friend', n2='user') [5] [5, 5]\n",
      "\t EdgeType(n1='user', rel='rating', n2='movie') [0, 1, 2] [2, 2]\n",
      "sampling: 5 user\n",
      "\t EdgeType(n1='user', rel='friend', n2='user') [4] [4, 4, 4]\n",
      "\t EdgeType(n1='user', rel='rating', n2='movie') [1, 3] [1, 1, 3]\n",
      "sampling: 5 user\n",
      "\t EdgeType(n1='user', rel='friend', n2='user') [4] [4, 4, 4]\n",
      "\t EdgeType(n1='user', rel='rating', n2='movie') [1, 3] [3, 1, 1]\n",
      "sampling: 2 movie\n",
      "\t EdgeType(n1='movie', rel='rating', n2='user') [4] [4, 4, 4]\n",
      "sampling: 2 movie\n",
      "\t EdgeType(n1='movie', rel='rating', n2='user') [4] [4, 4, 4]\n"
     ]
    }
   ],
   "source": [
    "head_nodes = [4]\n",
    "\n",
    "het_samples = [head_nodes]\n",
    "n_size = [2,3]\n",
    "for ii,nsamples in enumerate(n_size):\n",
    "    next_heads = []\n",
    "    for hn in head_nodes:\n",
    "        nt1 = gs.get_node_type(hn)\n",
    "        edge_types = gs.edge_types_for_node_type(nt1)\n",
    "        neighs = dict(G.adj[hn])\n",
    "        print(\"sampling:\", hn, nt1)\n",
    "        for et in edge_types:\n",
    "            neigh_et = [n2 for n2,nkeys in neighs.items() for k in iter(nkeys) if gs.is_of_edge_type((hn, n2, k), et)]\n",
    "            samples = random.choices(neigh_et, k=nsamples) if len(neigh_et)>0 else []\n",
    "            print(\"\\t\", et, neigh_et, samples)\n",
    "            \n",
    "            het_samples.append(samples)\n",
    "            next_heads.extend(samples)\n",
    "    head_nodes = next_heads\n",
    "        "
   ]
  },
  {
   "cell_type": "code",
   "execution_count": 490,
   "metadata": {},
   "outputs": [
    {
     "data": {
      "text/plain": [
       "[[4],\n",
       " [5, 5],\n",
       " [2, 2],\n",
       " [4, 4, 4],\n",
       " [1, 1, 1],\n",
       " [4, 4, 4],\n",
       " [1, 3, 3],\n",
       " [4, 4, 4],\n",
       " [4, 4, 4]]"
      ]
     },
     "execution_count": 490,
     "metadata": {},
     "output_type": "execute_result"
    }
   ],
   "source": [
    "het_samples"
   ]
  },
  {
   "cell_type": "code",
   "execution_count": null,
   "metadata": {},
   "outputs": [],
   "source": []
  }
 ],
 "metadata": {
  "kernelspec": {
   "display_name": "Stellar ML [3]",
   "language": "python",
   "name": "stellarml"
  },
  "language_info": {
   "codemirror_mode": {
    "name": "ipython",
    "version": 3
   },
   "file_extension": ".py",
   "mimetype": "text/x-python",
   "name": "python",
   "nbconvert_exporter": "python",
   "pygments_lexer": "ipython3",
   "version": "3.6.5"
  }
 },
 "nbformat": 4,
 "nbformat_minor": 2
}
