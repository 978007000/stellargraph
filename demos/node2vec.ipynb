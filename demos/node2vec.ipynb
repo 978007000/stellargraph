{
 "cells": [
  {
   "cell_type": "markdown",
   "metadata": {},
   "source": [
    "This is a mockup of node2vec model created with stellar graph ml library"
   ]
  },
  {
   "cell_type": "code",
   "execution_count": null,
   "metadata": {},
   "outputs": [],
   "source": [
    "import tensorflow as tf\n",
    "import numpy as np\n",
    "import networkx as nx\n",
    "\n",
    "import stellar_ml as sml"
   ]
  },
  {
   "cell_type": "markdown",
   "metadata": {},
   "source": [
    "Steps:\n",
    "- Load a graph with GraphLoader\n",
    "- Create an instance of random walk generator (class imported from the library); generate random walks on the graph, return random_walks\n",
    "- Create an instance of (node,context) pairs generator (class imported from the library), connect to random_walks\n",
    "- Build a tensorflow model for word2vec:\n",
    "    - create placeholders for the input (node,context) pairs\n",
    "    - create the layers: embeddings, context_softmax - use layers from the library, or layers from tf or keras?\n",
    "    - create the loss:\n",
    "            nce_loss = tf.reduce_mean(\n",
    "                       tf.nn.nce_loss(weights=nce_weights,\n",
    "                       biases=nce_biases,\n",
    "                       labels=train_context,\n",
    "                       inputs=embed,\n",
    "                       num_sampled=num_sampled,\n",
    "                       num_classes=vocabulary_size))\n",
    "    - create an optimizer\n",
    "- Train the word2vec model in a session\n",
    "    - create minibatches of (node,context) pairs using the generator\n",
    "    - loop through the minibatches, feeding them to the model\n",
    "    - optimise the model's loss\n",
    "    - repeat for n_epoch epochs\n",
    "- Extract the final node embeddings"
   ]
  },
  {
   "cell_type": "markdown",
   "metadata": {},
   "source": [
    "Load the graph:"
   ]
  },
  {
   "cell_type": "code",
   "execution_count": null,
   "metadata": {},
   "outputs": [],
   "source": [
    "g = sml.graphloader.load('path/to/graph')  # this should support multiple graph formats: EPGM, networkx, graphml, and\n",
    "                                            # the result should be a networkx graph (probably the most general MultiDiGraph)\n",
    "    \n",
    "assert hasattr(g, 'graph')   # G should be a networkx graph object"
   ]
  },
  {
   "cell_type": "markdown",
   "metadata": {},
   "source": [
    "Create an instance of graph random walk generator, and use it to generate random walks on g:"
   ]
  },
  {
   "cell_type": "code",
   "execution_count": null,
   "metadata": {},
   "outputs": [],
   "source": [
    "rw = sml.graph_exploration.UniformRandomWalk(g, numWalks, walkLength, p, q, seed)\n",
    "walks = rw.generate()   # perform random walks on g and return a list of walks (node sequences)"
   ]
  },
  {
   "cell_type": "code",
   "execution_count": null,
   "metadata": {},
   "outputs": [],
   "source": []
  },
  {
   "cell_type": "code",
   "execution_count": null,
   "metadata": {},
   "outputs": [],
   "source": []
  },
  {
   "cell_type": "code",
   "execution_count": null,
   "metadata": {},
   "outputs": [],
   "source": []
  },
  {
   "cell_type": "code",
   "execution_count": null,
   "metadata": {},
   "outputs": [],
   "source": []
  },
  {
   "cell_type": "code",
   "execution_count": null,
   "metadata": {},
   "outputs": [],
   "source": [
    "import networkx as nx\n",
    "g = nx.Graph()"
   ]
  },
  {
   "cell_type": "code",
   "execution_count": null,
   "metadata": {},
   "outputs": [],
   "source": []
  }
 ],
 "metadata": {
  "kernelspec": {
   "display_name": "Python 3",
   "language": "python",
   "name": "python3"
  },
  "language_info": {
   "codemirror_mode": {
    "name": "ipython",
    "version": 3
   },
   "file_extension": ".py",
   "mimetype": "text/x-python",
   "name": "python",
   "nbconvert_exporter": "python",
   "pygments_lexer": "ipython3",
   "version": "3.6.4"
  }
 },
 "nbformat": 4,
 "nbformat_minor": 2
}
