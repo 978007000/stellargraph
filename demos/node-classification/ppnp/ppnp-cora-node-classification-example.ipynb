{
 "cells": [
  {
   "cell_type": "markdown",
   "metadata": {},
   "source": [
    "# Stellargraph example: Personalised Propagation of Neural Predictions (PPNP) and Approximate PPNP (APPNP) on the CORA citation dataset"
   ]
  },
  {
   "cell_type": "markdown",
   "metadata": {},
   "source": [
    "Import NetworkX and stellar:"
   ]
  },
  {
   "cell_type": "code",
   "execution_count": 26,
   "metadata": {},
   "outputs": [],
   "source": [
    "import networkx as nx\n",
    "import pandas as pd\n",
    "import os\n",
    "from tensorflow import keras\n",
    "from tensorflow.keras.callbacks import EarlyStopping, ModelCheckpoint\n",
    "\n",
    "import stellargraph as sg\n",
    "from stellargraph.mapper import FullBatchNodeGenerator\n",
    "from stellargraph.layer.ppnp import PPNP\n",
    "from stellargraph.layer.appnp import APPNP\n",
    "\n",
    "from tensorflow.keras import layers, optimizers, losses, metrics, Model\n",
    "from sklearn import preprocessing, feature_extraction, model_selection"
   ]
  },
  {
   "cell_type": "markdown",
   "metadata": {},
   "source": [
    "### Loading the CORA network"
   ]
  },
  {
   "cell_type": "markdown",
   "metadata": {},
   "source": [
    "**Downloading the CORA dataset:**\n",
    "    \n",
    "The dataset used in this demo can be downloaded from [here](https://linqs-data.soe.ucsc.edu/public/lbc/cora.tgz).\n",
    "\n",
    "The following is the description of the dataset:\n",
    "> The Cora dataset consists of 2708 scientific publications classified into one of seven classes.\n",
    "> The citation network consists of 5429 links. Each publication in the dataset is described by a\n",
    "> 0/1-valued word vector indicating the absence/presence of the corresponding word from the dictionary.\n",
    "> The dictionary consists of 1433 unique words. The README file in the dataset provides more details.\n",
    "\n",
    "Download and unzip the cora.tgz file to a location on your computer and set the `data_dir` variable to\n",
    "point to the location of the dataset (the directory containing \"cora.cites\" and \"cora.content\")."
   ]
  },
  {
   "cell_type": "code",
   "execution_count": 2,
   "metadata": {},
   "outputs": [],
   "source": [
    "data_dir = os.path.expanduser(\"~/data/cora\")"
   ]
  },
  {
   "cell_type": "markdown",
   "metadata": {},
   "source": [
    "Load the graph from edgelist (in the order `cited-paper` <- `citing-paper`)"
   ]
  },
  {
   "cell_type": "code",
   "execution_count": 3,
   "metadata": {},
   "outputs": [],
   "source": [
    "edgelist = pd.read_csv(os.path.join(data_dir, \"cora.cites\"), sep='\\t', header=None, names=[\"target\", \"source\"])\n",
    "edgelist[\"label\"] = \"cites\""
   ]
  },
  {
   "cell_type": "code",
   "execution_count": 4,
   "metadata": {},
   "outputs": [],
   "source": [
    "Gnx = nx.from_pandas_edgelist(edgelist, edge_attr=\"label\")"
   ]
  },
  {
   "cell_type": "code",
   "execution_count": 5,
   "metadata": {},
   "outputs": [],
   "source": [
    "nx.set_node_attributes(Gnx, \"paper\", \"label\")"
   ]
  },
  {
   "cell_type": "markdown",
   "metadata": {},
   "source": [
    "Load the features and subject for the nodes"
   ]
  },
  {
   "cell_type": "code",
   "execution_count": 6,
   "metadata": {},
   "outputs": [],
   "source": [
    "feature_names = [\"w_{}\".format(ii) for ii in range(1433)]\n",
    "column_names =  feature_names + [\"subject\"]\n",
    "node_data = pd.read_csv(os.path.join(data_dir, \"cora.content\"), sep='\\t', header=None, names=column_names)"
   ]
  },
  {
   "cell_type": "markdown",
   "metadata": {},
   "source": [
    "We aim to train a graph-ML model that will predict the \"subject\" attribute on the nodes. These subjects are one of 7 categories:"
   ]
  },
  {
   "cell_type": "code",
   "execution_count": 7,
   "metadata": {},
   "outputs": [
    {
     "data": {
      "text/plain": [
       "{'Case_Based',\n",
       " 'Genetic_Algorithms',\n",
       " 'Neural_Networks',\n",
       " 'Probabilistic_Methods',\n",
       " 'Reinforcement_Learning',\n",
       " 'Rule_Learning',\n",
       " 'Theory'}"
      ]
     },
     "execution_count": 7,
     "metadata": {},
     "output_type": "execute_result"
    }
   ],
   "source": [
    "set(node_data[\"subject\"])"
   ]
  },
  {
   "cell_type": "markdown",
   "metadata": {},
   "source": [
    "### Splitting the data"
   ]
  },
  {
   "cell_type": "markdown",
   "metadata": {},
   "source": [
    "For machine learning we want to take a subset of the nodes for training, and use the rest for validation and testing. We'll use scikit-learn again to do this.\n",
    "\n",
    "Here we're taking 140 node labels for training, 500 for validation, and the rest for testing."
   ]
  },
  {
   "cell_type": "code",
   "execution_count": 8,
   "metadata": {},
   "outputs": [],
   "source": [
    "train_data, test_data = model_selection.train_test_split(\n",
    "    node_data, train_size=140, test_size=None, stratify=node_data['subject']\n",
    ")\n",
    "val_data, test_data = model_selection.train_test_split(\n",
    "    test_data, train_size=500, test_size=None, stratify=test_data['subject']\n",
    ")"
   ]
  },
  {
   "cell_type": "markdown",
   "metadata": {},
   "source": [
    "Note using stratified sampling gives the following counts:"
   ]
  },
  {
   "cell_type": "code",
   "execution_count": 9,
   "metadata": {},
   "outputs": [
    {
     "data": {
      "text/plain": [
       "Counter({'Case_Based': 16,\n",
       "         'Genetic_Algorithms': 22,\n",
       "         'Probabilistic_Methods': 22,\n",
       "         'Reinforcement_Learning': 11,\n",
       "         'Neural_Networks': 42,\n",
       "         'Theory': 18,\n",
       "         'Rule_Learning': 9})"
      ]
     },
     "execution_count": 9,
     "metadata": {},
     "output_type": "execute_result"
    }
   ],
   "source": [
    "from collections import Counter\n",
    "Counter(train_data['subject'])"
   ]
  },
  {
   "cell_type": "markdown",
   "metadata": {},
   "source": [
    "The training set has class imbalance that might need to be compensated, e.g., via using a weighted cross-entropy loss in model training, with class weights inversely proportional to class support. However, we will ignore the class imbalance in this example, for simplicity."
   ]
  },
  {
   "cell_type": "markdown",
   "metadata": {},
   "source": [
    "### Converting to numeric arrays"
   ]
  },
  {
   "cell_type": "markdown",
   "metadata": {},
   "source": [
    "For our categorical target, we will use one-hot vectors that will be fed into a soft-max Keras layer during training. To do this conversion ..."
   ]
  },
  {
   "cell_type": "code",
   "execution_count": 10,
   "metadata": {},
   "outputs": [],
   "source": [
    "target_encoding = feature_extraction.DictVectorizer(sparse=False)\n",
    "\n",
    "train_targets = target_encoding.fit_transform(train_data[[\"subject\"]].to_dict('records'))\n",
    "val_targets = target_encoding.transform(val_data[[\"subject\"]].to_dict('records'))\n",
    "test_targets = target_encoding.transform(test_data[[\"subject\"]].to_dict('records'))"
   ]
  },
  {
   "cell_type": "markdown",
   "metadata": {},
   "source": [
    "We now do the same for the node attributes we want to use to predict the subject. These are the feature vectors that the Keras model will use as input. The CORA dataset contains attributes 'w_x' that correspond to words found in that publication. If a word occurs more than once in a publication the relevant attribute will be set to one, otherwise it will be zero."
   ]
  },
  {
   "cell_type": "code",
   "execution_count": 11,
   "metadata": {},
   "outputs": [],
   "source": [
    "node_features = node_data[feature_names]"
   ]
  },
  {
   "cell_type": "markdown",
   "metadata": {},
   "source": [
    "## Creating the PPNP model in Keras"
   ]
  },
  {
   "cell_type": "markdown",
   "metadata": {},
   "source": [
    "Now create a StellarGraph object from the NetworkX graph and the node features and targets. It is StellarGraph objects that we use in this library to perform machine learning tasks on."
   ]
  },
  {
   "cell_type": "code",
   "execution_count": 12,
   "metadata": {},
   "outputs": [],
   "source": [
    "G = sg.StellarGraph(Gnx, node_features=node_features)"
   ]
  },
  {
   "cell_type": "code",
   "execution_count": 13,
   "metadata": {},
   "outputs": [
    {
     "name": "stdout",
     "output_type": "stream",
     "text": [
      "StellarGraph: Undirected multigraph\n",
      " Nodes: 2708, Edges: 5278\n",
      "\n",
      " Node types:\n",
      "  paper: [2708]\n",
      "    Edge types: paper-cites->paper\n",
      "\n",
      " Edge types:\n",
      "    paper-cites->paper: [5278]\n",
      "\n"
     ]
    }
   ],
   "source": [
    "print(G.info())"
   ]
  },
  {
   "cell_type": "markdown",
   "metadata": {},
   "source": [
    "To feed data from the graph to the Keras model we need a generator. Since PPNP is a full-batch model, we use the `FullBatchNodeGenerator` class to feed node features and the normalized graph Laplacian matrix to the model.\n",
    "\n",
    "Specifying the `method='gcn'` argument to the `FullBatchNodeGenerator` will pre-process the adjacency matrix and supply the normalized graph Laplacian matrix to the model."
   ]
  },
  {
   "cell_type": "code",
   "execution_count": 14,
   "metadata": {},
   "outputs": [
    {
     "name": "stdout",
     "output_type": "stream",
     "text": [
      "Using GCN (local pooling) filters...\n"
     ]
    }
   ],
   "source": [
    "generator = FullBatchNodeGenerator(G, method=\"gcn\")"
   ]
  },
  {
   "cell_type": "markdown",
   "metadata": {},
   "source": [
    "For training we map only the training nodes returned from our splitter and the target values."
   ]
  },
  {
   "cell_type": "code",
   "execution_count": 15,
   "metadata": {},
   "outputs": [],
   "source": [
    "train_gen = generator.flow(train_data.index, train_targets)"
   ]
  },
  {
   "cell_type": "markdown",
   "metadata": {},
   "source": [
    "Now we can specify our machine learning model, we need a few more parameters for this:\n",
    "\n",
    " * the `layer_sizes` is a list of hidden feature sizes of each full fully connected layer in the model. In this example we use three fully connected layers with 64,64, and 7 hidden node features at each layer. \n",
    " * `activations` is a list of activations applied to each layer's output\n",
    " * `dropout=0.5` specifies a 50% dropout at each layer. \n",
    " \n",
    " #### Note that the size of the final fully connected layer must be equal to the number of classes you are trying to predict.\n"
   ]
  },
  {
   "cell_type": "markdown",
   "metadata": {},
   "source": [
    "We create a PPNP model as follows:"
   ]
  },
  {
   "cell_type": "code",
   "execution_count": 16,
   "metadata": {},
   "outputs": [
    {
     "name": "stdout",
     "output_type": "stream",
     "text": [
      "WARNING:tensorflow:From /home/kieran/.conda/envs/stellar-tf/lib/python3.6/site-packages/tensorflow/python/ops/init_ops.py:1251: calling VarianceScaling.__init__ (from tensorflow.python.ops.init_ops) with dtype is deprecated and will be removed in a future version.\n",
      "Instructions for updating:\n",
      "Call initializer instance with the dtype argument instead of passing it to the constructor\n"
     ]
    }
   ],
   "source": [
    "ppnp = PPNP([64, 64, 7], ['relu', 'relu', 'relu'], \n",
    "             generator, transport_probability=0.1, \n",
    "              dropout=0.5, kernel_regularizer=keras.regularizers.l2(0.001))\n",
    "\n",
    "x_inp, x_out = ppnp.node_model()\n",
    "\n",
    "model = keras.models.Model(inputs=x_inp, outputs=x_out)\n",
    "model.compile(loss='categorical_crossentropy', metrics=['acc'],\n",
    "                  optimizer=keras.optimizers.Adam(lr=0.01))\n"
   ]
  },
  {
   "cell_type": "markdown",
   "metadata": {},
   "source": [
    "### Training the model"
   ]
  },
  {
   "cell_type": "markdown",
   "metadata": {},
   "source": [
    "Now let's create the actual Keras model with the input tensors `x_inp` and output tensors being the predictions `predictions` from the final dense layer"
   ]
  },
  {
   "cell_type": "code",
   "execution_count": 17,
   "metadata": {},
   "outputs": [],
   "source": [
    "model = Model(inputs=x_inp, outputs=x_out)\n",
    "model.compile(\n",
    "    optimizer=optimizers.Adam(lr=0.01),\n",
    "    loss=losses.categorical_crossentropy,\n",
    "    metrics=[\"acc\"],\n",
    ")"
   ]
  },
  {
   "cell_type": "markdown",
   "metadata": {},
   "source": [
    "Train the model, keeping track of its loss and accuracy on the training set, and its generalisation performance on the validation set (we need to create another generator over the validation data for this)"
   ]
  },
  {
   "cell_type": "code",
   "execution_count": 18,
   "metadata": {},
   "outputs": [],
   "source": [
    "val_gen = generator.flow(val_data.index, val_targets)"
   ]
  },
  {
   "cell_type": "markdown",
   "metadata": {},
   "source": [
    "Create callbacks for early stopping (if validation accuracy stops improving) and best model checkpoint saving:"
   ]
  },
  {
   "cell_type": "code",
   "execution_count": 19,
   "metadata": {},
   "outputs": [],
   "source": [
    "if not os.path.isdir(\"logs\"):\n",
    "    os.makedirs(\"logs\")"
   ]
  },
  {
   "cell_type": "code",
   "execution_count": null,
   "metadata": {},
   "outputs": [],
   "source": [
    "es_callback = EarlyStopping(monitor=\"val_acc\", patience=50)  # patience is the number of epochs to wait before early stopping in case of no further improvement\n",
    "\n",
    "mc_callback = ModelCheckpoint(\n",
    "    \"logs/best_ppnp_model.h5\",\n",
    "    monitor=\"val_acc\",\n",
    "    save_best_only=True,\n",
    "    save_weights_only=True,\n",
    ")"
   ]
  },
  {
   "cell_type": "markdown",
   "metadata": {},
   "source": [
    "Train the model"
   ]
  },
  {
   "cell_type": "code",
   "execution_count": 22,
   "metadata": {},
   "outputs": [
    {
     "name": "stdout",
     "output_type": "stream",
     "text": [
      "Epoch 1/80\n",
      "WARNING:tensorflow:From /home/kieran/.conda/envs/stellar-tf/lib/python3.6/site-packages/tensorflow/python/ops/math_grad.py:1250: add_dispatch_support.<locals>.wrapper (from tensorflow.python.ops.array_ops) is deprecated and will be removed in a future version.\n",
      "Instructions for updating:\n",
      "Use tf.where in 2.0, which has the same broadcast rule as np.where\n",
      "1/1 - 1s - loss: 2.1381 - acc: 0.1786 - val_loss: 2.0742 - val_acc: 0.3020\n",
      "Epoch 2/80\n",
      "1/1 - 0s - loss: 2.0591 - acc: 0.2929 - val_loss: 2.0049 - val_acc: 0.3020\n",
      "Epoch 3/80\n",
      "1/1 - 0s - loss: 2.0039 - acc: 0.2786 - val_loss: 1.9491 - val_acc: 0.3020\n",
      "Epoch 4/80\n",
      "1/1 - 0s - loss: 1.9633 - acc: 0.2929 - val_loss: 1.9047 - val_acc: 0.3020\n",
      "Epoch 5/80\n",
      "1/1 - 0s - loss: 1.9323 - acc: 0.2929 - val_loss: 1.8628 - val_acc: 0.3020\n",
      "Epoch 6/80\n",
      "1/1 - 0s - loss: 1.8877 - acc: 0.3071 - val_loss: 1.8269 - val_acc: 0.3060\n",
      "Epoch 7/80\n",
      "1/1 - 0s - loss: 1.8214 - acc: 0.3214 - val_loss: 1.7874 - val_acc: 0.4320\n",
      "Epoch 8/80\n",
      "1/1 - 0s - loss: 1.7458 - acc: 0.3571 - val_loss: 1.7358 - val_acc: 0.5280\n",
      "Epoch 9/80\n",
      "1/1 - 0s - loss: 1.7150 - acc: 0.4357 - val_loss: 1.6681 - val_acc: 0.5580\n",
      "Epoch 10/80\n",
      "1/1 - 0s - loss: 1.6484 - acc: 0.4714 - val_loss: 1.5897 - val_acc: 0.5840\n",
      "Epoch 11/80\n",
      "1/1 - 0s - loss: 1.6566 - acc: 0.4500 - val_loss: 1.5111 - val_acc: 0.6120\n",
      "Epoch 12/80\n",
      "1/1 - 0s - loss: 1.5931 - acc: 0.5286 - val_loss: 1.4333 - val_acc: 0.6280\n",
      "Epoch 13/80\n",
      "1/1 - 0s - loss: 1.4723 - acc: 0.5714 - val_loss: 1.3637 - val_acc: 0.6680\n",
      "Epoch 14/80\n",
      "1/1 - 0s - loss: 1.3662 - acc: 0.6214 - val_loss: 1.3038 - val_acc: 0.6940\n",
      "Epoch 15/80\n",
      "1/1 - 0s - loss: 1.3453 - acc: 0.6000 - val_loss: 1.2560 - val_acc: 0.6940\n",
      "Epoch 16/80\n",
      "1/1 - 0s - loss: 1.3221 - acc: 0.6357 - val_loss: 1.2123 - val_acc: 0.7200\n",
      "Epoch 17/80\n",
      "1/1 - 0s - loss: 1.2749 - acc: 0.6571 - val_loss: 1.1734 - val_acc: 0.7180\n",
      "Epoch 18/80\n",
      "1/1 - 0s - loss: 1.1469 - acc: 0.7071 - val_loss: 1.1450 - val_acc: 0.7180\n",
      "Epoch 19/80\n",
      "1/1 - 0s - loss: 1.1531 - acc: 0.7286 - val_loss: 1.1289 - val_acc: 0.7120\n",
      "Epoch 20/80\n",
      "1/1 - 0s - loss: 1.0928 - acc: 0.7143 - val_loss: 1.1251 - val_acc: 0.7240\n",
      "Epoch 21/80\n",
      "1/1 - 0s - loss: 1.1590 - acc: 0.6786 - val_loss: 1.1280 - val_acc: 0.7260\n",
      "Epoch 22/80\n",
      "1/1 - 0s - loss: 1.1603 - acc: 0.6786 - val_loss: 1.1214 - val_acc: 0.7300\n",
      "Epoch 23/80\n",
      "1/1 - 0s - loss: 1.0424 - acc: 0.7357 - val_loss: 1.1161 - val_acc: 0.7420\n",
      "Epoch 24/80\n",
      "1/1 - 0s - loss: 1.0790 - acc: 0.7357 - val_loss: 1.1135 - val_acc: 0.7380\n",
      "Epoch 25/80\n",
      "1/1 - 0s - loss: 1.0185 - acc: 0.7500 - val_loss: 1.1075 - val_acc: 0.7360\n",
      "Epoch 26/80\n",
      "1/1 - 0s - loss: 1.1217 - acc: 0.7071 - val_loss: 1.0988 - val_acc: 0.7440\n",
      "Epoch 27/80\n",
      "1/1 - 0s - loss: 0.9536 - acc: 0.7643 - val_loss: 1.0913 - val_acc: 0.7420\n",
      "Epoch 28/80\n",
      "1/1 - 0s - loss: 0.9701 - acc: 0.7786 - val_loss: 1.0804 - val_acc: 0.7400\n",
      "Epoch 29/80\n",
      "1/1 - 0s - loss: 1.0075 - acc: 0.7286 - val_loss: 1.0678 - val_acc: 0.7520\n",
      "Epoch 30/80\n",
      "1/1 - 0s - loss: 0.9427 - acc: 0.7571 - val_loss: 1.0598 - val_acc: 0.7400\n",
      "Epoch 31/80\n",
      "1/1 - 0s - loss: 1.0148 - acc: 0.7429 - val_loss: 1.0601 - val_acc: 0.7440\n",
      "Epoch 32/80\n",
      "1/1 - 0s - loss: 0.9483 - acc: 0.8071 - val_loss: 1.0682 - val_acc: 0.7500\n",
      "Epoch 33/80\n",
      "1/1 - 0s - loss: 0.9062 - acc: 0.7714 - val_loss: 1.0727 - val_acc: 0.7500\n",
      "Epoch 34/80\n",
      "1/1 - 0s - loss: 0.9064 - acc: 0.7786 - val_loss: 1.0795 - val_acc: 0.7400\n",
      "Epoch 35/80\n",
      "1/1 - 0s - loss: 0.8772 - acc: 0.8000 - val_loss: 1.0749 - val_acc: 0.7460\n",
      "Epoch 36/80\n",
      "1/1 - 0s - loss: 0.9393 - acc: 0.8000 - val_loss: 1.0626 - val_acc: 0.7480\n",
      "Epoch 37/80\n",
      "1/1 - 0s - loss: 0.8121 - acc: 0.8214 - val_loss: 1.0565 - val_acc: 0.7500\n",
      "Epoch 38/80\n",
      "1/1 - 0s - loss: 0.9212 - acc: 0.7643 - val_loss: 1.0496 - val_acc: 0.7440\n",
      "Epoch 39/80\n",
      "1/1 - 0s - loss: 0.7785 - acc: 0.8429 - val_loss: 1.0378 - val_acc: 0.7560\n",
      "Epoch 40/80\n",
      "1/1 - 0s - loss: 0.7780 - acc: 0.8071 - val_loss: 1.0260 - val_acc: 0.7700\n",
      "Epoch 41/80\n",
      "1/1 - 0s - loss: 0.7770 - acc: 0.8429 - val_loss: 1.0109 - val_acc: 0.7800\n",
      "Epoch 42/80\n",
      "1/1 - 0s - loss: 0.8559 - acc: 0.8286 - val_loss: 1.0011 - val_acc: 0.7840\n",
      "Epoch 43/80\n",
      "1/1 - 0s - loss: 0.8319 - acc: 0.8214 - val_loss: 0.9990 - val_acc: 0.7780\n",
      "Epoch 44/80\n",
      "1/1 - 0s - loss: 0.8461 - acc: 0.8071 - val_loss: 1.0047 - val_acc: 0.7760\n",
      "Epoch 45/80\n",
      "1/1 - 0s - loss: 0.7960 - acc: 0.8429 - val_loss: 1.0063 - val_acc: 0.7780\n",
      "Epoch 46/80\n",
      "1/1 - 0s - loss: 0.7064 - acc: 0.8643 - val_loss: 1.0131 - val_acc: 0.7740\n",
      "Epoch 47/80\n",
      "1/1 - 0s - loss: 0.7170 - acc: 0.8214 - val_loss: 1.0145 - val_acc: 0.7780\n",
      "Epoch 48/80\n",
      "1/1 - 0s - loss: 0.7604 - acc: 0.8429 - val_loss: 1.0202 - val_acc: 0.7760\n",
      "Epoch 49/80\n",
      "1/1 - 0s - loss: 0.7770 - acc: 0.8429 - val_loss: 1.0119 - val_acc: 0.7820\n",
      "Epoch 50/80\n",
      "1/1 - 0s - loss: 0.8486 - acc: 0.8286 - val_loss: 0.9843 - val_acc: 0.7900\n",
      "Epoch 51/80\n",
      "1/1 - 0s - loss: 0.7150 - acc: 0.8929 - val_loss: 0.9597 - val_acc: 0.8080\n",
      "Epoch 52/80\n",
      "1/1 - 0s - loss: 0.7623 - acc: 0.8429 - val_loss: 0.9368 - val_acc: 0.8340\n",
      "Epoch 53/80\n",
      "1/1 - 0s - loss: 0.7230 - acc: 0.8571 - val_loss: 0.9243 - val_acc: 0.8360\n",
      "Epoch 54/80\n",
      "1/1 - 0s - loss: 0.7162 - acc: 0.8286 - val_loss: 0.9258 - val_acc: 0.8460\n",
      "Epoch 55/80\n",
      "1/1 - 0s - loss: 0.8384 - acc: 0.8214 - val_loss: 0.9354 - val_acc: 0.8320\n",
      "Epoch 56/80\n",
      "1/1 - 0s - loss: 0.6361 - acc: 0.9000 - val_loss: 0.9416 - val_acc: 0.8360\n",
      "Epoch 57/80\n",
      "1/1 - 0s - loss: 0.6739 - acc: 0.8786 - val_loss: 0.9459 - val_acc: 0.8240\n",
      "Epoch 58/80\n",
      "1/1 - 0s - loss: 0.7696 - acc: 0.8714 - val_loss: 0.9474 - val_acc: 0.8160\n",
      "Epoch 59/80\n",
      "1/1 - 0s - loss: 0.6634 - acc: 0.9000 - val_loss: 0.9465 - val_acc: 0.8200\n",
      "Epoch 60/80\n",
      "1/1 - 0s - loss: 0.7373 - acc: 0.8929 - val_loss: 0.9444 - val_acc: 0.8220\n",
      "Epoch 61/80\n",
      "1/1 - 0s - loss: 0.7649 - acc: 0.8786 - val_loss: 0.9363 - val_acc: 0.8180\n",
      "Epoch 62/80\n",
      "1/1 - 0s - loss: 0.6437 - acc: 0.8857 - val_loss: 0.9331 - val_acc: 0.8240\n",
      "Epoch 63/80\n",
      "1/1 - 0s - loss: 0.5943 - acc: 0.8929 - val_loss: 0.9270 - val_acc: 0.8280\n",
      "Epoch 64/80\n",
      "1/1 - 0s - loss: 0.6459 - acc: 0.8857 - val_loss: 0.9167 - val_acc: 0.8340\n",
      "Epoch 65/80\n",
      "1/1 - 0s - loss: 0.6584 - acc: 0.8643 - val_loss: 0.9175 - val_acc: 0.8440\n",
      "Epoch 66/80\n",
      "1/1 - 0s - loss: 0.6604 - acc: 0.8714 - val_loss: 0.9074 - val_acc: 0.8360\n",
      "Epoch 67/80\n",
      "1/1 - 0s - loss: 0.7158 - acc: 0.8929 - val_loss: 0.9075 - val_acc: 0.8220\n",
      "Epoch 68/80\n",
      "1/1 - 0s - loss: 0.5664 - acc: 0.9429 - val_loss: 0.9130 - val_acc: 0.8200\n",
      "Epoch 69/80\n",
      "1/1 - 0s - loss: 0.5800 - acc: 0.9214 - val_loss: 0.9281 - val_acc: 0.8280\n",
      "Epoch 70/80\n",
      "1/1 - 0s - loss: 0.6595 - acc: 0.9000 - val_loss: 0.9355 - val_acc: 0.8200\n",
      "Epoch 71/80\n",
      "1/1 - 0s - loss: 0.6824 - acc: 0.8857 - val_loss: 0.9342 - val_acc: 0.8300\n",
      "Epoch 72/80\n",
      "1/1 - 0s - loss: 0.7011 - acc: 0.8929 - val_loss: 0.9237 - val_acc: 0.8320\n",
      "Epoch 73/80\n",
      "1/1 - 0s - loss: 0.6226 - acc: 0.9286 - val_loss: 0.9123 - val_acc: 0.8360\n",
      "Epoch 74/80\n",
      "1/1 - 0s - loss: 0.6713 - acc: 0.8929 - val_loss: 0.9026 - val_acc: 0.8320\n",
      "Epoch 75/80\n",
      "1/1 - 0s - loss: 0.6259 - acc: 0.8929 - val_loss: 0.8973 - val_acc: 0.8320\n",
      "Epoch 76/80\n",
      "1/1 - 0s - loss: 0.6237 - acc: 0.9071 - val_loss: 0.8992 - val_acc: 0.8360\n",
      "Epoch 77/80\n",
      "1/1 - 0s - loss: 0.6259 - acc: 0.9214 - val_loss: 0.9121 - val_acc: 0.8300\n",
      "Epoch 78/80\n",
      "1/1 - 0s - loss: 0.6154 - acc: 0.9286 - val_loss: 0.9354 - val_acc: 0.8300\n",
      "Epoch 79/80\n",
      "1/1 - 0s - loss: 0.6816 - acc: 0.8929 - val_loss: 0.9395 - val_acc: 0.8280\n",
      "Epoch 80/80\n",
      "1/1 - 0s - loss: 0.5538 - acc: 0.9143 - val_loss: 0.9346 - val_acc: 0.8200\n"
     ]
    }
   ],
   "source": [
    "history = model.fit_generator(\n",
    "    train_gen,\n",
    "    epochs=80,\n",
    "    validation_data=val_gen,\n",
    "    verbose=2,\n",
    "    shuffle=False,  # this should be False, since shuffling data means shuffling the whole graph\n",
    "    callbacks=[es_callback, mc_callback],\n",
    ")"
   ]
  },
  {
   "cell_type": "markdown",
   "metadata": {},
   "source": [
    "Plot the training history:"
   ]
  },
  {
   "cell_type": "code",
   "execution_count": 23,
   "metadata": {},
   "outputs": [],
   "source": [
    "import matplotlib.pyplot as plt\n",
    "%matplotlib inline\n",
    "\n",
    "def remove_prefix(text, prefix):\n",
    "    return text[text.startswith(prefix) and len(prefix):]\n",
    "\n",
    "def plot_history(history):\n",
    "    metrics = sorted(set([remove_prefix(m, \"val_\") for m in list(history.history.keys())]))\n",
    "    for m in metrics:\n",
    "        # summarize history for metric m\n",
    "        plt.plot(history.history[m])\n",
    "        plt.plot(history.history['val_' + m])\n",
    "        plt.title(m)\n",
    "        plt.ylabel(m)\n",
    "        plt.xlabel('epoch')\n",
    "        plt.legend(['train', 'validation'], loc='best')\n",
    "        plt.show()"
   ]
  },
  {
   "cell_type": "code",
   "execution_count": 24,
   "metadata": {},
   "outputs": [
    {
     "data": {
      "image/png": "[encoded data removed]",
      "text/plain": [
       "<Figure size 432x288 with 1 Axes>"
      ]
     },
     "metadata": {
      "needs_background": "light"
     },
     "output_type": "display_data"
    },
    {
     "data": {
      "image/png": "[encoded data removed]",
      "text/plain": [
       "<Figure size 432x288 with 1 Axes>"
      ]
     },
     "metadata": {
      "needs_background": "light"
     },
     "output_type": "display_data"
    }
   ],
   "source": [
    "plot_history(history)"
   ]
  },
  {
   "cell_type": "markdown",
   "metadata": {},
   "source": [
    "Reload the saved weights of the best model found during the training (according to validation accuracy)"
   ]
  },
  {
   "cell_type": "code",
   "execution_count": 25,
   "metadata": {},
   "outputs": [],
   "source": [
    "model.load_weights(\"logs/best_ppnp_model.h5\")"
   ]
  },
  {
   "cell_type": "markdown",
   "metadata": {},
   "source": [
    "Evaluate the best model on the test set"
   ]
  },
  {
   "cell_type": "code",
   "execution_count": 20,
   "metadata": {},
   "outputs": [],
   "source": [
    "test_gen = generator.flow(test_data.index, test_targets)"
   ]
  },
  {
   "cell_type": "code",
   "execution_count": 27,
   "metadata": {},
   "outputs": [
    {
     "name": "stdout",
     "output_type": "stream",
     "text": [
      "\n",
      "Test Set Metrics:\n",
      "\tloss: 0.9470\n",
      "\tacc: 0.8375\n"
     ]
    }
   ],
   "source": [
    "test_metrics = model.evaluate_generator(test_gen)\n",
    "print(\"\\nTest Set Metrics:\")\n",
    "for name, val in zip(model.metrics_names, test_metrics):\n",
    "    print(\"\\t{}: {:0.4f}\".format(name, val))"
   ]
  },
  {
   "cell_type": "markdown",
   "metadata": {},
   "source": [
    "## Using the Approximate PPNP Model\n",
    "\n",
    "Lets repeat the training and testing steps with the APPNP model using the same dataset. The downside of the PPNP is that you have to invert the adjacency matrix - which is time inneficient for large graphs - and store that invert matrix - which is space innefficient! The approximate model avoids this issue by using a clever mathematical trick."
   ]
  },
  {
   "cell_type": "code",
   "execution_count": 27,
   "metadata": {},
   "outputs": [
    {
     "name": "stdout",
     "output_type": "stream",
     "text": [
      "WARNING:tensorflow:Entity <bound method SqueezedSparseConversion.call of <stellargraph.layer.misc.SqueezedSparseConversion object at 0x7f51178dbac8>> could not be transformed and will be executed as-is. Please report this to the AutgoGraph team. When filing the bug, set the verbosity to 10 (on Linux, `export AUTOGRAPH_VERBOSITY=10`) and attach the full output. Cause: converting <bound method SqueezedSparseConversion.call of <stellargraph.layer.misc.SqueezedSparseConversion object at 0x7f51178dbac8>>: AttributeError: module 'gast' has no attribute 'Num'\n",
      "WARNING: Entity <bound method SqueezedSparseConversion.call of <stellargraph.layer.misc.SqueezedSparseConversion object at 0x7f51178dbac8>> could not be transformed and will be executed as-is. Please report this to the AutgoGraph team. When filing the bug, set the verbosity to 10 (on Linux, `export AUTOGRAPH_VERBOSITY=10`) and attach the full output. Cause: converting <bound method SqueezedSparseConversion.call of <stellargraph.layer.misc.SqueezedSparseConversion object at 0x7f51178dbac8>>: AttributeError: module 'gast' has no attribute 'Num'\n",
      "WARNING:tensorflow:Entity <bound method GraphConvolution.call of <stellargraph.layer.gcn.GraphConvolution object at 0x7f51178cc0b8>> could not be transformed and will be executed as-is. Please report this to the AutgoGraph team. When filing the bug, set the verbosity to 10 (on Linux, `export AUTOGRAPH_VERBOSITY=10`) and attach the full output. Cause: converting <bound method GraphConvolution.call of <stellargraph.layer.gcn.GraphConvolution object at 0x7f51178cc0b8>>: AttributeError: module 'gast' has no attribute 'Num'\n",
      "WARNING: Entity <bound method GraphConvolution.call of <stellargraph.layer.gcn.GraphConvolution object at 0x7f51178cc0b8>> could not be transformed and will be executed as-is. Please report this to the AutgoGraph team. When filing the bug, set the verbosity to 10 (on Linux, `export AUTOGRAPH_VERBOSITY=10`) and attach the full output. Cause: converting <bound method GraphConvolution.call of <stellargraph.layer.gcn.GraphConvolution object at 0x7f51178cc0b8>>: AttributeError: module 'gast' has no attribute 'Num'\n",
      "WARNING:tensorflow:Entity <bound method GraphConvolution.call of <stellargraph.layer.gcn.GraphConvolution object at 0x7f51178cc390>> could not be transformed and will be executed as-is. Please report this to the AutgoGraph team. When filing the bug, set the verbosity to 10 (on Linux, `export AUTOGRAPH_VERBOSITY=10`) and attach the full output. Cause: converting <bound method GraphConvolution.call of <stellargraph.layer.gcn.GraphConvolution object at 0x7f51178cc390>>: AttributeError: module 'gast' has no attribute 'Num'\n",
      "WARNING: Entity <bound method GraphConvolution.call of <stellargraph.layer.gcn.GraphConvolution object at 0x7f51178cc390>> could not be transformed and will be executed as-is. Please report this to the AutgoGraph team. When filing the bug, set the verbosity to 10 (on Linux, `export AUTOGRAPH_VERBOSITY=10`) and attach the full output. Cause: converting <bound method GraphConvolution.call of <stellargraph.layer.gcn.GraphConvolution object at 0x7f51178cc390>>: AttributeError: module 'gast' has no attribute 'Num'\n",
      "WARNING:tensorflow:Entity <bound method GraphConvolution.call of <stellargraph.layer.gcn.GraphConvolution object at 0x7f51178cc668>> could not be transformed and will be executed as-is. Please report this to the AutgoGraph team. When filing the bug, set the verbosity to 10 (on Linux, `export AUTOGRAPH_VERBOSITY=10`) and attach the full output. Cause: converting <bound method GraphConvolution.call of <stellargraph.layer.gcn.GraphConvolution object at 0x7f51178cc668>>: AttributeError: module 'gast' has no attribute 'Num'\n",
      "WARNING: Entity <bound method GraphConvolution.call of <stellargraph.layer.gcn.GraphConvolution object at 0x7f51178cc668>> could not be transformed and will be executed as-is. Please report this to the AutgoGraph team. When filing the bug, set the verbosity to 10 (on Linux, `export AUTOGRAPH_VERBOSITY=10`) and attach the full output. Cause: converting <bound method GraphConvolution.call of <stellargraph.layer.gcn.GraphConvolution object at 0x7f51178cc668>>: AttributeError: module 'gast' has no attribute 'Num'\n",
      "WARNING:tensorflow:Entity <bound method GraphConvolution.call of <stellargraph.layer.gcn.GraphConvolution object at 0x7f51178cc940>> could not be transformed and will be executed as-is. Please report this to the AutgoGraph team. When filing the bug, set the verbosity to 10 (on Linux, `export AUTOGRAPH_VERBOSITY=10`) and attach the full output. Cause: converting <bound method GraphConvolution.call of <stellargraph.layer.gcn.GraphConvolution object at 0x7f51178cc940>>: AttributeError: module 'gast' has no attribute 'Num'\n",
      "WARNING: Entity <bound method GraphConvolution.call of <stellargraph.layer.gcn.GraphConvolution object at 0x7f51178cc940>> could not be transformed and will be executed as-is. Please report this to the AutgoGraph team. When filing the bug, set the verbosity to 10 (on Linux, `export AUTOGRAPH_VERBOSITY=10`) and attach the full output. Cause: converting <bound method GraphConvolution.call of <stellargraph.layer.gcn.GraphConvolution object at 0x7f51178cc940>>: AttributeError: module 'gast' has no attribute 'Num'\n",
      "WARNING:tensorflow:Entity <bound method GraphConvolution.call of <stellargraph.layer.gcn.GraphConvolution object at 0x7f51178ccc18>> could not be transformed and will be executed as-is. Please report this to the AutgoGraph team. When filing the bug, set the verbosity to 10 (on Linux, `export AUTOGRAPH_VERBOSITY=10`) and attach the full output. Cause: converting <bound method GraphConvolution.call of <stellargraph.layer.gcn.GraphConvolution object at 0x7f51178ccc18>>: AttributeError: module 'gast' has no attribute 'Num'\n",
      "WARNING: Entity <bound method GraphConvolution.call of <stellargraph.layer.gcn.GraphConvolution object at 0x7f51178ccc18>> could not be transformed and will be executed as-is. Please report this to the AutgoGraph team. When filing the bug, set the verbosity to 10 (on Linux, `export AUTOGRAPH_VERBOSITY=10`) and attach the full output. Cause: converting <bound method GraphConvolution.call of <stellargraph.layer.gcn.GraphConvolution object at 0x7f51178ccc18>>: AttributeError: module 'gast' has no attribute 'Num'\n",
      "WARNING:tensorflow:Entity <bound method GraphConvolution.call of <stellargraph.layer.gcn.GraphConvolution object at 0x7f51178ccef0>> could not be transformed and will be executed as-is. Please report this to the AutgoGraph team. When filing the bug, set the verbosity to 10 (on Linux, `export AUTOGRAPH_VERBOSITY=10`) and attach the full output. Cause: converting <bound method GraphConvolution.call of <stellargraph.layer.gcn.GraphConvolution object at 0x7f51178ccef0>>: AttributeError: module 'gast' has no attribute 'Num'\n",
      "WARNING: Entity <bound method GraphConvolution.call of <stellargraph.layer.gcn.GraphConvolution object at 0x7f51178ccef0>> could not be transformed and will be executed as-is. Please report this to the AutgoGraph team. When filing the bug, set the verbosity to 10 (on Linux, `export AUTOGRAPH_VERBOSITY=10`) and attach the full output. Cause: converting <bound method GraphConvolution.call of <stellargraph.layer.gcn.GraphConvolution object at 0x7f51178ccef0>>: AttributeError: module 'gast' has no attribute 'Num'\n",
      "WARNING:tensorflow:Entity <bound method GraphConvolution.call of <stellargraph.layer.gcn.GraphConvolution object at 0x7f51178d5208>> could not be transformed and will be executed as-is. Please report this to the AutgoGraph team. When filing the bug, set the verbosity to 10 (on Linux, `export AUTOGRAPH_VERBOSITY=10`) and attach the full output. Cause: converting <bound method GraphConvolution.call of <stellargraph.layer.gcn.GraphConvolution object at 0x7f51178d5208>>: AttributeError: module 'gast' has no attribute 'Num'\n",
      "WARNING: Entity <bound method GraphConvolution.call of <stellargraph.layer.gcn.GraphConvolution object at 0x7f51178d5208>> could not be transformed and will be executed as-is. Please report this to the AutgoGraph team. When filing the bug, set the verbosity to 10 (on Linux, `export AUTOGRAPH_VERBOSITY=10`) and attach the full output. Cause: converting <bound method GraphConvolution.call of <stellargraph.layer.gcn.GraphConvolution object at 0x7f51178d5208>>: AttributeError: module 'gast' has no attribute 'Num'\n"
     ]
    },
    {
     "name": "stdout",
     "output_type": "stream",
     "text": [
      "WARNING:tensorflow:Entity <bound method GraphConvolution.call of <stellargraph.layer.gcn.GraphConvolution object at 0x7f51178d54e0>> could not be transformed and will be executed as-is. Please report this to the AutgoGraph team. When filing the bug, set the verbosity to 10 (on Linux, `export AUTOGRAPH_VERBOSITY=10`) and attach the full output. Cause: converting <bound method GraphConvolution.call of <stellargraph.layer.gcn.GraphConvolution object at 0x7f51178d54e0>>: AttributeError: module 'gast' has no attribute 'Num'\n",
      "WARNING: Entity <bound method GraphConvolution.call of <stellargraph.layer.gcn.GraphConvolution object at 0x7f51178d54e0>> could not be transformed and will be executed as-is. Please report this to the AutgoGraph team. When filing the bug, set the verbosity to 10 (on Linux, `export AUTOGRAPH_VERBOSITY=10`) and attach the full output. Cause: converting <bound method GraphConvolution.call of <stellargraph.layer.gcn.GraphConvolution object at 0x7f51178d54e0>>: AttributeError: module 'gast' has no attribute 'Num'\n",
      "WARNING:tensorflow:Entity <bound method GraphConvolution.call of <stellargraph.layer.gcn.GraphConvolution object at 0x7f51178d57b8>> could not be transformed and will be executed as-is. Please report this to the AutgoGraph team. When filing the bug, set the verbosity to 10 (on Linux, `export AUTOGRAPH_VERBOSITY=10`) and attach the full output. Cause: converting <bound method GraphConvolution.call of <stellargraph.layer.gcn.GraphConvolution object at 0x7f51178d57b8>>: AttributeError: module 'gast' has no attribute 'Num'\n",
      "WARNING: Entity <bound method GraphConvolution.call of <stellargraph.layer.gcn.GraphConvolution object at 0x7f51178d57b8>> could not be transformed and will be executed as-is. Please report this to the AutgoGraph team. When filing the bug, set the verbosity to 10 (on Linux, `export AUTOGRAPH_VERBOSITY=10`) and attach the full output. Cause: converting <bound method GraphConvolution.call of <stellargraph.layer.gcn.GraphConvolution object at 0x7f51178d57b8>>: AttributeError: module 'gast' has no attribute 'Num'\n",
      "WARNING:tensorflow:Entity <bound method GraphConvolution.call of <stellargraph.layer.gcn.GraphConvolution object at 0x7f51178d5a90>> could not be transformed and will be executed as-is. Please report this to the AutgoGraph team. When filing the bug, set the verbosity to 10 (on Linux, `export AUTOGRAPH_VERBOSITY=10`) and attach the full output. Cause: converting <bound method GraphConvolution.call of <stellargraph.layer.gcn.GraphConvolution object at 0x7f51178d5a90>>: AttributeError: module 'gast' has no attribute 'Num'\n",
      "WARNING: Entity <bound method GraphConvolution.call of <stellargraph.layer.gcn.GraphConvolution object at 0x7f51178d5a90>> could not be transformed and will be executed as-is. Please report this to the AutgoGraph team. When filing the bug, set the verbosity to 10 (on Linux, `export AUTOGRAPH_VERBOSITY=10`) and attach the full output. Cause: converting <bound method GraphConvolution.call of <stellargraph.layer.gcn.GraphConvolution object at 0x7f51178d5a90>>: AttributeError: module 'gast' has no attribute 'Num'\n",
      "Epoch 1/120\n",
      "1/1 - 2s - loss: 2.1845 - acc: 0.1286 - val_loss: 2.1134 - val_acc: 0.2340\n",
      "Epoch 2/120\n",
      "1/1 - 0s - loss: 2.1101 - acc: 0.1429 - val_loss: 2.0808 - val_acc: 0.4540\n",
      "Epoch 3/120\n",
      "1/1 - 0s - loss: 2.0772 - acc: 0.2000 - val_loss: 2.0365 - val_acc: 0.3960\n",
      "Epoch 4/120\n",
      "1/1 - 0s - loss: 2.0524 - acc: 0.3000 - val_loss: 1.9857 - val_acc: 0.3240\n",
      "Epoch 5/120\n",
      "1/1 - 0s - loss: 1.9873 - acc: 0.3643 - val_loss: 1.9239 - val_acc: 0.3020\n",
      "Epoch 6/120\n",
      "1/1 - 0s - loss: 1.9641 - acc: 0.3357 - val_loss: 1.8700 - val_acc: 0.3140\n",
      "Epoch 7/120\n",
      "1/1 - 0s - loss: 1.9142 - acc: 0.3786 - val_loss: 1.8078 - val_acc: 0.3920\n",
      "Epoch 8/120\n",
      "1/1 - 0s - loss: 1.8128 - acc: 0.4071 - val_loss: 1.7409 - val_acc: 0.5380\n",
      "Epoch 9/120\n",
      "1/1 - 0s - loss: 1.8514 - acc: 0.3786 - val_loss: 1.6683 - val_acc: 0.6000\n",
      "Epoch 10/120\n",
      "1/1 - 0s - loss: 1.8481 - acc: 0.5071 - val_loss: 1.6107 - val_acc: 0.6260\n",
      "Epoch 11/120\n",
      "1/1 - 0s - loss: 1.6626 - acc: 0.5071 - val_loss: 1.5540 - val_acc: 0.6260\n",
      "Epoch 12/120\n",
      "1/1 - 0s - loss: 1.6793 - acc: 0.4643 - val_loss: 1.4994 - val_acc: 0.6400\n",
      "Epoch 13/120\n",
      "1/1 - 0s - loss: 1.5545 - acc: 0.5286 - val_loss: 1.4318 - val_acc: 0.6660\n",
      "Epoch 14/120\n",
      "1/1 - 0s - loss: 1.6496 - acc: 0.5357 - val_loss: 1.3689 - val_acc: 0.7000\n",
      "Epoch 15/120\n",
      "1/1 - 0s - loss: 1.4853 - acc: 0.5857 - val_loss: 1.3082 - val_acc: 0.7140\n",
      "Epoch 16/120\n",
      "1/1 - 0s - loss: 1.4626 - acc: 0.6000 - val_loss: 1.2500 - val_acc: 0.7340\n",
      "Epoch 17/120\n",
      "1/1 - 0s - loss: 1.4253 - acc: 0.6071 - val_loss: 1.2073 - val_acc: 0.7320\n",
      "Epoch 18/120\n",
      "1/1 - 0s - loss: 1.4036 - acc: 0.6286 - val_loss: 1.1843 - val_acc: 0.7280\n",
      "Epoch 19/120\n",
      "1/1 - 0s - loss: 1.2808 - acc: 0.6929 - val_loss: 1.1729 - val_acc: 0.7260\n",
      "Epoch 20/120\n",
      "1/1 - 0s - loss: 1.3267 - acc: 0.6500 - val_loss: 1.1539 - val_acc: 0.7220\n",
      "Epoch 21/120\n",
      "1/1 - 0s - loss: 1.3915 - acc: 0.6714 - val_loss: 1.1336 - val_acc: 0.7320\n",
      "Epoch 22/120\n",
      "1/1 - 0s - loss: 1.2724 - acc: 0.6786 - val_loss: 1.1225 - val_acc: 0.7320\n",
      "Epoch 23/120\n",
      "1/1 - 0s - loss: 1.3828 - acc: 0.6714 - val_loss: 1.1209 - val_acc: 0.7460\n",
      "Epoch 24/120\n",
      "1/1 - 0s - loss: 1.2805 - acc: 0.6857 - val_loss: 1.1158 - val_acc: 0.7560\n",
      "Epoch 25/120\n",
      "1/1 - 0s - loss: 1.1788 - acc: 0.6857 - val_loss: 1.1084 - val_acc: 0.7720\n",
      "Epoch 26/120\n",
      "1/1 - 0s - loss: 1.1456 - acc: 0.7429 - val_loss: 1.0968 - val_acc: 0.7680\n",
      "Epoch 27/120\n",
      "1/1 - 0s - loss: 1.0457 - acc: 0.7857 - val_loss: 1.0877 - val_acc: 0.7620\n",
      "Epoch 28/120\n",
      "1/1 - 0s - loss: 1.0871 - acc: 0.7857 - val_loss: 1.0886 - val_acc: 0.7460\n",
      "Epoch 29/120\n",
      "1/1 - 0s - loss: 1.0890 - acc: 0.7786 - val_loss: 1.0970 - val_acc: 0.7400\n",
      "Epoch 30/120\n",
      "1/1 - 0s - loss: 1.0420 - acc: 0.7571 - val_loss: 1.1014 - val_acc: 0.7340\n",
      "Epoch 31/120\n",
      "1/1 - 0s - loss: 1.0903 - acc: 0.7500 - val_loss: 1.0996 - val_acc: 0.7360\n",
      "Epoch 32/120\n",
      "1/1 - 0s - loss: 1.0411 - acc: 0.7857 - val_loss: 1.0859 - val_acc: 0.7480\n",
      "Epoch 33/120\n",
      "1/1 - 0s - loss: 1.1502 - acc: 0.8214 - val_loss: 1.0891 - val_acc: 0.7480\n",
      "Epoch 34/120\n",
      "1/1 - 0s - loss: 1.1398 - acc: 0.7714 - val_loss: 1.0970 - val_acc: 0.7420\n",
      "Epoch 35/120\n",
      "1/1 - 0s - loss: 1.0405 - acc: 0.8143 - val_loss: 1.1254 - val_acc: 0.7320\n",
      "Epoch 36/120\n",
      "1/1 - 0s - loss: 1.0293 - acc: 0.7714 - val_loss: 1.1435 - val_acc: 0.7160\n",
      "Epoch 37/120\n",
      "1/1 - 0s - loss: 1.0445 - acc: 0.8000 - val_loss: 1.1519 - val_acc: 0.7260\n",
      "Epoch 38/120\n",
      "1/1 - 0s - loss: 1.0065 - acc: 0.7929 - val_loss: 1.1463 - val_acc: 0.7380\n",
      "Epoch 39/120\n",
      "1/1 - 0s - loss: 1.0942 - acc: 0.7571 - val_loss: 1.1405 - val_acc: 0.7500\n",
      "Epoch 40/120\n",
      "1/1 - 0s - loss: 0.9172 - acc: 0.8071 - val_loss: 1.1299 - val_acc: 0.7580\n",
      "Epoch 41/120\n",
      "1/1 - 0s - loss: 1.0373 - acc: 0.8000 - val_loss: 1.1212 - val_acc: 0.7720\n",
      "Epoch 42/120\n",
      "1/1 - 0s - loss: 0.9815 - acc: 0.8214 - val_loss: 1.1260 - val_acc: 0.7740\n",
      "Epoch 43/120\n",
      "1/1 - 0s - loss: 1.1543 - acc: 0.8143 - val_loss: 1.1347 - val_acc: 0.7760\n",
      "Epoch 44/120\n",
      "1/1 - 0s - loss: 1.0270 - acc: 0.7857 - val_loss: 1.1317 - val_acc: 0.7740\n",
      "Epoch 45/120\n",
      "1/1 - 0s - loss: 1.1169 - acc: 0.8214 - val_loss: 1.1335 - val_acc: 0.7660\n",
      "Epoch 46/120\n",
      "1/1 - 0s - loss: 1.0047 - acc: 0.8286 - val_loss: 1.1397 - val_acc: 0.7600\n",
      "Epoch 47/120\n",
      "1/1 - 0s - loss: 1.0115 - acc: 0.8357 - val_loss: 1.1529 - val_acc: 0.7500\n",
      "Epoch 48/120\n",
      "1/1 - 0s - loss: 1.0467 - acc: 0.8143 - val_loss: 1.1633 - val_acc: 0.7420\n",
      "Epoch 49/120\n",
      "1/1 - 0s - loss: 1.0165 - acc: 0.8214 - val_loss: 1.1652 - val_acc: 0.7440\n",
      "Epoch 50/120\n",
      "1/1 - 0s - loss: 0.8991 - acc: 0.8429 - val_loss: 1.1597 - val_acc: 0.7440\n",
      "Epoch 51/120\n",
      "1/1 - 0s - loss: 0.9994 - acc: 0.8571 - val_loss: 1.1483 - val_acc: 0.7500\n",
      "Epoch 52/120\n",
      "1/1 - 0s - loss: 1.1955 - acc: 0.7929 - val_loss: 1.1382 - val_acc: 0.7580\n",
      "Epoch 53/120\n",
      "1/1 - 0s - loss: 1.0174 - acc: 0.8500 - val_loss: 1.1334 - val_acc: 0.7480\n",
      "Epoch 54/120\n",
      "1/1 - 0s - loss: 1.0620 - acc: 0.8000 - val_loss: 1.1424 - val_acc: 0.7340\n",
      "Epoch 55/120\n",
      "1/1 - 0s - loss: 0.9776 - acc: 0.8214 - val_loss: 1.1444 - val_acc: 0.7360\n",
      "Epoch 56/120\n",
      "1/1 - 0s - loss: 1.0704 - acc: 0.7929 - val_loss: 1.1555 - val_acc: 0.7380\n",
      "Epoch 57/120\n",
      "1/1 - 0s - loss: 0.9537 - acc: 0.8286 - val_loss: 1.1563 - val_acc: 0.7480\n",
      "Epoch 58/120\n",
      "1/1 - 0s - loss: 0.8614 - acc: 0.8571 - val_loss: 1.1598 - val_acc: 0.7500\n"
     ]
    },
    {
     "name": "stdout",
     "output_type": "stream",
     "text": [
      "Epoch 59/120\n",
      "1/1 - 0s - loss: 0.8518 - acc: 0.8643 - val_loss: 1.1644 - val_acc: 0.7420\n",
      "Epoch 60/120\n",
      "1/1 - 0s - loss: 0.9303 - acc: 0.8571 - val_loss: 1.1677 - val_acc: 0.7460\n",
      "Epoch 61/120\n",
      "1/1 - 0s - loss: 0.8715 - acc: 0.8429 - val_loss: 1.1685 - val_acc: 0.7400\n",
      "Epoch 62/120\n",
      "1/1 - 0s - loss: 1.0762 - acc: 0.8357 - val_loss: 1.1644 - val_acc: 0.7360\n",
      "Epoch 63/120\n",
      "1/1 - 0s - loss: 0.9016 - acc: 0.8500 - val_loss: 1.1517 - val_acc: 0.7480\n",
      "Epoch 64/120\n",
      "1/1 - 0s - loss: 0.9428 - acc: 0.8286 - val_loss: 1.1376 - val_acc: 0.7580\n",
      "Epoch 65/120\n",
      "1/1 - 0s - loss: 0.9865 - acc: 0.8000 - val_loss: 1.1340 - val_acc: 0.7600\n",
      "Epoch 66/120\n",
      "1/1 - 0s - loss: 1.0212 - acc: 0.8286 - val_loss: 1.1440 - val_acc: 0.7640\n",
      "Epoch 67/120\n",
      "1/1 - 0s - loss: 1.0038 - acc: 0.8571 - val_loss: 1.1592 - val_acc: 0.7640\n",
      "Epoch 68/120\n",
      "1/1 - 0s - loss: 1.0421 - acc: 0.8643 - val_loss: 1.1759 - val_acc: 0.7540\n",
      "Epoch 69/120\n",
      "1/1 - 0s - loss: 0.9672 - acc: 0.8571 - val_loss: 1.1910 - val_acc: 0.7500\n",
      "Epoch 70/120\n",
      "1/1 - 0s - loss: 0.9303 - acc: 0.8214 - val_loss: 1.1945 - val_acc: 0.7480\n",
      "Epoch 71/120\n",
      "1/1 - 0s - loss: 0.8661 - acc: 0.8357 - val_loss: 1.1969 - val_acc: 0.7360\n",
      "Epoch 72/120\n",
      "1/1 - 0s - loss: 0.8184 - acc: 0.8571 - val_loss: 1.2060 - val_acc: 0.7280\n",
      "Epoch 73/120\n",
      "1/1 - 0s - loss: 0.8848 - acc: 0.8500 - val_loss: 1.1998 - val_acc: 0.7220\n",
      "Epoch 74/120\n",
      "1/1 - 0s - loss: 0.9756 - acc: 0.8357 - val_loss: 1.1902 - val_acc: 0.7240\n",
      "Epoch 75/120\n",
      "1/1 - 0s - loss: 0.9600 - acc: 0.8571 - val_loss: 1.1772 - val_acc: 0.7380\n",
      "Epoch 76/120\n",
      "1/1 - 0s - loss: 0.8922 - acc: 0.8500 - val_loss: 1.1625 - val_acc: 0.7420\n",
      "Epoch 77/120\n",
      "1/1 - 0s - loss: 0.9319 - acc: 0.8571 - val_loss: 1.1409 - val_acc: 0.7440\n",
      "Epoch 78/120\n",
      "1/1 - 0s - loss: 1.0164 - acc: 0.8286 - val_loss: 1.1273 - val_acc: 0.7600\n",
      "Epoch 79/120\n",
      "1/1 - 0s - loss: 0.9288 - acc: 0.8429 - val_loss: 1.1329 - val_acc: 0.7700\n",
      "Epoch 80/120\n",
      "1/1 - 0s - loss: 0.9561 - acc: 0.8214 - val_loss: 1.1412 - val_acc: 0.7720\n",
      "Epoch 81/120\n",
      "1/1 - 0s - loss: 0.8616 - acc: 0.8500 - val_loss: 1.1476 - val_acc: 0.7700\n",
      "Epoch 82/120\n",
      "1/1 - 0s - loss: 1.1384 - acc: 0.7786 - val_loss: 1.1598 - val_acc: 0.7560\n",
      "Epoch 83/120\n",
      "1/1 - 0s - loss: 1.0427 - acc: 0.8357 - val_loss: 1.1812 - val_acc: 0.7500\n",
      "Epoch 84/120\n",
      "1/1 - 0s - loss: 0.9491 - acc: 0.8357 - val_loss: 1.2025 - val_acc: 0.7380\n",
      "Epoch 85/120\n",
      "1/1 - 0s - loss: 0.9465 - acc: 0.8643 - val_loss: 1.2193 - val_acc: 0.7320\n",
      "Epoch 86/120\n",
      "1/1 - 0s - loss: 1.0662 - acc: 0.8357 - val_loss: 1.2258 - val_acc: 0.7300\n",
      "Epoch 87/120\n",
      "1/1 - 0s - loss: 0.9388 - acc: 0.8357 - val_loss: 1.2232 - val_acc: 0.7280\n",
      "Epoch 88/120\n",
      "1/1 - 0s - loss: 0.9592 - acc: 0.8286 - val_loss: 1.2116 - val_acc: 0.7320\n",
      "Epoch 89/120\n",
      "1/1 - 0s - loss: 0.9058 - acc: 0.8714 - val_loss: 1.1959 - val_acc: 0.7320\n",
      "Epoch 90/120\n",
      "1/1 - 0s - loss: 0.8468 - acc: 0.8857 - val_loss: 1.1761 - val_acc: 0.7420\n",
      "Epoch 91/120\n",
      "1/1 - 0s - loss: 0.8782 - acc: 0.8500 - val_loss: 1.1579 - val_acc: 0.7560\n",
      "Epoch 92/120\n",
      "1/1 - 0s - loss: 0.8838 - acc: 0.8571 - val_loss: 1.1449 - val_acc: 0.7580\n",
      "Epoch 93/120\n",
      "1/1 - 0s - loss: 0.9740 - acc: 0.8000 - val_loss: 1.1395 - val_acc: 0.7600\n"
     ]
    }
   ],
   "source": [
    "appnp = APPNP([64, 64, 7], ['relu', 'relu', 'relu'], \n",
    "             generator, transport_probability=0.1, \n",
    "              dropout=0.5, kernel_regularizer=keras.regularizers.l2(0.001))\n",
    "\n",
    "x_inp, x_out = appnp.node_model()\n",
    "\n",
    "model = keras.models.Model(inputs=x_inp, outputs=x_out)\n",
    "model.compile(loss='categorical_crossentropy', metrics=['acc'],\n",
    "                  optimizer=keras.optimizers.Adam(lr=0.01))\n",
    "\n",
    "es_callback = EarlyStopping(monitor=\"val_acc\", patience=50)  # patience is the number of epochs to wait before early stopping in case of no further improvement\n",
    "\n",
    "mc_callback = ModelCheckpoint(\n",
    "    \"logs/best_appnp_model.h5\",\n",
    "    monitor=\"val_acc\",\n",
    "    save_best_only=True,\n",
    "    save_weights_only=True,\n",
    ")\n",
    "\n",
    "history = model.fit_generator(\n",
    "    train_gen,\n",
    "    epochs=120,\n",
    "    validation_data=val_gen,\n",
    "    verbose=2,\n",
    "    shuffle=False,  # this should be False, since shuffling data means shuffling the whole graph\n",
    "    callbacks=[es_callback, mc_callback],\n",
    ")"
   ]
  },
  {
   "cell_type": "code",
   "execution_count": 28,
   "metadata": {},
   "outputs": [
    {
     "data": {
      "image/png": "[encoded data removed]",
      "text/plain": [
       "<Figure size 432x288 with 1 Axes>"
      ]
     },
     "metadata": {
      "needs_background": "light"
     },
     "output_type": "display_data"
    },
    {
     "data": {
      "image/png": "[encoded data removed]",
      "text/plain": [
       "<Figure size 432x288 with 1 Axes>"
      ]
     },
     "metadata": {
      "needs_background": "light"
     },
     "output_type": "display_data"
    }
   ],
   "source": [
    "plot_history(history)"
   ]
  },
  {
   "cell_type": "code",
   "execution_count": 29,
   "metadata": {},
   "outputs": [
    {
     "name": "stdout",
     "output_type": "stream",
     "text": [
      "\n",
      "Test Set Metrics:\n",
      "\tloss: 1.0459\n",
      "\tacc: 0.8196\n"
     ]
    }
   ],
   "source": [
    "model.load_weights(\"logs/best_model.h5\")\n",
    "test_metrics = model.evaluate_generator(test_gen)\n",
    "print(\"\\nTest Set Metrics:\")\n",
    "for name, val in zip(model.metrics_names, test_metrics):\n",
    "    print(\"\\t{}: {:0.4f}\".format(name, val))"
   ]
  },
  {
   "cell_type": "markdown",
   "metadata": {},
   "source": [
    "### Making predictions with the model"
   ]
  },
  {
   "cell_type": "markdown",
   "metadata": {},
   "source": [
    "Now let's get the predictions for all nodes."
   ]
  },
  {
   "cell_type": "code",
   "execution_count": 58,
   "metadata": {},
   "outputs": [],
   "source": [
    "all_nodes = node_data.index\n",
    "all_gen = generator.flow(all_nodes)\n",
    "all_predictions = model.predict_generator(all_gen)"
   ]
  },
  {
   "cell_type": "markdown",
   "metadata": {},
   "source": [
    "These predictions will be the output of the softmax layer, so to get final categories we'll use the `inverse_transform` method of our target attribute specifcation to turn these values back to the original categories."
   ]
  },
  {
   "cell_type": "markdown",
   "metadata": {},
   "source": [
    "Note that for full-batch methods the batch size is 1 and the predictions have shape $(1, N_{nodes}, N_{classes})$ so we we remove the batch dimension to obtain predictions of shape $(N_{nodes}, N_{classes})$ using the NumPy `squeeze` method."
   ]
  },
  {
   "cell_type": "code",
   "execution_count": 59,
   "metadata": {},
   "outputs": [],
   "source": [
    "node_predictions = target_encoding.inverse_transform(all_predictions.squeeze())"
   ]
  },
  {
   "cell_type": "markdown",
   "metadata": {},
   "source": [
    "Let's have a look at a few predictions after training the model:"
   ]
  },
  {
   "cell_type": "code",
   "execution_count": 60,
   "metadata": {},
   "outputs": [
    {
     "data": {
      "text/html": [
       "<div>\n",
       "<style scoped>\n",
       "    .dataframe tbody tr th:only-of-type {\n",
       "        vertical-align: middle;\n",
       "    }\n",
       "\n",
       "    .dataframe tbody tr th {\n",
       "        vertical-align: top;\n",
       "    }\n",
       "\n",
       "    .dataframe thead th {\n",
       "        text-align: right;\n",
       "    }\n",
       "</style>\n",
       "<table border=\"1\" class=\"dataframe\">\n",
       "  <thead>\n",
       "    <tr style=\"text-align: right;\">\n",
       "      <th></th>\n",
       "      <th>Predicted</th>\n",
       "      <th>True</th>\n",
       "    </tr>\n",
       "  </thead>\n",
       "  <tbody>\n",
       "    <tr>\n",
       "      <td>31336</td>\n",
       "      <td>subject=Neural_Networks</td>\n",
       "      <td>Neural_Networks</td>\n",
       "    </tr>\n",
       "    <tr>\n",
       "      <td>1061127</td>\n",
       "      <td>subject=Rule_Learning</td>\n",
       "      <td>Rule_Learning</td>\n",
       "    </tr>\n",
       "    <tr>\n",
       "      <td>1106406</td>\n",
       "      <td>subject=Reinforcement_Learning</td>\n",
       "      <td>Reinforcement_Learning</td>\n",
       "    </tr>\n",
       "    <tr>\n",
       "      <td>13195</td>\n",
       "      <td>subject=Reinforcement_Learning</td>\n",
       "      <td>Reinforcement_Learning</td>\n",
       "    </tr>\n",
       "    <tr>\n",
       "      <td>37879</td>\n",
       "      <td>subject=Probabilistic_Methods</td>\n",
       "      <td>Probabilistic_Methods</td>\n",
       "    </tr>\n",
       "    <tr>\n",
       "      <td>1126012</td>\n",
       "      <td>subject=Probabilistic_Methods</td>\n",
       "      <td>Probabilistic_Methods</td>\n",
       "    </tr>\n",
       "    <tr>\n",
       "      <td>1107140</td>\n",
       "      <td>subject=Theory</td>\n",
       "      <td>Theory</td>\n",
       "    </tr>\n",
       "    <tr>\n",
       "      <td>1102850</td>\n",
       "      <td>subject=Neural_Networks</td>\n",
       "      <td>Neural_Networks</td>\n",
       "    </tr>\n",
       "    <tr>\n",
       "      <td>31349</td>\n",
       "      <td>subject=Neural_Networks</td>\n",
       "      <td>Neural_Networks</td>\n",
       "    </tr>\n",
       "    <tr>\n",
       "      <td>1106418</td>\n",
       "      <td>subject=Theory</td>\n",
       "      <td>Theory</td>\n",
       "    </tr>\n",
       "    <tr>\n",
       "      <td>1123188</td>\n",
       "      <td>subject=Neural_Networks</td>\n",
       "      <td>Neural_Networks</td>\n",
       "    </tr>\n",
       "    <tr>\n",
       "      <td>1128990</td>\n",
       "      <td>subject=Genetic_Algorithms</td>\n",
       "      <td>Genetic_Algorithms</td>\n",
       "    </tr>\n",
       "    <tr>\n",
       "      <td>109323</td>\n",
       "      <td>subject=Probabilistic_Methods</td>\n",
       "      <td>Probabilistic_Methods</td>\n",
       "    </tr>\n",
       "    <tr>\n",
       "      <td>217139</td>\n",
       "      <td>subject=Case_Based</td>\n",
       "      <td>Case_Based</td>\n",
       "    </tr>\n",
       "    <tr>\n",
       "      <td>31353</td>\n",
       "      <td>subject=Neural_Networks</td>\n",
       "      <td>Neural_Networks</td>\n",
       "    </tr>\n",
       "    <tr>\n",
       "      <td>32083</td>\n",
       "      <td>subject=Neural_Networks</td>\n",
       "      <td>Neural_Networks</td>\n",
       "    </tr>\n",
       "    <tr>\n",
       "      <td>1126029</td>\n",
       "      <td>subject=Reinforcement_Learning</td>\n",
       "      <td>Reinforcement_Learning</td>\n",
       "    </tr>\n",
       "    <tr>\n",
       "      <td>1118017</td>\n",
       "      <td>subject=Neural_Networks</td>\n",
       "      <td>Neural_Networks</td>\n",
       "    </tr>\n",
       "    <tr>\n",
       "      <td>49482</td>\n",
       "      <td>subject=Neural_Networks</td>\n",
       "      <td>Neural_Networks</td>\n",
       "    </tr>\n",
       "    <tr>\n",
       "      <td>753265</td>\n",
       "      <td>subject=Neural_Networks</td>\n",
       "      <td>Neural_Networks</td>\n",
       "    </tr>\n",
       "  </tbody>\n",
       "</table>\n",
       "</div>"
      ],
      "text/plain": [
       "                              Predicted                    True\n",
       "31336           subject=Neural_Networks         Neural_Networks\n",
       "1061127           subject=Rule_Learning           Rule_Learning\n",
       "1106406  subject=Reinforcement_Learning  Reinforcement_Learning\n",
       "13195    subject=Reinforcement_Learning  Reinforcement_Learning\n",
       "37879     subject=Probabilistic_Methods   Probabilistic_Methods\n",
       "1126012   subject=Probabilistic_Methods   Probabilistic_Methods\n",
       "1107140                  subject=Theory                  Theory\n",
       "1102850         subject=Neural_Networks         Neural_Networks\n",
       "31349           subject=Neural_Networks         Neural_Networks\n",
       "1106418                  subject=Theory                  Theory\n",
       "1123188         subject=Neural_Networks         Neural_Networks\n",
       "1128990      subject=Genetic_Algorithms      Genetic_Algorithms\n",
       "109323    subject=Probabilistic_Methods   Probabilistic_Methods\n",
       "217139               subject=Case_Based              Case_Based\n",
       "31353           subject=Neural_Networks         Neural_Networks\n",
       "32083           subject=Neural_Networks         Neural_Networks\n",
       "1126029  subject=Reinforcement_Learning  Reinforcement_Learning\n",
       "1118017         subject=Neural_Networks         Neural_Networks\n",
       "49482           subject=Neural_Networks         Neural_Networks\n",
       "753265          subject=Neural_Networks         Neural_Networks"
      ]
     },
     "execution_count": 60,
     "metadata": {},
     "output_type": "execute_result"
    }
   ],
   "source": [
    "results = pd.DataFrame(node_predictions, index=all_nodes).idxmax(axis=1)\n",
    "df = pd.DataFrame({\"Predicted\": results, \"True\": node_data['subject']})\n",
    "df.head(20)"
   ]
  }
 ],
 "metadata": {
  "kernelspec": {
   "display_name": "Python 3",
   "language": "python",
   "name": "python3"
  },
  "language_info": {
   "codemirror_mode": {
    "name": "ipython",
    "version": 3
   },
   "file_extension": ".py",
   "mimetype": "text/x-python",
   "name": "python",
   "nbconvert_exporter": "python",
   "pygments_lexer": "ipython3",
   "version": "3.6.9"
  }
 },
 "nbformat": 4,
 "nbformat_minor": 2
}
