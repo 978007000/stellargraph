{
 "cells": [
  {
   "cell_type": "markdown",
   "metadata": {},
   "source": [
    "# Stellargraph example: Personalised Propagation of Neural Predictions (PPNP) and Approximate PPNP (APPNP) on the CORA citation dataset"
   ]
  },
  {
   "cell_type": "markdown",
   "metadata": {},
   "source": [
    "Import NetworkX and stellar:"
   ]
  },
  {
   "cell_type": "code",
   "execution_count": 22,
   "metadata": {},
   "outputs": [],
   "source": [
    "import networkx as nx\n",
    "import pandas as pd\n",
    "import os\n",
    "import keras\n",
    "\n",
    "import stellargraph as sg\n",
    "from stellargraph.mapper import FullBatchNodeGenerator\n",
    "from stellargraph.layer.ppnp import PPNP\n",
    "from stellargraph.layer.appnp import APPNP\n",
    "\n",
    "from keras import layers, optimizers, losses, metrics, Model\n",
    "from sklearn import preprocessing, feature_extraction, model_selection"
   ]
  },
  {
   "cell_type": "markdown",
   "metadata": {},
   "source": [
    "### Loading the CORA network"
   ]
  },
  {
   "cell_type": "markdown",
   "metadata": {},
   "source": [
    "**Downloading the CORA dataset:**\n",
    "    \n",
    "The dataset used in this demo can be downloaded from [here](https://linqs-data.soe.ucsc.edu/public/lbc/cora.tgz).\n",
    "\n",
    "The following is the description of the dataset:\n",
    "> The Cora dataset consists of 2708 scientific publications classified into one of seven classes.\n",
    "> The citation network consists of 5429 links. Each publication in the dataset is described by a\n",
    "> 0/1-valued word vector indicating the absence/presence of the corresponding word from the dictionary.\n",
    "> The dictionary consists of 1433 unique words. The README file in the dataset provides more details.\n",
    "\n",
    "Download and unzip the cora.tgz file to a location on your computer and set the `data_dir` variable to\n",
    "point to the location of the dataset (the directory containing \"cora.cites\" and \"cora.content\")."
   ]
  },
  {
   "cell_type": "code",
   "execution_count": 8,
   "metadata": {},
   "outputs": [],
   "source": [
    "data_dir = os.path.expanduser(\"~/data/cora\")"
   ]
  },
  {
   "cell_type": "markdown",
   "metadata": {},
   "source": [
    "Load the graph from edgelist (in the order `cited-paper` <- `citing-paper`)"
   ]
  },
  {
   "cell_type": "code",
   "execution_count": 9,
   "metadata": {},
   "outputs": [],
   "source": [
    "edgelist = pd.read_csv(os.path.join(data_dir, \"cora.cites\"), sep='\\t', header=None, names=[\"target\", \"source\"])\n",
    "edgelist[\"label\"] = \"cites\""
   ]
  },
  {
   "cell_type": "code",
   "execution_count": 10,
   "metadata": {},
   "outputs": [],
   "source": [
    "Gnx = nx.from_pandas_edgelist(edgelist, edge_attr=\"label\")"
   ]
  },
  {
   "cell_type": "code",
   "execution_count": 11,
   "metadata": {},
   "outputs": [],
   "source": [
    "nx.set_node_attributes(Gnx, \"paper\", \"label\")"
   ]
  },
  {
   "cell_type": "markdown",
   "metadata": {},
   "source": [
    "Load the features and subject for the nodes"
   ]
  },
  {
   "cell_type": "code",
   "execution_count": 12,
   "metadata": {},
   "outputs": [],
   "source": [
    "feature_names = [\"w_{}\".format(ii) for ii in range(1433)]\n",
    "column_names =  feature_names + [\"subject\"]\n",
    "node_data = pd.read_csv(os.path.join(data_dir, \"cora.content\"), sep='\\t', header=None, names=column_names)"
   ]
  },
  {
   "cell_type": "markdown",
   "metadata": {},
   "source": [
    "We aim to train a graph-ML model that will predict the \"subject\" attribute on the nodes. These subjects are one of 7 categories:"
   ]
  },
  {
   "cell_type": "code",
   "execution_count": 13,
   "metadata": {},
   "outputs": [
    {
     "data": {
      "text/plain": [
       "{'Case_Based',\n",
       " 'Genetic_Algorithms',\n",
       " 'Neural_Networks',\n",
       " 'Probabilistic_Methods',\n",
       " 'Reinforcement_Learning',\n",
       " 'Rule_Learning',\n",
       " 'Theory'}"
      ]
     },
     "execution_count": 13,
     "metadata": {},
     "output_type": "execute_result"
    }
   ],
   "source": [
    "set(node_data[\"subject\"])"
   ]
  },
  {
   "cell_type": "markdown",
   "metadata": {},
   "source": [
    "### Splitting the data"
   ]
  },
  {
   "cell_type": "markdown",
   "metadata": {},
   "source": [
    "For machine learning we want to take a subset of the nodes for training, and use the rest for validation and testing. We'll use scikit-learn again to do this.\n",
    "\n",
    "Here we're taking 140 node labels for training, 500 for validation, and the rest for testing."
   ]
  },
  {
   "cell_type": "code",
   "execution_count": 14,
   "metadata": {},
   "outputs": [],
   "source": [
    "train_data, test_data = model_selection.train_test_split(\n",
    "    node_data, train_size=140, test_size=None, stratify=node_data['subject']\n",
    ")\n",
    "val_data, test_data = model_selection.train_test_split(\n",
    "    test_data, train_size=500, test_size=None, stratify=test_data['subject']\n",
    ")"
   ]
  },
  {
   "cell_type": "markdown",
   "metadata": {},
   "source": [
    "Note using stratified sampling gives the following counts:"
   ]
  },
  {
   "cell_type": "code",
   "execution_count": 15,
   "metadata": {},
   "outputs": [
    {
     "data": {
      "text/plain": [
       "Counter({'Neural_Networks': 42,\n",
       "         'Rule_Learning': 9,\n",
       "         'Case_Based': 16,\n",
       "         'Genetic_Algorithms': 22,\n",
       "         'Probabilistic_Methods': 22,\n",
       "         'Theory': 18,\n",
       "         'Reinforcement_Learning': 11})"
      ]
     },
     "execution_count": 15,
     "metadata": {},
     "output_type": "execute_result"
    }
   ],
   "source": [
    "from collections import Counter\n",
    "Counter(train_data['subject'])"
   ]
  },
  {
   "cell_type": "markdown",
   "metadata": {},
   "source": [
    "The training set has class imbalance that might need to be compensated, e.g., via using a weighted cross-entropy loss in model training, with class weights inversely proportional to class support. However, we will ignore the class imbalance in this example, for simplicity."
   ]
  },
  {
   "cell_type": "markdown",
   "metadata": {},
   "source": [
    "### Converting to numeric arrays"
   ]
  },
  {
   "cell_type": "markdown",
   "metadata": {},
   "source": [
    "For our categorical target, we will use one-hot vectors that will be fed into a soft-max Keras layer during training. To do this conversion ..."
   ]
  },
  {
   "cell_type": "code",
   "execution_count": 16,
   "metadata": {},
   "outputs": [],
   "source": [
    "target_encoding = feature_extraction.DictVectorizer(sparse=False)\n",
    "\n",
    "train_targets = target_encoding.fit_transform(train_data[[\"subject\"]].to_dict('records'))\n",
    "val_targets = target_encoding.transform(val_data[[\"subject\"]].to_dict('records'))\n",
    "test_targets = target_encoding.transform(test_data[[\"subject\"]].to_dict('records'))"
   ]
  },
  {
   "cell_type": "markdown",
   "metadata": {},
   "source": [
    "We now do the same for the node attributes we want to use to predict the subject. These are the feature vectors that the Keras model will use as input. The CORA dataset contains attributes 'w_x' that correspond to words found in that publication. If a word occurs more than once in a publication the relevant attribute will be set to one, otherwise it will be zero."
   ]
  },
  {
   "cell_type": "code",
   "execution_count": 17,
   "metadata": {},
   "outputs": [],
   "source": [
    "node_features = node_data[feature_names]"
   ]
  },
  {
   "cell_type": "markdown",
   "metadata": {},
   "source": [
    "## Creating the PPNP model in Keras"
   ]
  },
  {
   "cell_type": "markdown",
   "metadata": {},
   "source": [
    "Now create a StellarGraph object from the NetworkX graph and the node features and targets. It is StellarGraph objects that we use in this library to perform machine learning tasks on."
   ]
  },
  {
   "cell_type": "code",
   "execution_count": 18,
   "metadata": {},
   "outputs": [],
   "source": [
    "G = sg.StellarGraph(Gnx, node_features=node_features)"
   ]
  },
  {
   "cell_type": "code",
   "execution_count": 19,
   "metadata": {},
   "outputs": [
    {
     "name": "stdout",
     "output_type": "stream",
     "text": [
      "StellarGraph: Undirected multigraph\n",
      " Nodes: 2708, Edges: 5278\n",
      "\n",
      " Node types:\n",
      "  paper: [2708]\n",
      "    Edge types: paper-cites->paper\n",
      "\n",
      " Edge types:\n",
      "    paper-cites->paper: [5278]\n",
      "\n"
     ]
    }
   ],
   "source": [
    "print(G.info())"
   ]
  },
  {
   "cell_type": "markdown",
   "metadata": {},
   "source": [
    "To feed data from the graph to the Keras model we need a generator. Since PPNP is a full-batch model, we use the `FullBatchNodeGenerator` class to feed node features and the normalized graph Laplacian matrix to the model.\n",
    "\n",
    "Specifying the `method='gcn'` argument to the `FullBatchNodeGenerator` will pre-process the adjacency matrix and supply the normalized graph Laplacian matrix to the model."
   ]
  },
  {
   "cell_type": "code",
   "execution_count": 30,
   "metadata": {},
   "outputs": [
    {
     "name": "stdout",
     "output_type": "stream",
     "text": [
      "Using GCN (local pooling) filters...\n"
     ]
    }
   ],
   "source": [
    "generator = FullBatchNodeGenerator(G, method=\"gcn\")"
   ]
  },
  {
   "cell_type": "markdown",
   "metadata": {},
   "source": [
    "For training we map only the training nodes returned from our splitter and the target values."
   ]
  },
  {
   "cell_type": "code",
   "execution_count": 31,
   "metadata": {},
   "outputs": [],
   "source": [
    "train_gen = generator.flow(train_data.index, train_targets)"
   ]
  },
  {
   "cell_type": "markdown",
   "metadata": {},
   "source": [
    "Now we can specify our machine learning model, we need a few more parameters for this:\n",
    "\n",
    " * the `layer_sizes` is a list of hidden feature sizes of each full fully connected layer in the model. In this example we use three fully connected layers with 64,64, and 7 hidden node features at each layer. \n",
    " * `activations` is a list of activations applied to each layer's output\n",
    " * `dropout=0.5` specifies a 50% dropout at each layer. \n",
    " \n",
    " #### Note that the size of the final fully connected layer must be equal to the number of classes you are trying to predict.\n"
   ]
  },
  {
   "cell_type": "markdown",
   "metadata": {},
   "source": [
    "We create a PPNP model as follows:"
   ]
  },
  {
   "cell_type": "code",
   "execution_count": 43,
   "metadata": {},
   "outputs": [],
   "source": [
    "ppnp = PPNP([64, 64, 7], ['relu', 'relu', 'relu'], \n",
    "             generator, transport_probability=0.1, \n",
    "              dropout=0.5, kernel_regularizer=keras.regularizers.l2(0.001))\n",
    "\n",
    "x_inp, x_out = ppnp.node_model()\n",
    "\n",
    "model = keras.models.Model(inputs=x_inp, outputs=x_out)\n",
    "model.compile(loss='categorical_crossentropy', metrics=['acc'],\n",
    "                  optimizer=keras.optimizers.Adam(lr=0.01))\n"
   ]
  },
  {
   "cell_type": "markdown",
   "metadata": {},
   "source": [
    "### Training the model"
   ]
  },
  {
   "cell_type": "markdown",
   "metadata": {},
   "source": [
    "Now let's create the actual Keras model with the input tensors `x_inp` and output tensors being the predictions `predictions` from the final dense layer"
   ]
  },
  {
   "cell_type": "code",
   "execution_count": 44,
   "metadata": {},
   "outputs": [],
   "source": [
    "model = Model(inputs=x_inp, outputs=x_out)\n",
    "model.compile(\n",
    "    optimizer=optimizers.Adam(lr=0.01),\n",
    "    loss=losses.categorical_crossentropy,\n",
    "    metrics=[\"acc\"],\n",
    ")"
   ]
  },
  {
   "cell_type": "markdown",
   "metadata": {},
   "source": [
    "Train the model, keeping track of its loss and accuracy on the training set, and its generalisation performance on the validation set (we need to create another generator over the validation data for this)"
   ]
  },
  {
   "cell_type": "code",
   "execution_count": 45,
   "metadata": {},
   "outputs": [],
   "source": [
    "val_gen = generator.flow(val_data.index, val_targets)"
   ]
  },
  {
   "cell_type": "markdown",
   "metadata": {},
   "source": [
    "Create callbacks for early stopping (if validation accuracy stops improving) and best model checkpoint saving:"
   ]
  },
  {
   "cell_type": "code",
   "execution_count": 46,
   "metadata": {},
   "outputs": [],
   "source": [
    "from keras.callbacks import EarlyStopping, ModelCheckpoint\n",
    "if not os.path.isdir(\"logs\"):\n",
    "    os.makedirs(\"logs\")\n",
    "es_callback = EarlyStopping(monitor=\"val_acc\", patience=50)  # patience is the number of epochs to wait before early stopping in case of no further improvement\n",
    "mc_callback = ModelCheckpoint(\n",
    "    \"logs/best_model.h5\",\n",
    "    monitor=\"val_acc\",\n",
    "    save_best_only=True,\n",
    "    save_weights_only=True,\n",
    ")"
   ]
  },
  {
   "cell_type": "markdown",
   "metadata": {},
   "source": [
    "Train the model"
   ]
  },
  {
   "cell_type": "code",
   "execution_count": 47,
   "metadata": {},
   "outputs": [
    {
     "name": "stdout",
     "output_type": "stream",
     "text": [
      "Epoch 1/80\n",
      " - 1s - loss: 2.1519 - acc: 0.1286 - val_loss: 2.0960 - val_acc: 0.3520\n",
      "Epoch 2/80\n",
      " - 0s - loss: 2.0943 - acc: 0.2571 - val_loss: 2.0401 - val_acc: 0.3500\n",
      "Epoch 3/80\n",
      " - 0s - loss: 2.0338 - acc: 0.3286 - val_loss: 1.9791 - val_acc: 0.3060\n",
      "Epoch 4/80\n",
      " - 0s - loss: 1.9415 - acc: 0.3357 - val_loss: 1.9169 - val_acc: 0.3020\n",
      "Epoch 5/80\n",
      " - 0s - loss: 1.9144 - acc: 0.3214 - val_loss: 1.8584 - val_acc: 0.3020\n",
      "Epoch 6/80\n",
      " - 0s - loss: 1.8717 - acc: 0.3429 - val_loss: 1.8049 - val_acc: 0.3260\n",
      "Epoch 7/80\n",
      " - 0s - loss: 1.8452 - acc: 0.3286 - val_loss: 1.7406 - val_acc: 0.4000\n",
      "Epoch 8/80\n",
      " - 0s - loss: 1.8435 - acc: 0.3500 - val_loss: 1.6659 - val_acc: 0.4640\n",
      "Epoch 9/80\n",
      " - 0s - loss: 1.7051 - acc: 0.4214 - val_loss: 1.5980 - val_acc: 0.5400\n",
      "Epoch 10/80\n",
      " - 0s - loss: 1.6535 - acc: 0.4286 - val_loss: 1.5395 - val_acc: 0.5720\n",
      "Epoch 11/80\n",
      " - 0s - loss: 1.5633 - acc: 0.5000 - val_loss: 1.4843 - val_acc: 0.5860\n",
      "Epoch 12/80\n",
      " - 0s - loss: 1.5498 - acc: 0.4643 - val_loss: 1.4277 - val_acc: 0.6400\n",
      "Epoch 13/80\n",
      " - 0s - loss: 1.4812 - acc: 0.5643 - val_loss: 1.3694 - val_acc: 0.6560\n",
      "Epoch 14/80\n",
      " - 0s - loss: 1.4449 - acc: 0.5714 - val_loss: 1.3187 - val_acc: 0.6560\n",
      "Epoch 15/80\n",
      " - 0s - loss: 1.3715 - acc: 0.6143 - val_loss: 1.2845 - val_acc: 0.6520\n",
      "Epoch 16/80\n",
      " - 0s - loss: 1.3477 - acc: 0.6000 - val_loss: 1.2569 - val_acc: 0.6540\n",
      "Epoch 17/80\n",
      " - 0s - loss: 1.3307 - acc: 0.5643 - val_loss: 1.2276 - val_acc: 0.6540\n",
      "Epoch 18/80\n",
      " - 0s - loss: 1.2821 - acc: 0.6071 - val_loss: 1.2017 - val_acc: 0.6560\n",
      "Epoch 19/80\n",
      " - 0s - loss: 1.1703 - acc: 0.6357 - val_loss: 1.1831 - val_acc: 0.7120\n",
      "Epoch 20/80\n",
      " - 0s - loss: 1.1847 - acc: 0.6500 - val_loss: 1.1700 - val_acc: 0.7380\n",
      "Epoch 21/80\n",
      " - 0s - loss: 1.1675 - acc: 0.7214 - val_loss: 1.1550 - val_acc: 0.7200\n",
      "Epoch 22/80\n",
      " - 0s - loss: 1.1345 - acc: 0.6786 - val_loss: 1.1321 - val_acc: 0.7400\n",
      "Epoch 23/80\n",
      " - 0s - loss: 1.1028 - acc: 0.6929 - val_loss: 1.1049 - val_acc: 0.7340\n",
      "Epoch 24/80\n",
      " - 0s - loss: 1.1644 - acc: 0.6714 - val_loss: 1.0881 - val_acc: 0.7320\n",
      "Epoch 25/80\n",
      " - 0s - loss: 1.0218 - acc: 0.7429 - val_loss: 1.0761 - val_acc: 0.7300\n",
      "Epoch 26/80\n",
      " - 0s - loss: 1.0136 - acc: 0.7214 - val_loss: 1.0610 - val_acc: 0.7400\n",
      "Epoch 27/80\n",
      " - 0s - loss: 1.1007 - acc: 0.6857 - val_loss: 1.0448 - val_acc: 0.7500\n",
      "Epoch 28/80\n",
      " - 0s - loss: 1.0572 - acc: 0.7286 - val_loss: 1.0273 - val_acc: 0.7540\n",
      "Epoch 29/80\n",
      " - 0s - loss: 1.0321 - acc: 0.7429 - val_loss: 1.0048 - val_acc: 0.7520\n",
      "Epoch 30/80\n",
      " - 0s - loss: 0.9806 - acc: 0.7286 - val_loss: 0.9878 - val_acc: 0.7680\n",
      "Epoch 31/80\n",
      " - 0s - loss: 1.0023 - acc: 0.7500 - val_loss: 0.9734 - val_acc: 0.7960\n",
      "Epoch 32/80\n",
      " - 0s - loss: 0.9450 - acc: 0.7643 - val_loss: 0.9638 - val_acc: 0.7880\n",
      "Epoch 33/80\n",
      " - 0s - loss: 0.9686 - acc: 0.7357 - val_loss: 0.9560 - val_acc: 0.7940\n",
      "Epoch 34/80\n",
      " - 0s - loss: 0.9003 - acc: 0.8143 - val_loss: 0.9455 - val_acc: 0.7880\n",
      "Epoch 35/80\n",
      " - 0s - loss: 0.8747 - acc: 0.8000 - val_loss: 0.9363 - val_acc: 0.7900\n",
      "Epoch 36/80\n",
      " - 0s - loss: 0.8399 - acc: 0.7929 - val_loss: 0.9250 - val_acc: 0.8080\n",
      "Epoch 37/80\n",
      " - 0s - loss: 0.8170 - acc: 0.8429 - val_loss: 0.9178 - val_acc: 0.8400\n",
      "Epoch 38/80\n",
      " - 0s - loss: 0.7925 - acc: 0.7929 - val_loss: 0.9118 - val_acc: 0.8400\n",
      "Epoch 39/80\n",
      " - 0s - loss: 0.7822 - acc: 0.8357 - val_loss: 0.9109 - val_acc: 0.8400\n",
      "Epoch 40/80\n",
      " - 0s - loss: 0.8260 - acc: 0.8357 - val_loss: 0.9101 - val_acc: 0.8360\n",
      "Epoch 41/80\n",
      " - 0s - loss: 0.8489 - acc: 0.8143 - val_loss: 0.8993 - val_acc: 0.8360\n",
      "Epoch 42/80\n",
      " - 0s - loss: 0.7839 - acc: 0.8571 - val_loss: 0.8857 - val_acc: 0.8380\n",
      "Epoch 43/80\n",
      " - 0s - loss: 0.7359 - acc: 0.8786 - val_loss: 0.8730 - val_acc: 0.8460\n",
      "Epoch 44/80\n",
      " - 0s - loss: 0.7436 - acc: 0.8500 - val_loss: 0.8608 - val_acc: 0.8540\n",
      "Epoch 45/80\n",
      " - 0s - loss: 0.8052 - acc: 0.8286 - val_loss: 0.8513 - val_acc: 0.8480\n",
      "Epoch 46/80\n",
      " - 0s - loss: 0.6926 - acc: 0.8857 - val_loss: 0.8473 - val_acc: 0.8460\n",
      "Epoch 47/80\n",
      " - 0s - loss: 0.7591 - acc: 0.8857 - val_loss: 0.8463 - val_acc: 0.8500\n",
      "Epoch 48/80\n",
      " - 0s - loss: 0.7353 - acc: 0.8571 - val_loss: 0.8390 - val_acc: 0.8580\n",
      "Epoch 49/80\n",
      " - 0s - loss: 0.7108 - acc: 0.8929 - val_loss: 0.8374 - val_acc: 0.8680\n",
      "Epoch 50/80\n",
      " - 0s - loss: 0.7719 - acc: 0.8571 - val_loss: 0.8483 - val_acc: 0.8600\n",
      "Epoch 51/80\n",
      " - 0s - loss: 0.7347 - acc: 0.8429 - val_loss: 0.8624 - val_acc: 0.8560\n",
      "Epoch 52/80\n",
      " - 0s - loss: 0.7434 - acc: 0.8714 - val_loss: 0.8665 - val_acc: 0.8500\n",
      "Epoch 53/80\n",
      " - 0s - loss: 0.7464 - acc: 0.8571 - val_loss: 0.8563 - val_acc: 0.8520\n",
      "Epoch 54/80\n",
      " - 0s - loss: 0.7704 - acc: 0.8714 - val_loss: 0.8346 - val_acc: 0.8560\n",
      "Epoch 55/80\n",
      " - 0s - loss: 0.6466 - acc: 0.9143 - val_loss: 0.8136 - val_acc: 0.8700\n",
      "Epoch 56/80\n",
      " - 0s - loss: 0.7008 - acc: 0.8929 - val_loss: 0.8093 - val_acc: 0.8700\n",
      "Epoch 57/80\n",
      " - 0s - loss: 0.7607 - acc: 0.8929 - val_loss: 0.8128 - val_acc: 0.8600\n",
      "Epoch 58/80\n",
      " - 0s - loss: 0.6444 - acc: 0.8929 - val_loss: 0.8165 - val_acc: 0.8600\n",
      "Epoch 59/80\n",
      " - 0s - loss: 0.6684 - acc: 0.8929 - val_loss: 0.8187 - val_acc: 0.8560\n",
      "Epoch 60/80\n",
      " - 0s - loss: 0.6227 - acc: 0.9214 - val_loss: 0.8271 - val_acc: 0.8560\n",
      "Epoch 61/80\n",
      " - 0s - loss: 0.7533 - acc: 0.8643 - val_loss: 0.8381 - val_acc: 0.8720\n",
      "Epoch 62/80\n",
      " - 0s - loss: 0.6371 - acc: 0.8929 - val_loss: 0.8551 - val_acc: 0.8660\n",
      "Epoch 63/80\n",
      " - 0s - loss: 0.8022 - acc: 0.8714 - val_loss: 0.8570 - val_acc: 0.8600\n",
      "Epoch 64/80\n",
      " - 0s - loss: 0.6840 - acc: 0.9071 - val_loss: 0.8593 - val_acc: 0.8580\n",
      "Epoch 65/80\n",
      " - 0s - loss: 0.7069 - acc: 0.9143 - val_loss: 0.8637 - val_acc: 0.8500\n",
      "Epoch 66/80\n",
      " - 0s - loss: 0.6888 - acc: 0.8929 - val_loss: 0.8658 - val_acc: 0.8500\n",
      "Epoch 67/80\n",
      " - 0s - loss: 0.6757 - acc: 0.9071 - val_loss: 0.8618 - val_acc: 0.8520\n",
      "Epoch 68/80\n",
      " - 0s - loss: 0.6343 - acc: 0.9143 - val_loss: 0.8512 - val_acc: 0.8520\n",
      "Epoch 69/80\n",
      " - 0s - loss: 0.6302 - acc: 0.9000 - val_loss: 0.8429 - val_acc: 0.8580\n",
      "Epoch 70/80\n",
      " - 0s - loss: 0.6015 - acc: 0.9286 - val_loss: 0.8416 - val_acc: 0.8640\n",
      "Epoch 71/80\n",
      " - 0s - loss: 0.6442 - acc: 0.9143 - val_loss: 0.8501 - val_acc: 0.8700\n",
      "Epoch 72/80\n",
      " - 0s - loss: 0.7512 - acc: 0.8929 - val_loss: 0.8685 - val_acc: 0.8620\n",
      "Epoch 73/80\n",
      " - 0s - loss: 0.6792 - acc: 0.9000 - val_loss: 0.8934 - val_acc: 0.8500\n",
      "Epoch 74/80\n",
      " - 0s - loss: 0.7154 - acc: 0.8786 - val_loss: 0.9165 - val_acc: 0.8460\n",
      "Epoch 75/80\n",
      " - 0s - loss: 0.5998 - acc: 0.9429 - val_loss: 0.9311 - val_acc: 0.8400\n",
      "Epoch 76/80\n",
      " - 0s - loss: 0.5786 - acc: 0.9214 - val_loss: 0.9261 - val_acc: 0.8420\n",
      "Epoch 77/80\n",
      " - 0s - loss: 0.7564 - acc: 0.8929 - val_loss: 0.8964 - val_acc: 0.8540\n",
      "Epoch 78/80\n",
      " - 0s - loss: 0.5439 - acc: 0.9429 - val_loss: 0.8746 - val_acc: 0.8560\n",
      "Epoch 79/80\n",
      " - 0s - loss: 0.5875 - acc: 0.9214 - val_loss: 0.8564 - val_acc: 0.8660\n",
      "Epoch 80/80\n",
      " - 0s - loss: 0.5806 - acc: 0.9500 - val_loss: 0.8405 - val_acc: 0.8720\n"
     ]
    }
   ],
   "source": [
    "history = model.fit_generator(\n",
    "    train_gen,\n",
    "    epochs=80,\n",
    "    validation_data=val_gen,\n",
    "    verbose=2,\n",
    "    shuffle=False,  # this should be False, since shuffling data means shuffling the whole graph\n",
    "    callbacks=[es_callback, mc_callback],\n",
    ")"
   ]
  },
  {
   "cell_type": "markdown",
   "metadata": {},
   "source": [
    "Plot the training history:"
   ]
  },
  {
   "cell_type": "code",
   "execution_count": 48,
   "metadata": {},
   "outputs": [],
   "source": [
    "import matplotlib.pyplot as plt\n",
    "%matplotlib inline\n",
    "\n",
    "def remove_prefix(text, prefix):\n",
    "    return text[text.startswith(prefix) and len(prefix):]\n",
    "\n",
    "def plot_history(history):\n",
    "    metrics = sorted(set([remove_prefix(m, \"val_\") for m in list(history.history.keys())]))\n",
    "    for m in metrics:\n",
    "        # summarize history for metric m\n",
    "        plt.plot(history.history[m])\n",
    "        plt.plot(history.history['val_' + m])\n",
    "        plt.title(m)\n",
    "        plt.ylabel(m)\n",
    "        plt.xlabel('epoch')\n",
    "        plt.legend(['train', 'validation'], loc='best')\n",
    "        plt.show()"
   ]
  },
  {
   "cell_type": "code",
   "execution_count": 49,
   "metadata": {},
   "outputs": [
    {
     "data": {
      "image/png": "[encoded data removed]",
      "text/plain": [
       "<Figure size 432x288 with 1 Axes>"
      ]
     },
     "metadata": {
      "needs_background": "light"
     },
     "output_type": "display_data"
    },
    {
     "data": {
      "image/png": "[encoded data removed]",
      "text/plain": [
       "<Figure size 432x288 with 1 Axes>"
      ]
     },
     "metadata": {
      "needs_background": "light"
     },
     "output_type": "display_data"
    }
   ],
   "source": [
    "plot_history(history)"
   ]
  },
  {
   "cell_type": "markdown",
   "metadata": {},
   "source": [
    "Reload the saved weights of the best model found during the training (according to validation accuracy)"
   ]
  },
  {
   "cell_type": "code",
   "execution_count": 50,
   "metadata": {},
   "outputs": [],
   "source": [
    "model.load_weights(\"logs/best_model.h5\")"
   ]
  },
  {
   "cell_type": "markdown",
   "metadata": {},
   "source": [
    "Evaluate the best model on the test set"
   ]
  },
  {
   "cell_type": "code",
   "execution_count": 51,
   "metadata": {},
   "outputs": [],
   "source": [
    "test_gen = generator.flow(test_data.index, test_targets)"
   ]
  },
  {
   "cell_type": "code",
   "execution_count": 52,
   "metadata": {},
   "outputs": [
    {
     "name": "stdout",
     "output_type": "stream",
     "text": [
      "\n",
      "Test Set Metrics:\n",
      "\tloss: 0.8292\n",
      "\tacc: 0.8486\n"
     ]
    }
   ],
   "source": [
    "test_metrics = model.evaluate_generator(test_gen)\n",
    "print(\"\\nTest Set Metrics:\")\n",
    "for name, val in zip(model.metrics_names, test_metrics):\n",
    "    print(\"\\t{}: {:0.4f}\".format(name, val))"
   ]
  },
  {
   "cell_type": "markdown",
   "metadata": {},
   "source": [
    "## Using the Approximate PPNP Model\n",
    "\n",
    "Lets repeat the training and testing steps with the APPNP model using the same dataset. The downside of the PPNP is that you have to invert the adjacency matrix - which is time inneficient for large graphs - and store that invert matrix - which is space innefficient! The approximate model avoids this issue by using a clever mathematical trick."
   ]
  },
  {
   "cell_type": "code",
   "execution_count": 56,
   "metadata": {},
   "outputs": [
    {
     "name": "stdout",
     "output_type": "stream",
     "text": [
      "Epoch 1/120\n",
      " - 1s - loss: 2.1426 - acc: 0.1571 - val_loss: 2.0705 - val_acc: 0.3040\n",
      "Epoch 2/120\n",
      " - 0s - loss: 2.0689 - acc: 0.2857 - val_loss: 2.0102 - val_acc: 0.3040\n",
      "Epoch 3/120\n",
      " - 0s - loss: 2.0050 - acc: 0.3071 - val_loss: 1.9445 - val_acc: 0.3260\n",
      "Epoch 4/120\n",
      " - 0s - loss: 2.0782 - acc: 0.2571 - val_loss: 1.9037 - val_acc: 0.4620\n",
      "Epoch 5/120\n",
      " - 0s - loss: 1.9717 - acc: 0.3000 - val_loss: 1.8636 - val_acc: 0.4880\n",
      "Epoch 6/120\n",
      " - 0s - loss: 1.9264 - acc: 0.3214 - val_loss: 1.8226 - val_acc: 0.5080\n",
      "Epoch 7/120\n",
      " - 0s - loss: 1.8372 - acc: 0.4143 - val_loss: 1.7673 - val_acc: 0.5360\n",
      "Epoch 8/120\n",
      " - 0s - loss: 1.8418 - acc: 0.3571 - val_loss: 1.7031 - val_acc: 0.5580\n",
      "Epoch 9/120\n",
      " - 0s - loss: 1.8350 - acc: 0.4286 - val_loss: 1.6307 - val_acc: 0.5720\n",
      "Epoch 10/120\n",
      " - 0s - loss: 1.7053 - acc: 0.4857 - val_loss: 1.5532 - val_acc: 0.6100\n",
      "Epoch 11/120\n",
      " - 0s - loss: 1.6724 - acc: 0.5286 - val_loss: 1.4702 - val_acc: 0.6420\n",
      "Epoch 12/120\n",
      " - 0s - loss: 1.6221 - acc: 0.5571 - val_loss: 1.3900 - val_acc: 0.6540\n",
      "Epoch 13/120\n",
      " - 0s - loss: 1.5806 - acc: 0.5714 - val_loss: 1.3196 - val_acc: 0.6700\n",
      "Epoch 14/120\n",
      " - 0s - loss: 1.5121 - acc: 0.5643 - val_loss: 1.2662 - val_acc: 0.6760\n",
      "Epoch 15/120\n",
      " - 0s - loss: 1.5053 - acc: 0.5571 - val_loss: 1.2273 - val_acc: 0.6880\n",
      "Epoch 16/120\n",
      " - 0s - loss: 1.5432 - acc: 0.5786 - val_loss: 1.2035 - val_acc: 0.7060\n",
      "Epoch 17/120\n",
      " - 0s - loss: 1.6699 - acc: 0.6071 - val_loss: 1.1917 - val_acc: 0.7120\n",
      "Epoch 18/120\n",
      " - 0s - loss: 1.3814 - acc: 0.6429 - val_loss: 1.1872 - val_acc: 0.7200\n",
      "Epoch 19/120\n",
      " - 0s - loss: 1.4038 - acc: 0.6429 - val_loss: 1.1778 - val_acc: 0.7300\n",
      "Epoch 20/120\n",
      " - 0s - loss: 1.3249 - acc: 0.6714 - val_loss: 1.1659 - val_acc: 0.7420\n",
      "Epoch 21/120\n",
      " - 0s - loss: 1.2045 - acc: 0.7000 - val_loss: 1.1576 - val_acc: 0.7460\n",
      "Epoch 22/120\n",
      " - 0s - loss: 1.3589 - acc: 0.6714 - val_loss: 1.1522 - val_acc: 0.7340\n",
      "Epoch 23/120\n",
      " - 0s - loss: 1.3587 - acc: 0.6286 - val_loss: 1.1496 - val_acc: 0.7340\n",
      "Epoch 24/120\n",
      " - 0s - loss: 1.2335 - acc: 0.6714 - val_loss: 1.1462 - val_acc: 0.7320\n",
      "Epoch 25/120\n",
      " - 0s - loss: 1.2591 - acc: 0.7214 - val_loss: 1.1294 - val_acc: 0.7300\n",
      "Epoch 26/120\n",
      " - 0s - loss: 1.3861 - acc: 0.7000 - val_loss: 1.1146 - val_acc: 0.7300\n",
      "Epoch 27/120\n",
      " - 0s - loss: 1.3017 - acc: 0.7143 - val_loss: 1.1075 - val_acc: 0.7280\n",
      "Epoch 28/120\n",
      " - 0s - loss: 1.1823 - acc: 0.7071 - val_loss: 1.1001 - val_acc: 0.7320\n",
      "Epoch 29/120\n",
      " - 0s - loss: 1.1300 - acc: 0.7643 - val_loss: 1.0897 - val_acc: 0.7540\n",
      "Epoch 30/120\n",
      " - 0s - loss: 1.1524 - acc: 0.7429 - val_loss: 1.0790 - val_acc: 0.7740\n",
      "Epoch 31/120\n",
      " - 0s - loss: 1.0574 - acc: 0.7929 - val_loss: 1.0700 - val_acc: 0.7820\n",
      "Epoch 32/120\n",
      " - 0s - loss: 1.1373 - acc: 0.7929 - val_loss: 1.0583 - val_acc: 0.7860\n",
      "Epoch 33/120\n",
      " - 0s - loss: 1.0880 - acc: 0.7929 - val_loss: 1.0484 - val_acc: 0.7800\n",
      "Epoch 34/120\n",
      " - 0s - loss: 0.9699 - acc: 0.8286 - val_loss: 1.0386 - val_acc: 0.7860\n",
      "Epoch 35/120\n",
      " - 0s - loss: 0.9501 - acc: 0.8000 - val_loss: 1.0281 - val_acc: 0.7980\n",
      "Epoch 36/120\n",
      " - 0s - loss: 1.1480 - acc: 0.7429 - val_loss: 1.0231 - val_acc: 0.8060\n",
      "Epoch 37/120\n",
      " - 0s - loss: 1.0419 - acc: 0.7786 - val_loss: 1.0158 - val_acc: 0.8020\n",
      "Epoch 38/120\n",
      " - 0s - loss: 1.0550 - acc: 0.7929 - val_loss: 1.0097 - val_acc: 0.7980\n",
      "Epoch 39/120\n",
      " - 0s - loss: 1.0135 - acc: 0.7643 - val_loss: 1.0051 - val_acc: 0.7960\n",
      "Epoch 40/120\n",
      " - 0s - loss: 0.9970 - acc: 0.7857 - val_loss: 0.9961 - val_acc: 0.7980\n",
      "Epoch 41/120\n",
      " - 0s - loss: 0.9793 - acc: 0.8429 - val_loss: 0.9926 - val_acc: 0.7960\n",
      "Epoch 42/120\n",
      " - 0s - loss: 1.0378 - acc: 0.8143 - val_loss: 0.9853 - val_acc: 0.8080\n",
      "Epoch 43/120\n",
      " - 0s - loss: 1.0830 - acc: 0.7929 - val_loss: 0.9835 - val_acc: 0.8100\n",
      "Epoch 44/120\n",
      " - 0s - loss: 0.9497 - acc: 0.8500 - val_loss: 0.9863 - val_acc: 0.8080\n",
      "Epoch 45/120\n",
      " - 0s - loss: 0.9108 - acc: 0.8286 - val_loss: 0.9871 - val_acc: 0.8060\n",
      "Epoch 46/120\n",
      " - 0s - loss: 0.9609 - acc: 0.8071 - val_loss: 0.9905 - val_acc: 0.8120\n",
      "Epoch 47/120\n",
      " - 0s - loss: 1.0859 - acc: 0.7714 - val_loss: 1.0027 - val_acc: 0.8180\n",
      "Epoch 48/120\n",
      " - 0s - loss: 0.9352 - acc: 0.8714 - val_loss: 1.0286 - val_acc: 0.8180\n",
      "Epoch 49/120\n",
      " - 0s - loss: 0.9555 - acc: 0.8286 - val_loss: 1.0430 - val_acc: 0.8080\n",
      "Epoch 50/120\n",
      " - 0s - loss: 0.7884 - acc: 0.8857 - val_loss: 1.0532 - val_acc: 0.8040\n",
      "Epoch 51/120\n",
      " - 0s - loss: 0.8664 - acc: 0.8571 - val_loss: 1.0573 - val_acc: 0.7980\n",
      "Epoch 52/120\n",
      " - 0s - loss: 0.9894 - acc: 0.8071 - val_loss: 1.0481 - val_acc: 0.8020\n",
      "Epoch 53/120\n",
      " - 0s - loss: 0.8933 - acc: 0.8071 - val_loss: 1.0302 - val_acc: 0.8020\n",
      "Epoch 54/120\n",
      " - 0s - loss: 0.8780 - acc: 0.8357 - val_loss: 1.0098 - val_acc: 0.8180\n",
      "Epoch 55/120\n",
      " - 0s - loss: 0.9404 - acc: 0.8571 - val_loss: 0.9899 - val_acc: 0.8180\n",
      "Epoch 56/120\n",
      " - 0s - loss: 0.9473 - acc: 0.8571 - val_loss: 0.9838 - val_acc: 0.8160\n",
      "Epoch 57/120\n",
      " - 0s - loss: 0.9457 - acc: 0.8643 - val_loss: 0.9794 - val_acc: 0.8220\n",
      "Epoch 58/120\n",
      " - 0s - loss: 0.7623 - acc: 0.8929 - val_loss: 0.9795 - val_acc: 0.8320\n",
      "Epoch 59/120\n",
      " - 0s - loss: 0.8730 - acc: 0.8500 - val_loss: 0.9751 - val_acc: 0.8400\n",
      "Epoch 60/120\n",
      " - 0s - loss: 0.7734 - acc: 0.8786 - val_loss: 0.9692 - val_acc: 0.8400\n",
      "Epoch 61/120\n",
      " - 0s - loss: 0.8881 - acc: 0.8714 - val_loss: 0.9594 - val_acc: 0.8420\n",
      "Epoch 62/120\n",
      " - 0s - loss: 0.7524 - acc: 0.9071 - val_loss: 0.9545 - val_acc: 0.8500\n",
      "Epoch 63/120\n",
      " - 0s - loss: 0.8422 - acc: 0.8786 - val_loss: 0.9517 - val_acc: 0.8520\n",
      "Epoch 64/120\n",
      " - 0s - loss: 0.9348 - acc: 0.8571 - val_loss: 0.9553 - val_acc: 0.8520\n",
      "Epoch 65/120\n",
      " - 0s - loss: 0.9381 - acc: 0.8500 - val_loss: 0.9563 - val_acc: 0.8420\n",
      "Epoch 66/120\n",
      " - 0s - loss: 0.8361 - acc: 0.8786 - val_loss: 0.9585 - val_acc: 0.8400\n",
      "Epoch 67/120\n",
      " - 0s - loss: 0.9248 - acc: 0.8429 - val_loss: 0.9538 - val_acc: 0.8480\n",
      "Epoch 68/120\n",
      " - 0s - loss: 0.7671 - acc: 0.9000 - val_loss: 0.9525 - val_acc: 0.8460\n",
      "Epoch 69/120\n",
      " - 0s - loss: 1.0864 - acc: 0.8143 - val_loss: 0.9533 - val_acc: 0.8440\n",
      "Epoch 70/120\n",
      " - 0s - loss: 0.8768 - acc: 0.8714 - val_loss: 0.9658 - val_acc: 0.8400\n",
      "Epoch 71/120\n",
      " - 0s - loss: 0.9212 - acc: 0.8357 - val_loss: 0.9727 - val_acc: 0.8460\n",
      "Epoch 72/120\n",
      " - 0s - loss: 0.7840 - acc: 0.8929 - val_loss: 0.9811 - val_acc: 0.8380\n",
      "Epoch 73/120\n",
      " - 0s - loss: 0.7842 - acc: 0.9286 - val_loss: 0.9868 - val_acc: 0.8300\n",
      "Epoch 74/120\n",
      " - 0s - loss: 0.8028 - acc: 0.8929 - val_loss: 0.9877 - val_acc: 0.8280\n",
      "Epoch 75/120\n",
      " - 0s - loss: 0.8295 - acc: 0.8929 - val_loss: 0.9865 - val_acc: 0.8360\n",
      "Epoch 76/120\n",
      " - 0s - loss: 0.8514 - acc: 0.9000 - val_loss: 0.9840 - val_acc: 0.8360\n",
      "Epoch 77/120\n",
      " - 0s - loss: 0.9243 - acc: 0.8929 - val_loss: 0.9797 - val_acc: 0.8400\n",
      "Epoch 78/120\n",
      " - 0s - loss: 0.9326 - acc: 0.8714 - val_loss: 0.9696 - val_acc: 0.8440\n",
      "Epoch 79/120\n",
      " - 0s - loss: 0.7427 - acc: 0.9000 - val_loss: 0.9627 - val_acc: 0.8500\n",
      "Epoch 80/120\n",
      " - 0s - loss: 0.7513 - acc: 0.8929 - val_loss: 0.9563 - val_acc: 0.8480\n",
      "Epoch 81/120\n",
      " - 0s - loss: 0.8681 - acc: 0.8714 - val_loss: 0.9475 - val_acc: 0.8520\n",
      "Epoch 82/120\n",
      " - 0s - loss: 0.7664 - acc: 0.9143 - val_loss: 0.9418 - val_acc: 0.8560\n",
      "Epoch 83/120\n",
      " - 0s - loss: 0.6758 - acc: 0.9357 - val_loss: 0.9336 - val_acc: 0.8540\n",
      "Epoch 84/120\n",
      " - 0s - loss: 0.8025 - acc: 0.9143 - val_loss: 0.9257 - val_acc: 0.8580\n",
      "Epoch 85/120\n",
      " - 0s - loss: 0.7691 - acc: 0.9071 - val_loss: 0.9173 - val_acc: 0.8560\n",
      "Epoch 86/120\n",
      " - 0s - loss: 0.8351 - acc: 0.8643 - val_loss: 0.9106 - val_acc: 0.8580\n",
      "Epoch 87/120\n",
      " - 0s - loss: 0.7556 - acc: 0.9143 - val_loss: 0.9113 - val_acc: 0.8480\n",
      "Epoch 88/120\n",
      " - 0s - loss: 0.7493 - acc: 0.9143 - val_loss: 0.9158 - val_acc: 0.8460\n",
      "Epoch 89/120\n",
      " - 0s - loss: 0.8020 - acc: 0.8714 - val_loss: 0.9184 - val_acc: 0.8480\n",
      "Epoch 90/120\n",
      " - 0s - loss: 0.7865 - acc: 0.9000 - val_loss: 0.9208 - val_acc: 0.8560\n",
      "Epoch 91/120\n",
      " - 0s - loss: 0.7234 - acc: 0.9286 - val_loss: 0.9213 - val_acc: 0.8540\n",
      "Epoch 92/120\n",
      " - 0s - loss: 0.8583 - acc: 0.8929 - val_loss: 0.9283 - val_acc: 0.8600\n",
      "Epoch 93/120\n",
      " - 0s - loss: 0.7117 - acc: 0.9214 - val_loss: 0.9310 - val_acc: 0.8640\n",
      "Epoch 94/120\n",
      " - 0s - loss: 0.8003 - acc: 0.8929 - val_loss: 0.9277 - val_acc: 0.8620\n",
      "Epoch 95/120\n",
      " - 0s - loss: 0.7975 - acc: 0.9357 - val_loss: 0.9201 - val_acc: 0.8620\n",
      "Epoch 96/120\n",
      " - 0s - loss: 0.7420 - acc: 0.9357 - val_loss: 0.9188 - val_acc: 0.8560\n",
      "Epoch 97/120\n",
      " - 0s - loss: 0.7912 - acc: 0.8786 - val_loss: 0.9277 - val_acc: 0.8560\n"
     ]
    },
    {
     "name": "stdout",
     "output_type": "stream",
     "text": [
      "Epoch 98/120\n",
      " - 0s - loss: 0.7414 - acc: 0.9286 - val_loss: 0.9366 - val_acc: 0.8460\n",
      "Epoch 99/120\n",
      " - 0s - loss: 0.7939 - acc: 0.9071 - val_loss: 0.9458 - val_acc: 0.8400\n",
      "Epoch 100/120\n",
      " - 0s - loss: 0.7149 - acc: 0.9357 - val_loss: 0.9506 - val_acc: 0.8380\n",
      "Epoch 101/120\n",
      " - 0s - loss: 0.7030 - acc: 0.9143 - val_loss: 0.9526 - val_acc: 0.8360\n",
      "Epoch 102/120\n",
      " - 0s - loss: 0.7865 - acc: 0.9071 - val_loss: 0.9458 - val_acc: 0.8340\n",
      "Epoch 103/120\n",
      " - 0s - loss: 0.7675 - acc: 0.8929 - val_loss: 0.9321 - val_acc: 0.8420\n",
      "Epoch 104/120\n",
      " - 0s - loss: 0.8297 - acc: 0.9071 - val_loss: 0.9248 - val_acc: 0.8460\n",
      "Epoch 105/120\n",
      " - 0s - loss: 0.8678 - acc: 0.9000 - val_loss: 0.9269 - val_acc: 0.8440\n",
      "Epoch 106/120\n",
      " - 0s - loss: 0.8908 - acc: 0.8500 - val_loss: 0.9291 - val_acc: 0.8420\n",
      "Epoch 107/120\n",
      " - 0s - loss: 0.7775 - acc: 0.9000 - val_loss: 0.9373 - val_acc: 0.8340\n",
      "Epoch 108/120\n",
      " - 0s - loss: 0.7133 - acc: 0.9214 - val_loss: 0.9466 - val_acc: 0.8300\n",
      "Epoch 109/120\n",
      " - 0s - loss: 0.7755 - acc: 0.8929 - val_loss: 0.9511 - val_acc: 0.8320\n",
      "Epoch 110/120\n",
      " - 0s - loss: 0.7639 - acc: 0.9071 - val_loss: 0.9491 - val_acc: 0.8340\n",
      "Epoch 111/120\n",
      " - 0s - loss: 0.8964 - acc: 0.9000 - val_loss: 0.9448 - val_acc: 0.8360\n",
      "Epoch 112/120\n",
      " - 0s - loss: 0.7901 - acc: 0.9357 - val_loss: 0.9501 - val_acc: 0.8380\n",
      "Epoch 113/120\n",
      " - 0s - loss: 0.7525 - acc: 0.9286 - val_loss: 0.9590 - val_acc: 0.8360\n",
      "Epoch 114/120\n",
      " - 0s - loss: 0.7831 - acc: 0.9429 - val_loss: 0.9661 - val_acc: 0.8460\n",
      "Epoch 115/120\n",
      " - 0s - loss: 0.7214 - acc: 0.9500 - val_loss: 0.9746 - val_acc: 0.8440\n",
      "Epoch 116/120\n",
      " - 0s - loss: 0.8221 - acc: 0.9000 - val_loss: 0.9835 - val_acc: 0.8380\n",
      "Epoch 117/120\n",
      " - 0s - loss: 0.7697 - acc: 0.9071 - val_loss: 0.9903 - val_acc: 0.8340\n",
      "Epoch 118/120\n",
      " - 0s - loss: 0.7101 - acc: 0.9214 - val_loss: 0.9950 - val_acc: 0.8360\n",
      "Epoch 119/120\n",
      " - 0s - loss: 1.0397 - acc: 0.8643 - val_loss: 0.9957 - val_acc: 0.8320\n",
      "Epoch 120/120\n",
      " - 0s - loss: 0.8291 - acc: 0.9000 - val_loss: 0.9912 - val_acc: 0.8320\n"
     ]
    }
   ],
   "source": [
    "appnp = APPNP([64, 64, 7], ['relu', 'relu', 'relu'], \n",
    "             generator, transport_probability=0.1, \n",
    "              dropout=0.5, kernel_regularizer=keras.regularizers.l2(0.001))\n",
    "\n",
    "x_inp, x_out = appnp.node_model()\n",
    "\n",
    "model = keras.models.Model(inputs=x_inp, outputs=x_out)\n",
    "model.compile(loss='categorical_crossentropy', metrics=['acc'],\n",
    "                  optimizer=keras.optimizers.Adam(lr=0.01))\n",
    "\n",
    "history = model.fit_generator(\n",
    "    train_gen,\n",
    "    epochs=120,\n",
    "    validation_data=val_gen,\n",
    "    verbose=2,\n",
    "    shuffle=False,  # this should be False, since shuffling data means shuffling the whole graph\n",
    "    callbacks=[es_callback, mc_callback],\n",
    ")"
   ]
  },
  {
   "cell_type": "code",
   "execution_count": 57,
   "metadata": {},
   "outputs": [
    {
     "data": {
      "image/png": "[encoded data removed]",
      "text/plain": [
       "<Figure size 432x288 with 1 Axes>"
      ]
     },
     "metadata": {
      "needs_background": "light"
     },
     "output_type": "display_data"
    },
    {
     "data": {
      "image/png": "[encoded data removed]",
      "text/plain": [
       "<Figure size 432x288 with 1 Axes>"
      ]
     },
     "metadata": {
      "needs_background": "light"
     },
     "output_type": "display_data"
    }
   ],
   "source": [
    "plot_history(history)"
   ]
  },
  {
   "cell_type": "markdown",
   "metadata": {},
   "source": [
    "### Making predictions with the model"
   ]
  },
  {
   "cell_type": "markdown",
   "metadata": {},
   "source": [
    "Now let's get the predictions for all nodes."
   ]
  },
  {
   "cell_type": "code",
   "execution_count": 58,
   "metadata": {},
   "outputs": [],
   "source": [
    "all_nodes = node_data.index\n",
    "all_gen = generator.flow(all_nodes)\n",
    "all_predictions = model.predict_generator(all_gen)"
   ]
  },
  {
   "cell_type": "markdown",
   "metadata": {},
   "source": [
    "These predictions will be the output of the softmax layer, so to get final categories we'll use the `inverse_transform` method of our target attribute specifcation to turn these values back to the original categories."
   ]
  },
  {
   "cell_type": "markdown",
   "metadata": {},
   "source": [
    "Note that for full-batch methods the batch size is 1 and the predictions have shape $(1, N_{nodes}, N_{classes})$ so we we remove the batch dimension to obtain predictions of shape $(N_{nodes}, N_{classes})$ using the NumPy `squeeze` method."
   ]
  },
  {
   "cell_type": "code",
   "execution_count": 59,
   "metadata": {},
   "outputs": [],
   "source": [
    "node_predictions = target_encoding.inverse_transform(all_predictions.squeeze())"
   ]
  },
  {
   "cell_type": "markdown",
   "metadata": {},
   "source": [
    "Let's have a look at a few predictions after training the model:"
   ]
  },
  {
   "cell_type": "code",
   "execution_count": 60,
   "metadata": {},
   "outputs": [
    {
     "data": {
      "text/html": [
       "<div>\n",
       "<style scoped>\n",
       "    .dataframe tbody tr th:only-of-type {\n",
       "        vertical-align: middle;\n",
       "    }\n",
       "\n",
       "    .dataframe tbody tr th {\n",
       "        vertical-align: top;\n",
       "    }\n",
       "\n",
       "    .dataframe thead th {\n",
       "        text-align: right;\n",
       "    }\n",
       "</style>\n",
       "<table border=\"1\" class=\"dataframe\">\n",
       "  <thead>\n",
       "    <tr style=\"text-align: right;\">\n",
       "      <th></th>\n",
       "      <th>Predicted</th>\n",
       "      <th>True</th>\n",
       "    </tr>\n",
       "  </thead>\n",
       "  <tbody>\n",
       "    <tr>\n",
       "      <td>31336</td>\n",
       "      <td>subject=Neural_Networks</td>\n",
       "      <td>Neural_Networks</td>\n",
       "    </tr>\n",
       "    <tr>\n",
       "      <td>1061127</td>\n",
       "      <td>subject=Rule_Learning</td>\n",
       "      <td>Rule_Learning</td>\n",
       "    </tr>\n",
       "    <tr>\n",
       "      <td>1106406</td>\n",
       "      <td>subject=Reinforcement_Learning</td>\n",
       "      <td>Reinforcement_Learning</td>\n",
       "    </tr>\n",
       "    <tr>\n",
       "      <td>13195</td>\n",
       "      <td>subject=Reinforcement_Learning</td>\n",
       "      <td>Reinforcement_Learning</td>\n",
       "    </tr>\n",
       "    <tr>\n",
       "      <td>37879</td>\n",
       "      <td>subject=Probabilistic_Methods</td>\n",
       "      <td>Probabilistic_Methods</td>\n",
       "    </tr>\n",
       "    <tr>\n",
       "      <td>1126012</td>\n",
       "      <td>subject=Probabilistic_Methods</td>\n",
       "      <td>Probabilistic_Methods</td>\n",
       "    </tr>\n",
       "    <tr>\n",
       "      <td>1107140</td>\n",
       "      <td>subject=Theory</td>\n",
       "      <td>Theory</td>\n",
       "    </tr>\n",
       "    <tr>\n",
       "      <td>1102850</td>\n",
       "      <td>subject=Neural_Networks</td>\n",
       "      <td>Neural_Networks</td>\n",
       "    </tr>\n",
       "    <tr>\n",
       "      <td>31349</td>\n",
       "      <td>subject=Neural_Networks</td>\n",
       "      <td>Neural_Networks</td>\n",
       "    </tr>\n",
       "    <tr>\n",
       "      <td>1106418</td>\n",
       "      <td>subject=Theory</td>\n",
       "      <td>Theory</td>\n",
       "    </tr>\n",
       "    <tr>\n",
       "      <td>1123188</td>\n",
       "      <td>subject=Neural_Networks</td>\n",
       "      <td>Neural_Networks</td>\n",
       "    </tr>\n",
       "    <tr>\n",
       "      <td>1128990</td>\n",
       "      <td>subject=Genetic_Algorithms</td>\n",
       "      <td>Genetic_Algorithms</td>\n",
       "    </tr>\n",
       "    <tr>\n",
       "      <td>109323</td>\n",
       "      <td>subject=Probabilistic_Methods</td>\n",
       "      <td>Probabilistic_Methods</td>\n",
       "    </tr>\n",
       "    <tr>\n",
       "      <td>217139</td>\n",
       "      <td>subject=Case_Based</td>\n",
       "      <td>Case_Based</td>\n",
       "    </tr>\n",
       "    <tr>\n",
       "      <td>31353</td>\n",
       "      <td>subject=Neural_Networks</td>\n",
       "      <td>Neural_Networks</td>\n",
       "    </tr>\n",
       "    <tr>\n",
       "      <td>32083</td>\n",
       "      <td>subject=Neural_Networks</td>\n",
       "      <td>Neural_Networks</td>\n",
       "    </tr>\n",
       "    <tr>\n",
       "      <td>1126029</td>\n",
       "      <td>subject=Reinforcement_Learning</td>\n",
       "      <td>Reinforcement_Learning</td>\n",
       "    </tr>\n",
       "    <tr>\n",
       "      <td>1118017</td>\n",
       "      <td>subject=Neural_Networks</td>\n",
       "      <td>Neural_Networks</td>\n",
       "    </tr>\n",
       "    <tr>\n",
       "      <td>49482</td>\n",
       "      <td>subject=Neural_Networks</td>\n",
       "      <td>Neural_Networks</td>\n",
       "    </tr>\n",
       "    <tr>\n",
       "      <td>753265</td>\n",
       "      <td>subject=Neural_Networks</td>\n",
       "      <td>Neural_Networks</td>\n",
       "    </tr>\n",
       "  </tbody>\n",
       "</table>\n",
       "</div>"
      ],
      "text/plain": [
       "                              Predicted                    True\n",
       "31336           subject=Neural_Networks         Neural_Networks\n",
       "1061127           subject=Rule_Learning           Rule_Learning\n",
       "1106406  subject=Reinforcement_Learning  Reinforcement_Learning\n",
       "13195    subject=Reinforcement_Learning  Reinforcement_Learning\n",
       "37879     subject=Probabilistic_Methods   Probabilistic_Methods\n",
       "1126012   subject=Probabilistic_Methods   Probabilistic_Methods\n",
       "1107140                  subject=Theory                  Theory\n",
       "1102850         subject=Neural_Networks         Neural_Networks\n",
       "31349           subject=Neural_Networks         Neural_Networks\n",
       "1106418                  subject=Theory                  Theory\n",
       "1123188         subject=Neural_Networks         Neural_Networks\n",
       "1128990      subject=Genetic_Algorithms      Genetic_Algorithms\n",
       "109323    subject=Probabilistic_Methods   Probabilistic_Methods\n",
       "217139               subject=Case_Based              Case_Based\n",
       "31353           subject=Neural_Networks         Neural_Networks\n",
       "32083           subject=Neural_Networks         Neural_Networks\n",
       "1126029  subject=Reinforcement_Learning  Reinforcement_Learning\n",
       "1118017         subject=Neural_Networks         Neural_Networks\n",
       "49482           subject=Neural_Networks         Neural_Networks\n",
       "753265          subject=Neural_Networks         Neural_Networks"
      ]
     },
     "execution_count": 60,
     "metadata": {},
     "output_type": "execute_result"
    }
   ],
   "source": [
    "results = pd.DataFrame(node_predictions, index=all_nodes).idxmax(axis=1)\n",
    "df = pd.DataFrame({\"Predicted\": results, \"True\": node_data['subject']})\n",
    "df.head(20)"
   ]
  }
 ],
 "metadata": {
  "kernelspec": {
   "display_name": "Python 3",
   "language": "python",
   "name": "python3"
  },
  "language_info": {
   "codemirror_mode": {
    "name": "ipython",
    "version": 3
   },
   "file_extension": ".py",
   "mimetype": "text/x-python",
   "name": "python",
   "nbconvert_exporter": "python",
   "pygments_lexer": "ipython3",
   "version": "3.6.9"
  }
 },
 "nbformat": 4,
 "nbformat_minor": 2
}
