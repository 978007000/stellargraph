{
 "cells": [
  {
   "cell_type": "markdown",
   "metadata": {},
   "source": [
    "# Stellargraph example: Personalised Propagation of Neural Predictions (PPNP) and Approximate PPNP (APPNP) on the CORA citation dataset"
   ]
  },
  {
   "cell_type": "markdown",
   "metadata": {},
   "source": [
    "Import NetworkX and stellargraph:"
   ]
  },
  {
   "cell_type": "code",
   "execution_count": 1,
   "metadata": {},
   "outputs": [
    {
     "name": "stderr",
     "output_type": "stream",
     "text": [
      "/Users/kieranricardo/anaconda3/envs/stellar-env/lib/python3.6/site-packages/tensorflow/python/framework/dtypes.py:516: FutureWarning: Passing (type, 1) or '1type' as a synonym of type is deprecated; in a future version of numpy, it will be understood as (type, (1,)) / '(1,)type'.\n",
      "  _np_qint8 = np.dtype([(\"qint8\", np.int8, 1)])\n",
      "/Users/kieranricardo/anaconda3/envs/stellar-env/lib/python3.6/site-packages/tensorflow/python/framework/dtypes.py:517: FutureWarning: Passing (type, 1) or '1type' as a synonym of type is deprecated; in a future version of numpy, it will be understood as (type, (1,)) / '(1,)type'.\n",
      "  _np_quint8 = np.dtype([(\"quint8\", np.uint8, 1)])\n",
      "/Users/kieranricardo/anaconda3/envs/stellar-env/lib/python3.6/site-packages/tensorflow/python/framework/dtypes.py:518: FutureWarning: Passing (type, 1) or '1type' as a synonym of type is deprecated; in a future version of numpy, it will be understood as (type, (1,)) / '(1,)type'.\n",
      "  _np_qint16 = np.dtype([(\"qint16\", np.int16, 1)])\n",
      "/Users/kieranricardo/anaconda3/envs/stellar-env/lib/python3.6/site-packages/tensorflow/python/framework/dtypes.py:519: FutureWarning: Passing (type, 1) or '1type' as a synonym of type is deprecated; in a future version of numpy, it will be understood as (type, (1,)) / '(1,)type'.\n",
      "  _np_quint16 = np.dtype([(\"quint16\", np.uint16, 1)])\n",
      "/Users/kieranricardo/anaconda3/envs/stellar-env/lib/python3.6/site-packages/tensorflow/python/framework/dtypes.py:520: FutureWarning: Passing (type, 1) or '1type' as a synonym of type is deprecated; in a future version of numpy, it will be understood as (type, (1,)) / '(1,)type'.\n",
      "  _np_qint32 = np.dtype([(\"qint32\", np.int32, 1)])\n",
      "/Users/kieranricardo/anaconda3/envs/stellar-env/lib/python3.6/site-packages/tensorflow/python/framework/dtypes.py:525: FutureWarning: Passing (type, 1) or '1type' as a synonym of type is deprecated; in a future version of numpy, it will be understood as (type, (1,)) / '(1,)type'.\n",
      "  np_resource = np.dtype([(\"resource\", np.ubyte, 1)])\n",
      "/Users/kieranricardo/anaconda3/envs/stellar-env/lib/python3.6/site-packages/tensorboard/compat/tensorflow_stub/dtypes.py:541: FutureWarning: Passing (type, 1) or '1type' as a synonym of type is deprecated; in a future version of numpy, it will be understood as (type, (1,)) / '(1,)type'.\n",
      "  _np_qint8 = np.dtype([(\"qint8\", np.int8, 1)])\n",
      "/Users/kieranricardo/anaconda3/envs/stellar-env/lib/python3.6/site-packages/tensorboard/compat/tensorflow_stub/dtypes.py:542: FutureWarning: Passing (type, 1) or '1type' as a synonym of type is deprecated; in a future version of numpy, it will be understood as (type, (1,)) / '(1,)type'.\n",
      "  _np_quint8 = np.dtype([(\"quint8\", np.uint8, 1)])\n",
      "/Users/kieranricardo/anaconda3/envs/stellar-env/lib/python3.6/site-packages/tensorboard/compat/tensorflow_stub/dtypes.py:543: FutureWarning: Passing (type, 1) or '1type' as a synonym of type is deprecated; in a future version of numpy, it will be understood as (type, (1,)) / '(1,)type'.\n",
      "  _np_qint16 = np.dtype([(\"qint16\", np.int16, 1)])\n",
      "/Users/kieranricardo/anaconda3/envs/stellar-env/lib/python3.6/site-packages/tensorboard/compat/tensorflow_stub/dtypes.py:544: FutureWarning: Passing (type, 1) or '1type' as a synonym of type is deprecated; in a future version of numpy, it will be understood as (type, (1,)) / '(1,)type'.\n",
      "  _np_quint16 = np.dtype([(\"quint16\", np.uint16, 1)])\n",
      "/Users/kieranricardo/anaconda3/envs/stellar-env/lib/python3.6/site-packages/tensorboard/compat/tensorflow_stub/dtypes.py:545: FutureWarning: Passing (type, 1) or '1type' as a synonym of type is deprecated; in a future version of numpy, it will be understood as (type, (1,)) / '(1,)type'.\n",
      "  _np_qint32 = np.dtype([(\"qint32\", np.int32, 1)])\n",
      "/Users/kieranricardo/anaconda3/envs/stellar-env/lib/python3.6/site-packages/tensorboard/compat/tensorflow_stub/dtypes.py:550: FutureWarning: Passing (type, 1) or '1type' as a synonym of type is deprecated; in a future version of numpy, it will be understood as (type, (1,)) / '(1,)type'.\n",
      "  np_resource = np.dtype([(\"resource\", np.ubyte, 1)])\n"
     ]
    }
   ],
   "source": [
    "import networkx as nx\n",
    "import pandas as pd\n",
    "import numpy as np\n",
    "import os\n",
    "from tensorflow import keras\n",
    "from tensorflow.keras import backend as K\n",
    "from tensorflow.keras.callbacks import EarlyStopping, ModelCheckpoint\n",
    "\n",
    "import stellargraph as sg\n",
    "from stellargraph.mapper import FullBatchNodeGenerator\n",
    "from stellargraph.layer.ppnp import PPNP\n",
    "from stellargraph.layer.appnp import APPNP\n",
    "\n",
    "from tensorflow.keras import layers, optimizers, losses, metrics, Model\n",
    "from sklearn import preprocessing, feature_extraction, model_selection"
   ]
  },
  {
   "cell_type": "markdown",
   "metadata": {},
   "source": [
    "### Loading the CORA network"
   ]
  },
  {
   "cell_type": "markdown",
   "metadata": {},
   "source": [
    "**Downloading the CORA dataset:**\n",
    "    \n",
    "The dataset used in this demo can be downloaded from [here](https://linqs-data.soe.ucsc.edu/public/lbc/cora.tgz).\n",
    "\n",
    "The following is the description of the dataset:\n",
    "> The Cora dataset consists of 2708 scientific publications classified into one of seven classes.\n",
    "> The citation network consists of 5429 links. Each publication in the dataset is described by a\n",
    "> 0/1-valued word vector indicating the absence/presence of the corresponding word from the dictionary.\n",
    "> The dictionary consists of 1433 unique words. The README file in the dataset provides more details.\n",
    "\n",
    "Download and unzip the cora.tgz file to a location on your computer and set the `data_dir` variable to\n",
    "point to the location of the dataset (the directory containing \"cora.cites\" and \"cora.content\")."
   ]
  },
  {
   "cell_type": "code",
   "execution_count": 2,
   "metadata": {},
   "outputs": [],
   "source": [
    "data_dir = os.path.join(\"~\", \"data\", \"cora\")"
   ]
  },
  {
   "cell_type": "markdown",
   "metadata": {},
   "source": [
    "Load the graph from edgelist (in the order `cited-paper` <- `citing-paper`)"
   ]
  },
  {
   "cell_type": "code",
   "execution_count": 3,
   "metadata": {},
   "outputs": [],
   "source": [
    "edgelist = pd.read_csv(os.path.join(data_dir, \"cora.cites\"), sep='\\t', header=None, names=[\"target\", \"source\"])\n",
    "edgelist[\"label\"] = \"cites\""
   ]
  },
  {
   "cell_type": "code",
   "execution_count": 4,
   "metadata": {},
   "outputs": [],
   "source": [
    "Gnx = nx.from_pandas_edgelist(edgelist, edge_attr=\"label\")"
   ]
  },
  {
   "cell_type": "code",
   "execution_count": 5,
   "metadata": {},
   "outputs": [],
   "source": [
    "nx.set_node_attributes(Gnx, \"paper\", \"label\")"
   ]
  },
  {
   "cell_type": "markdown",
   "metadata": {},
   "source": [
    "Load the features and subject for the nodes"
   ]
  },
  {
   "cell_type": "code",
   "execution_count": 6,
   "metadata": {},
   "outputs": [],
   "source": [
    "feature_names = [\"w_{}\".format(ii) for ii in range(1433)]\n",
    "column_names =  feature_names + [\"subject\"]\n",
    "node_data = pd.read_csv(os.path.join(data_dir, \"cora.content\"), sep='\\t', header=None, names=column_names)"
   ]
  },
  {
   "cell_type": "markdown",
   "metadata": {},
   "source": [
    "We aim to train a graph-ML model that will predict the \"subject\" attribute on the nodes. These subjects are one of 7 categories:"
   ]
  },
  {
   "cell_type": "code",
   "execution_count": 7,
   "metadata": {},
   "outputs": [
    {
     "data": {
      "text/plain": [
       "{'Case_Based',\n",
       " 'Genetic_Algorithms',\n",
       " 'Neural_Networks',\n",
       " 'Probabilistic_Methods',\n",
       " 'Reinforcement_Learning',\n",
       " 'Rule_Learning',\n",
       " 'Theory'}"
      ]
     },
     "execution_count": 7,
     "metadata": {},
     "output_type": "execute_result"
    }
   ],
   "source": [
    "set(node_data[\"subject\"])"
   ]
  },
  {
   "cell_type": "markdown",
   "metadata": {},
   "source": [
    "### Splitting the data"
   ]
  },
  {
   "cell_type": "markdown",
   "metadata": {},
   "source": [
    "For machine learning we want to take a subset of the nodes for training, and use the rest for validation and testing. We'll use scikit-learn again to do this.\n",
    "\n",
    "Here we're taking 140 node labels for training, 500 for validation, and the rest for testing."
   ]
  },
  {
   "cell_type": "code",
   "execution_count": 8,
   "metadata": {},
   "outputs": [],
   "source": [
    "train_data, test_data = model_selection.train_test_split(\n",
    "    node_data, train_size=140, test_size=None, stratify=node_data['subject']\n",
    ")\n",
    "val_data, test_data = model_selection.train_test_split(\n",
    "    test_data, train_size=500, test_size=None, stratify=test_data['subject']\n",
    ")"
   ]
  },
  {
   "cell_type": "markdown",
   "metadata": {},
   "source": [
    "Note using stratified sampling gives the following counts:"
   ]
  },
  {
   "cell_type": "code",
   "execution_count": 9,
   "metadata": {},
   "outputs": [
    {
     "data": {
      "text/plain": [
       "Counter({'Theory': 18,\n",
       "         'Probabilistic_Methods': 22,\n",
       "         'Genetic_Algorithms': 22,\n",
       "         'Case_Based': 16,\n",
       "         'Neural_Networks': 42,\n",
       "         'Reinforcement_Learning': 11,\n",
       "         'Rule_Learning': 9})"
      ]
     },
     "execution_count": 9,
     "metadata": {},
     "output_type": "execute_result"
    }
   ],
   "source": [
    "from collections import Counter\n",
    "Counter(train_data['subject'])"
   ]
  },
  {
   "cell_type": "markdown",
   "metadata": {},
   "source": [
    "The training set has class imbalance that might need to be compensated, e.g., via using a weighted cross-entropy loss in model training, with class weights inversely proportional to class support. However, we will ignore the class imbalance in this example, for simplicity."
   ]
  },
  {
   "cell_type": "markdown",
   "metadata": {},
   "source": [
    "### Converting to numeric arrays"
   ]
  },
  {
   "cell_type": "markdown",
   "metadata": {},
   "source": [
    "For our categorical target, we will use one-hot vectors that will be fed into a soft-max Keras layer during training. To do this conversion ..."
   ]
  },
  {
   "cell_type": "code",
   "execution_count": 10,
   "metadata": {},
   "outputs": [],
   "source": [
    "target_encoding = feature_extraction.DictVectorizer(sparse=False)\n",
    "\n",
    "train_targets = target_encoding.fit_transform(train_data[[\"subject\"]].to_dict('records'))\n",
    "val_targets = target_encoding.transform(val_data[[\"subject\"]].to_dict('records'))\n",
    "test_targets = target_encoding.transform(test_data[[\"subject\"]].to_dict('records'))"
   ]
  },
  {
   "cell_type": "markdown",
   "metadata": {},
   "source": [
    "We now do the same for the node attributes we want to use to predict the subject. These are the feature vectors that the Keras model will use as input. The CORA dataset contains attributes 'w_x' that correspond to words found in that publication. If a word occurs more than once in a publication the relevant attribute will be set to one, otherwise it will be zero."
   ]
  },
  {
   "cell_type": "code",
   "execution_count": 11,
   "metadata": {},
   "outputs": [],
   "source": [
    "node_features = node_data[feature_names]"
   ]
  },
  {
   "cell_type": "markdown",
   "metadata": {},
   "source": [
    "## Creating the PPNP model in Keras"
   ]
  },
  {
   "cell_type": "markdown",
   "metadata": {},
   "source": [
    "Now create a StellarGraph object from the NetworkX graph and the node features and targets. It is StellarGraph objects that we use in this library to perform machine learning tasks on."
   ]
  },
  {
   "cell_type": "code",
   "execution_count": 12,
   "metadata": {},
   "outputs": [],
   "source": [
    "G = sg.StellarGraph(Gnx, node_features=node_features)"
   ]
  },
  {
   "cell_type": "code",
   "execution_count": 13,
   "metadata": {},
   "outputs": [
    {
     "name": "stdout",
     "output_type": "stream",
     "text": [
      "StellarGraph: Undirected multigraph\n",
      " Nodes: 2708, Edges: 5278\n",
      "\n",
      " Node types:\n",
      "  paper: [2708]\n",
      "    Edge types: paper-cites->paper\n",
      "\n",
      " Edge types:\n",
      "    paper-cites->paper: [5278]\n",
      "\n"
     ]
    }
   ],
   "source": [
    "print(G.info())"
   ]
  },
  {
   "cell_type": "markdown",
   "metadata": {},
   "source": [
    "To feed data from the graph to the Keras model we need a generator. Since PPNP is a full-batch model, we use the `FullBatchNodeGenerator` class to feed node features and the normalized graph Laplacian matrix to the model.\n",
    "\n",
    "Specifying the `method='ppnp'` argument to the `FullBatchNodeGenerator` will pre-process the adjacency matrix and supply the personalized page rank matrix necessary for PPNP.  The personalized page rank matrix is a dense matrix and so `sparse=False` must be passed to `FullBatchNodeGenerator`. `teleport_probability=0.1` specifies the probability of returning to the starting node in the propogation step as desribed in the paper (alpha in the paper). "
   ]
  },
  {
   "cell_type": "code",
   "execution_count": 38,
   "metadata": {},
   "outputs": [],
   "source": [
    "generator = FullBatchNodeGenerator(G, \n",
    "                                   method=\"ppnp\", \n",
    "                                   sparse=False, \n",
    "                                   teleport_probability=0.1\n",
    "                                  )"
   ]
  },
  {
   "cell_type": "markdown",
   "metadata": {},
   "source": [
    "For training we map only the training nodes returned from our splitter and the target values."
   ]
  },
  {
   "cell_type": "code",
   "execution_count": 39,
   "metadata": {},
   "outputs": [],
   "source": [
    "train_gen = generator.flow(train_data.index, train_targets)"
   ]
  },
  {
   "cell_type": "markdown",
   "metadata": {},
   "source": [
    "Now we can specify our machine learning model, we need a few more parameters for this:\n",
    "\n",
    " * the `layer_sizes` is a list of hidden feature sizes of each full fully connected layer in the model. In this example we use three fully connected layers with 64,64, and 7 hidden node features at each layer. \n",
    " * `activations` is a list of activations applied to each layer's output\n",
    " * `dropout=0.5` specifies a 50% dropout at each layer. \n",
    " * `kernel_regularizer=keras.regularizers.l2(0.001)` specifies a penality that prevents the model weights from become too large and helps limit overfitting\n",
    " \n",
    " #### Note that the size of the final fully connected layer must be equal to the number of classes you are trying to predict.\n"
   ]
  },
  {
   "cell_type": "markdown",
   "metadata": {},
   "source": [
    "We create a PPNP model as follows:"
   ]
  },
  {
   "cell_type": "code",
   "execution_count": 41,
   "metadata": {},
   "outputs": [
    {
     "name": "stdout",
     "output_type": "stream",
     "text": [
      "WARNING:tensorflow:Entity <bound method PPNPPropagationLayer.call of <stellargraph.layer.ppnp.PPNPPropagationLayer object at 0x1348913c8>> could not be transformed and will be executed as-is. Please report this to the AutgoGraph team. When filing the bug, set the verbosity to 10 (on Linux, `export AUTOGRAPH_VERBOSITY=10`) and attach the full output. Cause: converting <bound method PPNPPropagationLayer.call of <stellargraph.layer.ppnp.PPNPPropagationLayer object at 0x1348913c8>>: AttributeError: module 'gast' has no attribute 'Num'\n",
      "WARNING: Entity <bound method PPNPPropagationLayer.call of <stellargraph.layer.ppnp.PPNPPropagationLayer object at 0x1348913c8>> could not be transformed and will be executed as-is. Please report this to the AutgoGraph team. When filing the bug, set the verbosity to 10 (on Linux, `export AUTOGRAPH_VERBOSITY=10`) and attach the full output. Cause: converting <bound method PPNPPropagationLayer.call of <stellargraph.layer.ppnp.PPNPPropagationLayer object at 0x1348913c8>>: AttributeError: module 'gast' has no attribute 'Num'\n"
     ]
    }
   ],
   "source": [
    "ppnp = PPNP(layer_sizes=[64, 64, train_targets.shape[-1]], \n",
    "            activations=['relu', 'relu', 'relu'], \n",
    "            generator=generator, \n",
    "            dropout=0.5, \n",
    "            kernel_regularizer=keras.regularizers.l2(0.001))\n",
    "\n",
    "x_inp, x_out = ppnp.node_model()\n",
    "predictions = keras.layers.Softmax()(x_out)"
   ]
  },
  {
   "cell_type": "markdown",
   "metadata": {},
   "source": [
    "### Training the model"
   ]
  },
  {
   "cell_type": "markdown",
   "metadata": {},
   "source": [
    "Now let's create the actual Keras model with the input tensors `x_inp` and output tensors being the predictions `predictions` from the final dense layer"
   ]
  },
  {
   "cell_type": "code",
   "execution_count": 17,
   "metadata": {},
   "outputs": [],
   "source": [
    "ppnp_model = Model(inputs=x_inp, outputs=predictions)\n",
    "ppnp_model.compile(\n",
    "    optimizer=optimizers.Adam(lr=0.01),\n",
    "    loss=losses.categorical_crossentropy,\n",
    "    metrics=[\"acc\"],\n",
    ")"
   ]
  },
  {
   "cell_type": "markdown",
   "metadata": {},
   "source": [
    "Train the model, keeping track of its loss and accuracy on the training set, and its generalisation performance on the validation set (we need to create another generator over the validation data for this)"
   ]
  },
  {
   "cell_type": "code",
   "execution_count": 18,
   "metadata": {},
   "outputs": [],
   "source": [
    "val_gen = generator.flow(val_data.index, val_targets)"
   ]
  },
  {
   "cell_type": "markdown",
   "metadata": {},
   "source": [
    "Create callbacks for early stopping (if validation accuracy stops improving) and best model checkpoint saving:"
   ]
  },
  {
   "cell_type": "code",
   "execution_count": 19,
   "metadata": {},
   "outputs": [],
   "source": [
    "if not os.path.isdir(\"logs\"):\n",
    "    os.makedirs(\"logs\")"
   ]
  },
  {
   "cell_type": "code",
   "execution_count": 20,
   "metadata": {},
   "outputs": [],
   "source": [
    "es_callback = EarlyStopping(monitor=\"val_acc\", patience=50)  # patience is the number of epochs to wait before early stopping in case of no further improvement\n",
    "\n",
    "mc_callback = ModelCheckpoint(\n",
    "    \"logs/best_ppnp_model.h5\",\n",
    "    monitor=\"val_acc\",\n",
    "    save_best_only=True,\n",
    "    save_weights_only=True,\n",
    ")"
   ]
  },
  {
   "cell_type": "markdown",
   "metadata": {},
   "source": [
    "Train the model"
   ]
  },
  {
   "cell_type": "code",
   "execution_count": 21,
   "metadata": {},
   "outputs": [
    {
     "name": "stdout",
     "output_type": "stream",
     "text": [
      "Epoch 1/80\n",
      "1/1 - 1s - loss: 2.1491 - acc: 0.1500 - val_loss: 2.0730 - val_acc: 0.3020\n",
      "Epoch 2/80\n",
      "1/1 - 0s - loss: 2.0793 - acc: 0.2857 - val_loss: 2.0110 - val_acc: 0.3020\n",
      "Epoch 3/80\n",
      "1/1 - 0s - loss: 2.0069 - acc: 0.3000 - val_loss: 1.9539 - val_acc: 0.3020\n",
      "Epoch 4/80\n",
      "1/1 - 0s - loss: 2.0049 - acc: 0.2857 - val_loss: 1.9038 - val_acc: 0.3020\n",
      "Epoch 5/80\n",
      "1/1 - 0s - loss: 1.9209 - acc: 0.3071 - val_loss: 1.8502 - val_acc: 0.3020\n",
      "Epoch 6/80\n",
      "1/1 - 0s - loss: 1.8390 - acc: 0.3143 - val_loss: 1.7912 - val_acc: 0.3100\n",
      "Epoch 7/80\n",
      "1/1 - 0s - loss: 1.8253 - acc: 0.3357 - val_loss: 1.7292 - val_acc: 0.4580\n",
      "Epoch 8/80\n",
      "1/1 - 0s - loss: 1.7025 - acc: 0.4000 - val_loss: 1.6599 - val_acc: 0.5640\n",
      "Epoch 9/80\n",
      "1/1 - 0s - loss: 1.7071 - acc: 0.4286 - val_loss: 1.5790 - val_acc: 0.6100\n",
      "Epoch 10/80\n",
      "1/1 - 0s - loss: 1.5885 - acc: 0.4929 - val_loss: 1.4898 - val_acc: 0.6120\n",
      "Epoch 11/80\n",
      "1/1 - 0s - loss: 1.5856 - acc: 0.5071 - val_loss: 1.4058 - val_acc: 0.6320\n",
      "Epoch 12/80\n",
      "1/1 - 0s - loss: 1.3668 - acc: 0.6143 - val_loss: 1.3325 - val_acc: 0.6760\n",
      "Epoch 13/80\n",
      "1/1 - 0s - loss: 1.3234 - acc: 0.6429 - val_loss: 1.2695 - val_acc: 0.6960\n",
      "Epoch 14/80\n",
      "1/1 - 0s - loss: 1.2528 - acc: 0.6786 - val_loss: 1.2203 - val_acc: 0.7020\n",
      "Epoch 15/80\n",
      "1/1 - 0s - loss: 1.2345 - acc: 0.6786 - val_loss: 1.1857 - val_acc: 0.7180\n",
      "Epoch 16/80\n",
      "1/1 - 0s - loss: 1.2782 - acc: 0.7000 - val_loss: 1.1599 - val_acc: 0.7180\n",
      "Epoch 17/80\n",
      "1/1 - 0s - loss: 1.1326 - acc: 0.7143 - val_loss: 1.1414 - val_acc: 0.7160\n",
      "Epoch 18/80\n",
      "1/1 - 0s - loss: 1.0351 - acc: 0.7714 - val_loss: 1.1314 - val_acc: 0.7140\n",
      "Epoch 19/80\n",
      "1/1 - 0s - loss: 1.0207 - acc: 0.7714 - val_loss: 1.1318 - val_acc: 0.7120\n",
      "Epoch 20/80\n",
      "1/1 - 0s - loss: 1.0996 - acc: 0.6857 - val_loss: 1.1275 - val_acc: 0.7140\n",
      "Epoch 21/80\n",
      "1/1 - 0s - loss: 1.0430 - acc: 0.7643 - val_loss: 1.1235 - val_acc: 0.7180\n",
      "Epoch 22/80\n",
      "1/1 - 0s - loss: 0.9417 - acc: 0.7714 - val_loss: 1.1208 - val_acc: 0.7160\n",
      "Epoch 23/80\n",
      "1/1 - 0s - loss: 0.9938 - acc: 0.7714 - val_loss: 1.1194 - val_acc: 0.7120\n",
      "Epoch 24/80\n",
      "1/1 - 0s - loss: 0.9721 - acc: 0.7929 - val_loss: 1.1097 - val_acc: 0.7180\n",
      "Epoch 25/80\n",
      "1/1 - 0s - loss: 1.0532 - acc: 0.7571 - val_loss: 1.1089 - val_acc: 0.7100\n",
      "Epoch 26/80\n",
      "1/1 - 0s - loss: 0.9147 - acc: 0.7786 - val_loss: 1.1134 - val_acc: 0.7120\n",
      "Epoch 27/80\n",
      "1/1 - 0s - loss: 0.9509 - acc: 0.7929 - val_loss: 1.1085 - val_acc: 0.7160\n",
      "Epoch 28/80\n",
      "1/1 - 0s - loss: 0.9384 - acc: 0.7857 - val_loss: 1.0977 - val_acc: 0.7200\n",
      "Epoch 29/80\n",
      "1/1 - 0s - loss: 0.9500 - acc: 0.7786 - val_loss: 1.0865 - val_acc: 0.7260\n",
      "Epoch 30/80\n",
      "1/1 - 0s - loss: 0.8698 - acc: 0.8214 - val_loss: 1.0762 - val_acc: 0.7420\n",
      "Epoch 31/80\n",
      "1/1 - 0s - loss: 0.9659 - acc: 0.7714 - val_loss: 1.0690 - val_acc: 0.7500\n",
      "Epoch 32/80\n",
      "1/1 - 0s - loss: 0.9077 - acc: 0.7714 - val_loss: 1.0624 - val_acc: 0.7440\n",
      "Epoch 33/80\n",
      "1/1 - 0s - loss: 0.7916 - acc: 0.8214 - val_loss: 1.0550 - val_acc: 0.7480\n",
      "Epoch 34/80\n",
      "1/1 - 0s - loss: 0.8729 - acc: 0.7929 - val_loss: 1.0493 - val_acc: 0.7360\n",
      "Epoch 35/80\n",
      "1/1 - 0s - loss: 0.8434 - acc: 0.8143 - val_loss: 1.0447 - val_acc: 0.7340\n",
      "Epoch 36/80\n",
      "1/1 - 0s - loss: 0.8716 - acc: 0.8357 - val_loss: 1.0503 - val_acc: 0.7180\n",
      "Epoch 37/80\n",
      "1/1 - 0s - loss: 0.8707 - acc: 0.7929 - val_loss: 1.0506 - val_acc: 0.7200\n",
      "Epoch 38/80\n",
      "1/1 - 0s - loss: 0.9004 - acc: 0.7929 - val_loss: 1.0440 - val_acc: 0.7300\n",
      "Epoch 39/80\n",
      "1/1 - 0s - loss: 0.8665 - acc: 0.8071 - val_loss: 1.0349 - val_acc: 0.7420\n",
      "Epoch 40/80\n",
      "1/1 - 0s - loss: 0.7970 - acc: 0.8143 - val_loss: 1.0237 - val_acc: 0.7540\n",
      "Epoch 41/80\n",
      "1/1 - 0s - loss: 0.8098 - acc: 0.8143 - val_loss: 1.0154 - val_acc: 0.7640\n",
      "Epoch 42/80\n",
      "1/1 - 0s - loss: 0.8303 - acc: 0.8071 - val_loss: 1.0176 - val_acc: 0.7640\n",
      "Epoch 43/80\n",
      "1/1 - 0s - loss: 0.7643 - acc: 0.8286 - val_loss: 1.0236 - val_acc: 0.7660\n",
      "Epoch 44/80\n",
      "1/1 - 0s - loss: 0.8232 - acc: 0.8214 - val_loss: 1.0199 - val_acc: 0.7760\n",
      "Epoch 45/80\n",
      "1/1 - 0s - loss: 0.8362 - acc: 0.8429 - val_loss: 1.0176 - val_acc: 0.7700\n",
      "Epoch 46/80\n",
      "1/1 - 0s - loss: 0.7841 - acc: 0.8429 - val_loss: 1.0241 - val_acc: 0.7640\n",
      "Epoch 47/80\n",
      "1/1 - 0s - loss: 0.7467 - acc: 0.8643 - val_loss: 1.0450 - val_acc: 0.7560\n",
      "Epoch 48/80\n",
      "1/1 - 0s - loss: 0.6978 - acc: 0.8786 - val_loss: 1.0616 - val_acc: 0.7520\n",
      "Epoch 49/80\n",
      "1/1 - 0s - loss: 0.7901 - acc: 0.8143 - val_loss: 1.0411 - val_acc: 0.7560\n",
      "Epoch 50/80\n",
      "1/1 - 0s - loss: 0.7833 - acc: 0.8500 - val_loss: 1.0143 - val_acc: 0.7680\n",
      "Epoch 51/80\n",
      "1/1 - 0s - loss: 0.7638 - acc: 0.8286 - val_loss: 0.9981 - val_acc: 0.7720\n",
      "Epoch 52/80\n",
      "1/1 - 0s - loss: 0.6990 - acc: 0.8714 - val_loss: 1.0245 - val_acc: 0.7680\n",
      "Epoch 53/80\n",
      "1/1 - 0s - loss: 0.7664 - acc: 0.8357 - val_loss: 1.0465 - val_acc: 0.7580\n",
      "Epoch 54/80\n",
      "1/1 - 0s - loss: 0.7981 - acc: 0.8143 - val_loss: 1.0343 - val_acc: 0.7680\n",
      "Epoch 55/80\n",
      "1/1 - 0s - loss: 0.8085 - acc: 0.8286 - val_loss: 1.0098 - val_acc: 0.7720\n",
      "Epoch 56/80\n",
      "1/1 - 0s - loss: 0.7428 - acc: 0.8643 - val_loss: 0.9926 - val_acc: 0.7740\n",
      "Epoch 57/80\n",
      "1/1 - 0s - loss: 0.7029 - acc: 0.8786 - val_loss: 0.9876 - val_acc: 0.7740\n",
      "Epoch 58/80\n",
      "1/1 - 0s - loss: 0.7081 - acc: 0.8429 - val_loss: 0.9896 - val_acc: 0.7680\n",
      "Epoch 59/80\n",
      "1/1 - 0s - loss: 0.6644 - acc: 0.8643 - val_loss: 0.9873 - val_acc: 0.7600\n",
      "Epoch 60/80\n",
      "1/1 - 0s - loss: 0.6755 - acc: 0.9000 - val_loss: 0.9791 - val_acc: 0.7680\n",
      "Epoch 61/80\n",
      "1/1 - 0s - loss: 0.7950 - acc: 0.8571 - val_loss: 0.9595 - val_acc: 0.7880\n",
      "Epoch 62/80\n",
      "1/1 - 0s - loss: 0.6107 - acc: 0.9000 - val_loss: 0.9510 - val_acc: 0.7900\n",
      "Epoch 63/80\n",
      "1/1 - 0s - loss: 0.6668 - acc: 0.8786 - val_loss: 0.9522 - val_acc: 0.7780\n",
      "Epoch 64/80\n",
      "1/1 - 0s - loss: 0.6554 - acc: 0.9000 - val_loss: 0.9538 - val_acc: 0.7860\n",
      "Epoch 65/80\n",
      "1/1 - 0s - loss: 0.5505 - acc: 0.8929 - val_loss: 0.9581 - val_acc: 0.7900\n",
      "Epoch 66/80\n",
      "1/1 - 0s - loss: 0.7478 - acc: 0.8500 - val_loss: 0.9446 - val_acc: 0.7880\n",
      "Epoch 67/80\n",
      "1/1 - 0s - loss: 0.7390 - acc: 0.8929 - val_loss: 0.9444 - val_acc: 0.7840\n",
      "Epoch 68/80\n",
      "1/1 - 0s - loss: 0.6661 - acc: 0.8857 - val_loss: 0.9612 - val_acc: 0.7800\n",
      "Epoch 69/80\n",
      "1/1 - 0s - loss: 0.6436 - acc: 0.9000 - val_loss: 0.9828 - val_acc: 0.7840\n",
      "Epoch 70/80\n",
      "1/1 - 0s - loss: 0.6841 - acc: 0.8714 - val_loss: 0.9964 - val_acc: 0.7820\n",
      "Epoch 71/80\n",
      "1/1 - 0s - loss: 0.7338 - acc: 0.8643 - val_loss: 0.9929 - val_acc: 0.7820\n",
      "Epoch 72/80\n",
      "1/1 - 0s - loss: 0.6472 - acc: 0.9071 - val_loss: 0.9878 - val_acc: 0.7860\n",
      "Epoch 73/80\n",
      "1/1 - 0s - loss: 0.6089 - acc: 0.9357 - val_loss: 0.9963 - val_acc: 0.7760\n",
      "Epoch 74/80\n",
      "1/1 - 0s - loss: 0.7228 - acc: 0.8857 - val_loss: 0.9906 - val_acc: 0.7800\n",
      "Epoch 75/80\n",
      "1/1 - 0s - loss: 0.6651 - acc: 0.8929 - val_loss: 0.9621 - val_acc: 0.7820\n",
      "Epoch 76/80\n",
      "1/1 - 0s - loss: 0.5628 - acc: 0.9214 - val_loss: 0.9371 - val_acc: 0.7960\n",
      "Epoch 77/80\n",
      "1/1 - 0s - loss: 0.6484 - acc: 0.9071 - val_loss: 0.9171 - val_acc: 0.7980\n",
      "Epoch 78/80\n",
      "1/1 - 0s - loss: 0.6578 - acc: 0.8857 - val_loss: 0.9126 - val_acc: 0.7960\n",
      "Epoch 79/80\n",
      "1/1 - 0s - loss: 0.6058 - acc: 0.9071 - val_loss: 0.9220 - val_acc: 0.7960\n",
      "Epoch 80/80\n",
      "1/1 - 0s - loss: 0.6568 - acc: 0.9286 - val_loss: 0.9303 - val_acc: 0.7940\n"
     ]
    }
   ],
   "source": [
    "history = ppnp_model.fit_generator(\n",
    "    train_gen,\n",
    "    epochs=80,\n",
    "    validation_data=val_gen,\n",
    "    verbose=2,\n",
    "    shuffle=False,  # this should be False, since shuffling data means shuffling the whole graph\n",
    "    callbacks=[es_callback, mc_callback],\n",
    ")"
   ]
  },
  {
   "cell_type": "markdown",
   "metadata": {},
   "source": [
    "Plot the training history:"
   ]
  },
  {
   "cell_type": "code",
   "execution_count": 22,
   "metadata": {},
   "outputs": [],
   "source": [
    "import matplotlib.pyplot as plt\n",
    "%matplotlib inline\n",
    "\n",
    "def remove_prefix(text, prefix):\n",
    "    return text[text.startswith(prefix) and len(prefix):]\n",
    "\n",
    "def plot_history(history):\n",
    "    metrics = sorted(set([remove_prefix(m, \"val_\") for m in list(history.history.keys())]))\n",
    "    for m in metrics:\n",
    "        # summarize history for metric m\n",
    "        plt.plot(history.history[m])\n",
    "        plt.plot(history.history['val_' + m])\n",
    "        plt.title(m)\n",
    "        plt.ylabel(m)\n",
    "        plt.xlabel('epoch')\n",
    "        plt.legend(['train', 'validation'], loc='best')\n",
    "        plt.show()"
   ]
  },
  {
   "cell_type": "code",
   "execution_count": 23,
   "metadata": {},
   "outputs": [
    {
     "data": {
      "image/png": "[encoded data removed]",
      "text/plain": [
       "<Figure size 432x288 with 1 Axes>"
      ]
     },
     "metadata": {
      "needs_background": "light"
     },
     "output_type": "display_data"
    },
    {
     "data": {
      "image/png": "[encoded data removed]",
      "text/plain": [
       "<Figure size 432x288 with 1 Axes>"
      ]
     },
     "metadata": {
      "needs_background": "light"
     },
     "output_type": "display_data"
    }
   ],
   "source": [
    "plot_history(history)"
   ]
  },
  {
   "cell_type": "markdown",
   "metadata": {},
   "source": [
    "Reload the saved weights of the best model found during the training (according to validation accuracy)"
   ]
  },
  {
   "cell_type": "code",
   "execution_count": 24,
   "metadata": {},
   "outputs": [],
   "source": [
    "ppnp_model.load_weights(\"logs/best_ppnp_model.h5\")"
   ]
  },
  {
   "cell_type": "markdown",
   "metadata": {},
   "source": [
    "Evaluate the best model on the test set"
   ]
  },
  {
   "cell_type": "code",
   "execution_count": 25,
   "metadata": {},
   "outputs": [],
   "source": [
    "test_gen = generator.flow(test_data.index, test_targets)"
   ]
  },
  {
   "cell_type": "code",
   "execution_count": 26,
   "metadata": {},
   "outputs": [
    {
     "name": "stdout",
     "output_type": "stream",
     "text": [
      "\n",
      "Test Set Metrics:\n",
      "\tloss: 0.9622\n",
      "\tacc: 0.8085\n"
     ]
    }
   ],
   "source": [
    "test_metrics = ppnp_model.evaluate_generator(test_gen)\n",
    "print(\"\\nTest Set Metrics:\")\n",
    "for name, val in zip(ppnp_model.metrics_names, test_metrics):\n",
    "    print(\"\\t{}: {:0.4f}\".format(name, val))"
   ]
  },
  {
   "cell_type": "markdown",
   "metadata": {},
   "source": [
    "## Using the Approximate PPNP Model\n",
    "\n",
    "Lets repeat the training and testing steps with the APPNP model using the same dataset. The downside of the PPNP is that you have to invert the adjacency matrix - which is time inneficient for large graphs - and store that invert matrix - which is space innefficient. The approximate model avoids this issue by using a clever mathematical trick. \n",
    "\n",
    "The APPNP model uses the normalized graph Laplacian. To get the normalized graph Laplacian we create a new `FullBatchNodeGenerator` and set `method=\"gcn\"`. We have the option of choosing `sparse=True` or `sparse=False` but will use `sparse=True` for memory efficiency."
   ]
  },
  {
   "cell_type": "code",
   "execution_count": 42,
   "metadata": {},
   "outputs": [
    {
     "name": "stdout",
     "output_type": "stream",
     "text": [
      "Using GCN (local pooling) filters...\n",
      "WARNING:tensorflow:Entity <bound method SqueezedSparseConversion.call of <stellargraph.layer.misc.SqueezedSparseConversion object at 0x13475bf28>> could not be transformed and will be executed as-is. Please report this to the AutgoGraph team. When filing the bug, set the verbosity to 10 (on Linux, `export AUTOGRAPH_VERBOSITY=10`) and attach the full output. Cause: converting <bound method SqueezedSparseConversion.call of <stellargraph.layer.misc.SqueezedSparseConversion object at 0x13475bf28>>: AttributeError: module 'gast' has no attribute 'Num'\n",
      "WARNING: Entity <bound method SqueezedSparseConversion.call of <stellargraph.layer.misc.SqueezedSparseConversion object at 0x13475bf28>> could not be transformed and will be executed as-is. Please report this to the AutgoGraph team. When filing the bug, set the verbosity to 10 (on Linux, `export AUTOGRAPH_VERBOSITY=10`) and attach the full output. Cause: converting <bound method SqueezedSparseConversion.call of <stellargraph.layer.misc.SqueezedSparseConversion object at 0x13475bf28>>: AttributeError: module 'gast' has no attribute 'Num'\n",
      "WARNING:tensorflow:Entity <bound method APPNPPropagationLayer.call of <stellargraph.layer.appnp.APPNPPropagationLayer object at 0x134601048>> could not be transformed and will be executed as-is. Please report this to the AutgoGraph team. When filing the bug, set the verbosity to 10 (on Linux, `export AUTOGRAPH_VERBOSITY=10`) and attach the full output. Cause: converting <bound method APPNPPropagationLayer.call of <stellargraph.layer.appnp.APPNPPropagationLayer object at 0x134601048>>: AttributeError: module 'gast' has no attribute 'Num'\n",
      "WARNING: Entity <bound method APPNPPropagationLayer.call of <stellargraph.layer.appnp.APPNPPropagationLayer object at 0x134601048>> could not be transformed and will be executed as-is. Please report this to the AutgoGraph team. When filing the bug, set the verbosity to 10 (on Linux, `export AUTOGRAPH_VERBOSITY=10`) and attach the full output. Cause: converting <bound method APPNPPropagationLayer.call of <stellargraph.layer.appnp.APPNPPropagationLayer object at 0x134601048>>: AttributeError: module 'gast' has no attribute 'Num'\n",
      "WARNING:tensorflow:Entity <bound method APPNPPropagationLayer.call of <stellargraph.layer.appnp.APPNPPropagationLayer object at 0x13461a4a8>> could not be transformed and will be executed as-is. Please report this to the AutgoGraph team. When filing the bug, set the verbosity to 10 (on Linux, `export AUTOGRAPH_VERBOSITY=10`) and attach the full output. Cause: converting <bound method APPNPPropagationLayer.call of <stellargraph.layer.appnp.APPNPPropagationLayer object at 0x13461a4a8>>: AttributeError: module 'gast' has no attribute 'Num'\n",
      "WARNING: Entity <bound method APPNPPropagationLayer.call of <stellargraph.layer.appnp.APPNPPropagationLayer object at 0x13461a4a8>> could not be transformed and will be executed as-is. Please report this to the AutgoGraph team. When filing the bug, set the verbosity to 10 (on Linux, `export AUTOGRAPH_VERBOSITY=10`) and attach the full output. Cause: converting <bound method APPNPPropagationLayer.call of <stellargraph.layer.appnp.APPNPPropagationLayer object at 0x13461a4a8>>: AttributeError: module 'gast' has no attribute 'Num'\n",
      "WARNING:tensorflow:Entity <bound method APPNPPropagationLayer.call of <stellargraph.layer.appnp.APPNPPropagationLayer object at 0x13461a6a0>> could not be transformed and will be executed as-is. Please report this to the AutgoGraph team. When filing the bug, set the verbosity to 10 (on Linux, `export AUTOGRAPH_VERBOSITY=10`) and attach the full output. Cause: converting <bound method APPNPPropagationLayer.call of <stellargraph.layer.appnp.APPNPPropagationLayer object at 0x13461a6a0>>: AttributeError: module 'gast' has no attribute 'Num'\n",
      "WARNING: Entity <bound method APPNPPropagationLayer.call of <stellargraph.layer.appnp.APPNPPropagationLayer object at 0x13461a6a0>> could not be transformed and will be executed as-is. Please report this to the AutgoGraph team. When filing the bug, set the verbosity to 10 (on Linux, `export AUTOGRAPH_VERBOSITY=10`) and attach the full output. Cause: converting <bound method APPNPPropagationLayer.call of <stellargraph.layer.appnp.APPNPPropagationLayer object at 0x13461a6a0>>: AttributeError: module 'gast' has no attribute 'Num'\n",
      "WARNING:tensorflow:Entity <bound method APPNPPropagationLayer.call of <stellargraph.layer.appnp.APPNPPropagationLayer object at 0x13461a898>> could not be transformed and will be executed as-is. Please report this to the AutgoGraph team. When filing the bug, set the verbosity to 10 (on Linux, `export AUTOGRAPH_VERBOSITY=10`) and attach the full output. Cause: converting <bound method APPNPPropagationLayer.call of <stellargraph.layer.appnp.APPNPPropagationLayer object at 0x13461a898>>: AttributeError: module 'gast' has no attribute 'Num'\n",
      "WARNING: Entity <bound method APPNPPropagationLayer.call of <stellargraph.layer.appnp.APPNPPropagationLayer object at 0x13461a898>> could not be transformed and will be executed as-is. Please report this to the AutgoGraph team. When filing the bug, set the verbosity to 10 (on Linux, `export AUTOGRAPH_VERBOSITY=10`) and attach the full output. Cause: converting <bound method APPNPPropagationLayer.call of <stellargraph.layer.appnp.APPNPPropagationLayer object at 0x13461a898>>: AttributeError: module 'gast' has no attribute 'Num'\n",
      "WARNING:tensorflow:Entity <bound method APPNPPropagationLayer.call of <stellargraph.layer.appnp.APPNPPropagationLayer object at 0x13461aa90>> could not be transformed and will be executed as-is. Please report this to the AutgoGraph team. When filing the bug, set the verbosity to 10 (on Linux, `export AUTOGRAPH_VERBOSITY=10`) and attach the full output. Cause: converting <bound method APPNPPropagationLayer.call of <stellargraph.layer.appnp.APPNPPropagationLayer object at 0x13461aa90>>: AttributeError: module 'gast' has no attribute 'Num'\n",
      "WARNING: Entity <bound method APPNPPropagationLayer.call of <stellargraph.layer.appnp.APPNPPropagationLayer object at 0x13461aa90>> could not be transformed and will be executed as-is. Please report this to the AutgoGraph team. When filing the bug, set the verbosity to 10 (on Linux, `export AUTOGRAPH_VERBOSITY=10`) and attach the full output. Cause: converting <bound method APPNPPropagationLayer.call of <stellargraph.layer.appnp.APPNPPropagationLayer object at 0x13461aa90>>: AttributeError: module 'gast' has no attribute 'Num'\n",
      "WARNING:tensorflow:Entity <bound method APPNPPropagationLayer.call of <stellargraph.layer.appnp.APPNPPropagationLayer object at 0x13461ac88>> could not be transformed and will be executed as-is. Please report this to the AutgoGraph team. When filing the bug, set the verbosity to 10 (on Linux, `export AUTOGRAPH_VERBOSITY=10`) and attach the full output. Cause: converting <bound method APPNPPropagationLayer.call of <stellargraph.layer.appnp.APPNPPropagationLayer object at 0x13461ac88>>: AttributeError: module 'gast' has no attribute 'Num'\n",
      "WARNING: Entity <bound method APPNPPropagationLayer.call of <stellargraph.layer.appnp.APPNPPropagationLayer object at 0x13461ac88>> could not be transformed and will be executed as-is. Please report this to the AutgoGraph team. When filing the bug, set the verbosity to 10 (on Linux, `export AUTOGRAPH_VERBOSITY=10`) and attach the full output. Cause: converting <bound method APPNPPropagationLayer.call of <stellargraph.layer.appnp.APPNPPropagationLayer object at 0x13461ac88>>: AttributeError: module 'gast' has no attribute 'Num'\n",
      "WARNING:tensorflow:Entity <bound method APPNPPropagationLayer.call of <stellargraph.layer.appnp.APPNPPropagationLayer object at 0x13461ae80>> could not be transformed and will be executed as-is. Please report this to the AutgoGraph team. When filing the bug, set the verbosity to 10 (on Linux, `export AUTOGRAPH_VERBOSITY=10`) and attach the full output. Cause: converting <bound method APPNPPropagationLayer.call of <stellargraph.layer.appnp.APPNPPropagationLayer object at 0x13461ae80>>: AttributeError: module 'gast' has no attribute 'Num'\n",
      "WARNING: Entity <bound method APPNPPropagationLayer.call of <stellargraph.layer.appnp.APPNPPropagationLayer object at 0x13461ae80>> could not be transformed and will be executed as-is. Please report this to the AutgoGraph team. When filing the bug, set the verbosity to 10 (on Linux, `export AUTOGRAPH_VERBOSITY=10`) and attach the full output. Cause: converting <bound method APPNPPropagationLayer.call of <stellargraph.layer.appnp.APPNPPropagationLayer object at 0x13461ae80>>: AttributeError: module 'gast' has no attribute 'Num'\n",
      "WARNING:tensorflow:Entity <bound method APPNPPropagationLayer.call of <stellargraph.layer.appnp.APPNPPropagationLayer object at 0x13475b0b8>> could not be transformed and will be executed as-is. Please report this to the AutgoGraph team. When filing the bug, set the verbosity to 10 (on Linux, `export AUTOGRAPH_VERBOSITY=10`) and attach the full output. Cause: converting <bound method APPNPPropagationLayer.call of <stellargraph.layer.appnp.APPNPPropagationLayer object at 0x13475b0b8>>: AttributeError: module 'gast' has no attribute 'Num'\n"
     ]
    },
    {
     "name": "stdout",
     "output_type": "stream",
     "text": [
      "WARNING: Entity <bound method APPNPPropagationLayer.call of <stellargraph.layer.appnp.APPNPPropagationLayer object at 0x13475b0b8>> could not be transformed and will be executed as-is. Please report this to the AutgoGraph team. When filing the bug, set the verbosity to 10 (on Linux, `export AUTOGRAPH_VERBOSITY=10`) and attach the full output. Cause: converting <bound method APPNPPropagationLayer.call of <stellargraph.layer.appnp.APPNPPropagationLayer object at 0x13475b0b8>>: AttributeError: module 'gast' has no attribute 'Num'\n",
      "WARNING:tensorflow:Entity <bound method APPNPPropagationLayer.call of <stellargraph.layer.appnp.APPNPPropagationLayer object at 0x13475b2b0>> could not be transformed and will be executed as-is. Please report this to the AutgoGraph team. When filing the bug, set the verbosity to 10 (on Linux, `export AUTOGRAPH_VERBOSITY=10`) and attach the full output. Cause: converting <bound method APPNPPropagationLayer.call of <stellargraph.layer.appnp.APPNPPropagationLayer object at 0x13475b2b0>>: AttributeError: module 'gast' has no attribute 'Num'\n",
      "WARNING: Entity <bound method APPNPPropagationLayer.call of <stellargraph.layer.appnp.APPNPPropagationLayer object at 0x13475b2b0>> could not be transformed and will be executed as-is. Please report this to the AutgoGraph team. When filing the bug, set the verbosity to 10 (on Linux, `export AUTOGRAPH_VERBOSITY=10`) and attach the full output. Cause: converting <bound method APPNPPropagationLayer.call of <stellargraph.layer.appnp.APPNPPropagationLayer object at 0x13475b2b0>>: AttributeError: module 'gast' has no attribute 'Num'\n",
      "WARNING:tensorflow:Entity <bound method APPNPPropagationLayer.call of <stellargraph.layer.appnp.APPNPPropagationLayer object at 0x13475b4a8>> could not be transformed and will be executed as-is. Please report this to the AutgoGraph team. When filing the bug, set the verbosity to 10 (on Linux, `export AUTOGRAPH_VERBOSITY=10`) and attach the full output. Cause: converting <bound method APPNPPropagationLayer.call of <stellargraph.layer.appnp.APPNPPropagationLayer object at 0x13475b4a8>>: AttributeError: module 'gast' has no attribute 'Num'\n",
      "WARNING: Entity <bound method APPNPPropagationLayer.call of <stellargraph.layer.appnp.APPNPPropagationLayer object at 0x13475b4a8>> could not be transformed and will be executed as-is. Please report this to the AutgoGraph team. When filing the bug, set the verbosity to 10 (on Linux, `export AUTOGRAPH_VERBOSITY=10`) and attach the full output. Cause: converting <bound method APPNPPropagationLayer.call of <stellargraph.layer.appnp.APPNPPropagationLayer object at 0x13475b4a8>>: AttributeError: module 'gast' has no attribute 'Num'\n",
      "Epoch 1/120\n",
      "1/1 - 2s - loss: 2.1841 - acc: 0.0929 - val_loss: 2.0389 - val_acc: 0.3020\n",
      "Epoch 2/120\n",
      "1/1 - 0s - loss: 2.0470 - acc: 0.2429 - val_loss: 1.9695 - val_acc: 0.3020\n",
      "Epoch 3/120\n",
      "1/1 - 0s - loss: 2.0878 - acc: 0.2214 - val_loss: 1.9512 - val_acc: 0.4020\n",
      "Epoch 4/120\n",
      "1/1 - 0s - loss: 2.0462 - acc: 0.2643 - val_loss: 1.9428 - val_acc: 0.5140\n",
      "Epoch 5/120\n",
      "1/1 - 0s - loss: 1.9871 - acc: 0.3571 - val_loss: 1.9271 - val_acc: 0.5480\n",
      "Epoch 6/120\n",
      "1/1 - 0s - loss: 1.9599 - acc: 0.4143 - val_loss: 1.8781 - val_acc: 0.5440\n",
      "Epoch 7/120\n",
      "1/1 - 0s - loss: 1.8858 - acc: 0.3857 - val_loss: 1.7880 - val_acc: 0.5600\n",
      "Epoch 8/120\n",
      "1/1 - 0s - loss: 1.8703 - acc: 0.4143 - val_loss: 1.6837 - val_acc: 0.5440\n",
      "Epoch 9/120\n",
      "1/1 - 0s - loss: 1.9338 - acc: 0.3929 - val_loss: 1.6168 - val_acc: 0.5420\n",
      "Epoch 10/120\n",
      "1/1 - 0s - loss: 1.7078 - acc: 0.4571 - val_loss: 1.5600 - val_acc: 0.5460\n",
      "Epoch 11/120\n",
      "1/1 - 0s - loss: 1.7204 - acc: 0.4857 - val_loss: 1.5036 - val_acc: 0.5720\n",
      "Epoch 12/120\n",
      "1/1 - 0s - loss: 1.6698 - acc: 0.4929 - val_loss: 1.4486 - val_acc: 0.6020\n",
      "Epoch 13/120\n",
      "1/1 - 0s - loss: 1.6766 - acc: 0.5143 - val_loss: 1.4056 - val_acc: 0.6180\n",
      "Epoch 14/120\n",
      "1/1 - 0s - loss: 1.7416 - acc: 0.5571 - val_loss: 1.3714 - val_acc: 0.6360\n",
      "Epoch 15/120\n",
      "1/1 - 0s - loss: 1.6816 - acc: 0.5357 - val_loss: 1.3601 - val_acc: 0.6540\n",
      "Epoch 16/120\n",
      "1/1 - 0s - loss: 1.6469 - acc: 0.4929 - val_loss: 1.3515 - val_acc: 0.6560\n",
      "Epoch 17/120\n",
      "1/1 - 0s - loss: 1.5955 - acc: 0.5857 - val_loss: 1.3270 - val_acc: 0.6660\n",
      "Epoch 18/120\n",
      "1/1 - 0s - loss: 1.5195 - acc: 0.5357 - val_loss: 1.2905 - val_acc: 0.6900\n",
      "Epoch 19/120\n",
      "1/1 - 0s - loss: 1.4453 - acc: 0.6714 - val_loss: 1.2575 - val_acc: 0.7100\n",
      "Epoch 20/120\n",
      "1/1 - 0s - loss: 1.3790 - acc: 0.6429 - val_loss: 1.2260 - val_acc: 0.7080\n",
      "Epoch 21/120\n",
      "1/1 - 0s - loss: 1.3654 - acc: 0.6786 - val_loss: 1.2027 - val_acc: 0.6960\n",
      "Epoch 22/120\n",
      "1/1 - 0s - loss: 1.4701 - acc: 0.6857 - val_loss: 1.1924 - val_acc: 0.6980\n",
      "Epoch 23/120\n",
      "1/1 - 0s - loss: 1.3135 - acc: 0.6429 - val_loss: 1.1878 - val_acc: 0.6920\n",
      "Epoch 24/120\n",
      "1/1 - 0s - loss: 1.3465 - acc: 0.7429 - val_loss: 1.1879 - val_acc: 0.6900\n",
      "Epoch 25/120\n",
      "1/1 - 0s - loss: 1.2910 - acc: 0.6500 - val_loss: 1.1836 - val_acc: 0.6920\n",
      "Epoch 26/120\n",
      "1/1 - 0s - loss: 1.2653 - acc: 0.6857 - val_loss: 1.1738 - val_acc: 0.7020\n",
      "Epoch 27/120\n",
      "1/1 - 0s - loss: 1.3829 - acc: 0.6643 - val_loss: 1.1685 - val_acc: 0.7040\n",
      "Epoch 28/120\n",
      "1/1 - 0s - loss: 1.2732 - acc: 0.7071 - val_loss: 1.1659 - val_acc: 0.7060\n",
      "Epoch 29/120\n",
      "1/1 - 0s - loss: 1.2482 - acc: 0.7143 - val_loss: 1.1711 - val_acc: 0.6980\n",
      "Epoch 30/120\n",
      "1/1 - 0s - loss: 1.2776 - acc: 0.6857 - val_loss: 1.1782 - val_acc: 0.6820\n",
      "Epoch 31/120\n",
      "1/1 - 0s - loss: 1.1023 - acc: 0.7286 - val_loss: 1.1790 - val_acc: 0.6940\n",
      "Epoch 32/120\n",
      "1/1 - 0s - loss: 1.2218 - acc: 0.7143 - val_loss: 1.1725 - val_acc: 0.6980\n",
      "Epoch 33/120\n",
      "1/1 - 0s - loss: 1.1804 - acc: 0.7500 - val_loss: 1.1669 - val_acc: 0.7060\n",
      "Epoch 34/120\n",
      "1/1 - 0s - loss: 1.1654 - acc: 0.7143 - val_loss: 1.1619 - val_acc: 0.7060\n",
      "Epoch 35/120\n",
      "1/1 - 0s - loss: 1.6674 - acc: 0.7143 - val_loss: 1.1553 - val_acc: 0.7080\n",
      "Epoch 36/120\n",
      "1/1 - 0s - loss: 1.1374 - acc: 0.7286 - val_loss: 1.1545 - val_acc: 0.7020\n",
      "Epoch 37/120\n",
      "1/1 - 0s - loss: 1.1703 - acc: 0.7357 - val_loss: 1.1582 - val_acc: 0.7040\n",
      "Epoch 38/120\n",
      "1/1 - 0s - loss: 1.0126 - acc: 0.7786 - val_loss: 1.1636 - val_acc: 0.7040\n",
      "Epoch 39/120\n",
      "1/1 - 0s - loss: 1.1467 - acc: 0.7571 - val_loss: 1.1681 - val_acc: 0.7040\n",
      "Epoch 40/120\n",
      "1/1 - 0s - loss: 1.1993 - acc: 0.7357 - val_loss: 1.1749 - val_acc: 0.7020\n",
      "Epoch 41/120\n",
      "1/1 - 0s - loss: 1.1431 - acc: 0.7571 - val_loss: 1.1783 - val_acc: 0.7000\n",
      "Epoch 42/120\n",
      "1/1 - 0s - loss: 1.2045 - acc: 0.7571 - val_loss: 1.1792 - val_acc: 0.6940\n",
      "Epoch 43/120\n",
      "1/1 - 0s - loss: 1.2630 - acc: 0.7357 - val_loss: 1.1771 - val_acc: 0.6980\n",
      "Epoch 44/120\n",
      "1/1 - 0s - loss: 1.1042 - acc: 0.7571 - val_loss: 1.1696 - val_acc: 0.7040\n",
      "Epoch 45/120\n",
      "1/1 - 0s - loss: 1.1530 - acc: 0.7286 - val_loss: 1.1640 - val_acc: 0.7140\n",
      "Epoch 46/120\n",
      "1/1 - 0s - loss: 1.1263 - acc: 0.7643 - val_loss: 1.1628 - val_acc: 0.7160\n",
      "Epoch 47/120\n",
      "1/1 - 0s - loss: 0.9591 - acc: 0.7786 - val_loss: 1.1598 - val_acc: 0.7140\n",
      "Epoch 48/120\n",
      "1/1 - 0s - loss: 1.0953 - acc: 0.7429 - val_loss: 1.1603 - val_acc: 0.7140\n",
      "Epoch 49/120\n",
      "1/1 - 0s - loss: 0.9882 - acc: 0.7786 - val_loss: 1.1616 - val_acc: 0.7160\n",
      "Epoch 50/120\n",
      "1/1 - 0s - loss: 1.1043 - acc: 0.7571 - val_loss: 1.1601 - val_acc: 0.7120\n",
      "Epoch 51/120\n",
      "1/1 - 0s - loss: 1.1097 - acc: 0.7357 - val_loss: 1.1596 - val_acc: 0.7100\n",
      "Epoch 52/120\n",
      "1/1 - 0s - loss: 1.0866 - acc: 0.7786 - val_loss: 1.1586 - val_acc: 0.7080\n",
      "Epoch 53/120\n",
      "1/1 - 0s - loss: 1.0221 - acc: 0.7786 - val_loss: 1.1500 - val_acc: 0.7100\n",
      "Epoch 54/120\n",
      "1/1 - 0s - loss: 1.0930 - acc: 0.7571 - val_loss: 1.1345 - val_acc: 0.7140\n",
      "Epoch 55/120\n",
      "1/1 - 0s - loss: 1.0198 - acc: 0.7714 - val_loss: 1.1200 - val_acc: 0.7340\n",
      "Epoch 56/120\n",
      "1/1 - 0s - loss: 0.9557 - acc: 0.7714 - val_loss: 1.1023 - val_acc: 0.7380\n",
      "Epoch 57/120\n",
      "1/1 - 0s - loss: 1.1932 - acc: 0.7714 - val_loss: 1.0858 - val_acc: 0.7420\n",
      "Epoch 58/120\n",
      "1/1 - 0s - loss: 1.0427 - acc: 0.7786 - val_loss: 1.0780 - val_acc: 0.7460\n",
      "Epoch 59/120\n",
      "1/1 - 0s - loss: 1.1153 - acc: 0.7500 - val_loss: 1.0786 - val_acc: 0.7560\n",
      "Epoch 60/120\n",
      "1/1 - 0s - loss: 1.0196 - acc: 0.7857 - val_loss: 1.0807 - val_acc: 0.7640\n",
      "Epoch 61/120\n",
      "1/1 - 0s - loss: 1.0590 - acc: 0.8000 - val_loss: 1.0759 - val_acc: 0.7700\n",
      "Epoch 62/120\n",
      "1/1 - 0s - loss: 0.9923 - acc: 0.7929 - val_loss: 1.0751 - val_acc: 0.7700\n",
      "Epoch 63/120\n",
      "1/1 - 0s - loss: 1.0312 - acc: 0.8071 - val_loss: 1.0764 - val_acc: 0.7620\n"
     ]
    },
    {
     "name": "stdout",
     "output_type": "stream",
     "text": [
      "Epoch 64/120\n",
      "1/1 - 0s - loss: 0.9325 - acc: 0.8143 - val_loss: 1.0823 - val_acc: 0.7660\n",
      "Epoch 65/120\n",
      "1/1 - 0s - loss: 1.0865 - acc: 0.7571 - val_loss: 1.0906 - val_acc: 0.7500\n",
      "Epoch 66/120\n",
      "1/1 - 0s - loss: 2.1896 - acc: 0.7643 - val_loss: 1.0937 - val_acc: 0.7440\n",
      "Epoch 67/120\n",
      "1/1 - 0s - loss: 0.9353 - acc: 0.8071 - val_loss: 1.0959 - val_acc: 0.7500\n",
      "Epoch 68/120\n",
      "1/1 - 0s - loss: 0.9814 - acc: 0.7857 - val_loss: 1.0989 - val_acc: 0.7480\n",
      "Epoch 69/120\n",
      "1/1 - 0s - loss: 0.9157 - acc: 0.8143 - val_loss: 1.1044 - val_acc: 0.7500\n",
      "Epoch 70/120\n",
      "1/1 - 0s - loss: 0.8920 - acc: 0.8786 - val_loss: 1.1107 - val_acc: 0.7500\n",
      "Epoch 71/120\n",
      "1/1 - 0s - loss: 1.1140 - acc: 0.8286 - val_loss: 1.1238 - val_acc: 0.7400\n",
      "Epoch 72/120\n",
      "1/1 - 0s - loss: 0.9621 - acc: 0.8429 - val_loss: 1.1351 - val_acc: 0.7320\n",
      "Epoch 73/120\n",
      "1/1 - 0s - loss: 0.8760 - acc: 0.8143 - val_loss: 1.1405 - val_acc: 0.7240\n",
      "Epoch 74/120\n",
      "1/1 - 0s - loss: 0.9632 - acc: 0.8071 - val_loss: 1.1404 - val_acc: 0.7240\n",
      "Epoch 75/120\n",
      "1/1 - 0s - loss: 0.8980 - acc: 0.8500 - val_loss: 1.1310 - val_acc: 0.7340\n",
      "Epoch 76/120\n",
      "1/1 - 0s - loss: 1.0579 - acc: 0.7714 - val_loss: 1.1245 - val_acc: 0.7340\n",
      "Epoch 77/120\n",
      "1/1 - 0s - loss: 0.9746 - acc: 0.8000 - val_loss: 1.1083 - val_acc: 0.7420\n",
      "Epoch 78/120\n",
      "1/1 - 0s - loss: 0.9457 - acc: 0.8357 - val_loss: 1.0872 - val_acc: 0.7360\n",
      "Epoch 79/120\n",
      "1/1 - 0s - loss: 0.9824 - acc: 0.8143 - val_loss: 1.0707 - val_acc: 0.7480\n",
      "Epoch 80/120\n",
      "1/1 - 0s - loss: 0.9520 - acc: 0.8643 - val_loss: 1.0611 - val_acc: 0.7560\n",
      "Epoch 81/120\n",
      "1/1 - 0s - loss: 0.8756 - acc: 0.8571 - val_loss: 1.0594 - val_acc: 0.7560\n",
      "Epoch 82/120\n",
      "1/1 - 0s - loss: 0.8693 - acc: 0.8500 - val_loss: 1.0683 - val_acc: 0.7500\n",
      "Epoch 83/120\n",
      "1/1 - 0s - loss: 0.8968 - acc: 0.8286 - val_loss: 1.0804 - val_acc: 0.7520\n",
      "Epoch 84/120\n",
      "1/1 - 0s - loss: 1.0175 - acc: 0.8357 - val_loss: 1.0908 - val_acc: 0.7500\n",
      "Epoch 85/120\n",
      "1/1 - 0s - loss: 1.0401 - acc: 0.8214 - val_loss: 1.1020 - val_acc: 0.7440\n",
      "Epoch 86/120\n",
      "1/1 - 0s - loss: 0.8759 - acc: 0.8071 - val_loss: 1.1031 - val_acc: 0.7420\n",
      "Epoch 87/120\n",
      "1/1 - 0s - loss: 1.0816 - acc: 0.7786 - val_loss: 1.1009 - val_acc: 0.7380\n",
      "Epoch 88/120\n",
      "1/1 - 0s - loss: 0.8758 - acc: 0.8571 - val_loss: 1.0970 - val_acc: 0.7320\n",
      "Epoch 89/120\n",
      "1/1 - 0s - loss: 0.8185 - acc: 0.8643 - val_loss: 1.0988 - val_acc: 0.7300\n",
      "Epoch 90/120\n",
      "1/1 - 0s - loss: 0.9665 - acc: 0.8357 - val_loss: 1.0971 - val_acc: 0.7340\n",
      "Epoch 91/120\n",
      "1/1 - 0s - loss: 0.9448 - acc: 0.8143 - val_loss: 1.0909 - val_acc: 0.7380\n",
      "Epoch 92/120\n",
      "1/1 - 0s - loss: 1.0038 - acc: 0.8286 - val_loss: 1.0808 - val_acc: 0.7420\n",
      "Epoch 93/120\n",
      "1/1 - 0s - loss: 0.8733 - acc: 0.8357 - val_loss: 1.0761 - val_acc: 0.7480\n",
      "Epoch 94/120\n",
      "1/1 - 0s - loss: 0.9492 - acc: 0.8071 - val_loss: 1.0746 - val_acc: 0.7520\n",
      "Epoch 95/120\n",
      "1/1 - 0s - loss: 0.8844 - acc: 0.8714 - val_loss: 1.0733 - val_acc: 0.7600\n",
      "Epoch 96/120\n",
      "1/1 - 0s - loss: 1.0042 - acc: 0.8286 - val_loss: 1.0737 - val_acc: 0.7580\n",
      "Epoch 97/120\n",
      "1/1 - 0s - loss: 0.9449 - acc: 0.7714 - val_loss: 1.0762 - val_acc: 0.7580\n",
      "Epoch 98/120\n",
      "1/1 - 0s - loss: 0.8519 - acc: 0.8500 - val_loss: 1.0753 - val_acc: 0.7560\n",
      "Epoch 99/120\n",
      "1/1 - 0s - loss: 0.9285 - acc: 0.8429 - val_loss: 1.0750 - val_acc: 0.7520\n",
      "Epoch 100/120\n",
      "1/1 - 0s - loss: 1.1018 - acc: 0.7929 - val_loss: 1.0740 - val_acc: 0.7560\n",
      "Epoch 101/120\n",
      "1/1 - 0s - loss: 0.9064 - acc: 0.8286 - val_loss: 1.0727 - val_acc: 0.7440\n",
      "Epoch 102/120\n",
      "1/1 - 0s - loss: 0.9785 - acc: 0.8429 - val_loss: 1.0754 - val_acc: 0.7400\n",
      "Epoch 103/120\n",
      "1/1 - 0s - loss: 0.9275 - acc: 0.8286 - val_loss: 1.0783 - val_acc: 0.7420\n",
      "Epoch 104/120\n",
      "1/1 - 0s - loss: 0.9544 - acc: 0.8000 - val_loss: 1.0884 - val_acc: 0.7380\n",
      "Epoch 105/120\n",
      "1/1 - 0s - loss: 1.0397 - acc: 0.8429 - val_loss: 1.0961 - val_acc: 0.7400\n",
      "Epoch 106/120\n",
      "1/1 - 0s - loss: 0.9163 - acc: 0.8286 - val_loss: 1.1013 - val_acc: 0.7420\n",
      "Epoch 107/120\n",
      "1/1 - 0s - loss: 0.9522 - acc: 0.8286 - val_loss: 1.1124 - val_acc: 0.7420\n",
      "Epoch 108/120\n",
      "1/1 - 0s - loss: 0.9453 - acc: 0.8357 - val_loss: 1.1143 - val_acc: 0.7380\n",
      "Epoch 109/120\n",
      "1/1 - 0s - loss: 1.1327 - acc: 0.8214 - val_loss: 1.1111 - val_acc: 0.7360\n",
      "Epoch 110/120\n",
      "1/1 - 0s - loss: 0.8280 - acc: 0.8571 - val_loss: 1.1054 - val_acc: 0.7400\n",
      "Epoch 111/120\n",
      "1/1 - 0s - loss: 0.9289 - acc: 0.8429 - val_loss: 1.1015 - val_acc: 0.7400\n"
     ]
    }
   ],
   "source": [
    "generator = FullBatchNodeGenerator(G, method=\"gcn\", sparse=True)\n",
    "\n",
    "train_gen = generator.flow(train_data.index, train_targets)\n",
    "val_gen = generator.flow(val_data.index, val_targets)\n",
    "test_gen = generator.flow(test_data.index, test_targets)\n",
    "\n",
    "appnp = APPNP(layer_sizes=[64, 64, train_targets.shape[-1]], \n",
    "              activations=['relu', 'relu', 'relu'], \n",
    "              bias=True,\n",
    "              generator=generator, \n",
    "              teleport_probability=0.1, \n",
    "              dropout=0.5, \n",
    "              kernel_regularizer=keras.regularizers.l2(0.001)\n",
    ")\n",
    "\n",
    "x_inp, x_out = appnp.node_model()\n",
    "predictions = keras.layers.Softmax()(x_out)\n",
    "\n",
    "appnp_model = keras.models.Model(inputs=x_inp, outputs=predictions)\n",
    "appnp_model.compile(loss='categorical_crossentropy', metrics=['acc'],\n",
    "                  optimizer=keras.optimizers.Adam(lr=0.01))\n",
    "\n",
    "es_callback = EarlyStopping(monitor=\"val_acc\", patience=50)  # patience is the number of epochs to wait before early stopping in case of no further improvement\n",
    "\n",
    "mc_callback = ModelCheckpoint(\n",
    "    \"logs/best_appnp_model.h5\",\n",
    "    monitor=\"val_acc\",\n",
    "    save_best_only=True,\n",
    "    save_weights_only=True,\n",
    ")\n",
    "\n",
    "history = appnp_model.fit_generator(\n",
    "    train_gen,\n",
    "    epochs=120,\n",
    "    validation_data=val_gen,\n",
    "    verbose=2,\n",
    "    shuffle=False,  # this should be False, since shuffling data means shuffling the whole graph\n",
    "    callbacks=[es_callback, mc_callback],\n",
    ")"
   ]
  },
  {
   "cell_type": "code",
   "execution_count": 28,
   "metadata": {},
   "outputs": [
    {
     "data": {
      "image/png": "[encoded data removed]",
      "text/plain": [
       "<Figure size 432x288 with 1 Axes>"
      ]
     },
     "metadata": {
      "needs_background": "light"
     },
     "output_type": "display_data"
    },
    {
     "data": {
      "image/png": "[encoded data removed]",
      "text/plain": [
       "<Figure size 432x288 with 1 Axes>"
      ]
     },
     "metadata": {
      "needs_background": "light"
     },
     "output_type": "display_data"
    }
   ],
   "source": [
    "plot_history(history)"
   ]
  },
  {
   "cell_type": "code",
   "execution_count": 29,
   "metadata": {},
   "outputs": [
    {
     "name": "stdout",
     "output_type": "stream",
     "text": [
      "\n",
      "Test Set Metrics:\n",
      "\tloss: 1.2080\n",
      "\tacc: 0.7418\n"
     ]
    }
   ],
   "source": [
    "appnp_model.load_weights(\"logs/best_appnp_model.h5\")\n",
    "test_metrics = appnp_model.evaluate_generator(test_gen)\n",
    "print(\"\\nTest Set Metrics:\")\n",
    "for name, val in zip(appnp_model.metrics_names, test_metrics):\n",
    "    print(\"\\t{}: {:0.4f}\".format(name, val))"
   ]
  },
  {
   "cell_type": "markdown",
   "metadata": {},
   "source": [
    "### Scalable APPNP Training\n",
    "\n",
    "Now we're going to exploit the structure of PPNP for scalable training. PPNP consists of a fully-connected neural network followed by a graph propogation step. For each node, the fully-connected network outputs a score for each class and the propogaiton step basically takes a weighted average of scores of nearby nodes (closer nodes are weighted higher). \n",
    "\n",
    "Above, we trained the whole network end-to-end which obtains the most accurate results but  requires us to load the entire graph onto our GPU memory. This is because we need the entire graph for the propogation step. Unfortunately, this limits the graph size by our GPU memory. To get around this, we can train the fully-connected network separately and once we have a trained fully connected network we can add the graph propagation step.  The advantage of this approach is that we can train on batches of node features instead of the entire graph.\n",
    "\n",
    "The model in the propagation step can be any keras model trained on node features to predict the target classes. In this example we use a fully connected neural network with bag of word features as input. We could easily swap out the bag of words features for the complete text and replace the fully connected network with a state-of-the-art NLP model (for example BERT [1]), fine-tune the model and propagate its predictions.\n",
    "\n",
    "\n",
    "<br>\n",
    "\n",
    "1. Devlin, J., Chang, M. W., Lee, K., & Toutanova, K. (2018). Bert: Pre-training of deep bidirectional transformers for language understanding. https://arxiv.org/abs/1810.04805"
   ]
  },
  {
   "cell_type": "markdown",
   "metadata": {},
   "source": [
    "First we create and train a fully connected model."
   ]
  },
  {
   "cell_type": "code",
   "execution_count": 30,
   "metadata": {},
   "outputs": [],
   "source": [
    "model = keras.models.Model()\n",
    "\n",
    "in_layer = layers.Input(shape=(len(feature_names),))\n",
    "layer = layers.Dense(64, activation='relu', kernel_regularizer=\"l2\")(in_layer)\n",
    "layer = layers.Dropout(0.5)(layer)\n",
    "layer = layers.Dense(64, activation='relu', kernel_regularizer=\"l2\")(in_layer)\n",
    "layer = layers.Dropout(0.5)(layer)\n",
    "\n",
    "#note the dimension of the output should equal the number of classes to predict!\n",
    "layer = layers.Dense(train_targets.shape[-1], activation='relu')(layer)\n",
    "layer = layers.Dropout(0.5)(layer)\n",
    "layer = layers.Softmax()(layer)\n",
    "\n",
    "fully_connected_model = keras.models.Model(inputs=in_layer, outputs=layer)\n",
    "\n",
    "fully_connected_model.compile(\n",
    "    loss='categorical_crossentropy', \n",
    "    metrics=['acc'],\n",
    "    optimizer=keras.optimizers.Adam(lr=0.01)\n",
    ")\n",
    "\n",
    "#the inputs are just the node features\n",
    "X_train = train_data[feature_names].values.astype(np.float32)\n",
    "X_val = val_data[feature_names].values.astype(np.float32)"
   ]
  },
  {
   "cell_type": "code",
   "execution_count": 31,
   "metadata": {},
   "outputs": [
    {
     "name": "stdout",
     "output_type": "stream",
     "text": [
      "Train on 140 samples, validate on 500 samples\n",
      "Epoch 1/2000\n",
      "140/140 [==============================] - 0s 2ms/sample - loss: 3.2271 - acc: 0.1000 - val_loss: 2.7733 - val_acc: 0.1640\n",
      "Epoch 2/2000\n",
      "140/140 [==============================] - 0s 102us/sample - loss: 2.7506 - acc: 0.1571 - val_loss: 2.4921 - val_acc: 0.2460\n",
      "Epoch 3/2000\n",
      "140/140 [==============================] - 0s 100us/sample - loss: 2.4376 - acc: 0.2429 - val_loss: 2.3034 - val_acc: 0.3400\n",
      "Epoch 4/2000\n",
      "140/140 [==============================] - 0s 98us/sample - loss: 2.2626 - acc: 0.2500 - val_loss: 2.1775 - val_acc: 0.4020\n",
      "Epoch 5/2000\n",
      "140/140 [==============================] - 0s 101us/sample - loss: 2.1107 - acc: 0.3071 - val_loss: 2.1023 - val_acc: 0.4120\n",
      "Epoch 6/2000\n",
      "140/140 [==============================] - 0s 100us/sample - loss: 1.9620 - acc: 0.4000 - val_loss: 2.0623 - val_acc: 0.4260\n",
      "Epoch 7/2000\n",
      "140/140 [==============================] - 0s 97us/sample - loss: 1.8394 - acc: 0.4500 - val_loss: 2.0396 - val_acc: 0.4320\n",
      "Epoch 8/2000\n",
      "140/140 [==============================] - 0s 94us/sample - loss: 1.7894 - acc: 0.4143 - val_loss: 2.0261 - val_acc: 0.4400\n",
      "Epoch 9/2000\n",
      "140/140 [==============================] - 0s 97us/sample - loss: 1.9404 - acc: 0.3500 - val_loss: 2.0112 - val_acc: 0.4720\n",
      "Epoch 10/2000\n",
      "140/140 [==============================] - 0s 92us/sample - loss: 1.8063 - acc: 0.4000 - val_loss: 1.9936 - val_acc: 0.4920\n",
      "Epoch 11/2000\n",
      "140/140 [==============================] - 0s 98us/sample - loss: 1.6601 - acc: 0.4643 - val_loss: 1.9721 - val_acc: 0.5060\n",
      "Epoch 12/2000\n",
      "140/140 [==============================] - 0s 97us/sample - loss: 1.8418 - acc: 0.3643 - val_loss: 1.9501 - val_acc: 0.5340\n",
      "Epoch 13/2000\n",
      "140/140 [==============================] - 0s 93us/sample - loss: 1.6849 - acc: 0.4786 - val_loss: 1.9272 - val_acc: 0.5680\n",
      "Epoch 14/2000\n",
      "140/140 [==============================] - 0s 95us/sample - loss: 1.7929 - acc: 0.4143 - val_loss: 1.9057 - val_acc: 0.5780\n",
      "Epoch 15/2000\n",
      "140/140 [==============================] - 0s 95us/sample - loss: 1.5867 - acc: 0.5214 - val_loss: 1.8841 - val_acc: 0.5900\n",
      "Epoch 16/2000\n",
      "140/140 [==============================] - 0s 97us/sample - loss: 1.7138 - acc: 0.4500 - val_loss: 1.8663 - val_acc: 0.5960\n",
      "Epoch 17/2000\n",
      "140/140 [==============================] - 0s 98us/sample - loss: 1.5862 - acc: 0.5071 - val_loss: 1.8516 - val_acc: 0.6080\n",
      "Epoch 18/2000\n",
      "140/140 [==============================] - 0s 97us/sample - loss: 1.5423 - acc: 0.5357 - val_loss: 1.8410 - val_acc: 0.6100\n",
      "Epoch 19/2000\n",
      "140/140 [==============================] - 0s 94us/sample - loss: 1.6123 - acc: 0.4786 - val_loss: 1.8364 - val_acc: 0.6240\n",
      "Epoch 20/2000\n",
      "140/140 [==============================] - 0s 63us/sample - loss: 1.4281 - acc: 0.5571 - val_loss: 1.8333 - val_acc: 0.6220\n",
      "Epoch 21/2000\n",
      "140/140 [==============================] - 0s 58us/sample - loss: 1.4840 - acc: 0.5143 - val_loss: 1.8318 - val_acc: 0.6160\n",
      "Epoch 22/2000\n",
      "140/140 [==============================] - 0s 59us/sample - loss: 1.6328 - acc: 0.4500 - val_loss: 1.8319 - val_acc: 0.6180\n",
      "Epoch 23/2000\n",
      "140/140 [==============================] - 0s 53us/sample - loss: 1.5742 - acc: 0.4429 - val_loss: 1.8289 - val_acc: 0.6100\n",
      "Epoch 24/2000\n",
      "140/140 [==============================] - 0s 55us/sample - loss: 1.5227 - acc: 0.5071 - val_loss: 1.8217 - val_acc: 0.6120\n",
      "Epoch 25/2000\n",
      "140/140 [==============================] - 0s 56us/sample - loss: 1.4221 - acc: 0.5214 - val_loss: 1.8135 - val_acc: 0.6140\n",
      "Epoch 26/2000\n",
      "140/140 [==============================] - 0s 55us/sample - loss: 1.4855 - acc: 0.5143 - val_loss: 1.8007 - val_acc: 0.6080\n",
      "Epoch 27/2000\n",
      "140/140 [==============================] - 0s 57us/sample - loss: 1.5526 - acc: 0.4786 - val_loss: 1.7874 - val_acc: 0.6020\n",
      "Epoch 28/2000\n",
      "140/140 [==============================] - 0s 56us/sample - loss: 1.5095 - acc: 0.4786 - val_loss: 1.7723 - val_acc: 0.6000\n",
      "Epoch 29/2000\n",
      "140/140 [==============================] - 0s 55us/sample - loss: 1.4185 - acc: 0.5214 - val_loss: 1.7542 - val_acc: 0.6020\n",
      "Epoch 30/2000\n",
      "140/140 [==============================] - 0s 65us/sample - loss: 1.2464 - acc: 0.5714 - val_loss: 1.7366 - val_acc: 0.6020\n",
      "Epoch 31/2000\n",
      "140/140 [==============================] - 0s 56us/sample - loss: 1.3927 - acc: 0.5000 - val_loss: 1.7190 - val_acc: 0.5940\n",
      "Epoch 32/2000\n",
      "140/140 [==============================] - 0s 56us/sample - loss: 1.3576 - acc: 0.5429 - val_loss: 1.7040 - val_acc: 0.5900\n",
      "Epoch 33/2000\n",
      "140/140 [==============================] - 0s 58us/sample - loss: 1.4049 - acc: 0.5071 - val_loss: 1.6916 - val_acc: 0.5920\n",
      "Epoch 34/2000\n",
      "140/140 [==============================] - 0s 58us/sample - loss: 1.3681 - acc: 0.5143 - val_loss: 1.6833 - val_acc: 0.5940\n",
      "Epoch 35/2000\n",
      "140/140 [==============================] - 0s 55us/sample - loss: 1.4933 - acc: 0.4786 - val_loss: 1.6773 - val_acc: 0.6020\n",
      "Epoch 36/2000\n",
      "140/140 [==============================] - 0s 57us/sample - loss: 1.4413 - acc: 0.4500 - val_loss: 1.6700 - val_acc: 0.6040\n",
      "Epoch 37/2000\n",
      "140/140 [==============================] - 0s 55us/sample - loss: 1.3941 - acc: 0.5000 - val_loss: 1.6646 - val_acc: 0.6100\n",
      "Epoch 38/2000\n",
      "140/140 [==============================] - 0s 56us/sample - loss: 1.3977 - acc: 0.4857 - val_loss: 1.6585 - val_acc: 0.6100\n",
      "Epoch 39/2000\n",
      "140/140 [==============================] - 0s 56us/sample - loss: 1.3139 - acc: 0.5214 - val_loss: 1.6534 - val_acc: 0.6180\n",
      "Epoch 40/2000\n",
      "140/140 [==============================] - 0s 56us/sample - loss: 1.2497 - acc: 0.5571 - val_loss: 1.6490 - val_acc: 0.6100\n",
      "Epoch 41/2000\n",
      "140/140 [==============================] - 0s 60us/sample - loss: 1.4615 - acc: 0.4357 - val_loss: 1.6467 - val_acc: 0.6100\n",
      "Epoch 42/2000\n",
      "140/140 [==============================] - 0s 57us/sample - loss: 1.2525 - acc: 0.5429 - val_loss: 1.6457 - val_acc: 0.6080\n",
      "Epoch 43/2000\n",
      "140/140 [==============================] - 0s 58us/sample - loss: 1.3632 - acc: 0.5286 - val_loss: 1.6487 - val_acc: 0.6040\n",
      "Epoch 44/2000\n",
      "140/140 [==============================] - 0s 56us/sample - loss: 1.3788 - acc: 0.5000 - val_loss: 1.6529 - val_acc: 0.6000\n",
      "Epoch 45/2000\n",
      "140/140 [==============================] - 0s 57us/sample - loss: 1.3651 - acc: 0.5000 - val_loss: 1.6537 - val_acc: 0.5940\n",
      "Epoch 46/2000\n",
      "140/140 [==============================] - 0s 57us/sample - loss: 1.2947 - acc: 0.5357 - val_loss: 1.6530 - val_acc: 0.5940\n",
      "Epoch 47/2000\n",
      "140/140 [==============================] - 0s 59us/sample - loss: 1.4155 - acc: 0.4714 - val_loss: 1.6479 - val_acc: 0.5960\n",
      "Epoch 48/2000\n",
      "140/140 [==============================] - 0s 61us/sample - loss: 1.5973 - acc: 0.4143 - val_loss: 1.6434 - val_acc: 0.5920\n",
      "Epoch 49/2000\n",
      "140/140 [==============================] - 0s 59us/sample - loss: 1.3060 - acc: 0.5357 - val_loss: 1.6360 - val_acc: 0.5980\n",
      "Epoch 50/2000\n",
      "140/140 [==============================] - 0s 56us/sample - loss: 1.3007 - acc: 0.5500 - val_loss: 1.6270 - val_acc: 0.5960\n",
      "Epoch 51/2000\n",
      "140/140 [==============================] - 0s 58us/sample - loss: 1.2675 - acc: 0.5500 - val_loss: 1.6210 - val_acc: 0.5980\n",
      "Epoch 52/2000\n",
      "140/140 [==============================] - 0s 59us/sample - loss: 1.2732 - acc: 0.5429 - val_loss: 1.6193 - val_acc: 0.5900\n",
      "Epoch 53/2000\n",
      "140/140 [==============================] - 0s 55us/sample - loss: 1.2975 - acc: 0.5286 - val_loss: 1.6228 - val_acc: 0.5720\n",
      "Epoch 54/2000\n",
      "140/140 [==============================] - 0s 57us/sample - loss: 1.2296 - acc: 0.5643 - val_loss: 1.6225 - val_acc: 0.5720\n",
      "Epoch 55/2000\n",
      "140/140 [==============================] - 0s 63us/sample - loss: 1.3406 - acc: 0.5214 - val_loss: 1.6205 - val_acc: 0.5740\n",
      "Epoch 56/2000\n",
      "140/140 [==============================] - 0s 56us/sample - loss: 1.1973 - acc: 0.6071 - val_loss: 1.6137 - val_acc: 0.5980\n",
      "Epoch 57/2000\n",
      "140/140 [==============================] - 0s 58us/sample - loss: 1.2013 - acc: 0.5714 - val_loss: 1.6064 - val_acc: 0.6060\n",
      "Epoch 58/2000\n",
      "140/140 [==============================] - 0s 56us/sample - loss: 1.2617 - acc: 0.5286 - val_loss: 1.6010 - val_acc: 0.6120\n",
      "Epoch 59/2000\n",
      "140/140 [==============================] - 0s 57us/sample - loss: 1.1839 - acc: 0.5643 - val_loss: 1.5991 - val_acc: 0.6140\n",
      "Epoch 60/2000\n"
     ]
    },
    {
     "name": "stdout",
     "output_type": "stream",
     "text": [
      "140/140 [==============================] - 0s 57us/sample - loss: 1.3145 - acc: 0.5214 - val_loss: 1.5975 - val_acc: 0.6100\n",
      "Epoch 61/2000\n",
      "140/140 [==============================] - 0s 56us/sample - loss: 1.3016 - acc: 0.5286 - val_loss: 1.5936 - val_acc: 0.6040\n",
      "Epoch 62/2000\n",
      "140/140 [==============================] - 0s 55us/sample - loss: 1.4572 - acc: 0.4571 - val_loss: 1.5893 - val_acc: 0.5880\n",
      "Epoch 63/2000\n",
      "140/140 [==============================] - 0s 57us/sample - loss: 1.1814 - acc: 0.5714 - val_loss: 1.5864 - val_acc: 0.5900\n",
      "Epoch 64/2000\n",
      "140/140 [==============================] - 0s 60us/sample - loss: 1.1841 - acc: 0.5929 - val_loss: 1.5829 - val_acc: 0.5860\n",
      "Epoch 65/2000\n",
      "140/140 [==============================] - 0s 65us/sample - loss: 1.4417 - acc: 0.4571 - val_loss: 1.5825 - val_acc: 0.5780\n",
      "Epoch 66/2000\n",
      "140/140 [==============================] - 0s 63us/sample - loss: 1.3172 - acc: 0.5214 - val_loss: 1.5798 - val_acc: 0.5840\n",
      "Epoch 67/2000\n",
      "140/140 [==============================] - 0s 54us/sample - loss: 1.2492 - acc: 0.5571 - val_loss: 1.5794 - val_acc: 0.5820\n",
      "Epoch 68/2000\n",
      "140/140 [==============================] - 0s 55us/sample - loss: 1.4127 - acc: 0.4857 - val_loss: 1.5839 - val_acc: 0.5840\n",
      "Epoch 69/2000\n",
      "140/140 [==============================] - 0s 58us/sample - loss: 1.3178 - acc: 0.5286 - val_loss: 1.5894 - val_acc: 0.5900\n"
     ]
    }
   ],
   "source": [
    "es_callback = EarlyStopping(monitor=\"val_acc\", patience=50)  # patience is the number of epochs to wait before early stopping in case of no further improvement\n",
    "\n",
    "mc_callback = ModelCheckpoint(\n",
    "    \"logs/best_fc_model.h5\",\n",
    "    monitor=\"val_acc\",\n",
    "    save_best_only=True,\n",
    "    save_weights_only=True,\n",
    ")\n",
    "\n",
    "history = fully_connected_model.fit(X_train, train_targets, \n",
    "                          validation_data=(X_val, val_targets), \n",
    "                          epochs=2000, batch_size=200, shuffle=True, #we can shuffle the data here as \n",
    "                         callbacks=[es_callback, mc_callback]) #we're only working with node features"
   ]
  },
  {
   "cell_type": "markdown",
   "metadata": {},
   "source": [
    "By itself the fully connected model only gets ~60% accuracy on the test set."
   ]
  },
  {
   "cell_type": "code",
   "execution_count": 32,
   "metadata": {},
   "outputs": [
    {
     "name": "stdout",
     "output_type": "stream",
     "text": [
      "2068/2068 [==============================] - 0s 17us/sample - loss: 1.8822 - acc: 0.5841\n",
      "\n",
      "Test Set Metrics:\n",
      "\tloss: 1.8822\n",
      "\tacc: 0.5841\n"
     ]
    }
   ],
   "source": [
    "X_test = test_data[feature_names].values.astype(np.float32)\n",
    "\n",
    "fully_connected_model.load_weights(\"logs/best_fc_model.h5\") \n",
    "test_metrics = fully_connected_model.evaluate(X_test, test_targets)\n",
    "print(\"\\nTest Set Metrics:\")\n",
    "for name, val in zip(fully_connected_model.metrics_names, test_metrics):\n",
    "    print(\"\\t{}: {:0.4f}\".format(name, val))"
   ]
  },
  {
   "cell_type": "markdown",
   "metadata": {},
   "source": [
    "Now we propogate the fully connected network - no extra training required and we can re-use the APPNP object we've already created."
   ]
  },
  {
   "cell_type": "code",
   "execution_count": 33,
   "metadata": {},
   "outputs": [
    {
     "name": "stdout",
     "output_type": "stream",
     "text": [
      "WARNING:tensorflow:Entity <bound method SqueezedSparseConversion.call of <stellargraph.layer.misc.SqueezedSparseConversion object at 0x1440352e8>> could not be transformed and will be executed as-is. Please report this to the AutgoGraph team. When filing the bug, set the verbosity to 10 (on Linux, `export AUTOGRAPH_VERBOSITY=10`) and attach the full output. Cause: converting <bound method SqueezedSparseConversion.call of <stellargraph.layer.misc.SqueezedSparseConversion object at 0x1440352e8>>: AttributeError: module 'gast' has no attribute 'Num'\n",
      "WARNING: Entity <bound method SqueezedSparseConversion.call of <stellargraph.layer.misc.SqueezedSparseConversion object at 0x1440352e8>> could not be transformed and will be executed as-is. Please report this to the AutgoGraph team. When filing the bug, set the verbosity to 10 (on Linux, `export AUTOGRAPH_VERBOSITY=10`) and attach the full output. Cause: converting <bound method SqueezedSparseConversion.call of <stellargraph.layer.misc.SqueezedSparseConversion object at 0x1440352e8>>: AttributeError: module 'gast' has no attribute 'Num'\n",
      "WARNING:tensorflow:Entity <bound method APPNPPropagationLayer.call of <stellargraph.layer.appnp.APPNPPropagationLayer object at 0x134f46f60>> could not be transformed and will be executed as-is. Please report this to the AutgoGraph team. When filing the bug, set the verbosity to 10 (on Linux, `export AUTOGRAPH_VERBOSITY=10`) and attach the full output. Cause: converting <bound method APPNPPropagationLayer.call of <stellargraph.layer.appnp.APPNPPropagationLayer object at 0x134f46f60>>: AttributeError: module 'gast' has no attribute 'Num'\n",
      "WARNING: Entity <bound method APPNPPropagationLayer.call of <stellargraph.layer.appnp.APPNPPropagationLayer object at 0x134f46f60>> could not be transformed and will be executed as-is. Please report this to the AutgoGraph team. When filing the bug, set the verbosity to 10 (on Linux, `export AUTOGRAPH_VERBOSITY=10`) and attach the full output. Cause: converting <bound method APPNPPropagationLayer.call of <stellargraph.layer.appnp.APPNPPropagationLayer object at 0x134f46f60>>: AttributeError: module 'gast' has no attribute 'Num'\n",
      "WARNING:tensorflow:Entity <bound method APPNPPropagationLayer.call of <stellargraph.layer.appnp.APPNPPropagationLayer object at 0x134f79198>> could not be transformed and will be executed as-is. Please report this to the AutgoGraph team. When filing the bug, set the verbosity to 10 (on Linux, `export AUTOGRAPH_VERBOSITY=10`) and attach the full output. Cause: converting <bound method APPNPPropagationLayer.call of <stellargraph.layer.appnp.APPNPPropagationLayer object at 0x134f79198>>: AttributeError: module 'gast' has no attribute 'Num'\n",
      "WARNING: Entity <bound method APPNPPropagationLayer.call of <stellargraph.layer.appnp.APPNPPropagationLayer object at 0x134f79198>> could not be transformed and will be executed as-is. Please report this to the AutgoGraph team. When filing the bug, set the verbosity to 10 (on Linux, `export AUTOGRAPH_VERBOSITY=10`) and attach the full output. Cause: converting <bound method APPNPPropagationLayer.call of <stellargraph.layer.appnp.APPNPPropagationLayer object at 0x134f79198>>: AttributeError: module 'gast' has no attribute 'Num'\n",
      "WARNING:tensorflow:Entity <bound method APPNPPropagationLayer.call of <stellargraph.layer.appnp.APPNPPropagationLayer object at 0x134f79390>> could not be transformed and will be executed as-is. Please report this to the AutgoGraph team. When filing the bug, set the verbosity to 10 (on Linux, `export AUTOGRAPH_VERBOSITY=10`) and attach the full output. Cause: converting <bound method APPNPPropagationLayer.call of <stellargraph.layer.appnp.APPNPPropagationLayer object at 0x134f79390>>: AttributeError: module 'gast' has no attribute 'Num'\n",
      "WARNING: Entity <bound method APPNPPropagationLayer.call of <stellargraph.layer.appnp.APPNPPropagationLayer object at 0x134f79390>> could not be transformed and will be executed as-is. Please report this to the AutgoGraph team. When filing the bug, set the verbosity to 10 (on Linux, `export AUTOGRAPH_VERBOSITY=10`) and attach the full output. Cause: converting <bound method APPNPPropagationLayer.call of <stellargraph.layer.appnp.APPNPPropagationLayer object at 0x134f79390>>: AttributeError: module 'gast' has no attribute 'Num'\n",
      "WARNING:tensorflow:Entity <bound method APPNPPropagationLayer.call of <stellargraph.layer.appnp.APPNPPropagationLayer object at 0x134f79588>> could not be transformed and will be executed as-is. Please report this to the AutgoGraph team. When filing the bug, set the verbosity to 10 (on Linux, `export AUTOGRAPH_VERBOSITY=10`) and attach the full output. Cause: converting <bound method APPNPPropagationLayer.call of <stellargraph.layer.appnp.APPNPPropagationLayer object at 0x134f79588>>: AttributeError: module 'gast' has no attribute 'Num'\n",
      "WARNING: Entity <bound method APPNPPropagationLayer.call of <stellargraph.layer.appnp.APPNPPropagationLayer object at 0x134f79588>> could not be transformed and will be executed as-is. Please report this to the AutgoGraph team. When filing the bug, set the verbosity to 10 (on Linux, `export AUTOGRAPH_VERBOSITY=10`) and attach the full output. Cause: converting <bound method APPNPPropagationLayer.call of <stellargraph.layer.appnp.APPNPPropagationLayer object at 0x134f79588>>: AttributeError: module 'gast' has no attribute 'Num'\n",
      "WARNING:tensorflow:Entity <bound method APPNPPropagationLayer.call of <stellargraph.layer.appnp.APPNPPropagationLayer object at 0x134f79780>> could not be transformed and will be executed as-is. Please report this to the AutgoGraph team. When filing the bug, set the verbosity to 10 (on Linux, `export AUTOGRAPH_VERBOSITY=10`) and attach the full output. Cause: converting <bound method APPNPPropagationLayer.call of <stellargraph.layer.appnp.APPNPPropagationLayer object at 0x134f79780>>: AttributeError: module 'gast' has no attribute 'Num'\n",
      "WARNING: Entity <bound method APPNPPropagationLayer.call of <stellargraph.layer.appnp.APPNPPropagationLayer object at 0x134f79780>> could not be transformed and will be executed as-is. Please report this to the AutgoGraph team. When filing the bug, set the verbosity to 10 (on Linux, `export AUTOGRAPH_VERBOSITY=10`) and attach the full output. Cause: converting <bound method APPNPPropagationLayer.call of <stellargraph.layer.appnp.APPNPPropagationLayer object at 0x134f79780>>: AttributeError: module 'gast' has no attribute 'Num'\n",
      "WARNING:tensorflow:Entity <bound method APPNPPropagationLayer.call of <stellargraph.layer.appnp.APPNPPropagationLayer object at 0x134f79978>> could not be transformed and will be executed as-is. Please report this to the AutgoGraph team. When filing the bug, set the verbosity to 10 (on Linux, `export AUTOGRAPH_VERBOSITY=10`) and attach the full output. Cause: converting <bound method APPNPPropagationLayer.call of <stellargraph.layer.appnp.APPNPPropagationLayer object at 0x134f79978>>: AttributeError: module 'gast' has no attribute 'Num'\n",
      "WARNING: Entity <bound method APPNPPropagationLayer.call of <stellargraph.layer.appnp.APPNPPropagationLayer object at 0x134f79978>> could not be transformed and will be executed as-is. Please report this to the AutgoGraph team. When filing the bug, set the verbosity to 10 (on Linux, `export AUTOGRAPH_VERBOSITY=10`) and attach the full output. Cause: converting <bound method APPNPPropagationLayer.call of <stellargraph.layer.appnp.APPNPPropagationLayer object at 0x134f79978>>: AttributeError: module 'gast' has no attribute 'Num'\n",
      "WARNING:tensorflow:Entity <bound method APPNPPropagationLayer.call of <stellargraph.layer.appnp.APPNPPropagationLayer object at 0x134f79b70>> could not be transformed and will be executed as-is. Please report this to the AutgoGraph team. When filing the bug, set the verbosity to 10 (on Linux, `export AUTOGRAPH_VERBOSITY=10`) and attach the full output. Cause: converting <bound method APPNPPropagationLayer.call of <stellargraph.layer.appnp.APPNPPropagationLayer object at 0x134f79b70>>: AttributeError: module 'gast' has no attribute 'Num'\n",
      "WARNING: Entity <bound method APPNPPropagationLayer.call of <stellargraph.layer.appnp.APPNPPropagationLayer object at 0x134f79b70>> could not be transformed and will be executed as-is. Please report this to the AutgoGraph team. When filing the bug, set the verbosity to 10 (on Linux, `export AUTOGRAPH_VERBOSITY=10`) and attach the full output. Cause: converting <bound method APPNPPropagationLayer.call of <stellargraph.layer.appnp.APPNPPropagationLayer object at 0x134f79b70>>: AttributeError: module 'gast' has no attribute 'Num'\n",
      "WARNING:tensorflow:Entity <bound method APPNPPropagationLayer.call of <stellargraph.layer.appnp.APPNPPropagationLayer object at 0x134f79d68>> could not be transformed and will be executed as-is. Please report this to the AutgoGraph team. When filing the bug, set the verbosity to 10 (on Linux, `export AUTOGRAPH_VERBOSITY=10`) and attach the full output. Cause: converting <bound method APPNPPropagationLayer.call of <stellargraph.layer.appnp.APPNPPropagationLayer object at 0x134f79d68>>: AttributeError: module 'gast' has no attribute 'Num'\n"
     ]
    },
    {
     "name": "stdout",
     "output_type": "stream",
     "text": [
      "WARNING: Entity <bound method APPNPPropagationLayer.call of <stellargraph.layer.appnp.APPNPPropagationLayer object at 0x134f79d68>> could not be transformed and will be executed as-is. Please report this to the AutgoGraph team. When filing the bug, set the verbosity to 10 (on Linux, `export AUTOGRAPH_VERBOSITY=10`) and attach the full output. Cause: converting <bound method APPNPPropagationLayer.call of <stellargraph.layer.appnp.APPNPPropagationLayer object at 0x134f79d68>>: AttributeError: module 'gast' has no attribute 'Num'\n",
      "WARNING:tensorflow:Entity <bound method APPNPPropagationLayer.call of <stellargraph.layer.appnp.APPNPPropagationLayer object at 0x134f79f60>> could not be transformed and will be executed as-is. Please report this to the AutgoGraph team. When filing the bug, set the verbosity to 10 (on Linux, `export AUTOGRAPH_VERBOSITY=10`) and attach the full output. Cause: converting <bound method APPNPPropagationLayer.call of <stellargraph.layer.appnp.APPNPPropagationLayer object at 0x134f79f60>>: AttributeError: module 'gast' has no attribute 'Num'\n",
      "WARNING: Entity <bound method APPNPPropagationLayer.call of <stellargraph.layer.appnp.APPNPPropagationLayer object at 0x134f79f60>> could not be transformed and will be executed as-is. Please report this to the AutgoGraph team. When filing the bug, set the verbosity to 10 (on Linux, `export AUTOGRAPH_VERBOSITY=10`) and attach the full output. Cause: converting <bound method APPNPPropagationLayer.call of <stellargraph.layer.appnp.APPNPPropagationLayer object at 0x134f79f60>>: AttributeError: module 'gast' has no attribute 'Num'\n",
      "WARNING:tensorflow:Entity <bound method APPNPPropagationLayer.call of <stellargraph.layer.appnp.APPNPPropagationLayer object at 0x134f7d198>> could not be transformed and will be executed as-is. Please report this to the AutgoGraph team. When filing the bug, set the verbosity to 10 (on Linux, `export AUTOGRAPH_VERBOSITY=10`) and attach the full output. Cause: converting <bound method APPNPPropagationLayer.call of <stellargraph.layer.appnp.APPNPPropagationLayer object at 0x134f7d198>>: AttributeError: module 'gast' has no attribute 'Num'\n",
      "WARNING: Entity <bound method APPNPPropagationLayer.call of <stellargraph.layer.appnp.APPNPPropagationLayer object at 0x134f7d198>> could not be transformed and will be executed as-is. Please report this to the AutgoGraph team. When filing the bug, set the verbosity to 10 (on Linux, `export AUTOGRAPH_VERBOSITY=10`) and attach the full output. Cause: converting <bound method APPNPPropagationLayer.call of <stellargraph.layer.appnp.APPNPPropagationLayer object at 0x134f7d198>>: AttributeError: module 'gast' has no attribute 'Num'\n"
     ]
    }
   ],
   "source": [
    "x_inp, x_out = appnp.propagate_model(fully_connected_model)\n",
    "predictions = keras.layers.Softmax()(x_out)\n",
    "\n",
    "propagated_model = keras.models.Model(inputs=x_inp, outputs=predictions)\n",
    "propagated_model.compile(loss='categorical_crossentropy', metrics=['acc'],\n",
    "                  optimizer=keras.optimizers.Adam(lr=0.01))"
   ]
  },
  {
   "cell_type": "markdown",
   "metadata": {},
   "source": [
    "Our accuracy is better than the fully connected network by itself but less than end-to-end trained PPNP and APPNP. \n",
    "\n",
    "Note that this is partially because 140 data points isn't sufficient for the fully connected model to achieve optimal performance. As the number of training nodes increases the perfomance gap shrinks. "
   ]
  },
  {
   "cell_type": "code",
   "execution_count": 34,
   "metadata": {},
   "outputs": [
    {
     "name": "stdout",
     "output_type": "stream",
     "text": [
      "\n",
      "Test Set Metrics:\n",
      "\tloss: 2.1394\n",
      "\tacc: 0.6934\n"
     ]
    }
   ],
   "source": [
    "test_metrics = propagated_model.evaluate_generator(test_gen)\n",
    "print(\"\\nTest Set Metrics:\")\n",
    "for name, val in zip(propagated_model.metrics_names, test_metrics):\n",
    "    print(\"\\t{}: {:0.4f}\".format(name, val))"
   ]
  },
  {
   "cell_type": "markdown",
   "metadata": {},
   "source": [
    "### Making predictions with the model"
   ]
  },
  {
   "cell_type": "markdown",
   "metadata": {},
   "source": [
    "Now let's get the predictions for all nodes."
   ]
  },
  {
   "cell_type": "code",
   "execution_count": 35,
   "metadata": {},
   "outputs": [],
   "source": [
    "all_nodes = node_data.index\n",
    "all_gen = generator.flow(all_nodes)\n",
    "all_predictions = propagated_model.predict_generator(all_gen)"
   ]
  },
  {
   "cell_type": "markdown",
   "metadata": {},
   "source": [
    "These predictions will be the output of the softmax layer, so to get final categories we'll use the `inverse_transform` method of our target attribute specifcation to turn these values back to the original categories."
   ]
  },
  {
   "cell_type": "markdown",
   "metadata": {},
   "source": [
    "Note that for full-batch methods the batch size is 1 and the predictions have shape $(1, N_{nodes}, N_{classes})$ so we remove the batch dimension to obtain predictions of shape $(N_{nodes}, N_{classes})$ using the NumPy `squeeze` method."
   ]
  },
  {
   "cell_type": "code",
   "execution_count": 36,
   "metadata": {},
   "outputs": [],
   "source": [
    "node_predictions = target_encoding.inverse_transform(all_predictions.squeeze())"
   ]
  },
  {
   "cell_type": "markdown",
   "metadata": {},
   "source": [
    "Let's have a look at a few predictions after training the model:"
   ]
  },
  {
   "cell_type": "code",
   "execution_count": 37,
   "metadata": {},
   "outputs": [
    {
     "data": {
      "text/html": [
       "<div>\n",
       "<style scoped>\n",
       "    .dataframe tbody tr th:only-of-type {\n",
       "        vertical-align: middle;\n",
       "    }\n",
       "\n",
       "    .dataframe tbody tr th {\n",
       "        vertical-align: top;\n",
       "    }\n",
       "\n",
       "    .dataframe thead th {\n",
       "        text-align: right;\n",
       "    }\n",
       "</style>\n",
       "<table border=\"1\" class=\"dataframe\">\n",
       "  <thead>\n",
       "    <tr style=\"text-align: right;\">\n",
       "      <th></th>\n",
       "      <th>Predicted</th>\n",
       "      <th>True</th>\n",
       "    </tr>\n",
       "  </thead>\n",
       "  <tbody>\n",
       "    <tr>\n",
       "      <td>31336</td>\n",
       "      <td>subject=Neural_Networks</td>\n",
       "      <td>Neural_Networks</td>\n",
       "    </tr>\n",
       "    <tr>\n",
       "      <td>1061127</td>\n",
       "      <td>subject=Theory</td>\n",
       "      <td>Rule_Learning</td>\n",
       "    </tr>\n",
       "    <tr>\n",
       "      <td>1106406</td>\n",
       "      <td>subject=Reinforcement_Learning</td>\n",
       "      <td>Reinforcement_Learning</td>\n",
       "    </tr>\n",
       "    <tr>\n",
       "      <td>13195</td>\n",
       "      <td>subject=Reinforcement_Learning</td>\n",
       "      <td>Reinforcement_Learning</td>\n",
       "    </tr>\n",
       "    <tr>\n",
       "      <td>37879</td>\n",
       "      <td>subject=Probabilistic_Methods</td>\n",
       "      <td>Probabilistic_Methods</td>\n",
       "    </tr>\n",
       "    <tr>\n",
       "      <td>1126012</td>\n",
       "      <td>subject=Probabilistic_Methods</td>\n",
       "      <td>Probabilistic_Methods</td>\n",
       "    </tr>\n",
       "    <tr>\n",
       "      <td>1107140</td>\n",
       "      <td>subject=Theory</td>\n",
       "      <td>Theory</td>\n",
       "    </tr>\n",
       "    <tr>\n",
       "      <td>1102850</td>\n",
       "      <td>subject=Neural_Networks</td>\n",
       "      <td>Neural_Networks</td>\n",
       "    </tr>\n",
       "    <tr>\n",
       "      <td>31349</td>\n",
       "      <td>subject=Neural_Networks</td>\n",
       "      <td>Neural_Networks</td>\n",
       "    </tr>\n",
       "    <tr>\n",
       "      <td>1106418</td>\n",
       "      <td>subject=Theory</td>\n",
       "      <td>Theory</td>\n",
       "    </tr>\n",
       "    <tr>\n",
       "      <td>1123188</td>\n",
       "      <td>subject=Neural_Networks</td>\n",
       "      <td>Neural_Networks</td>\n",
       "    </tr>\n",
       "    <tr>\n",
       "      <td>1128990</td>\n",
       "      <td>subject=Neural_Networks</td>\n",
       "      <td>Genetic_Algorithms</td>\n",
       "    </tr>\n",
       "    <tr>\n",
       "      <td>109323</td>\n",
       "      <td>subject=Neural_Networks</td>\n",
       "      <td>Probabilistic_Methods</td>\n",
       "    </tr>\n",
       "    <tr>\n",
       "      <td>217139</td>\n",
       "      <td>subject=Theory</td>\n",
       "      <td>Case_Based</td>\n",
       "    </tr>\n",
       "    <tr>\n",
       "      <td>31353</td>\n",
       "      <td>subject=Neural_Networks</td>\n",
       "      <td>Neural_Networks</td>\n",
       "    </tr>\n",
       "    <tr>\n",
       "      <td>32083</td>\n",
       "      <td>subject=Neural_Networks</td>\n",
       "      <td>Neural_Networks</td>\n",
       "    </tr>\n",
       "    <tr>\n",
       "      <td>1126029</td>\n",
       "      <td>subject=Neural_Networks</td>\n",
       "      <td>Reinforcement_Learning</td>\n",
       "    </tr>\n",
       "    <tr>\n",
       "      <td>1118017</td>\n",
       "      <td>subject=Neural_Networks</td>\n",
       "      <td>Neural_Networks</td>\n",
       "    </tr>\n",
       "    <tr>\n",
       "      <td>49482</td>\n",
       "      <td>subject=Neural_Networks</td>\n",
       "      <td>Neural_Networks</td>\n",
       "    </tr>\n",
       "    <tr>\n",
       "      <td>753265</td>\n",
       "      <td>subject=Neural_Networks</td>\n",
       "      <td>Neural_Networks</td>\n",
       "    </tr>\n",
       "  </tbody>\n",
       "</table>\n",
       "</div>"
      ],
      "text/plain": [
       "                              Predicted                    True\n",
       "31336           subject=Neural_Networks         Neural_Networks\n",
       "1061127                  subject=Theory           Rule_Learning\n",
       "1106406  subject=Reinforcement_Learning  Reinforcement_Learning\n",
       "13195    subject=Reinforcement_Learning  Reinforcement_Learning\n",
       "37879     subject=Probabilistic_Methods   Probabilistic_Methods\n",
       "1126012   subject=Probabilistic_Methods   Probabilistic_Methods\n",
       "1107140                  subject=Theory                  Theory\n",
       "1102850         subject=Neural_Networks         Neural_Networks\n",
       "31349           subject=Neural_Networks         Neural_Networks\n",
       "1106418                  subject=Theory                  Theory\n",
       "1123188         subject=Neural_Networks         Neural_Networks\n",
       "1128990         subject=Neural_Networks      Genetic_Algorithms\n",
       "109323          subject=Neural_Networks   Probabilistic_Methods\n",
       "217139                   subject=Theory              Case_Based\n",
       "31353           subject=Neural_Networks         Neural_Networks\n",
       "32083           subject=Neural_Networks         Neural_Networks\n",
       "1126029         subject=Neural_Networks  Reinforcement_Learning\n",
       "1118017         subject=Neural_Networks         Neural_Networks\n",
       "49482           subject=Neural_Networks         Neural_Networks\n",
       "753265          subject=Neural_Networks         Neural_Networks"
      ]
     },
     "execution_count": 37,
     "metadata": {},
     "output_type": "execute_result"
    }
   ],
   "source": [
    "results = pd.DataFrame(node_predictions, index=all_nodes).idxmax(axis=1)\n",
    "df = pd.DataFrame({\"Predicted\": results, \"True\": node_data['subject']})\n",
    "df.head(20)"
   ]
  },
  {
   "cell_type": "markdown",
   "metadata": {},
   "source": [
    "Now we have an accurate model that can handle large graphs."
   ]
  }
 ],
 "metadata": {
  "kernelspec": {
   "display_name": "Python 3",
   "language": "python",
   "name": "python3"
  },
  "language_info": {
   "codemirror_mode": {
    "name": "ipython",
    "version": 3
   },
   "file_extension": ".py",
   "mimetype": "text/x-python",
   "name": "python",
   "nbconvert_exporter": "python",
   "pygments_lexer": "ipython3",
   "version": "3.6.9"
  }
 },
 "nbformat": 4,
 "nbformat_minor": 2
}
