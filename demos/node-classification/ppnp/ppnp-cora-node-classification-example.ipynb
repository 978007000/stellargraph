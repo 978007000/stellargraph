{
 "cells": [
  {
   "cell_type": "markdown",
   "metadata": {},
   "source": [
    "# Stellargraph example: Personalised Propagation of Neural Predictions (PPNP) and Approximate PPNP (APPNP) on the CORA citation dataset"
   ]
  },
  {
   "cell_type": "markdown",
   "metadata": {},
   "source": [
    "Import NetworkX and stellar:"
   ]
  },
  {
   "cell_type": "code",
   "execution_count": 1,
   "metadata": {},
   "outputs": [
    {
     "name": "stderr",
     "output_type": "stream",
     "text": [
      "/Users/kieranricardo/anaconda3/envs/stellar-env/lib/python3.6/site-packages/tensorflow/python/framework/dtypes.py:516: FutureWarning: Passing (type, 1) or '1type' as a synonym of type is deprecated; in a future version of numpy, it will be understood as (type, (1,)) / '(1,)type'.\n",
      "  _np_qint8 = np.dtype([(\"qint8\", np.int8, 1)])\n",
      "/Users/kieranricardo/anaconda3/envs/stellar-env/lib/python3.6/site-packages/tensorflow/python/framework/dtypes.py:517: FutureWarning: Passing (type, 1) or '1type' as a synonym of type is deprecated; in a future version of numpy, it will be understood as (type, (1,)) / '(1,)type'.\n",
      "  _np_quint8 = np.dtype([(\"quint8\", np.uint8, 1)])\n",
      "/Users/kieranricardo/anaconda3/envs/stellar-env/lib/python3.6/site-packages/tensorflow/python/framework/dtypes.py:518: FutureWarning: Passing (type, 1) or '1type' as a synonym of type is deprecated; in a future version of numpy, it will be understood as (type, (1,)) / '(1,)type'.\n",
      "  _np_qint16 = np.dtype([(\"qint16\", np.int16, 1)])\n",
      "/Users/kieranricardo/anaconda3/envs/stellar-env/lib/python3.6/site-packages/tensorflow/python/framework/dtypes.py:519: FutureWarning: Passing (type, 1) or '1type' as a synonym of type is deprecated; in a future version of numpy, it will be understood as (type, (1,)) / '(1,)type'.\n",
      "  _np_quint16 = np.dtype([(\"quint16\", np.uint16, 1)])\n",
      "/Users/kieranricardo/anaconda3/envs/stellar-env/lib/python3.6/site-packages/tensorflow/python/framework/dtypes.py:520: FutureWarning: Passing (type, 1) or '1type' as a synonym of type is deprecated; in a future version of numpy, it will be understood as (type, (1,)) / '(1,)type'.\n",
      "  _np_qint32 = np.dtype([(\"qint32\", np.int32, 1)])\n",
      "/Users/kieranricardo/anaconda3/envs/stellar-env/lib/python3.6/site-packages/tensorflow/python/framework/dtypes.py:525: FutureWarning: Passing (type, 1) or '1type' as a synonym of type is deprecated; in a future version of numpy, it will be understood as (type, (1,)) / '(1,)type'.\n",
      "  np_resource = np.dtype([(\"resource\", np.ubyte, 1)])\n",
      "/Users/kieranricardo/anaconda3/envs/stellar-env/lib/python3.6/site-packages/tensorboard/compat/tensorflow_stub/dtypes.py:541: FutureWarning: Passing (type, 1) or '1type' as a synonym of type is deprecated; in a future version of numpy, it will be understood as (type, (1,)) / '(1,)type'.\n",
      "  _np_qint8 = np.dtype([(\"qint8\", np.int8, 1)])\n",
      "/Users/kieranricardo/anaconda3/envs/stellar-env/lib/python3.6/site-packages/tensorboard/compat/tensorflow_stub/dtypes.py:542: FutureWarning: Passing (type, 1) or '1type' as a synonym of type is deprecated; in a future version of numpy, it will be understood as (type, (1,)) / '(1,)type'.\n",
      "  _np_quint8 = np.dtype([(\"quint8\", np.uint8, 1)])\n",
      "/Users/kieranricardo/anaconda3/envs/stellar-env/lib/python3.6/site-packages/tensorboard/compat/tensorflow_stub/dtypes.py:543: FutureWarning: Passing (type, 1) or '1type' as a synonym of type is deprecated; in a future version of numpy, it will be understood as (type, (1,)) / '(1,)type'.\n",
      "  _np_qint16 = np.dtype([(\"qint16\", np.int16, 1)])\n",
      "/Users/kieranricardo/anaconda3/envs/stellar-env/lib/python3.6/site-packages/tensorboard/compat/tensorflow_stub/dtypes.py:544: FutureWarning: Passing (type, 1) or '1type' as a synonym of type is deprecated; in a future version of numpy, it will be understood as (type, (1,)) / '(1,)type'.\n",
      "  _np_quint16 = np.dtype([(\"quint16\", np.uint16, 1)])\n",
      "/Users/kieranricardo/anaconda3/envs/stellar-env/lib/python3.6/site-packages/tensorboard/compat/tensorflow_stub/dtypes.py:545: FutureWarning: Passing (type, 1) or '1type' as a synonym of type is deprecated; in a future version of numpy, it will be understood as (type, (1,)) / '(1,)type'.\n",
      "  _np_qint32 = np.dtype([(\"qint32\", np.int32, 1)])\n",
      "/Users/kieranricardo/anaconda3/envs/stellar-env/lib/python3.6/site-packages/tensorboard/compat/tensorflow_stub/dtypes.py:550: FutureWarning: Passing (type, 1) or '1type' as a synonym of type is deprecated; in a future version of numpy, it will be understood as (type, (1,)) / '(1,)type'.\n",
      "  np_resource = np.dtype([(\"resource\", np.ubyte, 1)])\n"
     ]
    }
   ],
   "source": [
    "import networkx as nx\n",
    "import pandas as pd\n",
    "import numpy as np\n",
    "import os\n",
    "from tensorflow import keras\n",
    "from tensorflow.keras import backend as K\n",
    "from tensorflow.keras.callbacks import EarlyStopping, ModelCheckpoint\n",
    "\n",
    "import stellargraph as sg\n",
    "from stellargraph.mapper import FullBatchNodeGenerator\n",
    "from stellargraph.layer.ppnp import PPNP\n",
    "from stellargraph.layer.appnp import APPNP\n",
    "\n",
    "from tensorflow.keras import layers, optimizers, losses, metrics, Model\n",
    "from sklearn import preprocessing, feature_extraction, model_selection"
   ]
  },
  {
   "cell_type": "markdown",
   "metadata": {},
   "source": [
    "### Loading the CORA network"
   ]
  },
  {
   "cell_type": "markdown",
   "metadata": {},
   "source": [
    "**Downloading the CORA dataset:**\n",
    "    \n",
    "The dataset used in this demo can be downloaded from [here](https://linqs-data.soe.ucsc.edu/public/lbc/cora.tgz).\n",
    "\n",
    "The following is the description of the dataset:\n",
    "> The Cora dataset consists of 2708 scientific publications classified into one of seven classes.\n",
    "> The citation network consists of 5429 links. Each publication in the dataset is described by a\n",
    "> 0/1-valued word vector indicating the absence/presence of the corresponding word from the dictionary.\n",
    "> The dictionary consists of 1433 unique words. The README file in the dataset provides more details.\n",
    "\n",
    "Download and unzip the cora.tgz file to a location on your computer and set the `data_dir` variable to\n",
    "point to the location of the dataset (the directory containing \"cora.cites\" and \"cora.content\")."
   ]
  },
  {
   "cell_type": "code",
   "execution_count": 2,
   "metadata": {},
   "outputs": [],
   "source": [
    "data_dir = os.path.join(\"~\", \"data\", \"cora\")"
   ]
  },
  {
   "cell_type": "markdown",
   "metadata": {},
   "source": [
    "Load the graph from edgelist (in the order `cited-paper` <- `citing-paper`)"
   ]
  },
  {
   "cell_type": "code",
   "execution_count": 3,
   "metadata": {},
   "outputs": [],
   "source": [
    "edgelist = pd.read_csv(os.path.join(data_dir, \"cora.cites\"), sep='\\t', header=None, names=[\"target\", \"source\"])\n",
    "edgelist[\"label\"] = \"cites\""
   ]
  },
  {
   "cell_type": "code",
   "execution_count": 4,
   "metadata": {},
   "outputs": [],
   "source": [
    "Gnx = nx.from_pandas_edgelist(edgelist, edge_attr=\"label\")"
   ]
  },
  {
   "cell_type": "code",
   "execution_count": 5,
   "metadata": {},
   "outputs": [],
   "source": [
    "nx.set_node_attributes(Gnx, \"paper\", \"label\")"
   ]
  },
  {
   "cell_type": "markdown",
   "metadata": {},
   "source": [
    "Load the features and subject for the nodes"
   ]
  },
  {
   "cell_type": "code",
   "execution_count": 6,
   "metadata": {},
   "outputs": [],
   "source": [
    "feature_names = [\"w_{}\".format(ii) for ii in range(1433)]\n",
    "column_names =  feature_names + [\"subject\"]\n",
    "node_data = pd.read_csv(os.path.join(data_dir, \"cora.content\"), sep='\\t', header=None, names=column_names)"
   ]
  },
  {
   "cell_type": "markdown",
   "metadata": {},
   "source": [
    "We aim to train a graph-ML model that will predict the \"subject\" attribute on the nodes. These subjects are one of 7 categories:"
   ]
  },
  {
   "cell_type": "code",
   "execution_count": 7,
   "metadata": {},
   "outputs": [
    {
     "data": {
      "text/plain": [
       "{'Case_Based',\n",
       " 'Genetic_Algorithms',\n",
       " 'Neural_Networks',\n",
       " 'Probabilistic_Methods',\n",
       " 'Reinforcement_Learning',\n",
       " 'Rule_Learning',\n",
       " 'Theory'}"
      ]
     },
     "execution_count": 7,
     "metadata": {},
     "output_type": "execute_result"
    }
   ],
   "source": [
    "set(node_data[\"subject\"])"
   ]
  },
  {
   "cell_type": "markdown",
   "metadata": {},
   "source": [
    "### Splitting the data"
   ]
  },
  {
   "cell_type": "markdown",
   "metadata": {},
   "source": [
    "For machine learning we want to take a subset of the nodes for training, and use the rest for validation and testing. We'll use scikit-learn again to do this.\n",
    "\n",
    "Here we're taking 140 node labels for training, 500 for validation, and the rest for testing."
   ]
  },
  {
   "cell_type": "code",
   "execution_count": 8,
   "metadata": {},
   "outputs": [],
   "source": [
    "train_data, test_data = model_selection.train_test_split(\n",
    "    node_data, train_size=140, test_size=None, stratify=node_data['subject']\n",
    ")\n",
    "val_data, test_data = model_selection.train_test_split(\n",
    "    test_data, train_size=500, test_size=None, stratify=test_data['subject']\n",
    ")"
   ]
  },
  {
   "cell_type": "markdown",
   "metadata": {},
   "source": [
    "Note using stratified sampling gives the following counts:"
   ]
  },
  {
   "cell_type": "code",
   "execution_count": 9,
   "metadata": {},
   "outputs": [
    {
     "data": {
      "text/plain": [
       "Counter({'Neural_Networks': 42,\n",
       "         'Genetic_Algorithms': 22,\n",
       "         'Case_Based': 16,\n",
       "         'Theory': 18,\n",
       "         'Rule_Learning': 9,\n",
       "         'Reinforcement_Learning': 11,\n",
       "         'Probabilistic_Methods': 22})"
      ]
     },
     "execution_count": 9,
     "metadata": {},
     "output_type": "execute_result"
    }
   ],
   "source": [
    "from collections import Counter\n",
    "Counter(train_data['subject'])"
   ]
  },
  {
   "cell_type": "markdown",
   "metadata": {},
   "source": [
    "The training set has class imbalance that might need to be compensated, e.g., via using a weighted cross-entropy loss in model training, with class weights inversely proportional to class support. However, we will ignore the class imbalance in this example, for simplicity."
   ]
  },
  {
   "cell_type": "markdown",
   "metadata": {},
   "source": [
    "### Converting to numeric arrays"
   ]
  },
  {
   "cell_type": "markdown",
   "metadata": {},
   "source": [
    "For our categorical target, we will use one-hot vectors that will be fed into a soft-max Keras layer during training. To do this conversion ..."
   ]
  },
  {
   "cell_type": "code",
   "execution_count": 10,
   "metadata": {},
   "outputs": [],
   "source": [
    "target_encoding = feature_extraction.DictVectorizer(sparse=False)\n",
    "\n",
    "train_targets = target_encoding.fit_transform(train_data[[\"subject\"]].to_dict('records'))\n",
    "val_targets = target_encoding.transform(val_data[[\"subject\"]].to_dict('records'))\n",
    "test_targets = target_encoding.transform(test_data[[\"subject\"]].to_dict('records'))"
   ]
  },
  {
   "cell_type": "markdown",
   "metadata": {},
   "source": [
    "We now do the same for the node attributes we want to use to predict the subject. These are the feature vectors that the Keras model will use as input. The CORA dataset contains attributes 'w_x' that correspond to words found in that publication. If a word occurs more than once in a publication the relevant attribute will be set to one, otherwise it will be zero."
   ]
  },
  {
   "cell_type": "code",
   "execution_count": 11,
   "metadata": {},
   "outputs": [],
   "source": [
    "node_features = node_data[feature_names]"
   ]
  },
  {
   "cell_type": "markdown",
   "metadata": {},
   "source": [
    "## Creating the PPNP model in Keras"
   ]
  },
  {
   "cell_type": "markdown",
   "metadata": {},
   "source": [
    "Now create a StellarGraph object from the NetworkX graph and the node features and targets. It is StellarGraph objects that we use in this library to perform machine learning tasks on."
   ]
  },
  {
   "cell_type": "code",
   "execution_count": 12,
   "metadata": {},
   "outputs": [],
   "source": [
    "G = sg.StellarGraph(Gnx, node_features=node_features)"
   ]
  },
  {
   "cell_type": "code",
   "execution_count": 13,
   "metadata": {},
   "outputs": [
    {
     "name": "stdout",
     "output_type": "stream",
     "text": [
      "StellarGraph: Undirected multigraph\n",
      " Nodes: 2708, Edges: 5278\n",
      "\n",
      " Node types:\n",
      "  paper: [2708]\n",
      "    Edge types: paper-cites->paper\n",
      "\n",
      " Edge types:\n",
      "    paper-cites->paper: [5278]\n",
      "\n"
     ]
    }
   ],
   "source": [
    "print(G.info())"
   ]
  },
  {
   "cell_type": "markdown",
   "metadata": {},
   "source": [
    "To feed data from the graph to the Keras model we need a generator. Since PPNP is a full-batch model, we use the `FullBatchNodeGenerator` class to feed node features and the normalized graph Laplacian matrix to the model.\n",
    "\n",
    "Specifying the `method='ppnp'` argument to the `FullBatchNodeGenerator` will pre-process the adjacency matrix and supply the personalized page rank matrix necessary for PPNP.  The personalized page rank matrix is a dense matrix and so `sparse=False` must be passed to `FullBatchNodeGenerator`."
   ]
  },
  {
   "cell_type": "code",
   "execution_count": 14,
   "metadata": {},
   "outputs": [],
   "source": [
    "generator = FullBatchNodeGenerator(G, \n",
    "                                   method=\"ppnp\", \n",
    "                                   sparse=False, \n",
    "                                   teleport_probability=0.1\n",
    "                                  )"
   ]
  },
  {
   "cell_type": "markdown",
   "metadata": {},
   "source": [
    "For training we map only the training nodes returned from our splitter and the target values."
   ]
  },
  {
   "cell_type": "code",
   "execution_count": 15,
   "metadata": {},
   "outputs": [],
   "source": [
    "train_gen = generator.flow(train_data.index, train_targets)"
   ]
  },
  {
   "cell_type": "markdown",
   "metadata": {},
   "source": [
    "Now we can specify our machine learning model, we need a few more parameters for this:\n",
    "\n",
    " * the `layer_sizes` is a list of hidden feature sizes of each full fully connected layer in the model. In this example we use three fully connected layers with 64,64, and 7 hidden node features at each layer. \n",
    " * `activations` is a list of activations applied to each layer's output\n",
    " * `dropout=0.5` specifies a 50% dropout at each layer. \n",
    " \n",
    " #### Note that the size of the final fully connected layer must be equal to the number of classes you are trying to predict.\n"
   ]
  },
  {
   "cell_type": "markdown",
   "metadata": {},
   "source": [
    "We create a PPNP model as follows:"
   ]
  },
  {
   "cell_type": "code",
   "execution_count": 16,
   "metadata": {},
   "outputs": [
    {
     "name": "stdout",
     "output_type": "stream",
     "text": [
      "WARNING:tensorflow:From /Users/kieranricardo/anaconda3/envs/stellar-env/lib/python3.6/site-packages/tensorflow/python/ops/init_ops.py:1251: calling VarianceScaling.__init__ (from tensorflow.python.ops.init_ops) with dtype is deprecated and will be removed in a future version.\n",
      "Instructions for updating:\n",
      "Call initializer instance with the dtype argument instead of passing it to the constructor\n",
      "WARNING:tensorflow:Entity <bound method PPNPPropagationLayer.call of <stellargraph.layer.ppnp.PPNPPropagationLayer object at 0x13f5c6cf8>> could not be transformed and will be executed as-is. Please report this to the AutgoGraph team. When filing the bug, set the verbosity to 10 (on Linux, `export AUTOGRAPH_VERBOSITY=10`) and attach the full output. Cause: converting <bound method PPNPPropagationLayer.call of <stellargraph.layer.ppnp.PPNPPropagationLayer object at 0x13f5c6cf8>>: AttributeError: module 'gast' has no attribute 'Num'\n",
      "WARNING: Entity <bound method PPNPPropagationLayer.call of <stellargraph.layer.ppnp.PPNPPropagationLayer object at 0x13f5c6cf8>> could not be transformed and will be executed as-is. Please report this to the AutgoGraph team. When filing the bug, set the verbosity to 10 (on Linux, `export AUTOGRAPH_VERBOSITY=10`) and attach the full output. Cause: converting <bound method PPNPPropagationLayer.call of <stellargraph.layer.ppnp.PPNPPropagationLayer object at 0x13f5c6cf8>>: AttributeError: module 'gast' has no attribute 'Num'\n"
     ]
    }
   ],
   "source": [
    "ppnp = PPNP([64, 64, train_targets.shape[-1]], ['relu', 'relu', 'relu'], \n",
    "             generator, \n",
    "              dropout=0.5, kernel_regularizer=keras.regularizers.l2(0.001))\n",
    "\n",
    "x_inp, x_out = ppnp.node_model()\n",
    "predictions = keras.layers.Softmax()(x_out)"
   ]
  },
  {
   "cell_type": "markdown",
   "metadata": {},
   "source": [
    "### Training the model"
   ]
  },
  {
   "cell_type": "markdown",
   "metadata": {},
   "source": [
    "Now let's create the actual Keras model with the input tensors `x_inp` and output tensors being the predictions `predictions` from the final dense layer"
   ]
  },
  {
   "cell_type": "code",
   "execution_count": 17,
   "metadata": {},
   "outputs": [],
   "source": [
    "ppnp_model = Model(inputs=x_inp, outputs=predictions)\n",
    "ppnp_model.compile(\n",
    "    optimizer=optimizers.Adam(lr=0.01),\n",
    "    loss=losses.categorical_crossentropy,\n",
    "    metrics=[\"acc\"],\n",
    ")"
   ]
  },
  {
   "cell_type": "markdown",
   "metadata": {},
   "source": [
    "Train the model, keeping track of its loss and accuracy on the training set, and its generalisation performance on the validation set (we need to create another generator over the validation data for this)"
   ]
  },
  {
   "cell_type": "code",
   "execution_count": 18,
   "metadata": {},
   "outputs": [],
   "source": [
    "val_gen = generator.flow(val_data.index, val_targets)"
   ]
  },
  {
   "cell_type": "markdown",
   "metadata": {},
   "source": [
    "Create callbacks for early stopping (if validation accuracy stops improving) and best model checkpoint saving:"
   ]
  },
  {
   "cell_type": "code",
   "execution_count": 19,
   "metadata": {},
   "outputs": [],
   "source": [
    "if not os.path.isdir(\"logs\"):\n",
    "    os.makedirs(\"logs\")"
   ]
  },
  {
   "cell_type": "code",
   "execution_count": 20,
   "metadata": {},
   "outputs": [],
   "source": [
    "es_callback = EarlyStopping(monitor=\"val_acc\", patience=50)  # patience is the number of epochs to wait before early stopping in case of no further improvement\n",
    "\n",
    "mc_callback = ModelCheckpoint(\n",
    "    \"logs/best_ppnp_model.h5\",\n",
    "    monitor=\"val_acc\",\n",
    "    save_best_only=True,\n",
    "    save_weights_only=True,\n",
    ")"
   ]
  },
  {
   "cell_type": "markdown",
   "metadata": {},
   "source": [
    "Train the model"
   ]
  },
  {
   "cell_type": "code",
   "execution_count": 21,
   "metadata": {},
   "outputs": [
    {
     "name": "stdout",
     "output_type": "stream",
     "text": [
      "Epoch 1/80\n",
      "1/1 - 1s - loss: 2.1714 - acc: 0.0929 - val_loss: 2.0896 - val_acc: 0.3040\n",
      "Epoch 2/80\n",
      "1/1 - 0s - loss: 2.0888 - acc: 0.2714 - val_loss: 2.0347 - val_acc: 0.3020\n",
      "Epoch 3/80\n",
      "1/1 - 0s - loss: 2.0262 - acc: 0.3286 - val_loss: 1.9805 - val_acc: 0.3020\n",
      "Epoch 4/80\n",
      "1/1 - 0s - loss: 1.9548 - acc: 0.3286 - val_loss: 1.9304 - val_acc: 0.3020\n",
      "Epoch 5/80\n",
      "1/1 - 0s - loss: 1.9368 - acc: 0.3214 - val_loss: 1.8869 - val_acc: 0.3020\n",
      "Epoch 6/80\n",
      "1/1 - 0s - loss: 1.8775 - acc: 0.3143 - val_loss: 1.8388 - val_acc: 0.3020\n",
      "Epoch 7/80\n",
      "1/1 - 0s - loss: 1.8274 - acc: 0.3357 - val_loss: 1.7738 - val_acc: 0.3220\n",
      "Epoch 8/80\n",
      "1/1 - 0s - loss: 1.7679 - acc: 0.3429 - val_loss: 1.7048 - val_acc: 0.4520\n",
      "Epoch 9/80\n",
      "1/1 - 0s - loss: 1.6964 - acc: 0.4071 - val_loss: 1.6467 - val_acc: 0.5160\n",
      "Epoch 10/80\n",
      "1/1 - 0s - loss: 1.6320 - acc: 0.4714 - val_loss: 1.5896 - val_acc: 0.5520\n",
      "Epoch 11/80\n",
      "1/1 - 0s - loss: 1.6968 - acc: 0.4357 - val_loss: 1.5259 - val_acc: 0.5660\n",
      "Epoch 12/80\n",
      "1/1 - 0s - loss: 1.5425 - acc: 0.5071 - val_loss: 1.4615 - val_acc: 0.5900\n",
      "Epoch 13/80\n",
      "1/1 - 0s - loss: 1.4918 - acc: 0.5071 - val_loss: 1.4078 - val_acc: 0.6140\n",
      "Epoch 14/80\n",
      "1/1 - 0s - loss: 1.4981 - acc: 0.5286 - val_loss: 1.3620 - val_acc: 0.6260\n",
      "Epoch 15/80\n",
      "1/1 - 0s - loss: 1.3073 - acc: 0.5929 - val_loss: 1.3236 - val_acc: 0.6460\n",
      "Epoch 16/80\n",
      "1/1 - 0s - loss: 1.4272 - acc: 0.5929 - val_loss: 1.2901 - val_acc: 0.6600\n",
      "Epoch 17/80\n",
      "1/1 - 0s - loss: 1.2965 - acc: 0.5857 - val_loss: 1.2610 - val_acc: 0.6760\n",
      "Epoch 18/80\n",
      "1/1 - 0s - loss: 1.3221 - acc: 0.6071 - val_loss: 1.2366 - val_acc: 0.6740\n",
      "Epoch 19/80\n",
      "1/1 - 0s - loss: 1.1893 - acc: 0.6571 - val_loss: 1.2163 - val_acc: 0.6720\n",
      "Epoch 20/80\n",
      "1/1 - 0s - loss: 1.1785 - acc: 0.6857 - val_loss: 1.2051 - val_acc: 0.6940\n",
      "Epoch 21/80\n",
      "1/1 - 0s - loss: 1.1871 - acc: 0.6929 - val_loss: 1.2016 - val_acc: 0.7240\n",
      "Epoch 22/80\n",
      "1/1 - 0s - loss: 1.1658 - acc: 0.7214 - val_loss: 1.1967 - val_acc: 0.7260\n",
      "Epoch 23/80\n",
      "1/1 - 0s - loss: 1.1440 - acc: 0.6929 - val_loss: 1.1934 - val_acc: 0.7280\n",
      "Epoch 24/80\n",
      "1/1 - 0s - loss: 1.0344 - acc: 0.7429 - val_loss: 1.1826 - val_acc: 0.7300\n",
      "Epoch 25/80\n",
      "1/1 - 0s - loss: 1.0431 - acc: 0.7714 - val_loss: 1.1603 - val_acc: 0.7280\n",
      "Epoch 26/80\n",
      "1/1 - 0s - loss: 1.0282 - acc: 0.7500 - val_loss: 1.1310 - val_acc: 0.7280\n",
      "Epoch 27/80\n",
      "1/1 - 0s - loss: 1.1744 - acc: 0.6929 - val_loss: 1.1030 - val_acc: 0.7340\n",
      "Epoch 28/80\n",
      "1/1 - 0s - loss: 1.0051 - acc: 0.7357 - val_loss: 1.0867 - val_acc: 0.7480\n",
      "Epoch 29/80\n",
      "1/1 - 0s - loss: 1.0071 - acc: 0.7500 - val_loss: 1.0798 - val_acc: 0.7380\n",
      "Epoch 30/80\n",
      "1/1 - 0s - loss: 1.0514 - acc: 0.7500 - val_loss: 1.0675 - val_acc: 0.7380\n",
      "Epoch 31/80\n",
      "1/1 - 0s - loss: 0.9493 - acc: 0.7929 - val_loss: 1.0574 - val_acc: 0.7420\n",
      "Epoch 32/80\n",
      "1/1 - 0s - loss: 1.0084 - acc: 0.7357 - val_loss: 1.0576 - val_acc: 0.7460\n",
      "Epoch 33/80\n",
      "1/1 - 0s - loss: 0.9063 - acc: 0.7786 - val_loss: 1.0654 - val_acc: 0.7400\n",
      "Epoch 34/80\n",
      "1/1 - 0s - loss: 0.9016 - acc: 0.8071 - val_loss: 1.0771 - val_acc: 0.7400\n",
      "Epoch 35/80\n",
      "1/1 - 0s - loss: 0.9799 - acc: 0.7786 - val_loss: 1.0754 - val_acc: 0.7360\n",
      "Epoch 36/80\n",
      "1/1 - 0s - loss: 0.8740 - acc: 0.7857 - val_loss: 1.0747 - val_acc: 0.7320\n",
      "Epoch 37/80\n",
      "1/1 - 0s - loss: 0.9311 - acc: 0.7929 - val_loss: 1.0713 - val_acc: 0.7400\n",
      "Epoch 38/80\n",
      "1/1 - 0s - loss: 0.9030 - acc: 0.7857 - val_loss: 1.0656 - val_acc: 0.7540\n",
      "Epoch 39/80\n",
      "1/1 - 0s - loss: 0.9121 - acc: 0.7857 - val_loss: 1.0471 - val_acc: 0.7680\n",
      "Epoch 40/80\n",
      "1/1 - 0s - loss: 0.8491 - acc: 0.8071 - val_loss: 1.0277 - val_acc: 0.7720\n",
      "Epoch 41/80\n",
      "1/1 - 0s - loss: 0.8989 - acc: 0.8214 - val_loss: 1.0115 - val_acc: 0.7780\n",
      "Epoch 42/80\n",
      "1/1 - 0s - loss: 0.8724 - acc: 0.8214 - val_loss: 1.0058 - val_acc: 0.7800\n",
      "Epoch 43/80\n",
      "1/1 - 0s - loss: 0.8131 - acc: 0.8214 - val_loss: 1.0052 - val_acc: 0.7820\n",
      "Epoch 44/80\n",
      "1/1 - 0s - loss: 0.8258 - acc: 0.8071 - val_loss: 0.9993 - val_acc: 0.7840\n",
      "Epoch 45/80\n",
      "1/1 - 0s - loss: 0.7511 - acc: 0.8500 - val_loss: 0.9848 - val_acc: 0.7920\n",
      "Epoch 46/80\n",
      "1/1 - 0s - loss: 0.8129 - acc: 0.8143 - val_loss: 0.9770 - val_acc: 0.7920\n",
      "Epoch 47/80\n",
      "1/1 - 0s - loss: 0.8478 - acc: 0.8000 - val_loss: 0.9782 - val_acc: 0.7880\n",
      "Epoch 48/80\n",
      "1/1 - 0s - loss: 0.7599 - acc: 0.8571 - val_loss: 0.9860 - val_acc: 0.7880\n",
      "Epoch 49/80\n",
      "1/1 - 0s - loss: 0.8258 - acc: 0.8143 - val_loss: 0.9950 - val_acc: 0.7900\n",
      "Epoch 50/80\n",
      "1/1 - 0s - loss: 0.7692 - acc: 0.8643 - val_loss: 1.0034 - val_acc: 0.7880\n",
      "Epoch 51/80\n",
      "1/1 - 0s - loss: 0.7822 - acc: 0.8857 - val_loss: 1.0021 - val_acc: 0.7860\n",
      "Epoch 52/80\n",
      "1/1 - 0s - loss: 0.6895 - acc: 0.8786 - val_loss: 0.9948 - val_acc: 0.7880\n",
      "Epoch 53/80\n",
      "1/1 - 0s - loss: 0.8212 - acc: 0.8286 - val_loss: 0.9885 - val_acc: 0.7960\n",
      "Epoch 54/80\n",
      "1/1 - 0s - loss: 0.7452 - acc: 0.8571 - val_loss: 0.9834 - val_acc: 0.7940\n",
      "Epoch 55/80\n",
      "1/1 - 0s - loss: 0.8425 - acc: 0.8143 - val_loss: 0.9794 - val_acc: 0.7940\n",
      "Epoch 56/80\n",
      "1/1 - 0s - loss: 0.6693 - acc: 0.8714 - val_loss: 0.9664 - val_acc: 0.7960\n",
      "Epoch 57/80\n",
      "1/1 - 0s - loss: 0.7325 - acc: 0.8786 - val_loss: 0.9609 - val_acc: 0.7940\n",
      "Epoch 58/80\n",
      "1/1 - 0s - loss: 0.7011 - acc: 0.8857 - val_loss: 0.9578 - val_acc: 0.7960\n",
      "Epoch 59/80\n",
      "1/1 - 0s - loss: 0.6676 - acc: 0.8929 - val_loss: 0.9598 - val_acc: 0.7960\n",
      "Epoch 60/80\n",
      "1/1 - 0s - loss: 0.7043 - acc: 0.8500 - val_loss: 0.9656 - val_acc: 0.8000\n",
      "Epoch 61/80\n",
      "1/1 - 0s - loss: 0.7000 - acc: 0.8857 - val_loss: 0.9715 - val_acc: 0.8060\n",
      "Epoch 62/80\n",
      "1/1 - 0s - loss: 0.6698 - acc: 0.8643 - val_loss: 0.9760 - val_acc: 0.8120\n",
      "Epoch 63/80\n",
      "1/1 - 0s - loss: 0.6622 - acc: 0.8857 - val_loss: 0.9741 - val_acc: 0.8200\n",
      "Epoch 64/80\n",
      "1/1 - 0s - loss: 0.6594 - acc: 0.8929 - val_loss: 0.9695 - val_acc: 0.8120\n",
      "Epoch 65/80\n",
      "1/1 - 0s - loss: 0.6024 - acc: 0.9000 - val_loss: 0.9649 - val_acc: 0.8180\n",
      "Epoch 66/80\n",
      "1/1 - 0s - loss: 0.6939 - acc: 0.8929 - val_loss: 0.9606 - val_acc: 0.8100\n",
      "Epoch 67/80\n",
      "1/1 - 0s - loss: 0.6553 - acc: 0.8857 - val_loss: 0.9648 - val_acc: 0.8040\n",
      "Epoch 68/80\n",
      "1/1 - 0s - loss: 0.6673 - acc: 0.9000 - val_loss: 0.9642 - val_acc: 0.8020\n",
      "Epoch 69/80\n",
      "1/1 - 0s - loss: 0.7056 - acc: 0.8786 - val_loss: 0.9560 - val_acc: 0.8060\n",
      "Epoch 70/80\n",
      "1/1 - 0s - loss: 0.6905 - acc: 0.8714 - val_loss: 0.9521 - val_acc: 0.8140\n",
      "Epoch 71/80\n",
      "1/1 - 0s - loss: 0.6755 - acc: 0.9000 - val_loss: 0.9553 - val_acc: 0.8200\n",
      "Epoch 72/80\n",
      "1/1 - 0s - loss: 0.7490 - acc: 0.8357 - val_loss: 0.9584 - val_acc: 0.8280\n",
      "Epoch 73/80\n",
      "1/1 - 0s - loss: 0.5945 - acc: 0.9286 - val_loss: 0.9646 - val_acc: 0.8260\n",
      "Epoch 74/80\n",
      "1/1 - 0s - loss: 0.6687 - acc: 0.8786 - val_loss: 0.9745 - val_acc: 0.8360\n",
      "Epoch 75/80\n",
      "1/1 - 0s - loss: 0.7860 - acc: 0.8643 - val_loss: 0.9756 - val_acc: 0.8360\n",
      "Epoch 76/80\n",
      "1/1 - 0s - loss: 0.6824 - acc: 0.8857 - val_loss: 0.9740 - val_acc: 0.8340\n",
      "Epoch 77/80\n",
      "1/1 - 0s - loss: 0.7150 - acc: 0.8929 - val_loss: 0.9657 - val_acc: 0.8340\n",
      "Epoch 78/80\n",
      "1/1 - 0s - loss: 0.6101 - acc: 0.9286 - val_loss: 0.9568 - val_acc: 0.8340\n",
      "Epoch 79/80\n",
      "1/1 - 0s - loss: 0.6491 - acc: 0.9143 - val_loss: 0.9481 - val_acc: 0.8420\n",
      "Epoch 80/80\n",
      "1/1 - 0s - loss: 0.5951 - acc: 0.9214 - val_loss: 0.9528 - val_acc: 0.8360\n"
     ]
    }
   ],
   "source": [
    "history = ppnp_model.fit_generator(\n",
    "    train_gen,\n",
    "    epochs=80,\n",
    "    validation_data=val_gen,\n",
    "    verbose=2,\n",
    "    shuffle=False,  # this should be False, since shuffling data means shuffling the whole graph\n",
    "    callbacks=[es_callback, mc_callback],\n",
    ")"
   ]
  },
  {
   "cell_type": "markdown",
   "metadata": {},
   "source": [
    "Plot the training history:"
   ]
  },
  {
   "cell_type": "code",
   "execution_count": 22,
   "metadata": {},
   "outputs": [],
   "source": [
    "import matplotlib.pyplot as plt\n",
    "%matplotlib inline\n",
    "\n",
    "def remove_prefix(text, prefix):\n",
    "    return text[text.startswith(prefix) and len(prefix):]\n",
    "\n",
    "def plot_history(history):\n",
    "    metrics = sorted(set([remove_prefix(m, \"val_\") for m in list(history.history.keys())]))\n",
    "    for m in metrics:\n",
    "        # summarize history for metric m\n",
    "        plt.plot(history.history[m])\n",
    "        plt.plot(history.history['val_' + m])\n",
    "        plt.title(m)\n",
    "        plt.ylabel(m)\n",
    "        plt.xlabel('epoch')\n",
    "        plt.legend(['train', 'validation'], loc='best')\n",
    "        plt.show()"
   ]
  },
  {
   "cell_type": "code",
   "execution_count": 23,
   "metadata": {},
   "outputs": [
    {
     "data": {
      "image/png": "[encoded data removed]",
      "text/plain": [
       "<Figure size 432x288 with 1 Axes>"
      ]
     },
     "metadata": {
      "needs_background": "light"
     },
     "output_type": "display_data"
    },
    {
     "data": {
      "image/png": "[encoded data removed]",
      "text/plain": [
       "<Figure size 432x288 with 1 Axes>"
      ]
     },
     "metadata": {
      "needs_background": "light"
     },
     "output_type": "display_data"
    }
   ],
   "source": [
    "plot_history(history)"
   ]
  },
  {
   "cell_type": "markdown",
   "metadata": {},
   "source": [
    "Reload the saved weights of the best model found during the training (according to validation accuracy)"
   ]
  },
  {
   "cell_type": "code",
   "execution_count": 24,
   "metadata": {},
   "outputs": [],
   "source": [
    "ppnp_model.load_weights(\"logs/best_ppnp_model.h5\")"
   ]
  },
  {
   "cell_type": "markdown",
   "metadata": {},
   "source": [
    "Evaluate the best model on the test set"
   ]
  },
  {
   "cell_type": "code",
   "execution_count": 25,
   "metadata": {},
   "outputs": [],
   "source": [
    "test_gen = generator.flow(test_data.index, test_targets)"
   ]
  },
  {
   "cell_type": "code",
   "execution_count": 26,
   "metadata": {},
   "outputs": [
    {
     "name": "stdout",
     "output_type": "stream",
     "text": [
      "\n",
      "Test Set Metrics:\n",
      "\tloss: 0.9354\n",
      "\tacc: 0.8361\n"
     ]
    }
   ],
   "source": [
    "test_metrics = ppnp_model.evaluate_generator(test_gen)\n",
    "print(\"\\nTest Set Metrics:\")\n",
    "for name, val in zip(ppnp_model.metrics_names, test_metrics):\n",
    "    print(\"\\t{}: {:0.4f}\".format(name, val))"
   ]
  },
  {
   "cell_type": "markdown",
   "metadata": {},
   "source": [
    "## Using the Approximate PPNP Model\n",
    "\n",
    "Lets repeat the training and testing steps with the APPNP model using the same dataset. The downside of the PPNP is that you have to invert the adjacency matrix - which is time inneficient for large graphs - and store that invert matrix - which is space innefficient! The approximate model avoids this issue by using a clever mathematical trick."
   ]
  },
  {
   "cell_type": "code",
   "execution_count": 27,
   "metadata": {},
   "outputs": [
    {
     "name": "stdout",
     "output_type": "stream",
     "text": [
      "Using GCN (local pooling) filters...\n",
      "WARNING:tensorflow:Entity <bound method SqueezedSparseConversion.call of <stellargraph.layer.misc.SqueezedSparseConversion object at 0x141a74358>> could not be transformed and will be executed as-is. Please report this to the AutgoGraph team. When filing the bug, set the verbosity to 10 (on Linux, `export AUTOGRAPH_VERBOSITY=10`) and attach the full output. Cause: converting <bound method SqueezedSparseConversion.call of <stellargraph.layer.misc.SqueezedSparseConversion object at 0x141a74358>>: AttributeError: module 'gast' has no attribute 'Num'\n",
      "WARNING: Entity <bound method SqueezedSparseConversion.call of <stellargraph.layer.misc.SqueezedSparseConversion object at 0x141a74358>> could not be transformed and will be executed as-is. Please report this to the AutgoGraph team. When filing the bug, set the verbosity to 10 (on Linux, `export AUTOGRAPH_VERBOSITY=10`) and attach the full output. Cause: converting <bound method SqueezedSparseConversion.call of <stellargraph.layer.misc.SqueezedSparseConversion object at 0x141a74358>>: AttributeError: module 'gast' has no attribute 'Num'\n",
      "WARNING:tensorflow:Entity <bound method APPNPPropagationLayer.call of <stellargraph.layer.appnp.APPNPPropagationLayer object at 0x141a6b470>> could not be transformed and will be executed as-is. Please report this to the AutgoGraph team. When filing the bug, set the verbosity to 10 (on Linux, `export AUTOGRAPH_VERBOSITY=10`) and attach the full output. Cause: converting <bound method APPNPPropagationLayer.call of <stellargraph.layer.appnp.APPNPPropagationLayer object at 0x141a6b470>>: AttributeError: module 'gast' has no attribute 'Num'\n",
      "WARNING: Entity <bound method APPNPPropagationLayer.call of <stellargraph.layer.appnp.APPNPPropagationLayer object at 0x141a6b470>> could not be transformed and will be executed as-is. Please report this to the AutgoGraph team. When filing the bug, set the verbosity to 10 (on Linux, `export AUTOGRAPH_VERBOSITY=10`) and attach the full output. Cause: converting <bound method APPNPPropagationLayer.call of <stellargraph.layer.appnp.APPNPPropagationLayer object at 0x141a6b470>>: AttributeError: module 'gast' has no attribute 'Num'\n",
      "WARNING:tensorflow:Entity <bound method APPNPPropagationLayer.call of <stellargraph.layer.appnp.APPNPPropagationLayer object at 0x141a6b668>> could not be transformed and will be executed as-is. Please report this to the AutgoGraph team. When filing the bug, set the verbosity to 10 (on Linux, `export AUTOGRAPH_VERBOSITY=10`) and attach the full output. Cause: converting <bound method APPNPPropagationLayer.call of <stellargraph.layer.appnp.APPNPPropagationLayer object at 0x141a6b668>>: AttributeError: module 'gast' has no attribute 'Num'\n",
      "WARNING: Entity <bound method APPNPPropagationLayer.call of <stellargraph.layer.appnp.APPNPPropagationLayer object at 0x141a6b668>> could not be transformed and will be executed as-is. Please report this to the AutgoGraph team. When filing the bug, set the verbosity to 10 (on Linux, `export AUTOGRAPH_VERBOSITY=10`) and attach the full output. Cause: converting <bound method APPNPPropagationLayer.call of <stellargraph.layer.appnp.APPNPPropagationLayer object at 0x141a6b668>>: AttributeError: module 'gast' has no attribute 'Num'\n",
      "WARNING:tensorflow:Entity <bound method APPNPPropagationLayer.call of <stellargraph.layer.appnp.APPNPPropagationLayer object at 0x141a6b860>> could not be transformed and will be executed as-is. Please report this to the AutgoGraph team. When filing the bug, set the verbosity to 10 (on Linux, `export AUTOGRAPH_VERBOSITY=10`) and attach the full output. Cause: converting <bound method APPNPPropagationLayer.call of <stellargraph.layer.appnp.APPNPPropagationLayer object at 0x141a6b860>>: AttributeError: module 'gast' has no attribute 'Num'\n",
      "WARNING: Entity <bound method APPNPPropagationLayer.call of <stellargraph.layer.appnp.APPNPPropagationLayer object at 0x141a6b860>> could not be transformed and will be executed as-is. Please report this to the AutgoGraph team. When filing the bug, set the verbosity to 10 (on Linux, `export AUTOGRAPH_VERBOSITY=10`) and attach the full output. Cause: converting <bound method APPNPPropagationLayer.call of <stellargraph.layer.appnp.APPNPPropagationLayer object at 0x141a6b860>>: AttributeError: module 'gast' has no attribute 'Num'\n",
      "WARNING:tensorflow:Entity <bound method APPNPPropagationLayer.call of <stellargraph.layer.appnp.APPNPPropagationLayer object at 0x141a6ba58>> could not be transformed and will be executed as-is. Please report this to the AutgoGraph team. When filing the bug, set the verbosity to 10 (on Linux, `export AUTOGRAPH_VERBOSITY=10`) and attach the full output. Cause: converting <bound method APPNPPropagationLayer.call of <stellargraph.layer.appnp.APPNPPropagationLayer object at 0x141a6ba58>>: AttributeError: module 'gast' has no attribute 'Num'\n",
      "WARNING: Entity <bound method APPNPPropagationLayer.call of <stellargraph.layer.appnp.APPNPPropagationLayer object at 0x141a6ba58>> could not be transformed and will be executed as-is. Please report this to the AutgoGraph team. When filing the bug, set the verbosity to 10 (on Linux, `export AUTOGRAPH_VERBOSITY=10`) and attach the full output. Cause: converting <bound method APPNPPropagationLayer.call of <stellargraph.layer.appnp.APPNPPropagationLayer object at 0x141a6ba58>>: AttributeError: module 'gast' has no attribute 'Num'\n",
      "WARNING:tensorflow:Entity <bound method APPNPPropagationLayer.call of <stellargraph.layer.appnp.APPNPPropagationLayer object at 0x141a6bc50>> could not be transformed and will be executed as-is. Please report this to the AutgoGraph team. When filing the bug, set the verbosity to 10 (on Linux, `export AUTOGRAPH_VERBOSITY=10`) and attach the full output. Cause: converting <bound method APPNPPropagationLayer.call of <stellargraph.layer.appnp.APPNPPropagationLayer object at 0x141a6bc50>>: AttributeError: module 'gast' has no attribute 'Num'\n",
      "WARNING: Entity <bound method APPNPPropagationLayer.call of <stellargraph.layer.appnp.APPNPPropagationLayer object at 0x141a6bc50>> could not be transformed and will be executed as-is. Please report this to the AutgoGraph team. When filing the bug, set the verbosity to 10 (on Linux, `export AUTOGRAPH_VERBOSITY=10`) and attach the full output. Cause: converting <bound method APPNPPropagationLayer.call of <stellargraph.layer.appnp.APPNPPropagationLayer object at 0x141a6bc50>>: AttributeError: module 'gast' has no attribute 'Num'\n",
      "WARNING:tensorflow:Entity <bound method APPNPPropagationLayer.call of <stellargraph.layer.appnp.APPNPPropagationLayer object at 0x141a6be48>> could not be transformed and will be executed as-is. Please report this to the AutgoGraph team. When filing the bug, set the verbosity to 10 (on Linux, `export AUTOGRAPH_VERBOSITY=10`) and attach the full output. Cause: converting <bound method APPNPPropagationLayer.call of <stellargraph.layer.appnp.APPNPPropagationLayer object at 0x141a6be48>>: AttributeError: module 'gast' has no attribute 'Num'\n",
      "WARNING: Entity <bound method APPNPPropagationLayer.call of <stellargraph.layer.appnp.APPNPPropagationLayer object at 0x141a6be48>> could not be transformed and will be executed as-is. Please report this to the AutgoGraph team. When filing the bug, set the verbosity to 10 (on Linux, `export AUTOGRAPH_VERBOSITY=10`) and attach the full output. Cause: converting <bound method APPNPPropagationLayer.call of <stellargraph.layer.appnp.APPNPPropagationLayer object at 0x141a6be48>>: AttributeError: module 'gast' has no attribute 'Num'\n",
      "WARNING:tensorflow:Entity <bound method APPNPPropagationLayer.call of <stellargraph.layer.appnp.APPNPPropagationLayer object at 0x141a6e080>> could not be transformed and will be executed as-is. Please report this to the AutgoGraph team. When filing the bug, set the verbosity to 10 (on Linux, `export AUTOGRAPH_VERBOSITY=10`) and attach the full output. Cause: converting <bound method APPNPPropagationLayer.call of <stellargraph.layer.appnp.APPNPPropagationLayer object at 0x141a6e080>>: AttributeError: module 'gast' has no attribute 'Num'\n",
      "WARNING: Entity <bound method APPNPPropagationLayer.call of <stellargraph.layer.appnp.APPNPPropagationLayer object at 0x141a6e080>> could not be transformed and will be executed as-is. Please report this to the AutgoGraph team. When filing the bug, set the verbosity to 10 (on Linux, `export AUTOGRAPH_VERBOSITY=10`) and attach the full output. Cause: converting <bound method APPNPPropagationLayer.call of <stellargraph.layer.appnp.APPNPPropagationLayer object at 0x141a6e080>>: AttributeError: module 'gast' has no attribute 'Num'\n",
      "WARNING:tensorflow:Entity <bound method APPNPPropagationLayer.call of <stellargraph.layer.appnp.APPNPPropagationLayer object at 0x141a6e278>> could not be transformed and will be executed as-is. Please report this to the AutgoGraph team. When filing the bug, set the verbosity to 10 (on Linux, `export AUTOGRAPH_VERBOSITY=10`) and attach the full output. Cause: converting <bound method APPNPPropagationLayer.call of <stellargraph.layer.appnp.APPNPPropagationLayer object at 0x141a6e278>>: AttributeError: module 'gast' has no attribute 'Num'\n"
     ]
    },
    {
     "name": "stdout",
     "output_type": "stream",
     "text": [
      "WARNING: Entity <bound method APPNPPropagationLayer.call of <stellargraph.layer.appnp.APPNPPropagationLayer object at 0x141a6e278>> could not be transformed and will be executed as-is. Please report this to the AutgoGraph team. When filing the bug, set the verbosity to 10 (on Linux, `export AUTOGRAPH_VERBOSITY=10`) and attach the full output. Cause: converting <bound method APPNPPropagationLayer.call of <stellargraph.layer.appnp.APPNPPropagationLayer object at 0x141a6e278>>: AttributeError: module 'gast' has no attribute 'Num'\n",
      "WARNING:tensorflow:Entity <bound method APPNPPropagationLayer.call of <stellargraph.layer.appnp.APPNPPropagationLayer object at 0x141a6e470>> could not be transformed and will be executed as-is. Please report this to the AutgoGraph team. When filing the bug, set the verbosity to 10 (on Linux, `export AUTOGRAPH_VERBOSITY=10`) and attach the full output. Cause: converting <bound method APPNPPropagationLayer.call of <stellargraph.layer.appnp.APPNPPropagationLayer object at 0x141a6e470>>: AttributeError: module 'gast' has no attribute 'Num'\n",
      "WARNING: Entity <bound method APPNPPropagationLayer.call of <stellargraph.layer.appnp.APPNPPropagationLayer object at 0x141a6e470>> could not be transformed and will be executed as-is. Please report this to the AutgoGraph team. When filing the bug, set the verbosity to 10 (on Linux, `export AUTOGRAPH_VERBOSITY=10`) and attach the full output. Cause: converting <bound method APPNPPropagationLayer.call of <stellargraph.layer.appnp.APPNPPropagationLayer object at 0x141a6e470>>: AttributeError: module 'gast' has no attribute 'Num'\n",
      "WARNING:tensorflow:Entity <bound method APPNPPropagationLayer.call of <stellargraph.layer.appnp.APPNPPropagationLayer object at 0x141a6e668>> could not be transformed and will be executed as-is. Please report this to the AutgoGraph team. When filing the bug, set the verbosity to 10 (on Linux, `export AUTOGRAPH_VERBOSITY=10`) and attach the full output. Cause: converting <bound method APPNPPropagationLayer.call of <stellargraph.layer.appnp.APPNPPropagationLayer object at 0x141a6e668>>: AttributeError: module 'gast' has no attribute 'Num'\n",
      "WARNING: Entity <bound method APPNPPropagationLayer.call of <stellargraph.layer.appnp.APPNPPropagationLayer object at 0x141a6e668>> could not be transformed and will be executed as-is. Please report this to the AutgoGraph team. When filing the bug, set the verbosity to 10 (on Linux, `export AUTOGRAPH_VERBOSITY=10`) and attach the full output. Cause: converting <bound method APPNPPropagationLayer.call of <stellargraph.layer.appnp.APPNPPropagationLayer object at 0x141a6e668>>: AttributeError: module 'gast' has no attribute 'Num'\n",
      "Epoch 1/120\n",
      "1/1 - 1s - loss: 2.2302 - acc: 0.0929 - val_loss: 2.0736 - val_acc: 0.3020\n",
      "Epoch 2/120\n",
      "1/1 - 0s - loss: 2.0683 - acc: 0.3143 - val_loss: 2.0256 - val_acc: 0.3020\n",
      "Epoch 3/120\n",
      "1/1 - 0s - loss: 2.0384 - acc: 0.2857 - val_loss: 1.9833 - val_acc: 0.3020\n",
      "Epoch 4/120\n",
      "1/1 - 0s - loss: 2.1562 - acc: 0.3286 - val_loss: 1.9753 - val_acc: 0.3560\n",
      "Epoch 5/120\n",
      "1/1 - 0s - loss: 1.9977 - acc: 0.2929 - val_loss: 1.9692 - val_acc: 0.4120\n",
      "Epoch 6/120\n",
      "1/1 - 0s - loss: 1.9813 - acc: 0.3214 - val_loss: 1.9384 - val_acc: 0.3960\n",
      "Epoch 7/120\n",
      "1/1 - 0s - loss: 1.9887 - acc: 0.3714 - val_loss: 1.9008 - val_acc: 0.3700\n",
      "Epoch 8/120\n",
      "1/1 - 0s - loss: 1.9017 - acc: 0.3714 - val_loss: 1.8548 - val_acc: 0.4060\n",
      "Epoch 9/120\n",
      "1/1 - 0s - loss: 1.8952 - acc: 0.3929 - val_loss: 1.8094 - val_acc: 0.4100\n",
      "Epoch 10/120\n",
      "1/1 - 0s - loss: 1.8526 - acc: 0.4071 - val_loss: 1.7721 - val_acc: 0.4120\n",
      "Epoch 11/120\n",
      "1/1 - 0s - loss: 1.8422 - acc: 0.4214 - val_loss: 1.7361 - val_acc: 0.4220\n",
      "Epoch 12/120\n",
      "1/1 - 0s - loss: 1.8055 - acc: 0.4071 - val_loss: 1.7006 - val_acc: 0.4420\n",
      "Epoch 13/120\n",
      "1/1 - 0s - loss: 1.7066 - acc: 0.4500 - val_loss: 1.6635 - val_acc: 0.4540\n",
      "Epoch 14/120\n",
      "1/1 - 0s - loss: 1.7116 - acc: 0.4571 - val_loss: 1.6272 - val_acc: 0.4880\n",
      "Epoch 15/120\n",
      "1/1 - 0s - loss: 1.6300 - acc: 0.4429 - val_loss: 1.5932 - val_acc: 0.5000\n",
      "Epoch 16/120\n",
      "1/1 - 0s - loss: 1.6284 - acc: 0.4714 - val_loss: 1.5624 - val_acc: 0.5040\n",
      "Epoch 17/120\n",
      "1/1 - 0s - loss: 1.7860 - acc: 0.4214 - val_loss: 1.5366 - val_acc: 0.5080\n",
      "Epoch 18/120\n",
      "1/1 - 0s - loss: 1.7286 - acc: 0.4714 - val_loss: 1.5137 - val_acc: 0.5140\n",
      "Epoch 19/120\n",
      "1/1 - 0s - loss: 1.5910 - acc: 0.5000 - val_loss: 1.4915 - val_acc: 0.5340\n",
      "Epoch 20/120\n",
      "1/1 - 0s - loss: 2.2921 - acc: 0.5357 - val_loss: 1.4702 - val_acc: 0.5800\n",
      "Epoch 21/120\n",
      "1/1 - 0s - loss: 1.6013 - acc: 0.5000 - val_loss: 1.4484 - val_acc: 0.6320\n",
      "Epoch 22/120\n",
      "1/1 - 0s - loss: 1.5763 - acc: 0.4857 - val_loss: 1.4273 - val_acc: 0.6660\n",
      "Epoch 23/120\n",
      "1/1 - 0s - loss: 1.4725 - acc: 0.5929 - val_loss: 1.4045 - val_acc: 0.6820\n",
      "Epoch 24/120\n",
      "1/1 - 0s - loss: 1.4909 - acc: 0.5214 - val_loss: 1.3827 - val_acc: 0.6840\n",
      "Epoch 25/120\n",
      "1/1 - 0s - loss: 1.4816 - acc: 0.6143 - val_loss: 1.3663 - val_acc: 0.6940\n",
      "Epoch 26/120\n",
      "1/1 - 0s - loss: 1.4711 - acc: 0.5714 - val_loss: 1.3540 - val_acc: 0.7040\n",
      "Epoch 27/120\n",
      "1/1 - 0s - loss: 1.3734 - acc: 0.6429 - val_loss: 1.3385 - val_acc: 0.7100\n",
      "Epoch 28/120\n",
      "1/1 - 0s - loss: 1.3170 - acc: 0.6500 - val_loss: 1.3199 - val_acc: 0.7100\n",
      "Epoch 29/120\n",
      "1/1 - 0s - loss: 1.4032 - acc: 0.5714 - val_loss: 1.3018 - val_acc: 0.7080\n",
      "Epoch 30/120\n",
      "1/1 - 0s - loss: 1.3273 - acc: 0.6500 - val_loss: 1.2898 - val_acc: 0.7060\n",
      "Epoch 31/120\n",
      "1/1 - 0s - loss: 1.4017 - acc: 0.6286 - val_loss: 1.2707 - val_acc: 0.7120\n",
      "Epoch 32/120\n",
      "1/1 - 0s - loss: 1.6124 - acc: 0.6500 - val_loss: 1.2646 - val_acc: 0.7160\n",
      "Epoch 33/120\n",
      "1/1 - 0s - loss: 1.3297 - acc: 0.6857 - val_loss: 1.2495 - val_acc: 0.7160\n",
      "Epoch 34/120\n",
      "1/1 - 0s - loss: 1.2860 - acc: 0.7143 - val_loss: 1.2359 - val_acc: 0.7100\n",
      "Epoch 35/120\n",
      "1/1 - 0s - loss: 1.3790 - acc: 0.7286 - val_loss: 1.2265 - val_acc: 0.7160\n",
      "Epoch 36/120\n",
      "1/1 - 0s - loss: 1.2119 - acc: 0.7071 - val_loss: 1.2266 - val_acc: 0.7240\n",
      "Epoch 37/120\n",
      "1/1 - 0s - loss: 1.2598 - acc: 0.7500 - val_loss: 1.2290 - val_acc: 0.7220\n",
      "Epoch 38/120\n",
      "1/1 - 0s - loss: 1.1456 - acc: 0.7429 - val_loss: 1.2275 - val_acc: 0.7220\n",
      "Epoch 39/120\n",
      "1/1 - 0s - loss: 1.3067 - acc: 0.6714 - val_loss: 1.2267 - val_acc: 0.7060\n",
      "Epoch 40/120\n",
      "1/1 - 0s - loss: 1.2737 - acc: 0.7286 - val_loss: 1.2264 - val_acc: 0.7020\n",
      "Epoch 41/120\n",
      "1/1 - 0s - loss: 1.2000 - acc: 0.7143 - val_loss: 1.2214 - val_acc: 0.7040\n",
      "Epoch 42/120\n",
      "1/1 - 0s - loss: 1.1880 - acc: 0.7286 - val_loss: 1.2094 - val_acc: 0.7080\n",
      "Epoch 43/120\n",
      "1/1 - 0s - loss: 1.2191 - acc: 0.6929 - val_loss: 1.1981 - val_acc: 0.7100\n",
      "Epoch 44/120\n",
      "1/1 - 0s - loss: 1.1472 - acc: 0.7500 - val_loss: 1.1883 - val_acc: 0.7100\n",
      "Epoch 45/120\n",
      "1/1 - 0s - loss: 1.2347 - acc: 0.7143 - val_loss: 1.1846 - val_acc: 0.7040\n",
      "Epoch 46/120\n",
      "1/1 - 0s - loss: 1.0917 - acc: 0.7643 - val_loss: 1.1879 - val_acc: 0.6960\n",
      "Epoch 47/120\n",
      "1/1 - 0s - loss: 1.2712 - acc: 0.7500 - val_loss: 1.2016 - val_acc: 0.6880\n",
      "Epoch 48/120\n",
      "1/1 - 0s - loss: 1.1717 - acc: 0.7500 - val_loss: 1.2047 - val_acc: 0.6800\n",
      "Epoch 49/120\n",
      "1/1 - 0s - loss: 1.3304 - acc: 0.7286 - val_loss: 1.2049 - val_acc: 0.6820\n",
      "Epoch 50/120\n",
      "1/1 - 0s - loss: 1.2983 - acc: 0.6929 - val_loss: 1.1982 - val_acc: 0.6940\n",
      "Epoch 51/120\n",
      "1/1 - 0s - loss: 1.0704 - acc: 0.7714 - val_loss: 1.1980 - val_acc: 0.7100\n",
      "Epoch 52/120\n",
      "1/1 - 0s - loss: 1.0441 - acc: 0.7643 - val_loss: 1.1953 - val_acc: 0.7140\n",
      "Epoch 53/120\n",
      "1/1 - 0s - loss: 1.0691 - acc: 0.7857 - val_loss: 1.1931 - val_acc: 0.7200\n",
      "Epoch 54/120\n",
      "1/1 - 0s - loss: 1.1766 - acc: 0.7143 - val_loss: 1.1921 - val_acc: 0.7260\n",
      "Epoch 55/120\n",
      "1/1 - 0s - loss: 1.3202 - acc: 0.6857 - val_loss: 1.1921 - val_acc: 0.7340\n",
      "Epoch 56/120\n",
      "1/1 - 0s - loss: 1.2469 - acc: 0.7143 - val_loss: 1.1944 - val_acc: 0.7220\n",
      "Epoch 57/120\n",
      "1/1 - 0s - loss: 1.0988 - acc: 0.7857 - val_loss: 1.2047 - val_acc: 0.7100\n",
      "Epoch 58/120\n",
      "1/1 - 0s - loss: 1.0643 - acc: 0.7857 - val_loss: 1.2179 - val_acc: 0.7060\n",
      "Epoch 59/120\n",
      "1/1 - 0s - loss: 1.0830 - acc: 0.7786 - val_loss: 1.2295 - val_acc: 0.6940\n",
      "Epoch 60/120\n",
      "1/1 - 0s - loss: 1.0439 - acc: 0.7643 - val_loss: 1.2341 - val_acc: 0.6940\n",
      "Epoch 61/120\n",
      "1/1 - 0s - loss: 1.0645 - acc: 0.7786 - val_loss: 1.2311 - val_acc: 0.6960\n",
      "Epoch 62/120\n",
      "1/1 - 0s - loss: 1.2457 - acc: 0.7786 - val_loss: 1.2265 - val_acc: 0.7140\n",
      "Epoch 63/120\n",
      "1/1 - 0s - loss: 0.9933 - acc: 0.7786 - val_loss: 1.2228 - val_acc: 0.7180\n"
     ]
    },
    {
     "name": "stdout",
     "output_type": "stream",
     "text": [
      "Epoch 64/120\n",
      "1/1 - 0s - loss: 1.0995 - acc: 0.7357 - val_loss: 1.2313 - val_acc: 0.7120\n",
      "Epoch 65/120\n",
      "1/1 - 0s - loss: 1.1701 - acc: 0.7643 - val_loss: 1.2371 - val_acc: 0.7100\n",
      "Epoch 66/120\n",
      "1/1 - 0s - loss: 1.1413 - acc: 0.7571 - val_loss: 1.2367 - val_acc: 0.7160\n",
      "Epoch 67/120\n",
      "1/1 - 0s - loss: 1.2836 - acc: 0.7714 - val_loss: 1.2373 - val_acc: 0.7200\n",
      "Epoch 68/120\n",
      "1/1 - 0s - loss: 1.1743 - acc: 0.7714 - val_loss: 1.2351 - val_acc: 0.7180\n",
      "Epoch 69/120\n",
      "1/1 - 0s - loss: 1.0692 - acc: 0.8286 - val_loss: 1.2295 - val_acc: 0.7220\n",
      "Epoch 70/120\n",
      "1/1 - 0s - loss: 1.0797 - acc: 0.7929 - val_loss: 1.2250 - val_acc: 0.7280\n",
      "Epoch 71/120\n",
      "1/1 - 0s - loss: 1.0924 - acc: 0.7786 - val_loss: 1.2169 - val_acc: 0.7320\n",
      "Epoch 72/120\n",
      "1/1 - 0s - loss: 0.9911 - acc: 0.7929 - val_loss: 1.2120 - val_acc: 0.7340\n",
      "Epoch 73/120\n",
      "1/1 - 0s - loss: 1.2496 - acc: 0.7929 - val_loss: 1.2161 - val_acc: 0.7220\n",
      "Epoch 74/120\n",
      "1/1 - 0s - loss: 1.0819 - acc: 0.7643 - val_loss: 1.2188 - val_acc: 0.7240\n",
      "Epoch 75/120\n",
      "1/1 - 0s - loss: 1.1328 - acc: 0.7714 - val_loss: 1.2201 - val_acc: 0.7260\n",
      "Epoch 76/120\n",
      "1/1 - 0s - loss: 1.1485 - acc: 0.7357 - val_loss: 1.2128 - val_acc: 0.7300\n",
      "Epoch 77/120\n",
      "1/1 - 0s - loss: 1.0453 - acc: 0.7857 - val_loss: 1.2065 - val_acc: 0.7340\n",
      "Epoch 78/120\n",
      "1/1 - 0s - loss: 0.9849 - acc: 0.8071 - val_loss: 1.2007 - val_acc: 0.7400\n",
      "Epoch 79/120\n",
      "1/1 - 0s - loss: 1.1412 - acc: 0.8000 - val_loss: 1.2010 - val_acc: 0.7440\n",
      "Epoch 80/120\n",
      "1/1 - 0s - loss: 1.1565 - acc: 0.8143 - val_loss: 1.2038 - val_acc: 0.7440\n",
      "Epoch 81/120\n",
      "1/1 - 0s - loss: 1.0164 - acc: 0.7857 - val_loss: 1.2056 - val_acc: 0.7400\n",
      "Epoch 82/120\n",
      "1/1 - 0s - loss: 1.2387 - acc: 0.7929 - val_loss: 1.2090 - val_acc: 0.7380\n",
      "Epoch 83/120\n",
      "1/1 - 0s - loss: 1.0085 - acc: 0.8143 - val_loss: 1.2115 - val_acc: 0.7380\n",
      "Epoch 84/120\n",
      "1/1 - 0s - loss: 0.9707 - acc: 0.8143 - val_loss: 1.2125 - val_acc: 0.7380\n",
      "Epoch 85/120\n",
      "1/1 - 0s - loss: 0.9272 - acc: 0.8500 - val_loss: 1.2112 - val_acc: 0.7360\n",
      "Epoch 86/120\n",
      "1/1 - 0s - loss: 1.1043 - acc: 0.7714 - val_loss: 1.2079 - val_acc: 0.7400\n",
      "Epoch 87/120\n",
      "1/1 - 0s - loss: 0.9939 - acc: 0.8071 - val_loss: 1.2073 - val_acc: 0.7460\n",
      "Epoch 88/120\n",
      "1/1 - 0s - loss: 1.0562 - acc: 0.8071 - val_loss: 1.2065 - val_acc: 0.7420\n",
      "Epoch 89/120\n",
      "1/1 - 0s - loss: 0.9282 - acc: 0.8357 - val_loss: 1.2063 - val_acc: 0.7440\n",
      "Epoch 90/120\n",
      "1/1 - 0s - loss: 0.9612 - acc: 0.8071 - val_loss: 1.2082 - val_acc: 0.7460\n",
      "Epoch 91/120\n",
      "1/1 - 0s - loss: 0.9548 - acc: 0.8071 - val_loss: 1.2098 - val_acc: 0.7560\n",
      "Epoch 92/120\n",
      "1/1 - 0s - loss: 0.9521 - acc: 0.8143 - val_loss: 1.2101 - val_acc: 0.7560\n",
      "Epoch 93/120\n",
      "1/1 - 0s - loss: 1.0071 - acc: 0.8143 - val_loss: 1.2058 - val_acc: 0.7560\n",
      "Epoch 94/120\n",
      "1/1 - 0s - loss: 0.9954 - acc: 0.8000 - val_loss: 1.2020 - val_acc: 0.7480\n",
      "Epoch 95/120\n",
      "1/1 - 0s - loss: 1.0474 - acc: 0.7929 - val_loss: 1.2037 - val_acc: 0.7520\n",
      "Epoch 96/120\n",
      "1/1 - 0s - loss: 0.9913 - acc: 0.7857 - val_loss: 1.2035 - val_acc: 0.7480\n",
      "Epoch 97/120\n",
      "1/1 - 0s - loss: 1.1628 - acc: 0.8286 - val_loss: 1.2039 - val_acc: 0.7460\n",
      "Epoch 98/120\n",
      "1/1 - 0s - loss: 0.8824 - acc: 0.8571 - val_loss: 1.2095 - val_acc: 0.7400\n",
      "Epoch 99/120\n",
      "1/1 - 0s - loss: 0.9642 - acc: 0.8286 - val_loss: 1.2133 - val_acc: 0.7320\n",
      "Epoch 100/120\n",
      "1/1 - 0s - loss: 0.9753 - acc: 0.8071 - val_loss: 1.2119 - val_acc: 0.7300\n",
      "Epoch 101/120\n",
      "1/1 - 0s - loss: 0.9073 - acc: 0.8357 - val_loss: 1.2092 - val_acc: 0.7300\n",
      "Epoch 102/120\n",
      "1/1 - 0s - loss: 0.9952 - acc: 0.8214 - val_loss: 1.2001 - val_acc: 0.7380\n",
      "Epoch 103/120\n",
      "1/1 - 0s - loss: 1.1106 - acc: 0.8071 - val_loss: 1.1904 - val_acc: 0.7560\n",
      "Epoch 104/120\n",
      "1/1 - 0s - loss: 1.0536 - acc: 0.8143 - val_loss: 1.1874 - val_acc: 0.7600\n",
      "Epoch 105/120\n",
      "1/1 - 0s - loss: 0.9431 - acc: 0.8071 - val_loss: 1.1859 - val_acc: 0.7640\n",
      "Epoch 106/120\n",
      "1/1 - 0s - loss: 1.0000 - acc: 0.8000 - val_loss: 1.1883 - val_acc: 0.7680\n",
      "Epoch 107/120\n",
      "1/1 - 0s - loss: 1.0621 - acc: 0.8000 - val_loss: 1.1875 - val_acc: 0.7580\n",
      "Epoch 108/120\n",
      "1/1 - 0s - loss: 1.0098 - acc: 0.7786 - val_loss: 1.1891 - val_acc: 0.7620\n",
      "Epoch 109/120\n",
      "1/1 - 0s - loss: 1.0141 - acc: 0.8286 - val_loss: 1.1928 - val_acc: 0.7680\n",
      "Epoch 110/120\n",
      "1/1 - 0s - loss: 0.8568 - acc: 0.8643 - val_loss: 1.1971 - val_acc: 0.7640\n",
      "Epoch 111/120\n",
      "1/1 - 0s - loss: 1.0001 - acc: 0.7571 - val_loss: 1.2034 - val_acc: 0.7660\n",
      "Epoch 112/120\n",
      "1/1 - 0s - loss: 0.9868 - acc: 0.8429 - val_loss: 1.2133 - val_acc: 0.7580\n",
      "Epoch 113/120\n",
      "1/1 - 0s - loss: 0.9161 - acc: 0.8357 - val_loss: 1.2277 - val_acc: 0.7460\n",
      "Epoch 114/120\n",
      "1/1 - 0s - loss: 0.9799 - acc: 0.8286 - val_loss: 1.2447 - val_acc: 0.7340\n",
      "Epoch 115/120\n",
      "1/1 - 0s - loss: 0.9483 - acc: 0.8286 - val_loss: 1.2642 - val_acc: 0.7220\n",
      "Epoch 116/120\n",
      "1/1 - 0s - loss: 0.9614 - acc: 0.8429 - val_loss: 1.2807 - val_acc: 0.7220\n",
      "Epoch 117/120\n",
      "1/1 - 0s - loss: 0.9881 - acc: 0.8143 - val_loss: 1.2895 - val_acc: 0.7240\n",
      "Epoch 118/120\n",
      "1/1 - 0s - loss: 0.9132 - acc: 0.8357 - val_loss: 1.2841 - val_acc: 0.7260\n",
      "Epoch 119/120\n",
      "1/1 - 0s - loss: 0.9743 - acc: 0.8429 - val_loss: 1.2761 - val_acc: 0.7300\n",
      "Epoch 120/120\n",
      "1/1 - 0s - loss: 1.0096 - acc: 0.8286 - val_loss: 1.2643 - val_acc: 0.7320\n"
     ]
    }
   ],
   "source": [
    "generator = FullBatchNodeGenerator(G, method=\"gcn\", sparse=True)\n",
    "\n",
    "train_gen = generator.flow(train_data.index, train_targets)\n",
    "val_gen = generator.flow(val_data.index, val_targets)\n",
    "test_gen = generator.flow(test_data.index, test_targets)\n",
    "\n",
    "appnp = APPNP([64, 64, train_targets.shape[-1]], \n",
    "              ['relu', 'relu', 'relu'], \n",
    "              bias=True,\n",
    "              generator=generator, \n",
    "              teleport_probability=0.1, \n",
    "              dropout=0.5, \n",
    "              kernel_regularizer=keras.regularizers.l2(0.001)\n",
    ")\n",
    "\n",
    "x_inp, x_out = appnp.node_model()\n",
    "predictions = keras.layers.Softmax()(x_out)\n",
    "\n",
    "appnp_model = keras.models.Model(inputs=x_inp, outputs=predictions)\n",
    "appnp_model.compile(loss='categorical_crossentropy', metrics=['acc'],\n",
    "                  optimizer=keras.optimizers.Adam(lr=0.01))\n",
    "\n",
    "es_callback = EarlyStopping(monitor=\"val_acc\", patience=50)  # patience is the number of epochs to wait before early stopping in case of no further improvement\n",
    "\n",
    "mc_callback = ModelCheckpoint(\n",
    "    \"logs/best_appnp_model.h5\",\n",
    "    monitor=\"val_acc\",\n",
    "    save_best_only=True,\n",
    "    save_weights_only=True,\n",
    ")\n",
    "\n",
    "history = appnp_model.fit_generator(\n",
    "    train_gen,\n",
    "    epochs=120,\n",
    "    validation_data=val_gen,\n",
    "    verbose=2,\n",
    "    shuffle=False,  # this should be False, since shuffling data means shuffling the whole graph\n",
    "    callbacks=[es_callback, mc_callback],\n",
    ")"
   ]
  },
  {
   "cell_type": "code",
   "execution_count": 28,
   "metadata": {},
   "outputs": [
    {
     "data": {
      "image/png": "[encoded data removed]",
      "text/plain": [
       "<Figure size 432x288 with 1 Axes>"
      ]
     },
     "metadata": {
      "needs_background": "light"
     },
     "output_type": "display_data"
    },
    {
     "data": {
      "image/png": "[encoded data removed]",
      "text/plain": [
       "<Figure size 432x288 with 1 Axes>"
      ]
     },
     "metadata": {
      "needs_background": "light"
     },
     "output_type": "display_data"
    }
   ],
   "source": [
    "plot_history(history)"
   ]
  },
  {
   "cell_type": "code",
   "execution_count": 29,
   "metadata": {},
   "outputs": [
    {
     "name": "stdout",
     "output_type": "stream",
     "text": [
      "\n",
      "Test Set Metrics:\n",
      "\tloss: 1.1797\n",
      "\tacc: 0.7485\n"
     ]
    }
   ],
   "source": [
    "appnp_model.load_weights(\"logs/best_appnp_model.h5\")\n",
    "test_metrics = appnp_model.evaluate_generator(test_gen)\n",
    "print(\"\\nTest Set Metrics:\")\n",
    "for name, val in zip(appnp_model.metrics_names, test_metrics):\n",
    "    print(\"\\t{}: {:0.4f}\".format(name, val))"
   ]
  },
  {
   "cell_type": "markdown",
   "metadata": {},
   "source": [
    "### Scalable APPNP Training\n",
    "\n",
    "Now we're going to exploit the structure of PPNP for scalable training. PPNP consists of a fully-connected neural network followed by a graph propogation step. For each node, the fully-connected network outputs a score for each class and the propogaiton step basically takes a weighted average of scores of nearby nodes (closer nodes are weighted higher). \n",
    "\n",
    "Above, we trained the whole network end-to-end which obtains the most accurate results but  requires us to load the entire graph onto our GPU memory. This is because we need the entire graph for the propogation step. Unfortunately, this limits the graph size by our GPU memory. To get around this, we can train the fully-connected network separately and once we have a trained fully connected network we can add the graph propagation step.  The advantage of this approach is that we can train on batches of node features instead of the entire graph.\n",
    "\n",
    "The model in the propagation step can be any keras model trained on node features to predict the target classes. In this example we use a fully connected neural network with bag of word features as input. We could easily swap out the bag of words features for the complete text and replace the fully connected network with a state-of-the-art NLP model (for example BERT [1]), fine-tune the model and propagate its predictions.\n",
    "\n",
    "\n",
    "<br>\n",
    "\n",
    "1. Devlin, J., Chang, M. W., Lee, K., & Toutanova, K. (2018). Bert: Pre-training of deep bidirectional transformers for language understanding. https://arxiv.org/abs/1810.04805"
   ]
  },
  {
   "cell_type": "markdown",
   "metadata": {},
   "source": [
    "First we create and train a fully connected model."
   ]
  },
  {
   "cell_type": "code",
   "execution_count": 30,
   "metadata": {},
   "outputs": [],
   "source": [
    "model = keras.models.Model()\n",
    "\n",
    "in_layer = layers.Input(shape=(len(feature_names),))\n",
    "layer = layers.Dense(64, activation='relu', kernel_regularizer=\"l2\")(in_layer)\n",
    "layer = layers.Dropout(0.5)(layer)\n",
    "layer = layers.Dense(64, activation='relu', kernel_regularizer=\"l2\")(in_layer)\n",
    "layer = layers.Dropout(0.5)(layer)\n",
    "\n",
    "#note the dimension of the output should equal the number of classes to predict!\n",
    "layer = layers.Dense(train_targets.shape[-1], activation='relu')(layer)\n",
    "layer = layers.Dropout(0.5)(layer)\n",
    "layer = layers.Softmax()(layer)\n",
    "\n",
    "fully_connected_model = keras.models.Model(inputs=in_layer, outputs=layer)\n",
    "\n",
    "fully_connected_model.compile(\n",
    "    loss='categorical_crossentropy', \n",
    "    metrics=['acc'],\n",
    "    optimizer=keras.optimizers.Adam(lr=0.01)\n",
    ")\n",
    "\n",
    "#the inputs are just the node features\n",
    "X_train = train_data[feature_names].values.astype(np.float32)\n",
    "X_val = val_data[feature_names].values.astype(np.float32)"
   ]
  },
  {
   "cell_type": "code",
   "execution_count": 31,
   "metadata": {},
   "outputs": [
    {
     "name": "stdout",
     "output_type": "stream",
     "text": [
      "Train on 140 samples, validate on 500 samples\n",
      "Epoch 1/2000\n",
      "140/140 [==============================] - 0s 2ms/sample - loss: 3.1740 - acc: 0.1643 - val_loss: 2.7443 - val_acc: 0.2900\n",
      "Epoch 2/2000\n",
      "140/140 [==============================] - 0s 125us/sample - loss: 2.6962 - acc: 0.2357 - val_loss: 2.4538 - val_acc: 0.3440\n",
      "Epoch 3/2000\n",
      "140/140 [==============================] - 0s 109us/sample - loss: 2.3886 - acc: 0.2571 - val_loss: 2.2575 - val_acc: 0.3780\n",
      "Epoch 4/2000\n",
      "140/140 [==============================] - 0s 113us/sample - loss: 2.1197 - acc: 0.3429 - val_loss: 2.1324 - val_acc: 0.4020\n",
      "Epoch 5/2000\n",
      "140/140 [==============================] - 0s 118us/sample - loss: 1.9834 - acc: 0.3643 - val_loss: 2.0572 - val_acc: 0.4080\n",
      "Epoch 6/2000\n",
      "140/140 [==============================] - 0s 122us/sample - loss: 1.9618 - acc: 0.3500 - val_loss: 2.0177 - val_acc: 0.4360\n",
      "Epoch 7/2000\n",
      "140/140 [==============================] - 0s 121us/sample - loss: 1.8635 - acc: 0.3643 - val_loss: 2.0030 - val_acc: 0.4460\n",
      "Epoch 8/2000\n",
      "140/140 [==============================] - 0s 118us/sample - loss: 1.7478 - acc: 0.4071 - val_loss: 1.9971 - val_acc: 0.4580\n",
      "Epoch 9/2000\n",
      "140/140 [==============================] - 0s 105us/sample - loss: 1.7755 - acc: 0.3857 - val_loss: 1.9909 - val_acc: 0.4660\n",
      "Epoch 10/2000\n",
      "140/140 [==============================] - 0s 107us/sample - loss: 1.6899 - acc: 0.4786 - val_loss: 1.9839 - val_acc: 0.4780\n",
      "Epoch 11/2000\n",
      "140/140 [==============================] - 0s 124us/sample - loss: 1.7305 - acc: 0.4500 - val_loss: 1.9715 - val_acc: 0.4820\n",
      "Epoch 12/2000\n",
      "140/140 [==============================] - 0s 104us/sample - loss: 1.7694 - acc: 0.4143 - val_loss: 1.9564 - val_acc: 0.4920\n",
      "Epoch 13/2000\n",
      "140/140 [==============================] - 0s 117us/sample - loss: 1.6876 - acc: 0.4500 - val_loss: 1.9386 - val_acc: 0.5120\n",
      "Epoch 14/2000\n",
      "140/140 [==============================] - 0s 121us/sample - loss: 1.6656 - acc: 0.4714 - val_loss: 1.9175 - val_acc: 0.5160\n",
      "Epoch 15/2000\n",
      "140/140 [==============================] - 0s 121us/sample - loss: 1.6661 - acc: 0.4571 - val_loss: 1.8959 - val_acc: 0.5180\n",
      "Epoch 16/2000\n",
      "140/140 [==============================] - 0s 124us/sample - loss: 1.6779 - acc: 0.4500 - val_loss: 1.8756 - val_acc: 0.5360\n",
      "Epoch 17/2000\n",
      "140/140 [==============================] - 0s 114us/sample - loss: 1.6348 - acc: 0.4714 - val_loss: 1.8587 - val_acc: 0.5420\n",
      "Epoch 18/2000\n",
      "140/140 [==============================] - 0s 113us/sample - loss: 1.7097 - acc: 0.4000 - val_loss: 1.8476 - val_acc: 0.5560\n",
      "Epoch 19/2000\n",
      "140/140 [==============================] - 0s 83us/sample - loss: 1.5942 - acc: 0.4643 - val_loss: 1.8421 - val_acc: 0.5540\n",
      "Epoch 20/2000\n",
      "140/140 [==============================] - 0s 81us/sample - loss: 1.5932 - acc: 0.4500 - val_loss: 1.8381 - val_acc: 0.5540\n",
      "Epoch 21/2000\n",
      "140/140 [==============================] - 0s 68us/sample - loss: 1.5311 - acc: 0.5000 - val_loss: 1.8346 - val_acc: 0.5460\n",
      "Epoch 22/2000\n",
      "140/140 [==============================] - 0s 73us/sample - loss: 1.4555 - acc: 0.5429 - val_loss: 1.8277 - val_acc: 0.5400\n",
      "Epoch 23/2000\n",
      "140/140 [==============================] - 0s 71us/sample - loss: 1.5441 - acc: 0.4857 - val_loss: 1.8213 - val_acc: 0.5380\n",
      "Epoch 24/2000\n",
      "140/140 [==============================] - 0s 79us/sample - loss: 1.6034 - acc: 0.4500 - val_loss: 1.8106 - val_acc: 0.5360\n",
      "Epoch 25/2000\n",
      "140/140 [==============================] - 0s 79us/sample - loss: 1.4436 - acc: 0.5000 - val_loss: 1.7970 - val_acc: 0.5220\n",
      "Epoch 26/2000\n",
      "140/140 [==============================] - 0s 72us/sample - loss: 1.4234 - acc: 0.5143 - val_loss: 1.7841 - val_acc: 0.5280\n",
      "Epoch 27/2000\n",
      "140/140 [==============================] - 0s 82us/sample - loss: 1.3138 - acc: 0.5857 - val_loss: 1.7708 - val_acc: 0.5360\n",
      "Epoch 28/2000\n",
      "140/140 [==============================] - 0s 69us/sample - loss: 1.3419 - acc: 0.5214 - val_loss: 1.7567 - val_acc: 0.5360\n",
      "Epoch 29/2000\n",
      "140/140 [==============================] - 0s 78us/sample - loss: 1.5022 - acc: 0.4500 - val_loss: 1.7453 - val_acc: 0.5440\n",
      "Epoch 30/2000\n",
      "140/140 [==============================] - 0s 69us/sample - loss: 1.4317 - acc: 0.4929 - val_loss: 1.7348 - val_acc: 0.5480\n",
      "Epoch 31/2000\n",
      "140/140 [==============================] - 0s 82us/sample - loss: 1.4771 - acc: 0.4571 - val_loss: 1.7275 - val_acc: 0.5500\n",
      "Epoch 32/2000\n",
      "140/140 [==============================] - 0s 74us/sample - loss: 1.4293 - acc: 0.4786 - val_loss: 1.7221 - val_acc: 0.5480\n",
      "Epoch 33/2000\n",
      "140/140 [==============================] - 0s 76us/sample - loss: 1.4216 - acc: 0.4929 - val_loss: 1.7165 - val_acc: 0.5500\n",
      "Epoch 34/2000\n",
      "140/140 [==============================] - 0s 82us/sample - loss: 1.3120 - acc: 0.5357 - val_loss: 1.7103 - val_acc: 0.5380\n",
      "Epoch 35/2000\n",
      "140/140 [==============================] - 0s 78us/sample - loss: 1.2844 - acc: 0.5714 - val_loss: 1.7034 - val_acc: 0.5540\n",
      "Epoch 36/2000\n",
      "140/140 [==============================] - 0s 97us/sample - loss: 1.3561 - acc: 0.5143 - val_loss: 1.6955 - val_acc: 0.5460\n",
      "Epoch 37/2000\n",
      "140/140 [==============================] - 0s 73us/sample - loss: 1.4275 - acc: 0.4571 - val_loss: 1.6884 - val_acc: 0.5500\n",
      "Epoch 38/2000\n",
      "140/140 [==============================] - 0s 73us/sample - loss: 1.4776 - acc: 0.4643 - val_loss: 1.6829 - val_acc: 0.5560\n",
      "Epoch 39/2000\n",
      "140/140 [==============================] - 0s 72us/sample - loss: 1.4231 - acc: 0.4714 - val_loss: 1.6775 - val_acc: 0.5540\n",
      "Epoch 40/2000\n",
      "140/140 [==============================] - 0s 123us/sample - loss: 1.3499 - acc: 0.4929 - val_loss: 1.6715 - val_acc: 0.5580\n",
      "Epoch 41/2000\n",
      "140/140 [==============================] - 0s 143us/sample - loss: 1.4150 - acc: 0.4714 - val_loss: 1.6665 - val_acc: 0.5820\n",
      "Epoch 42/2000\n",
      "140/140 [==============================] - 0s 81us/sample - loss: 1.4654 - acc: 0.4929 - val_loss: 1.6658 - val_acc: 0.5680\n",
      "Epoch 43/2000\n",
      "140/140 [==============================] - 0s 68us/sample - loss: 1.3047 - acc: 0.5357 - val_loss: 1.6703 - val_acc: 0.5700\n",
      "Epoch 44/2000\n",
      "140/140 [==============================] - 0s 70us/sample - loss: 1.3161 - acc: 0.5357 - val_loss: 1.6729 - val_acc: 0.5640\n",
      "Epoch 45/2000\n",
      "140/140 [==============================] - 0s 64us/sample - loss: 1.4251 - acc: 0.4643 - val_loss: 1.6786 - val_acc: 0.5580\n",
      "Epoch 46/2000\n",
      "140/140 [==============================] - 0s 64us/sample - loss: 1.2808 - acc: 0.5143 - val_loss: 1.6810 - val_acc: 0.5660\n",
      "Epoch 47/2000\n",
      "140/140 [==============================] - 0s 72us/sample - loss: 1.3775 - acc: 0.4786 - val_loss: 1.6836 - val_acc: 0.5700\n",
      "Epoch 48/2000\n",
      "140/140 [==============================] - 0s 67us/sample - loss: 1.4987 - acc: 0.4214 - val_loss: 1.6876 - val_acc: 0.5640\n",
      "Epoch 49/2000\n",
      "140/140 [==============================] - 0s 68us/sample - loss: 1.2888 - acc: 0.5571 - val_loss: 1.6900 - val_acc: 0.5620\n",
      "Epoch 50/2000\n",
      "140/140 [==============================] - 0s 67us/sample - loss: 1.1916 - acc: 0.6000 - val_loss: 1.6909 - val_acc: 0.5580\n",
      "Epoch 51/2000\n",
      "140/140 [==============================] - 0s 71us/sample - loss: 1.3259 - acc: 0.5214 - val_loss: 1.6897 - val_acc: 0.5520\n",
      "Epoch 52/2000\n",
      "140/140 [==============================] - 0s 86us/sample - loss: 1.3205 - acc: 0.5286 - val_loss: 1.6899 - val_acc: 0.5380\n",
      "Epoch 53/2000\n",
      "140/140 [==============================] - 0s 75us/sample - loss: 1.4313 - acc: 0.4643 - val_loss: 1.6893 - val_acc: 0.5520\n",
      "Epoch 54/2000\n",
      "140/140 [==============================] - 0s 68us/sample - loss: 1.3585 - acc: 0.4857 - val_loss: 1.6909 - val_acc: 0.5540\n",
      "Epoch 55/2000\n",
      "140/140 [==============================] - 0s 70us/sample - loss: 1.3709 - acc: 0.5286 - val_loss: 1.6940 - val_acc: 0.5500\n",
      "Epoch 56/2000\n",
      "140/140 [==============================] - 0s 67us/sample - loss: 1.2555 - acc: 0.5500 - val_loss: 1.6958 - val_acc: 0.5500\n",
      "Epoch 57/2000\n",
      "140/140 [==============================] - 0s 75us/sample - loss: 1.4105 - acc: 0.4857 - val_loss: 1.6928 - val_acc: 0.5500\n",
      "Epoch 58/2000\n",
      "140/140 [==============================] - 0s 73us/sample - loss: 1.3113 - acc: 0.5071 - val_loss: 1.6897 - val_acc: 0.5420\n",
      "Epoch 59/2000\n",
      "140/140 [==============================] - 0s 65us/sample - loss: 1.3179 - acc: 0.5286 - val_loss: 1.6844 - val_acc: 0.5580\n"
     ]
    },
    {
     "name": "stdout",
     "output_type": "stream",
     "text": [
      "Epoch 60/2000\n",
      "140/140 [==============================] - 0s 77us/sample - loss: 1.4524 - acc: 0.4643 - val_loss: 1.6785 - val_acc: 0.5560\n",
      "Epoch 61/2000\n",
      "140/140 [==============================] - 0s 66us/sample - loss: 1.2658 - acc: 0.5643 - val_loss: 1.6713 - val_acc: 0.5540\n",
      "Epoch 62/2000\n",
      "140/140 [==============================] - 0s 68us/sample - loss: 1.2293 - acc: 0.5571 - val_loss: 1.6651 - val_acc: 0.5600\n",
      "Epoch 63/2000\n",
      "140/140 [==============================] - 0s 75us/sample - loss: 1.4540 - acc: 0.4643 - val_loss: 1.6650 - val_acc: 0.5580\n",
      "Epoch 64/2000\n",
      "140/140 [==============================] - 0s 70us/sample - loss: 1.3220 - acc: 0.5000 - val_loss: 1.6656 - val_acc: 0.5560\n",
      "Epoch 65/2000\n",
      "140/140 [==============================] - 0s 64us/sample - loss: 1.3651 - acc: 0.4714 - val_loss: 1.6674 - val_acc: 0.5520\n",
      "Epoch 66/2000\n",
      "140/140 [==============================] - 0s 73us/sample - loss: 1.3795 - acc: 0.5357 - val_loss: 1.6671 - val_acc: 0.5420\n",
      "Epoch 67/2000\n",
      "140/140 [==============================] - 0s 67us/sample - loss: 1.2692 - acc: 0.5643 - val_loss: 1.6665 - val_acc: 0.5440\n",
      "Epoch 68/2000\n",
      "140/140 [==============================] - 0s 64us/sample - loss: 1.3841 - acc: 0.4857 - val_loss: 1.6692 - val_acc: 0.5560\n",
      "Epoch 69/2000\n",
      "140/140 [==============================] - 0s 73us/sample - loss: 1.4182 - acc: 0.4571 - val_loss: 1.6738 - val_acc: 0.5620\n",
      "Epoch 70/2000\n",
      "140/140 [==============================] - 0s 67us/sample - loss: 1.3897 - acc: 0.4714 - val_loss: 1.6794 - val_acc: 0.5500\n",
      "Epoch 71/2000\n",
      "140/140 [==============================] - 0s 71us/sample - loss: 1.5237 - acc: 0.4357 - val_loss: 1.6848 - val_acc: 0.5520\n",
      "Epoch 72/2000\n",
      "140/140 [==============================] - 0s 71us/sample - loss: 1.2652 - acc: 0.5500 - val_loss: 1.6880 - val_acc: 0.5520\n",
      "Epoch 73/2000\n",
      "140/140 [==============================] - 0s 69us/sample - loss: 1.3110 - acc: 0.5143 - val_loss: 1.6907 - val_acc: 0.5400\n",
      "Epoch 74/2000\n",
      "140/140 [==============================] - 0s 64us/sample - loss: 1.4638 - acc: 0.4357 - val_loss: 1.6888 - val_acc: 0.5480\n",
      "Epoch 75/2000\n",
      "140/140 [==============================] - 0s 69us/sample - loss: 1.1883 - acc: 0.6000 - val_loss: 1.6867 - val_acc: 0.5600\n",
      "Epoch 76/2000\n",
      "140/140 [==============================] - 0s 80us/sample - loss: 1.3902 - acc: 0.4786 - val_loss: 1.6891 - val_acc: 0.5680\n",
      "Epoch 77/2000\n",
      "140/140 [==============================] - 0s 73us/sample - loss: 1.3486 - acc: 0.5357 - val_loss: 1.6934 - val_acc: 0.5560\n",
      "Epoch 78/2000\n",
      "140/140 [==============================] - 0s 66us/sample - loss: 1.3187 - acc: 0.5429 - val_loss: 1.7032 - val_acc: 0.5520\n",
      "Epoch 79/2000\n",
      "140/140 [==============================] - 0s 76us/sample - loss: 1.2543 - acc: 0.5714 - val_loss: 1.7061 - val_acc: 0.5480\n",
      "Epoch 80/2000\n",
      "140/140 [==============================] - 0s 73us/sample - loss: 1.4565 - acc: 0.4786 - val_loss: 1.7097 - val_acc: 0.5340\n",
      "Epoch 81/2000\n",
      "140/140 [==============================] - 0s 67us/sample - loss: 1.3305 - acc: 0.5143 - val_loss: 1.7064 - val_acc: 0.5320\n",
      "Epoch 82/2000\n",
      "140/140 [==============================] - 0s 73us/sample - loss: 1.2081 - acc: 0.5857 - val_loss: 1.7005 - val_acc: 0.5340\n",
      "Epoch 83/2000\n",
      "140/140 [==============================] - 0s 74us/sample - loss: 1.3635 - acc: 0.4857 - val_loss: 1.6983 - val_acc: 0.5360\n",
      "Epoch 84/2000\n",
      "140/140 [==============================] - 0s 66us/sample - loss: 1.3892 - acc: 0.5071 - val_loss: 1.6982 - val_acc: 0.5340\n",
      "Epoch 85/2000\n",
      "140/140 [==============================] - 0s 72us/sample - loss: 1.2251 - acc: 0.5643 - val_loss: 1.7004 - val_acc: 0.5300\n",
      "Epoch 86/2000\n",
      "140/140 [==============================] - 0s 70us/sample - loss: 1.2846 - acc: 0.5429 - val_loss: 1.7061 - val_acc: 0.5280\n",
      "Epoch 87/2000\n",
      "140/140 [==============================] - 0s 70us/sample - loss: 1.4024 - acc: 0.4643 - val_loss: 1.7086 - val_acc: 0.5320\n",
      "Epoch 88/2000\n",
      "140/140 [==============================] - 0s 65us/sample - loss: 1.4041 - acc: 0.5071 - val_loss: 1.7070 - val_acc: 0.5380\n",
      "Epoch 89/2000\n",
      "140/140 [==============================] - 0s 66us/sample - loss: 1.3485 - acc: 0.5143 - val_loss: 1.7043 - val_acc: 0.5500\n",
      "Epoch 90/2000\n",
      "140/140 [==============================] - 0s 67us/sample - loss: 1.4787 - acc: 0.4571 - val_loss: 1.7037 - val_acc: 0.5580\n",
      "Epoch 91/2000\n",
      "140/140 [==============================] - 0s 70us/sample - loss: 1.2786 - acc: 0.5786 - val_loss: 1.7030 - val_acc: 0.5540\n"
     ]
    }
   ],
   "source": [
    "es_callback = EarlyStopping(monitor=\"val_acc\", patience=50)  # patience is the number of epochs to wait before early stopping in case of no further improvement\n",
    "\n",
    "mc_callback = ModelCheckpoint(\n",
    "    \"logs/best_fc_model.h5\",\n",
    "    monitor=\"val_acc\",\n",
    "    save_best_only=True,\n",
    "    save_weights_only=True,\n",
    ")\n",
    "\n",
    "history = fully_connected_model.fit(X_train, train_targets, \n",
    "                          validation_data=(X_val, val_targets), \n",
    "                          epochs=2000, batch_size=200, shuffle=True, #we can shuffle the data here as \n",
    "                         callbacks=[es_callback, mc_callback]) #we're only working with node features"
   ]
  },
  {
   "cell_type": "markdown",
   "metadata": {},
   "source": [
    "By itself the fully connected model only gets ~60% accuracy on the test set."
   ]
  },
  {
   "cell_type": "code",
   "execution_count": 32,
   "metadata": {},
   "outputs": [
    {
     "name": "stdout",
     "output_type": "stream",
     "text": [
      "2068/2068 [==============================] - 0s 20us/sample - loss: 1.6620 - acc: 0.5522\n",
      "\n",
      "Test Set Metrics:\n",
      "\tloss: 1.6620\n",
      "\tacc: 0.5522\n"
     ]
    }
   ],
   "source": [
    "X_test = test_data[feature_names].values.astype(np.float32)\n",
    "\n",
    "fully_connected_model.load_weights(\"logs/best_fc_model.h5\") \n",
    "test_metrics = fully_connected_model.evaluate(X_test, test_targets)\n",
    "print(\"\\nTest Set Metrics:\")\n",
    "for name, val in zip(fully_connected_model.metrics_names, test_metrics):\n",
    "    print(\"\\t{}: {:0.4f}\".format(name, val))"
   ]
  },
  {
   "cell_type": "markdown",
   "metadata": {},
   "source": [
    "Now we propogate the fully connected network - no extra training required and we can re-use the APPNP object we've already created."
   ]
  },
  {
   "cell_type": "code",
   "execution_count": 33,
   "metadata": {},
   "outputs": [
    {
     "name": "stdout",
     "output_type": "stream",
     "text": [
      "WARNING:tensorflow:Entity <bound method SqueezedSparseConversion.call of <stellargraph.layer.misc.SqueezedSparseConversion object at 0x1511b2eb8>> could not be transformed and will be executed as-is. Please report this to the AutgoGraph team. When filing the bug, set the verbosity to 10 (on Linux, `export AUTOGRAPH_VERBOSITY=10`) and attach the full output. Cause: converting <bound method SqueezedSparseConversion.call of <stellargraph.layer.misc.SqueezedSparseConversion object at 0x1511b2eb8>>: AttributeError: module 'gast' has no attribute 'Num'\n",
      "WARNING: Entity <bound method SqueezedSparseConversion.call of <stellargraph.layer.misc.SqueezedSparseConversion object at 0x1511b2eb8>> could not be transformed and will be executed as-is. Please report this to the AutgoGraph team. When filing the bug, set the verbosity to 10 (on Linux, `export AUTOGRAPH_VERBOSITY=10`) and attach the full output. Cause: converting <bound method SqueezedSparseConversion.call of <stellargraph.layer.misc.SqueezedSparseConversion object at 0x1511b2eb8>>: AttributeError: module 'gast' has no attribute 'Num'\n",
      "WARNING:tensorflow:Entity <bound method APPNPPropagationLayer.call of <stellargraph.layer.appnp.APPNPPropagationLayer object at 0x141a6b470>> could not be transformed and will be executed as-is. Please report this to the AutgoGraph team. When filing the bug, set the verbosity to 10 (on Linux, `export AUTOGRAPH_VERBOSITY=10`) and attach the full output. Cause: converting <bound method APPNPPropagationLayer.call of <stellargraph.layer.appnp.APPNPPropagationLayer object at 0x141a6b470>>: AttributeError: module 'gast' has no attribute 'Num'\n",
      "WARNING: Entity <bound method APPNPPropagationLayer.call of <stellargraph.layer.appnp.APPNPPropagationLayer object at 0x141a6b470>> could not be transformed and will be executed as-is. Please report this to the AutgoGraph team. When filing the bug, set the verbosity to 10 (on Linux, `export AUTOGRAPH_VERBOSITY=10`) and attach the full output. Cause: converting <bound method APPNPPropagationLayer.call of <stellargraph.layer.appnp.APPNPPropagationLayer object at 0x141a6b470>>: AttributeError: module 'gast' has no attribute 'Num'\n",
      "WARNING:tensorflow:Entity <bound method APPNPPropagationLayer.call of <stellargraph.layer.appnp.APPNPPropagationLayer object at 0x141a6b668>> could not be transformed and will be executed as-is. Please report this to the AutgoGraph team. When filing the bug, set the verbosity to 10 (on Linux, `export AUTOGRAPH_VERBOSITY=10`) and attach the full output. Cause: converting <bound method APPNPPropagationLayer.call of <stellargraph.layer.appnp.APPNPPropagationLayer object at 0x141a6b668>>: AttributeError: module 'gast' has no attribute 'Num'\n",
      "WARNING: Entity <bound method APPNPPropagationLayer.call of <stellargraph.layer.appnp.APPNPPropagationLayer object at 0x141a6b668>> could not be transformed and will be executed as-is. Please report this to the AutgoGraph team. When filing the bug, set the verbosity to 10 (on Linux, `export AUTOGRAPH_VERBOSITY=10`) and attach the full output. Cause: converting <bound method APPNPPropagationLayer.call of <stellargraph.layer.appnp.APPNPPropagationLayer object at 0x141a6b668>>: AttributeError: module 'gast' has no attribute 'Num'\n",
      "WARNING:tensorflow:Entity <bound method APPNPPropagationLayer.call of <stellargraph.layer.appnp.APPNPPropagationLayer object at 0x141a6b860>> could not be transformed and will be executed as-is. Please report this to the AutgoGraph team. When filing the bug, set the verbosity to 10 (on Linux, `export AUTOGRAPH_VERBOSITY=10`) and attach the full output. Cause: converting <bound method APPNPPropagationLayer.call of <stellargraph.layer.appnp.APPNPPropagationLayer object at 0x141a6b860>>: AttributeError: module 'gast' has no attribute 'Num'\n",
      "WARNING: Entity <bound method APPNPPropagationLayer.call of <stellargraph.layer.appnp.APPNPPropagationLayer object at 0x141a6b860>> could not be transformed and will be executed as-is. Please report this to the AutgoGraph team. When filing the bug, set the verbosity to 10 (on Linux, `export AUTOGRAPH_VERBOSITY=10`) and attach the full output. Cause: converting <bound method APPNPPropagationLayer.call of <stellargraph.layer.appnp.APPNPPropagationLayer object at 0x141a6b860>>: AttributeError: module 'gast' has no attribute 'Num'\n",
      "WARNING:tensorflow:Entity <bound method APPNPPropagationLayer.call of <stellargraph.layer.appnp.APPNPPropagationLayer object at 0x141a6ba58>> could not be transformed and will be executed as-is. Please report this to the AutgoGraph team. When filing the bug, set the verbosity to 10 (on Linux, `export AUTOGRAPH_VERBOSITY=10`) and attach the full output. Cause: converting <bound method APPNPPropagationLayer.call of <stellargraph.layer.appnp.APPNPPropagationLayer object at 0x141a6ba58>>: AttributeError: module 'gast' has no attribute 'Num'\n",
      "WARNING: Entity <bound method APPNPPropagationLayer.call of <stellargraph.layer.appnp.APPNPPropagationLayer object at 0x141a6ba58>> could not be transformed and will be executed as-is. Please report this to the AutgoGraph team. When filing the bug, set the verbosity to 10 (on Linux, `export AUTOGRAPH_VERBOSITY=10`) and attach the full output. Cause: converting <bound method APPNPPropagationLayer.call of <stellargraph.layer.appnp.APPNPPropagationLayer object at 0x141a6ba58>>: AttributeError: module 'gast' has no attribute 'Num'\n",
      "WARNING:tensorflow:Entity <bound method APPNPPropagationLayer.call of <stellargraph.layer.appnp.APPNPPropagationLayer object at 0x141a6bc50>> could not be transformed and will be executed as-is. Please report this to the AutgoGraph team. When filing the bug, set the verbosity to 10 (on Linux, `export AUTOGRAPH_VERBOSITY=10`) and attach the full output. Cause: converting <bound method APPNPPropagationLayer.call of <stellargraph.layer.appnp.APPNPPropagationLayer object at 0x141a6bc50>>: AttributeError: module 'gast' has no attribute 'Num'\n",
      "WARNING: Entity <bound method APPNPPropagationLayer.call of <stellargraph.layer.appnp.APPNPPropagationLayer object at 0x141a6bc50>> could not be transformed and will be executed as-is. Please report this to the AutgoGraph team. When filing the bug, set the verbosity to 10 (on Linux, `export AUTOGRAPH_VERBOSITY=10`) and attach the full output. Cause: converting <bound method APPNPPropagationLayer.call of <stellargraph.layer.appnp.APPNPPropagationLayer object at 0x141a6bc50>>: AttributeError: module 'gast' has no attribute 'Num'\n",
      "WARNING:tensorflow:Entity <bound method APPNPPropagationLayer.call of <stellargraph.layer.appnp.APPNPPropagationLayer object at 0x141a6be48>> could not be transformed and will be executed as-is. Please report this to the AutgoGraph team. When filing the bug, set the verbosity to 10 (on Linux, `export AUTOGRAPH_VERBOSITY=10`) and attach the full output. Cause: converting <bound method APPNPPropagationLayer.call of <stellargraph.layer.appnp.APPNPPropagationLayer object at 0x141a6be48>>: AttributeError: module 'gast' has no attribute 'Num'\n",
      "WARNING: Entity <bound method APPNPPropagationLayer.call of <stellargraph.layer.appnp.APPNPPropagationLayer object at 0x141a6be48>> could not be transformed and will be executed as-is. Please report this to the AutgoGraph team. When filing the bug, set the verbosity to 10 (on Linux, `export AUTOGRAPH_VERBOSITY=10`) and attach the full output. Cause: converting <bound method APPNPPropagationLayer.call of <stellargraph.layer.appnp.APPNPPropagationLayer object at 0x141a6be48>>: AttributeError: module 'gast' has no attribute 'Num'\n",
      "WARNING:tensorflow:Entity <bound method APPNPPropagationLayer.call of <stellargraph.layer.appnp.APPNPPropagationLayer object at 0x141a6e080>> could not be transformed and will be executed as-is. Please report this to the AutgoGraph team. When filing the bug, set the verbosity to 10 (on Linux, `export AUTOGRAPH_VERBOSITY=10`) and attach the full output. Cause: converting <bound method APPNPPropagationLayer.call of <stellargraph.layer.appnp.APPNPPropagationLayer object at 0x141a6e080>>: AttributeError: module 'gast' has no attribute 'Num'\n",
      "WARNING: Entity <bound method APPNPPropagationLayer.call of <stellargraph.layer.appnp.APPNPPropagationLayer object at 0x141a6e080>> could not be transformed and will be executed as-is. Please report this to the AutgoGraph team. When filing the bug, set the verbosity to 10 (on Linux, `export AUTOGRAPH_VERBOSITY=10`) and attach the full output. Cause: converting <bound method APPNPPropagationLayer.call of <stellargraph.layer.appnp.APPNPPropagationLayer object at 0x141a6e080>>: AttributeError: module 'gast' has no attribute 'Num'\n",
      "WARNING:tensorflow:Entity <bound method APPNPPropagationLayer.call of <stellargraph.layer.appnp.APPNPPropagationLayer object at 0x141a6e278>> could not be transformed and will be executed as-is. Please report this to the AutgoGraph team. When filing the bug, set the verbosity to 10 (on Linux, `export AUTOGRAPH_VERBOSITY=10`) and attach the full output. Cause: converting <bound method APPNPPropagationLayer.call of <stellargraph.layer.appnp.APPNPPropagationLayer object at 0x141a6e278>>: AttributeError: module 'gast' has no attribute 'Num'\n"
     ]
    },
    {
     "name": "stdout",
     "output_type": "stream",
     "text": [
      "WARNING: Entity <bound method APPNPPropagationLayer.call of <stellargraph.layer.appnp.APPNPPropagationLayer object at 0x141a6e278>> could not be transformed and will be executed as-is. Please report this to the AutgoGraph team. When filing the bug, set the verbosity to 10 (on Linux, `export AUTOGRAPH_VERBOSITY=10`) and attach the full output. Cause: converting <bound method APPNPPropagationLayer.call of <stellargraph.layer.appnp.APPNPPropagationLayer object at 0x141a6e278>>: AttributeError: module 'gast' has no attribute 'Num'\n",
      "WARNING:tensorflow:Entity <bound method APPNPPropagationLayer.call of <stellargraph.layer.appnp.APPNPPropagationLayer object at 0x141a6e470>> could not be transformed and will be executed as-is. Please report this to the AutgoGraph team. When filing the bug, set the verbosity to 10 (on Linux, `export AUTOGRAPH_VERBOSITY=10`) and attach the full output. Cause: converting <bound method APPNPPropagationLayer.call of <stellargraph.layer.appnp.APPNPPropagationLayer object at 0x141a6e470>>: AttributeError: module 'gast' has no attribute 'Num'\n",
      "WARNING: Entity <bound method APPNPPropagationLayer.call of <stellargraph.layer.appnp.APPNPPropagationLayer object at 0x141a6e470>> could not be transformed and will be executed as-is. Please report this to the AutgoGraph team. When filing the bug, set the verbosity to 10 (on Linux, `export AUTOGRAPH_VERBOSITY=10`) and attach the full output. Cause: converting <bound method APPNPPropagationLayer.call of <stellargraph.layer.appnp.APPNPPropagationLayer object at 0x141a6e470>>: AttributeError: module 'gast' has no attribute 'Num'\n",
      "WARNING:tensorflow:Entity <bound method APPNPPropagationLayer.call of <stellargraph.layer.appnp.APPNPPropagationLayer object at 0x141a6e668>> could not be transformed and will be executed as-is. Please report this to the AutgoGraph team. When filing the bug, set the verbosity to 10 (on Linux, `export AUTOGRAPH_VERBOSITY=10`) and attach the full output. Cause: converting <bound method APPNPPropagationLayer.call of <stellargraph.layer.appnp.APPNPPropagationLayer object at 0x141a6e668>>: AttributeError: module 'gast' has no attribute 'Num'\n",
      "WARNING: Entity <bound method APPNPPropagationLayer.call of <stellargraph.layer.appnp.APPNPPropagationLayer object at 0x141a6e668>> could not be transformed and will be executed as-is. Please report this to the AutgoGraph team. When filing the bug, set the verbosity to 10 (on Linux, `export AUTOGRAPH_VERBOSITY=10`) and attach the full output. Cause: converting <bound method APPNPPropagationLayer.call of <stellargraph.layer.appnp.APPNPPropagationLayer object at 0x141a6e668>>: AttributeError: module 'gast' has no attribute 'Num'\n"
     ]
    }
   ],
   "source": [
    "x_inp, x_out = appnp.propagate_model(fully_connected_model)\n",
    "predictions = keras.layers.Softmax()(x_out)\n",
    "\n",
    "propagated_model = keras.models.Model(inputs=x_inp, outputs=predictions)\n",
    "propagated_model.compile(loss='categorical_crossentropy', metrics=['acc'],\n",
    "                  optimizer=keras.optimizers.Adam(lr=0.01))"
   ]
  },
  {
   "cell_type": "markdown",
   "metadata": {},
   "source": [
    "Our accuracy is better than the fully connected network by itself but less than end-to-end trained PPNP and APPNP. \n",
    "\n",
    "Note that this is partially because 140 data points isn't sufficient for the fully connected model to achieve optimal performance. As the number of training nodes increases the perfomance gap shrinks. "
   ]
  },
  {
   "cell_type": "code",
   "execution_count": 34,
   "metadata": {},
   "outputs": [
    {
     "name": "stdout",
     "output_type": "stream",
     "text": [
      "\n",
      "Test Set Metrics:\n",
      "\tloss: 1.9333\n",
      "\tacc: 0.6223\n"
     ]
    }
   ],
   "source": [
    "test_metrics = propagated_model.evaluate_generator(test_gen)\n",
    "print(\"\\nTest Set Metrics:\")\n",
    "for name, val in zip(propagated_model.metrics_names, test_metrics):\n",
    "    print(\"\\t{}: {:0.4f}\".format(name, val))"
   ]
  },
  {
   "cell_type": "markdown",
   "metadata": {},
   "source": [
    "### Making predictions with the model"
   ]
  },
  {
   "cell_type": "markdown",
   "metadata": {},
   "source": [
    "Now let's get the predictions for all nodes."
   ]
  },
  {
   "cell_type": "code",
   "execution_count": 36,
   "metadata": {},
   "outputs": [],
   "source": [
    "all_nodes = node_data.index\n",
    "all_gen = generator.flow(all_nodes)\n",
    "all_predictions = propagated_model.predict_generator(all_gen)"
   ]
  },
  {
   "cell_type": "markdown",
   "metadata": {},
   "source": [
    "These predictions will be the output of the softmax layer, so to get final categories we'll use the `inverse_transform` method of our target attribute specifcation to turn these values back to the original categories."
   ]
  },
  {
   "cell_type": "markdown",
   "metadata": {},
   "source": [
    "Note that for full-batch methods the batch size is 1 and the predictions have shape $(1, N_{nodes}, N_{classes})$ so we remove the batch dimension to obtain predictions of shape $(N_{nodes}, N_{classes})$ using the NumPy `squeeze` method."
   ]
  },
  {
   "cell_type": "code",
   "execution_count": 38,
   "metadata": {},
   "outputs": [],
   "source": [
    "node_predictions = target_encoding.inverse_transform(all_predictions.squeeze())"
   ]
  },
  {
   "cell_type": "markdown",
   "metadata": {},
   "source": [
    "Let's have a look at a few predictions after training the model:"
   ]
  },
  {
   "cell_type": "code",
   "execution_count": 39,
   "metadata": {},
   "outputs": [
    {
     "data": {
      "text/html": [
       "<div>\n",
       "<style scoped>\n",
       "    .dataframe tbody tr th:only-of-type {\n",
       "        vertical-align: middle;\n",
       "    }\n",
       "\n",
       "    .dataframe tbody tr th {\n",
       "        vertical-align: top;\n",
       "    }\n",
       "\n",
       "    .dataframe thead th {\n",
       "        text-align: right;\n",
       "    }\n",
       "</style>\n",
       "<table border=\"1\" class=\"dataframe\">\n",
       "  <thead>\n",
       "    <tr style=\"text-align: right;\">\n",
       "      <th></th>\n",
       "      <th>Predicted</th>\n",
       "      <th>True</th>\n",
       "    </tr>\n",
       "  </thead>\n",
       "  <tbody>\n",
       "    <tr>\n",
       "      <td>31336</td>\n",
       "      <td>subject=Neural_Networks</td>\n",
       "      <td>Neural_Networks</td>\n",
       "    </tr>\n",
       "    <tr>\n",
       "      <td>1061127</td>\n",
       "      <td>subject=Rule_Learning</td>\n",
       "      <td>Rule_Learning</td>\n",
       "    </tr>\n",
       "    <tr>\n",
       "      <td>1106406</td>\n",
       "      <td>subject=Reinforcement_Learning</td>\n",
       "      <td>Reinforcement_Learning</td>\n",
       "    </tr>\n",
       "    <tr>\n",
       "      <td>13195</td>\n",
       "      <td>subject=Neural_Networks</td>\n",
       "      <td>Reinforcement_Learning</td>\n",
       "    </tr>\n",
       "    <tr>\n",
       "      <td>37879</td>\n",
       "      <td>subject=Probabilistic_Methods</td>\n",
       "      <td>Probabilistic_Methods</td>\n",
       "    </tr>\n",
       "    <tr>\n",
       "      <td>1126012</td>\n",
       "      <td>subject=Probabilistic_Methods</td>\n",
       "      <td>Probabilistic_Methods</td>\n",
       "    </tr>\n",
       "    <tr>\n",
       "      <td>1107140</td>\n",
       "      <td>subject=Neural_Networks</td>\n",
       "      <td>Theory</td>\n",
       "    </tr>\n",
       "    <tr>\n",
       "      <td>1102850</td>\n",
       "      <td>subject=Neural_Networks</td>\n",
       "      <td>Neural_Networks</td>\n",
       "    </tr>\n",
       "    <tr>\n",
       "      <td>31349</td>\n",
       "      <td>subject=Neural_Networks</td>\n",
       "      <td>Neural_Networks</td>\n",
       "    </tr>\n",
       "    <tr>\n",
       "      <td>1106418</td>\n",
       "      <td>subject=Theory</td>\n",
       "      <td>Theory</td>\n",
       "    </tr>\n",
       "    <tr>\n",
       "      <td>1123188</td>\n",
       "      <td>subject=Neural_Networks</td>\n",
       "      <td>Neural_Networks</td>\n",
       "    </tr>\n",
       "    <tr>\n",
       "      <td>1128990</td>\n",
       "      <td>subject=Neural_Networks</td>\n",
       "      <td>Genetic_Algorithms</td>\n",
       "    </tr>\n",
       "    <tr>\n",
       "      <td>109323</td>\n",
       "      <td>subject=Probabilistic_Methods</td>\n",
       "      <td>Probabilistic_Methods</td>\n",
       "    </tr>\n",
       "    <tr>\n",
       "      <td>217139</td>\n",
       "      <td>subject=Neural_Networks</td>\n",
       "      <td>Case_Based</td>\n",
       "    </tr>\n",
       "    <tr>\n",
       "      <td>31353</td>\n",
       "      <td>subject=Neural_Networks</td>\n",
       "      <td>Neural_Networks</td>\n",
       "    </tr>\n",
       "    <tr>\n",
       "      <td>32083</td>\n",
       "      <td>subject=Neural_Networks</td>\n",
       "      <td>Neural_Networks</td>\n",
       "    </tr>\n",
       "    <tr>\n",
       "      <td>1126029</td>\n",
       "      <td>subject=Neural_Networks</td>\n",
       "      <td>Reinforcement_Learning</td>\n",
       "    </tr>\n",
       "    <tr>\n",
       "      <td>1118017</td>\n",
       "      <td>subject=Neural_Networks</td>\n",
       "      <td>Neural_Networks</td>\n",
       "    </tr>\n",
       "    <tr>\n",
       "      <td>49482</td>\n",
       "      <td>subject=Neural_Networks</td>\n",
       "      <td>Neural_Networks</td>\n",
       "    </tr>\n",
       "    <tr>\n",
       "      <td>753265</td>\n",
       "      <td>subject=Theory</td>\n",
       "      <td>Neural_Networks</td>\n",
       "    </tr>\n",
       "  </tbody>\n",
       "</table>\n",
       "</div>"
      ],
      "text/plain": [
       "                              Predicted                    True\n",
       "31336           subject=Neural_Networks         Neural_Networks\n",
       "1061127           subject=Rule_Learning           Rule_Learning\n",
       "1106406  subject=Reinforcement_Learning  Reinforcement_Learning\n",
       "13195           subject=Neural_Networks  Reinforcement_Learning\n",
       "37879     subject=Probabilistic_Methods   Probabilistic_Methods\n",
       "1126012   subject=Probabilistic_Methods   Probabilistic_Methods\n",
       "1107140         subject=Neural_Networks                  Theory\n",
       "1102850         subject=Neural_Networks         Neural_Networks\n",
       "31349           subject=Neural_Networks         Neural_Networks\n",
       "1106418                  subject=Theory                  Theory\n",
       "1123188         subject=Neural_Networks         Neural_Networks\n",
       "1128990         subject=Neural_Networks      Genetic_Algorithms\n",
       "109323    subject=Probabilistic_Methods   Probabilistic_Methods\n",
       "217139          subject=Neural_Networks              Case_Based\n",
       "31353           subject=Neural_Networks         Neural_Networks\n",
       "32083           subject=Neural_Networks         Neural_Networks\n",
       "1126029         subject=Neural_Networks  Reinforcement_Learning\n",
       "1118017         subject=Neural_Networks         Neural_Networks\n",
       "49482           subject=Neural_Networks         Neural_Networks\n",
       "753265                   subject=Theory         Neural_Networks"
      ]
     },
     "execution_count": 39,
     "metadata": {},
     "output_type": "execute_result"
    }
   ],
   "source": [
    "results = pd.DataFrame(node_predictions, index=all_nodes).idxmax(axis=1)\n",
    "df = pd.DataFrame({\"Predicted\": results, \"True\": node_data['subject']})\n",
    "df.head(20)"
   ]
  }
 ],
 "metadata": {
  "kernelspec": {
   "display_name": "Python 3",
   "language": "python",
   "name": "python3"
  },
  "language_info": {
   "codemirror_mode": {
    "name": "ipython",
    "version": 3
   },
   "file_extension": ".py",
   "mimetype": "text/x-python",
   "name": "python",
   "nbconvert_exporter": "python",
   "pygments_lexer": "ipython3",
   "version": "3.6.9"
  }
 },
 "nbformat": 4,
 "nbformat_minor": 2
}
