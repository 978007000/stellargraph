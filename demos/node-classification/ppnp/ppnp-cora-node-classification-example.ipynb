{
 "cells": [
  {
   "cell_type": "markdown",
   "metadata": {},
   "source": [
    "# Stellargraph example: Personalised Propagation of Neural Predictions (PPNP) and Approximate PPNP (APPNP) on the CORA citation dataset"
   ]
  },
  {
   "cell_type": "markdown",
   "metadata": {},
   "source": [
    "Import NetworkX and stellar:"
   ]
  },
  {
   "cell_type": "code",
   "execution_count": 1,
   "metadata": {},
   "outputs": [
    {
     "name": "stderr",
     "output_type": "stream",
     "text": [
      "/Users/kieranricardo/anaconda3/envs/stellar-env/lib/python3.6/site-packages/tensorflow/python/framework/dtypes.py:516: FutureWarning: Passing (type, 1) or '1type' as a synonym of type is deprecated; in a future version of numpy, it will be understood as (type, (1,)) / '(1,)type'.\n",
      "  _np_qint8 = np.dtype([(\"qint8\", np.int8, 1)])\n",
      "/Users/kieranricardo/anaconda3/envs/stellar-env/lib/python3.6/site-packages/tensorflow/python/framework/dtypes.py:517: FutureWarning: Passing (type, 1) or '1type' as a synonym of type is deprecated; in a future version of numpy, it will be understood as (type, (1,)) / '(1,)type'.\n",
      "  _np_quint8 = np.dtype([(\"quint8\", np.uint8, 1)])\n",
      "/Users/kieranricardo/anaconda3/envs/stellar-env/lib/python3.6/site-packages/tensorflow/python/framework/dtypes.py:518: FutureWarning: Passing (type, 1) or '1type' as a synonym of type is deprecated; in a future version of numpy, it will be understood as (type, (1,)) / '(1,)type'.\n",
      "  _np_qint16 = np.dtype([(\"qint16\", np.int16, 1)])\n",
      "/Users/kieranricardo/anaconda3/envs/stellar-env/lib/python3.6/site-packages/tensorflow/python/framework/dtypes.py:519: FutureWarning: Passing (type, 1) or '1type' as a synonym of type is deprecated; in a future version of numpy, it will be understood as (type, (1,)) / '(1,)type'.\n",
      "  _np_quint16 = np.dtype([(\"quint16\", np.uint16, 1)])\n",
      "/Users/kieranricardo/anaconda3/envs/stellar-env/lib/python3.6/site-packages/tensorflow/python/framework/dtypes.py:520: FutureWarning: Passing (type, 1) or '1type' as a synonym of type is deprecated; in a future version of numpy, it will be understood as (type, (1,)) / '(1,)type'.\n",
      "  _np_qint32 = np.dtype([(\"qint32\", np.int32, 1)])\n",
      "/Users/kieranricardo/anaconda3/envs/stellar-env/lib/python3.6/site-packages/tensorflow/python/framework/dtypes.py:525: FutureWarning: Passing (type, 1) or '1type' as a synonym of type is deprecated; in a future version of numpy, it will be understood as (type, (1,)) / '(1,)type'.\n",
      "  np_resource = np.dtype([(\"resource\", np.ubyte, 1)])\n",
      "/Users/kieranricardo/anaconda3/envs/stellar-env/lib/python3.6/site-packages/tensorboard/compat/tensorflow_stub/dtypes.py:541: FutureWarning: Passing (type, 1) or '1type' as a synonym of type is deprecated; in a future version of numpy, it will be understood as (type, (1,)) / '(1,)type'.\n",
      "  _np_qint8 = np.dtype([(\"qint8\", np.int8, 1)])\n",
      "/Users/kieranricardo/anaconda3/envs/stellar-env/lib/python3.6/site-packages/tensorboard/compat/tensorflow_stub/dtypes.py:542: FutureWarning: Passing (type, 1) or '1type' as a synonym of type is deprecated; in a future version of numpy, it will be understood as (type, (1,)) / '(1,)type'.\n",
      "  _np_quint8 = np.dtype([(\"quint8\", np.uint8, 1)])\n",
      "/Users/kieranricardo/anaconda3/envs/stellar-env/lib/python3.6/site-packages/tensorboard/compat/tensorflow_stub/dtypes.py:543: FutureWarning: Passing (type, 1) or '1type' as a synonym of type is deprecated; in a future version of numpy, it will be understood as (type, (1,)) / '(1,)type'.\n",
      "  _np_qint16 = np.dtype([(\"qint16\", np.int16, 1)])\n",
      "/Users/kieranricardo/anaconda3/envs/stellar-env/lib/python3.6/site-packages/tensorboard/compat/tensorflow_stub/dtypes.py:544: FutureWarning: Passing (type, 1) or '1type' as a synonym of type is deprecated; in a future version of numpy, it will be understood as (type, (1,)) / '(1,)type'.\n",
      "  _np_quint16 = np.dtype([(\"quint16\", np.uint16, 1)])\n",
      "/Users/kieranricardo/anaconda3/envs/stellar-env/lib/python3.6/site-packages/tensorboard/compat/tensorflow_stub/dtypes.py:545: FutureWarning: Passing (type, 1) or '1type' as a synonym of type is deprecated; in a future version of numpy, it will be understood as (type, (1,)) / '(1,)type'.\n",
      "  _np_qint32 = np.dtype([(\"qint32\", np.int32, 1)])\n",
      "/Users/kieranricardo/anaconda3/envs/stellar-env/lib/python3.6/site-packages/tensorboard/compat/tensorflow_stub/dtypes.py:550: FutureWarning: Passing (type, 1) or '1type' as a synonym of type is deprecated; in a future version of numpy, it will be understood as (type, (1,)) / '(1,)type'.\n",
      "  np_resource = np.dtype([(\"resource\", np.ubyte, 1)])\n"
     ]
    }
   ],
   "source": [
    "import networkx as nx\n",
    "import pandas as pd\n",
    "import numpy as np\n",
    "import os\n",
    "from tensorflow import keras\n",
    "from tensorflow.keras import backend as K\n",
    "from tensorflow.keras.callbacks import EarlyStopping, ModelCheckpoint\n",
    "\n",
    "import stellargraph as sg\n",
    "from stellargraph.mapper import FullBatchNodeGenerator\n",
    "from stellargraph.layer.ppnp import PPNP\n",
    "from stellargraph.layer.appnp import APPNP\n",
    "\n",
    "from tensorflow.keras import layers, optimizers, losses, metrics, Model\n",
    "from sklearn import preprocessing, feature_extraction, model_selection"
   ]
  },
  {
   "cell_type": "markdown",
   "metadata": {},
   "source": [
    "### Loading the CORA network"
   ]
  },
  {
   "cell_type": "markdown",
   "metadata": {},
   "source": [
    "**Downloading the CORA dataset:**\n",
    "    \n",
    "The dataset used in this demo can be downloaded from [here](https://linqs-data.soe.ucsc.edu/public/lbc/cora.tgz).\n",
    "\n",
    "The following is the description of the dataset:\n",
    "> The Cora dataset consists of 2708 scientific publications classified into one of seven classes.\n",
    "> The citation network consists of 5429 links. Each publication in the dataset is described by a\n",
    "> 0/1-valued word vector indicating the absence/presence of the corresponding word from the dictionary.\n",
    "> The dictionary consists of 1433 unique words. The README file in the dataset provides more details.\n",
    "\n",
    "Download and unzip the cora.tgz file to a location on your computer and set the `data_dir` variable to\n",
    "point to the location of the dataset (the directory containing \"cora.cites\" and \"cora.content\")."
   ]
  },
  {
   "cell_type": "code",
   "execution_count": 2,
   "metadata": {},
   "outputs": [],
   "source": [
    "data_dir = os.path.join(\"~\", \"DataSets\", \"cora\")"
   ]
  },
  {
   "cell_type": "markdown",
   "metadata": {},
   "source": [
    "Load the graph from edgelist (in the order `cited-paper` <- `citing-paper`)"
   ]
  },
  {
   "cell_type": "code",
   "execution_count": 3,
   "metadata": {},
   "outputs": [],
   "source": [
    "edgelist = pd.read_csv(os.path.join(data_dir, \"cora.cites\"), sep='\\t', header=None, names=[\"target\", \"source\"])\n",
    "edgelist[\"label\"] = \"cites\""
   ]
  },
  {
   "cell_type": "code",
   "execution_count": 4,
   "metadata": {},
   "outputs": [],
   "source": [
    "Gnx = nx.from_pandas_edgelist(edgelist, edge_attr=\"label\")"
   ]
  },
  {
   "cell_type": "code",
   "execution_count": 5,
   "metadata": {},
   "outputs": [],
   "source": [
    "nx.set_node_attributes(Gnx, \"paper\", \"label\")"
   ]
  },
  {
   "cell_type": "markdown",
   "metadata": {},
   "source": [
    "Load the features and subject for the nodes"
   ]
  },
  {
   "cell_type": "code",
   "execution_count": 6,
   "metadata": {},
   "outputs": [],
   "source": [
    "feature_names = [\"w_{}\".format(ii) for ii in range(1433)]\n",
    "column_names =  feature_names + [\"subject\"]\n",
    "node_data = pd.read_csv(os.path.join(data_dir, \"cora.content\"), sep='\\t', header=None, names=column_names)"
   ]
  },
  {
   "cell_type": "markdown",
   "metadata": {},
   "source": [
    "We aim to train a graph-ML model that will predict the \"subject\" attribute on the nodes. These subjects are one of 7 categories:"
   ]
  },
  {
   "cell_type": "code",
   "execution_count": 7,
   "metadata": {},
   "outputs": [
    {
     "data": {
      "text/plain": [
       "{'Case_Based',\n",
       " 'Genetic_Algorithms',\n",
       " 'Neural_Networks',\n",
       " 'Probabilistic_Methods',\n",
       " 'Reinforcement_Learning',\n",
       " 'Rule_Learning',\n",
       " 'Theory'}"
      ]
     },
     "execution_count": 7,
     "metadata": {},
     "output_type": "execute_result"
    }
   ],
   "source": [
    "set(node_data[\"subject\"])"
   ]
  },
  {
   "cell_type": "markdown",
   "metadata": {},
   "source": [
    "### Splitting the data"
   ]
  },
  {
   "cell_type": "markdown",
   "metadata": {},
   "source": [
    "For machine learning we want to take a subset of the nodes for training, and use the rest for validation and testing. We'll use scikit-learn again to do this.\n",
    "\n",
    "Here we're taking 1000 node labels for training, 500 for validation, and the rest for testing."
   ]
  },
  {
   "cell_type": "code",
   "execution_count": 8,
   "metadata": {},
   "outputs": [],
   "source": [
    "train_data, test_data = model_selection.train_test_split(\n",
    "    node_data, train_size=1000, test_size=None, stratify=node_data['subject']\n",
    ")\n",
    "val_data, test_data = model_selection.train_test_split(\n",
    "    test_data, train_size=500, test_size=None, stratify=test_data['subject']\n",
    ")"
   ]
  },
  {
   "cell_type": "markdown",
   "metadata": {},
   "source": [
    "Note using stratified sampling gives the following counts:"
   ]
  },
  {
   "cell_type": "code",
   "execution_count": 9,
   "metadata": {},
   "outputs": [
    {
     "data": {
      "text/plain": [
       "Counter({'Reinforcement_Learning': 80,\n",
       "         'Genetic_Algorithms': 154,\n",
       "         'Theory': 130,\n",
       "         'Rule_Learning': 67,\n",
       "         'Case_Based': 110,\n",
       "         'Neural_Networks': 302,\n",
       "         'Probabilistic_Methods': 157})"
      ]
     },
     "execution_count": 9,
     "metadata": {},
     "output_type": "execute_result"
    }
   ],
   "source": [
    "from collections import Counter\n",
    "Counter(train_data['subject'])"
   ]
  },
  {
   "cell_type": "markdown",
   "metadata": {},
   "source": [
    "The training set has class imbalance that might need to be compensated, e.g., via using a weighted cross-entropy loss in model training, with class weights inversely proportional to class support. However, we will ignore the class imbalance in this example, for simplicity."
   ]
  },
  {
   "cell_type": "markdown",
   "metadata": {},
   "source": [
    "### Converting to numeric arrays"
   ]
  },
  {
   "cell_type": "markdown",
   "metadata": {},
   "source": [
    "For our categorical target, we will use one-hot vectors that will be fed into a soft-max Keras layer during training. To do this conversion ..."
   ]
  },
  {
   "cell_type": "code",
   "execution_count": 10,
   "metadata": {},
   "outputs": [],
   "source": [
    "target_encoding = feature_extraction.DictVectorizer(sparse=False)\n",
    "\n",
    "train_targets = target_encoding.fit_transform(train_data[[\"subject\"]].to_dict('records'))\n",
    "val_targets = target_encoding.transform(val_data[[\"subject\"]].to_dict('records'))\n",
    "test_targets = target_encoding.transform(test_data[[\"subject\"]].to_dict('records'))"
   ]
  },
  {
   "cell_type": "markdown",
   "metadata": {},
   "source": [
    "We now do the same for the node attributes we want to use to predict the subject. These are the feature vectors that the Keras model will use as input. The CORA dataset contains attributes 'w_x' that correspond to words found in that publication. If a word occurs more than once in a publication the relevant attribute will be set to one, otherwise it will be zero."
   ]
  },
  {
   "cell_type": "code",
   "execution_count": 11,
   "metadata": {},
   "outputs": [],
   "source": [
    "node_features = node_data[feature_names]"
   ]
  },
  {
   "cell_type": "markdown",
   "metadata": {},
   "source": [
    "## Creating the PPNP model in Keras"
   ]
  },
  {
   "cell_type": "markdown",
   "metadata": {},
   "source": [
    "Now create a StellarGraph object from the NetworkX graph and the node features and targets. It is StellarGraph objects that we use in this library to perform machine learning tasks on."
   ]
  },
  {
   "cell_type": "code",
   "execution_count": 12,
   "metadata": {},
   "outputs": [],
   "source": [
    "G = sg.StellarGraph(Gnx, node_features=node_features)"
   ]
  },
  {
   "cell_type": "code",
   "execution_count": 13,
   "metadata": {},
   "outputs": [
    {
     "name": "stdout",
     "output_type": "stream",
     "text": [
      "StellarGraph: Undirected multigraph\n",
      " Nodes: 2708, Edges: 5278\n",
      "\n",
      " Node types:\n",
      "  paper: [2708]\n",
      "    Edge types: paper-cites->paper\n",
      "\n",
      " Edge types:\n",
      "    paper-cites->paper: [5278]\n",
      "\n"
     ]
    }
   ],
   "source": [
    "print(G.info())"
   ]
  },
  {
   "cell_type": "markdown",
   "metadata": {},
   "source": [
    "To feed data from the graph to the Keras model we need a generator. Since PPNP is a full-batch model, we use the `FullBatchNodeGenerator` class to feed node features and the normalized graph Laplacian matrix to the model.\n",
    "\n",
    "Specifying the `method='gcn'` argument to the `FullBatchNodeGenerator` will pre-process the adjacency matrix and supply the normalized graph Laplacian matrix to the model."
   ]
  },
  {
   "cell_type": "code",
   "execution_count": 14,
   "metadata": {},
   "outputs": [
    {
     "name": "stderr",
     "output_type": "stream",
     "text": [
      "/Users/kieranricardo/anaconda3/envs/stellar-env/lib/python3.6/site-packages/scipy/sparse/linalg/dsolve/linsolve.py:296: SparseEfficiencyWarning: splu requires CSC matrix format\n",
      "  warn('splu requires CSC matrix format', SparseEfficiencyWarning)\n",
      "/Users/kieranricardo/anaconda3/envs/stellar-env/lib/python3.6/site-packages/scipy/sparse/linalg/dsolve/linsolve.py:203: SparseEfficiencyWarning: spsolve is more efficient when sparse b is in the CSC matrix format\n",
      "  'is in the CSC matrix format', SparseEfficiencyWarning)\n"
     ]
    }
   ],
   "source": [
    "generator = FullBatchNodeGenerator(G, method=\"ppnp\", sparse=False)"
   ]
  },
  {
   "cell_type": "markdown",
   "metadata": {},
   "source": [
    "For training we map only the training nodes returned from our splitter and the target values."
   ]
  },
  {
   "cell_type": "code",
   "execution_count": 15,
   "metadata": {},
   "outputs": [],
   "source": [
    "train_gen = generator.flow(train_data.index, train_targets)"
   ]
  },
  {
   "cell_type": "markdown",
   "metadata": {},
   "source": [
    "Now we can specify our machine learning model, we need a few more parameters for this:\n",
    "\n",
    " * the `layer_sizes` is a list of hidden feature sizes of each full fully connected layer in the model. In this example we use three fully connected layers with 64,64, and 7 hidden node features at each layer. \n",
    " * `activations` is a list of activations applied to each layer's output\n",
    " * `dropout=0.5` specifies a 50% dropout at each layer. \n",
    " \n",
    " #### Note that the size of the final fully connected layer must be equal to the number of classes you are trying to predict.\n"
   ]
  },
  {
   "cell_type": "markdown",
   "metadata": {},
   "source": [
    "We create a PPNP model as follows:"
   ]
  },
  {
   "cell_type": "code",
   "execution_count": 16,
   "metadata": {},
   "outputs": [
    {
     "name": "stdout",
     "output_type": "stream",
     "text": [
      "WARNING:tensorflow:From /Users/kieranricardo/anaconda3/envs/stellar-env/lib/python3.6/site-packages/tensorflow/python/ops/init_ops.py:1251: calling VarianceScaling.__init__ (from tensorflow.python.ops.init_ops) with dtype is deprecated and will be removed in a future version.\n",
      "Instructions for updating:\n",
      "Call initializer instance with the dtype argument instead of passing it to the constructor\n",
      "WARNING:tensorflow:Entity <bound method PPNPPropagationLayer.call of <stellargraph.layer.ppnp.PPNPPropagationLayer object at 0x141b36e80>> could not be transformed and will be executed as-is. Please report this to the AutgoGraph team. When filing the bug, set the verbosity to 10 (on Linux, `export AUTOGRAPH_VERBOSITY=10`) and attach the full output. Cause: converting <bound method PPNPPropagationLayer.call of <stellargraph.layer.ppnp.PPNPPropagationLayer object at 0x141b36e80>>: AttributeError: module 'gast' has no attribute 'Num'\n",
      "WARNING: Entity <bound method PPNPPropagationLayer.call of <stellargraph.layer.ppnp.PPNPPropagationLayer object at 0x141b36e80>> could not be transformed and will be executed as-is. Please report this to the AutgoGraph team. When filing the bug, set the verbosity to 10 (on Linux, `export AUTOGRAPH_VERBOSITY=10`) and attach the full output. Cause: converting <bound method PPNPPropagationLayer.call of <stellargraph.layer.ppnp.PPNPPropagationLayer object at 0x141b36e80>>: AttributeError: module 'gast' has no attribute 'Num'\n"
     ]
    }
   ],
   "source": [
    "ppnp = PPNP([64, 64, train_targets.shape[-1]], ['relu', 'relu', 'relu'], \n",
    "             generator, transport_probability=0.1, \n",
    "              dropout=0.5, kernel_regularizer=keras.regularizers.l2(0.001))\n",
    "\n",
    "x_inp, x_out = ppnp.node_model()\n",
    "predictions = keras.layers.Softmax()(x_out)"
   ]
  },
  {
   "cell_type": "markdown",
   "metadata": {},
   "source": [
    "### Training the model"
   ]
  },
  {
   "cell_type": "markdown",
   "metadata": {},
   "source": [
    "Now let's create the actual Keras model with the input tensors `x_inp` and output tensors being the predictions `predictions` from the final dense layer"
   ]
  },
  {
   "cell_type": "code",
   "execution_count": 17,
   "metadata": {},
   "outputs": [],
   "source": [
    "model = Model(inputs=x_inp, outputs=predictions)\n",
    "model.compile(\n",
    "    optimizer=optimizers.Adam(lr=0.01),\n",
    "    loss=losses.categorical_crossentropy,\n",
    "    metrics=[\"acc\"],\n",
    ")"
   ]
  },
  {
   "cell_type": "markdown",
   "metadata": {},
   "source": [
    "Train the model, keeping track of its loss and accuracy on the training set, and its generalisation performance on the validation set (we need to create another generator over the validation data for this)"
   ]
  },
  {
   "cell_type": "code",
   "execution_count": 18,
   "metadata": {},
   "outputs": [],
   "source": [
    "val_gen = generator.flow(val_data.index, val_targets)"
   ]
  },
  {
   "cell_type": "markdown",
   "metadata": {},
   "source": [
    "Create callbacks for early stopping (if validation accuracy stops improving) and best model checkpoint saving:"
   ]
  },
  {
   "cell_type": "code",
   "execution_count": 19,
   "metadata": {},
   "outputs": [],
   "source": [
    "if not os.path.isdir(\"logs\"):\n",
    "    os.makedirs(\"logs\")"
   ]
  },
  {
   "cell_type": "code",
   "execution_count": 20,
   "metadata": {},
   "outputs": [],
   "source": [
    "es_callback = EarlyStopping(monitor=\"val_acc\", patience=50)  # patience is the number of epochs to wait before early stopping in case of no further improvement\n",
    "\n",
    "mc_callback = ModelCheckpoint(\n",
    "    \"logs/best_ppnp_model.h5\",\n",
    "    monitor=\"val_acc\",\n",
    "    save_best_only=True,\n",
    "    save_weights_only=True,\n",
    ")"
   ]
  },
  {
   "cell_type": "markdown",
   "metadata": {},
   "source": [
    "Train the model"
   ]
  },
  {
   "cell_type": "code",
   "execution_count": 21,
   "metadata": {},
   "outputs": [
    {
     "name": "stdout",
     "output_type": "stream",
     "text": [
      "Epoch 1/80\n",
      "1/1 - 1s - loss: 2.1179 - acc: 0.2270 - val_loss: 2.0451 - val_acc: 0.3020\n",
      "Epoch 2/80\n",
      "1/1 - 0s - loss: 2.0419 - acc: 0.2690 - val_loss: 1.9692 - val_acc: 0.3020\n",
      "Epoch 3/80\n",
      "1/1 - 0s - loss: 1.9673 - acc: 0.3090 - val_loss: 1.9042 - val_acc: 0.3020\n",
      "Epoch 4/80\n",
      "1/1 - 0s - loss: 1.9384 - acc: 0.2960 - val_loss: 1.8373 - val_acc: 0.3040\n",
      "Epoch 5/80\n",
      "1/1 - 0s - loss: 1.8722 - acc: 0.2960 - val_loss: 1.7776 - val_acc: 0.4040\n",
      "Epoch 6/80\n",
      "1/1 - 0s - loss: 1.8265 - acc: 0.3580 - val_loss: 1.7210 - val_acc: 0.4920\n",
      "Epoch 7/80\n",
      "1/1 - 0s - loss: 1.7963 - acc: 0.3930 - val_loss: 1.6471 - val_acc: 0.5940\n",
      "Epoch 8/80\n",
      "1/1 - 0s - loss: 1.7080 - acc: 0.4490 - val_loss: 1.5453 - val_acc: 0.6340\n",
      "Epoch 9/80\n",
      "1/1 - 0s - loss: 1.6592 - acc: 0.4780 - val_loss: 1.4351 - val_acc: 0.6560\n",
      "Epoch 10/80\n",
      "1/1 - 0s - loss: 1.5579 - acc: 0.5300 - val_loss: 1.3306 - val_acc: 0.6640\n",
      "Epoch 11/80\n",
      "1/1 - 0s - loss: 1.5153 - acc: 0.5370 - val_loss: 1.2419 - val_acc: 0.6800\n",
      "Epoch 12/80\n",
      "1/1 - 0s - loss: 1.4467 - acc: 0.5900 - val_loss: 1.1726 - val_acc: 0.6960\n",
      "Epoch 13/80\n",
      "1/1 - 0s - loss: 1.4089 - acc: 0.6000 - val_loss: 1.1229 - val_acc: 0.7140\n",
      "Epoch 14/80\n",
      "1/1 - 0s - loss: 1.3033 - acc: 0.6460 - val_loss: 1.0896 - val_acc: 0.7500\n",
      "Epoch 15/80\n",
      "1/1 - 0s - loss: 1.3077 - acc: 0.6490 - val_loss: 1.0585 - val_acc: 0.7720\n",
      "Epoch 16/80\n",
      "1/1 - 0s - loss: 1.2599 - acc: 0.6620 - val_loss: 1.0310 - val_acc: 0.7740\n",
      "Epoch 17/80\n",
      "1/1 - 0s - loss: 1.2991 - acc: 0.6490 - val_loss: 1.0133 - val_acc: 0.7820\n",
      "Epoch 18/80\n",
      "1/1 - 0s - loss: 1.2870 - acc: 0.6590 - val_loss: 0.9965 - val_acc: 0.7740\n",
      "Epoch 19/80\n",
      "1/1 - 0s - loss: 1.2073 - acc: 0.7080 - val_loss: 0.9772 - val_acc: 0.7740\n",
      "Epoch 20/80\n",
      "1/1 - 0s - loss: 1.2065 - acc: 0.6860 - val_loss: 0.9611 - val_acc: 0.7780\n",
      "Epoch 21/80\n",
      "1/1 - 0s - loss: 1.1671 - acc: 0.7090 - val_loss: 0.9514 - val_acc: 0.7760\n",
      "Epoch 22/80\n",
      "1/1 - 0s - loss: 1.1325 - acc: 0.7070 - val_loss: 0.9406 - val_acc: 0.7780\n",
      "Epoch 23/80\n",
      "1/1 - 0s - loss: 1.1461 - acc: 0.7140 - val_loss: 0.9258 - val_acc: 0.7920\n",
      "Epoch 24/80\n",
      "1/1 - 0s - loss: 1.0940 - acc: 0.7340 - val_loss: 0.9103 - val_acc: 0.7980\n",
      "Epoch 25/80\n",
      "1/1 - 0s - loss: 1.0862 - acc: 0.7290 - val_loss: 0.8951 - val_acc: 0.7900\n",
      "Epoch 26/80\n",
      "1/1 - 0s - loss: 1.1336 - acc: 0.7130 - val_loss: 0.8886 - val_acc: 0.7880\n",
      "Epoch 27/80\n",
      "1/1 - 0s - loss: 1.0852 - acc: 0.7270 - val_loss: 0.8895 - val_acc: 0.7860\n",
      "Epoch 28/80\n",
      "1/1 - 0s - loss: 1.0554 - acc: 0.7310 - val_loss: 0.8894 - val_acc: 0.7800\n",
      "Epoch 29/80\n",
      "1/1 - 0s - loss: 1.0949 - acc: 0.7320 - val_loss: 0.8914 - val_acc: 0.7800\n",
      "Epoch 30/80\n",
      "1/1 - 0s - loss: 1.0914 - acc: 0.7350 - val_loss: 0.8780 - val_acc: 0.7920\n",
      "Epoch 31/80\n",
      "1/1 - 0s - loss: 1.0535 - acc: 0.7570 - val_loss: 0.8658 - val_acc: 0.7920\n",
      "Epoch 32/80\n",
      "1/1 - 0s - loss: 1.0476 - acc: 0.7450 - val_loss: 0.8523 - val_acc: 0.8100\n",
      "Epoch 33/80\n",
      "1/1 - 0s - loss: 0.9946 - acc: 0.7620 - val_loss: 0.8349 - val_acc: 0.8320\n",
      "Epoch 34/80\n",
      "1/1 - 0s - loss: 1.0142 - acc: 0.7620 - val_loss: 0.8225 - val_acc: 0.8440\n",
      "Epoch 35/80\n",
      "1/1 - 0s - loss: 1.0104 - acc: 0.7810 - val_loss: 0.8132 - val_acc: 0.8480\n",
      "Epoch 36/80\n",
      "1/1 - 0s - loss: 1.0035 - acc: 0.7700 - val_loss: 0.8038 - val_acc: 0.8400\n",
      "Epoch 37/80\n",
      "1/1 - 0s - loss: 0.9849 - acc: 0.7670 - val_loss: 0.7966 - val_acc: 0.8400\n",
      "Epoch 38/80\n",
      "1/1 - 0s - loss: 0.9862 - acc: 0.7730 - val_loss: 0.7949 - val_acc: 0.8400\n",
      "Epoch 39/80\n",
      "1/1 - 0s - loss: 0.9614 - acc: 0.7770 - val_loss: 0.7915 - val_acc: 0.8380\n",
      "Epoch 40/80\n",
      "1/1 - 0s - loss: 0.9636 - acc: 0.7820 - val_loss: 0.7836 - val_acc: 0.8360\n",
      "Epoch 41/80\n",
      "1/1 - 0s - loss: 0.9591 - acc: 0.7720 - val_loss: 0.7695 - val_acc: 0.8480\n",
      "Epoch 42/80\n",
      "1/1 - 0s - loss: 0.9292 - acc: 0.7940 - val_loss: 0.7604 - val_acc: 0.8440\n",
      "Epoch 43/80\n",
      "1/1 - 0s - loss: 0.9585 - acc: 0.7700 - val_loss: 0.7558 - val_acc: 0.8420\n",
      "Epoch 44/80\n",
      "1/1 - 0s - loss: 0.9506 - acc: 0.7900 - val_loss: 0.7492 - val_acc: 0.8420\n",
      "Epoch 45/80\n",
      "1/1 - 0s - loss: 0.9222 - acc: 0.7910 - val_loss: 0.7450 - val_acc: 0.8440\n",
      "Epoch 46/80\n",
      "1/1 - 0s - loss: 0.9457 - acc: 0.7930 - val_loss: 0.7399 - val_acc: 0.8440\n",
      "Epoch 47/80\n",
      "1/1 - 0s - loss: 0.9041 - acc: 0.8040 - val_loss: 0.7349 - val_acc: 0.8480\n",
      "Epoch 48/80\n",
      "1/1 - 0s - loss: 0.8847 - acc: 0.7970 - val_loss: 0.7306 - val_acc: 0.8540\n",
      "Epoch 49/80\n",
      "1/1 - 0s - loss: 0.9160 - acc: 0.8150 - val_loss: 0.7270 - val_acc: 0.8500\n",
      "Epoch 50/80\n",
      "1/1 - 0s - loss: 0.9526 - acc: 0.7760 - val_loss: 0.7219 - val_acc: 0.8540\n",
      "Epoch 51/80\n",
      "1/1 - 0s - loss: 0.9308 - acc: 0.8010 - val_loss: 0.7188 - val_acc: 0.8560\n",
      "Epoch 52/80\n",
      "1/1 - 0s - loss: 0.8949 - acc: 0.7930 - val_loss: 0.7168 - val_acc: 0.8580\n",
      "Epoch 53/80\n",
      "1/1 - 0s - loss: 0.9037 - acc: 0.8010 - val_loss: 0.7191 - val_acc: 0.8580\n",
      "Epoch 54/80\n",
      "1/1 - 0s - loss: 0.9607 - acc: 0.7920 - val_loss: 0.7176 - val_acc: 0.8660\n",
      "Epoch 55/80\n",
      "1/1 - 0s - loss: 0.8665 - acc: 0.8220 - val_loss: 0.7144 - val_acc: 0.8600\n",
      "Epoch 56/80\n",
      "1/1 - 0s - loss: 0.8427 - acc: 0.8160 - val_loss: 0.7129 - val_acc: 0.8780\n",
      "Epoch 57/80\n",
      "1/1 - 0s - loss: 0.8971 - acc: 0.8160 - val_loss: 0.7088 - val_acc: 0.8840\n",
      "Epoch 58/80\n",
      "1/1 - 0s - loss: 0.8590 - acc: 0.8110 - val_loss: 0.7012 - val_acc: 0.8840\n",
      "Epoch 59/80\n",
      "1/1 - 0s - loss: 0.9167 - acc: 0.8000 - val_loss: 0.6949 - val_acc: 0.8900\n",
      "Epoch 60/80\n",
      "1/1 - 0s - loss: 0.8762 - acc: 0.8050 - val_loss: 0.6946 - val_acc: 0.8840\n",
      "Epoch 61/80\n",
      "1/1 - 0s - loss: 0.8995 - acc: 0.8040 - val_loss: 0.6944 - val_acc: 0.8840\n",
      "Epoch 62/80\n",
      "1/1 - 0s - loss: 0.8657 - acc: 0.8170 - val_loss: 0.6934 - val_acc: 0.8880\n",
      "Epoch 63/80\n",
      "1/1 - 0s - loss: 0.8595 - acc: 0.8300 - val_loss: 0.6941 - val_acc: 0.8860\n",
      "Epoch 64/80\n",
      "1/1 - 0s - loss: 0.8480 - acc: 0.8220 - val_loss: 0.6935 - val_acc: 0.8880\n",
      "Epoch 65/80\n",
      "1/1 - 0s - loss: 0.8751 - acc: 0.8270 - val_loss: 0.6916 - val_acc: 0.8880\n",
      "Epoch 66/80\n",
      "1/1 - 0s - loss: 0.8597 - acc: 0.8060 - val_loss: 0.6861 - val_acc: 0.8880\n",
      "Epoch 67/80\n",
      "1/1 - 0s - loss: 0.8040 - acc: 0.8470 - val_loss: 0.6816 - val_acc: 0.8920\n",
      "Epoch 68/80\n",
      "1/1 - 0s - loss: 0.8545 - acc: 0.8270 - val_loss: 0.6738 - val_acc: 0.8960\n",
      "Epoch 69/80\n",
      "1/1 - 0s - loss: 0.8258 - acc: 0.8390 - val_loss: 0.6716 - val_acc: 0.9020\n",
      "Epoch 70/80\n",
      "1/1 - 0s - loss: 0.7908 - acc: 0.8450 - val_loss: 0.6706 - val_acc: 0.9020\n",
      "Epoch 71/80\n",
      "1/1 - 0s - loss: 0.8510 - acc: 0.8220 - val_loss: 0.6696 - val_acc: 0.9020\n",
      "Epoch 72/80\n",
      "1/1 - 0s - loss: 0.7849 - acc: 0.8540 - val_loss: 0.6694 - val_acc: 0.9000\n",
      "Epoch 73/80\n",
      "1/1 - 0s - loss: 0.8156 - acc: 0.8300 - val_loss: 0.6675 - val_acc: 0.8960\n",
      "Epoch 74/80\n",
      "1/1 - 0s - loss: 0.8615 - acc: 0.8240 - val_loss: 0.6609 - val_acc: 0.8920\n",
      "Epoch 75/80\n",
      "1/1 - 0s - loss: 0.8814 - acc: 0.8130 - val_loss: 0.6578 - val_acc: 0.8940\n",
      "Epoch 76/80\n",
      "1/1 - 0s - loss: 0.8180 - acc: 0.8350 - val_loss: 0.6576 - val_acc: 0.8980\n",
      "Epoch 77/80\n",
      "1/1 - 0s - loss: 0.7714 - acc: 0.8490 - val_loss: 0.6577 - val_acc: 0.8940\n",
      "Epoch 78/80\n",
      "1/1 - 0s - loss: 0.8293 - acc: 0.8380 - val_loss: 0.6584 - val_acc: 0.8960\n",
      "Epoch 79/80\n",
      "1/1 - 0s - loss: 0.8557 - acc: 0.8330 - val_loss: 0.6582 - val_acc: 0.8940\n",
      "Epoch 80/80\n",
      "1/1 - 0s - loss: 0.8380 - acc: 0.8430 - val_loss: 0.6646 - val_acc: 0.8980\n"
     ]
    }
   ],
   "source": [
    "history = model.fit_generator(\n",
    "    train_gen,\n",
    "    epochs=80,\n",
    "    validation_data=val_gen,\n",
    "    verbose=2,\n",
    "    shuffle=False,  # this should be False, since shuffling data means shuffling the whole graph\n",
    "    callbacks=[es_callback, mc_callback],\n",
    ")"
   ]
  },
  {
   "cell_type": "markdown",
   "metadata": {},
   "source": [
    "Plot the training history:"
   ]
  },
  {
   "cell_type": "code",
   "execution_count": 22,
   "metadata": {},
   "outputs": [],
   "source": [
    "import matplotlib.pyplot as plt\n",
    "%matplotlib inline\n",
    "\n",
    "def remove_prefix(text, prefix):\n",
    "    return text[text.startswith(prefix) and len(prefix):]\n",
    "\n",
    "def plot_history(history):\n",
    "    metrics = sorted(set([remove_prefix(m, \"val_\") for m in list(history.history.keys())]))\n",
    "    for m in metrics:\n",
    "        # summarize history for metric m\n",
    "        plt.plot(history.history[m])\n",
    "        plt.plot(history.history['val_' + m])\n",
    "        plt.title(m)\n",
    "        plt.ylabel(m)\n",
    "        plt.xlabel('epoch')\n",
    "        plt.legend(['train', 'validation'], loc='best')\n",
    "        plt.show()"
   ]
  },
  {
   "cell_type": "code",
   "execution_count": 23,
   "metadata": {},
   "outputs": [
    {
     "data": {
      "image/png": "[encoded data removed]",
      "text/plain": [
       "<Figure size 432x288 with 1 Axes>"
      ]
     },
     "metadata": {
      "needs_background": "light"
     },
     "output_type": "display_data"
    },
    {
     "data": {
      "image/png": "[encoded data removed]",
      "text/plain": [
       "<Figure size 432x288 with 1 Axes>"
      ]
     },
     "metadata": {
      "needs_background": "light"
     },
     "output_type": "display_data"
    }
   ],
   "source": [
    "plot_history(history)"
   ]
  },
  {
   "cell_type": "markdown",
   "metadata": {},
   "source": [
    "Reload the saved weights of the best model found during the training (according to validation accuracy)"
   ]
  },
  {
   "cell_type": "code",
   "execution_count": 24,
   "metadata": {},
   "outputs": [],
   "source": [
    "model.load_weights(\"logs/best_ppnp_model.h5\")"
   ]
  },
  {
   "cell_type": "markdown",
   "metadata": {},
   "source": [
    "Evaluate the best model on the test set"
   ]
  },
  {
   "cell_type": "code",
   "execution_count": 25,
   "metadata": {},
   "outputs": [],
   "source": [
    "test_gen = generator.flow(test_data.index, test_targets)"
   ]
  },
  {
   "cell_type": "code",
   "execution_count": 26,
   "metadata": {},
   "outputs": [
    {
     "name": "stdout",
     "output_type": "stream",
     "text": [
      "\n",
      "Test Set Metrics:\n",
      "\tloss: 0.7691\n",
      "\tacc: 0.8642\n"
     ]
    }
   ],
   "source": [
    "test_metrics = model.evaluate_generator(test_gen)\n",
    "print(\"\\nTest Set Metrics:\")\n",
    "for name, val in zip(model.metrics_names, test_metrics):\n",
    "    print(\"\\t{}: {:0.4f}\".format(name, val))"
   ]
  },
  {
   "cell_type": "markdown",
   "metadata": {},
   "source": [
    "## Using the Approximate PPNP Model\n",
    "\n",
    "Lets repeat the training and testing steps with the APPNP model using the same dataset. The downside of the PPNP is that you have to invert the adjacency matrix - which is time inneficient for large graphs - and store that invert matrix - which is space innefficient! The approximate model avoids this issue by using a clever mathematical trick."
   ]
  },
  {
   "cell_type": "code",
   "execution_count": 27,
   "metadata": {},
   "outputs": [
    {
     "name": "stdout",
     "output_type": "stream",
     "text": [
      "Using GCN (local pooling) filters...\n",
      "WARNING:tensorflow:Entity <bound method SqueezedSparseConversion.call of <stellargraph.layer.misc.SqueezedSparseConversion object at 0x143214c88>> could not be transformed and will be executed as-is. Please report this to the AutgoGraph team. When filing the bug, set the verbosity to 10 (on Linux, `export AUTOGRAPH_VERBOSITY=10`) and attach the full output. Cause: converting <bound method SqueezedSparseConversion.call of <stellargraph.layer.misc.SqueezedSparseConversion object at 0x143214c88>>: AttributeError: module 'gast' has no attribute 'Num'\n",
      "WARNING: Entity <bound method SqueezedSparseConversion.call of <stellargraph.layer.misc.SqueezedSparseConversion object at 0x143214c88>> could not be transformed and will be executed as-is. Please report this to the AutgoGraph team. When filing the bug, set the verbosity to 10 (on Linux, `export AUTOGRAPH_VERBOSITY=10`) and attach the full output. Cause: converting <bound method SqueezedSparseConversion.call of <stellargraph.layer.misc.SqueezedSparseConversion object at 0x143214c88>>: AttributeError: module 'gast' has no attribute 'Num'\n",
      "WARNING:tensorflow:Entity <bound method APPNPPropagationLayer.call of <stellargraph.layer.appnp.APPNPPropagationLayer object at 0x143051860>> could not be transformed and will be executed as-is. Please report this to the AutgoGraph team. When filing the bug, set the verbosity to 10 (on Linux, `export AUTOGRAPH_VERBOSITY=10`) and attach the full output. Cause: converting <bound method APPNPPropagationLayer.call of <stellargraph.layer.appnp.APPNPPropagationLayer object at 0x143051860>>: AttributeError: module 'gast' has no attribute 'Num'\n",
      "WARNING: Entity <bound method APPNPPropagationLayer.call of <stellargraph.layer.appnp.APPNPPropagationLayer object at 0x143051860>> could not be transformed and will be executed as-is. Please report this to the AutgoGraph team. When filing the bug, set the verbosity to 10 (on Linux, `export AUTOGRAPH_VERBOSITY=10`) and attach the full output. Cause: converting <bound method APPNPPropagationLayer.call of <stellargraph.layer.appnp.APPNPPropagationLayer object at 0x143051860>>: AttributeError: module 'gast' has no attribute 'Num'\n",
      "WARNING:tensorflow:Entity <bound method APPNPPropagationLayer.call of <stellargraph.layer.appnp.APPNPPropagationLayer object at 0x143051940>> could not be transformed and will be executed as-is. Please report this to the AutgoGraph team. When filing the bug, set the verbosity to 10 (on Linux, `export AUTOGRAPH_VERBOSITY=10`) and attach the full output. Cause: converting <bound method APPNPPropagationLayer.call of <stellargraph.layer.appnp.APPNPPropagationLayer object at 0x143051940>>: AttributeError: module 'gast' has no attribute 'Num'\n",
      "WARNING: Entity <bound method APPNPPropagationLayer.call of <stellargraph.layer.appnp.APPNPPropagationLayer object at 0x143051940>> could not be transformed and will be executed as-is. Please report this to the AutgoGraph team. When filing the bug, set the verbosity to 10 (on Linux, `export AUTOGRAPH_VERBOSITY=10`) and attach the full output. Cause: converting <bound method APPNPPropagationLayer.call of <stellargraph.layer.appnp.APPNPPropagationLayer object at 0x143051940>>: AttributeError: module 'gast' has no attribute 'Num'\n",
      "WARNING:tensorflow:Entity <bound method APPNPPropagationLayer.call of <stellargraph.layer.appnp.APPNPPropagationLayer object at 0x143051a20>> could not be transformed and will be executed as-is. Please report this to the AutgoGraph team. When filing the bug, set the verbosity to 10 (on Linux, `export AUTOGRAPH_VERBOSITY=10`) and attach the full output. Cause: converting <bound method APPNPPropagationLayer.call of <stellargraph.layer.appnp.APPNPPropagationLayer object at 0x143051a20>>: AttributeError: module 'gast' has no attribute 'Num'\n",
      "WARNING: Entity <bound method APPNPPropagationLayer.call of <stellargraph.layer.appnp.APPNPPropagationLayer object at 0x143051a20>> could not be transformed and will be executed as-is. Please report this to the AutgoGraph team. When filing the bug, set the verbosity to 10 (on Linux, `export AUTOGRAPH_VERBOSITY=10`) and attach the full output. Cause: converting <bound method APPNPPropagationLayer.call of <stellargraph.layer.appnp.APPNPPropagationLayer object at 0x143051a20>>: AttributeError: module 'gast' has no attribute 'Num'\n",
      "WARNING:tensorflow:Entity <bound method APPNPPropagationLayer.call of <stellargraph.layer.appnp.APPNPPropagationLayer object at 0x143051b00>> could not be transformed and will be executed as-is. Please report this to the AutgoGraph team. When filing the bug, set the verbosity to 10 (on Linux, `export AUTOGRAPH_VERBOSITY=10`) and attach the full output. Cause: converting <bound method APPNPPropagationLayer.call of <stellargraph.layer.appnp.APPNPPropagationLayer object at 0x143051b00>>: AttributeError: module 'gast' has no attribute 'Num'\n",
      "WARNING: Entity <bound method APPNPPropagationLayer.call of <stellargraph.layer.appnp.APPNPPropagationLayer object at 0x143051b00>> could not be transformed and will be executed as-is. Please report this to the AutgoGraph team. When filing the bug, set the verbosity to 10 (on Linux, `export AUTOGRAPH_VERBOSITY=10`) and attach the full output. Cause: converting <bound method APPNPPropagationLayer.call of <stellargraph.layer.appnp.APPNPPropagationLayer object at 0x143051b00>>: AttributeError: module 'gast' has no attribute 'Num'\n",
      "WARNING:tensorflow:Entity <bound method APPNPPropagationLayer.call of <stellargraph.layer.appnp.APPNPPropagationLayer object at 0x143051be0>> could not be transformed and will be executed as-is. Please report this to the AutgoGraph team. When filing the bug, set the verbosity to 10 (on Linux, `export AUTOGRAPH_VERBOSITY=10`) and attach the full output. Cause: converting <bound method APPNPPropagationLayer.call of <stellargraph.layer.appnp.APPNPPropagationLayer object at 0x143051be0>>: AttributeError: module 'gast' has no attribute 'Num'\n",
      "WARNING: Entity <bound method APPNPPropagationLayer.call of <stellargraph.layer.appnp.APPNPPropagationLayer object at 0x143051be0>> could not be transformed and will be executed as-is. Please report this to the AutgoGraph team. When filing the bug, set the verbosity to 10 (on Linux, `export AUTOGRAPH_VERBOSITY=10`) and attach the full output. Cause: converting <bound method APPNPPropagationLayer.call of <stellargraph.layer.appnp.APPNPPropagationLayer object at 0x143051be0>>: AttributeError: module 'gast' has no attribute 'Num'\n",
      "WARNING:tensorflow:Entity <bound method APPNPPropagationLayer.call of <stellargraph.layer.appnp.APPNPPropagationLayer object at 0x143051cc0>> could not be transformed and will be executed as-is. Please report this to the AutgoGraph team. When filing the bug, set the verbosity to 10 (on Linux, `export AUTOGRAPH_VERBOSITY=10`) and attach the full output. Cause: converting <bound method APPNPPropagationLayer.call of <stellargraph.layer.appnp.APPNPPropagationLayer object at 0x143051cc0>>: AttributeError: module 'gast' has no attribute 'Num'\n",
      "WARNING: Entity <bound method APPNPPropagationLayer.call of <stellargraph.layer.appnp.APPNPPropagationLayer object at 0x143051cc0>> could not be transformed and will be executed as-is. Please report this to the AutgoGraph team. When filing the bug, set the verbosity to 10 (on Linux, `export AUTOGRAPH_VERBOSITY=10`) and attach the full output. Cause: converting <bound method APPNPPropagationLayer.call of <stellargraph.layer.appnp.APPNPPropagationLayer object at 0x143051cc0>>: AttributeError: module 'gast' has no attribute 'Num'\n",
      "WARNING:tensorflow:Entity <bound method APPNPPropagationLayer.call of <stellargraph.layer.appnp.APPNPPropagationLayer object at 0x143051da0>> could not be transformed and will be executed as-is. Please report this to the AutgoGraph team. When filing the bug, set the verbosity to 10 (on Linux, `export AUTOGRAPH_VERBOSITY=10`) and attach the full output. Cause: converting <bound method APPNPPropagationLayer.call of <stellargraph.layer.appnp.APPNPPropagationLayer object at 0x143051da0>>: AttributeError: module 'gast' has no attribute 'Num'\n",
      "WARNING: Entity <bound method APPNPPropagationLayer.call of <stellargraph.layer.appnp.APPNPPropagationLayer object at 0x143051da0>> could not be transformed and will be executed as-is. Please report this to the AutgoGraph team. When filing the bug, set the verbosity to 10 (on Linux, `export AUTOGRAPH_VERBOSITY=10`) and attach the full output. Cause: converting <bound method APPNPPropagationLayer.call of <stellargraph.layer.appnp.APPNPPropagationLayer object at 0x143051da0>>: AttributeError: module 'gast' has no attribute 'Num'\n",
      "WARNING:tensorflow:Entity <bound method APPNPPropagationLayer.call of <stellargraph.layer.appnp.APPNPPropagationLayer object at 0x143051e80>> could not be transformed and will be executed as-is. Please report this to the AutgoGraph team. When filing the bug, set the verbosity to 10 (on Linux, `export AUTOGRAPH_VERBOSITY=10`) and attach the full output. Cause: converting <bound method APPNPPropagationLayer.call of <stellargraph.layer.appnp.APPNPPropagationLayer object at 0x143051e80>>: AttributeError: module 'gast' has no attribute 'Num'\n"
     ]
    },
    {
     "name": "stdout",
     "output_type": "stream",
     "text": [
      "WARNING: Entity <bound method APPNPPropagationLayer.call of <stellargraph.layer.appnp.APPNPPropagationLayer object at 0x143051e80>> could not be transformed and will be executed as-is. Please report this to the AutgoGraph team. When filing the bug, set the verbosity to 10 (on Linux, `export AUTOGRAPH_VERBOSITY=10`) and attach the full output. Cause: converting <bound method APPNPPropagationLayer.call of <stellargraph.layer.appnp.APPNPPropagationLayer object at 0x143051e80>>: AttributeError: module 'gast' has no attribute 'Num'\n",
      "WARNING:tensorflow:Entity <bound method APPNPPropagationLayer.call of <stellargraph.layer.appnp.APPNPPropagationLayer object at 0x143051f60>> could not be transformed and will be executed as-is. Please report this to the AutgoGraph team. When filing the bug, set the verbosity to 10 (on Linux, `export AUTOGRAPH_VERBOSITY=10`) and attach the full output. Cause: converting <bound method APPNPPropagationLayer.call of <stellargraph.layer.appnp.APPNPPropagationLayer object at 0x143051f60>>: AttributeError: module 'gast' has no attribute 'Num'\n",
      "WARNING: Entity <bound method APPNPPropagationLayer.call of <stellargraph.layer.appnp.APPNPPropagationLayer object at 0x143051f60>> could not be transformed and will be executed as-is. Please report this to the AutgoGraph team. When filing the bug, set the verbosity to 10 (on Linux, `export AUTOGRAPH_VERBOSITY=10`) and attach the full output. Cause: converting <bound method APPNPPropagationLayer.call of <stellargraph.layer.appnp.APPNPPropagationLayer object at 0x143051f60>>: AttributeError: module 'gast' has no attribute 'Num'\n",
      "WARNING:tensorflow:Entity <bound method APPNPPropagationLayer.call of <stellargraph.layer.appnp.APPNPPropagationLayer object at 0x1430510b8>> could not be transformed and will be executed as-is. Please report this to the AutgoGraph team. When filing the bug, set the verbosity to 10 (on Linux, `export AUTOGRAPH_VERBOSITY=10`) and attach the full output. Cause: converting <bound method APPNPPropagationLayer.call of <stellargraph.layer.appnp.APPNPPropagationLayer object at 0x1430510b8>>: AttributeError: module 'gast' has no attribute 'Num'\n",
      "WARNING: Entity <bound method APPNPPropagationLayer.call of <stellargraph.layer.appnp.APPNPPropagationLayer object at 0x1430510b8>> could not be transformed and will be executed as-is. Please report this to the AutgoGraph team. When filing the bug, set the verbosity to 10 (on Linux, `export AUTOGRAPH_VERBOSITY=10`) and attach the full output. Cause: converting <bound method APPNPPropagationLayer.call of <stellargraph.layer.appnp.APPNPPropagationLayer object at 0x1430510b8>>: AttributeError: module 'gast' has no attribute 'Num'\n",
      "Epoch 1/120\n",
      "1/1 - 1s - loss: 2.4944 - acc: 0.1240 - val_loss: 2.0931 - val_acc: 0.1680\n",
      "Epoch 2/120\n",
      "1/1 - 0s - loss: 2.1512 - acc: 0.2090 - val_loss: 1.9981 - val_acc: 0.3020\n",
      "Epoch 3/120\n",
      "1/1 - 0s - loss: 2.1420 - acc: 0.2970 - val_loss: 1.8701 - val_acc: 0.4640\n",
      "Epoch 4/120\n",
      "1/1 - 0s - loss: 1.8490 - acc: 0.4150 - val_loss: 1.9160 - val_acc: 0.5280\n",
      "Epoch 5/120\n",
      "1/1 - 0s - loss: 1.8896 - acc: 0.4010 - val_loss: 1.8810 - val_acc: 0.5640\n",
      "Epoch 6/120\n",
      "1/1 - 0s - loss: 1.8191 - acc: 0.4480 - val_loss: 1.7760 - val_acc: 0.6340\n",
      "Epoch 7/120\n",
      "1/1 - 0s - loss: 1.7135 - acc: 0.5170 - val_loss: 1.5878 - val_acc: 0.7140\n",
      "Epoch 8/120\n",
      "1/1 - 0s - loss: 1.5417 - acc: 0.6290 - val_loss: 1.3680 - val_acc: 0.7500\n",
      "Epoch 9/120\n",
      "1/1 - 0s - loss: 1.4016 - acc: 0.6450 - val_loss: 1.1834 - val_acc: 0.7620\n",
      "Epoch 10/120\n",
      "1/1 - 0s - loss: 1.3020 - acc: 0.6740 - val_loss: 1.0727 - val_acc: 0.7580\n",
      "Epoch 11/120\n",
      "1/1 - 0s - loss: 1.2448 - acc: 0.6850 - val_loss: 1.0248 - val_acc: 0.7700\n",
      "Epoch 12/120\n",
      "1/1 - 0s - loss: 1.1932 - acc: 0.7330 - val_loss: 1.0113 - val_acc: 0.7680\n",
      "Epoch 13/120\n",
      "1/1 - 0s - loss: 1.2370 - acc: 0.7220 - val_loss: 0.9979 - val_acc: 0.7620\n",
      "Epoch 14/120\n",
      "1/1 - 0s - loss: 1.2180 - acc: 0.7210 - val_loss: 0.9730 - val_acc: 0.7700\n",
      "Epoch 15/120\n",
      "1/1 - 0s - loss: 1.1887 - acc: 0.7210 - val_loss: 0.9193 - val_acc: 0.7920\n",
      "Epoch 16/120\n",
      "1/1 - 0s - loss: 1.0834 - acc: 0.7530 - val_loss: 0.8707 - val_acc: 0.8300\n",
      "Epoch 17/120\n",
      "1/1 - 0s - loss: 1.0482 - acc: 0.7860 - val_loss: 0.8699 - val_acc: 0.8340\n",
      "Epoch 18/120\n",
      "1/1 - 0s - loss: 0.9831 - acc: 0.8020 - val_loss: 0.9179 - val_acc: 0.7780\n",
      "Epoch 19/120\n",
      "1/1 - 0s - loss: 1.0750 - acc: 0.7490 - val_loss: 0.8797 - val_acc: 0.8120\n",
      "Epoch 20/120\n",
      "1/1 - 0s - loss: 0.9929 - acc: 0.7850 - val_loss: 0.8342 - val_acc: 0.8440\n",
      "Epoch 21/120\n",
      "1/1 - 0s - loss: 0.9188 - acc: 0.8110 - val_loss: 0.8183 - val_acc: 0.8500\n",
      "Epoch 22/120\n",
      "1/1 - 0s - loss: 0.9157 - acc: 0.8210 - val_loss: 0.8143 - val_acc: 0.8520\n",
      "Epoch 23/120\n",
      "1/1 - 0s - loss: 0.8718 - acc: 0.8240 - val_loss: 0.8069 - val_acc: 0.8500\n",
      "Epoch 24/120\n",
      "1/1 - 0s - loss: 0.8209 - acc: 0.8410 - val_loss: 0.7952 - val_acc: 0.8560\n",
      "Epoch 25/120\n",
      "1/1 - 0s - loss: 0.8397 - acc: 0.8210 - val_loss: 0.7806 - val_acc: 0.8600\n",
      "Epoch 26/120\n",
      "1/1 - 0s - loss: 0.8135 - acc: 0.8430 - val_loss: 0.7648 - val_acc: 0.8560\n",
      "Epoch 27/120\n",
      "1/1 - 0s - loss: 0.7725 - acc: 0.8560 - val_loss: 0.7470 - val_acc: 0.8720\n",
      "Epoch 28/120\n",
      "1/1 - 0s - loss: 0.7649 - acc: 0.8570 - val_loss: 0.7283 - val_acc: 0.8880\n",
      "Epoch 29/120\n",
      "1/1 - 0s - loss: 0.7211 - acc: 0.8740 - val_loss: 0.7115 - val_acc: 0.8920\n",
      "Epoch 30/120\n",
      "1/1 - 0s - loss: 0.7301 - acc: 0.8760 - val_loss: 0.7019 - val_acc: 0.8800\n",
      "Epoch 31/120\n",
      "1/1 - 0s - loss: 0.7112 - acc: 0.8810 - val_loss: 0.6947 - val_acc: 0.8800\n",
      "Epoch 32/120\n",
      "1/1 - 0s - loss: 0.7097 - acc: 0.8720 - val_loss: 0.6865 - val_acc: 0.8900\n",
      "Epoch 33/120\n",
      "1/1 - 0s - loss: 0.6596 - acc: 0.8910 - val_loss: 0.6794 - val_acc: 0.8960\n",
      "Epoch 34/120\n",
      "1/1 - 0s - loss: 0.6535 - acc: 0.8890 - val_loss: 0.6747 - val_acc: 0.8940\n",
      "Epoch 35/120\n",
      "1/1 - 0s - loss: 0.6227 - acc: 0.8990 - val_loss: 0.6730 - val_acc: 0.8960\n",
      "Epoch 36/120\n",
      "1/1 - 0s - loss: 0.6314 - acc: 0.8990 - val_loss: 0.6712 - val_acc: 0.8920\n",
      "Epoch 37/120\n",
      "1/1 - 0s - loss: 0.5972 - acc: 0.9010 - val_loss: 0.6698 - val_acc: 0.8940\n",
      "Epoch 38/120\n",
      "1/1 - 0s - loss: 0.5762 - acc: 0.9160 - val_loss: 0.6705 - val_acc: 0.8920\n",
      "Epoch 39/120\n",
      "1/1 - 0s - loss: 0.6278 - acc: 0.9000 - val_loss: 0.6699 - val_acc: 0.8900\n",
      "Epoch 40/120\n",
      "1/1 - 0s - loss: 0.6117 - acc: 0.9130 - val_loss: 0.6691 - val_acc: 0.8840\n",
      "Epoch 41/120\n",
      "1/1 - 0s - loss: 0.5972 - acc: 0.9110 - val_loss: 0.6646 - val_acc: 0.8860\n",
      "Epoch 42/120\n",
      "1/1 - 0s - loss: 0.5654 - acc: 0.9150 - val_loss: 0.6649 - val_acc: 0.8840\n",
      "Epoch 43/120\n",
      "1/1 - 0s - loss: 0.5699 - acc: 0.9110 - val_loss: 0.6740 - val_acc: 0.8840\n",
      "Epoch 44/120\n",
      "1/1 - 0s - loss: 0.5724 - acc: 0.9100 - val_loss: 0.6784 - val_acc: 0.8820\n",
      "Epoch 45/120\n",
      "1/1 - 0s - loss: 0.5272 - acc: 0.9250 - val_loss: 0.6760 - val_acc: 0.8820\n",
      "Epoch 46/120\n",
      "1/1 - 0s - loss: 0.5153 - acc: 0.9280 - val_loss: 0.6704 - val_acc: 0.8780\n",
      "Epoch 47/120\n",
      "1/1 - 0s - loss: 0.5000 - acc: 0.9300 - val_loss: 0.6668 - val_acc: 0.8720\n",
      "Epoch 48/120\n",
      "1/1 - 0s - loss: 0.5109 - acc: 0.9230 - val_loss: 0.6641 - val_acc: 0.8740\n",
      "Epoch 49/120\n",
      "1/1 - 0s - loss: 0.4858 - acc: 0.9300 - val_loss: 0.6602 - val_acc: 0.8760\n",
      "Epoch 50/120\n",
      "1/1 - 0s - loss: 0.4647 - acc: 0.9390 - val_loss: 0.6570 - val_acc: 0.8780\n",
      "Epoch 51/120\n",
      "1/1 - 0s - loss: 0.4634 - acc: 0.9320 - val_loss: 0.6553 - val_acc: 0.8800\n",
      "Epoch 52/120\n",
      "1/1 - 0s - loss: 0.4666 - acc: 0.9450 - val_loss: 0.6551 - val_acc: 0.8820\n",
      "Epoch 53/120\n",
      "1/1 - 0s - loss: 0.4534 - acc: 0.9380 - val_loss: 0.6565 - val_acc: 0.8820\n",
      "Epoch 54/120\n",
      "1/1 - 0s - loss: 0.4614 - acc: 0.9280 - val_loss: 0.6613 - val_acc: 0.8800\n",
      "Epoch 55/120\n",
      "1/1 - 0s - loss: 0.4835 - acc: 0.9330 - val_loss: 0.6689 - val_acc: 0.8720\n",
      "Epoch 56/120\n",
      "1/1 - 0s - loss: 0.4501 - acc: 0.9320 - val_loss: 0.6669 - val_acc: 0.8720\n",
      "Epoch 57/120\n",
      "1/1 - 0s - loss: 0.4597 - acc: 0.9280 - val_loss: 0.6708 - val_acc: 0.8680\n",
      "Epoch 58/120\n",
      "1/1 - 0s - loss: 0.4356 - acc: 0.9390 - val_loss: 0.6754 - val_acc: 0.8620\n",
      "Epoch 59/120\n",
      "1/1 - 0s - loss: 0.4762 - acc: 0.9260 - val_loss: 0.6795 - val_acc: 0.8640\n",
      "Epoch 60/120\n",
      "1/1 - 0s - loss: 0.4388 - acc: 0.9390 - val_loss: 0.6894 - val_acc: 0.8680\n",
      "Epoch 61/120\n",
      "1/1 - 0s - loss: 0.4360 - acc: 0.9320 - val_loss: 0.6947 - val_acc: 0.8760\n",
      "Epoch 62/120\n",
      "1/1 - 0s - loss: 0.4429 - acc: 0.9330 - val_loss: 0.6831 - val_acc: 0.8800\n",
      "Epoch 63/120\n",
      "1/1 - 0s - loss: 0.4152 - acc: 0.9430 - val_loss: 0.6664 - val_acc: 0.8760\n"
     ]
    },
    {
     "name": "stdout",
     "output_type": "stream",
     "text": [
      "Epoch 64/120\n",
      "1/1 - 0s - loss: 0.3876 - acc: 0.9450 - val_loss: 0.6552 - val_acc: 0.8720\n",
      "Epoch 65/120\n",
      "1/1 - 0s - loss: 0.4359 - acc: 0.9340 - val_loss: 0.6499 - val_acc: 0.8720\n",
      "Epoch 66/120\n",
      "1/1 - 0s - loss: 0.4460 - acc: 0.9260 - val_loss: 0.6505 - val_acc: 0.8780\n",
      "Epoch 67/120\n",
      "1/1 - 0s - loss: 0.4183 - acc: 0.9420 - val_loss: 0.6592 - val_acc: 0.8820\n",
      "Epoch 68/120\n",
      "1/1 - 0s - loss: 0.4177 - acc: 0.9410 - val_loss: 0.6602 - val_acc: 0.8800\n",
      "Epoch 69/120\n",
      "1/1 - 0s - loss: 0.4186 - acc: 0.9360 - val_loss: 0.6620 - val_acc: 0.8680\n",
      "Epoch 70/120\n",
      "1/1 - 0s - loss: 0.3991 - acc: 0.9350 - val_loss: 0.6687 - val_acc: 0.8640\n",
      "Epoch 71/120\n",
      "1/1 - 0s - loss: 0.3794 - acc: 0.9470 - val_loss: 0.6664 - val_acc: 0.8700\n",
      "Epoch 72/120\n",
      "1/1 - 0s - loss: 0.4280 - acc: 0.9260 - val_loss: 0.6626 - val_acc: 0.8700\n",
      "Epoch 73/120\n",
      "1/1 - 0s - loss: 0.3826 - acc: 0.9490 - val_loss: 0.6708 - val_acc: 0.8780\n",
      "Epoch 74/120\n",
      "1/1 - 0s - loss: 0.3915 - acc: 0.9460 - val_loss: 0.6807 - val_acc: 0.8840\n",
      "Epoch 75/120\n",
      "1/1 - 0s - loss: 0.3932 - acc: 0.9400 - val_loss: 0.6755 - val_acc: 0.8840\n",
      "Epoch 76/120\n",
      "1/1 - 0s - loss: 0.4545 - acc: 0.9220 - val_loss: 0.6615 - val_acc: 0.8780\n",
      "Epoch 77/120\n",
      "1/1 - 0s - loss: 0.3742 - acc: 0.9460 - val_loss: 0.6604 - val_acc: 0.8740\n",
      "Epoch 78/120\n",
      "1/1 - 0s - loss: 0.3923 - acc: 0.9480 - val_loss: 0.6583 - val_acc: 0.8720\n",
      "Epoch 79/120\n",
      "1/1 - 0s - loss: 0.3896 - acc: 0.9390 - val_loss: 0.6541 - val_acc: 0.8740\n",
      "Epoch 80/120\n",
      "1/1 - 0s - loss: 0.3725 - acc: 0.9430 - val_loss: 0.6604 - val_acc: 0.8780\n",
      "Epoch 81/120\n",
      "1/1 - 0s - loss: 0.3406 - acc: 0.9580 - val_loss: 0.6902 - val_acc: 0.8840\n",
      "Epoch 82/120\n",
      "1/1 - 0s - loss: 0.3816 - acc: 0.9420 - val_loss: 0.7017 - val_acc: 0.8780\n",
      "Epoch 83/120\n",
      "1/1 - 0s - loss: 0.3531 - acc: 0.9530 - val_loss: 0.6911 - val_acc: 0.8820\n"
     ]
    }
   ],
   "source": [
    "generator = FullBatchNodeGenerator(G, method=\"gcn\", sparse=True)\n",
    "\n",
    "train_gen = generator.flow(train_data.index, train_targets)\n",
    "val_gen = generator.flow(val_data.index, val_targets)\n",
    "test_gen = generator.flow(test_data.index, test_targets)\n",
    "\n",
    "appnp = APPNP([64, 64, train_targets.shape[-1]], ['relu', 'relu', 'relu'], \n",
    "             generator, transport_probability=0.1, \n",
    "              dropout=0.5, kernel_regularizer=keras.regularizers.l2(0.001))\n",
    "\n",
    "x_inp, x_out = appnp.node_model()\n",
    "predictions = keras.layers.Softmax()(x_out)\n",
    "\n",
    "model = keras.models.Model(inputs=x_inp, outputs=predictions)\n",
    "model.compile(loss='categorical_crossentropy', metrics=['acc'],\n",
    "                  optimizer=keras.optimizers.Adam(lr=0.01))\n",
    "\n",
    "es_callback = EarlyStopping(monitor=\"val_acc\", patience=50)  # patience is the number of epochs to wait before early stopping in case of no further improvement\n",
    "\n",
    "mc_callback = ModelCheckpoint(\n",
    "    \"logs/best_appnp_model.h5\",\n",
    "    monitor=\"val_acc\",\n",
    "    save_best_only=True,\n",
    "    save_weights_only=True,\n",
    ")\n",
    "\n",
    "history = model.fit_generator(\n",
    "    train_gen,\n",
    "    epochs=120,\n",
    "    validation_data=val_gen,\n",
    "    verbose=2,\n",
    "    shuffle=False,  # this should be False, since shuffling data means shuffling the whole graph\n",
    "    callbacks=[es_callback, mc_callback],\n",
    ")"
   ]
  },
  {
   "cell_type": "code",
   "execution_count": 28,
   "metadata": {},
   "outputs": [
    {
     "data": {
      "image/png": "[encoded data removed]",
      "text/plain": [
       "<Figure size 432x288 with 1 Axes>"
      ]
     },
     "metadata": {
      "needs_background": "light"
     },
     "output_type": "display_data"
    },
    {
     "data": {
      "image/png": "[encoded data removed]",
      "text/plain": [
       "<Figure size 432x288 with 1 Axes>"
      ]
     },
     "metadata": {
      "needs_background": "light"
     },
     "output_type": "display_data"
    }
   ],
   "source": [
    "plot_history(history)"
   ]
  },
  {
   "cell_type": "code",
   "execution_count": 29,
   "metadata": {},
   "outputs": [
    {
     "name": "stdout",
     "output_type": "stream",
     "text": [
      "\n",
      "Test Set Metrics:\n",
      "\tloss: 0.8001\n",
      "\tacc: 0.8444\n"
     ]
    }
   ],
   "source": [
    "model.load_weights(\"logs/best_appnp_model.h5\")\n",
    "test_metrics = model.evaluate_generator(test_gen)\n",
    "print(\"\\nTest Set Metrics:\")\n",
    "for name, val in zip(model.metrics_names, test_metrics):\n",
    "    print(\"\\t{}: {:0.4f}\".format(name, val))"
   ]
  },
  {
   "cell_type": "markdown",
   "metadata": {},
   "source": [
    "### Super Scalable Training\n",
    "\n",
    "No we're going exploit the unique structure of PPNP for super scalable training! PPNP consists of a fully-connected neural network followed by a graph propogation step. For each node, the fully-connected network outputs a score for each class and the propogaiton step basically takes a weighted average of scores of nearby nodes (closer nodes are weighted higher). \n",
    "\n",
    "Above, we trained the whole network end-to-end which gets the most accurate results but this requires us to load the entire graph onto our GPU memory because we need the entire graph for the propogation step. For exascale graphs too large to fit onto a single GPUs memory this just isn't going to cut it. But, we can get around this by JUST training the fully connected network and then propogate the trained fully connected network instead of training the whole network end-to-end. The advantage of this is that we can distribute the training across as many GPUs as we like and handle abritrarily large graphs. Then we can do our final predictions with graph propogation on CPU! \n",
    "\n",
    "The model in the propagation step can be ANY keras model trained on node features to predict the targets. In this example we use a fully connected neural network with bag of word features as input. We could easily swap out the bag of words features for the complete text and swap out the fully connected network for a state-of-the-art BERT model, fine-tune the BERT model and propagate its predictions!"
   ]
  },
  {
   "cell_type": "markdown",
   "metadata": {},
   "source": [
    "First we create and train a fully connected model."
   ]
  },
  {
   "cell_type": "code",
   "execution_count": 30,
   "metadata": {},
   "outputs": [],
   "source": [
    "model = keras.models.Model()\n",
    "\n",
    "in_layer = layers.Input(shape=(len(feature_names),))\n",
    "layer = layers.Dense(64, activation='relu', kernel_regularizer=\"l2\")(in_layer)\n",
    "layer = layers.Dropout(0.5)(layer)\n",
    "layer = layers.Dense(64, activation='relu', kernel_regularizer=\"l2\")(in_layer)\n",
    "layer = layers.Dropout(0.5)(layer)\n",
    "\n",
    "#note the dimension of the output should equal the number of classes to predict!\n",
    "layer = layers.Dense(train_targets.shape[-1], activation='relu')(layer)\n",
    "layer = layers.Dropout(0.5)(layer)\n",
    "layer = layers.Softmax()(layer)\n",
    "\n",
    "fully_connected_model = keras.models.Model(inputs=in_layer, outputs=layer)\n",
    "\n",
    "fully_connected_model.compile(loss='categorical_crossentropy', metrics=['acc'],\n",
    "                  optimizer=keras.optimizers.Adam(lr=0.01))\n",
    "\n",
    "#the inputs are just the node features\n",
    "X_train = train_data[feature_names].values.astype(np.float32)\n",
    "X_val = val_data[feature_names].values.astype(np.float32)"
   ]
  },
  {
   "cell_type": "code",
   "execution_count": 32,
   "metadata": {},
   "outputs": [
    {
     "name": "stdout",
     "output_type": "stream",
     "text": [
      "Train on 1000 samples, validate on 500 samples\n",
      "Epoch 1/2000\n",
      "1000/1000 [==============================] - 0s 224us/sample - loss: 2.5818 - acc: 0.1870 - val_loss: 2.0615 - val_acc: 0.3500\n",
      "Epoch 2/2000\n",
      "1000/1000 [==============================] - 0s 29us/sample - loss: 2.0255 - acc: 0.3030 - val_loss: 1.9426 - val_acc: 0.5680\n",
      "Epoch 3/2000\n",
      "1000/1000 [==============================] - 0s 30us/sample - loss: 1.9788 - acc: 0.3490 - val_loss: 1.7979 - val_acc: 0.6660\n",
      "Epoch 4/2000\n",
      "1000/1000 [==============================] - 0s 34us/sample - loss: 1.8088 - acc: 0.4130 - val_loss: 1.6738 - val_acc: 0.6820\n",
      "Epoch 5/2000\n",
      "1000/1000 [==============================] - 0s 32us/sample - loss: 1.7327 - acc: 0.4520 - val_loss: 1.6268 - val_acc: 0.7000\n",
      "Epoch 6/2000\n",
      "1000/1000 [==============================] - 0s 31us/sample - loss: 1.7279 - acc: 0.4440 - val_loss: 1.6093 - val_acc: 0.7260\n",
      "Epoch 7/2000\n",
      "1000/1000 [==============================] - 0s 24us/sample - loss: 1.6755 - acc: 0.4790 - val_loss: 1.5821 - val_acc: 0.7140\n",
      "Epoch 8/2000\n",
      "1000/1000 [==============================] - 0s 26us/sample - loss: 1.6707 - acc: 0.4670 - val_loss: 1.5669 - val_acc: 0.7260\n",
      "Epoch 9/2000\n",
      "1000/1000 [==============================] - 0s 32us/sample - loss: 1.6762 - acc: 0.4520 - val_loss: 1.5502 - val_acc: 0.7320\n",
      "Epoch 10/2000\n",
      "1000/1000 [==============================] - 0s 32us/sample - loss: 1.6414 - acc: 0.4730 - val_loss: 1.5300 - val_acc: 0.7380\n",
      "Epoch 11/2000\n",
      "1000/1000 [==============================] - 0s 24us/sample - loss: 1.5927 - acc: 0.4950 - val_loss: 1.5273 - val_acc: 0.7180\n",
      "Epoch 12/2000\n",
      "1000/1000 [==============================] - 0s 26us/sample - loss: 1.5956 - acc: 0.5040 - val_loss: 1.5647 - val_acc: 0.7320\n",
      "Epoch 13/2000\n",
      "1000/1000 [==============================] - 0s 29us/sample - loss: 1.6284 - acc: 0.5010 - val_loss: 1.5480 - val_acc: 0.7280\n",
      "Epoch 14/2000\n",
      "1000/1000 [==============================] - 0s 27us/sample - loss: 1.6441 - acc: 0.4850 - val_loss: 1.5331 - val_acc: 0.7360\n",
      "Epoch 15/2000\n",
      "1000/1000 [==============================] - 0s 26us/sample - loss: 1.6953 - acc: 0.4640 - val_loss: 1.5414 - val_acc: 0.7280\n",
      "Epoch 16/2000\n",
      "1000/1000 [==============================] - 0s 34us/sample - loss: 1.6689 - acc: 0.4760 - val_loss: 1.5277 - val_acc: 0.7420\n",
      "Epoch 17/2000\n",
      "1000/1000 [==============================] - 0s 26us/sample - loss: 1.6862 - acc: 0.4630 - val_loss: 1.5470 - val_acc: 0.7340\n",
      "Epoch 18/2000\n",
      "1000/1000 [==============================] - 0s 28us/sample - loss: 1.7082 - acc: 0.4740 - val_loss: 1.5565 - val_acc: 0.7360\n",
      "Epoch 19/2000\n",
      "1000/1000 [==============================] - 0s 29us/sample - loss: 1.6046 - acc: 0.5100 - val_loss: 1.5454 - val_acc: 0.7300\n",
      "Epoch 20/2000\n",
      "1000/1000 [==============================] - 0s 28us/sample - loss: 1.6579 - acc: 0.4920 - val_loss: 1.5367 - val_acc: 0.7400\n",
      "Epoch 21/2000\n",
      "1000/1000 [==============================] - 0s 27us/sample - loss: 1.6606 - acc: 0.4850 - val_loss: 1.5054 - val_acc: 0.7180\n",
      "Epoch 22/2000\n",
      "1000/1000 [==============================] - 0s 26us/sample - loss: 1.6126 - acc: 0.4940 - val_loss: 1.5224 - val_acc: 0.7200\n",
      "Epoch 23/2000\n",
      "1000/1000 [==============================] - 0s 26us/sample - loss: 1.6229 - acc: 0.5070 - val_loss: 1.5415 - val_acc: 0.7360\n",
      "Epoch 24/2000\n",
      "1000/1000 [==============================] - 0s 25us/sample - loss: 1.6496 - acc: 0.4900 - val_loss: 1.5477 - val_acc: 0.7260\n",
      "Epoch 25/2000\n",
      "1000/1000 [==============================] - 0s 25us/sample - loss: 1.6723 - acc: 0.4720 - val_loss: 1.5428 - val_acc: 0.7280\n",
      "Epoch 26/2000\n",
      "1000/1000 [==============================] - 0s 25us/sample - loss: 1.7366 - acc: 0.4540 - val_loss: 1.5684 - val_acc: 0.7320\n",
      "Epoch 27/2000\n",
      "1000/1000 [==============================] - 0s 26us/sample - loss: 1.6574 - acc: 0.5100 - val_loss: 1.5661 - val_acc: 0.7260\n",
      "Epoch 28/2000\n",
      "1000/1000 [==============================] - 0s 26us/sample - loss: 1.6813 - acc: 0.4740 - val_loss: 1.5556 - val_acc: 0.7180\n",
      "Epoch 29/2000\n",
      "1000/1000 [==============================] - 0s 26us/sample - loss: 1.7058 - acc: 0.4700 - val_loss: 1.5494 - val_acc: 0.7340\n",
      "Epoch 30/2000\n",
      "1000/1000 [==============================] - 0s 26us/sample - loss: 1.6814 - acc: 0.4840 - val_loss: 1.5543 - val_acc: 0.7280\n",
      "Epoch 31/2000\n",
      "1000/1000 [==============================] - 0s 25us/sample - loss: 1.6393 - acc: 0.4920 - val_loss: 1.5481 - val_acc: 0.7180\n",
      "Epoch 32/2000\n",
      "1000/1000 [==============================] - 0s 26us/sample - loss: 1.6558 - acc: 0.4850 - val_loss: 1.5345 - val_acc: 0.7360\n",
      "Epoch 33/2000\n",
      "1000/1000 [==============================] - 0s 24us/sample - loss: 1.6639 - acc: 0.4970 - val_loss: 1.5456 - val_acc: 0.7320\n",
      "Epoch 34/2000\n",
      "1000/1000 [==============================] - 0s 26us/sample - loss: 1.7180 - acc: 0.4810 - val_loss: 1.5601 - val_acc: 0.7260\n",
      "Epoch 35/2000\n",
      "1000/1000 [==============================] - 0s 27us/sample - loss: 1.7397 - acc: 0.4630 - val_loss: 1.5688 - val_acc: 0.7300\n",
      "Epoch 36/2000\n",
      "1000/1000 [==============================] - 0s 25us/sample - loss: 1.7021 - acc: 0.4850 - val_loss: 1.5544 - val_acc: 0.7420\n",
      "Epoch 37/2000\n",
      "1000/1000 [==============================] - 0s 33us/sample - loss: 1.6587 - acc: 0.5030 - val_loss: 1.5403 - val_acc: 0.7520\n",
      "Epoch 38/2000\n",
      "1000/1000 [==============================] - 0s 27us/sample - loss: 1.7031 - acc: 0.4870 - val_loss: 1.5463 - val_acc: 0.7320\n",
      "Epoch 39/2000\n",
      "1000/1000 [==============================] - 0s 23us/sample - loss: 1.7199 - acc: 0.4750 - val_loss: 1.5507 - val_acc: 0.7380\n",
      "Epoch 40/2000\n",
      "1000/1000 [==============================] - 0s 24us/sample - loss: 1.6939 - acc: 0.4910 - val_loss: 1.5727 - val_acc: 0.7200\n",
      "Epoch 41/2000\n",
      "1000/1000 [==============================] - 0s 26us/sample - loss: 1.7245 - acc: 0.4930 - val_loss: 1.5861 - val_acc: 0.7200\n",
      "Epoch 42/2000\n",
      "1000/1000 [==============================] - 0s 25us/sample - loss: 1.6912 - acc: 0.4880 - val_loss: 1.5698 - val_acc: 0.7340\n",
      "Epoch 43/2000\n",
      "1000/1000 [==============================] - 0s 26us/sample - loss: 1.6721 - acc: 0.5020 - val_loss: 1.5726 - val_acc: 0.7400\n",
      "Epoch 44/2000\n",
      "1000/1000 [==============================] - 0s 25us/sample - loss: 1.7080 - acc: 0.4900 - val_loss: 1.5954 - val_acc: 0.7220\n",
      "Epoch 45/2000\n",
      "1000/1000 [==============================] - 0s 24us/sample - loss: 1.7536 - acc: 0.4740 - val_loss: 1.6180 - val_acc: 0.7180\n",
      "Epoch 46/2000\n",
      "1000/1000 [==============================] - 0s 24us/sample - loss: 1.7625 - acc: 0.4730 - val_loss: 1.6318 - val_acc: 0.7180\n",
      "Epoch 47/2000\n",
      "1000/1000 [==============================] - 0s 22us/sample - loss: 1.7660 - acc: 0.4790 - val_loss: 1.6310 - val_acc: 0.7200\n",
      "Epoch 48/2000\n",
      "1000/1000 [==============================] - 0s 23us/sample - loss: 1.7585 - acc: 0.4810 - val_loss: 1.6334 - val_acc: 0.7080\n",
      "Epoch 49/2000\n",
      "1000/1000 [==============================] - 0s 22us/sample - loss: 1.6926 - acc: 0.4910 - val_loss: 1.6121 - val_acc: 0.7360\n",
      "Epoch 50/2000\n",
      "1000/1000 [==============================] - 0s 25us/sample - loss: 1.6888 - acc: 0.4930 - val_loss: 1.5734 - val_acc: 0.7380\n",
      "Epoch 51/2000\n",
      "1000/1000 [==============================] - 0s 24us/sample - loss: 1.7028 - acc: 0.4810 - val_loss: 1.5626 - val_acc: 0.7140\n",
      "Epoch 52/2000\n",
      "1000/1000 [==============================] - 0s 22us/sample - loss: 1.6921 - acc: 0.4980 - val_loss: 1.5731 - val_acc: 0.7420\n",
      "Epoch 53/2000\n",
      "1000/1000 [==============================] - 0s 21us/sample - loss: 1.7075 - acc: 0.4920 - val_loss: 1.5686 - val_acc: 0.7180\n",
      "Epoch 54/2000\n",
      "1000/1000 [==============================] - 0s 22us/sample - loss: 1.7400 - acc: 0.4820 - val_loss: 1.6039 - val_acc: 0.7240\n",
      "Epoch 55/2000\n",
      "1000/1000 [==============================] - 0s 22us/sample - loss: 1.6984 - acc: 0.4960 - val_loss: 1.6148 - val_acc: 0.7140\n",
      "Epoch 56/2000\n",
      "1000/1000 [==============================] - 0s 21us/sample - loss: 1.7306 - acc: 0.4780 - val_loss: 1.5644 - val_acc: 0.7200\n",
      "Epoch 57/2000\n",
      "1000/1000 [==============================] - 0s 23us/sample - loss: 1.6962 - acc: 0.5020 - val_loss: 1.5670 - val_acc: 0.7280\n",
      "Epoch 58/2000\n",
      "1000/1000 [==============================] - 0s 22us/sample - loss: 1.7104 - acc: 0.4900 - val_loss: 1.6073 - val_acc: 0.7340\n",
      "Epoch 59/2000\n"
     ]
    },
    {
     "name": "stdout",
     "output_type": "stream",
     "text": [
      "1000/1000 [==============================] - 0s 23us/sample - loss: 1.7237 - acc: 0.5030 - val_loss: 1.6149 - val_acc: 0.7080\n",
      "Epoch 60/2000\n",
      "1000/1000 [==============================] - 0s 21us/sample - loss: 1.7464 - acc: 0.4840 - val_loss: 1.6264 - val_acc: 0.7300\n",
      "Epoch 61/2000\n",
      "1000/1000 [==============================] - 0s 20us/sample - loss: 1.7130 - acc: 0.5090 - val_loss: 1.6226 - val_acc: 0.7340\n",
      "Epoch 62/2000\n",
      "1000/1000 [==============================] - 0s 22us/sample - loss: 1.7854 - acc: 0.4710 - val_loss: 1.5903 - val_acc: 0.7480\n",
      "Epoch 63/2000\n",
      "1000/1000 [==============================] - 0s 21us/sample - loss: 1.7492 - acc: 0.4890 - val_loss: 1.5732 - val_acc: 0.7200\n",
      "Epoch 64/2000\n",
      "1000/1000 [==============================] - 0s 22us/sample - loss: 1.8121 - acc: 0.4620 - val_loss: 1.5865 - val_acc: 0.7300\n",
      "Epoch 65/2000\n",
      "1000/1000 [==============================] - 0s 26us/sample - loss: 1.7795 - acc: 0.4700 - val_loss: 1.6161 - val_acc: 0.7180\n",
      "Epoch 66/2000\n",
      "1000/1000 [==============================] - 0s 25us/sample - loss: 1.7879 - acc: 0.4760 - val_loss: 1.6169 - val_acc: 0.7340\n",
      "Epoch 67/2000\n",
      "1000/1000 [==============================] - 0s 23us/sample - loss: 1.7946 - acc: 0.4800 - val_loss: 1.6038 - val_acc: 0.7220\n",
      "Epoch 68/2000\n",
      "1000/1000 [==============================] - 0s 25us/sample - loss: 1.7362 - acc: 0.4970 - val_loss: 1.6105 - val_acc: 0.7200\n",
      "Epoch 69/2000\n",
      "1000/1000 [==============================] - 0s 22us/sample - loss: 1.7338 - acc: 0.4950 - val_loss: 1.6070 - val_acc: 0.7280\n",
      "Epoch 70/2000\n",
      "1000/1000 [==============================] - 0s 24us/sample - loss: 1.7969 - acc: 0.4680 - val_loss: 1.6295 - val_acc: 0.7320\n",
      "Epoch 71/2000\n",
      "1000/1000 [==============================] - 0s 24us/sample - loss: 1.7550 - acc: 0.4820 - val_loss: 1.6216 - val_acc: 0.7340\n",
      "Epoch 72/2000\n",
      "1000/1000 [==============================] - 0s 23us/sample - loss: 1.6979 - acc: 0.5120 - val_loss: 1.5692 - val_acc: 0.7460\n",
      "Epoch 73/2000\n",
      "1000/1000 [==============================] - 0s 24us/sample - loss: 1.7038 - acc: 0.5080 - val_loss: 1.5536 - val_acc: 0.7260\n",
      "Epoch 74/2000\n",
      "1000/1000 [==============================] - 0s 24us/sample - loss: 1.7403 - acc: 0.4800 - val_loss: 1.5607 - val_acc: 0.7280\n",
      "Epoch 75/2000\n",
      "1000/1000 [==============================] - 0s 24us/sample - loss: 1.7104 - acc: 0.4880 - val_loss: 1.5808 - val_acc: 0.7220\n",
      "Epoch 76/2000\n",
      "1000/1000 [==============================] - 0s 26us/sample - loss: 1.7425 - acc: 0.4830 - val_loss: 1.5935 - val_acc: 0.7260\n",
      "Epoch 77/2000\n",
      "1000/1000 [==============================] - 0s 24us/sample - loss: 1.7073 - acc: 0.4960 - val_loss: 1.6101 - val_acc: 0.7340\n",
      "Epoch 78/2000\n",
      "1000/1000 [==============================] - 0s 22us/sample - loss: 1.7514 - acc: 0.4830 - val_loss: 1.5732 - val_acc: 0.7200\n",
      "Epoch 79/2000\n",
      "1000/1000 [==============================] - 0s 23us/sample - loss: 1.7352 - acc: 0.4870 - val_loss: 1.5713 - val_acc: 0.7240\n",
      "Epoch 80/2000\n",
      "1000/1000 [==============================] - 0s 22us/sample - loss: 1.7319 - acc: 0.4930 - val_loss: 1.5737 - val_acc: 0.7220\n",
      "Epoch 81/2000\n",
      "1000/1000 [==============================] - 0s 22us/sample - loss: 1.6783 - acc: 0.5130 - val_loss: 1.5607 - val_acc: 0.7280\n",
      "Epoch 82/2000\n",
      "1000/1000 [==============================] - 0s 29us/sample - loss: 1.7072 - acc: 0.4950 - val_loss: 1.5663 - val_acc: 0.7340\n",
      "Epoch 83/2000\n",
      "1000/1000 [==============================] - 0s 25us/sample - loss: 1.7362 - acc: 0.4930 - val_loss: 1.5898 - val_acc: 0.7300\n",
      "Epoch 84/2000\n",
      "1000/1000 [==============================] - 0s 25us/sample - loss: 1.6760 - acc: 0.5170 - val_loss: 1.5891 - val_acc: 0.7180\n",
      "Epoch 85/2000\n",
      "1000/1000 [==============================] - 0s 25us/sample - loss: 1.7099 - acc: 0.4900 - val_loss: 1.5862 - val_acc: 0.7000\n",
      "Epoch 86/2000\n",
      "1000/1000 [==============================] - 0s 24us/sample - loss: 1.7621 - acc: 0.4580 - val_loss: 1.5870 - val_acc: 0.7320\n",
      "Epoch 87/2000\n",
      "1000/1000 [==============================] - 0s 24us/sample - loss: 1.7322 - acc: 0.4940 - val_loss: 1.5686 - val_acc: 0.7420\n"
     ]
    }
   ],
   "source": [
    "es_callback = EarlyStopping(monitor=\"val_acc\", patience=50)  # patience is the number of epochs to wait before early stopping in case of no further improvement\n",
    "\n",
    "mc_callback = ModelCheckpoint(\n",
    "    \"logs/best_fc_model.h5\",\n",
    "    monitor=\"val_acc\",\n",
    "    save_best_only=True,\n",
    "    save_weights_only=True,\n",
    ")\n",
    "\n",
    "history = fully_connected_model.fit(X_train, train_targets, \n",
    "                          validation_data=(X_val, val_targets), \n",
    "                          epochs=2000, batch_size=200, shuffle=True, #we can shuffle the data here as \n",
    "                         callbacks=[es_callback, mc_callback]) #we're only working with node features"
   ]
  },
  {
   "cell_type": "markdown",
   "metadata": {},
   "source": [
    "By itself the fully connected model only gets ~60-70% accuracy on the test set."
   ]
  },
  {
   "cell_type": "code",
   "execution_count": 33,
   "metadata": {},
   "outputs": [
    {
     "name": "stdout",
     "output_type": "stream",
     "text": [
      "1208/1208 [==============================] - 0s 21us/sample - loss: 1.5839 - acc: 0.7136\n",
      "\n",
      "Test Set Metrics:\n",
      "\tloss: 1.5839\n",
      "\tacc: 0.7136\n"
     ]
    }
   ],
   "source": [
    "X_test = test_data[feature_names].values.astype(np.float32)\n",
    "\n",
    "fully_connected_model.load_weights(\"logs/best_fc_model.h5\") \n",
    "test_metrics = fully_connected_model.evaluate(X_test, test_targets)\n",
    "print(\"\\nTest Set Metrics:\")\n",
    "for name, val in zip(fully_connected_model.metrics_names, test_metrics):\n",
    "    print(\"\\t{}: {:0.4f}\".format(name, val))"
   ]
  },
  {
   "cell_type": "markdown",
   "metadata": {},
   "source": [
    "Now we propogate the fully connected network - no extra training required and we can re-use the APPNP object we've already created."
   ]
  },
  {
   "cell_type": "code",
   "execution_count": 34,
   "metadata": {},
   "outputs": [
    {
     "name": "stdout",
     "output_type": "stream",
     "text": [
      "WARNING:tensorflow:Entity <bound method SqueezedSparseConversion.call of <stellargraph.layer.misc.SqueezedSparseConversion object at 0x14fc989e8>> could not be transformed and will be executed as-is. Please report this to the AutgoGraph team. When filing the bug, set the verbosity to 10 (on Linux, `export AUTOGRAPH_VERBOSITY=10`) and attach the full output. Cause: converting <bound method SqueezedSparseConversion.call of <stellargraph.layer.misc.SqueezedSparseConversion object at 0x14fc989e8>>: AttributeError: module 'gast' has no attribute 'Num'\n",
      "WARNING: Entity <bound method SqueezedSparseConversion.call of <stellargraph.layer.misc.SqueezedSparseConversion object at 0x14fc989e8>> could not be transformed and will be executed as-is. Please report this to the AutgoGraph team. When filing the bug, set the verbosity to 10 (on Linux, `export AUTOGRAPH_VERBOSITY=10`) and attach the full output. Cause: converting <bound method SqueezedSparseConversion.call of <stellargraph.layer.misc.SqueezedSparseConversion object at 0x14fc989e8>>: AttributeError: module 'gast' has no attribute 'Num'\n",
      "WARNING:tensorflow:Entity <bound method APPNPPropagationLayer.call of <stellargraph.layer.appnp.APPNPPropagationLayer object at 0x143051860>> could not be transformed and will be executed as-is. Please report this to the AutgoGraph team. When filing the bug, set the verbosity to 10 (on Linux, `export AUTOGRAPH_VERBOSITY=10`) and attach the full output. Cause: converting <bound method APPNPPropagationLayer.call of <stellargraph.layer.appnp.APPNPPropagationLayer object at 0x143051860>>: AttributeError: module 'gast' has no attribute 'Num'\n",
      "WARNING: Entity <bound method APPNPPropagationLayer.call of <stellargraph.layer.appnp.APPNPPropagationLayer object at 0x143051860>> could not be transformed and will be executed as-is. Please report this to the AutgoGraph team. When filing the bug, set the verbosity to 10 (on Linux, `export AUTOGRAPH_VERBOSITY=10`) and attach the full output. Cause: converting <bound method APPNPPropagationLayer.call of <stellargraph.layer.appnp.APPNPPropagationLayer object at 0x143051860>>: AttributeError: module 'gast' has no attribute 'Num'\n",
      "WARNING:tensorflow:Entity <bound method APPNPPropagationLayer.call of <stellargraph.layer.appnp.APPNPPropagationLayer object at 0x143051940>> could not be transformed and will be executed as-is. Please report this to the AutgoGraph team. When filing the bug, set the verbosity to 10 (on Linux, `export AUTOGRAPH_VERBOSITY=10`) and attach the full output. Cause: converting <bound method APPNPPropagationLayer.call of <stellargraph.layer.appnp.APPNPPropagationLayer object at 0x143051940>>: AttributeError: module 'gast' has no attribute 'Num'\n",
      "WARNING: Entity <bound method APPNPPropagationLayer.call of <stellargraph.layer.appnp.APPNPPropagationLayer object at 0x143051940>> could not be transformed and will be executed as-is. Please report this to the AutgoGraph team. When filing the bug, set the verbosity to 10 (on Linux, `export AUTOGRAPH_VERBOSITY=10`) and attach the full output. Cause: converting <bound method APPNPPropagationLayer.call of <stellargraph.layer.appnp.APPNPPropagationLayer object at 0x143051940>>: AttributeError: module 'gast' has no attribute 'Num'\n",
      "WARNING:tensorflow:Entity <bound method APPNPPropagationLayer.call of <stellargraph.layer.appnp.APPNPPropagationLayer object at 0x143051a20>> could not be transformed and will be executed as-is. Please report this to the AutgoGraph team. When filing the bug, set the verbosity to 10 (on Linux, `export AUTOGRAPH_VERBOSITY=10`) and attach the full output. Cause: converting <bound method APPNPPropagationLayer.call of <stellargraph.layer.appnp.APPNPPropagationLayer object at 0x143051a20>>: AttributeError: module 'gast' has no attribute 'Num'\n",
      "WARNING: Entity <bound method APPNPPropagationLayer.call of <stellargraph.layer.appnp.APPNPPropagationLayer object at 0x143051a20>> could not be transformed and will be executed as-is. Please report this to the AutgoGraph team. When filing the bug, set the verbosity to 10 (on Linux, `export AUTOGRAPH_VERBOSITY=10`) and attach the full output. Cause: converting <bound method APPNPPropagationLayer.call of <stellargraph.layer.appnp.APPNPPropagationLayer object at 0x143051a20>>: AttributeError: module 'gast' has no attribute 'Num'\n",
      "WARNING:tensorflow:Entity <bound method APPNPPropagationLayer.call of <stellargraph.layer.appnp.APPNPPropagationLayer object at 0x143051b00>> could not be transformed and will be executed as-is. Please report this to the AutgoGraph team. When filing the bug, set the verbosity to 10 (on Linux, `export AUTOGRAPH_VERBOSITY=10`) and attach the full output. Cause: converting <bound method APPNPPropagationLayer.call of <stellargraph.layer.appnp.APPNPPropagationLayer object at 0x143051b00>>: AttributeError: module 'gast' has no attribute 'Num'\n",
      "WARNING: Entity <bound method APPNPPropagationLayer.call of <stellargraph.layer.appnp.APPNPPropagationLayer object at 0x143051b00>> could not be transformed and will be executed as-is. Please report this to the AutgoGraph team. When filing the bug, set the verbosity to 10 (on Linux, `export AUTOGRAPH_VERBOSITY=10`) and attach the full output. Cause: converting <bound method APPNPPropagationLayer.call of <stellargraph.layer.appnp.APPNPPropagationLayer object at 0x143051b00>>: AttributeError: module 'gast' has no attribute 'Num'\n",
      "WARNING:tensorflow:Entity <bound method APPNPPropagationLayer.call of <stellargraph.layer.appnp.APPNPPropagationLayer object at 0x143051be0>> could not be transformed and will be executed as-is. Please report this to the AutgoGraph team. When filing the bug, set the verbosity to 10 (on Linux, `export AUTOGRAPH_VERBOSITY=10`) and attach the full output. Cause: converting <bound method APPNPPropagationLayer.call of <stellargraph.layer.appnp.APPNPPropagationLayer object at 0x143051be0>>: AttributeError: module 'gast' has no attribute 'Num'\n",
      "WARNING: Entity <bound method APPNPPropagationLayer.call of <stellargraph.layer.appnp.APPNPPropagationLayer object at 0x143051be0>> could not be transformed and will be executed as-is. Please report this to the AutgoGraph team. When filing the bug, set the verbosity to 10 (on Linux, `export AUTOGRAPH_VERBOSITY=10`) and attach the full output. Cause: converting <bound method APPNPPropagationLayer.call of <stellargraph.layer.appnp.APPNPPropagationLayer object at 0x143051be0>>: AttributeError: module 'gast' has no attribute 'Num'\n",
      "WARNING:tensorflow:Entity <bound method APPNPPropagationLayer.call of <stellargraph.layer.appnp.APPNPPropagationLayer object at 0x143051cc0>> could not be transformed and will be executed as-is. Please report this to the AutgoGraph team. When filing the bug, set the verbosity to 10 (on Linux, `export AUTOGRAPH_VERBOSITY=10`) and attach the full output. Cause: converting <bound method APPNPPropagationLayer.call of <stellargraph.layer.appnp.APPNPPropagationLayer object at 0x143051cc0>>: AttributeError: module 'gast' has no attribute 'Num'\n",
      "WARNING: Entity <bound method APPNPPropagationLayer.call of <stellargraph.layer.appnp.APPNPPropagationLayer object at 0x143051cc0>> could not be transformed and will be executed as-is. Please report this to the AutgoGraph team. When filing the bug, set the verbosity to 10 (on Linux, `export AUTOGRAPH_VERBOSITY=10`) and attach the full output. Cause: converting <bound method APPNPPropagationLayer.call of <stellargraph.layer.appnp.APPNPPropagationLayer object at 0x143051cc0>>: AttributeError: module 'gast' has no attribute 'Num'\n",
      "WARNING:tensorflow:Entity <bound method APPNPPropagationLayer.call of <stellargraph.layer.appnp.APPNPPropagationLayer object at 0x143051da0>> could not be transformed and will be executed as-is. Please report this to the AutgoGraph team. When filing the bug, set the verbosity to 10 (on Linux, `export AUTOGRAPH_VERBOSITY=10`) and attach the full output. Cause: converting <bound method APPNPPropagationLayer.call of <stellargraph.layer.appnp.APPNPPropagationLayer object at 0x143051da0>>: AttributeError: module 'gast' has no attribute 'Num'\n",
      "WARNING: Entity <bound method APPNPPropagationLayer.call of <stellargraph.layer.appnp.APPNPPropagationLayer object at 0x143051da0>> could not be transformed and will be executed as-is. Please report this to the AutgoGraph team. When filing the bug, set the verbosity to 10 (on Linux, `export AUTOGRAPH_VERBOSITY=10`) and attach the full output. Cause: converting <bound method APPNPPropagationLayer.call of <stellargraph.layer.appnp.APPNPPropagationLayer object at 0x143051da0>>: AttributeError: module 'gast' has no attribute 'Num'\n"
     ]
    },
    {
     "name": "stdout",
     "output_type": "stream",
     "text": [
      "WARNING:tensorflow:Entity <bound method APPNPPropagationLayer.call of <stellargraph.layer.appnp.APPNPPropagationLayer object at 0x143051e80>> could not be transformed and will be executed as-is. Please report this to the AutgoGraph team. When filing the bug, set the verbosity to 10 (on Linux, `export AUTOGRAPH_VERBOSITY=10`) and attach the full output. Cause: converting <bound method APPNPPropagationLayer.call of <stellargraph.layer.appnp.APPNPPropagationLayer object at 0x143051e80>>: AttributeError: module 'gast' has no attribute 'Num'\n",
      "WARNING: Entity <bound method APPNPPropagationLayer.call of <stellargraph.layer.appnp.APPNPPropagationLayer object at 0x143051e80>> could not be transformed and will be executed as-is. Please report this to the AutgoGraph team. When filing the bug, set the verbosity to 10 (on Linux, `export AUTOGRAPH_VERBOSITY=10`) and attach the full output. Cause: converting <bound method APPNPPropagationLayer.call of <stellargraph.layer.appnp.APPNPPropagationLayer object at 0x143051e80>>: AttributeError: module 'gast' has no attribute 'Num'\n",
      "WARNING:tensorflow:Entity <bound method APPNPPropagationLayer.call of <stellargraph.layer.appnp.APPNPPropagationLayer object at 0x143051f60>> could not be transformed and will be executed as-is. Please report this to the AutgoGraph team. When filing the bug, set the verbosity to 10 (on Linux, `export AUTOGRAPH_VERBOSITY=10`) and attach the full output. Cause: converting <bound method APPNPPropagationLayer.call of <stellargraph.layer.appnp.APPNPPropagationLayer object at 0x143051f60>>: AttributeError: module 'gast' has no attribute 'Num'\n",
      "WARNING: Entity <bound method APPNPPropagationLayer.call of <stellargraph.layer.appnp.APPNPPropagationLayer object at 0x143051f60>> could not be transformed and will be executed as-is. Please report this to the AutgoGraph team. When filing the bug, set the verbosity to 10 (on Linux, `export AUTOGRAPH_VERBOSITY=10`) and attach the full output. Cause: converting <bound method APPNPPropagationLayer.call of <stellargraph.layer.appnp.APPNPPropagationLayer object at 0x143051f60>>: AttributeError: module 'gast' has no attribute 'Num'\n",
      "WARNING:tensorflow:Entity <bound method APPNPPropagationLayer.call of <stellargraph.layer.appnp.APPNPPropagationLayer object at 0x1430510b8>> could not be transformed and will be executed as-is. Please report this to the AutgoGraph team. When filing the bug, set the verbosity to 10 (on Linux, `export AUTOGRAPH_VERBOSITY=10`) and attach the full output. Cause: converting <bound method APPNPPropagationLayer.call of <stellargraph.layer.appnp.APPNPPropagationLayer object at 0x1430510b8>>: AttributeError: module 'gast' has no attribute 'Num'\n",
      "WARNING: Entity <bound method APPNPPropagationLayer.call of <stellargraph.layer.appnp.APPNPPropagationLayer object at 0x1430510b8>> could not be transformed and will be executed as-is. Please report this to the AutgoGraph team. When filing the bug, set the verbosity to 10 (on Linux, `export AUTOGRAPH_VERBOSITY=10`) and attach the full output. Cause: converting <bound method APPNPPropagationLayer.call of <stellargraph.layer.appnp.APPNPPropagationLayer object at 0x1430510b8>>: AttributeError: module 'gast' has no attribute 'Num'\n"
     ]
    }
   ],
   "source": [
    "x_inp, x_out = appnp.propagate_model(fully_connected_model)\n",
    "predictions = keras.layers.Softmax()(x_out)\n",
    "\n",
    "model = keras.models.Model(inputs=x_inp, outputs=predictions)\n",
    "model.compile(loss='categorical_crossentropy', metrics=['acc'],\n",
    "                  optimizer=keras.optimizers.Adam(lr=0.01))"
   ]
  },
  {
   "cell_type": "markdown",
   "metadata": {},
   "source": [
    "Our accuracy is almost as good as end-to-end trained PPNP and APPNP but now we can handle abitrarily large graphs! "
   ]
  },
  {
   "cell_type": "code",
   "execution_count": 35,
   "metadata": {},
   "outputs": [
    {
     "name": "stdout",
     "output_type": "stream",
     "text": [
      "\n",
      "Test Set Metrics:\n",
      "\tloss: 1.0768\n",
      "\tacc: 0.8593\n"
     ]
    }
   ],
   "source": [
    "test_metrics = model.evaluate_generator(test_gen)\n",
    "print(\"\\nTest Set Metrics:\")\n",
    "for name, val in zip(model.metrics_names, test_metrics):\n",
    "    print(\"\\t{}: {:0.4f}\".format(name, val))"
   ]
  },
  {
   "cell_type": "markdown",
   "metadata": {},
   "source": [
    "### Making predictions with the model"
   ]
  },
  {
   "cell_type": "markdown",
   "metadata": {},
   "source": [
    "Now let's get the predictions for all nodes."
   ]
  },
  {
   "cell_type": "code",
   "execution_count": 36,
   "metadata": {},
   "outputs": [],
   "source": [
    "all_nodes = node_data.index\n",
    "all_gen = generator.flow(all_nodes)\n",
    "all_predictions = model.predict_generator(all_gen)"
   ]
  },
  {
   "cell_type": "markdown",
   "metadata": {},
   "source": [
    "These predictions will be the output of the softmax layer, so to get final categories we'll use the `inverse_transform` method of our target attribute specifcation to turn these values back to the original categories."
   ]
  },
  {
   "cell_type": "markdown",
   "metadata": {},
   "source": [
    "Note that for full-batch methods the batch size is 1 and the predictions have shape $(1, N_{nodes}, N_{classes})$ so we remove the batch dimension to obtain predictions of shape $(N_{nodes}, N_{classes})$ using the NumPy `squeeze` method."
   ]
  },
  {
   "cell_type": "code",
   "execution_count": 37,
   "metadata": {},
   "outputs": [],
   "source": [
    "node_predictions = target_encoding.inverse_transform(all_predictions.squeeze())"
   ]
  },
  {
   "cell_type": "markdown",
   "metadata": {},
   "source": [
    "Let's have a look at a few predictions after training the model:"
   ]
  },
  {
   "cell_type": "code",
   "execution_count": 38,
   "metadata": {},
   "outputs": [
    {
     "data": {
      "text/html": [
       "<div>\n",
       "<style scoped>\n",
       "    .dataframe tbody tr th:only-of-type {\n",
       "        vertical-align: middle;\n",
       "    }\n",
       "\n",
       "    .dataframe tbody tr th {\n",
       "        vertical-align: top;\n",
       "    }\n",
       "\n",
       "    .dataframe thead th {\n",
       "        text-align: right;\n",
       "    }\n",
       "</style>\n",
       "<table border=\"1\" class=\"dataframe\">\n",
       "  <thead>\n",
       "    <tr style=\"text-align: right;\">\n",
       "      <th></th>\n",
       "      <th>Predicted</th>\n",
       "      <th>True</th>\n",
       "    </tr>\n",
       "  </thead>\n",
       "  <tbody>\n",
       "    <tr>\n",
       "      <td>31336</td>\n",
       "      <td>subject=Neural_Networks</td>\n",
       "      <td>Neural_Networks</td>\n",
       "    </tr>\n",
       "    <tr>\n",
       "      <td>1061127</td>\n",
       "      <td>subject=Rule_Learning</td>\n",
       "      <td>Rule_Learning</td>\n",
       "    </tr>\n",
       "    <tr>\n",
       "      <td>1106406</td>\n",
       "      <td>subject=Reinforcement_Learning</td>\n",
       "      <td>Reinforcement_Learning</td>\n",
       "    </tr>\n",
       "    <tr>\n",
       "      <td>13195</td>\n",
       "      <td>subject=Reinforcement_Learning</td>\n",
       "      <td>Reinforcement_Learning</td>\n",
       "    </tr>\n",
       "    <tr>\n",
       "      <td>37879</td>\n",
       "      <td>subject=Probabilistic_Methods</td>\n",
       "      <td>Probabilistic_Methods</td>\n",
       "    </tr>\n",
       "    <tr>\n",
       "      <td>1126012</td>\n",
       "      <td>subject=Probabilistic_Methods</td>\n",
       "      <td>Probabilistic_Methods</td>\n",
       "    </tr>\n",
       "    <tr>\n",
       "      <td>1107140</td>\n",
       "      <td>subject=Reinforcement_Learning</td>\n",
       "      <td>Theory</td>\n",
       "    </tr>\n",
       "    <tr>\n",
       "      <td>1102850</td>\n",
       "      <td>subject=Neural_Networks</td>\n",
       "      <td>Neural_Networks</td>\n",
       "    </tr>\n",
       "    <tr>\n",
       "      <td>31349</td>\n",
       "      <td>subject=Neural_Networks</td>\n",
       "      <td>Neural_Networks</td>\n",
       "    </tr>\n",
       "    <tr>\n",
       "      <td>1106418</td>\n",
       "      <td>subject=Theory</td>\n",
       "      <td>Theory</td>\n",
       "    </tr>\n",
       "    <tr>\n",
       "      <td>1123188</td>\n",
       "      <td>subject=Neural_Networks</td>\n",
       "      <td>Neural_Networks</td>\n",
       "    </tr>\n",
       "    <tr>\n",
       "      <td>1128990</td>\n",
       "      <td>subject=Genetic_Algorithms</td>\n",
       "      <td>Genetic_Algorithms</td>\n",
       "    </tr>\n",
       "    <tr>\n",
       "      <td>109323</td>\n",
       "      <td>subject=Probabilistic_Methods</td>\n",
       "      <td>Probabilistic_Methods</td>\n",
       "    </tr>\n",
       "    <tr>\n",
       "      <td>217139</td>\n",
       "      <td>subject=Case_Based</td>\n",
       "      <td>Case_Based</td>\n",
       "    </tr>\n",
       "    <tr>\n",
       "      <td>31353</td>\n",
       "      <td>subject=Neural_Networks</td>\n",
       "      <td>Neural_Networks</td>\n",
       "    </tr>\n",
       "    <tr>\n",
       "      <td>32083</td>\n",
       "      <td>subject=Neural_Networks</td>\n",
       "      <td>Neural_Networks</td>\n",
       "    </tr>\n",
       "    <tr>\n",
       "      <td>1126029</td>\n",
       "      <td>subject=Reinforcement_Learning</td>\n",
       "      <td>Reinforcement_Learning</td>\n",
       "    </tr>\n",
       "    <tr>\n",
       "      <td>1118017</td>\n",
       "      <td>subject=Neural_Networks</td>\n",
       "      <td>Neural_Networks</td>\n",
       "    </tr>\n",
       "    <tr>\n",
       "      <td>49482</td>\n",
       "      <td>subject=Neural_Networks</td>\n",
       "      <td>Neural_Networks</td>\n",
       "    </tr>\n",
       "    <tr>\n",
       "      <td>753265</td>\n",
       "      <td>subject=Neural_Networks</td>\n",
       "      <td>Neural_Networks</td>\n",
       "    </tr>\n",
       "  </tbody>\n",
       "</table>\n",
       "</div>"
      ],
      "text/plain": [
       "                              Predicted                    True\n",
       "31336           subject=Neural_Networks         Neural_Networks\n",
       "1061127           subject=Rule_Learning           Rule_Learning\n",
       "1106406  subject=Reinforcement_Learning  Reinforcement_Learning\n",
       "13195    subject=Reinforcement_Learning  Reinforcement_Learning\n",
       "37879     subject=Probabilistic_Methods   Probabilistic_Methods\n",
       "1126012   subject=Probabilistic_Methods   Probabilistic_Methods\n",
       "1107140  subject=Reinforcement_Learning                  Theory\n",
       "1102850         subject=Neural_Networks         Neural_Networks\n",
       "31349           subject=Neural_Networks         Neural_Networks\n",
       "1106418                  subject=Theory                  Theory\n",
       "1123188         subject=Neural_Networks         Neural_Networks\n",
       "1128990      subject=Genetic_Algorithms      Genetic_Algorithms\n",
       "109323    subject=Probabilistic_Methods   Probabilistic_Methods\n",
       "217139               subject=Case_Based              Case_Based\n",
       "31353           subject=Neural_Networks         Neural_Networks\n",
       "32083           subject=Neural_Networks         Neural_Networks\n",
       "1126029  subject=Reinforcement_Learning  Reinforcement_Learning\n",
       "1118017         subject=Neural_Networks         Neural_Networks\n",
       "49482           subject=Neural_Networks         Neural_Networks\n",
       "753265          subject=Neural_Networks         Neural_Networks"
      ]
     },
     "execution_count": 38,
     "metadata": {},
     "output_type": "execute_result"
    }
   ],
   "source": [
    "results = pd.DataFrame(node_predictions, index=all_nodes).idxmax(axis=1)\n",
    "df = pd.DataFrame({\"Predicted\": results, \"True\": node_data['subject']})\n",
    "df.head(20)"
   ]
  },
  {
   "cell_type": "markdown",
   "metadata": {},
   "source": [
    "Now we have an accurate model that can handle abritrarily large graphs and be trained accross as many GPU clusters as we need!"
   ]
  }
 ],
 "metadata": {
  "kernelspec": {
   "display_name": "Python 3",
   "language": "python",
   "name": "python3"
  },
  "language_info": {
   "codemirror_mode": {
    "name": "ipython",
    "version": 3
   },
   "file_extension": ".py",
   "mimetype": "text/x-python",
   "name": "python",
   "nbconvert_exporter": "python",
   "pygments_lexer": "ipython3",
   "version": "3.6.9"
  }
 },
 "nbformat": 4,
 "nbformat_minor": 2
}
