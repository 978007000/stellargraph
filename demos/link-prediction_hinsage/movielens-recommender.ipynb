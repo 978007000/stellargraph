{
 "cells": [
  {
   "cell_type": "code",
   "execution_count": 1,
   "metadata": {},
   "outputs": [
    {
     "name": "stderr",
     "output_type": "stream",
     "text": [
      "Using TensorFlow backend.\n"
     ]
    }
   ],
   "source": [
    "import json\n",
    "import pandas as pd\n",
    "from sklearn import preprocessing, feature_extraction, model_selection\n",
    "\n",
    "from stellar.data.stellargraph import *\n",
    "from stellar.mapper.link_mappers import HinSAGELinkMapper\n",
    "from stellar.layer.hinsage import HinSAGE\n",
    "from stellar.layer.link_inference import link_regression\n",
    "from keras import Model, optimizers, losses, metrics\n",
    "import keras.backend as K\n",
    "\n",
    "import multiprocessing"
   ]
  },
  {
   "cell_type": "code",
   "execution_count": 2,
   "metadata": {},
   "outputs": [],
   "source": [
    "import utils"
   ]
  },
  {
   "cell_type": "code",
   "execution_count": 3,
   "metadata": {},
   "outputs": [],
   "source": [
    "import matplotlib.pyplot as plt\n",
    "%matplotlib inline\n",
    "\n",
    "def plot_history(history):\n",
    "    metrics = sorted(history.history.keys())\n",
    "    metrics = metrics[:int(len(metrics)/2)]\n",
    "    for m in metrics:\n",
    "        # summarize history for root_mean_square_error\n",
    "        plt.plot(history.history[m])\n",
    "        plt.plot(history.history['val_' + m])\n",
    "        plt.title(m)\n",
    "        plt.ylabel(m)\n",
    "        plt.xlabel('epoch')\n",
    "        plt.legend(['train', 'test'], loc='upper right')\n",
    "        plt.show()"
   ]
  },
  {
   "cell_type": "code",
   "execution_count": 4,
   "metadata": {},
   "outputs": [],
   "source": [
    "with open(\"ml-100k-config.json\", \"r\") as f:\n",
    "    config = json.load(f)"
   ]
  },
  {
   "cell_type": "markdown",
   "metadata": {},
   "source": [
    "In this example we use the movielens dataset ml-100k that can be downloaded [here](https://grouplens.org/datasets/movielens/100k/). The dataset contains 100,000 ratings from 1000 users on 1700 movies.\n",
    "\n",
    "The data path below assumes that the dataset has been downloaded and unzipped into '../data/ml-100k/' directory."
   ]
  },
  {
   "cell_type": "code",
   "execution_count": 5,
   "metadata": {},
   "outputs": [],
   "source": [
    "data_path = \"../data/ml-100k/\""
   ]
  },
  {
   "cell_type": "markdown",
   "metadata": {},
   "source": [
    "Ingest the ratings into a user-movie graph:"
   ]
  },
  {
   "cell_type": "code",
   "execution_count": 6,
   "metadata": {},
   "outputs": [
    {
     "name": "stdout",
     "output_type": "stream",
     "text": [
      "Graph statistics: 943 users, 1682 movies, 100000 ratings\n"
     ]
    }
   ],
   "source": [
    "Gnx, id_map, inv_id_map = utils.ingest_graph(data_path, config)"
   ]
  },
  {
   "cell_type": "markdown",
   "metadata": {},
   "source": [
    "Ingest user and movie features:"
   ]
  },
  {
   "cell_type": "code",
   "execution_count": 7,
   "metadata": {},
   "outputs": [],
   "source": [
    "user_features = utils.ingest_features(data_path, config, node_type=\"users\")\n",
    "movie_features = utils.ingest_features(data_path, config, node_type=\"movies\")"
   ]
  },
  {
   "cell_type": "markdown",
   "metadata": {},
   "source": [
    "Explore user and movie features:"
   ]
  },
  {
   "cell_type": "code",
   "execution_count": 8,
   "metadata": {},
   "outputs": [
    {
     "data": {
      "text/html": [
       "<div>\n",
       "<style scoped>\n",
       "    .dataframe tbody tr th:only-of-type {\n",
       "        vertical-align: middle;\n",
       "    }\n",
       "\n",
       "    .dataframe tbody tr th {\n",
       "        vertical-align: top;\n",
       "    }\n",
       "\n",
       "    .dataframe thead th {\n",
       "        text-align: right;\n",
       "    }\n",
       "</style>\n",
       "<table border=\"1\" class=\"dataframe\">\n",
       "  <thead>\n",
       "    <tr style=\"text-align: right;\">\n",
       "      <th></th>\n",
       "      <th>age</th>\n",
       "      <th>gender</th>\n",
       "      <th>job</th>\n",
       "    </tr>\n",
       "    <tr>\n",
       "      <th>uId</th>\n",
       "      <th></th>\n",
       "      <th></th>\n",
       "      <th></th>\n",
       "    </tr>\n",
       "  </thead>\n",
       "  <tbody>\n",
       "    <tr>\n",
       "      <th>1</th>\n",
       "      <td>24</td>\n",
       "      <td>M</td>\n",
       "      <td>technician</td>\n",
       "    </tr>\n",
       "    <tr>\n",
       "      <th>2</th>\n",
       "      <td>53</td>\n",
       "      <td>F</td>\n",
       "      <td>other</td>\n",
       "    </tr>\n",
       "    <tr>\n",
       "      <th>3</th>\n",
       "      <td>23</td>\n",
       "      <td>M</td>\n",
       "      <td>writer</td>\n",
       "    </tr>\n",
       "    <tr>\n",
       "      <th>4</th>\n",
       "      <td>24</td>\n",
       "      <td>M</td>\n",
       "      <td>technician</td>\n",
       "    </tr>\n",
       "    <tr>\n",
       "      <th>5</th>\n",
       "      <td>33</td>\n",
       "      <td>F</td>\n",
       "      <td>other</td>\n",
       "    </tr>\n",
       "  </tbody>\n",
       "</table>\n",
       "</div>"
      ],
      "text/plain": [
       "     age gender         job\n",
       "uId                        \n",
       "1     24      M  technician\n",
       "2     53      F       other\n",
       "3     23      M      writer\n",
       "4     24      M  technician\n",
       "5     33      F       other"
      ]
     },
     "execution_count": 8,
     "metadata": {},
     "output_type": "execute_result"
    }
   ],
   "source": [
    "user_features.head()"
   ]
  },
  {
   "cell_type": "code",
   "execution_count": 9,
   "metadata": {},
   "outputs": [
    {
     "data": {
      "text/html": [
       "<div>\n",
       "<style scoped>\n",
       "    .dataframe tbody tr th:only-of-type {\n",
       "        vertical-align: middle;\n",
       "    }\n",
       "\n",
       "    .dataframe tbody tr th {\n",
       "        vertical-align: top;\n",
       "    }\n",
       "\n",
       "    .dataframe thead th {\n",
       "        text-align: right;\n",
       "    }\n",
       "</style>\n",
       "<table border=\"1\" class=\"dataframe\">\n",
       "  <thead>\n",
       "    <tr style=\"text-align: right;\">\n",
       "      <th></th>\n",
       "      <th>g1</th>\n",
       "      <th>g2</th>\n",
       "      <th>g3</th>\n",
       "      <th>g4</th>\n",
       "      <th>g5</th>\n",
       "      <th>g6</th>\n",
       "      <th>g7</th>\n",
       "      <th>g8</th>\n",
       "      <th>g9</th>\n",
       "      <th>g10</th>\n",
       "      <th>g11</th>\n",
       "      <th>g12</th>\n",
       "      <th>g13</th>\n",
       "      <th>g14</th>\n",
       "      <th>g15</th>\n",
       "      <th>g16</th>\n",
       "      <th>g17</th>\n",
       "      <th>g18</th>\n",
       "      <th>g19</th>\n",
       "    </tr>\n",
       "    <tr>\n",
       "      <th>mId</th>\n",
       "      <th></th>\n",
       "      <th></th>\n",
       "      <th></th>\n",
       "      <th></th>\n",
       "      <th></th>\n",
       "      <th></th>\n",
       "      <th></th>\n",
       "      <th></th>\n",
       "      <th></th>\n",
       "      <th></th>\n",
       "      <th></th>\n",
       "      <th></th>\n",
       "      <th></th>\n",
       "      <th></th>\n",
       "      <th></th>\n",
       "      <th></th>\n",
       "      <th></th>\n",
       "      <th></th>\n",
       "      <th></th>\n",
       "    </tr>\n",
       "  </thead>\n",
       "  <tbody>\n",
       "    <tr>\n",
       "      <th>1</th>\n",
       "      <td>0</td>\n",
       "      <td>0</td>\n",
       "      <td>0</td>\n",
       "      <td>1</td>\n",
       "      <td>1</td>\n",
       "      <td>1</td>\n",
       "      <td>0</td>\n",
       "      <td>0</td>\n",
       "      <td>0</td>\n",
       "      <td>0</td>\n",
       "      <td>0</td>\n",
       "      <td>0</td>\n",
       "      <td>0</td>\n",
       "      <td>0</td>\n",
       "      <td>0</td>\n",
       "      <td>0</td>\n",
       "      <td>0</td>\n",
       "      <td>0</td>\n",
       "      <td>0</td>\n",
       "    </tr>\n",
       "    <tr>\n",
       "      <th>2</th>\n",
       "      <td>0</td>\n",
       "      <td>1</td>\n",
       "      <td>1</td>\n",
       "      <td>0</td>\n",
       "      <td>0</td>\n",
       "      <td>0</td>\n",
       "      <td>0</td>\n",
       "      <td>0</td>\n",
       "      <td>0</td>\n",
       "      <td>0</td>\n",
       "      <td>0</td>\n",
       "      <td>0</td>\n",
       "      <td>0</td>\n",
       "      <td>0</td>\n",
       "      <td>0</td>\n",
       "      <td>0</td>\n",
       "      <td>1</td>\n",
       "      <td>0</td>\n",
       "      <td>0</td>\n",
       "    </tr>\n",
       "    <tr>\n",
       "      <th>3</th>\n",
       "      <td>0</td>\n",
       "      <td>0</td>\n",
       "      <td>0</td>\n",
       "      <td>0</td>\n",
       "      <td>0</td>\n",
       "      <td>0</td>\n",
       "      <td>0</td>\n",
       "      <td>0</td>\n",
       "      <td>0</td>\n",
       "      <td>0</td>\n",
       "      <td>0</td>\n",
       "      <td>0</td>\n",
       "      <td>0</td>\n",
       "      <td>0</td>\n",
       "      <td>0</td>\n",
       "      <td>0</td>\n",
       "      <td>1</td>\n",
       "      <td>0</td>\n",
       "      <td>0</td>\n",
       "    </tr>\n",
       "    <tr>\n",
       "      <th>4</th>\n",
       "      <td>0</td>\n",
       "      <td>1</td>\n",
       "      <td>0</td>\n",
       "      <td>0</td>\n",
       "      <td>0</td>\n",
       "      <td>1</td>\n",
       "      <td>0</td>\n",
       "      <td>0</td>\n",
       "      <td>1</td>\n",
       "      <td>0</td>\n",
       "      <td>0</td>\n",
       "      <td>0</td>\n",
       "      <td>0</td>\n",
       "      <td>0</td>\n",
       "      <td>0</td>\n",
       "      <td>0</td>\n",
       "      <td>0</td>\n",
       "      <td>0</td>\n",
       "      <td>0</td>\n",
       "    </tr>\n",
       "    <tr>\n",
       "      <th>5</th>\n",
       "      <td>0</td>\n",
       "      <td>0</td>\n",
       "      <td>0</td>\n",
       "      <td>0</td>\n",
       "      <td>0</td>\n",
       "      <td>0</td>\n",
       "      <td>1</td>\n",
       "      <td>0</td>\n",
       "      <td>1</td>\n",
       "      <td>0</td>\n",
       "      <td>0</td>\n",
       "      <td>0</td>\n",
       "      <td>0</td>\n",
       "      <td>0</td>\n",
       "      <td>0</td>\n",
       "      <td>0</td>\n",
       "      <td>1</td>\n",
       "      <td>0</td>\n",
       "      <td>0</td>\n",
       "    </tr>\n",
       "  </tbody>\n",
       "</table>\n",
       "</div>"
      ],
      "text/plain": [
       "     g1  g2  g3  g4  g5  g6  g7  g8  g9  g10  g11  g12  g13  g14  g15  g16  \\\n",
       "mId                                                                          \n",
       "1     0   0   0   1   1   1   0   0   0    0    0    0    0    0    0    0   \n",
       "2     0   1   1   0   0   0   0   0   0    0    0    0    0    0    0    0   \n",
       "3     0   0   0   0   0   0   0   0   0    0    0    0    0    0    0    0   \n",
       "4     0   1   0   0   0   1   0   0   1    0    0    0    0    0    0    0   \n",
       "5     0   0   0   0   0   0   1   0   1    0    0    0    0    0    0    0   \n",
       "\n",
       "     g17  g18  g19  \n",
       "mId                 \n",
       "1      0    0    0  \n",
       "2      1    0    0  \n",
       "3      1    0    0  \n",
       "4      0    0    0  \n",
       "5      1    0    0  "
      ]
     },
     "execution_count": 9,
     "metadata": {},
     "output_type": "execute_result"
    }
   ],
   "source": [
    "movie_features.head()"
   ]
  },
  {
   "cell_type": "markdown",
   "metadata": {},
   "source": [
    "Prepare the user features for ML (movie features are already numeric and hence ML-ready):"
   ]
  },
  {
   "cell_type": "code",
   "execution_count": 10,
   "metadata": {},
   "outputs": [],
   "source": [
    "feature_names = [\"age\", \"gender\", \"job\"]\n",
    "\n",
    "feature_encoding = feature_extraction.DictVectorizer(sparse=False, dtype=int)\n",
    "feature_encoding.fit(user_features[feature_names].to_dict('records'))\n",
    "\n",
    "user_features_transformed = feature_encoding.transform(user_features[feature_names].to_dict('records'))\n",
    "user_features = pd.DataFrame(user_features_transformed, index=user_features.index)"
   ]
  },
  {
   "cell_type": "markdown",
   "metadata": {},
   "source": [
    "Add the user and movie features to the graph:"
   ]
  },
  {
   "cell_type": "code",
   "execution_count": 11,
   "metadata": {},
   "outputs": [],
   "source": [
    "Gnx = utils.add_features_to_nodes(Gnx, inv_id_map, user_features, movie_features)"
   ]
  },
  {
   "cell_type": "markdown",
   "metadata": {},
   "source": [
    "Split Gnx.edges() into train and test sets:"
   ]
  },
  {
   "cell_type": "code",
   "execution_count": 12,
   "metadata": {},
   "outputs": [],
   "source": [
    "edges = list(Gnx.edges(data=True))"
   ]
  },
  {
   "cell_type": "code",
   "execution_count": 13,
   "metadata": {},
   "outputs": [
    {
     "name": "stderr",
     "output_type": "stream",
     "text": [
      "/Users/tys017/anaconda3/envs/stellars_py3.6/lib/python3.6/site-packages/sklearn/model_selection/_split.py:2026: FutureWarning: From version 0.21, test_size will always complement train_size unless both are specified.\n",
      "  FutureWarning)\n"
     ]
    }
   ],
   "source": [
    "edges_train, edges_test = model_selection.train_test_split(edges, train_size=0.7)\n",
    "\n",
    "edgelist_train = [(e[0],e[1]) for e in edges_train]\n",
    "edgelist_test = [(e[0],e[1]) for e in edges_test]\n",
    "\n",
    "labels_train = [e[2][\"score\"] for e in edges_train]\n",
    "labels_test = [e[2][\"score\"] for e in edges_test]"
   ]
  },
  {
   "cell_type": "markdown",
   "metadata": {},
   "source": [
    "Our machine learning task of learning user-movie ratings can be framed as a supervised Link Attribute Inference: given a graph of user-movie ratings, we train a model for rating prediction using the ratings edges_train, and evaluate it using the test ratings edges_test. The model also requires the user-movie graph structure.\n",
    "\n",
    "To proceed, we need to create a StellarGraph object from the ingested graph, for training the model:"
   ]
  },
  {
   "cell_type": "code",
   "execution_count": 14,
   "metadata": {},
   "outputs": [],
   "source": [
    "# When sampling the GraphSAGE subgraphs, we want to treat user-movie links as undirected\n",
    "G = StellarGraph(Gnx)"
   ]
  },
  {
   "cell_type": "markdown",
   "metadata": {},
   "source": [
    "Make sure the StellarGraph object is ML-ready, i.e., that its node features are numeric (as required by the model):"
   ]
  },
  {
   "cell_type": "code",
   "execution_count": 15,
   "metadata": {},
   "outputs": [
    {
     "name": "stdout",
     "output_type": "stream",
     "text": [
      "Warning: Some nodes have no value for attribute 'target', using default value.\n",
      "Warning: Some nodes have no value for attribute 'target', using default value.\n"
     ]
    }
   ],
   "source": [
    "G.fit_attribute_spec()"
   ]
  },
  {
   "cell_type": "markdown",
   "metadata": {},
   "source": [
    "Now we are ready for our ML task of learning to predict user-movie ratings!\n",
    "\n",
    "Summary of the prepared ML-ready StellarGraph:"
   ]
  },
  {
   "cell_type": "code",
   "execution_count": 16,
   "metadata": {},
   "outputs": [
    {
     "name": "stdout",
     "output_type": "stream",
     "text": [
      "StellarGraph: Undirected multigraph\n",
      " Nodes: 2625, Edges: 100000\n",
      "\n",
      " Node types:\n",
      "  movie: [1682]\n",
      "        Attributes: {'feature'}\n",
      "    Edge types: movie-->user\n",
      "  user: [943]\n",
      "        Attributes: {'feature'}\n",
      "    Edge types: user-->movie\n",
      "\n",
      " Edge types:\n",
      "    movie-->user: [74198]\n",
      "        Attributes: {'score', 'mId', 'uId'}\n",
      "    user-->movie: [25802]\n",
      "        Attributes: {'score', 'mId', 'uId'}\n",
      "\n"
     ]
    }
   ],
   "source": [
    "print(G.info())"
   ]
  },
  {
   "cell_type": "markdown",
   "metadata": {},
   "source": [
    "Next, we create the link mappers for preparing and streaming training and testing data to the model. The mappers essentially sample k-hop subgraphs of G with randomly selected head nodes, as required by the HinSAGE algorithm, and generate minibatches of those samples to be fed to the input layer of the HinSAGE model.\n",
    "\n",
    "Specify the minibatch size and the number of epochs for training the ML model:"
   ]
  },
  {
   "cell_type": "code",
   "execution_count": 17,
   "metadata": {},
   "outputs": [],
   "source": [
    "batch_size = 500\n",
    "epochs = 10"
   ]
  },
  {
   "cell_type": "markdown",
   "metadata": {},
   "source": [
    "Specify the sizes of 1- and 2-hop neighbour samples for HinSAGE:\n",
    "\n",
    "Note that the length of `num_samples` list defines the number of layers/iterations in the HinSAGE model."
   ]
  },
  {
   "cell_type": "code",
   "execution_count": 18,
   "metadata": {},
   "outputs": [],
   "source": [
    "num_samples = [2, 5]"
   ]
  },
  {
   "cell_type": "markdown",
   "metadata": {},
   "source": [
    "Create the mappers:"
   ]
  },
  {
   "cell_type": "code",
   "execution_count": 19,
   "metadata": {},
   "outputs": [],
   "source": [
    "mapper_train = HinSAGELinkMapper(\n",
    "            G,\n",
    "            edgelist_train,\n",
    "            labels_train,\n",
    "            batch_size,\n",
    "            num_samples,\n",
    "            name=\"mapper_train\",\n",
    "        )\n",
    "\n",
    "mapper_test = HinSAGELinkMapper(\n",
    "            G,\n",
    "            edgelist_test,\n",
    "            labels_test,\n",
    "            batch_size,\n",
    "            num_samples,\n",
    "            name=\"mapper_test\",\n",
    "        )"
   ]
  },
  {
   "cell_type": "markdown",
   "metadata": {},
   "source": [
    "Build the model by stacking a two-layer HinSAGE model and a link regression layer on top.\n",
    "\n",
    "First, we define the HinSAGE part of the model, with hidden layer sizes of 50 for both HinSAGE layers, and a bias. \n",
    "\n",
    "Note that the length of `layer_sizes` list must be equal to the length of `num_samples`, as `len(num_samples)` defines the number of hops (layers) in the HinSAGE model."
   ]
  },
  {
   "cell_type": "code",
   "execution_count": 21,
   "metadata": {},
   "outputs": [],
   "source": [
    "hinsage_layer_sizes = [32, 32]\n",
    "assert len(hinsage_layer_sizes) == len(num_samples)\n",
    "\n",
    "hinsage = HinSAGE(layer_sizes=hinsage_layer_sizes, \n",
    "                  mapper=mapper_train, \n",
    "                  bias=True, \n",
    "                  dropout=0.0)"
   ]
  },
  {
   "cell_type": "code",
   "execution_count": 22,
   "metadata": {},
   "outputs": [],
   "source": [
    "# Expose input and output sockets of hinsage:\n",
    "x_inp, x_out = hinsage.default_model()"
   ]
  },
  {
   "cell_type": "markdown",
   "metadata": {},
   "source": [
    "Add the final estimator layer for predicting the ratings. The edge_feature_method argument specifies the way in which node representations (node embeddings) are combined into link representations (recall that links represent user-movie ratings, and are thus pairs of (user, movie) nodes). In this example, we will use 'concat', i.e., node embeddings are concatenated to get link embeddings."
   ]
  },
  {
   "cell_type": "code",
   "execution_count": 23,
   "metadata": {},
   "outputs": [
    {
     "name": "stdout",
     "output_type": "stream",
     "text": [
      "link_regression: using 'concat' method to combine node embeddings into edge embeddings\n"
     ]
    }
   ],
   "source": [
    "# Final estimator layer\n",
    "score_prediction = link_regression(edge_feature_method='concat')(x_out)"
   ]
  },
  {
   "cell_type": "markdown",
   "metadata": {},
   "source": [
    "Create the Keras model, and compile it by specifying the optimizer, loss function to optimise, and metrics for diagnostics:"
   ]
  },
  {
   "cell_type": "code",
   "execution_count": 24,
   "metadata": {},
   "outputs": [],
   "source": [
    "def root_mean_square_error(s_true, s_pred):\n",
    "    return K.sqrt(K.mean(K.pow(s_true - s_pred, 2)))\n",
    "\n",
    "model = Model(inputs=x_inp, outputs=score_prediction)\n",
    "model.compile(\n",
    "    optimizer=optimizers.Adam(lr=1e-3),\n",
    "    loss=losses.mean_squared_error,\n",
    "    metrics=[root_mean_square_error, metrics.mae],\n",
    ")"
   ]
  },
  {
   "cell_type": "markdown",
   "metadata": {},
   "source": [
    "Summary of the model:"
   ]
  },
  {
   "cell_type": "code",
   "execution_count": 25,
   "metadata": {},
   "outputs": [
    {
     "name": "stdout",
     "output_type": "stream",
     "text": [
      "__________________________________________________________________________________________________\n",
      "Layer (type)                    Output Shape         Param #     Connected to                     \n",
      "==================================================================================================\n",
      "input_3 (InputLayer)            (None, 2, 19)        0                                            \n",
      "__________________________________________________________________________________________________\n",
      "input_5 (InputLayer)            (None, 10, 24)       0                                            \n",
      "__________________________________________________________________________________________________\n",
      "input_6 (InputLayer)            (None, 10, 19)       0                                            \n",
      "__________________________________________________________________________________________________\n",
      "input_1 (InputLayer)            (None, 1, 24)        0                                            \n",
      "__________________________________________________________________________________________________\n",
      "reshape_7 (Reshape)             (None, 1, 2, 19)     0           input_3[0][0]                    \n",
      "__________________________________________________________________________________________________\n",
      "reshape_9 (Reshape)             (None, 2, 5, 24)     0           input_5[0][0]                    \n",
      "__________________________________________________________________________________________________\n",
      "input_4 (InputLayer)            (None, 2, 24)        0                                            \n",
      "__________________________________________________________________________________________________\n",
      "reshape_10 (Reshape)            (None, 2, 5, 19)     0           input_6[0][0]                    \n",
      "__________________________________________________________________________________________________\n",
      "dropout_1 (Dropout)             (None, 1, 24)        0           input_1[0][0]                    \n",
      "__________________________________________________________________________________________________\n",
      "dropout_2 (Dropout)             (None, 1, 2, 19)     0           reshape_7[0][0]                  \n",
      "__________________________________________________________________________________________________\n",
      "dropout_5 (Dropout)             (None, 2, 19)        0           input_3[0][0]                    \n",
      "__________________________________________________________________________________________________\n",
      "dropout_6 (Dropout)             (None, 2, 5, 24)     0           reshape_9[0][0]                  \n",
      "__________________________________________________________________________________________________\n",
      "input_2 (InputLayer)            (None, 1, 19)        0                                            \n",
      "__________________________________________________________________________________________________\n",
      "reshape_8 (Reshape)             (None, 1, 2, 24)     0           input_4[0][0]                    \n",
      "__________________________________________________________________________________________________\n",
      "dropout_7 (Dropout)             (None, 2, 24)        0           input_4[0][0]                    \n",
      "__________________________________________________________________________________________________\n",
      "dropout_8 (Dropout)             (None, 2, 5, 19)     0           reshape_10[0][0]                 \n",
      "__________________________________________________________________________________________________\n",
      "mean_hin_aggregator_5 (MeanHinA multiple             720         dropout_1[0][0]                  \n",
      "                                                                 dropout_2[0][0]                  \n",
      "                                                                 dropout_7[0][0]                  \n",
      "                                                                 dropout_8[0][0]                  \n",
      "__________________________________________________________________________________________________\n",
      "mean_hin_aggregator_6 (MeanHinA multiple             720         dropout_3[0][0]                  \n",
      "                                                                 dropout_4[0][0]                  \n",
      "                                                                 dropout_5[0][0]                  \n",
      "                                                                 dropout_6[0][0]                  \n",
      "__________________________________________________________________________________________________\n",
      "dropout_3 (Dropout)             (None, 1, 19)        0           input_2[0][0]                    \n",
      "__________________________________________________________________________________________________\n",
      "dropout_4 (Dropout)             (None, 1, 2, 24)     0           reshape_8[0][0]                  \n",
      "__________________________________________________________________________________________________\n",
      "reshape_11 (Reshape)            (None, 1, 2, 32)     0           mean_hin_aggregator_6[1][0]      \n",
      "__________________________________________________________________________________________________\n",
      "reshape_12 (Reshape)            (None, 1, 2, 32)     0           mean_hin_aggregator_5[1][0]      \n",
      "__________________________________________________________________________________________________\n",
      "dropout_9 (Dropout)             (None, 1, 32)        0           mean_hin_aggregator_5[0][0]      \n",
      "__________________________________________________________________________________________________\n",
      "dropout_10 (Dropout)            (None, 1, 2, 32)     0           reshape_11[0][0]                 \n",
      "__________________________________________________________________________________________________\n",
      "dropout_11 (Dropout)            (None, 1, 32)        0           mean_hin_aggregator_6[0][0]      \n",
      "__________________________________________________________________________________________________\n",
      "dropout_12 (Dropout)            (None, 1, 2, 32)     0           reshape_12[0][0]                 \n",
      "__________________________________________________________________________________________________\n",
      "mean_hin_aggregator_7 (MeanHinA (None, 1, 32)        1056        dropout_9[0][0]                  \n",
      "                                                                 dropout_10[0][0]                 \n",
      "__________________________________________________________________________________________________\n",
      "mean_hin_aggregator_8 (MeanHinA (None, 1, 32)        1056        dropout_11[0][0]                 \n",
      "                                                                 dropout_12[0][0]                 \n",
      "__________________________________________________________________________________________________\n",
      "lambda_2 (Lambda)               (None, 1, 32)        0           mean_hin_aggregator_7[0][0]      \n",
      "                                                                 mean_hin_aggregator_8[0][0]      \n",
      "__________________________________________________________________________________________________\n",
      "concatenate_1 (Concatenate)     (None, 1, 64)        0           lambda_2[0][0]                   \n",
      "                                                                 lambda_2[1][0]                   \n",
      "__________________________________________________________________________________________________\n",
      "dense_1 (Dense)                 (None, 1, 1)         65          concatenate_1[0][0]              \n",
      "__________________________________________________________________________________________________\n",
      "reshape_13 (Reshape)            (None, 1)            0           dense_1[0][0]                    \n",
      "==================================================================================================\n",
      "Total params: 3,617\n",
      "Trainable params: 3,617\n",
      "Non-trainable params: 0\n",
      "__________________________________________________________________________________________________\n"
     ]
    }
   ],
   "source": [
    "model.summary()"
   ]
  },
  {
   "cell_type": "code",
   "execution_count": 26,
   "metadata": {},
   "outputs": [],
   "source": [
    "# Specify the number of workers to use for model training (relevant only when multiprocessing=True)\n",
    "num_workers = int(multiprocessing.cpu_count()/2)"
   ]
  },
  {
   "cell_type": "markdown",
   "metadata": {},
   "source": [
    "Evaluate the fresh (untrained) model on the test set (for reference):"
   ]
  },
  {
   "cell_type": "code",
   "execution_count": 27,
   "metadata": {},
   "outputs": [
    {
     "name": "stdout",
     "output_type": "stream",
     "text": [
      "60/60 [==============================] - 1s 19ms/step\n",
      "Untrained model's Test Evaluation:\n",
      "\tloss: 13.2909\n",
      "\troot_mean_square_error: 3.6454\n",
      "\tmean_absolute_error: 3.4671\n"
     ]
    }
   ],
   "source": [
    "test_metrics = model.evaluate_generator(mapper_test, verbose=1, \n",
    "                                        use_multiprocessing=True, workers=num_workers)\n",
    "\n",
    "print(\"Untrained model's Test Evaluation:\")\n",
    "for name, val in zip(model.metrics_names, test_metrics):\n",
    "    print(\"\\t{}: {:0.4f}\".format(name, val))"
   ]
  },
  {
   "cell_type": "markdown",
   "metadata": {},
   "source": [
    "Train the model by feeding the data from the graph in minibatches, using mapper_train, and get validation metrics after each epoch:"
   ]
  },
  {
   "cell_type": "code",
   "execution_count": 28,
   "metadata": {
    "scrolled": false
   },
   "outputs": [
    {
     "name": "stdout",
     "output_type": "stream",
     "text": [
      "Epoch 1/10\n",
      "140/140 [==============================] - 4s 30ms/step - loss: 4.8324 - root_mean_square_error: 2.0969 - mean_absolute_error: 1.8811 - val_loss: 1.8093 - val_root_mean_square_error: 1.3447 - val_mean_absolute_error: 1.1350\n",
      "Epoch 2/10\n",
      "140/140 [==============================] - 3s 24ms/step - loss: 1.4232 - root_mean_square_error: 1.1913 - mean_absolute_error: 0.9921 - val_loss: 1.2887 - val_root_mean_square_error: 1.1348 - val_mean_absolute_error: 0.9611\n",
      "Epoch 3/10\n",
      "140/140 [==============================] - 3s 24ms/step - loss: 1.2686 - root_mean_square_error: 1.1258 - mean_absolute_error: 0.9491 - val_loss: 1.2697 - val_root_mean_square_error: 1.1264 - val_mean_absolute_error: 0.9480\n",
      "Epoch 4/10\n",
      "140/140 [==============================] - 4s 28ms/step - loss: 1.2630 - root_mean_square_error: 1.1233 - mean_absolute_error: 0.9447 - val_loss: 1.2662 - val_root_mean_square_error: 1.1248 - val_mean_absolute_error: 0.9466\n",
      "Epoch 5/10\n",
      "140/140 [==============================] - 4s 25ms/step - loss: 1.2567 - root_mean_square_error: 1.1205 - mean_absolute_error: 0.9424 - val_loss: 1.2559 - val_root_mean_square_error: 1.1203 - val_mean_absolute_error: 0.9418\n",
      "Epoch 6/10\n",
      "140/140 [==============================] - 4s 27ms/step - loss: 1.2400 - root_mean_square_error: 1.1131 - mean_absolute_error: 0.9338 - val_loss: 1.2350 - val_root_mean_square_error: 1.1109 - val_mean_absolute_error: 0.9284\n",
      "Epoch 7/10\n",
      "140/140 [==============================] - 4s 28ms/step - loss: 1.2258 - root_mean_square_error: 1.1067 - mean_absolute_error: 0.9205 - val_loss: 1.2269 - val_root_mean_square_error: 1.1073 - val_mean_absolute_error: 0.9202\n",
      "Epoch 8/10\n",
      "140/140 [==============================] - 4s 25ms/step - loss: 1.2186 - root_mean_square_error: 1.1034 - mean_absolute_error: 0.9141 - val_loss: 1.2211 - val_root_mean_square_error: 1.1047 - val_mean_absolute_error: 0.9152\n",
      "Epoch 9/10\n",
      "140/140 [==============================] - 3s 24ms/step - loss: 1.2136 - root_mean_square_error: 1.1011 - mean_absolute_error: 0.9103 - val_loss: 1.2163 - val_root_mean_square_error: 1.1025 - val_mean_absolute_error: 0.9127\n",
      "Epoch 10/10\n",
      "140/140 [==============================] - 4s 30ms/step - loss: 1.2051 - root_mean_square_error: 1.0973 - mean_absolute_error: 0.9061 - val_loss: 1.2109 - val_root_mean_square_error: 1.1001 - val_mean_absolute_error: 0.9102\n"
     ]
    }
   ],
   "source": [
    "history = model.fit_generator(\n",
    "            mapper_train,\n",
    "            validation_data=mapper_test,\n",
    "            epochs=epochs,\n",
    "            verbose=1,\n",
    "            shuffle=True,\n",
    "            use_multiprocessing=True,\n",
    "            workers=num_workers,\n",
    "        )"
   ]
  },
  {
   "cell_type": "markdown",
   "metadata": {},
   "source": [
    "Plot the training history:"
   ]
  },
  {
   "cell_type": "code",
   "execution_count": 29,
   "metadata": {},
   "outputs": [
    {
     "data": {
      "image/png": "[encoded data removed]",
      "text/plain": [
       "<Figure size 432x288 with 1 Axes>"
      ]
     },
     "metadata": {},
     "output_type": "display_data"
    },
    {
     "data": {
      "image/png": "[encoded data removed]",
      "text/plain": [
       "<Figure size 432x288 with 1 Axes>"
      ]
     },
     "metadata": {},
     "output_type": "display_data"
    },
    {
     "data": {
      "image/png": "[encoded data removed]",
      "text/plain": [
       "<Figure size 432x288 with 1 Axes>"
      ]
     },
     "metadata": {},
     "output_type": "display_data"
    }
   ],
   "source": [
    "plot_history(history)"
   ]
  },
  {
   "cell_type": "markdown",
   "metadata": {},
   "source": [
    "Evaluate the trained model on test user-movie rankings:"
   ]
  },
  {
   "cell_type": "code",
   "execution_count": 30,
   "metadata": {},
   "outputs": [
    {
     "name": "stdout",
     "output_type": "stream",
     "text": [
      "60/60 [==============================] - 1s 17ms/step\n"
     ]
    }
   ],
   "source": [
    "test_metrics = model.evaluate_generator(mapper_test, use_multiprocessing=True, workers=num_workers, verbose=1)"
   ]
  },
  {
   "cell_type": "code",
   "execution_count": 31,
   "metadata": {},
   "outputs": [
    {
     "name": "stdout",
     "output_type": "stream",
     "text": [
      "Test Evaluation:\n",
      "\tloss: 1.2100\n",
      "\troot_mean_square_error: 1.0996\n",
      "\tmean_absolute_error: 0.9107\n"
     ]
    }
   ],
   "source": [
    "print(\"Test Evaluation:\")\n",
    "for name, val in zip(model.metrics_names, test_metrics):\n",
    "    print(\"\\t{}: {:0.4f}\".format(name, val))"
   ]
  },
  {
   "cell_type": "markdown",
   "metadata": {},
   "source": [
    "Compare the predicted test rankings with \"mean baseline\" rankings, to see how much better our model does compared to this (very simplistic) baseline:"
   ]
  },
  {
   "cell_type": "code",
   "execution_count": 32,
   "metadata": {},
   "outputs": [
    {
     "name": "stdout",
     "output_type": "stream",
     "text": [
      "Mean Baseline Test set metrics:\n",
      "\troot_mean_square_error =  1.1271633180491447\n",
      "\tmean_absolute_error =  0.9453516473611195\n",
      "\n",
      "Model Test set metrics:\n",
      "\troot_mean_square_error =  1.1001502418075377\n",
      "\tmean_absolute_error =  0.9106314147790273\n"
     ]
    }
   ],
   "source": [
    "from sklearn.metrics import mean_absolute_error, mean_squared_error\n",
    "y_true = labels_test\n",
    "# Predict the rankings using the model:\n",
    "y_pred = model.predict_generator(mapper_test)\n",
    "# Mean baseline rankings = mean movie ranking:\n",
    "y_pred_baseline = y_pred/y_pred*np.mean(y_true)\n",
    "\n",
    "rmse = np.sqrt(mean_squared_error(y_true, y_pred_baseline))\n",
    "mae = mean_absolute_error(y_true, y_pred_baseline)\n",
    "print(\"Mean Baseline Test set metrics:\")\n",
    "print(\"\\troot_mean_square_error = \", rmse)\n",
    "print(\"\\tmean_absolute_error = \", mae)\n",
    "\n",
    "rmse = np.sqrt(mean_squared_error(y_true, y_pred))\n",
    "mae = mean_absolute_error(y_true, y_pred)\n",
    "print(\"\\nModel Test set metrics:\")\n",
    "print(\"\\troot_mean_square_error = \", rmse)\n",
    "print(\"\\tmean_absolute_error = \", mae)"
   ]
  },
  {
   "cell_type": "markdown",
   "metadata": {},
   "source": [
    "We see that our model beats the \"mean baseline\", although not by much. To further improve the model, you can try increasing the number of training epochs, change the dropout rate, change the sample sizes for subgraph sampling `num_samples`, hidden layer sizes `layer_sizes` of the HinSAGE part of the model, or try increasing the number of HinSAGE layers."
   ]
  },
  {
   "cell_type": "code",
   "execution_count": null,
   "metadata": {},
   "outputs": [],
   "source": []
  }
 ],
 "metadata": {
  "kernelspec": {
   "display_name": "Python 3",
   "language": "python",
   "name": "python3"
  },
  "language_info": {
   "codemirror_mode": {
    "name": "ipython",
    "version": 3
   },
   "file_extension": ".py",
   "mimetype": "text/x-python",
   "name": "python",
   "nbconvert_exporter": "python",
   "pygments_lexer": "ipython3",
   "version": "3.6.4"
  }
 },
 "nbformat": 4,
 "nbformat_minor": 2
}
