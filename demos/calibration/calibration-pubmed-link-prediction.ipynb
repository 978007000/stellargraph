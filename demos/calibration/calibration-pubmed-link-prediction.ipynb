{
 "cells": [
  {
   "cell_type": "markdown",
   "metadata": {},
   "source": [
    "# Link prediction example and calibration: GraphSAGE on the PubMed-Diabetes citation dataset"
   ]
  },
  {
   "cell_type": "markdown",
   "metadata": {},
   "source": [
    "In this example, we use our implementation of the [GraphSAGE](http://snap.stanford.edu/graphsage/) algorithm to build a model that predicts citation links in the PubMed-Diabetes dataset (see below). The problem is treated as a supervised link prediction problem on a homogeneous citation network with nodes representing papers (with attributes such as binary keyword indicators and categorical subject) and links corresponding to paper-paper citations. \n",
    "\n",
    "To address this problem, we build a model with the following architecture. First we build a two-layer GraphSAGE model that takes labeled `(paper1, paper2)` node pairs corresponding to possible citation links, and outputs a pair of node embeddings for the `paper1` and `paper2` nodes of the pair. These embeddings are then fed into a link classification layer, which first applies a binary operator to those node embeddings (e.g., concatenating them) to construct the embedding of the potential link. Thus obtained link embeddings are passed through the dense link classification layer to obtain link predictions - probability for these candidate links to actually exist in the network. The entire model is trained end-to-end by minimizing the loss function of choice (e.g., binary cross-entropy between predicted link probabilities and true link labels, with true/false citation links having labels 1/0) using stochastic gradient descent (SGD) updates of the model parameters, with minibatches of 'training' links fed into the model.\n",
    "\n",
    "Lastly, we investigate the nature of prediction probabilities. We want to know if GraphSAGE's prediction probabilities are well calibrated or not. In the latter case, we present two methods for calibrating the model's output."
   ]
  },
  {
   "cell_type": "code",
   "execution_count": 1,
   "metadata": {},
   "outputs": [
    {
     "name": "stderr",
     "output_type": "stream",
     "text": [
      "Using TensorFlow backend.\n"
     ]
    }
   ],
   "source": [
    "import networkx as nx\n",
    "import pandas as pd\n",
    "import numpy as np\n",
    "import os\n",
    "\n",
    "import matplotlib.pyplot as plt\n",
    "\n",
    "import stellargraph as sg\n",
    "from stellargraph.data import EdgeSplitter\n",
    "from stellargraph.mapper import GraphSAGELinkGenerator\n",
    "from stellargraph.layer import GraphSAGE, link_classification\n",
    "from stellargraph import expected_calibration_error, plot_reliability_diagram\n",
    "\n",
    "import keras\n",
    "from sklearn import preprocessing, feature_extraction, model_selection\n",
    "from sklearn.calibration import calibration_curve\n",
    "from sklearn.linear_model import LogisticRegressionCV\n",
    "from sklearn.isotonic import IsotonicRegression\n",
    "\n",
    "from sklearn.metrics import accuracy_score\n",
    "\n",
    "from stellargraph import globalvar\n",
    "\n",
    "%matplotlib inline"
   ]
  },
  {
   "cell_type": "markdown",
   "metadata": {},
   "source": [
    "### Loading the PubMed Diabetes network data"
   ]
  },
  {
   "cell_type": "markdown",
   "metadata": {},
   "source": [
    "**Downloading the dataset:**\n",
    "    \n",
    "The dataset used in this demo can be downloaded from https://linqs-data.soe.ucsc.edu/public/Pubmed-Diabetes.tgz\n",
    "\n",
    "The following is the description of the dataset:\n",
    "\n",
    "> The Pubmed Diabetes dataset consists of 19717 scientific publications from PubMed database \n",
    "> pertaining to diabetes classified into one of three classes. The citation network consists \n",
    "> of 44338 links. Each publication in the dataset is described by a TF/IDF weighted word \n",
    "> vector from a dictionary which consists of 500 unique words.\n",
    "\n",
    "Download and unzip the `Pubmed-Diabetes.tgz` file to a location on your computer.\n",
    "\n",
    "Before proceeding use the script at https://github.com/stellargraph/data-science/tree/devel/PubMed to process the raw data into a format that can be read by `networkx`.\n",
    "\n",
    "Set the `data_dir` variable to point to the location of the processed dataset."
   ]
  },
  {
   "cell_type": "code",
   "execution_count": 2,
   "metadata": {},
   "outputs": [],
   "source": [
    "data_dir = \"~/data/pubmed/Pubmed-Diabetes/data\""
   ]
  },
  {
   "cell_type": "markdown",
   "metadata": {},
   "source": [
    "Load the graph from edgelist"
   ]
  },
  {
   "cell_type": "code",
   "execution_count": 3,
   "metadata": {},
   "outputs": [],
   "source": [
    "edgelist = pd.read_table(os.path.join(data_dir, 'Pubmed-Diabetes.DIRECTED.cites.tab'), \n",
    "                         skiprows=2, \n",
    "                         header=None )\n",
    "edgelist.drop(columns=[0,2], inplace=True)\n",
    "edgelist.columns = ['source', 'target']\n",
    "# delete unneccessary prefix \n",
    "edgelist['source'] = edgelist['source'].map(lambda x: x.lstrip('paper:')) \n",
    "edgelist['target'] = edgelist['target'].map(lambda x: x.lstrip('paper:'))\n",
    "edgelist[\"label\"] = \"cites\"  # set the edge type"
   ]
  },
  {
   "cell_type": "code",
   "execution_count": 4,
   "metadata": {},
   "outputs": [
    {
     "data": {
      "text/html": [
       "<div>\n",
       "<style scoped>\n",
       "    .dataframe tbody tr th:only-of-type {\n",
       "        vertical-align: middle;\n",
       "    }\n",
       "\n",
       "    .dataframe tbody tr th {\n",
       "        vertical-align: top;\n",
       "    }\n",
       "\n",
       "    .dataframe thead th {\n",
       "        text-align: right;\n",
       "    }\n",
       "</style>\n",
       "<table border=\"1\" class=\"dataframe\">\n",
       "  <thead>\n",
       "    <tr style=\"text-align: right;\">\n",
       "      <th></th>\n",
       "      <th>source</th>\n",
       "      <th>target</th>\n",
       "      <th>label</th>\n",
       "    </tr>\n",
       "  </thead>\n",
       "  <tbody>\n",
       "    <tr>\n",
       "      <th>0</th>\n",
       "      <td>19127292</td>\n",
       "      <td>17363749</td>\n",
       "      <td>cites</td>\n",
       "    </tr>\n",
       "    <tr>\n",
       "      <th>1</th>\n",
       "      <td>19668377</td>\n",
       "      <td>17293876</td>\n",
       "      <td>cites</td>\n",
       "    </tr>\n",
       "    <tr>\n",
       "      <th>2</th>\n",
       "      <td>1313726</td>\n",
       "      <td>3002783</td>\n",
       "      <td>cites</td>\n",
       "    </tr>\n",
       "    <tr>\n",
       "      <th>3</th>\n",
       "      <td>19110882</td>\n",
       "      <td>14578298</td>\n",
       "      <td>cites</td>\n",
       "    </tr>\n",
       "    <tr>\n",
       "      <th>4</th>\n",
       "      <td>18606979</td>\n",
       "      <td>10333910</td>\n",
       "      <td>cites</td>\n",
       "    </tr>\n",
       "  </tbody>\n",
       "</table>\n",
       "</div>"
      ],
      "text/plain": [
       "     source    target  label\n",
       "0  19127292  17363749  cites\n",
       "1  19668377  17293876  cites\n",
       "2   1313726   3002783  cites\n",
       "3  19110882  14578298  cites\n",
       "4  18606979  10333910  cites"
      ]
     },
     "execution_count": 4,
     "metadata": {},
     "output_type": "execute_result"
    }
   ],
   "source": [
    "edgelist.head()"
   ]
  },
  {
   "cell_type": "code",
   "execution_count": 5,
   "metadata": {},
   "outputs": [],
   "source": [
    "G = nx.from_pandas_edgelist(edgelist, edge_attr=\"label\")"
   ]
  },
  {
   "cell_type": "markdown",
   "metadata": {},
   "source": [
    "Load the features and subject for the nodes"
   ]
  },
  {
   "cell_type": "code",
   "execution_count": 6,
   "metadata": {},
   "outputs": [],
   "source": [
    "node_data = pd.read_csv(os.path.join(data_dir, \"Pubmed-Diabetes.csv\") )\n",
    "node_data['label'] = node_data['label'].astype(str)"
   ]
  },
  {
   "cell_type": "code",
   "execution_count": 7,
   "metadata": {},
   "outputs": [
    {
     "data": {
      "text/html": [
       "<div>\n",
       "<style scoped>\n",
       "    .dataframe tbody tr th:only-of-type {\n",
       "        vertical-align: middle;\n",
       "    }\n",
       "\n",
       "    .dataframe tbody tr th {\n",
       "        vertical-align: top;\n",
       "    }\n",
       "\n",
       "    .dataframe thead th {\n",
       "        text-align: right;\n",
       "    }\n",
       "</style>\n",
       "<table border=\"1\" class=\"dataframe\">\n",
       "  <thead>\n",
       "    <tr style=\"text-align: right;\">\n",
       "      <th></th>\n",
       "      <th>label</th>\n",
       "      <th>pid</th>\n",
       "      <th>w-0</th>\n",
       "      <th>w-0001</th>\n",
       "      <th>w-001</th>\n",
       "      <th>w-01</th>\n",
       "      <th>w-02</th>\n",
       "      <th>w-05</th>\n",
       "      <th>w-1</th>\n",
       "      <th>w-10</th>\n",
       "      <th>...</th>\n",
       "      <th>w-vitro</th>\n",
       "      <th>w-vivo</th>\n",
       "      <th>w-vs</th>\n",
       "      <th>w-week</th>\n",
       "      <th>w-weight</th>\n",
       "      <th>w-wherea</th>\n",
       "      <th>w-women</th>\n",
       "      <th>w-x</th>\n",
       "      <th>w-year</th>\n",
       "      <th>w-young</th>\n",
       "    </tr>\n",
       "  </thead>\n",
       "  <tbody>\n",
       "    <tr>\n",
       "      <th>0</th>\n",
       "      <td>1</td>\n",
       "      <td>12187484</td>\n",
       "      <td>0.000000</td>\n",
       "      <td>0.0</td>\n",
       "      <td>0.0</td>\n",
       "      <td>0.0</td>\n",
       "      <td>0.0</td>\n",
       "      <td>0.0</td>\n",
       "      <td>0.000000</td>\n",
       "      <td>0.000000</td>\n",
       "      <td>...</td>\n",
       "      <td>0.0</td>\n",
       "      <td>0.000000</td>\n",
       "      <td>0.0</td>\n",
       "      <td>0.000000</td>\n",
       "      <td>0.000000</td>\n",
       "      <td>0.00000</td>\n",
       "      <td>0.0</td>\n",
       "      <td>0.0</td>\n",
       "      <td>0.0</td>\n",
       "      <td>0.0</td>\n",
       "    </tr>\n",
       "    <tr>\n",
       "      <th>1</th>\n",
       "      <td>1</td>\n",
       "      <td>2344352</td>\n",
       "      <td>0.000000</td>\n",
       "      <td>0.0</td>\n",
       "      <td>0.0</td>\n",
       "      <td>0.0</td>\n",
       "      <td>0.0</td>\n",
       "      <td>0.0</td>\n",
       "      <td>0.000000</td>\n",
       "      <td>0.000000</td>\n",
       "      <td>...</td>\n",
       "      <td>0.0</td>\n",
       "      <td>0.041603</td>\n",
       "      <td>0.0</td>\n",
       "      <td>0.000000</td>\n",
       "      <td>0.000000</td>\n",
       "      <td>0.00000</td>\n",
       "      <td>0.0</td>\n",
       "      <td>0.0</td>\n",
       "      <td>0.0</td>\n",
       "      <td>0.0</td>\n",
       "    </tr>\n",
       "    <tr>\n",
       "      <th>2</th>\n",
       "      <td>1</td>\n",
       "      <td>14654069</td>\n",
       "      <td>0.000000</td>\n",
       "      <td>0.0</td>\n",
       "      <td>0.0</td>\n",
       "      <td>0.0</td>\n",
       "      <td>0.0</td>\n",
       "      <td>0.0</td>\n",
       "      <td>0.000000</td>\n",
       "      <td>0.000000</td>\n",
       "      <td>...</td>\n",
       "      <td>0.0</td>\n",
       "      <td>0.000000</td>\n",
       "      <td>0.0</td>\n",
       "      <td>0.021497</td>\n",
       "      <td>0.045617</td>\n",
       "      <td>0.00000</td>\n",
       "      <td>0.0</td>\n",
       "      <td>0.0</td>\n",
       "      <td>0.0</td>\n",
       "      <td>0.0</td>\n",
       "    </tr>\n",
       "    <tr>\n",
       "      <th>3</th>\n",
       "      <td>2</td>\n",
       "      <td>16443886</td>\n",
       "      <td>0.008322</td>\n",
       "      <td>0.0</td>\n",
       "      <td>0.0</td>\n",
       "      <td>0.0</td>\n",
       "      <td>0.0</td>\n",
       "      <td>0.0</td>\n",
       "      <td>0.019854</td>\n",
       "      <td>0.016963</td>\n",
       "      <td>...</td>\n",
       "      <td>0.0</td>\n",
       "      <td>0.000000</td>\n",
       "      <td>0.0</td>\n",
       "      <td>0.000000</td>\n",
       "      <td>0.000000</td>\n",
       "      <td>0.02367</td>\n",
       "      <td>0.0</td>\n",
       "      <td>0.0</td>\n",
       "      <td>0.0</td>\n",
       "      <td>0.0</td>\n",
       "    </tr>\n",
       "    <tr>\n",
       "      <th>4</th>\n",
       "      <td>1</td>\n",
       "      <td>2684155</td>\n",
       "      <td>0.000000</td>\n",
       "      <td>0.0</td>\n",
       "      <td>0.0</td>\n",
       "      <td>0.0</td>\n",
       "      <td>0.0</td>\n",
       "      <td>0.0</td>\n",
       "      <td>0.000000</td>\n",
       "      <td>0.000000</td>\n",
       "      <td>...</td>\n",
       "      <td>0.0</td>\n",
       "      <td>0.000000</td>\n",
       "      <td>0.0</td>\n",
       "      <td>0.000000</td>\n",
       "      <td>0.000000</td>\n",
       "      <td>0.00000</td>\n",
       "      <td>0.0</td>\n",
       "      <td>0.0</td>\n",
       "      <td>0.0</td>\n",
       "      <td>0.0</td>\n",
       "    </tr>\n",
       "  </tbody>\n",
       "</table>\n",
       "<p>5 rows × 502 columns</p>\n",
       "</div>"
      ],
      "text/plain": [
       "  label       pid       w-0  w-0001  w-001  w-01  w-02  w-05       w-1  \\\n",
       "0     1  12187484  0.000000     0.0    0.0   0.0   0.0   0.0  0.000000   \n",
       "1     1   2344352  0.000000     0.0    0.0   0.0   0.0   0.0  0.000000   \n",
       "2     1  14654069  0.000000     0.0    0.0   0.0   0.0   0.0  0.000000   \n",
       "3     2  16443886  0.008322     0.0    0.0   0.0   0.0   0.0  0.019854   \n",
       "4     1   2684155  0.000000     0.0    0.0   0.0   0.0   0.0  0.000000   \n",
       "\n",
       "       w-10   ...     w-vitro    w-vivo  w-vs    w-week  w-weight  w-wherea  \\\n",
       "0  0.000000   ...         0.0  0.000000   0.0  0.000000  0.000000   0.00000   \n",
       "1  0.000000   ...         0.0  0.041603   0.0  0.000000  0.000000   0.00000   \n",
       "2  0.000000   ...         0.0  0.000000   0.0  0.021497  0.045617   0.00000   \n",
       "3  0.016963   ...         0.0  0.000000   0.0  0.000000  0.000000   0.02367   \n",
       "4  0.000000   ...         0.0  0.000000   0.0  0.000000  0.000000   0.00000   \n",
       "\n",
       "   w-women  w-x  w-year  w-young  \n",
       "0      0.0  0.0     0.0      0.0  \n",
       "1      0.0  0.0     0.0      0.0  \n",
       "2      0.0  0.0     0.0      0.0  \n",
       "3      0.0  0.0     0.0      0.0  \n",
       "4      0.0  0.0     0.0      0.0  \n",
       "\n",
       "[5 rows x 502 columns]"
      ]
     },
     "execution_count": 7,
     "metadata": {},
     "output_type": "execute_result"
    }
   ],
   "source": [
    "node_data.head()"
   ]
  },
  {
   "cell_type": "code",
   "execution_count": 8,
   "metadata": {},
   "outputs": [
    {
     "data": {
      "text/html": [
       "<div>\n",
       "<style scoped>\n",
       "    .dataframe tbody tr th:only-of-type {\n",
       "        vertical-align: middle;\n",
       "    }\n",
       "\n",
       "    .dataframe tbody tr th {\n",
       "        vertical-align: top;\n",
       "    }\n",
       "\n",
       "    .dataframe thead th {\n",
       "        text-align: right;\n",
       "    }\n",
       "</style>\n",
       "<table border=\"1\" class=\"dataframe\">\n",
       "  <thead>\n",
       "    <tr style=\"text-align: right;\">\n",
       "      <th></th>\n",
       "      <th>label</th>\n",
       "      <th>w-0</th>\n",
       "      <th>w-0001</th>\n",
       "      <th>w-001</th>\n",
       "      <th>w-01</th>\n",
       "      <th>w-02</th>\n",
       "      <th>w-05</th>\n",
       "      <th>w-1</th>\n",
       "      <th>w-10</th>\n",
       "      <th>w-100</th>\n",
       "      <th>...</th>\n",
       "      <th>w-vitro</th>\n",
       "      <th>w-vivo</th>\n",
       "      <th>w-vs</th>\n",
       "      <th>w-week</th>\n",
       "      <th>w-weight</th>\n",
       "      <th>w-wherea</th>\n",
       "      <th>w-women</th>\n",
       "      <th>w-x</th>\n",
       "      <th>w-year</th>\n",
       "      <th>w-young</th>\n",
       "    </tr>\n",
       "    <tr>\n",
       "      <th>pid</th>\n",
       "      <th></th>\n",
       "      <th></th>\n",
       "      <th></th>\n",
       "      <th></th>\n",
       "      <th></th>\n",
       "      <th></th>\n",
       "      <th></th>\n",
       "      <th></th>\n",
       "      <th></th>\n",
       "      <th></th>\n",
       "      <th></th>\n",
       "      <th></th>\n",
       "      <th></th>\n",
       "      <th></th>\n",
       "      <th></th>\n",
       "      <th></th>\n",
       "      <th></th>\n",
       "      <th></th>\n",
       "      <th></th>\n",
       "      <th></th>\n",
       "      <th></th>\n",
       "    </tr>\n",
       "  </thead>\n",
       "  <tbody>\n",
       "    <tr>\n",
       "      <th>12187484</th>\n",
       "      <td>1</td>\n",
       "      <td>0.000000</td>\n",
       "      <td>0.0</td>\n",
       "      <td>0.0</td>\n",
       "      <td>0.0</td>\n",
       "      <td>0.0</td>\n",
       "      <td>0.0</td>\n",
       "      <td>0.000000</td>\n",
       "      <td>0.000000</td>\n",
       "      <td>0.0</td>\n",
       "      <td>...</td>\n",
       "      <td>0.0</td>\n",
       "      <td>0.000000</td>\n",
       "      <td>0.0</td>\n",
       "      <td>0.000000</td>\n",
       "      <td>0.000000</td>\n",
       "      <td>0.00000</td>\n",
       "      <td>0.0</td>\n",
       "      <td>0.0</td>\n",
       "      <td>0.0</td>\n",
       "      <td>0.0</td>\n",
       "    </tr>\n",
       "    <tr>\n",
       "      <th>2344352</th>\n",
       "      <td>1</td>\n",
       "      <td>0.000000</td>\n",
       "      <td>0.0</td>\n",
       "      <td>0.0</td>\n",
       "      <td>0.0</td>\n",
       "      <td>0.0</td>\n",
       "      <td>0.0</td>\n",
       "      <td>0.000000</td>\n",
       "      <td>0.000000</td>\n",
       "      <td>0.0</td>\n",
       "      <td>...</td>\n",
       "      <td>0.0</td>\n",
       "      <td>0.041603</td>\n",
       "      <td>0.0</td>\n",
       "      <td>0.000000</td>\n",
       "      <td>0.000000</td>\n",
       "      <td>0.00000</td>\n",
       "      <td>0.0</td>\n",
       "      <td>0.0</td>\n",
       "      <td>0.0</td>\n",
       "      <td>0.0</td>\n",
       "    </tr>\n",
       "    <tr>\n",
       "      <th>14654069</th>\n",
       "      <td>1</td>\n",
       "      <td>0.000000</td>\n",
       "      <td>0.0</td>\n",
       "      <td>0.0</td>\n",
       "      <td>0.0</td>\n",
       "      <td>0.0</td>\n",
       "      <td>0.0</td>\n",
       "      <td>0.000000</td>\n",
       "      <td>0.000000</td>\n",
       "      <td>0.0</td>\n",
       "      <td>...</td>\n",
       "      <td>0.0</td>\n",
       "      <td>0.000000</td>\n",
       "      <td>0.0</td>\n",
       "      <td>0.021497</td>\n",
       "      <td>0.045617</td>\n",
       "      <td>0.00000</td>\n",
       "      <td>0.0</td>\n",
       "      <td>0.0</td>\n",
       "      <td>0.0</td>\n",
       "      <td>0.0</td>\n",
       "    </tr>\n",
       "    <tr>\n",
       "      <th>16443886</th>\n",
       "      <td>2</td>\n",
       "      <td>0.008322</td>\n",
       "      <td>0.0</td>\n",
       "      <td>0.0</td>\n",
       "      <td>0.0</td>\n",
       "      <td>0.0</td>\n",
       "      <td>0.0</td>\n",
       "      <td>0.019854</td>\n",
       "      <td>0.016963</td>\n",
       "      <td>0.0</td>\n",
       "      <td>...</td>\n",
       "      <td>0.0</td>\n",
       "      <td>0.000000</td>\n",
       "      <td>0.0</td>\n",
       "      <td>0.000000</td>\n",
       "      <td>0.000000</td>\n",
       "      <td>0.02367</td>\n",
       "      <td>0.0</td>\n",
       "      <td>0.0</td>\n",
       "      <td>0.0</td>\n",
       "      <td>0.0</td>\n",
       "    </tr>\n",
       "    <tr>\n",
       "      <th>2684155</th>\n",
       "      <td>1</td>\n",
       "      <td>0.000000</td>\n",
       "      <td>0.0</td>\n",
       "      <td>0.0</td>\n",
       "      <td>0.0</td>\n",
       "      <td>0.0</td>\n",
       "      <td>0.0</td>\n",
       "      <td>0.000000</td>\n",
       "      <td>0.000000</td>\n",
       "      <td>0.0</td>\n",
       "      <td>...</td>\n",
       "      <td>0.0</td>\n",
       "      <td>0.000000</td>\n",
       "      <td>0.0</td>\n",
       "      <td>0.000000</td>\n",
       "      <td>0.000000</td>\n",
       "      <td>0.00000</td>\n",
       "      <td>0.0</td>\n",
       "      <td>0.0</td>\n",
       "      <td>0.0</td>\n",
       "      <td>0.0</td>\n",
       "    </tr>\n",
       "  </tbody>\n",
       "</table>\n",
       "<p>5 rows × 501 columns</p>\n",
       "</div>"
      ],
      "text/plain": [
       "         label       w-0  w-0001  w-001  w-01  w-02  w-05       w-1      w-10  \\\n",
       "pid                                                                             \n",
       "12187484     1  0.000000     0.0    0.0   0.0   0.0   0.0  0.000000  0.000000   \n",
       "2344352      1  0.000000     0.0    0.0   0.0   0.0   0.0  0.000000  0.000000   \n",
       "14654069     1  0.000000     0.0    0.0   0.0   0.0   0.0  0.000000  0.000000   \n",
       "16443886     2  0.008322     0.0    0.0   0.0   0.0   0.0  0.019854  0.016963   \n",
       "2684155      1  0.000000     0.0    0.0   0.0   0.0   0.0  0.000000  0.000000   \n",
       "\n",
       "          w-100   ...     w-vitro    w-vivo  w-vs    w-week  w-weight  \\\n",
       "pid               ...                                                   \n",
       "12187484    0.0   ...         0.0  0.000000   0.0  0.000000  0.000000   \n",
       "2344352     0.0   ...         0.0  0.041603   0.0  0.000000  0.000000   \n",
       "14654069    0.0   ...         0.0  0.000000   0.0  0.021497  0.045617   \n",
       "16443886    0.0   ...         0.0  0.000000   0.0  0.000000  0.000000   \n",
       "2684155     0.0   ...         0.0  0.000000   0.0  0.000000  0.000000   \n",
       "\n",
       "          w-wherea  w-women  w-x  w-year  w-young  \n",
       "pid                                                \n",
       "12187484   0.00000      0.0  0.0     0.0      0.0  \n",
       "2344352    0.00000      0.0  0.0     0.0      0.0  \n",
       "14654069   0.00000      0.0  0.0     0.0      0.0  \n",
       "16443886   0.02367      0.0  0.0     0.0      0.0  \n",
       "2684155    0.00000      0.0  0.0     0.0      0.0  \n",
       "\n",
       "[5 rows x 501 columns]"
      ]
     },
     "execution_count": 8,
     "metadata": {},
     "output_type": "execute_result"
    }
   ],
   "source": [
    "node_data.index = node_data['pid']\n",
    "node_data.drop(columns=['pid'], inplace=True)\n",
    "node_data.head()"
   ]
  },
  {
   "cell_type": "markdown",
   "metadata": {},
   "source": [
    "Define a set of node features that will be used by the model as the difference between the set of all node features and a list of user-defined node attributes to ignore:"
   ]
  },
  {
   "cell_type": "code",
   "execution_count": 9,
   "metadata": {},
   "outputs": [
    {
     "data": {
      "text/plain": [
       "Index(['label', 'w-0', 'w-0001', 'w-001', 'w-01', 'w-02', 'w-05', 'w-1',\n",
       "       'w-10', 'w-100',\n",
       "       ...\n",
       "       'w-vitro', 'w-vivo', 'w-vs', 'w-week', 'w-weight', 'w-wherea',\n",
       "       'w-women', 'w-x', 'w-year', 'w-young'],\n",
       "      dtype='object', length=501)"
      ]
     },
     "execution_count": 9,
     "metadata": {},
     "output_type": "execute_result"
    }
   ],
   "source": [
    "feature_names = node_data.columns\n",
    "feature_names"
   ]
  },
  {
   "cell_type": "markdown",
   "metadata": {},
   "source": [
    "We need to convert node features that will be used by the model to numeric values that are required for GraphSAGE input. Note that all node features in the PubMed dataset, except the categorical \"label\" feature, are already numeric, and don't require the conversion."
   ]
  },
  {
   "cell_type": "code",
   "execution_count": 10,
   "metadata": {},
   "outputs": [],
   "source": [
    "if \"label\" in feature_names:\n",
    "    # Convert node features to numeric vectors\n",
    "    feature_encoding = feature_extraction.DictVectorizer(sparse=False)\n",
    "    node_features = feature_encoding.fit_transform(\n",
    "        node_data[feature_names].to_dict(\"records\")\n",
    "    )\n",
    "else:  # node features are already numeric, no further conversion is needed\n",
    "    node_features = node_data[feature_names].values"
   ]
  },
  {
   "cell_type": "code",
   "execution_count": 11,
   "metadata": {},
   "outputs": [
    {
     "data": {
      "text/plain": [
       "(19717, 503)"
      ]
     },
     "execution_count": 11,
     "metadata": {},
     "output_type": "execute_result"
    }
   ],
   "source": [
    "node_features.shape"
   ]
  },
  {
   "cell_type": "markdown",
   "metadata": {},
   "source": [
    "Add node data to G:"
   ]
  },
  {
   "cell_type": "code",
   "execution_count": 12,
   "metadata": {},
   "outputs": [],
   "source": [
    "for nid, f in zip(node_data.index, node_features):\n",
    "    G.node[str(nid)][globalvar.TYPE_ATTR_NAME] = \"paper\"  # specify node type\n",
    "    G.node[str(nid)][\"feature\"] = f"
   ]
  },
  {
   "cell_type": "markdown",
   "metadata": {},
   "source": [
    "We aim to train a link prediction model, hence we need to prepare the train and test sets of links and the corresponding graphs with those links removed.\n",
    "\n",
    "We are going to split our input graph into a train and test graphs using the EdgeSplitter class in `stellargraph.data`. We will use the train graph for training the model (a binary classifier that, given two nodes, predicts whether a link between these two nodes should exist or not) and the test graph for evaluating the model's performance on hold out data.\n",
    "Each of these graphs will have the same number of nodes as the input graph, but the number of links will differ (be reduced) as some of the links will be removed during each split and used as the positive samples for training/testing the link prediction classifier."
   ]
  },
  {
   "cell_type": "markdown",
   "metadata": {},
   "source": [
    "From the original graph G, extract a randomly sampled subset of validation edges (true and false citation links) and the reduced graph G_test with the positive test edges removed:"
   ]
  },
  {
   "cell_type": "code",
   "execution_count": 13,
   "metadata": {},
   "outputs": [
    {
     "name": "stdout",
     "output_type": "stream",
     "text": [
      "Removed 1000 edges\n",
      "Removed 2000 edges\n",
      "Removed 3000 edges\n",
      "Removed 4000 edges\n",
      "Removed 5000 edges\n",
      "Removed 6000 edges\n",
      "Sampled 1000 negative examples\n",
      "Sampled 2000 negative examples\n",
      "Sampled 3000 negative examples\n",
      "Sampled 4000 negative examples\n",
      "Sampled 5000 negative examples\n",
      "Sampled 6000 negative examples\n",
      "** Sampled 6649 positive and 6649 negative edges. **\n"
     ]
    }
   ],
   "source": [
    "# Define an edge splitter on the original graph G:\n",
    "edge_splitter_test = EdgeSplitter(G)\n",
    "\n",
    "# Randomly sample a fraction p=0.1 of all positive links, and same number of negative links, from G, and obtain the\n",
    "# reduced graph G_test with the sampled links removed:\n",
    "G_test, edge_ids_test, edge_labels_test = edge_splitter_test.train_test_split(\n",
    "    p=0.15, method=\"global\", keep_connected=True\n",
    ")"
   ]
  },
  {
   "cell_type": "markdown",
   "metadata": {},
   "source": [
    "The reduced graph G_test, together with the test ground truth set of links (edge_ids_test, edge_labels_test), will be used for testing the model.\n",
    "\n",
    "Now repeat this procedure to obtain the validation data for the model. From the reduced graph G_test, extract a randomly sampled subset of validation edges (true and false citation links) and the reduced graph G_val with the positive train edges removed:"
   ]
  },
  {
   "cell_type": "code",
   "execution_count": 14,
   "metadata": {},
   "outputs": [
    {
     "name": "stdout",
     "output_type": "stream",
     "text": [
      "Removed 1000 edges\n",
      "Removed 2000 edges\n",
      "Removed 3000 edges\n",
      "Removed 4000 edges\n",
      "Removed 5000 edges\n",
      "Removed 6000 edges\n",
      "Removed 7000 edges\n",
      "Sampled 1000 negative examples\n",
      "Sampled 2000 negative examples\n",
      "Sampled 3000 negative examples\n",
      "Sampled 4000 negative examples\n",
      "Sampled 5000 negative examples\n",
      "Sampled 6000 negative examples\n",
      "Sampled 7000 negative examples\n",
      "** Sampled 7535 positive and 7535 negative edges. **\n"
     ]
    }
   ],
   "source": [
    "# Define an edge splitter on the reduced graph G_test:\n",
    "edge_splitter_val = EdgeSplitter(G_test)\n",
    "\n",
    "# Randomly sample a fraction p=0.1 of all positive links, and same number of negative links, from G_test, and obtain the\n",
    "# reduced graph G_train with the sampled links removed:\n",
    "G_val, edge_ids_val, edge_labels_val = edge_splitter_val.train_test_split(\n",
    "    p=0.20, method=\"global\", keep_connected=True\n",
    ")"
   ]
  },
  {
   "cell_type": "markdown",
   "metadata": {},
   "source": [
    "The reduced graph G_val, together with the validation ground truth set of links (edge_ids_val, edge_labels_val), will be used for validating the model (can also be used to tune the model parameters).\n",
    "\n",
    "Now repeat this procedure to obtain the training data for the model. From the reduced graph G_val, extract a randomly sampled subset of train edges (true and false citation links) and the reduced graph G_train with the positive train edges removed:"
   ]
  },
  {
   "cell_type": "code",
   "execution_count": 15,
   "metadata": {},
   "outputs": [
    {
     "name": "stdout",
     "output_type": "stream",
     "text": [
      "Removed 1000 edges\n",
      "Removed 2000 edges\n",
      "Removed 3000 edges\n",
      "Removed 4000 edges\n",
      "Removed 5000 edges\n",
      "Removed 6000 edges\n",
      "Sampled 1000 negative examples\n",
      "Sampled 2000 negative examples\n",
      "Sampled 3000 negative examples\n",
      "Sampled 4000 negative examples\n",
      "Sampled 5000 negative examples\n",
      "Sampled 6000 negative examples\n",
      "** Sampled 6028 positive and 6028 negative edges. **\n"
     ]
    }
   ],
   "source": [
    "# Define an edge splitter on the reduced graph G_test:\n",
    "edge_splitter_train = EdgeSplitter(G_val)\n",
    "\n",
    "# Randomly sample a fraction p=0.1 of all positive links, and same number of negative links, from G_test, and obtain the\n",
    "# reduced graph G_train with the sampled links removed:\n",
    "G_train, edge_ids_train, edge_labels_train = edge_splitter_train.train_test_split(\n",
    "    p=0.20, method=\"global\", keep_connected=True\n",
    ")"
   ]
  },
  {
   "cell_type": "markdown",
   "metadata": {},
   "source": [
    "G_train, together with the train ground truth set of links (edge_ids_train, edge_labels_train), will be used for training the model."
   ]
  },
  {
   "cell_type": "markdown",
   "metadata": {},
   "source": [
    "Convert G_val, G_train and G_test to StellarGraph objects (undirected, as required by GraphSAGE) for ML:"
   ]
  },
  {
   "cell_type": "code",
   "execution_count": 16,
   "metadata": {},
   "outputs": [],
   "source": [
    "G_val = sg.StellarGraph(G_val, node_features=\"feature\")\n",
    "G_train = sg.StellarGraph(G_train, node_features=\"feature\")\n",
    "G_test = sg.StellarGraph(G_test, node_features=\"feature\")"
   ]
  },
  {
   "cell_type": "markdown",
   "metadata": {},
   "source": [
    "Summary of G_train, G_val and G_test - note that they have the same set of nodes, only differing in their edge sets:"
   ]
  },
  {
   "cell_type": "code",
   "execution_count": 17,
   "metadata": {},
   "outputs": [
    {
     "name": "stdout",
     "output_type": "stream",
     "text": [
      "StellarGraph: Undirected multigraph\n",
      " Nodes: 19717, Edges: 24115\n",
      "\n",
      " Node types:\n",
      "  paper: [19717]\n",
      "        Attributes: {'feature'}\n",
      "    Edge types: paper-cites->paper\n",
      "\n",
      " Edge types:\n",
      "    paper-cites->paper: [24115]\n",
      "\n"
     ]
    }
   ],
   "source": [
    "print(G_train.info())"
   ]
  },
  {
   "cell_type": "code",
   "execution_count": 18,
   "metadata": {},
   "outputs": [
    {
     "name": "stdout",
     "output_type": "stream",
     "text": [
      "StellarGraph: Undirected multigraph\n",
      " Nodes: 19717, Edges: 30143\n",
      "\n",
      " Node types:\n",
      "  paper: [19717]\n",
      "        Attributes: {'feature'}\n",
      "    Edge types: paper-cites->paper\n",
      "\n",
      " Edge types:\n",
      "    paper-cites->paper: [30143]\n",
      "\n"
     ]
    }
   ],
   "source": [
    "print(G_val.info())"
   ]
  },
  {
   "cell_type": "code",
   "execution_count": 19,
   "metadata": {},
   "outputs": [
    {
     "name": "stdout",
     "output_type": "stream",
     "text": [
      "StellarGraph: Undirected multigraph\n",
      " Nodes: 19717, Edges: 37678\n",
      "\n",
      " Node types:\n",
      "  paper: [19717]\n",
      "        Attributes: {'feature'}\n",
      "    Edge types: paper-cites->paper\n",
      "\n",
      " Edge types:\n",
      "    paper-cites->paper: [37678]\n",
      "\n"
     ]
    }
   ],
   "source": [
    "print(G_test.info())"
   ]
  },
  {
   "cell_type": "markdown",
   "metadata": {},
   "source": [
    "Next, we create the link mappers for sampling and streaming training and testing data to the model. The link mappers essentially \"map\" pairs of nodes `(paper1, paper2)` to the input of GraphSAGE: they take minibatches of node pairs, sample 2-hop subgraphs with `(paper1, paper2)` head nodes extracted from those pairs, and feed them, together with the corresponding binary labels indicating whether those pairs represent true or false citation links, to the input layer of the GraphSAGE model, for SGD updates of the model parameters.\n",
    "\n",
    "Specify the minibatch size (number of node pairs per minibatch) and the number of epochs for training the model:"
   ]
  },
  {
   "cell_type": "code",
   "execution_count": 20,
   "metadata": {},
   "outputs": [],
   "source": [
    "batch_size = 50\n",
    "epochs = 20  # 20"
   ]
  },
  {
   "cell_type": "markdown",
   "metadata": {},
   "source": [
    "\n",
    "\n",
    "Specify the sizes of 1- and 2-hop neighbour samples for GraphSAGE:\n",
    "\n",
    "Note that the length of `num_samples` list defines the number of layers/iterations in the GraphSAGE model. In this example, we are defining a 2-layer GraphSAGE model."
   ]
  },
  {
   "cell_type": "code",
   "execution_count": 21,
   "metadata": {},
   "outputs": [],
   "source": [
    "num_samples = [10, 5]  # was 15, 10"
   ]
  },
  {
   "cell_type": "code",
   "execution_count": 22,
   "metadata": {},
   "outputs": [],
   "source": [
    "train_gen = GraphSAGELinkGenerator(G_train, batch_size, num_samples).flow(edge_ids_train,edge_labels_train)\n",
    "val_gen = GraphSAGELinkGenerator(G_val, batch_size, num_samples).flow(edge_ids_val,edge_labels_val)\n",
    "test_gen = GraphSAGELinkGenerator(G_test,  batch_size, num_samples).flow(edge_ids_test, edge_labels_test)"
   ]
  },
  {
   "cell_type": "markdown",
   "metadata": {},
   "source": [
    "Build the model: a 2-layer GraphSAGE model acting as node representation learner, with a link classification layer on concatenated `(paper1, paper2)` node embeddings.\n",
    "\n",
    "GraphSAGE part of the model, with hidden layer sizes of 50 for both GraphSAGE layers, a bias term, and no dropout. (Dropout can be switched on by specifying a positive dropout rate, 0 < dropout < 1)\n",
    "Note that the length of layer_sizes list must be equal to the length of num_samples, as len(num_samples) defines the number of hops (layers) in the GraphSAGE model."
   ]
  },
  {
   "cell_type": "code",
   "execution_count": 23,
   "metadata": {},
   "outputs": [],
   "source": [
    "layer_sizes = [32, 32]\n",
    "assert len(layer_sizes) == len(num_samples)\n",
    "\n",
    "graphsage = GraphSAGE(\n",
    "        layer_sizes=layer_sizes, generator=train_gen, bias=True, dropout=0.2\n",
    "    )"
   ]
  },
  {
   "cell_type": "code",
   "execution_count": 24,
   "metadata": {},
   "outputs": [],
   "source": [
    "# Expose input and output sockets of graphsage, for source and destination nodes:\n",
    "x_inp_src, x_out_src = graphsage.default_model(flatten_output=False)\n",
    "x_inp_dst, x_out_dst = graphsage.default_model(flatten_output=False)\n",
    "# re-pack into a list where (source, destination) inputs alternate, for link inputs:\n",
    "x_inp = [x for ab in zip(x_inp_src, x_inp_dst) for x in ab]\n",
    "# same for outputs:\n",
    "x_out = [x_out_src, x_out_dst]"
   ]
  },
  {
   "cell_type": "markdown",
   "metadata": {},
   "source": [
    "Final link classification layer that takes a pair of node embeddings produced by graphsage, applies a binary operator to them to produce the corresponding link embedding ('ip' for inner product; other options for the binary operator can be seen by running a cell with `?link_classification` in it), and passes it through a dense layer:"
   ]
  },
  {
   "cell_type": "code",
   "execution_count": 25,
   "metadata": {},
   "outputs": [
    {
     "name": "stdout",
     "output_type": "stream",
     "text": [
      "link_classification: using 'ip' method to combine node embeddings into edge embeddings\n"
     ]
    }
   ],
   "source": [
    "logits = link_classification(\n",
    "        output_dim=1, output_act=\"linear\", edge_feature_method='ip'\n",
    "    )(x_out)\n",
    "\n",
    "prediction = keras.layers.Activation(keras.activations.sigmoid)(logits)\n",
    "\n",
    "# prediction = link_classification(\n",
    "#         output_dim=1, output_act=\"relu\", edge_feature_method='ip'\n",
    "#     )(logits)"
   ]
  },
  {
   "cell_type": "markdown",
   "metadata": {},
   "source": [
    "Stack the GraphSAGE and prediction layers into a Keras model, and specify the loss"
   ]
  },
  {
   "cell_type": "code",
   "execution_count": 26,
   "metadata": {},
   "outputs": [],
   "source": [
    "model = keras.Model(inputs=x_inp, outputs=prediction)\n",
    "\n",
    "model.compile(\n",
    "         optimizer=keras.optimizers.Adam(lr=1e-3),\n",
    "         loss=keras.losses.binary_crossentropy,\n",
    "         metrics=[keras.metrics.binary_accuracy],\n",
    "     )"
   ]
  },
  {
   "cell_type": "markdown",
   "metadata": {},
   "source": [
    "Evaluate the initial (untrained) model on the train, val and test sets:"
   ]
  },
  {
   "cell_type": "code",
   "execution_count": 27,
   "metadata": {},
   "outputs": [
    {
     "name": "stdout",
     "output_type": "stream",
     "text": [
      "\n",
      "Train Set Metrics of the initial (untrained) model:\n",
      "\tloss: 0.6699\n",
      "\tbinary_accuracy: 0.5024\n",
      "\n",
      "Validation Set Metrics of the initial (untrained) model:\n",
      "\tloss: 0.6716\n",
      "\tbinary_accuracy: 0.5034\n",
      "\n",
      "Test Set Metrics of the initial (untrained) model:\n",
      "\tloss: 0.6697\n",
      "\tbinary_accuracy: 0.5032\n"
     ]
    }
   ],
   "source": [
    "init_train_metrics = model.evaluate_generator(train_gen)\n",
    "init_val_metrics = model.evaluate_generator(val_gen)\n",
    "init_test_metrics = model.evaluate_generator(test_gen)\n",
    "\n",
    "print(\"\\nTrain Set Metrics of the initial (untrained) model:\")\n",
    "for name, val in zip(model.metrics_names, init_train_metrics):\n",
    "    print(\"\\t{}: {:0.4f}\".format(name, val))\n",
    "\n",
    "print(\"\\nValidation Set Metrics of the initial (untrained) model:\")\n",
    "for name, val in zip(model.metrics_names, init_val_metrics):\n",
    "    print(\"\\t{}: {:0.4f}\".format(name, val))\n",
    "\n",
    "print(\"\\nTest Set Metrics of the initial (untrained) model:\")\n",
    "for name, val in zip(model.metrics_names, init_test_metrics):\n",
    "    print(\"\\t{}: {:0.4f}\".format(name, val))"
   ]
  },
  {
   "cell_type": "markdown",
   "metadata": {},
   "source": [
    "Train the model:"
   ]
  },
  {
   "cell_type": "code",
   "execution_count": 28,
   "metadata": {},
   "outputs": [
    {
     "name": "stdout",
     "output_type": "stream",
     "text": [
      "Epoch 1/20\n",
      "242/242 [==============================] - 18s 74ms/step - loss: 0.5882 - binary_accuracy: 0.7343 - val_loss: 0.5670 - val_binary_accuracy: 0.7395\n",
      "Epoch 2/20\n",
      "242/242 [==============================] - 17s 68ms/step - loss: 0.5628 - binary_accuracy: 0.7646 - val_loss: 0.5517 - val_binary_accuracy: 0.7659\n",
      "Epoch 3/20\n",
      "242/242 [==============================] - 18s 73ms/step - loss: 0.5518 - binary_accuracy: 0.7757 - val_loss: 0.5497 - val_binary_accuracy: 0.7676\n",
      "Epoch 4/20\n",
      "242/242 [==============================] - 17s 69ms/step - loss: 0.5451 - binary_accuracy: 0.7839 - val_loss: 0.5459 - val_binary_accuracy: 0.7755\n",
      "Epoch 5/20\n",
      "242/242 [==============================] - 16s 67ms/step - loss: 0.5386 - binary_accuracy: 0.7914 - val_loss: 0.5464 - val_binary_accuracy: 0.7717\n",
      "Epoch 6/20\n",
      "242/242 [==============================] - 17s 70ms/step - loss: 0.5354 - binary_accuracy: 0.7956 - val_loss: 0.5456 - val_binary_accuracy: 0.7754\n",
      "Epoch 7/20\n",
      "242/242 [==============================] - 18s 72ms/step - loss: 0.5305 - binary_accuracy: 0.8035 - val_loss: 0.5492 - val_binary_accuracy: 0.7700\n",
      "Epoch 8/20\n",
      "242/242 [==============================] - 17s 70ms/step - loss: 0.5251 - binary_accuracy: 0.8090 - val_loss: 0.5495 - val_binary_accuracy: 0.7700\n",
      "Epoch 9/20\n",
      "242/242 [==============================] - 22s 91ms/step - loss: 0.5230 - binary_accuracy: 0.8087 - val_loss: 0.5475 - val_binary_accuracy: 0.7698\n",
      "Epoch 10/20\n",
      "242/242 [==============================] - 17s 72ms/step - loss: 0.5190 - binary_accuracy: 0.8170 - val_loss: 0.5477 - val_binary_accuracy: 0.7667\n",
      "Epoch 11/20\n",
      "242/242 [==============================] - 17s 71ms/step - loss: 0.5150 - binary_accuracy: 0.8214 - val_loss: 0.5517 - val_binary_accuracy: 0.7578\n",
      "Epoch 12/20\n",
      "242/242 [==============================] - 18s 75ms/step - loss: 0.5103 - binary_accuracy: 0.8273 - val_loss: 0.5507 - val_binary_accuracy: 0.7608\n",
      "Epoch 13/20\n",
      "242/242 [==============================] - 19s 79ms/step - loss: 0.5064 - binary_accuracy: 0.8347 - val_loss: 0.5524 - val_binary_accuracy: 0.7543\n",
      "Epoch 14/20\n",
      "242/242 [==============================] - 18s 73ms/step - loss: 0.5045 - binary_accuracy: 0.8374 - val_loss: 0.5527 - val_binary_accuracy: 0.7486\n",
      "Epoch 15/20\n",
      "242/242 [==============================] - 18s 73ms/step - loss: 0.5017 - binary_accuracy: 0.8382 - val_loss: 0.5530 - val_binary_accuracy: 0.7497\n",
      "Epoch 16/20\n",
      "242/242 [==============================] - 17s 71ms/step - loss: 0.4984 - binary_accuracy: 0.8427 - val_loss: 0.5550 - val_binary_accuracy: 0.7466\n",
      "Epoch 17/20\n",
      "242/242 [==============================] - 18s 74ms/step - loss: 0.4960 - binary_accuracy: 0.8475 - val_loss: 0.5551 - val_binary_accuracy: 0.7511\n",
      "Epoch 18/20\n",
      "242/242 [==============================] - 18s 75ms/step - loss: 0.4938 - binary_accuracy: 0.8511 - val_loss: 0.5567 - val_binary_accuracy: 0.7466\n",
      "Epoch 19/20\n",
      "242/242 [==============================] - 18s 75ms/step - loss: 0.4900 - binary_accuracy: 0.8535 - val_loss: 0.5574 - val_binary_accuracy: 0.7457\n",
      "Epoch 20/20\n",
      "242/242 [==============================] - 23s 95ms/step - loss: 0.4889 - binary_accuracy: 0.8538 - val_loss: 0.5562 - val_binary_accuracy: 0.7465\n"
     ]
    }
   ],
   "source": [
    "history = model.fit_generator(\n",
    "        train_gen,\n",
    "        epochs=epochs,\n",
    "        validation_data=val_gen,\n",
    "        verbose=1,\n",
    "        shuffle=True,\n",
    "    )"
   ]
  },
  {
   "cell_type": "markdown",
   "metadata": {},
   "source": [
    "Plot the training history:"
   ]
  },
  {
   "cell_type": "code",
   "execution_count": 29,
   "metadata": {},
   "outputs": [],
   "source": [
    "def plot_history(history):\n",
    "    metrics = sorted(history.history.keys())\n",
    "    metrics = metrics[:len(metrics)//2]\n",
    "    for m in metrics:\n",
    "        # summarize history for metric m\n",
    "        plt.plot(history.history[m])\n",
    "        plt.plot(history.history['val_' + m])\n",
    "        plt.title(m)\n",
    "        plt.ylabel(m)\n",
    "        plt.xlabel('epoch')\n",
    "        plt.legend(['train', 'test'], loc='upper right')\n",
    "        plt.show()"
   ]
  },
  {
   "cell_type": "code",
   "execution_count": 30,
   "metadata": {
    "scrolled": false
   },
   "outputs": [
    {
     "data": {
      "image/png": "[encoded data removed]",
      "text/plain": [
       "<Figure size 432x288 with 1 Axes>"
      ]
     },
     "metadata": {},
     "output_type": "display_data"
    },
    {
     "data": {
      "image/png": "[encoded data removed]",
      "text/plain": [
       "<Figure size 432x288 with 1 Axes>"
      ]
     },
     "metadata": {},
     "output_type": "display_data"
    }
   ],
   "source": [
    "plot_history(history)"
   ]
  },
  {
   "cell_type": "markdown",
   "metadata": {},
   "source": [
    "Evaluate the trained model on test citation links:"
   ]
  },
  {
   "cell_type": "code",
   "execution_count": 31,
   "metadata": {},
   "outputs": [
    {
     "name": "stdout",
     "output_type": "stream",
     "text": [
      "\n",
      "Train Set Metrics of the trained model:\n",
      "\tloss: 0.4724\n",
      "\tbinary_accuracy: 0.8782\n",
      "\n",
      "Validation Set Metrics of the trained model:\n",
      "\tloss: 0.5562\n",
      "\tbinary_accuracy: 0.7482\n",
      "\n",
      "Test Set Metrics of the trained model:\n",
      "\tloss: 0.5517\n",
      "\tbinary_accuracy: 0.7532\n"
     ]
    }
   ],
   "source": [
    "train_metrics = model.evaluate_generator(train_gen)\n",
    "val_metrics = model.evaluate_generator(val_gen)\n",
    "test_metrics = model.evaluate_generator(test_gen)\n",
    "\n",
    "print(\"\\nTrain Set Metrics of the trained model:\")\n",
    "for name, val in zip(model.metrics_names, train_metrics):\n",
    "    print(\"\\t{}: {:0.4f}\".format(name, val))\n",
    "\n",
    "print(\"\\nValidation Set Metrics of the trained model:\")\n",
    "for name, val in zip(model.metrics_names, val_metrics):\n",
    "    print(\"\\t{}: {:0.4f}\".format(name, val))\n",
    "\n",
    "print(\"\\nTest Set Metrics of the trained model:\")\n",
    "for name, val in zip(model.metrics_names, test_metrics):\n",
    "    print(\"\\t{}: {:0.4f}\".format(name, val))"
   ]
  },
  {
   "cell_type": "code",
   "execution_count": 32,
   "metadata": {},
   "outputs": [],
   "source": [
    "num_tests =1 # the number of times to generate predictions"
   ]
  },
  {
   "cell_type": "code",
   "execution_count": 33,
   "metadata": {},
   "outputs": [
    {
     "name": "stdout",
     "output_type": "stream",
     "text": [
      "266/266 [==============================] - 7s 24ms/step\n"
     ]
    }
   ],
   "source": [
    "all_test_predictions = [model.predict_generator(test_gen, verbose=True) for _ in np.arange(num_tests)]"
   ]
  },
  {
   "cell_type": "markdown",
   "metadata": {},
   "source": [
    "### Diagnosing model miscalibration\n",
    "\n",
    "We are going to use method from scikit-learn.calibration module to calibrate the binary classifier."
   ]
  },
  {
   "cell_type": "code",
   "execution_count": 34,
   "metadata": {},
   "outputs": [],
   "source": [
    "calibration_data = [calibration_curve(y_prob=test_predictions, \n",
    "                                      y_true=edge_labels_test, \n",
    "                                      n_bins=10, \n",
    "                                      normalize=True) for test_predictions in all_test_predictions]\n"
   ]
  },
  {
   "cell_type": "markdown",
   "metadata": {},
   "source": [
    "Let' calculate the expected calibration error on the test set before calibration."
   ]
  },
  {
   "cell_type": "code",
   "execution_count": 35,
   "metadata": {},
   "outputs": [
    {
     "name": "stdout",
     "output_type": "stream",
     "text": [
      "ECE: (before calibration) 0.3521\n"
     ]
    }
   ],
   "source": [
    "for fraction_of_positives, mean_predicted_value in calibration_data:\n",
    "    ece_pre_calibration = expected_calibration_error(prediction_probabilities=all_test_predictions[0], \n",
    "                                                     accuracy=fraction_of_positives, \n",
    "                                                     confidence=mean_predicted_value)\n",
    "    print('ECE: (before calibration) {:.4f}'.format(ece_pre_calibration))"
   ]
  },
  {
   "cell_type": "markdown",
   "metadata": {},
   "source": [
    "Now let's plot the reliability diagram. This is a visual aid for the diagnosis of a poorly calibrated binary classifier."
   ]
  },
  {
   "cell_type": "code",
   "execution_count": 36,
   "metadata": {
    "scrolled": false
   },
   "outputs": [
    {
     "data": {
      "image/png": "[encoded data removed]",
      "text/plain": [
       "<Figure size 864x576 with 2 Axes>"
      ]
     },
     "metadata": {},
     "output_type": "display_data"
    }
   ],
   "source": [
    "fig = plt.figure(figsize=(12, 8))\n",
    "ax1 = plt.subplot2grid((6, 1), (0, 0), rowspan=3)\n",
    "ax2 = plt.subplot2grid((6, 1), (4, 0))\n",
    "\n",
    "for fraction_of_positives, mean_predicted_value in calibration_data:\n",
    "    #print(fraction_of_positives, mean_predicted_value)\n",
    "    ax1.plot(mean_predicted_value, fraction_of_positives, \"s-\", alpha=1.0)\n",
    "    ax1.set_title(\"Calibration Curve (ECE={:.4f})\".format(ece_pre_calibration))\n",
    "    ax1.set_xlabel(\"Mean Predicted Value\", fontsize=16)\n",
    "    ax1.set_ylabel(\"Fraction of Positives\", fontsize=16)\n",
    "ax1.plot([0,1], [0,1], 'g--')\n",
    "ax2.hist(all_test_predictions[0], range=(0, 1), bins=10, histtype=\"step\", lw=2)\n",
    "ax2.set_xlabel(\"Bin\", fontsize=16)\n",
    "ax2.set_ylabel(\"Count\", fontsize=16)\n",
    "fig.savefig(\"Calibration_plot_graphSAGE_PubMed.png\", bbox_inches='tight')"
   ]
  },
  {
   "cell_type": "markdown",
   "metadata": {},
   "source": [
    "We are going to repeat the previous experiment 5 times and plot the corresponding calibration curves. \n",
    "\n",
    "We want to check if the calibration curves for all experiments look similar to make certains that we are not drawing conclusions based on an outlier result above. We do expect the curves to differ because the node neighbourhood sampled will be different for each experiment."
   ]
  },
  {
   "cell_type": "code",
   "execution_count": 37,
   "metadata": {},
   "outputs": [],
   "source": [
    "num_tests=5"
   ]
  },
  {
   "cell_type": "code",
   "execution_count": 38,
   "metadata": {},
   "outputs": [
    {
     "name": "stdout",
     "output_type": "stream",
     "text": [
      "266/266 [==============================] - 7s 26ms/step\n",
      "266/266 [==============================] - 6s 24ms/step\n",
      "266/266 [==============================] - 6s 23ms/step\n",
      "266/266 [==============================] - 6s 23ms/step\n",
      "266/266 [==============================] - 6s 23ms/step\n"
     ]
    }
   ],
   "source": [
    "all_test_predictions = [model.predict_generator(test_gen, verbose=True) for _ in np.arange(num_tests)]"
   ]
  },
  {
   "cell_type": "code",
   "execution_count": 39,
   "metadata": {},
   "outputs": [],
   "source": [
    "calibration_data = [calibration_curve(y_prob=test_predictions, y_true=edge_labels_test, n_bins=10, normalize=True) for test_predictions in all_test_predictions]\n"
   ]
  },
  {
   "cell_type": "code",
   "execution_count": 40,
   "metadata": {
    "scrolled": false
   },
   "outputs": [
    {
     "data": {
      "image/png": "[encoded data removed]",
      "text/plain": [
       "<Figure size 864x576 with 1 Axes>"
      ]
     },
     "metadata": {},
     "output_type": "display_data"
    }
   ],
   "source": [
    "fig = plt.figure(figsize=(12,8))\n",
    "for fraction_of_positives, mean_predicted_value in calibration_data:\n",
    "    plt.plot(mean_predicted_value, fraction_of_positives, \"s-\", alpha=1.0)\n",
    "plt.xlabel(\"Mean Predicted Value\", fontsize=16)\n",
    "plt.ylabel(\"Fraction of Positives\", fontsize=16)\n",
    "plt.xlim(0,1)\n",
    "plt.ylim(0,1)\n",
    "plt.plot([0,1], [0,1], 'g--')\n",
    "fig.savefig(\"Calibration_plot_graphSAGE_PubMed_5runs.png\", bbox_inches='tight')"
   ]
  },
  {
   "cell_type": "markdown",
   "metadata": {},
   "source": [
    "## Model Calibration \n",
    "\n",
    "Next, we are going to use our validation set to calibrate the model.\n",
    "\n",
    "We will consider two different approaches for calibrating a binary classifier, Platt scaling and Isotonic regression.\n",
    "\n",
    "### Platt Scaling\n",
    "\n",
    "$q_i = \\sigma(\\alpha z_i+\\beta)$ where $z_i$ is the GraphSAGE output (before the last layer's activation function is applied), $q_i$ is the calibrated probability, and $\\sigma()$ is the sigmoid function. \n",
    "\n",
    "The parameters $\\alpha$ and $\\beta$ we train with maximise classification accuracy.\n",
    "\n",
    "For more information see:\n",
    "- https://en.wikipedia.org/wiki/Platt_scaling\n",
    "\n",
    "### Isotonic Regression\n",
    "\n",
    "Isotonic Regression is a regression technqique that fits a piece-wise, non-decreasing, linear function to data. For more information see:\n",
    "- https://scikit-learn.org/stable/modules/generated/sklearn.isotonic.IsotonicRegression.html#sklearn.isotonic.IsotonicRegression\n",
    "- https://en.wikipedia.org/wiki/Isotonic_regression"
   ]
  },
  {
   "cell_type": "markdown",
   "metadata": {},
   "source": [
    "Select the calibration method."
   ]
  },
  {
   "cell_type": "code",
   "execution_count": 41,
   "metadata": {},
   "outputs": [],
   "source": [
    "use_platt=False  # True for Platt scaling or False for Isotonic Regression"
   ]
  },
  {
   "cell_type": "markdown",
   "metadata": {},
   "source": [
    "For simplicity, we are going to calibrate using a single prediction per query point."
   ]
  },
  {
   "cell_type": "code",
   "execution_count": 42,
   "metadata": {},
   "outputs": [],
   "source": [
    "num_tests = 1"
   ]
  },
  {
   "cell_type": "code",
   "execution_count": 43,
   "metadata": {},
   "outputs": [],
   "source": [
    "score_model = keras.Model(inputs=x_inp, outputs=logits)"
   ]
  },
  {
   "cell_type": "code",
   "execution_count": 44,
   "metadata": {},
   "outputs": [
    {
     "name": "stdout",
     "output_type": "stream",
     "text": [
      "302/302 [==============================] - 10s 32ms/step\n",
      "266/266 [==============================] - 7s 25ms/step\n"
     ]
    }
   ],
   "source": [
    "if use_platt:\n",
    "    all_val_score_predictions = [score_model.predict_generator(val_gen, verbose=True) for _ in np.arange(num_tests)]\n",
    "    all_test_score_predictions = [score_model.predict_generator(test_gen, verbose=True) for _ in np.arange(num_tests)]\n",
    "else:\n",
    "    all_val_score_predictions = [model.predict_generator(val_gen, verbose=True) for _ in np.arange(num_tests)]\n",
    "    all_test_score_predictions = [model.predict_generator(test_gen, verbose=True) for _ in np.arange(num_tests)]"
   ]
  },
  {
   "cell_type": "code",
   "execution_count": 45,
   "metadata": {},
   "outputs": [
    {
     "data": {
      "text/plain": [
       "(15070, 1)"
      ]
     },
     "execution_count": 45,
     "metadata": {},
     "output_type": "execute_result"
    }
   ],
   "source": [
    "val_predictions = all_val_score_predictions[0]\n",
    "val_predictions.shape"
   ]
  },
  {
   "cell_type": "code",
   "execution_count": 46,
   "metadata": {},
   "outputs": [
    {
     "data": {
      "text/plain": [
       "(13298, 1)"
      ]
     },
     "execution_count": 46,
     "metadata": {},
     "output_type": "execute_result"
    }
   ],
   "source": [
    "# These are the uncalibrated prediction probabilities. \n",
    "test_predictions = all_test_score_predictions[0]\n",
    "test_predictions.shape"
   ]
  },
  {
   "cell_type": "code",
   "execution_count": 47,
   "metadata": {},
   "outputs": [
    {
     "data": {
      "text/plain": [
       "((13298,), (15070,))"
      ]
     },
     "execution_count": 47,
     "metadata": {},
     "output_type": "execute_result"
    }
   ],
   "source": [
    "# The true labels\n",
    "edge_labels_test.shape, edge_labels_val.shape"
   ]
  },
  {
   "cell_type": "code",
   "execution_count": 48,
   "metadata": {},
   "outputs": [],
   "source": [
    "if use_platt:\n",
    "    lr = LogisticRegressionCV(fit_intercept=True, cv=5, verbose=True)\n",
    "else:\n",
    "    lr = IsotonicRegression(out_of_bounds='clip') "
   ]
  },
  {
   "cell_type": "code",
   "execution_count": 49,
   "metadata": {},
   "outputs": [],
   "source": [
    "if not use_platt:\n",
    "    val_predictions = val_predictions.reshape(-1, )"
   ]
  },
  {
   "cell_type": "code",
   "execution_count": 50,
   "metadata": {},
   "outputs": [
    {
     "data": {
      "text/plain": [
       "IsotonicRegression(increasing=True, out_of_bounds='clip', y_max=None,\n",
       "          y_min=None)"
      ]
     },
     "execution_count": 50,
     "metadata": {},
     "output_type": "execute_result"
    }
   ],
   "source": [
    "lr.fit(X=val_predictions, y=edge_labels_val)"
   ]
  },
  {
   "cell_type": "code",
   "execution_count": 51,
   "metadata": {},
   "outputs": [],
   "source": [
    "# sanity check to make sure that the true class is indeed the second entry as assumed in the code that follows\n",
    "if use_platt:\n",
    "    print(lr.classes_)  "
   ]
  },
  {
   "cell_type": "code",
   "execution_count": 52,
   "metadata": {},
   "outputs": [
    {
     "data": {
      "text/plain": [
       "(13298,)"
      ]
     },
     "execution_count": 52,
     "metadata": {},
     "output_type": "execute_result"
    }
   ],
   "source": [
    "if not use_platt:    \n",
    "    test_predictions = test_predictions.reshape(-1,)\n",
    "test_predictions.shape"
   ]
  },
  {
   "cell_type": "code",
   "execution_count": 53,
   "metadata": {},
   "outputs": [],
   "source": [
    "if use_platt:\n",
    "    lr_test_predictions = lr.predict_proba(X=test_predictions)[:, 1]  # keep the predictions for the true class\n",
    "else:\n",
    "    lr_test_predictions = lr.predict(T=test_predictions)  # keep the predictions for the true class"
   ]
  },
  {
   "cell_type": "code",
   "execution_count": 54,
   "metadata": {},
   "outputs": [
    {
     "data": {
      "text/plain": [
       "(13298,)"
      ]
     },
     "execution_count": 54,
     "metadata": {},
     "output_type": "execute_result"
    }
   ],
   "source": [
    "lr_test_predictions.shape"
   ]
  },
  {
   "cell_type": "markdown",
   "metadata": {},
   "source": [
    "Let's check if these predictions are calibrated!"
   ]
  },
  {
   "cell_type": "code",
   "execution_count": 55,
   "metadata": {},
   "outputs": [],
   "source": [
    "if not use_platt:\n",
    "    lr_test_predictions= lr_test_predictions.reshape(-1)"
   ]
  },
  {
   "cell_type": "code",
   "execution_count": 56,
   "metadata": {
    "scrolled": true
   },
   "outputs": [],
   "source": [
    "calibration_data = [calibration_curve(y_prob=lr_test_predictions, \n",
    "                                      y_true=edge_labels_test, \n",
    "                                      n_bins=10, \n",
    "                                      normalize=True)] "
   ]
  },
  {
   "cell_type": "code",
   "execution_count": 57,
   "metadata": {},
   "outputs": [
    {
     "name": "stdout",
     "output_type": "stream",
     "text": [
      "ECE (after calibration): 0.0134\n"
     ]
    }
   ],
   "source": [
    "for fraction_of_positives, mean_predicted_value in calibration_data:\n",
    "    ece_post_calibration = expected_calibration_error(prediction_probabilities=lr_test_predictions, \n",
    "                                                      accuracy=fraction_of_positives, \n",
    "                                                      confidence=mean_predicted_value)\n",
    "    print('ECE (after calibration): {:.4f}'.format(ece_post_calibration))"
   ]
  },
  {
   "cell_type": "code",
   "execution_count": 58,
   "metadata": {},
   "outputs": [
    {
     "data": {
      "image/png": "[encoded data removed]",
      "text/plain": [
       "<Figure size 864x576 with 2 Axes>"
      ]
     },
     "metadata": {},
     "output_type": "display_data"
    }
   ],
   "source": [
    "fig = plt.figure(figsize=(12, 8))\n",
    "ax1 = plt.subplot2grid((6, 1), (0, 0), rowspan=3)\n",
    "ax2 = plt.subplot2grid((6, 1), (4, 0))\n",
    "\n",
    "for fraction_of_positives, mean_predicted_value in calibration_data:\n",
    "    # print(fraction_of_positives, mean_predicted_value)\n",
    "    ax1.plot(mean_predicted_value, fraction_of_positives, \"s-\", alpha=1.0)\n",
    "    ax1.set_title(\"Calibration Curve (ECE={:.4f})\".format(ece_post_calibration))\n",
    "    ax1.set_xlabel(\"Mean Predicted Value\", fontsize=16)\n",
    "    ax1.set_ylabel(\"Fraction of Positives\", fontsize=16)\n",
    "ax1.plot([0,1], [0,1], 'g--')\n",
    "ax2.hist(all_test_predictions[0], range=(0, 1), bins=10, histtype=\"step\", lw=2)\n",
    "ax2.set_xlabel(\"Bin\", fontsize=16)\n",
    "ax2.set_ylabel(\"Count\", fontsize=16)\n",
    "if use_platt:\n",
    "    fig_filename = \"Calibration_plot_Platt_graphSAGE_PubMed.png\"\n",
    "else:\n",
    "    fig_filename = \"Calibration_plot_Isotonic_graphSAGE_PubMed.png\"\n",
    "fig.savefig(fig_filename, bbox_inches='tight')"
   ]
  },
  {
   "cell_type": "markdown",
   "metadata": {},
   "source": [
    "As a final test, check if the accuracy of the model changes after calibration.\n",
    "\n",
    "**Note:** If calibration method is Platt Scaling then the model's accuracy should be the same within rounding error. If calibration method is Isotonic Regression, then accuracy can improve."
   ]
  },
  {
   "cell_type": "code",
   "execution_count": 59,
   "metadata": {},
   "outputs": [
    {
     "name": "stdout",
     "output_type": "stream",
     "text": [
      "Accuracy of model before calibration: 0.75\n"
     ]
    }
   ],
   "source": [
    "y_pred = np.zeros(len(test_predictions))\n",
    "y_pred[test_predictions.reshape(-1)>0.5] = 1\n",
    "print('Accuracy of model before calibration: {:.2f}'.format(accuracy_score(y_pred=y_pred, y_true=edge_labels_test)))"
   ]
  },
  {
   "cell_type": "code",
   "execution_count": 60,
   "metadata": {},
   "outputs": [
    {
     "name": "stdout",
     "output_type": "stream",
     "text": [
      "Accuracy for model after calibration: 0.83\n"
     ]
    }
   ],
   "source": [
    "y_pred = np.zeros(len(lr_test_predictions))\n",
    "y_pred[lr_test_predictions>0.5] = 1\n",
    "print('Accuracy for model after calibration: {:.2f}'.format(accuracy_score(y_pred=y_pred, y_true=edge_labels_test)))"
   ]
  },
  {
   "cell_type": "markdown",
   "metadata": {},
   "source": [
    "### Conclusions\n",
    "\n",
    "This notebook demonstrated how to use Platt Scaling and Isotonic Regression methods to calibrate a GraphSAGE model used for link prediction (binary classification). "
   ]
  }
 ],
 "metadata": {
  "kernelspec": {
   "display_name": "Python 3",
   "language": "python",
   "name": "python3"
  },
  "language_info": {
   "codemirror_mode": {
    "name": "ipython",
    "version": 3
   },
   "file_extension": ".py",
   "mimetype": "text/x-python",
   "name": "python",
   "nbconvert_exporter": "python",
   "pygments_lexer": "ipython3",
   "version": "3.6.7"
  }
 },
 "nbformat": 4,
 "nbformat_minor": 2
}
