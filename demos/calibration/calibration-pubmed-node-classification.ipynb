{
 "cells": [
  {
   "cell_type": "markdown",
   "metadata": {},
   "source": [
    "# Node Attribute Inference (multi-class) using GraphSAGE and the Pubmed-Diabetes citation network with calibration"
   ]
  },
  {
   "cell_type": "markdown",
   "metadata": {},
   "source": [
    "This notebook demonstrates probability calibration for multi-class node attribute inference. The classifier used is GraphSAGE and the dataset is the citation network Pubmed-Diabetes.\n",
    "\n",
    "The notebook demonstrates the use of `stellargraph`'s `TemperatureCalibration` and `IsotonicCalibration` classes as well as supporting methods for calculating the Expected Calibration Error (ECE) and plotting reliability diagrams."
   ]
  },
  {
   "cell_type": "code",
   "execution_count": 1,
   "metadata": {},
   "outputs": [
    {
     "name": "stderr",
     "output_type": "stream",
     "text": [
      "Using TensorFlow backend.\n"
     ]
    }
   ],
   "source": [
    "import networkx as nx\n",
    "import pandas as pd\n",
    "import os\n",
    "\n",
    "import stellargraph as sg\n",
    "from stellargraph.mapper import GraphSAGENodeGenerator\n",
    "from stellargraph.layer import GraphSAGE\n",
    "\n",
    "from keras import layers, optimizers, losses, metrics, Model\n",
    "import tensorflow as tf\n",
    "\n",
    "import numpy as np\n",
    "\n",
    "from sklearn import preprocessing, feature_extraction, model_selection\n",
    "from sklearn.calibration import calibration_curve\n",
    "from sklearn.linear_model import LogisticRegressionCV\n",
    "from sklearn.isotonic import IsotonicRegression\n",
    "\n",
    "from sklearn.metrics import accuracy_score\n",
    "\n",
    "from stellargraph import TemperatureCalibration, IsotonicCalibration\n",
    "from stellargraph import plot_reliability_diagram, expected_calibration_error"
   ]
  },
  {
   "cell_type": "code",
   "execution_count": 2,
   "metadata": {},
   "outputs": [],
   "source": [
    "# Given a GraphSAGE model, a node mapper, and the number of predictions per point\n",
    "# this method makes n_predictions number of predictions and then returns the average\n",
    "# prediction for each query point.\n",
    "def predict(model, mapper, n_predictions=1):\n",
    "    preds = []\n",
    "    for i in range(n_predictions):\n",
    "        preds.append(model.predict_generator(mapper))\n",
    "    preds_ar = np.array(preds)\n",
    "    print(preds_ar.shape)\n",
    "    return np.mean(preds_ar, axis=0)"
   ]
  },
  {
   "cell_type": "markdown",
   "metadata": {},
   "source": [
    "### Some global parameters"
   ]
  },
  {
   "cell_type": "code",
   "execution_count": 3,
   "metadata": {},
   "outputs": [],
   "source": [
    "epochs = 20\n",
    "n_predictions = 5  # number of predictions per query point"
   ]
  },
  {
   "cell_type": "markdown",
   "metadata": {},
   "source": [
    "### Loading the Pubmed-Diabetes network data"
   ]
  },
  {
   "cell_type": "markdown",
   "metadata": {},
   "source": [
    "**Downloading the dataset:**\n",
    "    \n",
    "The dataset used in this demo can be downloaded from https://linqs-data.soe.ucsc.edu/public/Pubmed-Diabetes.tgz\n",
    "\n",
    "The following is the description of the dataset:\n",
    "\n",
    "> The Pubmed Diabetes dataset consists of 19717 scientific publications from PubMed database \n",
    "> pertaining to diabetes classified into one of three classes. The citation network consists \n",
    "> of 44338 links. Each publication in the dataset is described by a TF/IDF weighted word \n",
    "> vector from a dictionary which consists of 500 unique words.\n",
    "\n",
    "Download and unzip the `Pubmed-Diabetes.tgz` file to a location on your computer.\n",
    "\n",
    "Before proceeding use the script at https://github.com/stellargraph/data-science/tree/devel/PubMed to process the raw data into a format that can be read by `networkx`.\n",
    "\n",
    "Set the `data_dir` variable to point to the location of the processed dataset."
   ]
  },
  {
   "cell_type": "code",
   "execution_count": 4,
   "metadata": {},
   "outputs": [],
   "source": [
    "data_dir = \"~/data/pubmed/Pubmed-Diabetes/data\""
   ]
  },
  {
   "cell_type": "markdown",
   "metadata": {},
   "source": [
    "Load the graph from edgelist"
   ]
  },
  {
   "cell_type": "code",
   "execution_count": 5,
   "metadata": {},
   "outputs": [],
   "source": [
    "edgelist = pd.read_table(os.path.join(data_dir, 'Pubmed-Diabetes.DIRECTED.cites.tab'), \n",
    "                         skiprows=2, \n",
    "                         header=None )\n",
    "edgelist.drop(columns=[0,2], inplace=True)\n",
    "edgelist.columns = ['source', 'target']\n",
    "# delete unneccessary prefix \n",
    "edgelist['source'] = edgelist['source'].map(lambda x: x.lstrip('paper:')) \n",
    "edgelist['target'] = edgelist['target'].map(lambda x: x.lstrip('paper:'))\n",
    "edgelist[\"label\"] = \"cites\"  # set the edge type"
   ]
  },
  {
   "cell_type": "code",
   "execution_count": 6,
   "metadata": {},
   "outputs": [
    {
     "data": {
      "text/html": [
       "<div>\n",
       "<style scoped>\n",
       "    .dataframe tbody tr th:only-of-type {\n",
       "        vertical-align: middle;\n",
       "    }\n",
       "\n",
       "    .dataframe tbody tr th {\n",
       "        vertical-align: top;\n",
       "    }\n",
       "\n",
       "    .dataframe thead th {\n",
       "        text-align: right;\n",
       "    }\n",
       "</style>\n",
       "<table border=\"1\" class=\"dataframe\">\n",
       "  <thead>\n",
       "    <tr style=\"text-align: right;\">\n",
       "      <th></th>\n",
       "      <th>source</th>\n",
       "      <th>target</th>\n",
       "      <th>label</th>\n",
       "    </tr>\n",
       "  </thead>\n",
       "  <tbody>\n",
       "    <tr>\n",
       "      <th>0</th>\n",
       "      <td>19127292</td>\n",
       "      <td>17363749</td>\n",
       "      <td>cites</td>\n",
       "    </tr>\n",
       "    <tr>\n",
       "      <th>1</th>\n",
       "      <td>19668377</td>\n",
       "      <td>17293876</td>\n",
       "      <td>cites</td>\n",
       "    </tr>\n",
       "    <tr>\n",
       "      <th>2</th>\n",
       "      <td>1313726</td>\n",
       "      <td>3002783</td>\n",
       "      <td>cites</td>\n",
       "    </tr>\n",
       "    <tr>\n",
       "      <th>3</th>\n",
       "      <td>19110882</td>\n",
       "      <td>14578298</td>\n",
       "      <td>cites</td>\n",
       "    </tr>\n",
       "    <tr>\n",
       "      <th>4</th>\n",
       "      <td>18606979</td>\n",
       "      <td>10333910</td>\n",
       "      <td>cites</td>\n",
       "    </tr>\n",
       "  </tbody>\n",
       "</table>\n",
       "</div>"
      ],
      "text/plain": [
       "     source    target  label\n",
       "0  19127292  17363749  cites\n",
       "1  19668377  17293876  cites\n",
       "2   1313726   3002783  cites\n",
       "3  19110882  14578298  cites\n",
       "4  18606979  10333910  cites"
      ]
     },
     "execution_count": 6,
     "metadata": {},
     "output_type": "execute_result"
    }
   ],
   "source": [
    "edgelist.head()"
   ]
  },
  {
   "cell_type": "code",
   "execution_count": 7,
   "metadata": {},
   "outputs": [],
   "source": [
    "Gnx = nx.from_pandas_edgelist(edgelist, edge_attr=\"label\")"
   ]
  },
  {
   "cell_type": "markdown",
   "metadata": {},
   "source": [
    "Load the features and subject for the nodes"
   ]
  },
  {
   "cell_type": "code",
   "execution_count": 8,
   "metadata": {},
   "outputs": [],
   "source": [
    "node_data = pd.read_csv(os.path.join(data_dir, \"Pubmed-Diabetes.csv\") )\n",
    "node_data['label'] = node_data['label'].astype(str)"
   ]
  },
  {
   "cell_type": "code",
   "execution_count": 9,
   "metadata": {},
   "outputs": [
    {
     "data": {
      "text/html": [
       "<div>\n",
       "<style scoped>\n",
       "    .dataframe tbody tr th:only-of-type {\n",
       "        vertical-align: middle;\n",
       "    }\n",
       "\n",
       "    .dataframe tbody tr th {\n",
       "        vertical-align: top;\n",
       "    }\n",
       "\n",
       "    .dataframe thead th {\n",
       "        text-align: right;\n",
       "    }\n",
       "</style>\n",
       "<table border=\"1\" class=\"dataframe\">\n",
       "  <thead>\n",
       "    <tr style=\"text-align: right;\">\n",
       "      <th></th>\n",
       "      <th>label</th>\n",
       "      <th>pid</th>\n",
       "      <th>w-0</th>\n",
       "      <th>w-0001</th>\n",
       "      <th>w-001</th>\n",
       "      <th>w-01</th>\n",
       "      <th>w-02</th>\n",
       "      <th>w-05</th>\n",
       "      <th>w-1</th>\n",
       "      <th>w-10</th>\n",
       "      <th>...</th>\n",
       "      <th>w-vitro</th>\n",
       "      <th>w-vivo</th>\n",
       "      <th>w-vs</th>\n",
       "      <th>w-week</th>\n",
       "      <th>w-weight</th>\n",
       "      <th>w-wherea</th>\n",
       "      <th>w-women</th>\n",
       "      <th>w-x</th>\n",
       "      <th>w-year</th>\n",
       "      <th>w-young</th>\n",
       "    </tr>\n",
       "  </thead>\n",
       "  <tbody>\n",
       "    <tr>\n",
       "      <th>0</th>\n",
       "      <td>1</td>\n",
       "      <td>12187484</td>\n",
       "      <td>0.000000</td>\n",
       "      <td>0.0</td>\n",
       "      <td>0.0</td>\n",
       "      <td>0.0</td>\n",
       "      <td>0.0</td>\n",
       "      <td>0.0</td>\n",
       "      <td>0.000000</td>\n",
       "      <td>0.000000</td>\n",
       "      <td>...</td>\n",
       "      <td>0.0</td>\n",
       "      <td>0.000000</td>\n",
       "      <td>0.0</td>\n",
       "      <td>0.000000</td>\n",
       "      <td>0.000000</td>\n",
       "      <td>0.00000</td>\n",
       "      <td>0.0</td>\n",
       "      <td>0.0</td>\n",
       "      <td>0.0</td>\n",
       "      <td>0.0</td>\n",
       "    </tr>\n",
       "    <tr>\n",
       "      <th>1</th>\n",
       "      <td>1</td>\n",
       "      <td>2344352</td>\n",
       "      <td>0.000000</td>\n",
       "      <td>0.0</td>\n",
       "      <td>0.0</td>\n",
       "      <td>0.0</td>\n",
       "      <td>0.0</td>\n",
       "      <td>0.0</td>\n",
       "      <td>0.000000</td>\n",
       "      <td>0.000000</td>\n",
       "      <td>...</td>\n",
       "      <td>0.0</td>\n",
       "      <td>0.041603</td>\n",
       "      <td>0.0</td>\n",
       "      <td>0.000000</td>\n",
       "      <td>0.000000</td>\n",
       "      <td>0.00000</td>\n",
       "      <td>0.0</td>\n",
       "      <td>0.0</td>\n",
       "      <td>0.0</td>\n",
       "      <td>0.0</td>\n",
       "    </tr>\n",
       "    <tr>\n",
       "      <th>2</th>\n",
       "      <td>1</td>\n",
       "      <td>14654069</td>\n",
       "      <td>0.000000</td>\n",
       "      <td>0.0</td>\n",
       "      <td>0.0</td>\n",
       "      <td>0.0</td>\n",
       "      <td>0.0</td>\n",
       "      <td>0.0</td>\n",
       "      <td>0.000000</td>\n",
       "      <td>0.000000</td>\n",
       "      <td>...</td>\n",
       "      <td>0.0</td>\n",
       "      <td>0.000000</td>\n",
       "      <td>0.0</td>\n",
       "      <td>0.021497</td>\n",
       "      <td>0.045617</td>\n",
       "      <td>0.00000</td>\n",
       "      <td>0.0</td>\n",
       "      <td>0.0</td>\n",
       "      <td>0.0</td>\n",
       "      <td>0.0</td>\n",
       "    </tr>\n",
       "    <tr>\n",
       "      <th>3</th>\n",
       "      <td>2</td>\n",
       "      <td>16443886</td>\n",
       "      <td>0.008322</td>\n",
       "      <td>0.0</td>\n",
       "      <td>0.0</td>\n",
       "      <td>0.0</td>\n",
       "      <td>0.0</td>\n",
       "      <td>0.0</td>\n",
       "      <td>0.019854</td>\n",
       "      <td>0.016963</td>\n",
       "      <td>...</td>\n",
       "      <td>0.0</td>\n",
       "      <td>0.000000</td>\n",
       "      <td>0.0</td>\n",
       "      <td>0.000000</td>\n",
       "      <td>0.000000</td>\n",
       "      <td>0.02367</td>\n",
       "      <td>0.0</td>\n",
       "      <td>0.0</td>\n",
       "      <td>0.0</td>\n",
       "      <td>0.0</td>\n",
       "    </tr>\n",
       "    <tr>\n",
       "      <th>4</th>\n",
       "      <td>1</td>\n",
       "      <td>2684155</td>\n",
       "      <td>0.000000</td>\n",
       "      <td>0.0</td>\n",
       "      <td>0.0</td>\n",
       "      <td>0.0</td>\n",
       "      <td>0.0</td>\n",
       "      <td>0.0</td>\n",
       "      <td>0.000000</td>\n",
       "      <td>0.000000</td>\n",
       "      <td>...</td>\n",
       "      <td>0.0</td>\n",
       "      <td>0.000000</td>\n",
       "      <td>0.0</td>\n",
       "      <td>0.000000</td>\n",
       "      <td>0.000000</td>\n",
       "      <td>0.00000</td>\n",
       "      <td>0.0</td>\n",
       "      <td>0.0</td>\n",
       "      <td>0.0</td>\n",
       "      <td>0.0</td>\n",
       "    </tr>\n",
       "  </tbody>\n",
       "</table>\n",
       "<p>5 rows × 502 columns</p>\n",
       "</div>"
      ],
      "text/plain": [
       "  label       pid       w-0  w-0001  w-001  w-01  w-02  w-05       w-1  \\\n",
       "0     1  12187484  0.000000     0.0    0.0   0.0   0.0   0.0  0.000000   \n",
       "1     1   2344352  0.000000     0.0    0.0   0.0   0.0   0.0  0.000000   \n",
       "2     1  14654069  0.000000     0.0    0.0   0.0   0.0   0.0  0.000000   \n",
       "3     2  16443886  0.008322     0.0    0.0   0.0   0.0   0.0  0.019854   \n",
       "4     1   2684155  0.000000     0.0    0.0   0.0   0.0   0.0  0.000000   \n",
       "\n",
       "       w-10   ...     w-vitro    w-vivo  w-vs    w-week  w-weight  w-wherea  \\\n",
       "0  0.000000   ...         0.0  0.000000   0.0  0.000000  0.000000   0.00000   \n",
       "1  0.000000   ...         0.0  0.041603   0.0  0.000000  0.000000   0.00000   \n",
       "2  0.000000   ...         0.0  0.000000   0.0  0.021497  0.045617   0.00000   \n",
       "3  0.016963   ...         0.0  0.000000   0.0  0.000000  0.000000   0.02367   \n",
       "4  0.000000   ...         0.0  0.000000   0.0  0.000000  0.000000   0.00000   \n",
       "\n",
       "   w-women  w-x  w-year  w-young  \n",
       "0      0.0  0.0     0.0      0.0  \n",
       "1      0.0  0.0     0.0      0.0  \n",
       "2      0.0  0.0     0.0      0.0  \n",
       "3      0.0  0.0     0.0      0.0  \n",
       "4      0.0  0.0     0.0      0.0  \n",
       "\n",
       "[5 rows x 502 columns]"
      ]
     },
     "execution_count": 9,
     "metadata": {},
     "output_type": "execute_result"
    }
   ],
   "source": [
    "node_data.head()"
   ]
  },
  {
   "cell_type": "code",
   "execution_count": 10,
   "metadata": {},
   "outputs": [
    {
     "data": {
      "text/plain": [
       "{'1', '2', '3'}"
      ]
     },
     "execution_count": 10,
     "metadata": {},
     "output_type": "execute_result"
    }
   ],
   "source": [
    "set(node_data[\"label\"])"
   ]
  },
  {
   "cell_type": "code",
   "execution_count": 11,
   "metadata": {},
   "outputs": [
    {
     "data": {
      "text/plain": [
       "dtype('int64')"
      ]
     },
     "execution_count": 11,
     "metadata": {},
     "output_type": "execute_result"
    }
   ],
   "source": [
    "node_data['pid'].dtype"
   ]
  },
  {
   "cell_type": "code",
   "execution_count": 12,
   "metadata": {},
   "outputs": [],
   "source": [
    "node_data['pid'] = node_data.pid.astype(str)"
   ]
  },
  {
   "cell_type": "code",
   "execution_count": 13,
   "metadata": {},
   "outputs": [
    {
     "data": {
      "text/html": [
       "<div>\n",
       "<style scoped>\n",
       "    .dataframe tbody tr th:only-of-type {\n",
       "        vertical-align: middle;\n",
       "    }\n",
       "\n",
       "    .dataframe tbody tr th {\n",
       "        vertical-align: top;\n",
       "    }\n",
       "\n",
       "    .dataframe thead th {\n",
       "        text-align: right;\n",
       "    }\n",
       "</style>\n",
       "<table border=\"1\" class=\"dataframe\">\n",
       "  <thead>\n",
       "    <tr style=\"text-align: right;\">\n",
       "      <th></th>\n",
       "      <th>label</th>\n",
       "      <th>w-0</th>\n",
       "      <th>w-0001</th>\n",
       "      <th>w-001</th>\n",
       "      <th>w-01</th>\n",
       "      <th>w-02</th>\n",
       "      <th>w-05</th>\n",
       "      <th>w-1</th>\n",
       "      <th>w-10</th>\n",
       "      <th>w-100</th>\n",
       "      <th>...</th>\n",
       "      <th>w-vitro</th>\n",
       "      <th>w-vivo</th>\n",
       "      <th>w-vs</th>\n",
       "      <th>w-week</th>\n",
       "      <th>w-weight</th>\n",
       "      <th>w-wherea</th>\n",
       "      <th>w-women</th>\n",
       "      <th>w-x</th>\n",
       "      <th>w-year</th>\n",
       "      <th>w-young</th>\n",
       "    </tr>\n",
       "    <tr>\n",
       "      <th>pid</th>\n",
       "      <th></th>\n",
       "      <th></th>\n",
       "      <th></th>\n",
       "      <th></th>\n",
       "      <th></th>\n",
       "      <th></th>\n",
       "      <th></th>\n",
       "      <th></th>\n",
       "      <th></th>\n",
       "      <th></th>\n",
       "      <th></th>\n",
       "      <th></th>\n",
       "      <th></th>\n",
       "      <th></th>\n",
       "      <th></th>\n",
       "      <th></th>\n",
       "      <th></th>\n",
       "      <th></th>\n",
       "      <th></th>\n",
       "      <th></th>\n",
       "      <th></th>\n",
       "    </tr>\n",
       "  </thead>\n",
       "  <tbody>\n",
       "    <tr>\n",
       "      <th>12187484</th>\n",
       "      <td>1</td>\n",
       "      <td>0.000000</td>\n",
       "      <td>0.0</td>\n",
       "      <td>0.0</td>\n",
       "      <td>0.0</td>\n",
       "      <td>0.0</td>\n",
       "      <td>0.0</td>\n",
       "      <td>0.000000</td>\n",
       "      <td>0.000000</td>\n",
       "      <td>0.0</td>\n",
       "      <td>...</td>\n",
       "      <td>0.0</td>\n",
       "      <td>0.000000</td>\n",
       "      <td>0.0</td>\n",
       "      <td>0.000000</td>\n",
       "      <td>0.000000</td>\n",
       "      <td>0.00000</td>\n",
       "      <td>0.0</td>\n",
       "      <td>0.0</td>\n",
       "      <td>0.0</td>\n",
       "      <td>0.0</td>\n",
       "    </tr>\n",
       "    <tr>\n",
       "      <th>2344352</th>\n",
       "      <td>1</td>\n",
       "      <td>0.000000</td>\n",
       "      <td>0.0</td>\n",
       "      <td>0.0</td>\n",
       "      <td>0.0</td>\n",
       "      <td>0.0</td>\n",
       "      <td>0.0</td>\n",
       "      <td>0.000000</td>\n",
       "      <td>0.000000</td>\n",
       "      <td>0.0</td>\n",
       "      <td>...</td>\n",
       "      <td>0.0</td>\n",
       "      <td>0.041603</td>\n",
       "      <td>0.0</td>\n",
       "      <td>0.000000</td>\n",
       "      <td>0.000000</td>\n",
       "      <td>0.00000</td>\n",
       "      <td>0.0</td>\n",
       "      <td>0.0</td>\n",
       "      <td>0.0</td>\n",
       "      <td>0.0</td>\n",
       "    </tr>\n",
       "    <tr>\n",
       "      <th>14654069</th>\n",
       "      <td>1</td>\n",
       "      <td>0.000000</td>\n",
       "      <td>0.0</td>\n",
       "      <td>0.0</td>\n",
       "      <td>0.0</td>\n",
       "      <td>0.0</td>\n",
       "      <td>0.0</td>\n",
       "      <td>0.000000</td>\n",
       "      <td>0.000000</td>\n",
       "      <td>0.0</td>\n",
       "      <td>...</td>\n",
       "      <td>0.0</td>\n",
       "      <td>0.000000</td>\n",
       "      <td>0.0</td>\n",
       "      <td>0.021497</td>\n",
       "      <td>0.045617</td>\n",
       "      <td>0.00000</td>\n",
       "      <td>0.0</td>\n",
       "      <td>0.0</td>\n",
       "      <td>0.0</td>\n",
       "      <td>0.0</td>\n",
       "    </tr>\n",
       "    <tr>\n",
       "      <th>16443886</th>\n",
       "      <td>2</td>\n",
       "      <td>0.008322</td>\n",
       "      <td>0.0</td>\n",
       "      <td>0.0</td>\n",
       "      <td>0.0</td>\n",
       "      <td>0.0</td>\n",
       "      <td>0.0</td>\n",
       "      <td>0.019854</td>\n",
       "      <td>0.016963</td>\n",
       "      <td>0.0</td>\n",
       "      <td>...</td>\n",
       "      <td>0.0</td>\n",
       "      <td>0.000000</td>\n",
       "      <td>0.0</td>\n",
       "      <td>0.000000</td>\n",
       "      <td>0.000000</td>\n",
       "      <td>0.02367</td>\n",
       "      <td>0.0</td>\n",
       "      <td>0.0</td>\n",
       "      <td>0.0</td>\n",
       "      <td>0.0</td>\n",
       "    </tr>\n",
       "    <tr>\n",
       "      <th>2684155</th>\n",
       "      <td>1</td>\n",
       "      <td>0.000000</td>\n",
       "      <td>0.0</td>\n",
       "      <td>0.0</td>\n",
       "      <td>0.0</td>\n",
       "      <td>0.0</td>\n",
       "      <td>0.0</td>\n",
       "      <td>0.000000</td>\n",
       "      <td>0.000000</td>\n",
       "      <td>0.0</td>\n",
       "      <td>...</td>\n",
       "      <td>0.0</td>\n",
       "      <td>0.000000</td>\n",
       "      <td>0.0</td>\n",
       "      <td>0.000000</td>\n",
       "      <td>0.000000</td>\n",
       "      <td>0.00000</td>\n",
       "      <td>0.0</td>\n",
       "      <td>0.0</td>\n",
       "      <td>0.0</td>\n",
       "      <td>0.0</td>\n",
       "    </tr>\n",
       "  </tbody>\n",
       "</table>\n",
       "<p>5 rows × 501 columns</p>\n",
       "</div>"
      ],
      "text/plain": [
       "         label       w-0  w-0001  w-001  w-01  w-02  w-05       w-1      w-10  \\\n",
       "pid                                                                             \n",
       "12187484     1  0.000000     0.0    0.0   0.0   0.0   0.0  0.000000  0.000000   \n",
       "2344352      1  0.000000     0.0    0.0   0.0   0.0   0.0  0.000000  0.000000   \n",
       "14654069     1  0.000000     0.0    0.0   0.0   0.0   0.0  0.000000  0.000000   \n",
       "16443886     2  0.008322     0.0    0.0   0.0   0.0   0.0  0.019854  0.016963   \n",
       "2684155      1  0.000000     0.0    0.0   0.0   0.0   0.0  0.000000  0.000000   \n",
       "\n",
       "          w-100   ...     w-vitro    w-vivo  w-vs    w-week  w-weight  \\\n",
       "pid               ...                                                   \n",
       "12187484    0.0   ...         0.0  0.000000   0.0  0.000000  0.000000   \n",
       "2344352     0.0   ...         0.0  0.041603   0.0  0.000000  0.000000   \n",
       "14654069    0.0   ...         0.0  0.000000   0.0  0.021497  0.045617   \n",
       "16443886    0.0   ...         0.0  0.000000   0.0  0.000000  0.000000   \n",
       "2684155     0.0   ...         0.0  0.000000   0.0  0.000000  0.000000   \n",
       "\n",
       "          w-wherea  w-women  w-x  w-year  w-young  \n",
       "pid                                                \n",
       "12187484   0.00000      0.0  0.0     0.0      0.0  \n",
       "2344352    0.00000      0.0  0.0     0.0      0.0  \n",
       "14654069   0.00000      0.0  0.0     0.0      0.0  \n",
       "16443886   0.02367      0.0  0.0     0.0      0.0  \n",
       "2684155    0.00000      0.0  0.0     0.0      0.0  \n",
       "\n",
       "[5 rows x 501 columns]"
      ]
     },
     "execution_count": 13,
     "metadata": {},
     "output_type": "execute_result"
    }
   ],
   "source": [
    "node_data.index = node_data['pid']\n",
    "node_data.drop(columns=['pid'], inplace=True)\n",
    "node_data.head()"
   ]
  },
  {
   "cell_type": "markdown",
   "metadata": {},
   "source": [
    "### Splitting the data"
   ]
  },
  {
   "cell_type": "markdown",
   "metadata": {},
   "source": [
    "For machine learning we want to take a subset of the nodes for training, and use the rest for testing. We'll use scikit-learn again to do this"
   ]
  },
  {
   "cell_type": "code",
   "execution_count": 14,
   "metadata": {},
   "outputs": [],
   "source": [
    "train_data, test_data = model_selection.train_test_split(node_data, \n",
    "                                                         train_size=0.75, \n",
    "                                                         test_size=None, \n",
    "                                                         stratify=node_data['label'])\n",
    "train_data, val_data = model_selection.train_test_split(train_data, \n",
    "                                                        train_size=0.75, \n",
    "                                                        test_size=None, \n",
    "                                                        stratify=train_data['label'])\n",
    "\n"
   ]
  },
  {
   "cell_type": "code",
   "execution_count": 15,
   "metadata": {},
   "outputs": [
    {
     "data": {
      "text/plain": [
       "((11090, 501), (3697, 501), (4930, 501))"
      ]
     },
     "execution_count": 15,
     "metadata": {},
     "output_type": "execute_result"
    }
   ],
   "source": [
    "train_data.shape, val_data.shape, test_data.shape"
   ]
  },
  {
   "cell_type": "code",
   "execution_count": 16,
   "metadata": {},
   "outputs": [
    {
     "data": {
      "text/html": [
       "<div>\n",
       "<style scoped>\n",
       "    .dataframe tbody tr th:only-of-type {\n",
       "        vertical-align: middle;\n",
       "    }\n",
       "\n",
       "    .dataframe tbody tr th {\n",
       "        vertical-align: top;\n",
       "    }\n",
       "\n",
       "    .dataframe thead th {\n",
       "        text-align: right;\n",
       "    }\n",
       "</style>\n",
       "<table border=\"1\" class=\"dataframe\">\n",
       "  <thead>\n",
       "    <tr style=\"text-align: right;\">\n",
       "      <th></th>\n",
       "      <th>label</th>\n",
       "      <th>w-0</th>\n",
       "      <th>w-0001</th>\n",
       "      <th>w-001</th>\n",
       "      <th>w-01</th>\n",
       "      <th>w-02</th>\n",
       "      <th>w-05</th>\n",
       "      <th>w-1</th>\n",
       "      <th>w-10</th>\n",
       "      <th>w-100</th>\n",
       "      <th>...</th>\n",
       "      <th>w-vitro</th>\n",
       "      <th>w-vivo</th>\n",
       "      <th>w-vs</th>\n",
       "      <th>w-week</th>\n",
       "      <th>w-weight</th>\n",
       "      <th>w-wherea</th>\n",
       "      <th>w-women</th>\n",
       "      <th>w-x</th>\n",
       "      <th>w-year</th>\n",
       "      <th>w-young</th>\n",
       "    </tr>\n",
       "    <tr>\n",
       "      <th>pid</th>\n",
       "      <th></th>\n",
       "      <th></th>\n",
       "      <th></th>\n",
       "      <th></th>\n",
       "      <th></th>\n",
       "      <th></th>\n",
       "      <th></th>\n",
       "      <th></th>\n",
       "      <th></th>\n",
       "      <th></th>\n",
       "      <th></th>\n",
       "      <th></th>\n",
       "      <th></th>\n",
       "      <th></th>\n",
       "      <th></th>\n",
       "      <th></th>\n",
       "      <th></th>\n",
       "      <th></th>\n",
       "      <th></th>\n",
       "      <th></th>\n",
       "      <th></th>\n",
       "    </tr>\n",
       "  </thead>\n",
       "  <tbody>\n",
       "    <tr>\n",
       "      <th>8840823</th>\n",
       "      <td>3</td>\n",
       "      <td>0.024200</td>\n",
       "      <td>0.000000</td>\n",
       "      <td>0.0</td>\n",
       "      <td>0.000000</td>\n",
       "      <td>0.0</td>\n",
       "      <td>0.0</td>\n",
       "      <td>0.000000</td>\n",
       "      <td>0.0</td>\n",
       "      <td>0.0</td>\n",
       "      <td>...</td>\n",
       "      <td>0.0</td>\n",
       "      <td>0.000000</td>\n",
       "      <td>0.0</td>\n",
       "      <td>0.000000</td>\n",
       "      <td>0.000000</td>\n",
       "      <td>0.000000</td>\n",
       "      <td>0.027978</td>\n",
       "      <td>0.0</td>\n",
       "      <td>0.000000</td>\n",
       "      <td>0.0</td>\n",
       "    </tr>\n",
       "    <tr>\n",
       "      <th>12014524</th>\n",
       "      <td>2</td>\n",
       "      <td>0.025501</td>\n",
       "      <td>0.000000</td>\n",
       "      <td>0.0</td>\n",
       "      <td>0.068575</td>\n",
       "      <td>0.0</td>\n",
       "      <td>0.0</td>\n",
       "      <td>0.030421</td>\n",
       "      <td>0.0</td>\n",
       "      <td>0.0</td>\n",
       "      <td>...</td>\n",
       "      <td>0.0</td>\n",
       "      <td>0.000000</td>\n",
       "      <td>0.0</td>\n",
       "      <td>0.000000</td>\n",
       "      <td>0.000000</td>\n",
       "      <td>0.036269</td>\n",
       "      <td>0.000000</td>\n",
       "      <td>0.0</td>\n",
       "      <td>0.023496</td>\n",
       "      <td>0.0</td>\n",
       "    </tr>\n",
       "    <tr>\n",
       "      <th>2132409</th>\n",
       "      <td>3</td>\n",
       "      <td>0.000000</td>\n",
       "      <td>0.000000</td>\n",
       "      <td>0.0</td>\n",
       "      <td>0.000000</td>\n",
       "      <td>0.0</td>\n",
       "      <td>0.0</td>\n",
       "      <td>0.000000</td>\n",
       "      <td>0.0</td>\n",
       "      <td>0.0</td>\n",
       "      <td>...</td>\n",
       "      <td>0.0</td>\n",
       "      <td>0.000000</td>\n",
       "      <td>0.0</td>\n",
       "      <td>0.000000</td>\n",
       "      <td>0.000000</td>\n",
       "      <td>0.000000</td>\n",
       "      <td>0.000000</td>\n",
       "      <td>0.0</td>\n",
       "      <td>0.000000</td>\n",
       "      <td>0.0</td>\n",
       "    </tr>\n",
       "    <tr>\n",
       "      <th>14514634</th>\n",
       "      <td>3</td>\n",
       "      <td>0.027577</td>\n",
       "      <td>0.053293</td>\n",
       "      <td>0.0</td>\n",
       "      <td>0.012359</td>\n",
       "      <td>0.0</td>\n",
       "      <td>0.0</td>\n",
       "      <td>0.021932</td>\n",
       "      <td>0.0</td>\n",
       "      <td>0.0</td>\n",
       "      <td>...</td>\n",
       "      <td>0.0</td>\n",
       "      <td>0.016931</td>\n",
       "      <td>0.0</td>\n",
       "      <td>0.036369</td>\n",
       "      <td>0.000000</td>\n",
       "      <td>0.000000</td>\n",
       "      <td>0.000000</td>\n",
       "      <td>0.0</td>\n",
       "      <td>0.000000</td>\n",
       "      <td>0.0</td>\n",
       "    </tr>\n",
       "    <tr>\n",
       "      <th>8858215</th>\n",
       "      <td>2</td>\n",
       "      <td>0.007458</td>\n",
       "      <td>0.000000</td>\n",
       "      <td>0.0</td>\n",
       "      <td>0.000000</td>\n",
       "      <td>0.0</td>\n",
       "      <td>0.0</td>\n",
       "      <td>0.005931</td>\n",
       "      <td>0.0</td>\n",
       "      <td>0.0</td>\n",
       "      <td>...</td>\n",
       "      <td>0.0</td>\n",
       "      <td>0.000000</td>\n",
       "      <td>0.0</td>\n",
       "      <td>0.000000</td>\n",
       "      <td>0.020872</td>\n",
       "      <td>0.000000</td>\n",
       "      <td>0.000000</td>\n",
       "      <td>0.0</td>\n",
       "      <td>0.000000</td>\n",
       "      <td>0.0</td>\n",
       "    </tr>\n",
       "  </tbody>\n",
       "</table>\n",
       "<p>5 rows × 501 columns</p>\n",
       "</div>"
      ],
      "text/plain": [
       "         label       w-0    w-0001  w-001      w-01  w-02  w-05       w-1  \\\n",
       "pid                                                                         \n",
       "8840823      3  0.024200  0.000000    0.0  0.000000   0.0   0.0  0.000000   \n",
       "12014524     2  0.025501  0.000000    0.0  0.068575   0.0   0.0  0.030421   \n",
       "2132409      3  0.000000  0.000000    0.0  0.000000   0.0   0.0  0.000000   \n",
       "14514634     3  0.027577  0.053293    0.0  0.012359   0.0   0.0  0.021932   \n",
       "8858215      2  0.007458  0.000000    0.0  0.000000   0.0   0.0  0.005931   \n",
       "\n",
       "          w-10  w-100   ...     w-vitro    w-vivo  w-vs    w-week  w-weight  \\\n",
       "pid                     ...                                                   \n",
       "8840823    0.0    0.0   ...         0.0  0.000000   0.0  0.000000  0.000000   \n",
       "12014524   0.0    0.0   ...         0.0  0.000000   0.0  0.000000  0.000000   \n",
       "2132409    0.0    0.0   ...         0.0  0.000000   0.0  0.000000  0.000000   \n",
       "14514634   0.0    0.0   ...         0.0  0.016931   0.0  0.036369  0.000000   \n",
       "8858215    0.0    0.0   ...         0.0  0.000000   0.0  0.000000  0.020872   \n",
       "\n",
       "          w-wherea   w-women  w-x    w-year  w-young  \n",
       "pid                                                   \n",
       "8840823   0.000000  0.027978  0.0  0.000000      0.0  \n",
       "12014524  0.036269  0.000000  0.0  0.023496      0.0  \n",
       "2132409   0.000000  0.000000  0.0  0.000000      0.0  \n",
       "14514634  0.000000  0.000000  0.0  0.000000      0.0  \n",
       "8858215   0.000000  0.000000  0.0  0.000000      0.0  \n",
       "\n",
       "[5 rows x 501 columns]"
      ]
     },
     "execution_count": 16,
     "metadata": {},
     "output_type": "execute_result"
    }
   ],
   "source": [
    "train_data.head()"
   ]
  },
  {
   "cell_type": "code",
   "execution_count": 17,
   "metadata": {},
   "outputs": [
    {
     "data": {
      "text/html": [
       "<div>\n",
       "<style scoped>\n",
       "    .dataframe tbody tr th:only-of-type {\n",
       "        vertical-align: middle;\n",
       "    }\n",
       "\n",
       "    .dataframe tbody tr th {\n",
       "        vertical-align: top;\n",
       "    }\n",
       "\n",
       "    .dataframe thead th {\n",
       "        text-align: right;\n",
       "    }\n",
       "</style>\n",
       "<table border=\"1\" class=\"dataframe\">\n",
       "  <thead>\n",
       "    <tr style=\"text-align: right;\">\n",
       "      <th></th>\n",
       "      <th>label</th>\n",
       "      <th>w-0</th>\n",
       "      <th>w-0001</th>\n",
       "      <th>w-001</th>\n",
       "      <th>w-01</th>\n",
       "      <th>w-02</th>\n",
       "      <th>w-05</th>\n",
       "      <th>w-1</th>\n",
       "      <th>w-10</th>\n",
       "      <th>w-100</th>\n",
       "      <th>...</th>\n",
       "      <th>w-vitro</th>\n",
       "      <th>w-vivo</th>\n",
       "      <th>w-vs</th>\n",
       "      <th>w-week</th>\n",
       "      <th>w-weight</th>\n",
       "      <th>w-wherea</th>\n",
       "      <th>w-women</th>\n",
       "      <th>w-x</th>\n",
       "      <th>w-year</th>\n",
       "      <th>w-young</th>\n",
       "    </tr>\n",
       "    <tr>\n",
       "      <th>pid</th>\n",
       "      <th></th>\n",
       "      <th></th>\n",
       "      <th></th>\n",
       "      <th></th>\n",
       "      <th></th>\n",
       "      <th></th>\n",
       "      <th></th>\n",
       "      <th></th>\n",
       "      <th></th>\n",
       "      <th></th>\n",
       "      <th></th>\n",
       "      <th></th>\n",
       "      <th></th>\n",
       "      <th></th>\n",
       "      <th></th>\n",
       "      <th></th>\n",
       "      <th></th>\n",
       "      <th></th>\n",
       "      <th></th>\n",
       "      <th></th>\n",
       "      <th></th>\n",
       "    </tr>\n",
       "  </thead>\n",
       "  <tbody>\n",
       "    <tr>\n",
       "      <th>10907124</th>\n",
       "      <td>2</td>\n",
       "      <td>0.036770</td>\n",
       "      <td>0.0</td>\n",
       "      <td>0.023736</td>\n",
       "      <td>0.024719</td>\n",
       "      <td>0.0</td>\n",
       "      <td>0.045868</td>\n",
       "      <td>0.000000</td>\n",
       "      <td>0.0</td>\n",
       "      <td>0.0</td>\n",
       "      <td>...</td>\n",
       "      <td>0.0</td>\n",
       "      <td>0.0</td>\n",
       "      <td>0.000000</td>\n",
       "      <td>0.000000</td>\n",
       "      <td>0.000000</td>\n",
       "      <td>0.0</td>\n",
       "      <td>0.000000</td>\n",
       "      <td>0.0</td>\n",
       "      <td>0.0</td>\n",
       "      <td>0.00000</td>\n",
       "    </tr>\n",
       "    <tr>\n",
       "      <th>19004374</th>\n",
       "      <td>1</td>\n",
       "      <td>0.000000</td>\n",
       "      <td>0.0</td>\n",
       "      <td>0.000000</td>\n",
       "      <td>0.000000</td>\n",
       "      <td>0.0</td>\n",
       "      <td>0.000000</td>\n",
       "      <td>0.040130</td>\n",
       "      <td>0.0</td>\n",
       "      <td>0.0</td>\n",
       "      <td>...</td>\n",
       "      <td>0.0</td>\n",
       "      <td>0.0</td>\n",
       "      <td>0.000000</td>\n",
       "      <td>0.044365</td>\n",
       "      <td>0.000000</td>\n",
       "      <td>0.0</td>\n",
       "      <td>0.000000</td>\n",
       "      <td>0.0</td>\n",
       "      <td>0.0</td>\n",
       "      <td>0.00000</td>\n",
       "    </tr>\n",
       "    <tr>\n",
       "      <th>16398569</th>\n",
       "      <td>3</td>\n",
       "      <td>0.000000</td>\n",
       "      <td>0.0</td>\n",
       "      <td>0.000000</td>\n",
       "      <td>0.000000</td>\n",
       "      <td>0.0</td>\n",
       "      <td>0.000000</td>\n",
       "      <td>0.000000</td>\n",
       "      <td>0.0</td>\n",
       "      <td>0.0</td>\n",
       "      <td>...</td>\n",
       "      <td>0.0</td>\n",
       "      <td>0.0</td>\n",
       "      <td>0.000000</td>\n",
       "      <td>0.000000</td>\n",
       "      <td>0.043381</td>\n",
       "      <td>0.0</td>\n",
       "      <td>0.000000</td>\n",
       "      <td>0.0</td>\n",
       "      <td>0.0</td>\n",
       "      <td>0.00000</td>\n",
       "    </tr>\n",
       "    <tr>\n",
       "      <th>1838064</th>\n",
       "      <td>2</td>\n",
       "      <td>0.094393</td>\n",
       "      <td>0.0</td>\n",
       "      <td>0.137102</td>\n",
       "      <td>0.000000</td>\n",
       "      <td>0.0</td>\n",
       "      <td>0.014719</td>\n",
       "      <td>0.023459</td>\n",
       "      <td>0.0</td>\n",
       "      <td>0.0</td>\n",
       "      <td>...</td>\n",
       "      <td>0.0</td>\n",
       "      <td>0.0</td>\n",
       "      <td>0.015843</td>\n",
       "      <td>0.000000</td>\n",
       "      <td>0.000000</td>\n",
       "      <td>0.0</td>\n",
       "      <td>0.040923</td>\n",
       "      <td>0.0</td>\n",
       "      <td>0.0</td>\n",
       "      <td>0.02284</td>\n",
       "    </tr>\n",
       "    <tr>\n",
       "      <th>2544997</th>\n",
       "      <td>2</td>\n",
       "      <td>0.000000</td>\n",
       "      <td>0.0</td>\n",
       "      <td>0.000000</td>\n",
       "      <td>0.000000</td>\n",
       "      <td>0.0</td>\n",
       "      <td>0.000000</td>\n",
       "      <td>0.000000</td>\n",
       "      <td>0.0</td>\n",
       "      <td>0.0</td>\n",
       "      <td>...</td>\n",
       "      <td>0.0</td>\n",
       "      <td>0.0</td>\n",
       "      <td>0.000000</td>\n",
       "      <td>0.000000</td>\n",
       "      <td>0.000000</td>\n",
       "      <td>0.0</td>\n",
       "      <td>0.000000</td>\n",
       "      <td>0.0</td>\n",
       "      <td>0.0</td>\n",
       "      <td>0.00000</td>\n",
       "    </tr>\n",
       "  </tbody>\n",
       "</table>\n",
       "<p>5 rows × 501 columns</p>\n",
       "</div>"
      ],
      "text/plain": [
       "         label       w-0  w-0001     w-001      w-01  w-02      w-05  \\\n",
       "pid                                                                    \n",
       "10907124     2  0.036770     0.0  0.023736  0.024719   0.0  0.045868   \n",
       "19004374     1  0.000000     0.0  0.000000  0.000000   0.0  0.000000   \n",
       "16398569     3  0.000000     0.0  0.000000  0.000000   0.0  0.000000   \n",
       "1838064      2  0.094393     0.0  0.137102  0.000000   0.0  0.014719   \n",
       "2544997      2  0.000000     0.0  0.000000  0.000000   0.0  0.000000   \n",
       "\n",
       "               w-1  w-10  w-100   ...     w-vitro  w-vivo      w-vs    w-week  \\\n",
       "pid                               ...                                           \n",
       "10907124  0.000000   0.0    0.0   ...         0.0     0.0  0.000000  0.000000   \n",
       "19004374  0.040130   0.0    0.0   ...         0.0     0.0  0.000000  0.044365   \n",
       "16398569  0.000000   0.0    0.0   ...         0.0     0.0  0.000000  0.000000   \n",
       "1838064   0.023459   0.0    0.0   ...         0.0     0.0  0.015843  0.000000   \n",
       "2544997   0.000000   0.0    0.0   ...         0.0     0.0  0.000000  0.000000   \n",
       "\n",
       "          w-weight  w-wherea   w-women  w-x  w-year  w-young  \n",
       "pid                                                           \n",
       "10907124  0.000000       0.0  0.000000  0.0     0.0  0.00000  \n",
       "19004374  0.000000       0.0  0.000000  0.0     0.0  0.00000  \n",
       "16398569  0.043381       0.0  0.000000  0.0     0.0  0.00000  \n",
       "1838064   0.000000       0.0  0.040923  0.0     0.0  0.02284  \n",
       "2544997   0.000000       0.0  0.000000  0.0     0.0  0.00000  \n",
       "\n",
       "[5 rows x 501 columns]"
      ]
     },
     "execution_count": 17,
     "metadata": {},
     "output_type": "execute_result"
    }
   ],
   "source": [
    "val_data.head()"
   ]
  },
  {
   "cell_type": "code",
   "execution_count": 18,
   "metadata": {},
   "outputs": [
    {
     "data": {
      "text/html": [
       "<div>\n",
       "<style scoped>\n",
       "    .dataframe tbody tr th:only-of-type {\n",
       "        vertical-align: middle;\n",
       "    }\n",
       "\n",
       "    .dataframe tbody tr th {\n",
       "        vertical-align: top;\n",
       "    }\n",
       "\n",
       "    .dataframe thead th {\n",
       "        text-align: right;\n",
       "    }\n",
       "</style>\n",
       "<table border=\"1\" class=\"dataframe\">\n",
       "  <thead>\n",
       "    <tr style=\"text-align: right;\">\n",
       "      <th></th>\n",
       "      <th>label</th>\n",
       "      <th>w-0</th>\n",
       "      <th>w-0001</th>\n",
       "      <th>w-001</th>\n",
       "      <th>w-01</th>\n",
       "      <th>w-02</th>\n",
       "      <th>w-05</th>\n",
       "      <th>w-1</th>\n",
       "      <th>w-10</th>\n",
       "      <th>w-100</th>\n",
       "      <th>...</th>\n",
       "      <th>w-vitro</th>\n",
       "      <th>w-vivo</th>\n",
       "      <th>w-vs</th>\n",
       "      <th>w-week</th>\n",
       "      <th>w-weight</th>\n",
       "      <th>w-wherea</th>\n",
       "      <th>w-women</th>\n",
       "      <th>w-x</th>\n",
       "      <th>w-year</th>\n",
       "      <th>w-young</th>\n",
       "    </tr>\n",
       "    <tr>\n",
       "      <th>pid</th>\n",
       "      <th></th>\n",
       "      <th></th>\n",
       "      <th></th>\n",
       "      <th></th>\n",
       "      <th></th>\n",
       "      <th></th>\n",
       "      <th></th>\n",
       "      <th></th>\n",
       "      <th></th>\n",
       "      <th></th>\n",
       "      <th></th>\n",
       "      <th></th>\n",
       "      <th></th>\n",
       "      <th></th>\n",
       "      <th></th>\n",
       "      <th></th>\n",
       "      <th></th>\n",
       "      <th></th>\n",
       "      <th></th>\n",
       "      <th></th>\n",
       "      <th></th>\n",
       "    </tr>\n",
       "  </thead>\n",
       "  <tbody>\n",
       "    <tr>\n",
       "      <th>7729603</th>\n",
       "      <td>3</td>\n",
       "      <td>0.000000</td>\n",
       "      <td>0.0</td>\n",
       "      <td>0.000000</td>\n",
       "      <td>0.0</td>\n",
       "      <td>0.0</td>\n",
       "      <td>0.000000</td>\n",
       "      <td>0.000000</td>\n",
       "      <td>0.000000</td>\n",
       "      <td>0.000000</td>\n",
       "      <td>...</td>\n",
       "      <td>0.0</td>\n",
       "      <td>0.0</td>\n",
       "      <td>0.000000</td>\n",
       "      <td>0.0</td>\n",
       "      <td>0.0</td>\n",
       "      <td>0.0</td>\n",
       "      <td>0.0</td>\n",
       "      <td>0.0</td>\n",
       "      <td>0.000000</td>\n",
       "      <td>0.000000</td>\n",
       "    </tr>\n",
       "    <tr>\n",
       "      <th>2186054</th>\n",
       "      <td>3</td>\n",
       "      <td>0.041297</td>\n",
       "      <td>0.0</td>\n",
       "      <td>0.045701</td>\n",
       "      <td>0.0</td>\n",
       "      <td>0.0</td>\n",
       "      <td>0.000000</td>\n",
       "      <td>0.000000</td>\n",
       "      <td>0.024052</td>\n",
       "      <td>0.000000</td>\n",
       "      <td>...</td>\n",
       "      <td>0.0</td>\n",
       "      <td>0.0</td>\n",
       "      <td>0.063373</td>\n",
       "      <td>0.0</td>\n",
       "      <td>0.0</td>\n",
       "      <td>0.0</td>\n",
       "      <td>0.0</td>\n",
       "      <td>0.0</td>\n",
       "      <td>0.000000</td>\n",
       "      <td>0.000000</td>\n",
       "    </tr>\n",
       "    <tr>\n",
       "      <th>14685005</th>\n",
       "      <td>2</td>\n",
       "      <td>0.021808</td>\n",
       "      <td>0.0</td>\n",
       "      <td>0.014078</td>\n",
       "      <td>0.0</td>\n",
       "      <td>0.0</td>\n",
       "      <td>0.013602</td>\n",
       "      <td>0.026015</td>\n",
       "      <td>0.011114</td>\n",
       "      <td>0.000000</td>\n",
       "      <td>...</td>\n",
       "      <td>0.0</td>\n",
       "      <td>0.0</td>\n",
       "      <td>0.000000</td>\n",
       "      <td>0.0</td>\n",
       "      <td>0.0</td>\n",
       "      <td>0.0</td>\n",
       "      <td>0.0</td>\n",
       "      <td>0.0</td>\n",
       "      <td>0.010046</td>\n",
       "      <td>0.000000</td>\n",
       "    </tr>\n",
       "    <tr>\n",
       "      <th>2123890</th>\n",
       "      <td>3</td>\n",
       "      <td>0.057494</td>\n",
       "      <td>0.0</td>\n",
       "      <td>0.000000</td>\n",
       "      <td>0.0</td>\n",
       "      <td>0.0</td>\n",
       "      <td>0.017930</td>\n",
       "      <td>0.011431</td>\n",
       "      <td>0.000000</td>\n",
       "      <td>0.051043</td>\n",
       "      <td>...</td>\n",
       "      <td>0.0</td>\n",
       "      <td>0.0</td>\n",
       "      <td>0.000000</td>\n",
       "      <td>0.0</td>\n",
       "      <td>0.0</td>\n",
       "      <td>0.0</td>\n",
       "      <td>0.0</td>\n",
       "      <td>0.0</td>\n",
       "      <td>0.000000</td>\n",
       "      <td>0.000000</td>\n",
       "    </tr>\n",
       "    <tr>\n",
       "      <th>12786684</th>\n",
       "      <td>3</td>\n",
       "      <td>0.000000</td>\n",
       "      <td>0.0</td>\n",
       "      <td>0.000000</td>\n",
       "      <td>0.0</td>\n",
       "      <td>0.0</td>\n",
       "      <td>0.000000</td>\n",
       "      <td>0.000000</td>\n",
       "      <td>0.000000</td>\n",
       "      <td>0.000000</td>\n",
       "      <td>...</td>\n",
       "      <td>0.0</td>\n",
       "      <td>0.0</td>\n",
       "      <td>0.000000</td>\n",
       "      <td>0.0</td>\n",
       "      <td>0.0</td>\n",
       "      <td>0.0</td>\n",
       "      <td>0.0</td>\n",
       "      <td>0.0</td>\n",
       "      <td>0.000000</td>\n",
       "      <td>0.058858</td>\n",
       "    </tr>\n",
       "  </tbody>\n",
       "</table>\n",
       "<p>5 rows × 501 columns</p>\n",
       "</div>"
      ],
      "text/plain": [
       "         label       w-0  w-0001     w-001  w-01  w-02      w-05       w-1  \\\n",
       "pid                                                                          \n",
       "7729603      3  0.000000     0.0  0.000000   0.0   0.0  0.000000  0.000000   \n",
       "2186054      3  0.041297     0.0  0.045701   0.0   0.0  0.000000  0.000000   \n",
       "14685005     2  0.021808     0.0  0.014078   0.0   0.0  0.013602  0.026015   \n",
       "2123890      3  0.057494     0.0  0.000000   0.0   0.0  0.017930  0.011431   \n",
       "12786684     3  0.000000     0.0  0.000000   0.0   0.0  0.000000  0.000000   \n",
       "\n",
       "              w-10     w-100    ...     w-vitro  w-vivo      w-vs  w-week  \\\n",
       "pid                             ...                                         \n",
       "7729603   0.000000  0.000000    ...         0.0     0.0  0.000000     0.0   \n",
       "2186054   0.024052  0.000000    ...         0.0     0.0  0.063373     0.0   \n",
       "14685005  0.011114  0.000000    ...         0.0     0.0  0.000000     0.0   \n",
       "2123890   0.000000  0.051043    ...         0.0     0.0  0.000000     0.0   \n",
       "12786684  0.000000  0.000000    ...         0.0     0.0  0.000000     0.0   \n",
       "\n",
       "          w-weight  w-wherea  w-women  w-x    w-year   w-young  \n",
       "pid                                                             \n",
       "7729603        0.0       0.0      0.0  0.0  0.000000  0.000000  \n",
       "2186054        0.0       0.0      0.0  0.0  0.000000  0.000000  \n",
       "14685005       0.0       0.0      0.0  0.0  0.010046  0.000000  \n",
       "2123890        0.0       0.0      0.0  0.0  0.000000  0.000000  \n",
       "12786684       0.0       0.0      0.0  0.0  0.000000  0.058858  \n",
       "\n",
       "[5 rows x 501 columns]"
      ]
     },
     "execution_count": 18,
     "metadata": {},
     "output_type": "execute_result"
    }
   ],
   "source": [
    "test_data.head()"
   ]
  },
  {
   "cell_type": "markdown",
   "metadata": {},
   "source": [
    "Note using stratified sampling gives the following counts:"
   ]
  },
  {
   "cell_type": "code",
   "execution_count": 19,
   "metadata": {},
   "outputs": [
    {
     "data": {
      "text/plain": [
       "(Counter({'3': 4353, '2': 4429, '1': 2308}),\n",
       " Counter({'2': 1477, '1': 769, '3': 1451}),\n",
       " Counter({'3': 1935, '2': 1969, '1': 1026}))"
      ]
     },
     "execution_count": 19,
     "metadata": {},
     "output_type": "execute_result"
    }
   ],
   "source": [
    "from collections import Counter\n",
    "Counter(train_data['label']), Counter(val_data['label']), Counter(test_data['label'])"
   ]
  },
  {
   "cell_type": "markdown",
   "metadata": {},
   "source": [
    "The training set has class imbalance that might need to be compensated, e.g., via using a weighted cross-entropy loss in model training, with class weights inversely proportional to class support. However, we will ignore the class imbalance in this example, for simplicity."
   ]
  },
  {
   "cell_type": "markdown",
   "metadata": {},
   "source": [
    "### Converting to numeric arrays"
   ]
  },
  {
   "cell_type": "markdown",
   "metadata": {},
   "source": [
    "For our categorical target, we will use one-hot vectors that will be fed into a soft-max Keras layer during training. To do this conversion ..."
   ]
  },
  {
   "cell_type": "code",
   "execution_count": 20,
   "metadata": {},
   "outputs": [],
   "source": [
    "target_encoding = feature_extraction.DictVectorizer(sparse=False)\n",
    "\n",
    "train_targets = target_encoding.fit_transform(train_data[[\"label\"]].to_dict('records'))\n",
    "val_targets = target_encoding.fit_transform(val_data[[\"label\"]].to_dict('records'))\n",
    "test_targets = target_encoding.transform(test_data[[\"label\"]].to_dict('records'))"
   ]
  },
  {
   "cell_type": "code",
   "execution_count": 21,
   "metadata": {},
   "outputs": [
    {
     "data": {
      "text/plain": [
       "array([[0., 0., 1.],\n",
       "       [0., 1., 0.],\n",
       "       [0., 0., 1.],\n",
       "       ...,\n",
       "       [0., 0., 1.],\n",
       "       [0., 1., 0.],\n",
       "       [1., 0., 0.]])"
      ]
     },
     "execution_count": 21,
     "metadata": {},
     "output_type": "execute_result"
    }
   ],
   "source": [
    "train_targets"
   ]
  },
  {
   "cell_type": "markdown",
   "metadata": {},
   "source": [
    "We now do the same for the node attributes we want to use to predict the subject. These are the feature vectors that the Keras model will use as input. The dataset contains attributes 'w-*' that correspond to words found in that publication. If a word occurs more than once in a publication the relevant attribute will be set to one, otherwise it will be zero."
   ]
  },
  {
   "cell_type": "code",
   "execution_count": 22,
   "metadata": {},
   "outputs": [],
   "source": [
    "node_features = node_data.drop(columns=['label'])"
   ]
  },
  {
   "cell_type": "code",
   "execution_count": 23,
   "metadata": {},
   "outputs": [
    {
     "data": {
      "text/html": [
       "<div>\n",
       "<style scoped>\n",
       "    .dataframe tbody tr th:only-of-type {\n",
       "        vertical-align: middle;\n",
       "    }\n",
       "\n",
       "    .dataframe tbody tr th {\n",
       "        vertical-align: top;\n",
       "    }\n",
       "\n",
       "    .dataframe thead th {\n",
       "        text-align: right;\n",
       "    }\n",
       "</style>\n",
       "<table border=\"1\" class=\"dataframe\">\n",
       "  <thead>\n",
       "    <tr style=\"text-align: right;\">\n",
       "      <th></th>\n",
       "      <th>w-0</th>\n",
       "      <th>w-0001</th>\n",
       "      <th>w-001</th>\n",
       "      <th>w-01</th>\n",
       "      <th>w-02</th>\n",
       "      <th>w-05</th>\n",
       "      <th>w-1</th>\n",
       "      <th>w-10</th>\n",
       "      <th>w-100</th>\n",
       "      <th>w-11</th>\n",
       "      <th>...</th>\n",
       "      <th>w-vitro</th>\n",
       "      <th>w-vivo</th>\n",
       "      <th>w-vs</th>\n",
       "      <th>w-week</th>\n",
       "      <th>w-weight</th>\n",
       "      <th>w-wherea</th>\n",
       "      <th>w-women</th>\n",
       "      <th>w-x</th>\n",
       "      <th>w-year</th>\n",
       "      <th>w-young</th>\n",
       "    </tr>\n",
       "    <tr>\n",
       "      <th>pid</th>\n",
       "      <th></th>\n",
       "      <th></th>\n",
       "      <th></th>\n",
       "      <th></th>\n",
       "      <th></th>\n",
       "      <th></th>\n",
       "      <th></th>\n",
       "      <th></th>\n",
       "      <th></th>\n",
       "      <th></th>\n",
       "      <th></th>\n",
       "      <th></th>\n",
       "      <th></th>\n",
       "      <th></th>\n",
       "      <th></th>\n",
       "      <th></th>\n",
       "      <th></th>\n",
       "      <th></th>\n",
       "      <th></th>\n",
       "      <th></th>\n",
       "      <th></th>\n",
       "    </tr>\n",
       "  </thead>\n",
       "  <tbody>\n",
       "    <tr>\n",
       "      <th>12187484</th>\n",
       "      <td>0.000000</td>\n",
       "      <td>0.0</td>\n",
       "      <td>0.0</td>\n",
       "      <td>0.0</td>\n",
       "      <td>0.0</td>\n",
       "      <td>0.0</td>\n",
       "      <td>0.000000</td>\n",
       "      <td>0.000000</td>\n",
       "      <td>0.0</td>\n",
       "      <td>0.0</td>\n",
       "      <td>...</td>\n",
       "      <td>0.0</td>\n",
       "      <td>0.000000</td>\n",
       "      <td>0.0</td>\n",
       "      <td>0.000000</td>\n",
       "      <td>0.000000</td>\n",
       "      <td>0.00000</td>\n",
       "      <td>0.0</td>\n",
       "      <td>0.0</td>\n",
       "      <td>0.0</td>\n",
       "      <td>0.0</td>\n",
       "    </tr>\n",
       "    <tr>\n",
       "      <th>2344352</th>\n",
       "      <td>0.000000</td>\n",
       "      <td>0.0</td>\n",
       "      <td>0.0</td>\n",
       "      <td>0.0</td>\n",
       "      <td>0.0</td>\n",
       "      <td>0.0</td>\n",
       "      <td>0.000000</td>\n",
       "      <td>0.000000</td>\n",
       "      <td>0.0</td>\n",
       "      <td>0.0</td>\n",
       "      <td>...</td>\n",
       "      <td>0.0</td>\n",
       "      <td>0.041603</td>\n",
       "      <td>0.0</td>\n",
       "      <td>0.000000</td>\n",
       "      <td>0.000000</td>\n",
       "      <td>0.00000</td>\n",
       "      <td>0.0</td>\n",
       "      <td>0.0</td>\n",
       "      <td>0.0</td>\n",
       "      <td>0.0</td>\n",
       "    </tr>\n",
       "    <tr>\n",
       "      <th>14654069</th>\n",
       "      <td>0.000000</td>\n",
       "      <td>0.0</td>\n",
       "      <td>0.0</td>\n",
       "      <td>0.0</td>\n",
       "      <td>0.0</td>\n",
       "      <td>0.0</td>\n",
       "      <td>0.000000</td>\n",
       "      <td>0.000000</td>\n",
       "      <td>0.0</td>\n",
       "      <td>0.0</td>\n",
       "      <td>...</td>\n",
       "      <td>0.0</td>\n",
       "      <td>0.000000</td>\n",
       "      <td>0.0</td>\n",
       "      <td>0.021497</td>\n",
       "      <td>0.045617</td>\n",
       "      <td>0.00000</td>\n",
       "      <td>0.0</td>\n",
       "      <td>0.0</td>\n",
       "      <td>0.0</td>\n",
       "      <td>0.0</td>\n",
       "    </tr>\n",
       "    <tr>\n",
       "      <th>16443886</th>\n",
       "      <td>0.008322</td>\n",
       "      <td>0.0</td>\n",
       "      <td>0.0</td>\n",
       "      <td>0.0</td>\n",
       "      <td>0.0</td>\n",
       "      <td>0.0</td>\n",
       "      <td>0.019854</td>\n",
       "      <td>0.016963</td>\n",
       "      <td>0.0</td>\n",
       "      <td>0.0</td>\n",
       "      <td>...</td>\n",
       "      <td>0.0</td>\n",
       "      <td>0.000000</td>\n",
       "      <td>0.0</td>\n",
       "      <td>0.000000</td>\n",
       "      <td>0.000000</td>\n",
       "      <td>0.02367</td>\n",
       "      <td>0.0</td>\n",
       "      <td>0.0</td>\n",
       "      <td>0.0</td>\n",
       "      <td>0.0</td>\n",
       "    </tr>\n",
       "    <tr>\n",
       "      <th>2684155</th>\n",
       "      <td>0.000000</td>\n",
       "      <td>0.0</td>\n",
       "      <td>0.0</td>\n",
       "      <td>0.0</td>\n",
       "      <td>0.0</td>\n",
       "      <td>0.0</td>\n",
       "      <td>0.000000</td>\n",
       "      <td>0.000000</td>\n",
       "      <td>0.0</td>\n",
       "      <td>0.0</td>\n",
       "      <td>...</td>\n",
       "      <td>0.0</td>\n",
       "      <td>0.000000</td>\n",
       "      <td>0.0</td>\n",
       "      <td>0.000000</td>\n",
       "      <td>0.000000</td>\n",
       "      <td>0.00000</td>\n",
       "      <td>0.0</td>\n",
       "      <td>0.0</td>\n",
       "      <td>0.0</td>\n",
       "      <td>0.0</td>\n",
       "    </tr>\n",
       "  </tbody>\n",
       "</table>\n",
       "<p>5 rows × 500 columns</p>\n",
       "</div>"
      ],
      "text/plain": [
       "               w-0  w-0001  w-001  w-01  w-02  w-05       w-1      w-10  \\\n",
       "pid                                                                       \n",
       "12187484  0.000000     0.0    0.0   0.0   0.0   0.0  0.000000  0.000000   \n",
       "2344352   0.000000     0.0    0.0   0.0   0.0   0.0  0.000000  0.000000   \n",
       "14654069  0.000000     0.0    0.0   0.0   0.0   0.0  0.000000  0.000000   \n",
       "16443886  0.008322     0.0    0.0   0.0   0.0   0.0  0.019854  0.016963   \n",
       "2684155   0.000000     0.0    0.0   0.0   0.0   0.0  0.000000  0.000000   \n",
       "\n",
       "          w-100  w-11   ...     w-vitro    w-vivo  w-vs    w-week  w-weight  \\\n",
       "pid                     ...                                                   \n",
       "12187484    0.0   0.0   ...         0.0  0.000000   0.0  0.000000  0.000000   \n",
       "2344352     0.0   0.0   ...         0.0  0.041603   0.0  0.000000  0.000000   \n",
       "14654069    0.0   0.0   ...         0.0  0.000000   0.0  0.021497  0.045617   \n",
       "16443886    0.0   0.0   ...         0.0  0.000000   0.0  0.000000  0.000000   \n",
       "2684155     0.0   0.0   ...         0.0  0.000000   0.0  0.000000  0.000000   \n",
       "\n",
       "          w-wherea  w-women  w-x  w-year  w-young  \n",
       "pid                                                \n",
       "12187484   0.00000      0.0  0.0     0.0      0.0  \n",
       "2344352    0.00000      0.0  0.0     0.0      0.0  \n",
       "14654069   0.00000      0.0  0.0     0.0      0.0  \n",
       "16443886   0.02367      0.0  0.0     0.0      0.0  \n",
       "2684155    0.00000      0.0  0.0     0.0      0.0  \n",
       "\n",
       "[5 rows x 500 columns]"
      ]
     },
     "execution_count": 23,
     "metadata": {},
     "output_type": "execute_result"
    }
   ],
   "source": [
    "node_features.head()"
   ]
  },
  {
   "cell_type": "markdown",
   "metadata": {},
   "source": [
    "## Creating the GraphSAGE model in Keras"
   ]
  },
  {
   "cell_type": "markdown",
   "metadata": {},
   "source": [
    "Now create a StellarGraph object from the NetworkX graph and the node features and targets. It is StellarGraph objects that we use in this library to perform machine learning tasks on."
   ]
  },
  {
   "cell_type": "code",
   "execution_count": 24,
   "metadata": {},
   "outputs": [],
   "source": [
    "G = sg.StellarGraph(Gnx, node_features=node_features)"
   ]
  },
  {
   "cell_type": "code",
   "execution_count": 25,
   "metadata": {},
   "outputs": [
    {
     "name": "stdout",
     "output_type": "stream",
     "text": [
      "StellarGraph: Undirected multigraph\n",
      " Nodes: 19717, Edges: 44327\n",
      "\n",
      " Node types:\n",
      "  default: [19717]\n",
      "    Edge types: default-cites->default\n",
      "\n",
      " Edge types:\n",
      "    default-cites->default: [44327]\n",
      "\n"
     ]
    }
   ],
   "source": [
    "print(G.info())"
   ]
  },
  {
   "cell_type": "markdown",
   "metadata": {},
   "source": [
    "To feed data from the graph to the Keras model we need a mapper. The mappers are specialized to the model and the learning task so we choose the `GraphSAGENodeMapper` as we are predicting node attributes with a GraphSAGE model.\n",
    "\n",
    "We need two other parameters, the `batch_size` to use for training and the number of nodes to sample at each level of the model. Here we choose a two-level model with 10 nodes sampled in the first layer, and 5 in the second."
   ]
  },
  {
   "cell_type": "code",
   "execution_count": 26,
   "metadata": {},
   "outputs": [],
   "source": [
    "batch_size = 50; num_samples = [10, 5]"
   ]
  },
  {
   "cell_type": "markdown",
   "metadata": {},
   "source": [
    "A `GraphSAGENodeGenerator` object is required to send the node features in sampled subgraphs to Keras"
   ]
  },
  {
   "cell_type": "code",
   "execution_count": 27,
   "metadata": {},
   "outputs": [],
   "source": [
    "generator = GraphSAGENodeGenerator(G, batch_size, num_samples)"
   ]
  },
  {
   "cell_type": "markdown",
   "metadata": {},
   "source": [
    "For training we map only the training nodes returned from our splitter and the target values."
   ]
  },
  {
   "cell_type": "code",
   "execution_count": 28,
   "metadata": {},
   "outputs": [],
   "source": [
    "train_gen = generator.flow(train_data.index, train_targets)"
   ]
  },
  {
   "cell_type": "markdown",
   "metadata": {},
   "source": [
    "Now we can specify our machine learning model, we need a few more parameters for this:\n",
    "\n",
    " * the `layer_sizes` is a list of hidden feature sizes of each layer in the model. In this example we use 32-dimensional hidden node features at each layer.\n",
    " * The `bias` and `dropout` are internal parameters of the model. "
   ]
  },
  {
   "cell_type": "code",
   "execution_count": 29,
   "metadata": {},
   "outputs": [],
   "source": [
    "graphsage_model = GraphSAGE(\n",
    "    layer_sizes=[32, 32],\n",
    "    generator=train_gen,\n",
    "    bias=True,\n",
    "    dropout=0.5,\n",
    ")"
   ]
  },
  {
   "cell_type": "markdown",
   "metadata": {},
   "source": [
    "Now we create a model to predict the 7 categories using Keras softmax layers. Note that we need to use the `G.get_target_size` method to find the number of categories in the data."
   ]
  },
  {
   "cell_type": "code",
   "execution_count": 30,
   "metadata": {},
   "outputs": [],
   "source": [
    "x_inp, x_out = graphsage_model.default_model(flatten_output=True)\n",
    "logits = layers.Dense(units=train_targets.shape[1], activation=\"linear\")(x_out)\n",
    "\n",
    "prediction = layers.Activation(activation=\"softmax\")(logits)"
   ]
  },
  {
   "cell_type": "code",
   "execution_count": 31,
   "metadata": {},
   "outputs": [
    {
     "data": {
      "text/plain": [
       "TensorShape([Dimension(None), Dimension(3)])"
      ]
     },
     "execution_count": 31,
     "metadata": {},
     "output_type": "execute_result"
    }
   ],
   "source": [
    "prediction.shape"
   ]
  },
  {
   "cell_type": "markdown",
   "metadata": {},
   "source": [
    "### Training the model"
   ]
  },
  {
   "cell_type": "markdown",
   "metadata": {},
   "source": [
    "Now let's create the actual Keras model with the graph inputs `x_inp` provided by the `graph_model` and outputs being the predictions from the softmax layer"
   ]
  },
  {
   "cell_type": "code",
   "execution_count": 32,
   "metadata": {},
   "outputs": [],
   "source": [
    "model = Model(inputs=x_inp, outputs=prediction)\n",
    "model.compile(\n",
    "    optimizer=optimizers.Adam(lr=0.005),\n",
    "    loss=losses.categorical_crossentropy,\n",
    "    metrics=[metrics.categorical_accuracy],\n",
    ")"
   ]
  },
  {
   "cell_type": "markdown",
   "metadata": {},
   "source": [
    "Train the model, keeping track of its loss and accuracy on the training set, and its generalisation performance on the test set (we need to create another generator over the test data for this)"
   ]
  },
  {
   "cell_type": "code",
   "execution_count": 33,
   "metadata": {},
   "outputs": [],
   "source": [
    "val_gen = generator.flow(val_data.index, val_targets)\n",
    "test_gen = generator.flow(test_data.index, test_targets)"
   ]
  },
  {
   "cell_type": "code",
   "execution_count": 34,
   "metadata": {},
   "outputs": [],
   "source": [
    "history = model.fit_generator(\n",
    "    train_gen,\n",
    "    epochs=epochs,\n",
    "    validation_data=val_gen,\n",
    "    verbose=0,\n",
    "    shuffle=True,\n",
    ")"
   ]
  },
  {
   "cell_type": "code",
   "execution_count": 35,
   "metadata": {},
   "outputs": [],
   "source": [
    "import matplotlib.pyplot as plt\n",
    "%matplotlib inline\n",
    "\n",
    "def plot_history(history):\n",
    "    metrics = sorted(history.history.keys())\n",
    "    metrics = metrics[:len(metrics)//2]\n",
    "    for m in metrics:\n",
    "        # summarize history for metric m\n",
    "        plt.plot(history.history[m])\n",
    "        plt.plot(history.history['val_' + m])\n",
    "        plt.title(m)\n",
    "        plt.ylabel(m)\n",
    "        plt.xlabel('epoch')\n",
    "        plt.legend(['train', 'test'], loc='upper right')\n",
    "        plt.show()"
   ]
  },
  {
   "cell_type": "code",
   "execution_count": 36,
   "metadata": {},
   "outputs": [
    {
     "data": {
      "image/png": "[encoded data removed]",
      "text/plain": [
       "<Figure size 432x288 with 1 Axes>"
      ]
     },
     "metadata": {},
     "output_type": "display_data"
    },
    {
     "data": {
      "image/png": "[encoded data removed]",
      "text/plain": [
       "<Figure size 432x288 with 1 Axes>"
      ]
     },
     "metadata": {},
     "output_type": "display_data"
    }
   ],
   "source": [
    "plot_history(history)"
   ]
  },
  {
   "cell_type": "markdown",
   "metadata": {},
   "source": [
    "Now we have trained the model we can evaluate on the test set."
   ]
  },
  {
   "cell_type": "code",
   "execution_count": 37,
   "metadata": {},
   "outputs": [
    {
     "name": "stdout",
     "output_type": "stream",
     "text": [
      "\n",
      "Test Set Metrics:\n",
      "\tloss: 0.3248\n",
      "\tcategorical_accuracy: 0.8799\n"
     ]
    }
   ],
   "source": [
    "test_metrics = model.evaluate_generator(test_gen)\n",
    "print(\"\\nTest Set Metrics:\")\n",
    "for name, val in zip(model.metrics_names, test_metrics):\n",
    "    print(\"\\t{}: {:0.4f}\".format(name, val))"
   ]
  },
  {
   "cell_type": "markdown",
   "metadata": {},
   "source": [
    "## Calibration Curves\n",
    "\n",
    "We estimate and plot the calibration curve for each class."
   ]
  },
  {
   "cell_type": "markdown",
   "metadata": {},
   "source": [
    "Start by making predictions for the test set"
   ]
  },
  {
   "cell_type": "code",
   "execution_count": 38,
   "metadata": {},
   "outputs": [],
   "source": [
    "test_nodes = test_data.index\n",
    "test_mapper = generator.flow(test_nodes)"
   ]
  },
  {
   "cell_type": "code",
   "execution_count": 39,
   "metadata": {},
   "outputs": [
    {
     "name": "stdout",
     "output_type": "stream",
     "text": [
      "(5, 4930, 3)\n"
     ]
    }
   ],
   "source": [
    "# test_predictions holds the softmax outputs\n",
    "test_predictions = predict(model, test_mapper, n_predictions=n_predictions)"
   ]
  },
  {
   "cell_type": "code",
   "execution_count": 40,
   "metadata": {},
   "outputs": [],
   "source": [
    "# This produces a list of dictionaries (one entry per point in test set) and one entry\n",
    "# in the dictionary for each class label, label=1, label=2, label=3.\n",
    "y_test_pred = target_encoding.inverse_transform(test_predictions)"
   ]
  },
  {
   "cell_type": "code",
   "execution_count": 41,
   "metadata": {},
   "outputs": [
    {
     "data": {
      "text/html": [
       "<div>\n",
       "<style scoped>\n",
       "    .dataframe tbody tr th:only-of-type {\n",
       "        vertical-align: middle;\n",
       "    }\n",
       "\n",
       "    .dataframe tbody tr th {\n",
       "        vertical-align: top;\n",
       "    }\n",
       "\n",
       "    .dataframe thead th {\n",
       "        text-align: right;\n",
       "    }\n",
       "</style>\n",
       "<table border=\"1\" class=\"dataframe\">\n",
       "  <thead>\n",
       "    <tr style=\"text-align: right;\">\n",
       "      <th></th>\n",
       "      <th>label=1</th>\n",
       "      <th>label=2</th>\n",
       "      <th>label=3</th>\n",
       "    </tr>\n",
       "    <tr>\n",
       "      <th>pid</th>\n",
       "      <th></th>\n",
       "      <th></th>\n",
       "      <th></th>\n",
       "    </tr>\n",
       "  </thead>\n",
       "  <tbody>\n",
       "    <tr>\n",
       "      <th>7729603</th>\n",
       "      <td>0.000924</td>\n",
       "      <td>0.008521</td>\n",
       "      <td>0.990556</td>\n",
       "    </tr>\n",
       "    <tr>\n",
       "      <th>2186054</th>\n",
       "      <td>0.004871</td>\n",
       "      <td>0.017344</td>\n",
       "      <td>0.977785</td>\n",
       "    </tr>\n",
       "    <tr>\n",
       "      <th>14685005</th>\n",
       "      <td>0.165319</td>\n",
       "      <td>0.693837</td>\n",
       "      <td>0.140843</td>\n",
       "    </tr>\n",
       "    <tr>\n",
       "      <th>2123890</th>\n",
       "      <td>0.018488</td>\n",
       "      <td>0.016726</td>\n",
       "      <td>0.964785</td>\n",
       "    </tr>\n",
       "    <tr>\n",
       "      <th>12786684</th>\n",
       "      <td>0.001944</td>\n",
       "      <td>0.019085</td>\n",
       "      <td>0.978971</td>\n",
       "    </tr>\n",
       "  </tbody>\n",
       "</table>\n",
       "</div>"
      ],
      "text/plain": [
       "           label=1   label=2   label=3\n",
       "pid                                   \n",
       "7729603   0.000924  0.008521  0.990556\n",
       "2186054   0.004871  0.017344  0.977785\n",
       "14685005  0.165319  0.693837  0.140843\n",
       "2123890   0.018488  0.016726  0.964785\n",
       "12786684  0.001944  0.019085  0.978971"
      ]
     },
     "execution_count": 41,
     "metadata": {},
     "output_type": "execute_result"
    }
   ],
   "source": [
    "# Convert the list of dictionaries to a dataframe so that it is easier to work with the data\n",
    "test_pred_results = pd.DataFrame(y_test_pred)\n",
    "test_pred_results.index = test_data.index\n",
    "test_pred_results.head()"
   ]
  },
  {
   "cell_type": "markdown",
   "metadata": {},
   "source": [
    "We are going to draw one calibration curve for each column in `test_pred_results`."
   ]
  },
  {
   "cell_type": "code",
   "execution_count": 42,
   "metadata": {},
   "outputs": [
    {
     "data": {
      "text/plain": [
       "(4930, 3)"
      ]
     },
     "execution_count": 42,
     "metadata": {},
     "output_type": "execute_result"
    }
   ],
   "source": [
    "test_pred = test_pred_results.values\n",
    "test_pred.shape"
   ]
  },
  {
   "cell_type": "code",
   "execution_count": 43,
   "metadata": {},
   "outputs": [],
   "source": [
    "calibration_data = []\n",
    "for i in range(test_pred.shape[1]):  # iterate over classes\n",
    "    calibration_data.append(calibration_curve(y_prob=test_pred[:, i], \n",
    "                                               y_true=test_targets[:, i], \n",
    "                                               n_bins=10, \n",
    "                                               normalize=True))"
   ]
  },
  {
   "cell_type": "code",
   "execution_count": 44,
   "metadata": {},
   "outputs": [
    {
     "data": {
      "text/plain": [
       "((array([0.00914547, 0.18709677, 0.23255814, 0.36111111, 0.36      ,\n",
       "         0.42372881, 0.48333333, 0.58064516, 0.67647059, 0.94522293]),\n",
       "  array([0.00717242, 0.14083494, 0.24453432, 0.35217909, 0.44485712,\n",
       "         0.54612449, 0.64692451, 0.75212612, 0.85412093, 0.98034926])),\n",
       " tuple)"
      ]
     },
     "execution_count": 44,
     "metadata": {},
     "output_type": "execute_result"
    }
   ],
   "source": [
    "calibration_data[0], type(calibration_data[0])"
   ]
  },
  {
   "cell_type": "markdown",
   "metadata": {},
   "source": [
    "Also calculate ECE for each class"
   ]
  },
  {
   "cell_type": "code",
   "execution_count": 45,
   "metadata": {},
   "outputs": [],
   "source": [
    "ece = []\n",
    "for i in range(test_pred.shape[1]):\n",
    "    fraction_of_positives, mean_predicted_value = calibration_data[i]\n",
    "    ece.append(expected_calibration_error(prediction_probabilities=test_pred[:, i], \n",
    "                                          accuracy=fraction_of_positives, \n",
    "                                          confidence=mean_predicted_value))"
   ]
  },
  {
   "cell_type": "code",
   "execution_count": 46,
   "metadata": {},
   "outputs": [
    {
     "data": {
      "text/plain": [
       "[0.018996185009140194, 0.0255678978791432, 0.021891380189733113]"
      ]
     },
     "execution_count": 46,
     "metadata": {},
     "output_type": "execute_result"
    }
   ],
   "source": [
    "ece"
   ]
  },
  {
   "cell_type": "markdown",
   "metadata": {},
   "source": [
    "Draw the reliability diagrams for each class"
   ]
  },
  {
   "cell_type": "code",
   "execution_count": 47,
   "metadata": {},
   "outputs": [
    {
     "name": "stdout",
     "output_type": "stream",
     "text": [
      "<class 'tuple'>\n",
      "[0.00914547 0.18709677 0.23255814 0.36111111 0.36       0.42372881\n",
      " 0.48333333 0.58064516 0.67647059 0.94522293] [0.00717242 0.14083494 0.24453432 0.35217909 0.44485712 0.54612449\n",
      " 0.64692451 0.75212612 0.85412093 0.98034926]\n"
     ]
    }
   ],
   "source": [
    "for i, data in enumerate(calibration_data):\n",
    "    print(type(data))\n",
    "    a, b = data\n",
    "    print(a, b)\n",
    "    break"
   ]
  },
  {
   "cell_type": "code",
   "execution_count": 48,
   "metadata": {},
   "outputs": [
    {
     "data": {
      "image/png": "[encoded data removed]",
      "text/plain": [
       "<Figure size 864x576 with 2 Axes>"
      ]
     },
     "metadata": {},
     "output_type": "display_data"
    }
   ],
   "source": [
    "plot_reliability_diagram(calibration_data, test_pred, ece=ece)"
   ]
  },
  {
   "cell_type": "markdown",
   "metadata": {},
   "source": [
    "## Temperature scaling calibration"
   ]
  },
  {
   "cell_type": "code",
   "execution_count": 49,
   "metadata": {},
   "outputs": [],
   "source": [
    "# this model gives the output before the final layer softmax activation.\n",
    "score_model = Model(inputs=x_inp, outputs=logits)"
   ]
  },
  {
   "cell_type": "markdown",
   "metadata": {},
   "source": [
    "Prepare the training data such that inputs are the model output logits and corresponding true class labels are the one-hot encoded.\n",
    "\n",
    "Training data is from the  validation set"
   ]
  },
  {
   "cell_type": "code",
   "execution_count": 50,
   "metadata": {},
   "outputs": [],
   "source": [
    "val_nodes = val_data.index\n",
    "val_mapper = generator.flow(val_nodes)"
   ]
  },
  {
   "cell_type": "code",
   "execution_count": 51,
   "metadata": {},
   "outputs": [
    {
     "name": "stdout",
     "output_type": "stream",
     "text": [
      "(5, 4930, 3)\n",
      "(5, 3697, 3)\n"
     ]
    }
   ],
   "source": [
    "test_score_predictions = predict(score_model, test_mapper, n_predictions=n_predictions)\n",
    "val_score_predictions = predict(score_model, val_mapper, n_predictions=n_predictions)"
   ]
  },
  {
   "cell_type": "code",
   "execution_count": 52,
   "metadata": {},
   "outputs": [
    {
     "data": {
      "text/plain": [
       "((4930, 3), (3697, 3))"
      ]
     },
     "execution_count": 52,
     "metadata": {},
     "output_type": "execute_result"
    }
   ],
   "source": [
    "test_score_predictions.shape, val_score_predictions.shape"
   ]
  },
  {
   "cell_type": "code",
   "execution_count": 53,
   "metadata": {},
   "outputs": [],
   "source": [
    "x_cal_train_all = val_score_predictions\n",
    "y_cal_train_all = val_targets"
   ]
  },
  {
   "cell_type": "markdown",
   "metadata": {},
   "source": [
    "We are going to split the above data to a training and validation set. We are going to use the latter for early stopping."
   ]
  },
  {
   "cell_type": "code",
   "execution_count": 54,
   "metadata": {},
   "outputs": [],
   "source": [
    "from sklearn.model_selection import train_test_split"
   ]
  },
  {
   "cell_type": "code",
   "execution_count": 55,
   "metadata": {},
   "outputs": [],
   "source": [
    "x_cal_train, x_cal_val, y_cal_train, y_cal_val = train_test_split(x_cal_train_all, y_cal_train_all)"
   ]
  },
  {
   "cell_type": "code",
   "execution_count": 56,
   "metadata": {},
   "outputs": [
    {
     "data": {
      "text/plain": [
       "((2772, 3), (925, 3), (2772, 3), (925, 3))"
      ]
     },
     "execution_count": 56,
     "metadata": {},
     "output_type": "execute_result"
    }
   ],
   "source": [
    "x_cal_train.shape, x_cal_val.shape, y_cal_train.shape, y_cal_val.shape"
   ]
  },
  {
   "cell_type": "code",
   "execution_count": 57,
   "metadata": {},
   "outputs": [
    {
     "data": {
      "text/plain": [
       "<stellargraph.core.calibration.TemperatureCalibration at 0x1a1be5aa58>"
      ]
     },
     "execution_count": 57,
     "metadata": {},
     "output_type": "execute_result"
    }
   ],
   "source": [
    "calibration_model_temperature = TemperatureCalibration(epochs=1000)\n",
    "calibration_model_temperature"
   ]
  },
  {
   "cell_type": "code",
   "execution_count": 58,
   "metadata": {},
   "outputs": [
    {
     "name": "stdout",
     "output_type": "stream",
     "text": [
      "Using Early Stopping based on performance evaluated on given validation set.\n"
     ]
    },
    {
     "data": {
      "text/plain": [
       "1.1774732"
      ]
     },
     "execution_count": 58,
     "metadata": {},
     "output_type": "execute_result"
    }
   ],
   "source": [
    "calibration_model_temperature.fit(x_train=x_cal_train, \n",
    "                                  y_train=y_cal_train, \n",
    "                                  x_val=x_cal_val, \n",
    "                                  y_val=y_cal_val)"
   ]
  },
  {
   "cell_type": "code",
   "execution_count": 59,
   "metadata": {},
   "outputs": [
    {
     "data": {
      "image/png": "[encoded data removed]",
      "text/plain": [
       "<Figure size 864x360 with 2 Axes>"
      ]
     },
     "metadata": {},
     "output_type": "display_data"
    }
   ],
   "source": [
    "calibration_model_temperature.plot_training_history()"
   ]
  },
  {
   "cell_type": "markdown",
   "metadata": {},
   "source": [
    "Now we can take the GraphSAGE logits, scale them by `temperature` and then apply the `softmax` to obtain the calibrated probabilities for each class.\n",
    "\n",
    "**Note** that scaling the logits by `temperature` does not change the predictions so the model's accuracy will not change and there is no need to recalculate them."
   ]
  },
  {
   "cell_type": "code",
   "execution_count": 60,
   "metadata": {},
   "outputs": [],
   "source": [
    "test_predictions_calibrated_temperature = calibration_model_temperature.transform(x=test_score_predictions)\n"
   ]
  },
  {
   "cell_type": "markdown",
   "metadata": {},
   "source": [
    "Now plot the calibration curves and calculate the ECE for each class"
   ]
  },
  {
   "cell_type": "code",
   "execution_count": 61,
   "metadata": {},
   "outputs": [],
   "source": [
    "calibration_data_after_temperature_scaling = []\n",
    "for i in range(test_predictions_calibrated_temperature.shape[1]):  # iterate over classes\n",
    "    calibration_data_after_temperature_scaling.append(calibration_curve(y_prob=test_predictions_calibrated_temperature[:, i], \n",
    "                                                             y_true=test_targets[:, i], \n",
    "                                                             n_bins=10, \n",
    "                                                             normalize=True))"
   ]
  },
  {
   "cell_type": "code",
   "execution_count": 62,
   "metadata": {},
   "outputs": [],
   "source": [
    "ece_after_scaling_temperature = []\n",
    "for i in range(test_predictions_calibrated_temperature.shape[1]):\n",
    "    fraction_of_positives, mean_predicted_value = calibration_data_after_temperature_scaling[i]\n",
    "    ece_after_scaling_temperature.append(expected_calibration_error(prediction_probabilities=test_predictions_calibrated_temperature[:, i], \n",
    "                                                        accuracy=fraction_of_positives, \n",
    "                                                        confidence=mean_predicted_value))"
   ]
  },
  {
   "cell_type": "code",
   "execution_count": 63,
   "metadata": {},
   "outputs": [
    {
     "data": {
      "text/plain": [
       "[0.015940617910650483, 0.01658560443957433, 0.012661978566098825]"
      ]
     },
     "execution_count": 63,
     "metadata": {},
     "output_type": "execute_result"
    }
   ],
   "source": [
    "ece_after_scaling_temperature"
   ]
  },
  {
   "cell_type": "code",
   "execution_count": 64,
   "metadata": {
    "scrolled": false
   },
   "outputs": [
    {
     "data": {
      "image/png": "[encoded data removed]",
      "text/plain": [
       "<Figure size 864x576 with 2 Axes>"
      ]
     },
     "metadata": {},
     "output_type": "display_data"
    }
   ],
   "source": [
    "plot_reliability_diagram(calibration_data_after_temperature_scaling, \n",
    "                    test_predictions_calibrated_temperature, \n",
    "                    ece=ece_after_scaling_temperature )"
   ]
  },
  {
   "cell_type": "markdown",
   "metadata": {},
   "source": [
    "## Isotonic Regression\n",
    "\n",
    "We extend Isotonic calibration to the multi-class case by calibrating OVR models, one for each class. At test time, we calibrate the predictions for each class and then normalize the vector to unit norm so that the output of the calibration is a probability distribution."
   ]
  },
  {
   "cell_type": "markdown",
   "metadata": {},
   "source": [
    "**Note** that Isotonic Calibration needs the classifier's probabilistic model outputs as input. "
   ]
  },
  {
   "cell_type": "code",
   "execution_count": 65,
   "metadata": {},
   "outputs": [
    {
     "data": {
      "text/plain": [
       "(4930, 3)"
      ]
     },
     "execution_count": 65,
     "metadata": {},
     "output_type": "execute_result"
    }
   ],
   "source": [
    "test_pred.shape # Holds the probabilistic predictions for each query point"
   ]
  },
  {
   "cell_type": "code",
   "execution_count": 66,
   "metadata": {},
   "outputs": [
    {
     "name": "stdout",
     "output_type": "stream",
     "text": [
      "(5, 3697, 3)\n"
     ]
    },
    {
     "data": {
      "text/plain": [
       "(3697, 3)"
      ]
     },
     "execution_count": 66,
     "metadata": {},
     "output_type": "execute_result"
    }
   ],
   "source": [
    "# The probabilistic prediction for the validation set\n",
    "val_predictions = predict(model, val_mapper, n_predictions=n_predictions)\n",
    "val_predictions.shape"
   ]
  },
  {
   "cell_type": "code",
   "execution_count": 67,
   "metadata": {},
   "outputs": [],
   "source": [
    "isotonic_calib = IsotonicCalibration()"
   ]
  },
  {
   "cell_type": "code",
   "execution_count": 68,
   "metadata": {},
   "outputs": [],
   "source": [
    "isotonic_calib.fit(x_train=val_predictions, y_train=val_targets)"
   ]
  },
  {
   "cell_type": "code",
   "execution_count": 69,
   "metadata": {},
   "outputs": [
    {
     "data": {
      "text/plain": [
       "(4930, 3)"
      ]
     },
     "execution_count": 69,
     "metadata": {},
     "output_type": "execute_result"
    }
   ],
   "source": [
    "test_pred_calibrated_isotonic = isotonic_calib.transform(test_pred)\n",
    "test_pred_calibrated_isotonic.shape"
   ]
  },
  {
   "cell_type": "markdown",
   "metadata": {},
   "source": [
    "Calculate ECE after calibration and plot the reliability diagram"
   ]
  },
  {
   "cell_type": "code",
   "execution_count": 70,
   "metadata": {},
   "outputs": [],
   "source": [
    "calibration_data_after_isotonic_scaling = []\n",
    "for i in range(test_pred_calibrated_isotonic.shape[1]):  # iterate over classes\n",
    "    calibration_data_after_isotonic_scaling.append(calibration_curve(y_prob=test_pred_calibrated_isotonic[:, i], \n",
    "                                                                      y_true=test_targets[:, i], \n",
    "                                                                      n_bins=10, \n",
    "                                                                      normalize=True))"
   ]
  },
  {
   "cell_type": "code",
   "execution_count": 71,
   "metadata": {},
   "outputs": [],
   "source": [
    "ece_after_scaling_isotonic = []\n",
    "for i in range(test_pred_calibrated_isotonic.shape[1]):\n",
    "    fraction_of_positives, mean_predicted_value = calibration_data_after_isotonic_scaling[i]\n",
    "    ece_after_scaling_isotonic.append(expected_calibration_error(prediction_probabilities=test_pred_calibrated_isotonic[:, i], \n",
    "                                                                 accuracy=fraction_of_positives, \n",
    "                                                                 confidence=mean_predicted_value))"
   ]
  },
  {
   "cell_type": "code",
   "execution_count": 72,
   "metadata": {},
   "outputs": [
    {
     "data": {
      "text/plain": [
       "[0.009605014588653454, 0.01019358213005807, 0.007727774458337264]"
      ]
     },
     "execution_count": 72,
     "metadata": {},
     "output_type": "execute_result"
    }
   ],
   "source": [
    "ece_after_scaling_isotonic"
   ]
  },
  {
   "cell_type": "code",
   "execution_count": 73,
   "metadata": {},
   "outputs": [
    {
     "data": {
      "image/png": "[encoded data removed]",
      "text/plain": [
       "<Figure size 864x576 with 2 Axes>"
      ]
     },
     "metadata": {},
     "output_type": "display_data"
    }
   ],
   "source": [
    "plot_reliability_diagram(calibration_data_after_isotonic_scaling,\n",
    "                    test_pred_calibrated_isotonic, \n",
    "                    ece=ece_after_scaling_isotonic)"
   ]
  },
  {
   "cell_type": "markdown",
   "metadata": {},
   "source": [
    "### Let's print the ECE before calibration and after Temperature Scaling and Isotonic Regression to summarize our results."
   ]
  },
  {
   "cell_type": "code",
   "execution_count": 74,
   "metadata": {},
   "outputs": [
    {
     "name": "stdout",
     "output_type": "stream",
     "text": [
      "ECE before calibration:          0.0190, 0.0256, 0.0219\n",
      "ECE after Temperature Scaling:   0.0159, 0.0166, 0.0127\n",
      "ECE after Isotonic Calibration:  0.0096, 0.0102, 0.0077\n"
     ]
    }
   ],
   "source": [
    "cal_error = \",\".join(format(e, \" 0.4f\") for e in ece)\n",
    "print(\"ECE before calibration:         {}\".format(cal_error))\n",
    "cal_error = \",\".join(format(e, \" 0.4f\") for e in ece_after_scaling_temperature)\n",
    "print(\"ECE after Temperature Scaling:  {}\".format(cal_error))\n",
    "cal_error = \",\".join(format(e, \" 0.4f\") for e in ece_after_scaling_isotonic)\n",
    "print(\"ECE after Isotonic Calibration: {}\".format(cal_error) )"
   ]
  },
  {
   "cell_type": "markdown",
   "metadata": {},
   "source": [
    "### Recalculate classifier accuracy before and after calibration"
   ]
  },
  {
   "cell_type": "code",
   "execution_count": 75,
   "metadata": {},
   "outputs": [],
   "source": [
    "y_pred = np.argmax(test_pred, axis=1)\n",
    "y_pred_calibrated_temperature = np.argmax(test_predictions_calibrated_temperature, axis=1)\n",
    "y_pred_calibrated_isotonic = np.argmax(test_pred_calibrated_isotonic, axis=1)"
   ]
  },
  {
   "cell_type": "code",
   "execution_count": 76,
   "metadata": {},
   "outputs": [
    {
     "name": "stdout",
     "output_type": "stream",
     "text": [
      "Accurace before calibration:         0.88\n",
      "Accurace after Temperature Scaling:  0.88\n",
      "Accurace after Isotonic Calibration: 0.88\n"
     ]
    }
   ],
   "source": [
    "print(\"Accurace before calibration:         {:.2f}\".format(accuracy_score(y_pred=y_pred, \n",
    "                                                                          y_true=np.argmax(test_targets, axis=1))))\n",
    "print(\"Accurace after Temperature Scaling:  {:.2f}\".format(accuracy_score(y_pred=y_pred_calibrated_temperature, \n",
    "                                                                          y_true=np.argmax(test_targets, axis=1))))\n",
    "print(\"Accurace after Isotonic Calibration: {:.2f}\".format(accuracy_score(y_pred=y_pred_calibrated_isotonic, \n",
    "                                                                          y_true=np.argmax(test_targets, axis=1))))\n"
   ]
  },
  {
   "cell_type": "markdown",
   "metadata": {},
   "source": [
    "## Conclusion\n",
    "\n",
    "This notebook demonstrated how to use temperature scaling and isotonic regression to calibrate the output probabilities of a GraphSAGE model used for multi-class node attribute inference."
   ]
  }
 ],
 "metadata": {
  "kernelspec": {
   "display_name": "Python (link-prediction)",
   "language": "python",
   "name": "link-prediction"
  },
  "language_info": {
   "codemirror_mode": {
    "name": "ipython",
    "version": 3
   },
   "file_extension": ".py",
   "mimetype": "text/x-python",
   "name": "python",
   "nbconvert_exporter": "python",
   "pygments_lexer": "ipython3",
   "version": "3.6.7"
  }
 },
 "nbformat": 4,
 "nbformat_minor": 2
}
