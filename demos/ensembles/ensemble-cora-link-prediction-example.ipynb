{
 "cells": [
  {
   "cell_type": "markdown",
   "metadata": {},
   "source": [
    "# Link prediction example: GraphSAGE on the Cora citation dataset"
   ]
  },
  {
   "cell_type": "markdown",
   "metadata": {},
   "source": [
    "In this example, we use an Ensemble of [GraphSAGE](http://snap.stanford.edu/graphsage/) models to predict citation links in the Cora dataset (see below). The problem is treated as a supervised link prediction problem on a homogeneous citation network with nodes representing papers (with attributes such as binary keyword indicators and categorical subject) and links corresponding to paper-paper citations. \n",
    "\n",
    "To address this problem, we build a a base `GraphSAGE` model with the following architecture. First we build a two-layer GraphSAGE model that takes labeled `(paper1, paper2)` node pairs corresponding to possible citation links, and outputs a pair of node embeddings for the `paper1` and `paper2` nodes of the pair. These embeddings are then fed into a link classification layer, which first applies a binary operator to those node embeddings (e.g., concatenating them) to construct the embedding of the potential link. Thus obtained link embeddings are passed through the dense link classification layer to obtain link predictions - probability for these candidate links to actually exist in the network. The entire model is trained end-to-end by minimizing the loss function of choice (e.g., binary cross-entropy between predicted link probabilities and true link labels, with true/false citation links having labels 1/0) using stochastic gradient descent (SGD) updates of the model parameters, with minibatches of 'training' links fed into the model.\n",
    "\n",
    "Finally, using our base model, we create an ensemble with each model in the ensemble trained on a bootstrapped sample of the training data. Using the ensemble we can make probabilistic predictions about the existence of links between nodes."
   ]
  },
  {
   "cell_type": "code",
   "execution_count": 1,
   "metadata": {},
   "outputs": [
    {
     "name": "stderr",
     "output_type": "stream",
     "text": [
      "Using TensorFlow backend.\n",
      "/Users/eli024/anaconda3/envs/link-prediction/lib/python3.6/importlib/_bootstrap.py:219: ImportWarning: can't resolve package from __spec__ or __package__, falling back on __name__ and __path__\n",
      "  return f(*args, **kwds)\n"
     ]
    }
   ],
   "source": [
    "import matplotlib.pyplot as plt\n",
    "import networkx as nx\n",
    "import pandas as pd\n",
    "import numpy as np\n",
    "import keras \n",
    "import os\n",
    "\n",
    "import stellargraph as sg\n",
    "from stellargraph.data import EdgeSplitter\n",
    "from stellargraph.mapper import GraphSAGELinkGenerator\n",
    "from stellargraph.layer import GraphSAGE, link_classification\n",
    "from stellargraph import Ensemble\n",
    "\n",
    "from sklearn import preprocessing, feature_extraction, model_selection\n",
    "\n",
    "from stellargraph import globalvar\n",
    "\n",
    "%matplotlib inline"
   ]
  },
  {
   "cell_type": "code",
   "execution_count": 2,
   "metadata": {},
   "outputs": [],
   "source": [
    "def plot_history(history):\n",
    "    plt.figure(figsize=(12, 10))\n",
    "    \n",
    "    for h in history:    \n",
    "        plot_index = 0\n",
    "        metrics = sorted(h.history.keys())\n",
    "        \n",
    "        for i in range(0,len(metrics),2):\n",
    "            # summarize history for metric m\n",
    "            plt.subplot(len(metrics)//2, 1, plot_index+1)\n",
    "         \n",
    "            c_train = 'b'\n",
    "            c_test = 'g'\n",
    "\n",
    "            if metrics[i][0:3] == 'val':\n",
    "                plt.plot(h.history[metrics[i+1]], c=c_train)\n",
    "                plt.plot(h.history[metrics[i]], c=c_test)\n",
    "            else:\n",
    "                plt.plot(h.history[metrics[i]], c=c_train)\n",
    "                plt.plot(h.history[metrics[i+1]], c=c_test)\n",
    "            if plot_index <= 1 :\n",
    "                if metrics[i][0:3] == 'val':\n",
    "                    plt.title(metrics[i+1])\n",
    "                else:\n",
    "                    plt.title(metrics[i])\n",
    "                plt.ylabel(metrics[i])\n",
    "                plt.xlabel('epoch')\n",
    "                plt.legend(['train', 'test'], loc='upper right')\n",
    "            plot_index = plot_index + 1"
   ]
  },
  {
   "cell_type": "code",
   "execution_count": 3,
   "metadata": {},
   "outputs": [],
   "source": [
    "def load_cora(data_dir, largest_cc=False):\n",
    "    g_nx = nx.read_edgelist(path=os.path.expanduser(os.path.join(data_dir, \"cora.cites\")))\n",
    "\n",
    "    # load the node attribute data\n",
    "    cora_data_location = os.path.expanduser(os.path.join(data_dir, \"cora.content\"))\n",
    "    node_attr = pd.read_csv(cora_data_location, sep='\\t', header=None)\n",
    "    values = { str(row.tolist()[0]): row.tolist()[-1] for _, row in node_attr.iterrows()}\n",
    "    nx.set_node_attributes(g_nx, values, 'subject')\n",
    "\n",
    "    if largest_cc:\n",
    "        # Select the largest connected component. For clarity we ignore isolated\n",
    "        # nodes and subgraphs; having these in the data does not prevent the\n",
    "        # algorithm from running and producing valid results.\n",
    "        g_nx_ccs = (g_nx.subgraph(c).copy() for c in nx.connected_components(g_nx))\n",
    "        g_nx = max(g_nx_ccs, key=len)\n",
    "        print(\"Largest subgraph statistics: {} nodes, {} edges\".format(\n",
    "            g_nx.number_of_nodes(), g_nx.number_of_edges()))\n",
    "    \n",
    "    feature_names = [\"w_{}\".format(ii) for ii in range(1433)]\n",
    "    column_names =  feature_names + [\"subject\"]\n",
    "    node_data = pd.read_table(os.path.join(data_dir, \"cora.content\"), header=None, names=column_names)\n",
    "    \n",
    "    node_data.index = node_data.index.map(str)\n",
    "    node_data = node_data[node_data.index.isin(list(g_nx.nodes()))]\n",
    "\n",
    "    return g_nx, node_data, feature_names"
   ]
  },
  {
   "cell_type": "markdown",
   "metadata": {},
   "source": [
    "### Loading the CORA network data"
   ]
  },
  {
   "cell_type": "markdown",
   "metadata": {},
   "source": [
    "**Downloading the CORA dataset:**\n",
    "    \n",
    "The dataset used in this demo can be downloaded from https://linqs-data.soe.ucsc.edu/public/lbc/cora.tgz\n",
    "\n",
    "The following is the description of the dataset:\n",
    "> The Cora dataset consists of 2708 scientific publications classified into one of seven classes.\n",
    "> The citation network consists of 5429 links. Each publication in the dataset is described by a\n",
    "> 0/1-valued word vector indicating the absence/presence of the corresponding word from the dictionary.\n",
    "> The dictionary consists of 1433 unique words. The README file in the dataset provides more details.\n",
    "\n",
    "Download and unzip the cora.tgz file to a location on your computer and set the `data_dir` variable to\n",
    "point to the location of the dataset (the directory containing \"cora.cites\" and \"cora.content\")."
   ]
  },
  {
   "cell_type": "code",
   "execution_count": 4,
   "metadata": {},
   "outputs": [],
   "source": [
    "data_dir = os.path.expanduser(\"~/data/cora\")"
   ]
  },
  {
   "cell_type": "markdown",
   "metadata": {},
   "source": [
    "Load the dataset"
   ]
  },
  {
   "cell_type": "code",
   "execution_count": 5,
   "metadata": {},
   "outputs": [],
   "source": [
    "G, node_data, feature_names = load_cora(data_dir)"
   ]
  },
  {
   "cell_type": "markdown",
   "metadata": {},
   "source": [
    "We need to convert node features that will be used by the model to numeric values that are required for GraphSAGE input. Note that all node features in the Cora dataset, except the categorical \"subject\" feature, are already numeric, and don't require the conversion."
   ]
  },
  {
   "cell_type": "code",
   "execution_count": 6,
   "metadata": {},
   "outputs": [],
   "source": [
    "if \"subject\" in feature_names:\n",
    "    # Convert node features to numeric vectors\n",
    "    feature_encoding = feature_extraction.DictVectorizer(sparse=False)\n",
    "    node_features = feature_encoding.fit_transform(\n",
    "        node_data[feature_names].to_dict(\"records\")\n",
    "    )\n",
    "else:  # node features are already numeric, no further conversion is needed\n",
    "    node_features = node_data[feature_names].values"
   ]
  },
  {
   "cell_type": "markdown",
   "metadata": {},
   "source": [
    "Add node data to G:"
   ]
  },
  {
   "cell_type": "code",
   "execution_count": 7,
   "metadata": {},
   "outputs": [],
   "source": [
    "for nid, f in zip(node_data.index, node_features):\n",
    "    G.node[nid][globalvar.TYPE_ATTR_NAME] = \"paper\"  # specify node type\n",
    "    G.node[nid][\"feature\"] = f"
   ]
  },
  {
   "cell_type": "markdown",
   "metadata": {},
   "source": [
    "We aim to train a link prediction model, hence we need to prepare the train and test sets of links and the corresponding graphs with those links removed.\n",
    "\n",
    "We are going to split our input graph into a train and test graphs using the EdgeSplitter class in `stellargraph.data`. We will use the train graph for training the model (a binary classifier that, given two nodes, predicts whether a link between these two nodes should exist or not) and the test graph for evaluating the model's performance on hold out data.\n",
    "Each of these graphs will have the same number of nodes as the input graph, but the number of links will differ (be reduced) as some of the links will be removed during each split and used as the positive samples for training/testing the link prediction classifier."
   ]
  },
  {
   "cell_type": "markdown",
   "metadata": {},
   "source": [
    "From the original graph G, extract a randomly sampled subset of test edges (true and false citation links) and the reduced graph G_test with the positive test edges removed:"
   ]
  },
  {
   "cell_type": "code",
   "execution_count": 8,
   "metadata": {},
   "outputs": [
    {
     "name": "stdout",
     "output_type": "stream",
     "text": [
      "** Sampled 527 positive and 527 negative edges. **\n"
     ]
    }
   ],
   "source": [
    "# Define an edge splitter on the original graph G:\n",
    "edge_splitter_test = EdgeSplitter(G)\n",
    "\n",
    "# Randomly sample a fraction p=0.1 of all positive links, and same number of negative links, from G, and obtain the\n",
    "# reduced graph G_test with the sampled links removed:\n",
    "G_test, edge_ids_test, edge_labels_test = edge_splitter_test.train_test_split(\n",
    "    p=0.1, method=\"global\", keep_connected=True\n",
    ")"
   ]
  },
  {
   "cell_type": "markdown",
   "metadata": {},
   "source": [
    "The reduced graph G_test, together with the test ground truth set of links (edge_ids_test, edge_labels_test), will be used for testing the model.\n",
    "\n",
    "Now repeat this procedure to obtain the training data for the model. From the reduced graph G_test, extract a randomly sampled subset of train edges (true and false citation links) and the reduced graph G_train with the positive train edges removed:"
   ]
  },
  {
   "cell_type": "code",
   "execution_count": 9,
   "metadata": {},
   "outputs": [
    {
     "name": "stdout",
     "output_type": "stream",
     "text": [
      "** Sampled 475 positive and 475 negative edges. **\n"
     ]
    }
   ],
   "source": [
    "# Define an edge splitter on the reduced graph G_test:\n",
    "edge_splitter_train = EdgeSplitter(G_test)\n",
    "\n",
    "# Randomly sample a fraction p=0.1 of all positive links, and same number of negative links, from G_test, and obtain the\n",
    "# reduced graph G_train with the sampled links removed:\n",
    "G_train, edge_ids_train, edge_labels_train = edge_splitter_train.train_test_split(\n",
    "    p=0.1, method=\"global\", keep_connected=True\n",
    ")"
   ]
  },
  {
   "cell_type": "markdown",
   "metadata": {},
   "source": [
    "G_train, together with the train ground truth set of links (edge_ids_train, edge_labels_train), will be used for training the model."
   ]
  },
  {
   "cell_type": "markdown",
   "metadata": {},
   "source": [
    "Convert G_train and G_test to StellarGraph objects (undirected, as required by GraphSAGE) for ML:"
   ]
  },
  {
   "cell_type": "code",
   "execution_count": 10,
   "metadata": {},
   "outputs": [],
   "source": [
    "G_train = sg.StellarGraph(G_train, node_features=\"feature\")\n",
    "G_test = sg.StellarGraph(G_test, node_features=\"feature\")"
   ]
  },
  {
   "cell_type": "markdown",
   "metadata": {},
   "source": [
    "Summary of G_train and G_test - note that they have the same set of nodes, only differing in their edge sets:"
   ]
  },
  {
   "cell_type": "code",
   "execution_count": 11,
   "metadata": {},
   "outputs": [
    {
     "name": "stdout",
     "output_type": "stream",
     "text": [
      "StellarGraph: Undirected multigraph\n",
      " Nodes: 2708, Edges: 4276\n",
      "\n",
      " Node types:\n",
      "  paper: [2708]\n",
      "        Attributes: {'feature', 'subject'}\n",
      "    Edge types: paper-default->paper\n",
      "\n",
      " Edge types:\n",
      "    paper-default->paper: [4276]\n",
      "\n"
     ]
    }
   ],
   "source": [
    "print(G_train.info())"
   ]
  },
  {
   "cell_type": "code",
   "execution_count": 12,
   "metadata": {},
   "outputs": [
    {
     "name": "stdout",
     "output_type": "stream",
     "text": [
      "StellarGraph: Undirected multigraph\n",
      " Nodes: 2708, Edges: 4751\n",
      "\n",
      " Node types:\n",
      "  paper: [2708]\n",
      "        Attributes: {'feature', 'subject'}\n",
      "    Edge types: paper-default->paper\n",
      "\n",
      " Edge types:\n",
      "    paper-default->paper: [4751]\n",
      "\n"
     ]
    }
   ],
   "source": [
    "print(G_test.info())"
   ]
  },
  {
   "cell_type": "markdown",
   "metadata": {},
   "source": [
    "### Specify global parameters\n",
    "\n",
    "Here we specify some parameters that control the type of model we are going to use. For example, we specify the number of models in the ensemble and the number of predictions per query point per model."
   ]
  },
  {
   "cell_type": "code",
   "execution_count": 13,
   "metadata": {},
   "outputs": [],
   "source": [
    "n_estimators = 3\n",
    "n_predictions = 5"
   ]
  },
  {
   "cell_type": "markdown",
   "metadata": {},
   "source": [
    "Next, we create the link mappers for sampling and streaming training and testing data to the model. The link mappers essentially \"map\" pairs of nodes `(paper1, paper2)` to the input of GraphSAGE: they take minibatches of node pairs, sample 2-hop subgraphs with `(paper1, paper2)` head nodes extracted from those pairs, and feed them, together with the corresponding binary labels indicating whether those pairs represent true or false citation links, to the input layer of the GraphSAGE model, for SGD updates of the model parameters.\n",
    "\n",
    "Specify the minibatch size (number of node pairs per minibatch) and the number of epochs for training the model:"
   ]
  },
  {
   "cell_type": "code",
   "execution_count": 14,
   "metadata": {},
   "outputs": [],
   "source": [
    "batch_size = 20\n",
    "epochs = 20"
   ]
  },
  {
   "cell_type": "markdown",
   "metadata": {},
   "source": [
    "Specify the sizes of 1- and 2-hop neighbour samples for GraphSAGE. Note that the length of `num_samples` list defines the number of layers/iterations in the GraphSAGE model. In this example, we are defining a 2-layer GraphSAGE model:"
   ]
  },
  {
   "cell_type": "code",
   "execution_count": 15,
   "metadata": {},
   "outputs": [],
   "source": [
    "num_samples = [20, 10]"
   ]
  },
  {
   "cell_type": "markdown",
   "metadata": {},
   "source": [
    "### Create the generators for training"
   ]
  },
  {
   "cell_type": "markdown",
   "metadata": {},
   "source": [
    "For training we create a generator on the `G_train` graph. The `shuffle=True` argument is given to the `flow` method to improve training."
   ]
  },
  {
   "cell_type": "code",
   "execution_count": 16,
   "metadata": {},
   "outputs": [],
   "source": [
    "generator = GraphSAGELinkGenerator(G_train, batch_size, num_samples) "
   ]
  },
  {
   "cell_type": "code",
   "execution_count": 17,
   "metadata": {},
   "outputs": [],
   "source": [
    "train_gen = generator.flow(edge_ids_train, \n",
    "                           edge_labels_train, \n",
    "                           shuffle=True)"
   ]
  },
  {
   "cell_type": "markdown",
   "metadata": {},
   "source": [
    "At test time we use the `G_test` graph and don't specify the `shuffle` argument (it defaults to `False`)."
   ]
  },
  {
   "cell_type": "code",
   "execution_count": 18,
   "metadata": {},
   "outputs": [],
   "source": [
    "test_gen = GraphSAGELinkGenerator(G_test,  batch_size, num_samples).flow(edge_ids_test, \n",
    "                                                                         edge_labels_test)"
   ]
  },
  {
   "cell_type": "markdown",
   "metadata": {},
   "source": [
    "### Create the base GraphSAGE model"
   ]
  },
  {
   "cell_type": "markdown",
   "metadata": {},
   "source": [
    "Build the model: a 2-layer GraphSAGE model acting as node representation learner, with a link classification layer on concatenated `(paper1, paper2)` node embeddings.\n",
    "\n",
    "GraphSAGE part of the model, with hidden layer sizes of 50 for both GraphSAGE layers, a bias term, and no dropout. (Dropout can be switched on by specifying a positive dropout rate, 0 < dropout < 1)\n",
    "Note that the length of layer_sizes list must be equal to the length of num_samples, as len(num_samples) defines the number of hops (layers) in the GraphSAGE model."
   ]
  },
  {
   "cell_type": "code",
   "execution_count": 19,
   "metadata": {},
   "outputs": [],
   "source": [
    "layer_sizes = [20, 20]\n",
    "assert len(layer_sizes) == len(num_samples)\n",
    "\n",
    "graphsage = GraphSAGE(\n",
    "        layer_sizes=layer_sizes, generator=train_gen, bias=True, dropout=0.3\n",
    "    )"
   ]
  },
  {
   "cell_type": "code",
   "execution_count": 20,
   "metadata": {},
   "outputs": [],
   "source": [
    "# Expose input and output sockets of graphsage, for source and destination nodes:\n",
    "x_inp_src, x_out_src = graphsage.default_model(flatten_output=False)\n",
    "x_inp_dst, x_out_dst = graphsage.default_model(flatten_output=False)\n",
    "# re-pack into a list where (source, destination) inputs alternate, for link inputs:\n",
    "x_inp = [x for ab in zip(x_inp_src, x_inp_dst) for x in ab]\n",
    "# same for outputs:\n",
    "x_out = [x_out_src, x_out_dst]"
   ]
  },
  {
   "cell_type": "markdown",
   "metadata": {},
   "source": [
    "Final link classification layer that takes a pair of node embeddings produced by graphsage, applies a binary operator to them to produce the corresponding link embedding ('ip' for inner product; other options for the binary operator can be seen by running a cell with `?link_classification` in it), and passes it through a dense layer:"
   ]
  },
  {
   "cell_type": "code",
   "execution_count": 21,
   "metadata": {},
   "outputs": [
    {
     "name": "stdout",
     "output_type": "stream",
     "text": [
      "link_classification: using 'ip' method to combine node embeddings into edge embeddings\n"
     ]
    }
   ],
   "source": [
    "prediction = link_classification(\n",
    "        output_dim=1, output_act=\"relu\", edge_embedding_method='ip'\n",
    "    )(x_out)"
   ]
  },
  {
   "cell_type": "markdown",
   "metadata": {},
   "source": [
    "Stack the GraphSAGE and prediction layers into a Keras model, and specify the loss"
   ]
  },
  {
   "cell_type": "code",
   "execution_count": 22,
   "metadata": {},
   "outputs": [],
   "source": [
    "base_model = keras.Model(inputs=x_inp, outputs=prediction)"
   ]
  },
  {
   "cell_type": "markdown",
   "metadata": {},
   "source": [
    "Now we create the ensemble based on `base_model`."
   ]
  },
  {
   "cell_type": "code",
   "execution_count": 23,
   "metadata": {},
   "outputs": [],
   "source": [
    "model = Ensemble(model=base_model, n_estimators=n_estimators, n_predictions=n_predictions)"
   ]
  },
  {
   "cell_type": "code",
   "execution_count": 24,
   "metadata": {},
   "outputs": [],
   "source": [
    "model.compile(\n",
    "    optimizer=keras.optimizers.Adam(lr=1e-3),\n",
    "    loss=keras.losses.binary_crossentropy,\n",
    "    metrics=[\"acc\"],\n",
    ")"
   ]
  },
  {
   "cell_type": "markdown",
   "metadata": {},
   "source": [
    "Evaluate the initial (untrained) model on the train and test set:"
   ]
  },
  {
   "cell_type": "code",
   "execution_count": 25,
   "metadata": {},
   "outputs": [
    {
     "name": "stdout",
     "output_type": "stream",
     "text": [
      "\n",
      "Train Set Metrics of the initial (untrained) model:\n",
      "\tloss: 0.7066±0.0528\n",
      "\tacc: 0.6335±0.0132\n",
      "\n",
      "Test Set Metrics of the initial (untrained) model:\n",
      "\tloss: 0.7667±0.0301\n",
      "\tacc: 0.6066±0.0132\n"
     ]
    }
   ],
   "source": [
    "init_train_metrics_mean, init_train_metrics_std = model.evaluate_generator(train_gen)\n",
    "init_test_metrics_mean, init_test_metrics_std = model.evaluate_generator(test_gen)\n",
    "\n",
    "print(\"\\nTrain Set Metrics of the initial (untrained) model:\")\n",
    "for name, m, s in zip(model.metrics_names, init_train_metrics_mean, init_train_metrics_std):\n",
    "    print(\"\\t{}: {:0.4f}±{:0.4f}\".format(name, m, s))\n",
    "\n",
    "print(\"\\nTest Set Metrics of the initial (untrained) model:\")\n",
    "for name, m, s in zip(model.metrics_names, init_test_metrics_mean, init_test_metrics_std):\n",
    "    print(\"\\t{}: {:0.4f}±{:0.4f}\".format(name, m, s))"
   ]
  },
  {
   "cell_type": "markdown",
   "metadata": {},
   "source": [
    "### Train the ensemble model\n",
    "\n",
    "We are going to use bootstrap samples of the training dataset to train each model in the ensemble. For this purpose, we need to pass `generator`, `edge_ids_train`, and `edge_labels_train` to the `fit_generator` method."
   ]
  },
  {
   "cell_type": "code",
   "execution_count": 26,
   "metadata": {},
   "outputs": [
    {
     "name": "stdout",
     "output_type": "stream",
     "text": [
      "*** Train with Bagging ***\n",
      "Unique train data 974 and targets 2\n",
      "Epoch 1/20\n",
      "48/48 [==============================] - 10s 213ms/step - loss: 0.6783 - acc: 0.6531 - val_loss: 0.6337 - val_acc: 0.6157\n",
      "Epoch 2/20\n",
      "48/48 [==============================] - 9s 182ms/step - loss: 0.4670 - acc: 0.8260 - val_loss: 0.5534 - val_acc: 0.7002\n",
      "Epoch 3/20\n",
      "48/48 [==============================] - 9s 185ms/step - loss: 0.3528 - acc: 0.8781 - val_loss: 0.5201 - val_acc: 0.7448\n",
      "Epoch 4/20\n",
      "48/48 [==============================] - 9s 181ms/step - loss: 0.3033 - acc: 0.9083 - val_loss: 0.4971 - val_acc: 0.7666\n",
      "Epoch 5/20\n",
      "48/48 [==============================] - 9s 180ms/step - loss: 0.2662 - acc: 0.9375 - val_loss: 0.4814 - val_acc: 0.7685\n",
      "Epoch 6/20\n",
      "48/48 [==============================] - 9s 184ms/step - loss: 0.2114 - acc: 0.9625 - val_loss: 0.4687 - val_acc: 0.7694\n",
      "Epoch 7/20\n",
      "48/48 [==============================] - 9s 188ms/step - loss: 0.1907 - acc: 0.9687 - val_loss: 0.4711 - val_acc: 0.7846\n",
      "Epoch 8/20\n",
      "48/48 [==============================] - 9s 184ms/step - loss: 0.1625 - acc: 0.9771 - val_loss: 0.4940 - val_acc: 0.7941\n",
      "Epoch 9/20\n",
      "48/48 [==============================] - 9s 182ms/step - loss: 0.1478 - acc: 0.9896 - val_loss: 0.5131 - val_acc: 0.7922\n",
      "Epoch 10/20\n",
      "48/48 [==============================] - 9s 189ms/step - loss: 0.1372 - acc: 0.9844 - val_loss: 0.5074 - val_acc: 0.7903\n",
      "Epoch 11/20\n",
      "48/48 [==============================] - 9s 184ms/step - loss: 0.1196 - acc: 0.9937 - val_loss: 0.5093 - val_acc: 0.7913\n",
      "Epoch 12/20\n",
      "48/48 [==============================] - 9s 187ms/step - loss: 0.1113 - acc: 0.9896 - val_loss: 0.5529 - val_acc: 0.7951\n",
      "Epoch 13/20\n",
      "48/48 [==============================] - 9s 193ms/step - loss: 0.1039 - acc: 0.9958 - val_loss: 0.5336 - val_acc: 0.7856\n",
      "Epoch 14/20\n",
      "48/48 [==============================] - 9s 183ms/step - loss: 0.0930 - acc: 0.9948 - val_loss: 0.5261 - val_acc: 0.7884\n",
      "Epoch 15/20\n",
      "48/48 [==============================] - 9s 182ms/step - loss: 0.0880 - acc: 0.9948 - val_loss: 0.5256 - val_acc: 0.7922\n",
      "Epoch 16/20\n",
      "48/48 [==============================] - 9s 191ms/step - loss: 0.0811 - acc: 0.9927 - val_loss: 0.5753 - val_acc: 0.7808\n",
      "Epoch 17/20\n",
      "48/48 [==============================] - 9s 187ms/step - loss: 0.0709 - acc: 0.9948 - val_loss: 0.5348 - val_acc: 0.7732\n",
      "Epoch 18/20\n",
      "48/48 [==============================] - 8s 176ms/step - loss: 0.0694 - acc: 0.9958 - val_loss: 0.5718 - val_acc: 0.7789\n",
      "Epoch 19/20\n",
      "48/48 [==============================] - 8s 176ms/step - loss: 0.0627 - acc: 0.9969 - val_loss: 0.5795 - val_acc: 0.7894\n",
      "Epoch 20/20\n",
      "48/48 [==============================] - 9s 178ms/step - loss: 0.0588 - acc: 0.9958 - val_loss: 0.6062 - val_acc: 0.7865\n",
      "Unique train data 967 and targets 2\n",
      "Epoch 1/20\n",
      "48/48 [==============================] - 10s 199ms/step - loss: 0.6239 - acc: 0.6990 - val_loss: 0.5770 - val_acc: 0.7144\n",
      "Epoch 2/20\n",
      "48/48 [==============================] - 9s 185ms/step - loss: 0.2915 - acc: 0.9021 - val_loss: 0.5758 - val_acc: 0.7144\n",
      "Epoch 3/20\n",
      "48/48 [==============================] - 9s 194ms/step - loss: 0.2083 - acc: 0.9604 - val_loss: 0.5469 - val_acc: 0.7562\n",
      "Epoch 4/20\n",
      "48/48 [==============================] - 12s 243ms/step - loss: 0.1685 - acc: 0.9719 - val_loss: 0.5802 - val_acc: 0.7448\n",
      "Epoch 5/20\n",
      "48/48 [==============================] - 11s 226ms/step - loss: 0.1408 - acc: 0.9854 - val_loss: 0.5521 - val_acc: 0.7552\n",
      "Epoch 6/20\n",
      "48/48 [==============================] - 9s 188ms/step - loss: 0.1267 - acc: 0.9906 - val_loss: 0.5486 - val_acc: 0.7533\n",
      "Epoch 7/20\n",
      "48/48 [==============================] - 8s 177ms/step - loss: 0.1099 - acc: 0.9906 - val_loss: 0.6490 - val_acc: 0.7609\n",
      "Epoch 8/20\n",
      "48/48 [==============================] - 9s 182ms/step - loss: 0.0950 - acc: 0.9948 - val_loss: 0.6237 - val_acc: 0.7543\n",
      "Epoch 9/20\n",
      "48/48 [==============================] - 12s 248ms/step - loss: 0.0845 - acc: 0.9969 - val_loss: 0.6632 - val_acc: 0.7562\n",
      "Epoch 10/20\n",
      "48/48 [==============================] - 11s 224ms/step - loss: 0.0824 - acc: 0.9948 - val_loss: 0.5953 - val_acc: 0.7638\n",
      "Epoch 11/20\n",
      "48/48 [==============================] - 10s 199ms/step - loss: 0.0709 - acc: 0.9990 - val_loss: 0.6559 - val_acc: 0.7666\n",
      "Epoch 12/20\n",
      "48/48 [==============================] - 9s 186ms/step - loss: 0.0684 - acc: 0.9979 - val_loss: 0.6519 - val_acc: 0.7590\n",
      "Epoch 13/20\n",
      "48/48 [==============================] - 9s 179ms/step - loss: 0.0625 - acc: 0.9969 - val_loss: 0.6574 - val_acc: 0.7619\n",
      "Epoch 14/20\n",
      "48/48 [==============================] - 9s 190ms/step - loss: 0.0591 - acc: 0.9979 - val_loss: 0.6613 - val_acc: 0.7533\n",
      "Epoch 15/20\n",
      "48/48 [==============================] - 9s 195ms/step - loss: 0.0575 - acc: 0.9969 - val_loss: 0.6509 - val_acc: 0.7486\n",
      "Epoch 16/20\n",
      "48/48 [==============================] - 9s 177ms/step - loss: 0.0532 - acc: 0.9990 - val_loss: 0.7311 - val_acc: 0.7533\n",
      "Epoch 17/20\n",
      "48/48 [==============================] - 9s 188ms/step - loss: 0.0477 - acc: 1.0000 - val_loss: 0.7579 - val_acc: 0.7448\n",
      "Epoch 18/20\n",
      "48/48 [==============================] - 11s 225ms/step - loss: 0.0456 - acc: 0.9990 - val_loss: 0.7103 - val_acc: 0.7486\n",
      "Epoch 19/20\n",
      "48/48 [==============================] - 9s 185ms/step - loss: 0.0417 - acc: 1.0000 - val_loss: 0.7640 - val_acc: 0.7381\n",
      "Epoch 20/20\n",
      "48/48 [==============================] - 11s 233ms/step - loss: 0.0416 - acc: 0.9979 - val_loss: 0.7289 - val_acc: 0.7524\n",
      "Unique train data 934 and targets 2\n",
      "Epoch 1/20\n",
      "48/48 [==============================] - 11s 219ms/step - loss: 0.6802 - acc: 0.6781 - val_loss: 0.6260 - val_acc: 0.6509\n",
      "Epoch 2/20\n",
      "48/48 [==============================] - 10s 200ms/step - loss: 0.3315 - acc: 0.8802 - val_loss: 0.5226 - val_acc: 0.7619\n",
      "Epoch 3/20\n",
      "48/48 [==============================] - 9s 190ms/step - loss: 0.2326 - acc: 0.9583 - val_loss: 0.5218 - val_acc: 0.7685\n",
      "Epoch 4/20\n",
      "48/48 [==============================] - 9s 197ms/step - loss: 0.1937 - acc: 0.9667 - val_loss: 0.4876 - val_acc: 0.7789\n",
      "Epoch 5/20\n",
      "48/48 [==============================] - 9s 197ms/step - loss: 0.1494 - acc: 0.9802 - val_loss: 0.5083 - val_acc: 0.7742\n",
      "Epoch 6/20\n",
      "48/48 [==============================] - 10s 199ms/step - loss: 0.1332 - acc: 0.9823 - val_loss: 0.5131 - val_acc: 0.7846\n",
      "Epoch 7/20\n",
      "48/48 [==============================] - 12s 253ms/step - loss: 0.1188 - acc: 0.9865 - val_loss: 0.4927 - val_acc: 0.7694\n",
      "Epoch 8/20\n",
      "48/48 [==============================] - 9s 193ms/step - loss: 0.1021 - acc: 0.9937 - val_loss: 0.5078 - val_acc: 0.7846\n",
      "Epoch 9/20\n",
      "48/48 [==============================] - 12s 244ms/step - loss: 0.0948 - acc: 0.9906 - val_loss: 0.5127 - val_acc: 0.7884\n",
      "Epoch 10/20\n",
      "48/48 [==============================] - 9s 193ms/step - loss: 0.0762 - acc: 0.9990 - val_loss: 0.5504 - val_acc: 0.7837\n",
      "Epoch 11/20\n",
      "48/48 [==============================] - 9s 193ms/step - loss: 0.0728 - acc: 0.9969 - val_loss: 0.5547 - val_acc: 0.7799\n",
      "Epoch 12/20\n",
      "48/48 [==============================] - 11s 229ms/step - loss: 0.0661 - acc: 0.9958 - val_loss: 0.5731 - val_acc: 0.7808\n",
      "Epoch 13/20\n",
      "48/48 [==============================] - 9s 196ms/step - loss: 0.0617 - acc: 0.9969 - val_loss: 0.5477 - val_acc: 0.7666\n",
      "Epoch 14/20\n",
      "48/48 [==============================] - 9s 190ms/step - loss: 0.0534 - acc: 0.9979 - val_loss: 0.5466 - val_acc: 0.7676\n",
      "Epoch 15/20\n",
      "48/48 [==============================] - 10s 205ms/step - loss: 0.0492 - acc: 1.0000 - val_loss: 0.5542 - val_acc: 0.7600\n",
      "Epoch 16/20\n",
      "48/48 [==============================] - 9s 178ms/step - loss: 0.0501 - acc: 0.9990 - val_loss: 0.6043 - val_acc: 0.7694\n",
      "Epoch 17/20\n",
      "48/48 [==============================] - 9s 179ms/step - loss: 0.0427 - acc: 1.0000 - val_loss: 0.5744 - val_acc: 0.7552\n",
      "Epoch 18/20\n",
      "48/48 [==============================] - 9s 179ms/step - loss: 0.0387 - acc: 1.0000 - val_loss: 0.6223 - val_acc: 0.7638\n",
      "Epoch 19/20\n",
      "48/48 [==============================] - 8s 176ms/step - loss: 0.0399 - acc: 1.0000 - val_loss: 0.6502 - val_acc: 0.7694\n",
      "Epoch 20/20\n",
      "48/48 [==============================] - 8s 176ms/step - loss: 0.0346 - acc: 1.0000 - val_loss: 0.6861 - val_acc: 0.7571\n"
     ]
    }
   ],
   "source": [
    "history = model.fit_generator(\n",
    "        generator=generator,\n",
    "        train_data = edge_ids_train,\n",
    "        train_targets = edge_labels_train,\n",
    "        epochs=epochs,\n",
    "        validation_generator=test_gen,\n",
    "        verbose=0\n",
    "    )"
   ]
  },
  {
   "cell_type": "markdown",
   "metadata": {},
   "source": [
    "Plot the training history:"
   ]
  },
  {
   "cell_type": "code",
   "execution_count": 29,
   "metadata": {
    "scrolled": false
   },
   "outputs": [
    {
     "name": "stderr",
     "output_type": "stream",
     "text": [
      "/Users/eli024/anaconda3/envs/link-prediction/lib/python3.6/site-packages/matplotlib/cbook/deprecation.py:107: MatplotlibDeprecationWarning: Adding an axes using the same arguments as a previous axes currently reuses the earlier instance.  In a future version, a new instance will always be created and returned.  Meanwhile, this warning can be suppressed, and the future behavior ensured, by passing a unique label to each axes instance.\n",
      "  warnings.warn(message, mplDeprecation, stacklevel=1)\n"
     ]
    },
    {
     "data": {
      "image/png": "[encoded data removed]",
      "text/plain": [
       "<Figure size 864x720 with 2 Axes>"
      ]
     },
     "metadata": {},
     "output_type": "display_data"
    }
   ],
   "source": [
    "plot_history(history)"
   ]
  },
  {
   "cell_type": "markdown",
   "metadata": {},
   "source": [
    "Evaluate the trained model on test citation links:"
   ]
  },
  {
   "cell_type": "code",
   "execution_count": 30,
   "metadata": {},
   "outputs": [
    {
     "name": "stdout",
     "output_type": "stream",
     "text": [
      "\n",
      "Train Set Metrics of the initial (untrained) model:\n",
      "\tloss: 0.2345±0.0093\n",
      "\tacc: 0.9136±0.0007\n",
      "\n",
      "Test Set Metrics of the initial (untrained) model:\n",
      "\tloss: 0.6648±0.0686\n",
      "\tacc: 0.7597±0.0167\n"
     ]
    }
   ],
   "source": [
    "train_metrics_mean, train_metrics_std = model.evaluate_generator(train_gen)\n",
    "test_metrics_mean, test_metrics_std = model.evaluate_generator(test_gen)\n",
    "\n",
    "print(\"\\nTrain Set Metrics of the trained model:\")\n",
    "for name, m, s in zip(model.metrics_names, train_metrics_mean, train_metrics_std):\n",
    "    print(\"\\t{}: {:0.4f}±{:0.4f}\".format(name, m, s))\n",
    "\n",
    "print(\"\\nTest Set Metrics of the trained model:\")\n",
    "for name, m, s in zip(model.metrics_names, test_metrics_mean, test_metrics_std):\n",
    "    print(\"\\t{}: {:0.4f}±{:0.4f}\".format(name, m, s))"
   ]
  },
  {
   "cell_type": "markdown",
   "metadata": {},
   "source": [
    "### Make predictions with the model\n",
    "\n",
    "Now let's get the predictions for all the edges in the test set."
   ]
  },
  {
   "cell_type": "code",
   "execution_count": 31,
   "metadata": {},
   "outputs": [],
   "source": [
    "test_predictions = model.predict_generator(generator=test_gen)"
   ]
  },
  {
   "cell_type": "markdown",
   "metadata": {},
   "source": [
    "These predictions will be the output of the last layer in the model with `sigmoid` activation."
   ]
  },
  {
   "cell_type": "code",
   "execution_count": 33,
   "metadata": {},
   "outputs": [
    {
     "data": {
      "text/plain": [
       "(numpy.ndarray, (3, 5, 1054, 1))"
      ]
     },
     "execution_count": 33,
     "metadata": {},
     "output_type": "execute_result"
    }
   ],
   "source": [
    "type(test_predictions), test_predictions.shape"
   ]
  },
  {
   "cell_type": "code",
   "execution_count": 58,
   "metadata": {},
   "outputs": [],
   "source": [
    "selected_query_point = -1"
   ]
  },
  {
   "cell_type": "code",
   "execution_count": 59,
   "metadata": {},
   "outputs": [
    {
     "data": {
      "text/plain": [
       "(3, 5, 1)"
      ]
     },
     "execution_count": 59,
     "metadata": {},
     "output_type": "execute_result"
    }
   ],
   "source": [
    "# Select the predictios for the point specified by selected_query_point\n",
    "qp_predictions = test_predictions[:, :, selected_query_point, :]\n",
    "qp_predictions.shape"
   ]
  },
  {
   "cell_type": "code",
   "execution_count": 60,
   "metadata": {},
   "outputs": [
    {
     "data": {
      "text/plain": [
       "(15, 1)"
      ]
     },
     "execution_count": 60,
     "metadata": {},
     "output_type": "execute_result"
    }
   ],
   "source": [
    "qp_predictions = qp_predictions.reshape(np.product(qp_predictions.shape[0:-1]), qp_predictions.shape[-1])\n",
    "qp_predictions.shape"
   ]
  },
  {
   "cell_type": "code",
   "execution_count": 61,
   "metadata": {},
   "outputs": [],
   "source": [
    "qp_predictions=np.hstack((qp_predictions, 1.-qp_predictions,))"
   ]
  },
  {
   "cell_type": "markdown",
   "metadata": {},
   "source": [
    "A box-plot view of the variability of predictions for this query point"
   ]
  },
  {
   "cell_type": "code",
   "execution_count": 62,
   "metadata": {},
   "outputs": [
    {
     "data": {
      "text/plain": [
       "Text(0.5,0,'Class')"
      ]
     },
     "execution_count": 62,
     "metadata": {},
     "output_type": "execute_result"
    },
    {
     "data": {
      "image/png": "[encoded data removed]",
      "text/plain": [
       "<Figure size 864x432 with 1 Axes>"
      ]
     },
     "metadata": {},
     "output_type": "display_data"
    }
   ],
   "source": [
    "correct_label = \"Edge\"\n",
    "if edge_labels_test[selected_query_point] == 0:\n",
    "    correct_label = \"No Edge\"\n",
    "\n",
    "fig, ax = plt.subplots(figsize=(12,6))\n",
    "ax.boxplot(x=qp_predictions)\n",
    "ax.set_xticklabels([\"Edge\", \"No Edge\"])\n",
    "ax.tick_params(axis='x', rotation=45)\n",
    "plt.title(\"Correct label is \"+ correct_label)\n",
    "plt.ylabel(\"Predicted Probability\")\n",
    "plt.xlabel(\"Class\")"
   ]
  }
 ],
 "metadata": {
  "kernelspec": {
   "display_name": "Python 3",
   "language": "python",
   "name": "python3"
  },
  "language_info": {
   "codemirror_mode": {
    "name": "ipython",
    "version": 3
   },
   "file_extension": ".py",
   "mimetype": "text/x-python",
   "name": "python",
   "nbconvert_exporter": "python",
   "pygments_lexer": "ipython3",
   "version": "3.6.7"
  }
 },
 "nbformat": 4,
 "nbformat_minor": 2
}
