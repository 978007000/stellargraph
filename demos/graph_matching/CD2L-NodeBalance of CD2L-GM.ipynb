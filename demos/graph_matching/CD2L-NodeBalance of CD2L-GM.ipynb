{
 "cells": [
  {
   "cell_type": "markdown",
   "metadata": {},
   "source": [
    "# 1. Introduction  \n",
    "\n",
    "This notebook describes how to sovle the first problem `NodeBalance` in `CD2L-GM`, becasue $|V^s|>|V^t|$ in assumption 1.\n",
    "\n",
    "`CD2L-GM` allows graph matching be applied across two independent graphs with the aim to transfer structral information from the source graph to the target graph. This approach helps with the graph learning on the target graph when it lacks structral information like nodes and edges [[2]](#refs). \n",
    "\n",
    "`CD2L-GM` illustrate a phenomenan that target graph $G^t = \\{V^t,E^t\\}$ lacks structural information while source graph $G^s = \\{V^s,E^s\\}$ is rich in structural inforamtion. Therefore, `CD2L-GM` is developed on the `FTLSIN` framework [[1]](#refs) with the following assumptions:  \n",
    "\n",
    "1. $|V^s|>|V^t|$: The number of nodes in source graph is larger than the number of nodes in target graph.  \n",
    "2. $|E^s|>|E^t|$: The number of edges in source graph is larger than the number of edges in target graph.  \n",
    "\n",
    "**Note:** In `CD2L-GM`, assumption 2 ($|E^s|>|E^t|$) is redefined by $\\langle deg^s \\rangle > \\langle deg^t \\rangle$ which specifies the connection scale that the average node degree of source graph is larger than the average node degree of target graph.  \n",
    "\n",
    "To address the problem of `NodeBalance`, the algorithm `CD2L-NodeBalance` described in this notebook tries to group the nodes in source graph so that the node scales in two graphs will be balanced to predict links between them. Specifically, the notebook demonstrates:  \n",
    "\n",
    "1. Prepare source graph and target graph from dataset Cora.  \n",
    "2. Initial clusters of source graph nodes and target graph nodes, where the nodes in a cluster have the same node degree. The clusters of source graph nodes are regarded as initial supernodes $V'^{(0)}$.\n",
    "3. Three cases are considered: Case 1 for terminating `CD2L-NodeBalance`, Case 2 for merging supernodes, and Case 3 for splitting supernodes.\n",
    "4. Objective function to meaure `CD2L-NodeBalance` and set a learning threshold.\n",
    "\n",
    "**Note:** `CD2L-NodeBalance` corresponds to Section 4.1 in paper Cross-domain network representations [[2]](#refs).\n",
    "\n",
    "<a name=\"refs\"></a>\n",
    "## References  \n",
    "\n",
    "[1] Xue, Shan, Jie Lu, Guangquan Zhang, and Li Xiong. \"A framework of transferring structures across large-scale information networks.\" 2018 International Joint Conference on Neural Networks (IJCNN). IEEE, 2018. ([link](https://ieeexplore.ieee.org/abstract/document/8489037))\n",
    "\n",
    "[2] Xue, Shan, Jie Lu, and Guangquan Zhang. \"Cross-domain network representations.\" Pattern Recognition 94 (2019): 135-148. ([link](https://www.sciencedirect.com/science/article/pii/S0031320319301852))"
   ]
  },
  {
   "cell_type": "code",
   "execution_count": 1,
   "metadata": {},
   "outputs": [],
   "source": [
    "import os\n",
    "import networkx as nx\n",
    "import pandas as pd\n",
    "import numpy as np\n",
    "from itertools import chain\n",
    "import collections\n",
    "import math\n",
    "from scipy.stats import linregress\n",
    "import random\n",
    "\n",
    "import matplotlib.pyplot as plt"
   ]
  },
  {
   "cell_type": "markdown",
   "metadata": {},
   "source": [
    "**Choose a case to run the notebook**"
   ]
  },
  {
   "cell_type": "code",
   "execution_count": 2,
   "metadata": {},
   "outputs": [],
   "source": [
    "case = 'merge'\n",
    "# case = 'split'"
   ]
  },
  {
   "cell_type": "markdown",
   "metadata": {},
   "source": [
    "# 2. Dataset  \n",
    "\n",
    "The dataset is the citation network Cora. It can be downloaded by clicking [here](https://linqs-data.soe.ucsc.edu/public/lbc/cora.tgz). The following is the description of the dataset from the publisher:\n",
    "\n",
    "> The Cora dataset consists of 2708 scientific publications classified into one of seven classes. The citation network consists of 5429 links. Each publication in the dataset is described by a 0/1-valued word vector indicating the absence/presence of the corresponding word from the dictionary. The dictionary consists of 1433 unique words. The README file in the dataset provides more details. \n",
    "\n",
    "For this demo, we ignore the word vectors associated with each paper. We are only interested in the network structure and the **subject** attribute of each paper.\n",
    "\n",
    "Download and unzip the cora.tgz file to a location on your computer. \n",
    "\n",
    "We assume that the dataset is stored in the directory\n",
    "\n",
    "`~/data/cora/`\n",
    "\n",
    "where the files `cora.cites` and `cora.content` can be located.\n",
    "\n",
    "We are going to load the data into a networkx object."
   ]
  },
  {
   "cell_type": "code",
   "execution_count": 3,
   "metadata": {},
   "outputs": [],
   "source": [
    "# data_dir = \"~/data/cora\"\n",
    "data_dir = \"~/Desktop/stellargraph/data/cora\""
   ]
  },
  {
   "cell_type": "code",
   "execution_count": 4,
   "metadata": {},
   "outputs": [
    {
     "name": "stdout",
     "output_type": "stream",
     "text": [
      "Graph statistics: 2708 nodes, 5278 edges\n"
     ]
    }
   ],
   "source": [
    "# load directed graph from ordering (cited_paper, citing_paper)\n",
    "data_location = os.path.expanduser(data_dir)\n",
    "g_nx = nx.read_edgelist(path=os.path.join(data_location,\"cora.cites\"), create_using=nx.DiGraph()).reverse()\n",
    "\n",
    "# convert to undirected graph for processing\n",
    "g_nx = g_nx.to_undirected()\n",
    "\n",
    "# load the node attribute data\n",
    "node_attr = pd.read_csv(os.path.join(data_location,\"cora.content\"), sep='\\t', header=None)\n",
    "values = { str(row.tolist()[0]): row.tolist()[-1] for _, row in node_attr.iterrows() }\n",
    "nx.set_node_attributes(g_nx, values, 'subject')\n",
    "\n",
    "print(\"Graph statistics: {} nodes, {} edges\".format(\n",
    "    g_nx.number_of_nodes(), g_nx.number_of_edges()))"
   ]
  },
  {
   "cell_type": "markdown",
   "metadata": {},
   "source": [
    "## 2.1 Data Preparation for Source and Target Graph  \n",
    "\n",
    "We select the largest connected component as **Source Graph** and the second largest connected component as **Target Graph**.  \n",
    "\n",
    "Case1: Data for Merge  \n",
    "Case2: Data for Split"
   ]
  },
  {
   "cell_type": "code",
   "execution_count": 5,
   "metadata": {},
   "outputs": [
    {
     "name": "stdout",
     "output_type": "stream",
     "text": [
      "Largest subgraph (source graph) statistics: 2485 nodes, 5069 edges\n",
      "Target graph number of nodes threshold: 248\n",
      "Smaller subgraph (target graph) statistics: 26 nodes, 43 edges\n"
     ]
    }
   ],
   "source": [
    "# For clarity we ignore isolated nodes and subgraphs; having these in the data does not prevent the\n",
    "# algorithm from running and producing valid results.v_no_s\n",
    "\n",
    "g_nx_ccs = ( g_nx.subgraph(c).copy() for c in nx.connected_components(g_nx) )\n",
    "\n",
    "if case is 'merge':\n",
    "    # Select the largest connected component as the source graph. \n",
    "    g_nx_s = max(g_nx_ccs, key=len)\n",
    "    v_no_s = g_nx_s.number_of_nodes()\n",
    "    print(\"Largest subgraph (source graph) statistics: {} nodes, {} edges\".format(\n",
    "        v_no_s, g_nx_s.number_of_edges()))\n",
    "    \n",
    "    # Select a smaller connected component as the target graph. \n",
    "    # Assumption one: target graph node scale < source graph node scale\n",
    "    threshold = int(v_no_s / 10)\n",
    "    print(\"Target graph number of nodes threshold: {}\".format(threshold))\n",
    "    \n",
    "    g_nx_ccs_t = ( g_nx.subgraph(c).copy() for c in nx.connected_components(g_nx) \n",
    "                  if g_nx.subgraph(c).copy().number_of_nodes() < threshold)\n",
    "    g_nx_t = max(g_nx_ccs_t, key=len)\n",
    "    v_no_t = g_nx_t.number_of_nodes()\n",
    "    print(\"Smaller subgraph (target graph) statistics: {} nodes, {} edges\".format(\n",
    "        v_no_t, g_nx_t.number_of_edges()))\n",
    "    \n",
    "if case is 'split':\n",
    "    # Select the largest connected component as the target graph. \n",
    "    g_nx_t = max(g_nx_ccs, key=len)\n",
    "    v_no_t = g_nx_t.number_of_nodes()\n",
    "    print(\"Largest subgraph (target graph) statistics: {} nodes, {} edges\".format(\n",
    "        v_no_t, g_nx_t.number_of_edges()))\n",
    "    \n",
    "    # Select a smaller connected component as the source graph. \n",
    "    threshold = int(v_no_t / 10)\n",
    "    print(\"Source graph number of nodes threshold: {}\".format(threshold))\n",
    "    \n",
    "    g_nx_ccs_s = ( g_nx.subgraph(c).copy() for c in nx.connected_components(g_nx) \n",
    "                  if g_nx.subgraph(c).copy().number_of_nodes() < threshold)\n",
    "    g_nx_s = max(g_nx_ccs_s, key=len)\n",
    "    v_no_s = g_nx_s.number_of_nodes()\n",
    "    print(\"Smaller subgraph (source graph) statistics: {} nodes, {} edges\".format(\n",
    "        v_no_s, g_nx_s.number_of_edges()))"
   ]
  },
  {
   "cell_type": "markdown",
   "metadata": {},
   "source": [
    "## 2.2 Degree Distribution of Source and Target Graphs"
   ]
  },
  {
   "cell_type": "code",
   "execution_count": 6,
   "metadata": {},
   "outputs": [
    {
     "data": {
      "image/png": "[encoded data removed]",
      "text/plain": [
       "<Figure size 432x288 with 1 Axes>"
      ]
     },
     "metadata": {
      "needs_background": "light"
     },
     "output_type": "display_data"
    }
   ],
   "source": [
    "degree_sequence_s = sorted([d for n, d in g_nx_s.degree()], reverse=True)\n",
    "degreeCount_s = collections.Counter(degree_sequence_s)\n",
    "deg_s, cnt_s = zip(*degreeCount_s.items())\n",
    "log_deg_s = [math.log(d) for d in deg_s]\n",
    "log_cnt_s = [math.log(n) for n in cnt_s]\n",
    "\n",
    "plt.scatter(log_deg_s, log_cnt_s, color='b', marker='+')\n",
    "plt.title(\"log-log Degree Distribution of Source Graph\")\n",
    "plt.ylabel(\"log_Count\")\n",
    "plt.xlabel(\"log_Degree\")\n",
    "\n",
    "plt.show()"
   ]
  },
  {
   "cell_type": "code",
   "execution_count": 7,
   "metadata": {},
   "outputs": [
    {
     "data": {
      "image/png": "[encoded data removed]",
      "text/plain": [
       "<Figure size 432x288 with 1 Axes>"
      ]
     },
     "metadata": {
      "needs_background": "light"
     },
     "output_type": "display_data"
    }
   ],
   "source": [
    "degree_sequence_t = sorted([d for n, d in g_nx_t.degree()], reverse=True)\n",
    "degreeCount_t = collections.Counter(degree_sequence_t)\n",
    "deg_t, cnt_t = zip(*degreeCount_t.items())\n",
    "log_deg_t = [math.log(d) for d in deg_t]\n",
    "log_cnt_t = [math.log(n) for n in cnt_t]\n",
    "\n",
    "plt.scatter(log_deg_t, log_cnt_t, color='b', marker='+')\n",
    "plt.title(\"log-log Degree Distribution of Target Graph\")\n",
    "plt.ylabel(\"log_Count\")\n",
    "plt.xlabel(\"log_Degree\")\n",
    "\n",
    "plt.show()"
   ]
  },
  {
   "cell_type": "code",
   "execution_count": 8,
   "metadata": {},
   "outputs": [
    {
     "name": "stdout",
     "output_type": "stream",
     "text": [
      "Source graph and target graph are constructed.\n",
      "     Average Degree of Source Graph: 4.0796780684104625 > Average Degree of Target Graph: 3.3076923076923075. \n",
      "     Node Size of Source Graph: 2485 > Node Size of Target Graph: 26.     \n"
     ]
    }
   ],
   "source": [
    "mean_deg_s = sum(degree_sequence_s)/len(degree_sequence_s)\n",
    "mean_deg_t = sum(degree_sequence_t)/len(degree_sequence_t)\n",
    "if mean_deg_s > mean_deg_t:\n",
    "    print(\"Source graph and target graph are constructed.\\n \\\n",
    "    Average Degree of Source Graph: {} > Average Degree of Target Graph: {}. \\n \\\n",
    "    Node Size of Source Graph: {} > Node Size of Target Graph: {}. \\\n",
    "    \".format(mean_deg_s, mean_deg_t, v_no_s, v_no_t))\n",
    "else:\n",
    "    print(\"Fail in constructing source graph and target graph.\\n \\\n",
    "    Average Degree of Source Graph: {} <= Average Degree of Target Graph: {}. \\\n",
    "    \".format(mean_deg_s, mean_deg_t))"
   ]
  },
  {
   "cell_type": "markdown",
   "metadata": {},
   "source": [
    "## 2.3 Dataset Summary  \n",
    "\n",
    "| Graph | Number of Nodes  | Number of Edges | Average Degree |\n",
    "|------|------|------|------|\n",
    "|   Source Graph  | 2485 | 5069 | 4.080 |\n",
    "|   Target Graph  | 26   | 43   | 3.308 |"
   ]
  },
  {
   "cell_type": "markdown",
   "metadata": {},
   "source": [
    "# 3. Initialization of CD2L-NodeBalance Algorithm"
   ]
  },
  {
   "cell_type": "markdown",
   "metadata": {},
   "source": [
    "## 3.1 Node Clusters of Target and Source Graphs  \n",
    "\n",
    "The nodes are clustered by node degrees in `cluster_t` and `cluster_s`. "
   ]
  },
  {
   "cell_type": "code",
   "execution_count": 9,
   "metadata": {},
   "outputs": [],
   "source": [
    "deg_list_t = [d for n, d in g_nx_t.degree()]\n",
    "nodeId_list_t = [n for n, d in g_nx_t.degree()]\n",
    "\n",
    "# deg_t is the degree index get from box [6]\n",
    "# generate a dict indexed by deg_t and wrap node IDs in same degree\n",
    "cluster_t = {}\n",
    "for deg in deg_t:\n",
    "    cluster_t[str(deg)] = [nodeId_list_t[i] for i, x in enumerate(deg_list_t) if x == deg]\n",
    "\n",
    "# print(\"Node clusters of target graph by degree: {}\".format(cluster_t))"
   ]
  },
  {
   "cell_type": "code",
   "execution_count": 10,
   "metadata": {},
   "outputs": [],
   "source": [
    "deg_list_s = [d for n, d in g_nx_s.degree()]\n",
    "nodeId_list_s = [n for n, d in g_nx_s.degree()]\n",
    "\n",
    "# deg_s is the degree index get from box [5]\n",
    "# generate a dict indexed by deg_s and wrap node IDs in same degree\n",
    "cluster_s = {}\n",
    "for deg in deg_s:\n",
    "    cluster_s[str(deg)] = [nodeId_list_s[i] for i, x in enumerate(deg_list_s) if x == deg]\n",
    "\n",
    "# print(\"Node clusters of source graph by degree: {}\".format(cluster_s))"
   ]
  },
  {
   "cell_type": "markdown",
   "metadata": {},
   "source": [
    "## 3.2 Initial Node Degree Scales of Source and Target Graphs\n",
    "\n",
    "`n_deg_t` and `n_deg_s` denote the degree scales of source and target graphs. `n_deg_t` and `n_deg_s` are also the initial numbers of clusters. "
   ]
  },
  {
   "cell_type": "code",
   "execution_count": 11,
   "metadata": {},
   "outputs": [
    {
     "name": "stdout",
     "output_type": "stream",
     "text": [
      "Node degree scale of taret graph: 7\n",
      "Initial node degree scale of source graph: 37\n"
     ]
    }
   ],
   "source": [
    "n_deg_t = len(deg_t)\n",
    "n_deg_s = len(deg_s)\n",
    "print(\"Node degree scale of taret graph: {}\".format(n_deg_t))\n",
    "print(\"Initial node degree scale of source graph: {}\".format(n_deg_s))"
   ]
  },
  {
   "cell_type": "markdown",
   "metadata": {},
   "source": [
    "## 3.3 Initial Weight Adjacency Matrix across Graphs\n",
    "\n",
    "To batch matching the clusters across graphs, a target cluster will match to at least one source cluster. `group_size` describes the the number of cluster matches from one target cluster to multiple source clusters that `group_size`>=1. `overlap_size` defines the number of repetitions of the source clusters between two neighbor matches. `WM_cluster_cg_initial` is the **initial weight adjaceny matrix** across graphs for batch matching, where $i$ and $j$ refer to `cluster_t` and `cluster_s`, respectively."
   ]
  },
  {
   "cell_type": "code",
   "execution_count": 12,
   "metadata": {},
   "outputs": [
    {
     "name": "stdout",
     "output_type": "stream",
     "text": [
      "A target cluster link to 7 source cluster with 2 of overlaps with previous target cluster\n"
     ]
    }
   ],
   "source": [
    "n_deg_max = max(n_deg_s, n_deg_t)\n",
    "n_deg_min = min(n_deg_s, n_deg_t)\n",
    "\n",
    "group_size = n_deg_max - int(n_deg_max/n_deg_min) * (n_deg_min - 1)\n",
    "overlap_size = group_size - int(n_deg_max/n_deg_min)\n",
    "print(\"A target cluster link to {} source cluster with {} of overlaps with \\\n",
    "previous target cluster\".format(group_size, overlap_size))"
   ]
  },
  {
   "cell_type": "code",
   "execution_count": 13,
   "metadata": {},
   "outputs": [
    {
     "name": "stdout",
     "output_type": "stream",
     "text": [
      "Label clusters of source graph from 8 to 44.     Label clusters of target graph from 1 to 7.\n"
     ]
    },
    {
     "name": "stderr",
     "output_type": "stream",
     "text": [
      "/anaconda3/lib/python3.7/site-packages/networkx/drawing/nx_pylab.py:611: MatplotlibDeprecationWarning: isinstance(..., numbers.Number)\n",
      "  if cb.is_numlike(alpha):\n"
     ]
    },
    {
     "data": {
      "image/png": "[encoded data removed]",
      "text/plain": [
       "<Figure size 360x864 with 1 Axes>"
      ]
     },
     "metadata": {
      "needs_background": "light"
     },
     "output_type": "display_data"
    }
   ],
   "source": [
    "# cross-cluster edge set\n",
    "if n_deg_s >= n_deg_t:\n",
    "    E_cg = [[cluster_t_id + 1, (group_size - overlap_size) * cluster_t_id + correspond + n_deg_t + 1] \\\n",
    "            for cluster_t_id in range(n_deg_t)\\\n",
    "            for correspond in range(group_size)]\n",
    "    g_nx_cg = nx.Graph()\n",
    "    g_nx_cg.add_edges_from(E_cg)\n",
    "    print(\"Label clusters of source graph from {} to {}. \\\n",
    "    Label clusters of target graph from 1 to {}.\".format(n_deg_t+1,n_deg_s+n_deg_t,n_deg_t))\n",
    "else:\n",
    "    E_cg = [[(group_size - overlap_size) * cluster_s_id + correspond + 1, n_deg_t + cluster_s_id + 1] \\\n",
    "            for cluster_s_id in range(n_deg_s)\\\n",
    "            for correspond in range(group_size)]\n",
    "    g_nx_cg = nx.Graph()\n",
    "    g_nx_cg.add_edges_from(E_cg)\n",
    "    print(\"Label clusters of target graph from 1 to {}. \\\n",
    "    Label clusters of source graph from {} to {}.\".format(n_deg_t,n_deg_t+1,n_deg_t+n_deg_s))\n",
    "    \n",
    "plt.figure(1,figsize=(5,12)) \n",
    "graph_top = nx.bipartite.sets(g_nx_cg)[0]\n",
    "graph_pos = nx.bipartite_layout(g_nx_cg,graph_top)\n",
    "nx.draw_networkx(g_nx_cg,graph_pos)\n",
    "plt.show()"
   ]
  },
  {
   "cell_type": "code",
   "execution_count": 14,
   "metadata": {},
   "outputs": [],
   "source": [
    "## initial E_dic from initial E_cg\n",
    "def link_dic_initial(E_cg):\n",
    "    E_dic = {}\n",
    "    for t_ind in np.unique(np.array(E_cg).T[0]):\n",
    "        E_dic[t_ind] = (np.array(E_cg).T[1]-n_deg_t)[[i for i, x in enumerate(np.array(E_cg).T[0]) if x == t_ind]]\n",
    "    return E_dic\n",
    "E_dic = link_dic_initial(E_cg)"
   ]
  },
  {
   "cell_type": "code",
   "execution_count": 15,
   "metadata": {},
   "outputs": [
    {
     "name": "stdout",
     "output_type": "stream",
     "text": [
      "Size of weight adjacency matrix of cross graph clusters: (7, 37)\n"
     ]
    }
   ],
   "source": [
    "WM_cluster_cg_initial = np.zeros((n_deg_t,n_deg_s),dtype=np.float)\n",
    "print(\"Size of weight adjacency matrix of cross graph clusters: {}\".format(WM_cluster_cg_initial.shape))\n",
    "for link in E_cg:\n",
    "    start = link[0]-1\n",
    "    end = link[1]-n_deg_t-1\n",
    "    WM_cluster_cg_initial[start][end] = min(deg_t[start],deg_s[end])/max(deg_t[start],deg_s[end])"
   ]
  },
  {
   "cell_type": "markdown",
   "metadata": {},
   "source": [
    "## 3.4 Initial Supernode of Source Graph\n",
    "\n",
    "A `supernode` is a `bag` of nodes clustered by certain rules depends on algorithm requirements. In `CD2L-NodeBalance`, `supernode` only works on source graph. In initialization, a `supernode_initial` is a source graph cluster in `cluster_s`."
   ]
  },
  {
   "cell_type": "code",
   "execution_count": 16,
   "metadata": {},
   "outputs": [],
   "source": [
    "def get_node_id_to_ind(g_nx):\n",
    "    v_id_to_ind = {}\n",
    "    v = list(g_nx.node())\n",
    "    for i in range(len(v)):\n",
    "        v_id_to_ind[v[i]] = i + 1\n",
    "    return v_id_to_ind \n",
    "\n",
    "v_s_id_to_ind = get_node_id_to_ind(g_nx_s)\n",
    "v_t_id_to_ind = get_node_id_to_ind(g_nx_t)"
   ]
  },
  {
   "cell_type": "code",
   "execution_count": 17,
   "metadata": {},
   "outputs": [],
   "source": [
    "# collect individual node attributes in one supernode\n",
    "# return in a bag as supernode values\n",
    "def node_attribute_in_supernode(node_bag,v_id_to_ind,g_nx):\n",
    "    node_ids = [node_id for node_id in node_bag]\n",
    "    node_inds = [v_id_to_ind[node_id] for node_id in node_bag]\n",
    "    degrees = [g_nx.degree[node_id] for node_id in node_bag] \n",
    "    bag = {'node_ids': node_ids,\n",
    "           'node_inds': node_inds,\n",
    "           'node_degs': degrees,\n",
    "           'supernode_deg': np.mean(degrees),\n",
    "          }\n",
    "    return bag"
   ]
  },
  {
   "cell_type": "code",
   "execution_count": 18,
   "metadata": {},
   "outputs": [],
   "source": [
    "# initial supernode of source graph\n",
    "# keys: supernode+no.(1-37)\n",
    "# keys of each supernode: ['node_ids', 'node_inds', 'node_degs', 'supernode_deg', 'supernode_ind']\n",
    "supernode_initial = {}\n",
    "for deg, cnt in zip(cluster_s.keys(),range(1,len(cluster_s)+1)):\n",
    "    node_bag = cluster_s[deg]\n",
    "    supernode_initial[\"supernode{}\".format(cnt)] = node_attribute_in_supernode(node_bag,v_s_id_to_ind,g_nx_s)"
   ]
  },
  {
   "cell_type": "markdown",
   "metadata": {},
   "source": [
    "## 3.5 Initial Weight and Link Vectors across Graphs\n",
    "\n",
    "`CD2L-NodeBalance` balances node scales across graphs by learning `supernode` for each node in target graph. At the same time, links are predicted across graphs between a node in target graph and a supernode in source graph according to their weights. Each link is saved in a vector `vec_e` and the same to a weight `vec_w`."
   ]
  },
  {
   "cell_type": "code",
   "execution_count": 19,
   "metadata": {},
   "outputs": [],
   "source": [
    "# index {node ind, target cluster ind, node degree} by target graph node id\n",
    "def node_t_cluster_ind(cluster_t, v_t_id_to_ind):\n",
    "    node_id_to_cluster_ind_t = {}\n",
    "    for cnt, deg_str, node_id_set in zip(range(1,len(cluster_t)+1), cluster_t.keys(), cluster_t.values()):\n",
    "        for node_id in node_id_set:\n",
    "            node_id_to_cluster_ind_t[node_id] = {'node_t_ind': v_t_id_to_ind[node_id],\n",
    "                                                 'cluster_t_ind': cnt,\n",
    "                                                 'node_deg': int(deg_str)\n",
    "                                                }\n",
    "    return node_id_to_cluster_ind_t\n",
    "\n",
    "node_id_to_cluster_ind_t = node_t_cluster_ind(cluster_t, v_t_id_to_ind)"
   ]
  },
  {
   "cell_type": "code",
   "execution_count": 20,
   "metadata": {},
   "outputs": [],
   "source": [
    "# vector of weights across graph clusters of each target cluster in objective function\n",
    "# a vector rooted at a node in target graph\n",
    "# each element in the weight victor stand for the weight from a rooted node to a supernode in source graph\n",
    "def weight_vector(node_id_t, WM_cluster_cg, node_id_to_cluster_ind_t):\n",
    "    vec_w = WM_cluster_cg[node_id_to_cluster_ind_t[node_id_t]['cluster_t_ind']-1]\n",
    "    return vec_w\n",
    "\n",
    "# vec_w_initial = weight_vector('193352', WM_cluster_cg_initial, node_id_to_cluster_ind_t)"
   ]
  },
  {
   "cell_type": "code",
   "execution_count": 21,
   "metadata": {},
   "outputs": [],
   "source": [
    "# vector of edges across graph clusters of each target cluster in objective function\n",
    "def link_vector(vec_w):\n",
    "    vec_e = [1 if w>0 else 0 for w in vec_w]\n",
    "    return np.array(vec_e)\n",
    "\n",
    "# vec_e_initial = link_vector(vec_w_initial)"
   ]
  },
  {
   "cell_type": "markdown",
   "metadata": {},
   "source": [
    "# 4. Supernode Training: Merging and Splitting\n",
    "\n",
    "The `supernode` training learns in batches. It ends when a target cluster match to unique supernode (Case 1), that is `group_size` == 1. Otherwise, when `group_size` > 1 (Case 2), `supernode_mearge` training starts; and `supernode_split` training starts when `group_size` < 1 (Case 3). `E_dic` is returned with supernode training which is a dictionary index by target cluster id and valued with supernode id.  \n",
    "\n",
    "![CD2L-NodeBalance](nodebalance.png)  \n",
    "\n",
    "**Note:** Here we overlap `supernode` between neighbor `CD2L-NodeBalance` matches. Therefore, `supernode_mearge` training ends at `group_size_min` == 2."
   ]
  },
  {
   "cell_type": "markdown",
   "metadata": {
    "scrolled": true
   },
   "source": [
    "## 4.1 Supernode Merging\n",
    "\n",
    "`supernode_mearge` works in batches. It returns updated `supernode` and `mearge` which saves the changes in `supernode` training."
   ]
  },
  {
   "cell_type": "code",
   "execution_count": 22,
   "metadata": {},
   "outputs": [],
   "source": [
    "# Case 2: n_supernode > n_deg_t (group_size > 1)\n",
    "# merge neighbor supernode \n",
    "\n",
    "def supernode_ind_merge(supernode, window):\n",
    "    size = [len(supernode['supernode{}'.format(i+1)]['node_ids']) for i in window]\n",
    "    ind_merge = window[size.index(min(size))]\n",
    "    if ind_merge == window[-1]: ind_receive = ind_merge - 1 \n",
    "    else: ind_receive = ind_merge + 1\n",
    "    return ind_merge+1, ind_receive+1\n",
    "\n",
    "def supernode_mearge(n_deg_t, supernode, group_size_min, WM_cluster_cg):\n",
    "    n_sn = len(supernode)\n",
    "    merge = []\n",
    "    for cluster_t_i in range(n_deg_t):\n",
    "        window = [n for n,i in enumerate(WM_cluster_cg[cluster_t_i]) if i>0]\n",
    "        if len(window) < group_size_min: group_size_min = len(window)\n",
    "        # the first smallest supernode in window merge to next/previous supernode\n",
    "        ind_m, ind_r = supernode_ind_merge(supernode, window)\n",
    "        merge.append([ind_m, ind_r])\n",
    "        print('-------- merging supernode {} -> supernode {}'.format(ind_m, ind_r))\n",
    "        sn_m = supernode['supernode{}'.format(ind_m)]\n",
    "        sn_r = supernode['supernode{}'.format(ind_r)]\n",
    "        n_v_m, n_v_r = len(sn_m['node_ids']), len(sn_r['node_ids'])\n",
    "        # merge everything keys=['node_ids','node_inds','node_degs','supernode_deg','supernode_ind']\n",
    "        # node(append list): 'node_ids', 'node_inds', 'node_degs'\n",
    "        for node_id, ind, deg in zip(sn_m['node_ids'], sn_m['node_inds'], sn_m['node_degs']):\n",
    "            sn_r['node_ids'].append(node_id)\n",
    "            sn_r['node_inds'].append(ind)\n",
    "            sn_r['node_degs'].append(deg)\n",
    "        sn_r['supernode_deg'] = (sn_r['supernode_deg']*n_v_r+sn_m['supernode_deg']*n_v_m)/(n_v_r+n_v_m)\n",
    "        del supernode['supernode{}'.format(ind_m)]\n",
    "    new_keys = ['supernode{}'.format(i+1) for i in range(len(supernode))]\n",
    "    for key, new_key in zip(list(supernode.keys()),new_keys):\n",
    "        supernode[new_key] = supernode.pop(key)\n",
    "    print('---- Number of supernodes: {} -> {}. Group size: {} -> {}.'.format(\n",
    "        n_sn,len(supernode),group_size,group_size-1))\n",
    "    return supernode, merge, group_size_min\n",
    "\n",
    "# supernode, merge = supernode_mearge(n_deg_t, supernode_initial, group_size, WM_cluster_cg_initial)"
   ]
  },
  {
   "cell_type": "markdown",
   "metadata": {
    "scrolled": true
   },
   "source": [
    "## 4.2 Supernode Splitting\n",
    "\n",
    "`supernode_split` works in batches. It returns updated `supernode` and `split` which saves the changes in `supernode` training."
   ]
  },
  {
   "cell_type": "code",
   "execution_count": 23,
   "metadata": {},
   "outputs": [],
   "source": [
    "# Case 3: n_supernode < n_deg_t\n",
    "# split neighbor supernode \n",
    "\n",
    "def split_random(supernode, WM_cluster_cg):\n",
    "    # output: new_match = {cluster_t_ind: node_location_ind (start from 0) in supernode}\n",
    "    match = {}\n",
    "    for j, col in enumerate(WM_cluster_cg.T):\n",
    "        new_match={}\n",
    "        sn_ind = j + 1 # supernode ind\n",
    "        window = [i+1 for i,x in enumerate(col) if x > 0] # sn_ind supernode matches to cluster_t_inds\n",
    "        n_sn = len(supernode['supernode{}'.format(sn_ind)]['node_ids']) # may have overlap_size supernodes in maximum\n",
    "        # new_match = {n_sn > 1} otherwise {}\n",
    "        # 1. Node size in supernode >= 1 and matching window size = 1. Don't need to split.\n",
    "        # 2. Node size in supernode = 1 and matching window size is > 1. Repeat matching the same supernode.\n",
    "        # 3. Node size in supernode > 1 and matching window size = Node size in supernode. Random a 1-to-1 match.\n",
    "        # 4. Node size in supernode > 1 and matching window size > Node size in supernode. \n",
    "        #    Random repeat some nodes to meet a 1-to-1 match.'\n",
    "        # 5. Node size in supernode > 1 and matching window size < Node size in supernode. \n",
    "        #    Random select some nodes to meet a 1-to-1 match.')\n",
    "        if n_sn > 1:\n",
    "            candi = list(range(n_sn))\n",
    "            random.shuffle(candi)\n",
    "            if len(window) < n_sn:\n",
    "                n = math.ceil(n_sn/len(window))\n",
    "                candi += candi\n",
    "            for i,ind in enumerate(window):\n",
    "                if len(window) >= n_sn:\n",
    "                    if i < n_sn:\n",
    "                        new_match[ind] = [candi[i]]\n",
    "                    else:\n",
    "                        new_match[ind] = [random.randint(0,n_sn-1)]\n",
    "                else:\n",
    "                    new_match[ind] = candi[i*n:(i+1)*n]\n",
    "        match['supernode{}'.format(sn_ind)] = {'match': new_match, 'window': window}\n",
    "    print(\"match result: {}\".format(match))\n",
    "    return match\n",
    "\n",
    "def supernode_split(supernode, WM_cluster_cg):\n",
    "    # output: supernode_new: update keys and values; split: {old_sn_ind: new_sn_ind}; group_size_min = 1\n",
    "    match = split_random(supernode, WM_cluster_cg)\n",
    "    supernode_new = {}\n",
    "    split = {i+1: [] for i,key in enumerate(match.keys())}\n",
    "    sn_new_cnt = 1\n",
    "    for sn_ind, sn_match in zip(match.keys(),match.values()):\n",
    "        if not sn_match['match']:\n",
    "            for cluster_t_ind in sn_match['window']:\n",
    "                supernode_new['supernode{}'.format(sn_new_cnt)] = supernode[sn_ind]\n",
    "                split[int(sn_ind.replace('supernode', ''))] += [sn_new_cnt]\n",
    "                sn_new_cnt += 1\n",
    "        else:\n",
    "            for sn_n_inds in sn_match['match'].values():\n",
    "                node_ids = [supernode[sn_ind]['node_ids'][loc] for loc in sn_n_inds]\n",
    "                node_inds = [supernode[sn_ind]['node_inds'][loc] for loc in sn_n_inds]\n",
    "                supernode_new['supernode{}'.format(sn_new_cnt)] = {'node_ids': node_ids,\n",
    "                                                                   'node_inds': node_inds,\n",
    "                                                                   'supernode_deg': np.mean(node_inds)\n",
    "                                                                  }\n",
    "                split[int(sn_ind.replace('supernode', ''))] += [sn_new_cnt]\n",
    "                sn_new_cnt += 1\n",
    "    group_size_min = 1\n",
    "    print(\"split results: {}\".format(split))\n",
    "    print(\"minimum group_size: {}\".format(group_size_min))\n",
    "    return supernode_new, split, group_size_min\n",
    "\n",
    "# supernode, split, group_size_min = supernode_split(supernode_initial, WM_cluster_cg_initial)"
   ]
  },
  {
   "cell_type": "markdown",
   "metadata": {
    "scrolled": true
   },
   "source": [
    "## 4.3 Update Links across Graph Clusters\n",
    "\n",
    "`link_dic_merge` and `link_dic_split` reports cross graph links on clusters along with `supernode_mearge` or `supernode_split` and return `E_dic`."
   ]
  },
  {
   "cell_type": "code",
   "execution_count": 24,
   "metadata": {},
   "outputs": [],
   "source": [
    "## update E_dic acording to merge result\n",
    "def link_dic_merge(E_dic,merge):\n",
    "    receiving_set = list(np.array(merge).T[1])\n",
    "    merging_set = list(np.array(merge).T[0])\n",
    "    for sn in receiving_set:\n",
    "        if sn in merging_set:\n",
    "            loc_r = receiving_set.index(sn)\n",
    "            loc_m = merging_set.index(sn)\n",
    "            merge[loc_r][1] = merge[loc_m][1]        \n",
    "    # for example, merge [8->9] [9->10] will be updated as [8->10] [9->10]\n",
    "    for key in E_dic.keys():\n",
    "        for mr in merge:\n",
    "            if mr[0] in E_dic[key]: E_dic[key][list(E_dic[key]).index(mr[0])] = mr[1]\n",
    "        E_dic[key] = np.unique(E_dic[key])\n",
    "    inds = np.unique(sorted(set(chain(*E_dic.values()))))\n",
    "    ind_to_newind = dict(zip(inds,range(1,len(inds)+1)))\n",
    "    for key,value in zip(E_dic.keys(),E_dic.values()):\n",
    "        E_dic[key] = [ind_to_newind[x] for x in value]\n",
    "    return E_dic\n",
    "# E_dic = link_dic_merge(E_dic,merge)"
   ]
  },
  {
   "cell_type": "code",
   "execution_count": 25,
   "metadata": {},
   "outputs": [],
   "source": [
    "## update E_dic acording to split result\n",
    "def link_dic_split(E_dic,split):  \n",
    "    for key,value in zip(E_dic.keys(),E_dic.values()):\n",
    "        for i,x in enumerate(value):\n",
    "            E_dic[key][i] = split[x][0]\n",
    "            del split[x][0]\n",
    "        E_dic[key] = list(E_dic[key])\n",
    "    return E_dic\n",
    "# E_dic = link_dic_split(E_dic,split)"
   ]
  },
  {
   "cell_type": "markdown",
   "metadata": {},
   "source": [
    "## 4.4 Update Weight Adjacency Matrix across Graph Clusters\n",
    "\n",
    "`cg_weight_matrix_update` returns `WM_cluster_cg` every time `supernode_mearge` or `supernode_split` happens."
   ]
  },
  {
   "cell_type": "code",
   "execution_count": 26,
   "metadata": {},
   "outputs": [],
   "source": [
    "# update WM_cluster_cg \n",
    "def cg_weight_matrix_update(supernode,E_dic,deg_t):\n",
    "    WM_cluster_cg = np.zeros((len(E_dic),len(supernode)),dtype=float)\n",
    "    print(\"---- Size of weight adjacency matrix of cross graph clusters: {}\".format(WM_cluster_cg.shape))\n",
    "    for key, value in zip(E_dic.keys(),E_dic.values()):\n",
    "        for j in value:\n",
    "            WM_cluster_cg[key-1][j-1] = \\\n",
    "            min(deg_t[key-1],supernode['supernode{}'.format(j)]['supernode_deg']) / \\\n",
    "            max(deg_t[key-1],supernode['supernode{}'.format(j)]['supernode_deg']) \n",
    "    return WM_cluster_cg\n",
    "# WM_cluster_cg = cg_weight_matrix_update(supernode,E_dic,deg_t)"
   ]
  },
  {
   "cell_type": "markdown",
   "metadata": {},
   "source": [
    "## 4.5 Objective Function\n",
    "\n",
    "In objective function calculated by `obj_main`, power-law slope ratio across graphs `slope_cg` is a fix quantify, `eta` is updated in each iteration by `obj_eta`, and `C`, `Gamma` and `Lambda` are parameters.  "
   ]
  },
  {
   "cell_type": "code",
   "execution_count": 27,
   "metadata": {},
   "outputs": [
    {
     "name": "stdout",
     "output_type": "stream",
     "text": [
      "Power-law slope ratio of source graph on degrees: -1.8684146795338967\n",
      "Power-law slope ratio of target graph on degrees: -0.6192288646743601\n",
      "Power-law slope ratio across graphs: -1.8684146795338967\n"
     ]
    }
   ],
   "source": [
    "# power-law slope ratio a_plus in objective function\n",
    "slope_s = linregress(log_deg_s, log_cnt_s)[0]\n",
    "slope_t = linregress(log_deg_t, log_cnt_t)[0]\n",
    "slope_cg = min(slope_s, slope_t)\n",
    "print(\"Power-law slope ratio of source graph on degrees: {}\".format(slope_s))\n",
    "print(\"Power-law slope ratio of target graph on degrees: {}\".format(slope_t))\n",
    "print(\"Power-law slope ratio across graphs: {}\".format(slope_cg))"
   ]
  },
  {
   "cell_type": "code",
   "execution_count": 28,
   "metadata": {},
   "outputs": [],
   "source": [
    "# eta in objective function\n",
    "def obj_eta(Gamma, Lambda, WM_cluster_cg):\n",
    "    eta = 1/WM_cluster_cg.shape[0]*math.exp((1-math.pow(WM_cluster_cg.shape[1],2))/\\\n",
    "                                            WM_cluster_cg.shape[1])*Gamma*math.exp(Lambda)\n",
    "    return eta"
   ]
  },
  {
   "cell_type": "code",
   "execution_count": 29,
   "metadata": {},
   "outputs": [],
   "source": [
    "# objective function\n",
    "# parameters: C, Gamma, Lambda\n",
    "def obj_main(g_nx_t,slope_cg,WM_cluster_cg,node_id_to_cluster_ind_t,supernode,C):\n",
    "    h = 0\n",
    "    w, e = [], []\n",
    "    eta = obj_eta(Gamma, Lambda, WM_cluster_cg)\n",
    "    for node_id_t in g_nx_t.nodes():\n",
    "        vec_w = weight_vector(node_id_t, WM_cluster_cg, node_id_to_cluster_ind_t)\n",
    "        vec_e = link_vector(vec_w)\n",
    "        h += math.log(C) - slope_cg*math.log(sum(vec_w*vec_w))\n",
    "        w.append(list(vec_w))\n",
    "        e.append(list(vec_e))\n",
    "    h *= eta\n",
    "    return h, w, e"
   ]
  },
  {
   "cell_type": "markdown",
   "metadata": {},
   "source": [
    "# 5. Node Balance Training\n",
    "\n",
    "`CD2L-NodeBalance` training ends at unique cluster match `WM_cluster_cg.shape[1]` == `n_deg_t` or objetive function is optimized `h` <= `H[-1]`."
   ]
  },
  {
   "cell_type": "code",
   "execution_count": 30,
   "metadata": {},
   "outputs": [
    {
     "name": "stdout",
     "output_type": "stream",
     "text": [
      ">>>>> merge iteration 1 <<<<<\n",
      "-------- merging supernode 1 -> supernode 2\n",
      "-------- merging supernode 6 -> supernode 7\n",
      "-------- merging supernode 12 -> supernode 13\n",
      "-------- merging supernode 17 -> supernode 18\n",
      "-------- merging supernode 25 -> supernode 26\n",
      "-------- merging supernode 27 -> supernode 28\n",
      "-------- merging supernode 31 -> supernode 32\n",
      "---- Number of supernodes: 37 -> 30. Group size: 7 -> 6.\n",
      "supernodes: dict_keys(['supernode1', 'supernode2', 'supernode3', 'supernode4', 'supernode5', 'supernode6', 'supernode7', 'supernode8', 'supernode9', 'supernode10', 'supernode11', 'supernode12', 'supernode13', 'supernode14', 'supernode15', 'supernode16', 'supernode17', 'supernode18', 'supernode19', 'supernode20', 'supernode21', 'supernode22', 'supernode23', 'supernode24', 'supernode25', 'supernode26', 'supernode27', 'supernode28', 'supernode29', 'supernode30'])\n",
      "---- Size of weight adjacency matrix of cross graph clusters: (7, 30)\n",
      "---- h = 2.3993595585783115e-11\n",
      ">>>>> merge iteration 2 <<<<<\n",
      "-------- merging supernode 2 -> supernode 3\n",
      "-------- merging supernode 6 -> supernode 7\n",
      "-------- merging supernode 11 -> supernode 12\n",
      "-------- merging supernode 13 -> supernode 14\n",
      "-------- merging supernode 19 -> supernode 20\n",
      "-------- merging supernode 21 -> supernode 22\n",
      "-------- merging supernode 25 -> supernode 26\n",
      "---- Number of supernodes: 30 -> 23. Group size: 7 -> 6.\n",
      "supernodes: dict_keys(['supernode1', 'supernode2', 'supernode3', 'supernode4', 'supernode5', 'supernode6', 'supernode7', 'supernode8', 'supernode9', 'supernode10', 'supernode11', 'supernode12', 'supernode13', 'supernode14', 'supernode15', 'supernode16', 'supernode17', 'supernode18', 'supernode19', 'supernode20', 'supernode21', 'supernode22', 'supernode23'])\n",
      "---- Size of weight adjacency matrix of cross graph clusters: (7, 23)\n",
      "---- h = 7.147999322104025e-08\n",
      ">>>>> merge iteration 3 <<<<<\n",
      "-------- merging supernode 3 -> supernode 4\n",
      "-------- merging supernode 6 -> supernode 7\n",
      "-------- merging supernode 9 -> supernode 10\n",
      "-------- merging supernode 12 -> supernode 13\n",
      "-------- merging supernode 14 -> supernode 15\n",
      "-------- merging supernode 17 -> supernode 18\n",
      "-------- merging supernode 23 -> supernode 22\n",
      "---- Number of supernodes: 23 -> 16. Group size: 7 -> 6.\n",
      "supernodes: dict_keys(['supernode1', 'supernode2', 'supernode3', 'supernode4', 'supernode5', 'supernode6', 'supernode7', 'supernode8', 'supernode9', 'supernode10', 'supernode11', 'supernode12', 'supernode13', 'supernode14', 'supernode15', 'supernode16'])\n",
      "---- Size of weight adjacency matrix of cross graph clusters: (7, 16)\n",
      "---- h = 0.00012817505675103476\n",
      ">>>>> merge iteration 4 <<<<<\n",
      "-------- merging supernode 1 -> supernode 2\n",
      "-------- merging supernode 4 -> supernode 5\n",
      "-------- merging supernode 6 -> supernode 7\n",
      "-------- merging supernode 8 -> supernode 9\n",
      "-------- merging supernode 9 -> supernode 10\n",
      "-------- merging supernode 11 -> supernode 12\n",
      "-------- merging supernode 14 -> supernode 15\n",
      "---- Number of supernodes: 16 -> 9. Group size: 7 -> 6.\n",
      "supernodes: dict_keys(['supernode1', 'supernode2', 'supernode3', 'supernode4', 'supernode5', 'supernode6', 'supernode7', 'supernode8', 'supernode9'])\n",
      "---- Size of weight adjacency matrix of cross graph clusters: (7, 9)\n",
      "---- h = 0.20353409931306574\n"
     ]
    }
   ],
   "source": [
    "## parameters\n",
    "C=1\n",
    "Gamma=10\n",
    "Lambda=1\n",
    "\n",
    "## initial\n",
    "iteration = 0\n",
    "supernode = supernode_initial\n",
    "WM_cluster_cg = WM_cluster_cg_initial\n",
    "n_deg_t = WM_cluster_cg.shape[0]\n",
    "h, _, _ = obj_main(g_nx_t,slope_cg,WM_cluster_cg,node_id_to_cluster_ind_t,supernode,C)\n",
    "H = [0, h]\n",
    "group_size_min = WM_cluster_cg.shape[1]\n",
    "\n",
    "## train\n",
    "while group_size_min > 3:\n",
    "    if n_deg_t > n_deg_s: # split supernode\n",
    "        # update supernode by split\n",
    "        print(\">>>>> splitting supernodes <<<<<\")\n",
    "        supernode, split, group_size_min = supernode_split(supernode, WM_cluster_cg)\n",
    "        # update cg link dic\n",
    "        E_dic = link_dic_split(E_dic,split)\n",
    "        C /= 100\n",
    "    \n",
    "    if n_deg_t < n_deg_s: # merge supernode\n",
    "        iteration += 1\n",
    "        print(\">>>>> merge iteration {} <<<<<\".format(iteration))\n",
    "        # update supernode by merge\n",
    "        supernode, merge, group_size_min = supernode_mearge(n_deg_t, supernode, group_size, WM_cluster_cg)\n",
    "        print(\"supernodes: {}\".format(supernode.keys()))\n",
    "        # update cg link dic\n",
    "        E_dic = link_dic_merge(E_dic,merge)\n",
    "        C *= 100\n",
    "    \n",
    "    # update cg cluster weight matrix\n",
    "    WM_cluster_cg = cg_weight_matrix_update(supernode,E_dic,deg_t)\n",
    "    # estimate objective function\n",
    "    h, w, e = obj_main(g_nx_t,slope_cg,WM_cluster_cg,node_id_to_cluster_ind_t,supernode,C)\n",
    "    print(\"---- h = {}\".format(h))\n",
    "    if h>H[-1]: H.append(h) \n",
    "    else: break\n",
    "del H[0]\n",
    "\n",
    "# return and save w,e\n",
    "# line: node_ind of target graph; column: supernode_ind of source graph\n",
    "if n_deg_t > n_deg_s: # split supernode\n",
    "    np.savez('cora_NodeBalance_result_split_case', weight=w, edge=e, supernode=supernode)\n",
    "if n_deg_t < n_deg_s: # merge supernode\n",
    "    np.savez('cora_NodeBalance_result_merge_case', weight=w, edge=e, supernode=supernode)"
   ]
  },
  {
   "cell_type": "markdown",
   "metadata": {},
   "source": [
    "# 6. Visualize Final Matching"
   ]
  },
  {
   "cell_type": "code",
   "execution_count": 31,
   "metadata": {},
   "outputs": [
    {
     "name": "stdout",
     "output_type": "stream",
     "text": [
      "H from iteration 1 to iteration 5: [-1.615453251118348e-14, 2.3993595585783115e-11, 7.147999322104025e-08, 0.00012817505675103476, 0.20353409931306574]\n",
      "\n"
     ]
    },
    {
     "data": {
      "image/png": "[encoded data removed]",
      "text/plain": [
       "<Figure size 432x288 with 1 Axes>"
      ]
     },
     "metadata": {
      "needs_background": "light"
     },
     "output_type": "display_data"
    }
   ],
   "source": [
    "if len(H) > 1:\n",
    "    print(\"H from iteration 1 to iteration {}: {}\\n\".format(len(H),H))\n",
    "    plt.scatter(range(1,len(H)+1),H, label= \"H\", marker= \"*\", s=30)\n",
    "    plt.show()\n",
    "else: \n",
    "    print(\"H = {}\".format(H[0]))"
   ]
  },
  {
   "cell_type": "code",
   "execution_count": 32,
   "metadata": {},
   "outputs": [
    {
     "name": "stdout",
     "output_type": "stream",
     "text": [
      "Final cross graph links between target cluster to source supernode: \n",
      " {1: [1, 2], 2: [2, 3, 4], 3: [3, 4], 4: [4, 5], 5: [5, 6], 6: [6, 7], 7: [7, 8, 9]}\n"
     ]
    }
   ],
   "source": [
    "print(\"Final cross graph links between target cluster to source supernode: \\n {}\".format(E_dic))"
   ]
  },
  {
   "cell_type": "code",
   "execution_count": 33,
   "metadata": {},
   "outputs": [
    {
     "name": "stdout",
     "output_type": "stream",
     "text": [
      "Label supernodes of source graph from 1 to 9. Label clusters of target graph from 10 to 16.\n"
     ]
    },
    {
     "data": {
      "image/png": "[encoded data removed]",
      "text/plain": [
       "<Figure size 432x288 with 1 Axes>"
      ]
     },
     "metadata": {},
     "output_type": "display_data"
    }
   ],
   "source": [
    "c_s = list(range(1,max(max(E_dic.values()))+1))\n",
    "c_t = list(E_dic.keys())\n",
    "E_cg = [[t_i,s_i+len(c_t)] for t_i in c_t for s_i in E_dic[t_i]]\n",
    "df = pd.DataFrame(\n",
    "    {'supernode': np.array(E_cg).T[1],\n",
    "     'target_cluster': np.array(E_cg).T[0]})\n",
    "\n",
    "g_nx_cg = nx.Graph()\n",
    "g_nx_cg.add_nodes_from(df['supernode'], bipartite=1)\n",
    "g_nx_cg.add_nodes_from(df['target_cluster'], bipartite=0)\n",
    "g_nx_cg.add_edges_from([(row['target_cluster'], row['supernode']) for idx, row in df.iterrows()])\n",
    "print(\"Label supernodes of source graph from 1 to {}. \\\n",
    "Label clusters of target graph from {} to {}.\".format(len(c_s),len(c_s)+1,len(c_t)+len(c_s)))\n",
    "\n",
    "if case is 'split':\n",
    "    plt.figure(1,figsize=(5,14))\n",
    "pos = {node:[0, i] for i,node in enumerate(df['target_cluster'])}\n",
    "pos.update({node:[1, i] for i,node in enumerate(df['supernode'])})\n",
    "nx.draw(g_nx_cg, pos, with_labels=False)\n",
    "nx.draw_networkx_labels(g_nx_cg, pos)\n",
    "\n",
    "plt.show()"
   ]
  }
 ],
 "metadata": {
  "kernelspec": {
   "display_name": "Python 3",
   "language": "python",
   "name": "python3"
  },
  "language_info": {
   "codemirror_mode": {
    "name": "ipython",
    "version": 3
   },
   "file_extension": ".py",
   "mimetype": "text/x-python",
   "name": "python",
   "nbconvert_exporter": "python",
   "pygments_lexer": "ipython3",
   "version": "3.7.1"
  }
 },
 "nbformat": 4,
 "nbformat_minor": 2
}
