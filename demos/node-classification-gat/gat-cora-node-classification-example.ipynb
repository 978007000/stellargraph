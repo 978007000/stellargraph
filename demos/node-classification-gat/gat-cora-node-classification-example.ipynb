{
 "cells": [
  {
   "cell_type": "markdown",
   "metadata": {},
   "source": [
    "# Stellargraph example: Graph Attention Network (GAT) on the CORA citation dataset"
   ]
  },
  {
   "cell_type": "markdown",
   "metadata": {},
   "source": [
    "Import NetworkX and stellar:"
   ]
  },
  {
   "cell_type": "code",
   "execution_count": 1,
   "metadata": {},
   "outputs": [
    {
     "name": "stderr",
     "output_type": "stream",
     "text": [
      "Using TensorFlow backend.\n"
     ]
    }
   ],
   "source": [
    "import networkx as nx\n",
    "import pandas as pd\n",
    "import os\n",
    "\n",
    "import stellargraph as sg\n",
    "from stellargraph.mapper import FullBatchNodeGenerator\n",
    "from stellargraph.layer import GAT\n",
    "\n",
    "from keras import layers, optimizers, losses, metrics, Model\n",
    "from sklearn import preprocessing, feature_extraction, model_selection"
   ]
  },
  {
   "cell_type": "markdown",
   "metadata": {},
   "source": [
    "### Loading the CORA network"
   ]
  },
  {
   "cell_type": "markdown",
   "metadata": {},
   "source": [
    "**Downloading the CORA dataset:**\n",
    "    \n",
    "The dataset used in this demo can be downloaded from https://linqs-data.soe.ucsc.edu/public/lbc/cora.tgz\n",
    "\n",
    "The following is the description of the dataset:\n",
    "> The Cora dataset consists of 2708 scientific publications classified into one of seven classes.\n",
    "> The citation network consists of 5429 links. Each publication in the dataset is described by a\n",
    "> 0/1-valued word vector indicating the absence/presence of the corresponding word from the dictionary.\n",
    "> The dictionary consists of 1433 unique words. The README file in the dataset provides more details.\n",
    "\n",
    "Download and unzip the cora.tgz file to a location on your computer and set the `data_dir` variable to\n",
    "point to the location of the dataset (the directory containing \"cora.cites\" and \"cora.content\")."
   ]
  },
  {
   "cell_type": "code",
   "execution_count": 2,
   "metadata": {},
   "outputs": [],
   "source": [
    "data_dir = os.path.expanduser(\"~/data/cora\")"
   ]
  },
  {
   "cell_type": "markdown",
   "metadata": {},
   "source": [
    "Load the graph from edgelist"
   ]
  },
  {
   "cell_type": "code",
   "execution_count": 3,
   "metadata": {},
   "outputs": [],
   "source": [
    "edgelist = pd.read_table(os.path.join(data_dir, \"cora.cites\"), header=None, names=[\"source\", \"target\"])\n",
    "edgelist[\"label\"] = \"cites\""
   ]
  },
  {
   "cell_type": "code",
   "execution_count": 4,
   "metadata": {},
   "outputs": [],
   "source": [
    "Gnx = nx.from_pandas_edgelist(edgelist, edge_attr=\"label\")"
   ]
  },
  {
   "cell_type": "code",
   "execution_count": 5,
   "metadata": {},
   "outputs": [],
   "source": [
    "nx.set_node_attributes(Gnx, \"paper\", \"label\")"
   ]
  },
  {
   "cell_type": "markdown",
   "metadata": {},
   "source": [
    "Load the features and subject for the nodes"
   ]
  },
  {
   "cell_type": "code",
   "execution_count": 6,
   "metadata": {},
   "outputs": [],
   "source": [
    "feature_names = [\"w_{}\".format(ii) for ii in range(1433)]\n",
    "column_names =  feature_names + [\"subject\"]\n",
    "node_data = pd.read_table(os.path.join(data_dir, \"cora.content\"), header=None, names=column_names)"
   ]
  },
  {
   "cell_type": "markdown",
   "metadata": {},
   "source": [
    "We aim to train a graph-ML model that will predict the \"subject\" attribute on the nodes. These subjects are one of 7 categories:"
   ]
  },
  {
   "cell_type": "code",
   "execution_count": 7,
   "metadata": {},
   "outputs": [
    {
     "data": {
      "text/plain": [
       "{'Case_Based',\n",
       " 'Genetic_Algorithms',\n",
       " 'Neural_Networks',\n",
       " 'Probabilistic_Methods',\n",
       " 'Reinforcement_Learning',\n",
       " 'Rule_Learning',\n",
       " 'Theory'}"
      ]
     },
     "execution_count": 7,
     "metadata": {},
     "output_type": "execute_result"
    }
   ],
   "source": [
    "set(node_data[\"subject\"])"
   ]
  },
  {
   "cell_type": "markdown",
   "metadata": {},
   "source": [
    "### Splitting the data"
   ]
  },
  {
   "cell_type": "markdown",
   "metadata": {},
   "source": [
    "For machine learning we want to take a subset of the nodes for training, and use the rest for validation and testing. We'll use scikit-learn again to do this.\n",
    "\n",
    "Here we're taking 140 node labels for training, 500 for validation, and the rest for testing."
   ]
  },
  {
   "cell_type": "code",
   "execution_count": 8,
   "metadata": {},
   "outputs": [],
   "source": [
    "train_data, test_data = model_selection.train_test_split(node_data, train_size=140, test_size=None, stratify=node_data['subject'])\n",
    "val_data, test_data = model_selection.train_test_split(test_data, train_size=500, test_size=None, stratify=test_data['subject'])"
   ]
  },
  {
   "cell_type": "markdown",
   "metadata": {},
   "source": [
    "Note using stratified sampling gives the following counts:"
   ]
  },
  {
   "cell_type": "code",
   "execution_count": 9,
   "metadata": {},
   "outputs": [
    {
     "data": {
      "text/plain": [
       "Counter({'Probabilistic_Methods': 22,\n",
       "         'Neural_Networks': 42,\n",
       "         'Theory': 18,\n",
       "         'Case_Based': 16,\n",
       "         'Genetic_Algorithms': 22,\n",
       "         'Reinforcement_Learning': 11,\n",
       "         'Rule_Learning': 9})"
      ]
     },
     "execution_count": 9,
     "metadata": {},
     "output_type": "execute_result"
    }
   ],
   "source": [
    "from collections import Counter\n",
    "Counter(train_data['subject'])"
   ]
  },
  {
   "cell_type": "markdown",
   "metadata": {},
   "source": [
    "The training set has class imbalance that might need to be compensated, e.g., via using a weighted cross-entropy loss in model training, with class weights inversely proportional to class support. However, we will ignore the class imbalance in this example, for simplicity."
   ]
  },
  {
   "cell_type": "markdown",
   "metadata": {},
   "source": [
    "### Converting to numeric arrays"
   ]
  },
  {
   "cell_type": "markdown",
   "metadata": {},
   "source": [
    "For our categorical target, we will use one-hot vectors that will be fed into a soft-max Keras layer during training. To do this conversion ..."
   ]
  },
  {
   "cell_type": "code",
   "execution_count": 10,
   "metadata": {},
   "outputs": [],
   "source": [
    "target_encoding = feature_extraction.DictVectorizer(sparse=False)\n",
    "\n",
    "train_targets = target_encoding.fit_transform(train_data[[\"subject\"]].to_dict('records'))\n",
    "val_targets = target_encoding.transform(val_data[[\"subject\"]].to_dict('records'))\n",
    "test_targets = target_encoding.transform(test_data[[\"subject\"]].to_dict('records'))"
   ]
  },
  {
   "cell_type": "markdown",
   "metadata": {},
   "source": [
    "We now do the same for the node attributes we want to use to predict the subject. These are the feature vectors that the Keras model will use as input. The CORA dataset contains attributes 'w_x' that correspond to words found in that publication. If a word occurs more than once in a publication the relevant attribute will be set to one, otherwise it will be zero."
   ]
  },
  {
   "cell_type": "code",
   "execution_count": 11,
   "metadata": {},
   "outputs": [],
   "source": [
    "node_features = node_data[feature_names]"
   ]
  },
  {
   "cell_type": "markdown",
   "metadata": {},
   "source": [
    "## Creating the GAT model in Keras"
   ]
  },
  {
   "cell_type": "markdown",
   "metadata": {},
   "source": [
    "Now create a StellarGraph object from the NetworkX graph and the node features and targets. It is StellarGraph objects that we use in this library to perform machine learning tasks on."
   ]
  },
  {
   "cell_type": "code",
   "execution_count": 12,
   "metadata": {},
   "outputs": [],
   "source": [
    "G = sg.StellarGraph(Gnx, node_features=node_features)"
   ]
  },
  {
   "cell_type": "code",
   "execution_count": 13,
   "metadata": {},
   "outputs": [
    {
     "name": "stdout",
     "output_type": "stream",
     "text": [
      "StellarGraph: Undirected multigraph\n",
      " Nodes: 2708, Edges: 5278\n",
      "\n",
      " Node types:\n",
      "  paper: [2708]\n",
      "    Edge types: paper-cites->paper\n",
      "\n",
      " Edge types:\n",
      "    paper-cites->paper: [5278]\n",
      "\n"
     ]
    }
   ],
   "source": [
    "print(G.info())"
   ]
  },
  {
   "cell_type": "markdown",
   "metadata": {},
   "source": [
    "To feed data from the graph to the Keras model we need a generator. Since GAT is a full-batch model, we use the `FullBatchNodeGenerator` class to feed node features and graph adjacency matrix to the model."
   ]
  },
  {
   "cell_type": "code",
   "execution_count": 14,
   "metadata": {},
   "outputs": [],
   "source": [
    "generator = FullBatchNodeGenerator(G)"
   ]
  },
  {
   "cell_type": "markdown",
   "metadata": {},
   "source": [
    "For training we map only the training nodes returned from our splitter and the target values."
   ]
  },
  {
   "cell_type": "code",
   "execution_count": 15,
   "metadata": {},
   "outputs": [],
   "source": [
    "train_gen = generator.flow(train_data.index, train_targets)"
   ]
  },
  {
   "cell_type": "markdown",
   "metadata": {},
   "source": [
    "Now we can specify our machine learning model, we need a few more parameters for this:\n",
    "\n",
    " * the `layer_sizes` is a list of hidden feature sizes of each layer in the model. In this example we use two GAT layers with 8-dimensional hidden node features at each layer.\n",
    " * `attn_heads` is the number of attention heads in all but the last GAT layer in the model\n",
    " * `activations` is a list of activations applied to each layer's output\n",
    " * Arguments such as `bias`, `in_dropout`, `attn_dropout` are internal parameters of the model, execute `?GAT` for details. "
   ]
  },
  {
   "cell_type": "code",
   "execution_count": 16,
   "metadata": {},
   "outputs": [],
   "source": [
    "gat = GAT(\n",
    "    layer_sizes=[8, 8],\n",
    "    attn_heads=8,\n",
    "    generator=generator,\n",
    "    bias=True,\n",
    "    in_dropout=0.5,\n",
    "    attn_dropout=0.5,\n",
    "    activations=[\"elu\",\"elu\"],\n",
    "    normalize=None\n",
    ")"
   ]
  },
  {
   "cell_type": "code",
   "execution_count": 17,
   "metadata": {},
   "outputs": [],
   "source": [
    "# Expose the input and output tensors of the GAT model for node prediction, via GAT.node_model() method:\n",
    "x_inp, x_out = gat.node_model()"
   ]
  },
  {
   "cell_type": "markdown",
   "metadata": {},
   "source": [
    "Note that `x_inp` is a list of two input tensors, one for node features, the other for graph adjacency matrix"
   ]
  },
  {
   "cell_type": "code",
   "execution_count": 18,
   "metadata": {},
   "outputs": [
    {
     "data": {
      "text/plain": [
       "[<tf.Tensor 'input_1:0' shape=(?, 1433) dtype=float32>,\n",
       " <tensorflow.python.framework.sparse_tensor.SparseTensor at 0xa0e3a3198>]"
      ]
     },
     "execution_count": 18,
     "metadata": {},
     "output_type": "execute_result"
    }
   ],
   "source": [
    "x_inp"
   ]
  },
  {
   "cell_type": "markdown",
   "metadata": {},
   "source": [
    "Now we add the final layer to predict the 7 categories using Keras Dense layer with softmax activation."
   ]
  },
  {
   "cell_type": "code",
   "execution_count": 19,
   "metadata": {},
   "outputs": [],
   "source": [
    "# Snap the final estimator layer to x_out\n",
    "predictions = layers.Dense(units=train_targets.shape[1], activation=\"softmax\")(x_out)"
   ]
  },
  {
   "cell_type": "code",
   "execution_count": 20,
   "metadata": {},
   "outputs": [
    {
     "data": {
      "text/plain": [
       "TensorShape([Dimension(None), Dimension(7)])"
      ]
     },
     "execution_count": 20,
     "metadata": {},
     "output_type": "execute_result"
    }
   ],
   "source": [
    "predictions.shape"
   ]
  },
  {
   "cell_type": "markdown",
   "metadata": {},
   "source": [
    "### Training the model"
   ]
  },
  {
   "cell_type": "markdown",
   "metadata": {},
   "source": [
    "Now let's create the actual Keras model with the input tensors `x_inp` and output tensors being the predictions `predictions` from the final dense layer"
   ]
  },
  {
   "cell_type": "code",
   "execution_count": 21,
   "metadata": {},
   "outputs": [],
   "source": [
    "model = Model(inputs=x_inp, outputs=predictions)\n",
    "model.compile(\n",
    "    optimizer=optimizers.Adam(lr=0.005),\n",
    "    loss=losses.categorical_crossentropy,\n",
    "    weighted_metrics=[\"acc\"],\n",
    ")"
   ]
  },
  {
   "cell_type": "markdown",
   "metadata": {},
   "source": [
    "Train the model, keeping track of its loss and accuracy on the training set, and its generalisation performance on the validation set (we need to create another generator over the validation data for this)"
   ]
  },
  {
   "cell_type": "code",
   "execution_count": 22,
   "metadata": {},
   "outputs": [],
   "source": [
    "val_gen = generator.flow(val_data.index, val_targets)"
   ]
  },
  {
   "cell_type": "markdown",
   "metadata": {},
   "source": [
    "Create callbacks for early stopping (if validation accuracy stops improving) and best model checkpoint saving:"
   ]
  },
  {
   "cell_type": "code",
   "execution_count": 23,
   "metadata": {},
   "outputs": [],
   "source": [
    "from keras.callbacks import EarlyStopping, ModelCheckpoint\n",
    "if not os.path.isdir(\"logs\"):\n",
    "    os.makedirs(\"logs\")\n",
    "es_callback = EarlyStopping(monitor=\"val_weighted_acc\", patience=50)  # patience is the number of epochs to wait before early stopping in case of no further improvement\n",
    "mc_callback = ModelCheckpoint(\n",
    "    \"logs/best_model.h5\",\n",
    "    monitor=\"val_weighted_acc\",\n",
    "    save_best_only=True,\n",
    "    save_weights_only=True,\n",
    ")"
   ]
  },
  {
   "cell_type": "markdown",
   "metadata": {},
   "source": [
    "Train the model"
   ]
  },
  {
   "cell_type": "code",
   "execution_count": 24,
   "metadata": {},
   "outputs": [
    {
     "name": "stdout",
     "output_type": "stream",
     "text": [
      "Epoch 1/500\n",
      " - 4s - loss: 1.9661 - weighted_acc: 0.1643 - val_loss: 1.8734 - val_weighted_acc: 0.2720\n",
      "Epoch 2/500\n",
      " - 2s - loss: 1.9890 - weighted_acc: 0.1429 - val_loss: 1.8231 - val_weighted_acc: 0.3920\n",
      "Epoch 3/500\n",
      " - 2s - loss: 1.9235 - weighted_acc: 0.2143 - val_loss: 1.7746 - val_weighted_acc: 0.4180\n",
      "Epoch 4/500\n",
      " - 2s - loss: 1.8262 - weighted_acc: 0.2929 - val_loss: 1.7291 - val_weighted_acc: 0.4100\n",
      "Epoch 5/500\n",
      " - 2s - loss: 1.8315 - weighted_acc: 0.3214 - val_loss: 1.6902 - val_weighted_acc: 0.4160\n",
      "Epoch 6/500\n",
      " - 2s - loss: 1.8224 - weighted_acc: 0.3429 - val_loss: 1.6528 - val_weighted_acc: 0.4340\n",
      "Epoch 7/500\n",
      " - 2s - loss: 1.7241 - weighted_acc: 0.3643 - val_loss: 1.6179 - val_weighted_acc: 0.4440\n",
      "Epoch 8/500\n",
      " - 2s - loss: 1.6607 - weighted_acc: 0.4429 - val_loss: 1.5832 - val_weighted_acc: 0.4580\n",
      "Epoch 9/500\n",
      " - 2s - loss: 1.7069 - weighted_acc: 0.4000 - val_loss: 1.5497 - val_weighted_acc: 0.4760\n",
      "Epoch 10/500\n",
      " - 2s - loss: 1.6251 - weighted_acc: 0.5000 - val_loss: 1.5160 - val_weighted_acc: 0.4840\n",
      "Epoch 11/500\n",
      " - 2s - loss: 1.6000 - weighted_acc: 0.4500 - val_loss: 1.4821 - val_weighted_acc: 0.4940\n",
      "Epoch 12/500\n",
      " - 2s - loss: 1.5733 - weighted_acc: 0.4929 - val_loss: 1.4490 - val_weighted_acc: 0.5120\n",
      "Epoch 13/500\n",
      " - 2s - loss: 1.5947 - weighted_acc: 0.4643 - val_loss: 1.4175 - val_weighted_acc: 0.5180\n",
      "Epoch 14/500\n",
      " - 2s - loss: 1.5926 - weighted_acc: 0.4429 - val_loss: 1.3873 - val_weighted_acc: 0.5260\n",
      "Epoch 15/500\n",
      " - 2s - loss: 1.4769 - weighted_acc: 0.5000 - val_loss: 1.3576 - val_weighted_acc: 0.5560\n",
      "Epoch 16/500\n",
      " - 2s - loss: 1.3949 - weighted_acc: 0.5357 - val_loss: 1.3275 - val_weighted_acc: 0.5700\n",
      "Epoch 17/500\n",
      " - 2s - loss: 1.3978 - weighted_acc: 0.5071 - val_loss: 1.2985 - val_weighted_acc: 0.5780\n",
      "Epoch 18/500\n",
      " - 2s - loss: 1.4987 - weighted_acc: 0.4786 - val_loss: 1.2722 - val_weighted_acc: 0.5880\n",
      "Epoch 19/500\n",
      " - 2s - loss: 1.3750 - weighted_acc: 0.5071 - val_loss: 1.2471 - val_weighted_acc: 0.5960\n",
      "Epoch 20/500\n",
      " - 2s - loss: 1.3736 - weighted_acc: 0.5429 - val_loss: 1.2224 - val_weighted_acc: 0.6220\n",
      "Epoch 21/500\n",
      " - 2s - loss: 1.3519 - weighted_acc: 0.5286 - val_loss: 1.1979 - val_weighted_acc: 0.6360\n",
      "Epoch 22/500\n",
      " - 2s - loss: 1.3464 - weighted_acc: 0.5786 - val_loss: 1.1738 - val_weighted_acc: 0.6560\n",
      "Epoch 23/500\n",
      " - 2s - loss: 1.3761 - weighted_acc: 0.5214 - val_loss: 1.1499 - val_weighted_acc: 0.6760\n",
      "Epoch 24/500\n",
      " - 2s - loss: 1.4350 - weighted_acc: 0.5286 - val_loss: 1.1272 - val_weighted_acc: 0.6880\n",
      "Epoch 25/500\n",
      " - 2s - loss: 1.2920 - weighted_acc: 0.5786 - val_loss: 1.1060 - val_weighted_acc: 0.7040\n",
      "Epoch 26/500\n",
      " - 2s - loss: 1.2917 - weighted_acc: 0.5429 - val_loss: 1.0858 - val_weighted_acc: 0.7220\n",
      "Epoch 27/500\n",
      " - 2s - loss: 1.3386 - weighted_acc: 0.5786 - val_loss: 1.0663 - val_weighted_acc: 0.7220\n",
      "Epoch 28/500\n",
      " - 2s - loss: 1.3421 - weighted_acc: 0.5571 - val_loss: 1.0481 - val_weighted_acc: 0.7300\n",
      "Epoch 29/500\n",
      " - 2s - loss: 1.3311 - weighted_acc: 0.5929 - val_loss: 1.0312 - val_weighted_acc: 0.7420\n",
      "Epoch 30/500\n",
      " - 2s - loss: 1.1879 - weighted_acc: 0.6214 - val_loss: 1.0156 - val_weighted_acc: 0.7540\n",
      "Epoch 31/500\n",
      " - 2s - loss: 1.2798 - weighted_acc: 0.5643 - val_loss: 1.0010 - val_weighted_acc: 0.7580\n",
      "Epoch 32/500\n",
      " - 2s - loss: 1.2156 - weighted_acc: 0.6286 - val_loss: 0.9867 - val_weighted_acc: 0.7600\n",
      "Epoch 33/500\n",
      " - 2s - loss: 1.2277 - weighted_acc: 0.5857 - val_loss: 0.9734 - val_weighted_acc: 0.7600\n",
      "Epoch 34/500\n",
      " - 2s - loss: 1.2223 - weighted_acc: 0.6500 - val_loss: 0.9606 - val_weighted_acc: 0.7580\n",
      "Epoch 35/500\n",
      " - 2s - loss: 1.1785 - weighted_acc: 0.5857 - val_loss: 0.9488 - val_weighted_acc: 0.7540\n",
      "Epoch 36/500\n",
      " - 2s - loss: 1.2219 - weighted_acc: 0.6071 - val_loss: 0.9379 - val_weighted_acc: 0.7520\n",
      "Epoch 37/500\n",
      " - 2s - loss: 1.1198 - weighted_acc: 0.6000 - val_loss: 0.9275 - val_weighted_acc: 0.7500\n",
      "Epoch 38/500\n",
      " - 2s - loss: 1.1530 - weighted_acc: 0.6286 - val_loss: 0.9177 - val_weighted_acc: 0.7420\n",
      "Epoch 39/500\n",
      " - 2s - loss: 1.1422 - weighted_acc: 0.6000 - val_loss: 0.9088 - val_weighted_acc: 0.7400\n",
      "Epoch 40/500\n",
      " - 2s - loss: 1.0898 - weighted_acc: 0.6429 - val_loss: 0.9004 - val_weighted_acc: 0.7380\n",
      "Epoch 41/500\n",
      " - 2s - loss: 1.0462 - weighted_acc: 0.6786 - val_loss: 0.8920 - val_weighted_acc: 0.7360\n",
      "Epoch 42/500\n",
      " - 2s - loss: 1.2132 - weighted_acc: 0.5786 - val_loss: 0.8835 - val_weighted_acc: 0.7400\n",
      "Epoch 43/500\n",
      " - 2s - loss: 1.0711 - weighted_acc: 0.6357 - val_loss: 0.8752 - val_weighted_acc: 0.7400\n",
      "Epoch 44/500\n",
      " - 2s - loss: 1.0922 - weighted_acc: 0.6429 - val_loss: 0.8671 - val_weighted_acc: 0.7420\n",
      "Epoch 45/500\n",
      " - 2s - loss: 1.1275 - weighted_acc: 0.6357 - val_loss: 0.8584 - val_weighted_acc: 0.7460\n",
      "Epoch 46/500\n",
      " - 2s - loss: 1.2133 - weighted_acc: 0.6286 - val_loss: 0.8498 - val_weighted_acc: 0.7460\n",
      "Epoch 47/500\n",
      " - 2s - loss: 1.0170 - weighted_acc: 0.6500 - val_loss: 0.8402 - val_weighted_acc: 0.7540\n",
      "Epoch 48/500\n",
      " - 2s - loss: 1.0587 - weighted_acc: 0.6643 - val_loss: 0.8323 - val_weighted_acc: 0.7580\n",
      "Epoch 49/500\n",
      " - 2s - loss: 0.9588 - weighted_acc: 0.6786 - val_loss: 0.8244 - val_weighted_acc: 0.7580\n",
      "Epoch 50/500\n",
      " - 2s - loss: 1.1348 - weighted_acc: 0.6500 - val_loss: 0.8173 - val_weighted_acc: 0.7640\n",
      "Epoch 51/500\n",
      " - 2s - loss: 1.0132 - weighted_acc: 0.6500 - val_loss: 0.8102 - val_weighted_acc: 0.7700\n",
      "Epoch 52/500\n",
      " - 2s - loss: 0.9809 - weighted_acc: 0.7143 - val_loss: 0.8027 - val_weighted_acc: 0.7740\n",
      "Epoch 53/500\n",
      " - 2s - loss: 1.0986 - weighted_acc: 0.6286 - val_loss: 0.7956 - val_weighted_acc: 0.7740\n",
      "Epoch 54/500\n",
      " - 2s - loss: 1.0170 - weighted_acc: 0.7143 - val_loss: 0.7897 - val_weighted_acc: 0.7740\n",
      "Epoch 55/500\n",
      " - 2s - loss: 1.0385 - weighted_acc: 0.6643 - val_loss: 0.7845 - val_weighted_acc: 0.7780\n",
      "Epoch 56/500\n",
      " - 2s - loss: 1.1019 - weighted_acc: 0.6000 - val_loss: 0.7803 - val_weighted_acc: 0.7820\n",
      "Epoch 57/500\n",
      " - 2s - loss: 1.0404 - weighted_acc: 0.6286 - val_loss: 0.7764 - val_weighted_acc: 0.7820\n",
      "Epoch 58/500\n",
      " - 2s - loss: 1.0914 - weighted_acc: 0.6786 - val_loss: 0.7729 - val_weighted_acc: 0.7780\n",
      "Epoch 59/500\n",
      " - 2s - loss: 0.9713 - weighted_acc: 0.7000 - val_loss: 0.7694 - val_weighted_acc: 0.7800\n",
      "Epoch 60/500\n",
      " - 2s - loss: 1.0435 - weighted_acc: 0.6429 - val_loss: 0.7654 - val_weighted_acc: 0.7800\n",
      "Epoch 61/500\n",
      " - 2s - loss: 1.0660 - weighted_acc: 0.6286 - val_loss: 0.7615 - val_weighted_acc: 0.7800\n",
      "Epoch 62/500\n",
      " - 2s - loss: 0.9532 - weighted_acc: 0.6214 - val_loss: 0.7570 - val_weighted_acc: 0.7820\n",
      "Epoch 63/500\n",
      " - 2s - loss: 0.9948 - weighted_acc: 0.6786 - val_loss: 0.7528 - val_weighted_acc: 0.7840\n",
      "Epoch 64/500\n",
      " - 2s - loss: 0.9586 - weighted_acc: 0.6571 - val_loss: 0.7476 - val_weighted_acc: 0.7800\n",
      "Epoch 65/500\n",
      " - 2s - loss: 0.9793 - weighted_acc: 0.6500 - val_loss: 0.7428 - val_weighted_acc: 0.7820\n",
      "Epoch 66/500\n",
      " - 2s - loss: 1.0293 - weighted_acc: 0.6429 - val_loss: 0.7382 - val_weighted_acc: 0.7880\n",
      "Epoch 67/500\n",
      " - 2s - loss: 0.9595 - weighted_acc: 0.6714 - val_loss: 0.7341 - val_weighted_acc: 0.7900\n",
      "Epoch 68/500\n",
      " - 2s - loss: 0.9132 - weighted_acc: 0.6643 - val_loss: 0.7299 - val_weighted_acc: 0.7940\n",
      "Epoch 69/500\n",
      " - 2s - loss: 0.9586 - weighted_acc: 0.6643 - val_loss: 0.7256 - val_weighted_acc: 0.7980\n",
      "Epoch 70/500\n",
      " - 2s - loss: 0.9677 - weighted_acc: 0.6500 - val_loss: 0.7214 - val_weighted_acc: 0.8020\n",
      "Epoch 71/500\n",
      " - 2s - loss: 0.9349 - weighted_acc: 0.6357 - val_loss: 0.7175 - val_weighted_acc: 0.8020\n",
      "Epoch 72/500\n",
      " - 2s - loss: 1.0804 - weighted_acc: 0.6214 - val_loss: 0.7149 - val_weighted_acc: 0.7980\n",
      "Epoch 73/500\n",
      " - 2s - loss: 0.9843 - weighted_acc: 0.6714 - val_loss: 0.7123 - val_weighted_acc: 0.8000\n",
      "Epoch 74/500\n",
      " - 2s - loss: 1.0864 - weighted_acc: 0.6214 - val_loss: 0.7111 - val_weighted_acc: 0.8040\n",
      "Epoch 75/500\n",
      " - 2s - loss: 1.0147 - weighted_acc: 0.6214 - val_loss: 0.7108 - val_weighted_acc: 0.8000\n",
      "Epoch 76/500\n",
      " - 2s - loss: 0.9465 - weighted_acc: 0.6929 - val_loss: 0.7112 - val_weighted_acc: 0.7960\n",
      "Epoch 77/500\n",
      " - 2s - loss: 0.8238 - weighted_acc: 0.7143 - val_loss: 0.7117 - val_weighted_acc: 0.7960\n",
      "Epoch 78/500\n",
      " - 2s - loss: 0.8913 - weighted_acc: 0.7071 - val_loss: 0.7122 - val_weighted_acc: 0.7980\n",
      "Epoch 79/500\n",
      " - 2s - loss: 0.9835 - weighted_acc: 0.6643 - val_loss: 0.7118 - val_weighted_acc: 0.7960\n",
      "Epoch 80/500\n",
      " - 2s - loss: 0.9019 - weighted_acc: 0.6857 - val_loss: 0.7100 - val_weighted_acc: 0.7920\n"
     ]
    },
    {
     "name": "stdout",
     "output_type": "stream",
     "text": [
      "Epoch 81/500\n",
      " - 2s - loss: 0.8978 - weighted_acc: 0.6857 - val_loss: 0.7079 - val_weighted_acc: 0.7960\n",
      "Epoch 82/500\n",
      " - 2s - loss: 1.0012 - weighted_acc: 0.6571 - val_loss: 0.7065 - val_weighted_acc: 0.7940\n",
      "Epoch 83/500\n",
      " - 2s - loss: 0.9552 - weighted_acc: 0.7000 - val_loss: 0.7053 - val_weighted_acc: 0.7940\n",
      "Epoch 84/500\n",
      " - 2s - loss: 0.9772 - weighted_acc: 0.6643 - val_loss: 0.7040 - val_weighted_acc: 0.7940\n",
      "Epoch 85/500\n",
      " - 2s - loss: 1.0036 - weighted_acc: 0.6857 - val_loss: 0.7030 - val_weighted_acc: 0.7920\n",
      "Epoch 86/500\n",
      " - 2s - loss: 0.9402 - weighted_acc: 0.6786 - val_loss: 0.7015 - val_weighted_acc: 0.7900\n",
      "Epoch 87/500\n",
      " - 2s - loss: 0.8764 - weighted_acc: 0.6857 - val_loss: 0.6994 - val_weighted_acc: 0.7920\n",
      "Epoch 88/500\n",
      " - 2s - loss: 0.8897 - weighted_acc: 0.7214 - val_loss: 0.6972 - val_weighted_acc: 0.7920\n",
      "Epoch 89/500\n",
      " - 2s - loss: 0.8126 - weighted_acc: 0.7429 - val_loss: 0.6964 - val_weighted_acc: 0.7980\n",
      "Epoch 90/500\n",
      " - 2s - loss: 0.7969 - weighted_acc: 0.7214 - val_loss: 0.6955 - val_weighted_acc: 0.8000\n",
      "Epoch 91/500\n",
      " - 2s - loss: 0.8558 - weighted_acc: 0.6714 - val_loss: 0.6950 - val_weighted_acc: 0.8000\n",
      "Epoch 92/500\n",
      " - 2s - loss: 0.8389 - weighted_acc: 0.7071 - val_loss: 0.6944 - val_weighted_acc: 0.7980\n",
      "Epoch 93/500\n",
      " - 2s - loss: 0.8219 - weighted_acc: 0.7214 - val_loss: 0.6947 - val_weighted_acc: 0.7920\n",
      "Epoch 94/500\n",
      " - 2s - loss: 0.9872 - weighted_acc: 0.6786 - val_loss: 0.6937 - val_weighted_acc: 0.7940\n",
      "Epoch 95/500\n",
      " - 2s - loss: 0.8929 - weighted_acc: 0.7357 - val_loss: 0.6939 - val_weighted_acc: 0.7960\n",
      "Epoch 96/500\n",
      " - 2s - loss: 0.8552 - weighted_acc: 0.7000 - val_loss: 0.6934 - val_weighted_acc: 0.7920\n",
      "Epoch 97/500\n",
      " - 2s - loss: 0.8540 - weighted_acc: 0.7214 - val_loss: 0.6930 - val_weighted_acc: 0.7940\n",
      "Epoch 98/500\n",
      " - 2s - loss: 0.9018 - weighted_acc: 0.6643 - val_loss: 0.6926 - val_weighted_acc: 0.7960\n",
      "Epoch 99/500\n",
      " - 2s - loss: 0.8337 - weighted_acc: 0.7214 - val_loss: 0.6922 - val_weighted_acc: 0.7980\n",
      "Epoch 100/500\n",
      " - 2s - loss: 0.8544 - weighted_acc: 0.7286 - val_loss: 0.6936 - val_weighted_acc: 0.7940\n",
      "Epoch 101/500\n",
      " - 2s - loss: 0.8686 - weighted_acc: 0.7071 - val_loss: 0.6943 - val_weighted_acc: 0.7920\n",
      "Epoch 102/500\n",
      " - 2s - loss: 0.9762 - weighted_acc: 0.6571 - val_loss: 0.6939 - val_weighted_acc: 0.7940\n",
      "Epoch 103/500\n",
      " - 2s - loss: 0.9890 - weighted_acc: 0.6000 - val_loss: 0.6918 - val_weighted_acc: 0.7980\n",
      "Epoch 104/500\n",
      " - 2s - loss: 0.8151 - weighted_acc: 0.7214 - val_loss: 0.6904 - val_weighted_acc: 0.7960\n",
      "Epoch 105/500\n",
      " - 2s - loss: 0.9564 - weighted_acc: 0.6929 - val_loss: 0.6875 - val_weighted_acc: 0.7960\n",
      "Epoch 106/500\n",
      " - 2s - loss: 0.9824 - weighted_acc: 0.6429 - val_loss: 0.6849 - val_weighted_acc: 0.7940\n",
      "Epoch 107/500\n",
      " - 2s - loss: 0.8456 - weighted_acc: 0.7214 - val_loss: 0.6838 - val_weighted_acc: 0.7940\n",
      "Epoch 108/500\n",
      " - 2s - loss: 0.7728 - weighted_acc: 0.7143 - val_loss: 0.6845 - val_weighted_acc: 0.7960\n",
      "Epoch 109/500\n",
      " - 2s - loss: 0.7838 - weighted_acc: 0.7500 - val_loss: 0.6849 - val_weighted_acc: 0.7960\n",
      "Epoch 110/500\n",
      " - 2s - loss: 0.7833 - weighted_acc: 0.7286 - val_loss: 0.6853 - val_weighted_acc: 0.8020\n",
      "Epoch 111/500\n",
      " - 2s - loss: 0.7523 - weighted_acc: 0.7214 - val_loss: 0.6864 - val_weighted_acc: 0.8000\n",
      "Epoch 112/500\n",
      " - 2s - loss: 0.8538 - weighted_acc: 0.6643 - val_loss: 0.6866 - val_weighted_acc: 0.7980\n",
      "Epoch 113/500\n",
      " - 2s - loss: 0.8373 - weighted_acc: 0.7071 - val_loss: 0.6886 - val_weighted_acc: 0.7960\n",
      "Epoch 114/500\n",
      " - 2s - loss: 0.9278 - weighted_acc: 0.7143 - val_loss: 0.6904 - val_weighted_acc: 0.7980\n",
      "Epoch 115/500\n",
      " - 2s - loss: 0.9338 - weighted_acc: 0.6929 - val_loss: 0.6903 - val_weighted_acc: 0.8000\n",
      "Epoch 116/500\n",
      " - 2s - loss: 0.7377 - weighted_acc: 0.7571 - val_loss: 0.6897 - val_weighted_acc: 0.8040\n",
      "Epoch 117/500\n",
      " - 2s - loss: 0.7359 - weighted_acc: 0.7571 - val_loss: 0.6893 - val_weighted_acc: 0.8040\n",
      "Epoch 118/500\n",
      " - 2s - loss: 0.6827 - weighted_acc: 0.7857 - val_loss: 0.6891 - val_weighted_acc: 0.8040\n",
      "Epoch 119/500\n",
      " - 2s - loss: 0.9235 - weighted_acc: 0.6643 - val_loss: 0.6886 - val_weighted_acc: 0.8020\n",
      "Epoch 120/500\n",
      " - 2s - loss: 0.8424 - weighted_acc: 0.6714 - val_loss: 0.6889 - val_weighted_acc: 0.8020\n",
      "Epoch 121/500\n",
      " - 2s - loss: 0.8112 - weighted_acc: 0.7143 - val_loss: 0.6891 - val_weighted_acc: 0.8080\n",
      "Epoch 122/500\n",
      " - 2s - loss: 0.7766 - weighted_acc: 0.7143 - val_loss: 0.6868 - val_weighted_acc: 0.8100\n",
      "Epoch 123/500\n",
      " - 2s - loss: 0.8127 - weighted_acc: 0.7214 - val_loss: 0.6859 - val_weighted_acc: 0.8120\n",
      "Epoch 124/500\n",
      " - 2s - loss: 0.8774 - weighted_acc: 0.6857 - val_loss: 0.6859 - val_weighted_acc: 0.8120\n",
      "Epoch 125/500\n",
      " - 2s - loss: 0.7679 - weighted_acc: 0.7429 - val_loss: 0.6848 - val_weighted_acc: 0.8120\n",
      "Epoch 126/500\n",
      " - 2s - loss: 0.7350 - weighted_acc: 0.7500 - val_loss: 0.6838 - val_weighted_acc: 0.8080\n",
      "Epoch 127/500\n",
      " - 2s - loss: 0.7360 - weighted_acc: 0.7214 - val_loss: 0.6823 - val_weighted_acc: 0.8060\n",
      "Epoch 128/500\n",
      " - 2s - loss: 0.8374 - weighted_acc: 0.6857 - val_loss: 0.6816 - val_weighted_acc: 0.8120\n",
      "Epoch 129/500\n",
      " - 2s - loss: 0.7515 - weighted_acc: 0.7214 - val_loss: 0.6806 - val_weighted_acc: 0.8100\n",
      "Epoch 130/500\n",
      " - 2s - loss: 0.8617 - weighted_acc: 0.7071 - val_loss: 0.6798 - val_weighted_acc: 0.8080\n",
      "Epoch 131/500\n",
      " - 2s - loss: 0.8158 - weighted_acc: 0.7000 - val_loss: 0.6786 - val_weighted_acc: 0.8100\n",
      "Epoch 132/500\n",
      " - 2s - loss: 0.9401 - weighted_acc: 0.6714 - val_loss: 0.6773 - val_weighted_acc: 0.8100\n",
      "Epoch 133/500\n",
      " - 2s - loss: 0.7130 - weighted_acc: 0.7571 - val_loss: 0.6760 - val_weighted_acc: 0.8100\n",
      "Epoch 134/500\n",
      " - 2s - loss: 0.8899 - weighted_acc: 0.7357 - val_loss: 0.6768 - val_weighted_acc: 0.8180\n",
      "Epoch 135/500\n",
      " - 2s - loss: 0.6866 - weighted_acc: 0.7643 - val_loss: 0.6768 - val_weighted_acc: 0.8160\n",
      "Epoch 136/500\n",
      " - 2s - loss: 0.9144 - weighted_acc: 0.7143 - val_loss: 0.6770 - val_weighted_acc: 0.8160\n",
      "Epoch 137/500\n",
      " - 2s - loss: 0.7333 - weighted_acc: 0.7571 - val_loss: 0.6771 - val_weighted_acc: 0.8140\n",
      "Epoch 138/500\n",
      " - 2s - loss: 0.8911 - weighted_acc: 0.6714 - val_loss: 0.6766 - val_weighted_acc: 0.8120\n",
      "Epoch 139/500\n",
      " - 2s - loss: 0.7364 - weighted_acc: 0.7429 - val_loss: 0.6772 - val_weighted_acc: 0.8120\n",
      "Epoch 140/500\n",
      " - 2s - loss: 0.7597 - weighted_acc: 0.7357 - val_loss: 0.6780 - val_weighted_acc: 0.8120\n",
      "Epoch 141/500\n",
      " - 2s - loss: 0.8449 - weighted_acc: 0.7214 - val_loss: 0.6792 - val_weighted_acc: 0.8080\n",
      "Epoch 142/500\n",
      " - 2s - loss: 0.9364 - weighted_acc: 0.6857 - val_loss: 0.6798 - val_weighted_acc: 0.8040\n",
      "Epoch 143/500\n",
      " - 2s - loss: 0.7713 - weighted_acc: 0.7357 - val_loss: 0.6810 - val_weighted_acc: 0.8040\n",
      "Epoch 144/500\n",
      " - 2s - loss: 0.6933 - weighted_acc: 0.7500 - val_loss: 0.6829 - val_weighted_acc: 0.8060\n",
      "Epoch 145/500\n",
      " - 2s - loss: 0.7688 - weighted_acc: 0.7786 - val_loss: 0.6852 - val_weighted_acc: 0.8060\n",
      "Epoch 146/500\n",
      " - 2s - loss: 0.8231 - weighted_acc: 0.7000 - val_loss: 0.6888 - val_weighted_acc: 0.8080\n",
      "Epoch 147/500\n",
      " - 2s - loss: 0.7743 - weighted_acc: 0.7143 - val_loss: 0.6925 - val_weighted_acc: 0.8020\n",
      "Epoch 148/500\n",
      " - 2s - loss: 0.7122 - weighted_acc: 0.7500 - val_loss: 0.6955 - val_weighted_acc: 0.8000\n",
      "Epoch 149/500\n",
      " - 2s - loss: 0.7709 - weighted_acc: 0.7357 - val_loss: 0.6974 - val_weighted_acc: 0.7980\n",
      "Epoch 150/500\n",
      " - 2s - loss: 0.7315 - weighted_acc: 0.7214 - val_loss: 0.6993 - val_weighted_acc: 0.7980\n",
      "Epoch 151/500\n",
      " - 2s - loss: 0.8812 - weighted_acc: 0.7071 - val_loss: 0.7003 - val_weighted_acc: 0.7960\n",
      "Epoch 152/500\n",
      " - 2s - loss: 0.8361 - weighted_acc: 0.7571 - val_loss: 0.7011 - val_weighted_acc: 0.7960\n",
      "Epoch 153/500\n",
      " - 2s - loss: 0.8520 - weighted_acc: 0.6571 - val_loss: 0.7021 - val_weighted_acc: 0.7980\n",
      "Epoch 154/500\n",
      " - 2s - loss: 0.7812 - weighted_acc: 0.6857 - val_loss: 0.7042 - val_weighted_acc: 0.8000\n",
      "Epoch 155/500\n",
      " - 2s - loss: 0.7600 - weighted_acc: 0.7571 - val_loss: 0.7060 - val_weighted_acc: 0.8000\n",
      "Epoch 156/500\n",
      " - 2s - loss: 0.8700 - weighted_acc: 0.7357 - val_loss: 0.7081 - val_weighted_acc: 0.8020\n",
      "Epoch 157/500\n",
      " - 2s - loss: 0.7546 - weighted_acc: 0.7571 - val_loss: 0.7094 - val_weighted_acc: 0.7980\n",
      "Epoch 158/500\n",
      " - 2s - loss: 0.8773 - weighted_acc: 0.6714 - val_loss: 0.7110 - val_weighted_acc: 0.7980\n",
      "Epoch 159/500\n",
      " - 2s - loss: 0.7328 - weighted_acc: 0.7571 - val_loss: 0.7130 - val_weighted_acc: 0.8020\n"
     ]
    },
    {
     "name": "stdout",
     "output_type": "stream",
     "text": [
      "Epoch 160/500\n",
      " - 2s - loss: 0.7404 - weighted_acc: 0.7286 - val_loss: 0.7156 - val_weighted_acc: 0.8020\n",
      "Epoch 161/500\n",
      " - 2s - loss: 0.7749 - weighted_acc: 0.7500 - val_loss: 0.7159 - val_weighted_acc: 0.8020\n",
      "Epoch 162/500\n",
      " - 2s - loss: 0.7829 - weighted_acc: 0.7214 - val_loss: 0.7188 - val_weighted_acc: 0.8020\n",
      "Epoch 163/500\n",
      " - 2s - loss: 0.8049 - weighted_acc: 0.7143 - val_loss: 0.7226 - val_weighted_acc: 0.8040\n",
      "Epoch 164/500\n",
      " - 2s - loss: 0.8039 - weighted_acc: 0.7143 - val_loss: 0.7260 - val_weighted_acc: 0.8040\n",
      "Epoch 165/500\n",
      " - 2s - loss: 0.7480 - weighted_acc: 0.7786 - val_loss: 0.7285 - val_weighted_acc: 0.8020\n",
      "Epoch 166/500\n",
      " - 2s - loss: 0.7521 - weighted_acc: 0.7357 - val_loss: 0.7305 - val_weighted_acc: 0.8020\n",
      "Epoch 167/500\n",
      " - 2s - loss: 0.9606 - weighted_acc: 0.6643 - val_loss: 0.7339 - val_weighted_acc: 0.8020\n",
      "Epoch 168/500\n",
      " - 2s - loss: 0.7307 - weighted_acc: 0.7643 - val_loss: 0.7379 - val_weighted_acc: 0.7980\n",
      "Epoch 169/500\n",
      " - 2s - loss: 0.8763 - weighted_acc: 0.6714 - val_loss: 0.7438 - val_weighted_acc: 0.7980\n",
      "Epoch 170/500\n",
      " - 2s - loss: 0.8553 - weighted_acc: 0.7214 - val_loss: 0.7473 - val_weighted_acc: 0.7960\n",
      "Epoch 171/500\n",
      " - 2s - loss: 0.6984 - weighted_acc: 0.7714 - val_loss: 0.7497 - val_weighted_acc: 0.7980\n",
      "Epoch 172/500\n",
      " - 2s - loss: 0.7515 - weighted_acc: 0.7214 - val_loss: 0.7508 - val_weighted_acc: 0.7980\n",
      "Epoch 173/500\n",
      " - 2s - loss: 0.8382 - weighted_acc: 0.7286 - val_loss: 0.7526 - val_weighted_acc: 0.7960\n",
      "Epoch 174/500\n",
      " - 2s - loss: 0.7363 - weighted_acc: 0.7571 - val_loss: 0.7530 - val_weighted_acc: 0.7940\n",
      "Epoch 175/500\n",
      " - 2s - loss: 0.7547 - weighted_acc: 0.7071 - val_loss: 0.7537 - val_weighted_acc: 0.7940\n",
      "Epoch 176/500\n",
      " - 2s - loss: 0.6345 - weighted_acc: 0.7571 - val_loss: 0.7563 - val_weighted_acc: 0.7940\n",
      "Epoch 177/500\n",
      " - 2s - loss: 0.6614 - weighted_acc: 0.7929 - val_loss: 0.7571 - val_weighted_acc: 0.7940\n",
      "Epoch 178/500\n",
      " - 3s - loss: 0.8097 - weighted_acc: 0.7286 - val_loss: 0.7564 - val_weighted_acc: 0.7920\n",
      "Epoch 179/500\n",
      " - 3s - loss: 0.8373 - weighted_acc: 0.7357 - val_loss: 0.7547 - val_weighted_acc: 0.7920\n",
      "Epoch 180/500\n",
      " - 2s - loss: 0.7170 - weighted_acc: 0.7571 - val_loss: 0.7530 - val_weighted_acc: 0.7920\n",
      "Epoch 181/500\n",
      " - 2s - loss: 0.7458 - weighted_acc: 0.7143 - val_loss: 0.7535 - val_weighted_acc: 0.7960\n",
      "Epoch 182/500\n",
      " - 3s - loss: 0.9375 - weighted_acc: 0.7214 - val_loss: 0.7522 - val_weighted_acc: 0.7920\n",
      "Epoch 183/500\n",
      " - 2s - loss: 0.6454 - weighted_acc: 0.8071 - val_loss: 0.7513 - val_weighted_acc: 0.7920\n",
      "Epoch 184/500\n",
      " - 2s - loss: 0.8000 - weighted_acc: 0.7143 - val_loss: 0.7503 - val_weighted_acc: 0.7920\n"
     ]
    }
   ],
   "source": [
    "history = model.fit_generator(\n",
    "    train_gen,\n",
    "    epochs=500,\n",
    "    validation_data=val_gen,\n",
    "    verbose=2,\n",
    "    shuffle=False,  # this should be False, since shuffling data means shuffling the whole graph\n",
    "    callbacks=[es_callback, mc_callback],\n",
    ")"
   ]
  },
  {
   "cell_type": "code",
   "execution_count": 25,
   "metadata": {},
   "outputs": [],
   "source": [
    "import matplotlib.pyplot as plt\n",
    "%matplotlib inline\n",
    "\n",
    "def remove_prefix(text, prefix):\n",
    "    return text[text.startswith(prefix) and len(prefix):]\n",
    "\n",
    "def plot_history(history):\n",
    "    metrics = sorted(set([remove_prefix(m, \"val_\") for m in list(history.history.keys())]))\n",
    "    for m in metrics:\n",
    "        # summarize history for metric m\n",
    "        plt.plot(history.history[m])\n",
    "        plt.plot(history.history['val_' + m])\n",
    "        plt.title(m)\n",
    "        plt.ylabel(m)\n",
    "        plt.xlabel('epoch')\n",
    "        plt.legend(['train', 'validation'], loc='right')\n",
    "        plt.show()"
   ]
  },
  {
   "cell_type": "code",
   "execution_count": 26,
   "metadata": {},
   "outputs": [
    {
     "data": {
      "image/png": "[encoded data removed]",
      "text/plain": [
       "<Figure size 432x288 with 1 Axes>"
      ]
     },
     "metadata": {
      "needs_background": "light"
     },
     "output_type": "display_data"
    },
    {
     "data": {
      "image/png": "[encoded data removed]",
      "text/plain": [
       "<Figure size 432x288 with 1 Axes>"
      ]
     },
     "metadata": {
      "needs_background": "light"
     },
     "output_type": "display_data"
    }
   ],
   "source": [
    "plot_history(history)"
   ]
  },
  {
   "cell_type": "markdown",
   "metadata": {},
   "source": [
    "Reload the saved weights of the best model found during the training (according to validation accuracy)"
   ]
  },
  {
   "cell_type": "code",
   "execution_count": 27,
   "metadata": {},
   "outputs": [],
   "source": [
    "model.load_weights(\"logs/best_model.h5\")"
   ]
  },
  {
   "cell_type": "markdown",
   "metadata": {},
   "source": [
    "Evaluate the best model on the test set"
   ]
  },
  {
   "cell_type": "code",
   "execution_count": 28,
   "metadata": {},
   "outputs": [],
   "source": [
    "test_gen = generator.flow(test_data.index, test_targets)"
   ]
  },
  {
   "cell_type": "code",
   "execution_count": 29,
   "metadata": {},
   "outputs": [
    {
     "name": "stdout",
     "output_type": "stream",
     "text": [
      "\n",
      "Test Set Metrics:\n",
      "\tloss: 0.7344\n",
      "\tweighted_acc: 0.7853\n"
     ]
    }
   ],
   "source": [
    "test_metrics = model.evaluate_generator(test_gen)\n",
    "print(\"\\nTest Set Metrics:\")\n",
    "for name, val in zip(model.metrics_names, test_metrics):\n",
    "    print(\"\\t{}: {:0.4f}\".format(name, val))"
   ]
  },
  {
   "cell_type": "markdown",
   "metadata": {},
   "source": [
    "### Making predictions with the model"
   ]
  },
  {
   "cell_type": "markdown",
   "metadata": {},
   "source": [
    "Now let's get the predictions themselves for all nodes:"
   ]
  },
  {
   "cell_type": "code",
   "execution_count": 30,
   "metadata": {},
   "outputs": [],
   "source": [
    "all_nodes = node_data.index\n",
    "all_gen = generator.flow(all_nodes)\n",
    "all_predictions = model.predict_generator(all_gen)"
   ]
  },
  {
   "cell_type": "markdown",
   "metadata": {},
   "source": [
    "These predictions will be the output of the softmax layer, so to get final categories we'll use the `inverse_transform` method of our target attribute specifcation to turn these values back to the original categories"
   ]
  },
  {
   "cell_type": "code",
   "execution_count": 31,
   "metadata": {},
   "outputs": [],
   "source": [
    "node_predictions = target_encoding.inverse_transform(all_predictions)"
   ]
  },
  {
   "cell_type": "markdown",
   "metadata": {},
   "source": [
    "Let's have a look at a few (note that generator orders nodes according to the order in G.nodes(), so the predictions are ordered like that as well. We thus need to index results as `G.nodes()`"
   ]
  },
  {
   "cell_type": "code",
   "execution_count": 32,
   "metadata": {},
   "outputs": [
    {
     "data": {
      "text/html": [
       "<div>\n",
       "<style scoped>\n",
       "    .dataframe tbody tr th:only-of-type {\n",
       "        vertical-align: middle;\n",
       "    }\n",
       "\n",
       "    .dataframe tbody tr th {\n",
       "        vertical-align: top;\n",
       "    }\n",
       "\n",
       "    .dataframe thead th {\n",
       "        text-align: right;\n",
       "    }\n",
       "</style>\n",
       "<table border=\"1\" class=\"dataframe\">\n",
       "  <thead>\n",
       "    <tr style=\"text-align: right;\">\n",
       "      <th></th>\n",
       "      <th>Predicted</th>\n",
       "      <th>True</th>\n",
       "    </tr>\n",
       "  </thead>\n",
       "  <tbody>\n",
       "    <tr>\n",
       "      <th>35</th>\n",
       "      <td>subject=Genetic_Algorithms</td>\n",
       "      <td>Genetic_Algorithms</td>\n",
       "    </tr>\n",
       "    <tr>\n",
       "      <th>40</th>\n",
       "      <td>subject=Genetic_Algorithms</td>\n",
       "      <td>Genetic_Algorithms</td>\n",
       "    </tr>\n",
       "    <tr>\n",
       "      <th>114</th>\n",
       "      <td>subject=Reinforcement_Learning</td>\n",
       "      <td>Reinforcement_Learning</td>\n",
       "    </tr>\n",
       "    <tr>\n",
       "      <th>117</th>\n",
       "      <td>subject=Reinforcement_Learning</td>\n",
       "      <td>Reinforcement_Learning</td>\n",
       "    </tr>\n",
       "    <tr>\n",
       "      <th>128</th>\n",
       "      <td>subject=Reinforcement_Learning</td>\n",
       "      <td>Reinforcement_Learning</td>\n",
       "    </tr>\n",
       "    <tr>\n",
       "      <th>130</th>\n",
       "      <td>subject=Reinforcement_Learning</td>\n",
       "      <td>Reinforcement_Learning</td>\n",
       "    </tr>\n",
       "    <tr>\n",
       "      <th>164</th>\n",
       "      <td>subject=Theory</td>\n",
       "      <td>Theory</td>\n",
       "    </tr>\n",
       "    <tr>\n",
       "      <th>288</th>\n",
       "      <td>subject=Neural_Networks</td>\n",
       "      <td>Reinforcement_Learning</td>\n",
       "    </tr>\n",
       "    <tr>\n",
       "      <th>424</th>\n",
       "      <td>subject=Neural_Networks</td>\n",
       "      <td>Rule_Learning</td>\n",
       "    </tr>\n",
       "    <tr>\n",
       "      <th>434</th>\n",
       "      <td>subject=Reinforcement_Learning</td>\n",
       "      <td>Reinforcement_Learning</td>\n",
       "    </tr>\n",
       "    <tr>\n",
       "      <th>463</th>\n",
       "      <td>subject=Case_Based</td>\n",
       "      <td>Case_Based</td>\n",
       "    </tr>\n",
       "    <tr>\n",
       "      <th>504</th>\n",
       "      <td>subject=Probabilistic_Methods</td>\n",
       "      <td>Probabilistic_Methods</td>\n",
       "    </tr>\n",
       "    <tr>\n",
       "      <th>506</th>\n",
       "      <td>subject=Case_Based</td>\n",
       "      <td>Probabilistic_Methods</td>\n",
       "    </tr>\n",
       "    <tr>\n",
       "      <th>887</th>\n",
       "      <td>subject=Reinforcement_Learning</td>\n",
       "      <td>Genetic_Algorithms</td>\n",
       "    </tr>\n",
       "    <tr>\n",
       "      <th>906</th>\n",
       "      <td>subject=Neural_Networks</td>\n",
       "      <td>Neural_Networks</td>\n",
       "    </tr>\n",
       "    <tr>\n",
       "      <th>910</th>\n",
       "      <td>subject=Neural_Networks</td>\n",
       "      <td>Neural_Networks</td>\n",
       "    </tr>\n",
       "    <tr>\n",
       "      <th>936</th>\n",
       "      <td>subject=Case_Based</td>\n",
       "      <td>Case_Based</td>\n",
       "    </tr>\n",
       "    <tr>\n",
       "      <th>940</th>\n",
       "      <td>subject=Case_Based</td>\n",
       "      <td>Case_Based</td>\n",
       "    </tr>\n",
       "    <tr>\n",
       "      <th>941</th>\n",
       "      <td>subject=Case_Based</td>\n",
       "      <td>Case_Based</td>\n",
       "    </tr>\n",
       "    <tr>\n",
       "      <th>943</th>\n",
       "      <td>subject=Case_Based</td>\n",
       "      <td>Case_Based</td>\n",
       "    </tr>\n",
       "  </tbody>\n",
       "</table>\n",
       "</div>"
      ],
      "text/plain": [
       "                          Predicted                    True\n",
       "35       subject=Genetic_Algorithms      Genetic_Algorithms\n",
       "40       subject=Genetic_Algorithms      Genetic_Algorithms\n",
       "114  subject=Reinforcement_Learning  Reinforcement_Learning\n",
       "117  subject=Reinforcement_Learning  Reinforcement_Learning\n",
       "128  subject=Reinforcement_Learning  Reinforcement_Learning\n",
       "130  subject=Reinforcement_Learning  Reinforcement_Learning\n",
       "164                  subject=Theory                  Theory\n",
       "288         subject=Neural_Networks  Reinforcement_Learning\n",
       "424         subject=Neural_Networks           Rule_Learning\n",
       "434  subject=Reinforcement_Learning  Reinforcement_Learning\n",
       "463              subject=Case_Based              Case_Based\n",
       "504   subject=Probabilistic_Methods   Probabilistic_Methods\n",
       "506              subject=Case_Based   Probabilistic_Methods\n",
       "887  subject=Reinforcement_Learning      Genetic_Algorithms\n",
       "906         subject=Neural_Networks         Neural_Networks\n",
       "910         subject=Neural_Networks         Neural_Networks\n",
       "936              subject=Case_Based              Case_Based\n",
       "940              subject=Case_Based              Case_Based\n",
       "941              subject=Case_Based              Case_Based\n",
       "943              subject=Case_Based              Case_Based"
      ]
     },
     "execution_count": 32,
     "metadata": {},
     "output_type": "execute_result"
    }
   ],
   "source": [
    "results = pd.DataFrame(node_predictions, index=G.nodes()).idxmax(axis=1)\n",
    "df = pd.DataFrame({\"Predicted\": results, \"True\": node_data['subject']})\n",
    "df.head(20)"
   ]
  },
  {
   "cell_type": "markdown",
   "metadata": {},
   "source": [
    "## Node embeddings\n",
    "Evaluate node embeddings as activations of the output of GAT layer stack, and visualise them, coloring nodes by their subject label.\n",
    "\n",
    "The GAT embeddings are the output of the GAT layers stack, namely the `x_out` variable. Let's create a new model with the same inputs as we used previously `x_inp` but now the output is the embeddings rather than the predicted class. Additionally note that the weights trained previously are kept in the new model."
   ]
  },
  {
   "cell_type": "code",
   "execution_count": 33,
   "metadata": {},
   "outputs": [],
   "source": [
    "embedding_model = Model(inputs=x_inp, outputs=x_out)"
   ]
  },
  {
   "cell_type": "code",
   "execution_count": 34,
   "metadata": {},
   "outputs": [
    {
     "data": {
      "text/plain": [
       "(2708, 8)"
      ]
     },
     "execution_count": 34,
     "metadata": {},
     "output_type": "execute_result"
    }
   ],
   "source": [
    "emb = embedding_model.predict_generator(all_gen)\n",
    "emb.shape"
   ]
  },
  {
   "cell_type": "markdown",
   "metadata": {},
   "source": [
    "Project the embeddings to 2d using either TSNE or PCA transform, and visualise, coloring nodes by their subject label"
   ]
  },
  {
   "cell_type": "code",
   "execution_count": 35,
   "metadata": {},
   "outputs": [],
   "source": [
    "from sklearn.decomposition import PCA\n",
    "from sklearn.manifold import TSNE\n",
    "import pandas as pd\n",
    "import numpy as np"
   ]
  },
  {
   "cell_type": "markdown",
   "metadata": {},
   "source": [
    "Note that the generator orders nodes according to the order in G.nodes(), so we need to re-index node_data"
   ]
  },
  {
   "cell_type": "code",
   "execution_count": 36,
   "metadata": {},
   "outputs": [],
   "source": [
    "X = emb\n",
    "y = np.argmax(target_encoding.transform(node_data.reindex(G.nodes())[[\"subject\"]].to_dict('records')), axis=1)"
   ]
  },
  {
   "cell_type": "code",
   "execution_count": 37,
   "metadata": {},
   "outputs": [],
   "source": [
    "if X.shape[1] > 2:\n",
    "    transform = TSNE #PCA \n",
    "\n",
    "    trans = transform(n_components=2)\n",
    "    emb_transformed = pd.DataFrame(trans.fit_transform(X), index=list(G.nodes()))\n",
    "    emb_transformed['label'] = y\n",
    "else:\n",
    "    emb_transformed = pd.DataFrame(X, index=list(G.nodes()))\n",
    "    emb_transformed = emb_transformed.rename(columns = {'0':0, '1':1})\n",
    "    emb_transformed['label'] = y"
   ]
  },
  {
   "cell_type": "code",
   "execution_count": 38,
   "metadata": {},
   "outputs": [
    {
     "data": {
      "image/png": "[encoded data removed]",
      "text/plain": [
       "<Figure size 504x504 with 1 Axes>"
      ]
     },
     "metadata": {
      "needs_background": "light"
     },
     "output_type": "display_data"
    }
   ],
   "source": [
    "alpha = 0.7\n",
    "\n",
    "fig, ax = plt.subplots(figsize=(7,7))\n",
    "ax.scatter(emb_transformed[0], emb_transformed[1], c=emb_transformed['label'].astype(\"category\"), \n",
    "            cmap=\"jet\", alpha=alpha)\n",
    "ax.set(aspect=\"equal\", xlabel=\"$X_1$\", ylabel=\"$X_2$\")\n",
    "plt.title('{} visualization of GAT embeddings for cora dataset'.format(transform.__name__))\n",
    "plt.show()"
   ]
  },
  {
   "cell_type": "code",
   "execution_count": null,
   "metadata": {},
   "outputs": [],
   "source": []
  }
 ],
 "metadata": {
  "kernelspec": {
   "display_name": "Python 3",
   "language": "python",
   "name": "python3"
  },
  "language_info": {
   "codemirror_mode": {
    "name": "ipython",
    "version": 3
   },
   "file_extension": ".py",
   "mimetype": "text/x-python",
   "name": "python",
   "nbconvert_exporter": "python",
   "pygments_lexer": "ipython3",
   "version": "3.6.6"
  }
 },
 "nbformat": 4,
 "nbformat_minor": 2
}
