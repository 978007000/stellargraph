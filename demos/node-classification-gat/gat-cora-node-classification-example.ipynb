{
 "cells": [
  {
   "cell_type": "markdown",
   "metadata": {},
   "source": [
    "# Stellargraph example: Graph Attention Network (GAT) on the CORA citation dataset"
   ]
  },
  {
   "cell_type": "markdown",
   "metadata": {},
   "source": [
    "Import NetworkX and stellar:"
   ]
  },
  {
   "cell_type": "code",
   "execution_count": 1,
   "metadata": {},
   "outputs": [
    {
     "name": "stderr",
     "output_type": "stream",
     "text": [
      "Using TensorFlow backend.\n"
     ]
    }
   ],
   "source": [
    "import networkx as nx\n",
    "import pandas as pd\n",
    "import os\n",
    "\n",
    "import stellargraph as sg\n",
    "from stellargraph.mapper import FullBatchNodeGenerator\n",
    "from stellargraph.layer import GAT\n",
    "\n",
    "from keras import layers, optimizers, losses, metrics, Model\n",
    "from sklearn import preprocessing, feature_extraction, model_selection"
   ]
  },
  {
   "cell_type": "markdown",
   "metadata": {},
   "source": [
    "### Loading the CORA network"
   ]
  },
  {
   "cell_type": "markdown",
   "metadata": {},
   "source": [
    "**Downloading the CORA dataset:**\n",
    "    \n",
    "The dataset used in this demo can be downloaded from https://linqs-data.soe.ucsc.edu/public/lbc/cora.tgz\n",
    "\n",
    "The following is the description of the dataset:\n",
    "> The Cora dataset consists of 2708 scientific publications classified into one of seven classes.\n",
    "> The citation network consists of 5429 links. Each publication in the dataset is described by a\n",
    "> 0/1-valued word vector indicating the absence/presence of the corresponding word from the dictionary.\n",
    "> The dictionary consists of 1433 unique words. The README file in the dataset provides more details.\n",
    "\n",
    "Download and unzip the cora.tgz file to a location on your computer and set the `data_dir` variable to\n",
    "point to the location of the dataset (the directory containing \"cora.cites\" and \"cora.content\")."
   ]
  },
  {
   "cell_type": "code",
   "execution_count": 2,
   "metadata": {},
   "outputs": [],
   "source": [
    "data_dir = os.path.expanduser(\"~/data/cora\")"
   ]
  },
  {
   "cell_type": "markdown",
   "metadata": {},
   "source": [
    "Load the graph from edgelist"
   ]
  },
  {
   "cell_type": "code",
   "execution_count": 3,
   "metadata": {},
   "outputs": [],
   "source": [
    "edgelist = pd.read_table(os.path.join(data_dir, \"cora.cites\"), header=None, names=[\"source\", \"target\"])\n",
    "edgelist[\"label\"] = \"cites\""
   ]
  },
  {
   "cell_type": "code",
   "execution_count": 4,
   "metadata": {},
   "outputs": [],
   "source": [
    "Gnx = nx.from_pandas_edgelist(edgelist, edge_attr=\"label\")"
   ]
  },
  {
   "cell_type": "code",
   "execution_count": 5,
   "metadata": {},
   "outputs": [],
   "source": [
    "nx.set_node_attributes(Gnx, \"paper\", \"label\")"
   ]
  },
  {
   "cell_type": "markdown",
   "metadata": {},
   "source": [
    "Load the features and subject for the nodes"
   ]
  },
  {
   "cell_type": "code",
   "execution_count": 6,
   "metadata": {},
   "outputs": [],
   "source": [
    "feature_names = [\"w_{}\".format(ii) for ii in range(1433)]\n",
    "column_names =  feature_names + [\"subject\"]\n",
    "node_data = pd.read_table(os.path.join(data_dir, \"cora.content\"), header=None, names=column_names)"
   ]
  },
  {
   "cell_type": "markdown",
   "metadata": {},
   "source": [
    "We aim to train a graph-ML model that will predict the \"subject\" attribute on the nodes. These subjects are one of 7 categories:"
   ]
  },
  {
   "cell_type": "code",
   "execution_count": 7,
   "metadata": {},
   "outputs": [
    {
     "data": {
      "text/plain": [
       "{'Case_Based',\n",
       " 'Genetic_Algorithms',\n",
       " 'Neural_Networks',\n",
       " 'Probabilistic_Methods',\n",
       " 'Reinforcement_Learning',\n",
       " 'Rule_Learning',\n",
       " 'Theory'}"
      ]
     },
     "execution_count": 7,
     "metadata": {},
     "output_type": "execute_result"
    }
   ],
   "source": [
    "set(node_data[\"subject\"])"
   ]
  },
  {
   "cell_type": "markdown",
   "metadata": {},
   "source": [
    "### Splitting the data"
   ]
  },
  {
   "cell_type": "markdown",
   "metadata": {},
   "source": [
    "For machine learning we want to take a subset of the nodes for training, and use the rest for validation and testing. We'll use scikit-learn again to do this.\n",
    "\n",
    "Here we're taking 140 node labels for training, 500 for validation, and the rest for testing."
   ]
  },
  {
   "cell_type": "code",
   "execution_count": 8,
   "metadata": {},
   "outputs": [],
   "source": [
    "train_data, test_data = model_selection.train_test_split(node_data, train_size=140, test_size=None, stratify=node_data['subject'])\n",
    "val_data, test_data = model_selection.train_test_split(test_data, train_size=500, test_size=None, stratify=test_data['subject'])"
   ]
  },
  {
   "cell_type": "markdown",
   "metadata": {},
   "source": [
    "Note using stratified sampling gives the following counts:"
   ]
  },
  {
   "cell_type": "code",
   "execution_count": 9,
   "metadata": {},
   "outputs": [
    {
     "data": {
      "text/plain": [
       "Counter({'Probabilistic_Methods': 22,\n",
       "         'Neural_Networks': 42,\n",
       "         'Theory': 18,\n",
       "         'Genetic_Algorithms': 22,\n",
       "         'Case_Based': 16,\n",
       "         'Rule_Learning': 9,\n",
       "         'Reinforcement_Learning': 11})"
      ]
     },
     "execution_count": 9,
     "metadata": {},
     "output_type": "execute_result"
    }
   ],
   "source": [
    "from collections import Counter\n",
    "Counter(train_data['subject'])"
   ]
  },
  {
   "cell_type": "markdown",
   "metadata": {},
   "source": [
    "The training set has class imbalance that might need to be compensated, e.g., via using a weighted cross-entropy loss in model training, with class weights inversely proportional to class support. However, we will ignore the class imbalance in this example, for simplicity."
   ]
  },
  {
   "cell_type": "markdown",
   "metadata": {},
   "source": [
    "### Converting to numeric arrays"
   ]
  },
  {
   "cell_type": "markdown",
   "metadata": {},
   "source": [
    "For our categorical target, we will use one-hot vectors that will be fed into a soft-max Keras layer during training. To do this conversion ..."
   ]
  },
  {
   "cell_type": "code",
   "execution_count": 10,
   "metadata": {},
   "outputs": [],
   "source": [
    "target_encoding = feature_extraction.DictVectorizer(sparse=False)\n",
    "\n",
    "train_targets = target_encoding.fit_transform(train_data[[\"subject\"]].to_dict('records'))\n",
    "val_targets = target_encoding.transform(val_data[[\"subject\"]].to_dict('records'))\n",
    "test_targets = target_encoding.transform(test_data[[\"subject\"]].to_dict('records'))"
   ]
  },
  {
   "cell_type": "markdown",
   "metadata": {},
   "source": [
    "We now do the same for the node attributes we want to use to predict the subject. These are the feature vectors that the Keras model will use as input. The CORA dataset contains attributes 'w_x' that correspond to words found in that publication. If a word occurs more than once in a publication the relevant attribute will be set to one, otherwise it will be zero."
   ]
  },
  {
   "cell_type": "code",
   "execution_count": 11,
   "metadata": {},
   "outputs": [],
   "source": [
    "node_features = node_data[feature_names]"
   ]
  },
  {
   "cell_type": "markdown",
   "metadata": {},
   "source": [
    "## Creating the GAT model in Keras"
   ]
  },
  {
   "cell_type": "markdown",
   "metadata": {},
   "source": [
    "Now create a StellarGraph object from the NetworkX graph and the node features and targets. It is StellarGraph objects that we use in this library to perform machine learning tasks on."
   ]
  },
  {
   "cell_type": "code",
   "execution_count": 12,
   "metadata": {},
   "outputs": [],
   "source": [
    "G = sg.StellarGraph(Gnx, node_features=node_features)"
   ]
  },
  {
   "cell_type": "code",
   "execution_count": 13,
   "metadata": {},
   "outputs": [
    {
     "name": "stdout",
     "output_type": "stream",
     "text": [
      "StellarGraph: Undirected multigraph\n",
      " Nodes: 2708, Edges: 5278\n",
      "\n",
      " Node types:\n",
      "  paper: [2708]\n",
      "    Edge types: paper-cites->paper\n",
      "\n",
      " Edge types:\n",
      "    paper-cites->paper: [5278]\n",
      "\n"
     ]
    }
   ],
   "source": [
    "print(G.info())"
   ]
  },
  {
   "cell_type": "markdown",
   "metadata": {},
   "source": [
    "To feed data from the graph to the Keras model we need a generator. Since GAT is a full-batch model, we use the `FullBatchNodeGenerator` class to feed node features and graph adjacency matrix to the model."
   ]
  },
  {
   "cell_type": "code",
   "execution_count": 14,
   "metadata": {},
   "outputs": [],
   "source": [
    "generator = FullBatchNodeGenerator(G)"
   ]
  },
  {
   "cell_type": "markdown",
   "metadata": {},
   "source": [
    "For training we map only the training nodes returned from our splitter and the target values."
   ]
  },
  {
   "cell_type": "code",
   "execution_count": 15,
   "metadata": {},
   "outputs": [],
   "source": [
    "train_gen = generator.flow(train_data.index, train_targets)"
   ]
  },
  {
   "cell_type": "markdown",
   "metadata": {},
   "source": [
    "Now we can specify our machine learning model, we need a few more parameters for this:\n",
    "\n",
    " * the `layer_sizes` is a list of hidden feature sizes of each layer in the model. In this example we use two GAT layers with 8-dimensional hidden node features at each layer.\n",
    " * `attn_heads` is the number of attention heads in all but the last GAT layer in the model\n",
    " * `activations` is a list of activations applied to each layer's output\n",
    " * Arguments such as `bias`, `in_dropout`, `attn_dropout` are internal parameters of the model, execute `?GAT` for details. \n",
    " * `add_self_loops` (default is False) allows to add self-loops to the graph's adjacency matrix. In the GAT paper, the neighbourhood of node i in eq. (4) includes node i itself, hence the graph should have self-loops for best performance of the GAT model. Be careful though not to add self-loops twice by setting `add_self_loops=True` if the graph already has self-loops, as this will result in the GAT model ignoring the graph structure."
   ]
  },
  {
   "cell_type": "code",
   "execution_count": 16,
   "metadata": {},
   "outputs": [],
   "source": [
    "# If G has no self-loops, set `add_self_loops` to True; otherwise set to False, to avoid adding self-loops twice\n",
    "add_self_loops = False\n",
    "if G.number_of_selfloops() == 0:\n",
    "    add_self_loops = True  # G has no self loops, so need to add them in GAT"
   ]
  },
  {
   "cell_type": "code",
   "execution_count": 17,
   "metadata": {},
   "outputs": [],
   "source": [
    "gat = GAT(\n",
    "    layer_sizes=[8, 8],\n",
    "    attn_heads=8,\n",
    "    generator=generator,\n",
    "    bias=True,\n",
    "    in_dropout=0.5,\n",
    "    attn_dropout=0.5,\n",
    "    activations=[\"elu\",\"elu\"],\n",
    "    normalize=None,\n",
    "    add_self_loops=add_self_loops,\n",
    ")"
   ]
  },
  {
   "cell_type": "code",
   "execution_count": 18,
   "metadata": {},
   "outputs": [],
   "source": [
    "# Expose the input and output tensors of the GAT model for node prediction, via GAT.node_model() method:\n",
    "x_inp, x_out = gat.node_model()"
   ]
  },
  {
   "cell_type": "markdown",
   "metadata": {},
   "source": [
    "Note that `x_inp` is a list of two input tensors, one for node features, the other for graph adjacency matrix"
   ]
  },
  {
   "cell_type": "code",
   "execution_count": 19,
   "metadata": {},
   "outputs": [
    {
     "data": {
      "text/plain": [
       "[<tf.Tensor 'input_1:0' shape=(?, 1433) dtype=float32>,\n",
       " <tensorflow.python.framework.sparse_tensor.SparseTensor at 0x10c2fccf8>]"
      ]
     },
     "execution_count": 19,
     "metadata": {},
     "output_type": "execute_result"
    }
   ],
   "source": [
    "x_inp"
   ]
  },
  {
   "cell_type": "markdown",
   "metadata": {},
   "source": [
    "Now we add the final layer to predict the 7 categories using Keras Dense layer with softmax activation."
   ]
  },
  {
   "cell_type": "code",
   "execution_count": 20,
   "metadata": {},
   "outputs": [],
   "source": [
    "# Snap the final estimator layer to x_out\n",
    "predictions = layers.Dense(units=train_targets.shape[1], activation=\"softmax\")(x_out)"
   ]
  },
  {
   "cell_type": "code",
   "execution_count": 21,
   "metadata": {},
   "outputs": [
    {
     "data": {
      "text/plain": [
       "TensorShape([Dimension(2708), Dimension(7)])"
      ]
     },
     "execution_count": 21,
     "metadata": {},
     "output_type": "execute_result"
    }
   ],
   "source": [
    "predictions.shape"
   ]
  },
  {
   "cell_type": "markdown",
   "metadata": {},
   "source": [
    "### Training the model"
   ]
  },
  {
   "cell_type": "markdown",
   "metadata": {},
   "source": [
    "Now let's create the actual Keras model with the input tensors `x_inp` and output tensors being the predictions `predictions` from the final dense layer"
   ]
  },
  {
   "cell_type": "code",
   "execution_count": 22,
   "metadata": {},
   "outputs": [],
   "source": [
    "model = Model(inputs=x_inp, outputs=predictions)\n",
    "model.compile(\n",
    "    optimizer=optimizers.Adam(lr=0.005),\n",
    "    loss=losses.categorical_crossentropy,\n",
    "    weighted_metrics=[\"acc\"],\n",
    ")"
   ]
  },
  {
   "cell_type": "markdown",
   "metadata": {},
   "source": [
    "Train the model, keeping track of its loss and accuracy on the training set, and its generalisation performance on the validation set (we need to create another generator over the validation data for this)"
   ]
  },
  {
   "cell_type": "code",
   "execution_count": 23,
   "metadata": {},
   "outputs": [],
   "source": [
    "val_gen = generator.flow(val_data.index, val_targets)"
   ]
  },
  {
   "cell_type": "markdown",
   "metadata": {},
   "source": [
    "Create callbacks for early stopping (if validation accuracy stops improving) and best model checkpoint saving:"
   ]
  },
  {
   "cell_type": "code",
   "execution_count": 24,
   "metadata": {},
   "outputs": [],
   "source": [
    "from keras.callbacks import EarlyStopping, ModelCheckpoint\n",
    "if not os.path.isdir(\"logs\"):\n",
    "    os.makedirs(\"logs\")\n",
    "es_callback = EarlyStopping(monitor=\"val_weighted_acc\", patience=50)  # patience is the number of epochs to wait before early stopping in case of no further improvement\n",
    "mc_callback = ModelCheckpoint(\n",
    "    \"logs/best_model.h5\",\n",
    "    monitor=\"val_weighted_acc\",\n",
    "    save_best_only=True,\n",
    "    save_weights_only=True,\n",
    ")"
   ]
  },
  {
   "cell_type": "markdown",
   "metadata": {},
   "source": [
    "Train the model"
   ]
  },
  {
   "cell_type": "code",
   "execution_count": 25,
   "metadata": {},
   "outputs": [
    {
     "name": "stdout",
     "output_type": "stream",
     "text": [
      "Epoch 1/500\n",
      " - 5s - loss: 1.9495 - weighted_acc: 0.1571 - val_loss: 1.8797 - val_weighted_acc: 0.3540\n",
      "Epoch 2/500\n",
      " - 2s - loss: 1.9519 - weighted_acc: 0.1857 - val_loss: 1.8112 - val_weighted_acc: 0.4120\n",
      "Epoch 3/500\n",
      " - 2s - loss: 1.9345 - weighted_acc: 0.2143 - val_loss: 1.7569 - val_weighted_acc: 0.4040\n",
      "Epoch 4/500\n",
      " - 2s - loss: 1.8336 - weighted_acc: 0.3214 - val_loss: 1.6995 - val_weighted_acc: 0.3760\n",
      "Epoch 5/500\n",
      " - 2s - loss: 1.7590 - weighted_acc: 0.3286 - val_loss: 1.6462 - val_weighted_acc: 0.3680\n",
      "Epoch 6/500\n",
      " - 2s - loss: 1.7288 - weighted_acc: 0.3429 - val_loss: 1.5954 - val_weighted_acc: 0.3920\n",
      "Epoch 7/500\n",
      " - 2s - loss: 1.6154 - weighted_acc: 0.3857 - val_loss: 1.5474 - val_weighted_acc: 0.4140\n",
      "Epoch 8/500\n",
      " - 2s - loss: 1.5456 - weighted_acc: 0.4143 - val_loss: 1.5017 - val_weighted_acc: 0.4320\n",
      "Epoch 9/500\n",
      " - 2s - loss: 1.5429 - weighted_acc: 0.4071 - val_loss: 1.4575 - val_weighted_acc: 0.4800\n",
      "Epoch 10/500\n",
      " - 2s - loss: 1.5190 - weighted_acc: 0.4571 - val_loss: 1.4138 - val_weighted_acc: 0.5160\n",
      "Epoch 11/500\n",
      " - 2s - loss: 1.5314 - weighted_acc: 0.4643 - val_loss: 1.3713 - val_weighted_acc: 0.5560\n",
      "Epoch 12/500\n",
      " - 2s - loss: 1.4883 - weighted_acc: 0.4500 - val_loss: 1.3298 - val_weighted_acc: 0.5860\n",
      "Epoch 13/500\n",
      " - 2s - loss: 1.4471 - weighted_acc: 0.4500 - val_loss: 1.2894 - val_weighted_acc: 0.6260\n",
      "Epoch 14/500\n",
      " - 2s - loss: 1.3720 - weighted_acc: 0.4857 - val_loss: 1.2492 - val_weighted_acc: 0.6740\n",
      "Epoch 15/500\n",
      " - 2s - loss: 1.3440 - weighted_acc: 0.5500 - val_loss: 1.2106 - val_weighted_acc: 0.7100\n",
      "Epoch 16/500\n",
      " - 2s - loss: 1.3071 - weighted_acc: 0.5857 - val_loss: 1.1739 - val_weighted_acc: 0.7500\n",
      "Epoch 17/500\n",
      " - 2s - loss: 1.2688 - weighted_acc: 0.5786 - val_loss: 1.1384 - val_weighted_acc: 0.7800\n",
      "Epoch 18/500\n",
      " - 2s - loss: 1.2747 - weighted_acc: 0.6214 - val_loss: 1.1040 - val_weighted_acc: 0.7940\n",
      "Epoch 19/500\n",
      " - 2s - loss: 1.2531 - weighted_acc: 0.5929 - val_loss: 1.0703 - val_weighted_acc: 0.8100\n",
      "Epoch 20/500\n",
      " - 2s - loss: 1.1902 - weighted_acc: 0.6571 - val_loss: 1.0376 - val_weighted_acc: 0.8220\n",
      "Epoch 21/500\n",
      " - 2s - loss: 1.2053 - weighted_acc: 0.6143 - val_loss: 1.0065 - val_weighted_acc: 0.8300\n",
      "Epoch 22/500\n",
      " - 2s - loss: 1.0696 - weighted_acc: 0.7071 - val_loss: 0.9761 - val_weighted_acc: 0.8300\n",
      "Epoch 23/500\n",
      " - 2s - loss: 1.0720 - weighted_acc: 0.7143 - val_loss: 0.9464 - val_weighted_acc: 0.8340\n",
      "Epoch 24/500\n",
      " - 2s - loss: 1.0500 - weighted_acc: 0.6786 - val_loss: 0.9182 - val_weighted_acc: 0.8340\n",
      "Epoch 25/500\n",
      " - 2s - loss: 1.1011 - weighted_acc: 0.7214 - val_loss: 0.8921 - val_weighted_acc: 0.8340\n",
      "Epoch 26/500\n",
      " - 2s - loss: 1.0753 - weighted_acc: 0.6643 - val_loss: 0.8679 - val_weighted_acc: 0.8340\n",
      "Epoch 27/500\n",
      " - 2s - loss: 1.0764 - weighted_acc: 0.6929 - val_loss: 0.8452 - val_weighted_acc: 0.8380\n",
      "Epoch 28/500\n",
      " - 2s - loss: 1.0914 - weighted_acc: 0.7143 - val_loss: 0.8236 - val_weighted_acc: 0.8360\n",
      "Epoch 29/500\n",
      " - 2s - loss: 1.0310 - weighted_acc: 0.7286 - val_loss: 0.8036 - val_weighted_acc: 0.8360\n",
      "Epoch 30/500\n",
      " - 2s - loss: 0.9894 - weighted_acc: 0.7286 - val_loss: 0.7854 - val_weighted_acc: 0.8340\n",
      "Epoch 31/500\n",
      " - 2s - loss: 1.0427 - weighted_acc: 0.6714 - val_loss: 0.7693 - val_weighted_acc: 0.8400\n",
      "Epoch 32/500\n",
      " - 2s - loss: 0.9594 - weighted_acc: 0.7214 - val_loss: 0.7549 - val_weighted_acc: 0.8400\n",
      "Epoch 33/500\n",
      " - 2s - loss: 0.8811 - weighted_acc: 0.7500 - val_loss: 0.7419 - val_weighted_acc: 0.8420\n",
      "Epoch 34/500\n",
      " - 2s - loss: 0.8531 - weighted_acc: 0.7929 - val_loss: 0.7298 - val_weighted_acc: 0.8460\n",
      "Epoch 35/500\n",
      " - 2s - loss: 0.8684 - weighted_acc: 0.7714 - val_loss: 0.7179 - val_weighted_acc: 0.8380\n",
      "Epoch 36/500\n",
      " - 2s - loss: 0.8797 - weighted_acc: 0.7357 - val_loss: 0.7070 - val_weighted_acc: 0.8400\n",
      "Epoch 37/500\n",
      " - 2s - loss: 0.9228 - weighted_acc: 0.7286 - val_loss: 0.6965 - val_weighted_acc: 0.8400\n",
      "Epoch 38/500\n",
      " - 2s - loss: 0.9060 - weighted_acc: 0.7214 - val_loss: 0.6869 - val_weighted_acc: 0.8400\n",
      "Epoch 39/500\n",
      " - 2s - loss: 0.9333 - weighted_acc: 0.7286 - val_loss: 0.6782 - val_weighted_acc: 0.8380\n",
      "Epoch 40/500\n",
      " - 2s - loss: 0.7762 - weighted_acc: 0.8143 - val_loss: 0.6695 - val_weighted_acc: 0.8360\n",
      "Epoch 41/500\n",
      " - 2s - loss: 0.8242 - weighted_acc: 0.7714 - val_loss: 0.6609 - val_weighted_acc: 0.8340\n",
      "Epoch 42/500\n",
      " - 2s - loss: 0.6881 - weighted_acc: 0.7857 - val_loss: 0.6526 - val_weighted_acc: 0.8340\n",
      "Epoch 43/500\n",
      " - 2s - loss: 0.8160 - weighted_acc: 0.7429 - val_loss: 0.6455 - val_weighted_acc: 0.8280\n",
      "Epoch 44/500\n",
      " - 2s - loss: 0.8131 - weighted_acc: 0.7214 - val_loss: 0.6389 - val_weighted_acc: 0.8340\n",
      "Epoch 45/500\n",
      " - 2s - loss: 0.7463 - weighted_acc: 0.7786 - val_loss: 0.6332 - val_weighted_acc: 0.8300\n",
      "Epoch 46/500\n",
      " - 2s - loss: 0.8264 - weighted_acc: 0.7000 - val_loss: 0.6288 - val_weighted_acc: 0.8360\n",
      "Epoch 47/500\n",
      " - 2s - loss: 0.7811 - weighted_acc: 0.7714 - val_loss: 0.6253 - val_weighted_acc: 0.8260\n",
      "Epoch 48/500\n",
      " - 2s - loss: 0.7760 - weighted_acc: 0.7286 - val_loss: 0.6223 - val_weighted_acc: 0.8260\n",
      "Epoch 49/500\n",
      " - 2s - loss: 0.7830 - weighted_acc: 0.6857 - val_loss: 0.6190 - val_weighted_acc: 0.8220\n",
      "Epoch 50/500\n",
      " - 2s - loss: 0.7256 - weighted_acc: 0.8214 - val_loss: 0.6154 - val_weighted_acc: 0.8240\n",
      "Epoch 51/500\n",
      " - 2s - loss: 0.7237 - weighted_acc: 0.8000 - val_loss: 0.6119 - val_weighted_acc: 0.8300\n",
      "Epoch 52/500\n",
      " - 2s - loss: 0.7317 - weighted_acc: 0.7714 - val_loss: 0.6077 - val_weighted_acc: 0.8320\n",
      "Epoch 53/500\n",
      " - 2s - loss: 0.7260 - weighted_acc: 0.7786 - val_loss: 0.6034 - val_weighted_acc: 0.8300\n",
      "Epoch 54/500\n",
      " - 2s - loss: 0.7680 - weighted_acc: 0.7500 - val_loss: 0.5990 - val_weighted_acc: 0.8280\n",
      "Epoch 55/500\n",
      " - 2s - loss: 0.6560 - weighted_acc: 0.7714 - val_loss: 0.5951 - val_weighted_acc: 0.8300\n",
      "Epoch 56/500\n",
      " - 2s - loss: 0.7369 - weighted_acc: 0.7571 - val_loss: 0.5922 - val_weighted_acc: 0.8280\n",
      "Epoch 57/500\n",
      " - 2s - loss: 0.6894 - weighted_acc: 0.8071 - val_loss: 0.5892 - val_weighted_acc: 0.8300\n",
      "Epoch 58/500\n",
      " - 2s - loss: 0.7661 - weighted_acc: 0.7500 - val_loss: 0.5864 - val_weighted_acc: 0.8320\n",
      "Epoch 59/500\n",
      " - 2s - loss: 0.6937 - weighted_acc: 0.7857 - val_loss: 0.5840 - val_weighted_acc: 0.8320\n",
      "Epoch 60/500\n",
      " - 2s - loss: 0.6942 - weighted_acc: 0.7929 - val_loss: 0.5813 - val_weighted_acc: 0.8360\n",
      "Epoch 61/500\n",
      " - 2s - loss: 0.5909 - weighted_acc: 0.7786 - val_loss: 0.5787 - val_weighted_acc: 0.8400\n",
      "Epoch 62/500\n",
      " - 2s - loss: 0.6705 - weighted_acc: 0.7786 - val_loss: 0.5763 - val_weighted_acc: 0.8400\n",
      "Epoch 63/500\n",
      " - 2s - loss: 0.7452 - weighted_acc: 0.7571 - val_loss: 0.5741 - val_weighted_acc: 0.8400\n",
      "Epoch 64/500\n",
      " - 2s - loss: 0.5656 - weighted_acc: 0.8500 - val_loss: 0.5722 - val_weighted_acc: 0.8360\n",
      "Epoch 65/500\n",
      " - 2s - loss: 0.7030 - weighted_acc: 0.7500 - val_loss: 0.5705 - val_weighted_acc: 0.8380\n",
      "Epoch 66/500\n",
      " - 2s - loss: 0.6039 - weighted_acc: 0.7929 - val_loss: 0.5689 - val_weighted_acc: 0.8380\n",
      "Epoch 67/500\n",
      " - 2s - loss: 0.6600 - weighted_acc: 0.8000 - val_loss: 0.5681 - val_weighted_acc: 0.8380\n",
      "Epoch 68/500\n",
      " - 2s - loss: 0.5744 - weighted_acc: 0.7929 - val_loss: 0.5674 - val_weighted_acc: 0.8380\n",
      "Epoch 69/500\n",
      " - 2s - loss: 0.6275 - weighted_acc: 0.8143 - val_loss: 0.5666 - val_weighted_acc: 0.8380\n",
      "Epoch 70/500\n",
      " - 2s - loss: 0.6587 - weighted_acc: 0.8143 - val_loss: 0.5660 - val_weighted_acc: 0.8380\n",
      "Epoch 71/500\n",
      " - 2s - loss: 0.6104 - weighted_acc: 0.8214 - val_loss: 0.5651 - val_weighted_acc: 0.8380\n",
      "Epoch 72/500\n",
      " - 2s - loss: 0.5112 - weighted_acc: 0.8643 - val_loss: 0.5650 - val_weighted_acc: 0.8360\n",
      "Epoch 73/500\n",
      " - 2s - loss: 0.5615 - weighted_acc: 0.8143 - val_loss: 0.5653 - val_weighted_acc: 0.8400\n",
      "Epoch 74/500\n",
      " - 2s - loss: 0.6640 - weighted_acc: 0.7929 - val_loss: 0.5660 - val_weighted_acc: 0.8420\n",
      "Epoch 75/500\n",
      " - 2s - loss: 0.5772 - weighted_acc: 0.8071 - val_loss: 0.5661 - val_weighted_acc: 0.8420\n",
      "Epoch 76/500\n",
      " - 2s - loss: 0.5840 - weighted_acc: 0.8357 - val_loss: 0.5667 - val_weighted_acc: 0.8400\n",
      "Epoch 77/500\n",
      " - 2s - loss: 0.5963 - weighted_acc: 0.8071 - val_loss: 0.5671 - val_weighted_acc: 0.8420\n",
      "Epoch 78/500\n",
      " - 2s - loss: 0.5582 - weighted_acc: 0.8286 - val_loss: 0.5674 - val_weighted_acc: 0.8440\n",
      "Epoch 79/500\n",
      " - 2s - loss: 0.5494 - weighted_acc: 0.8929 - val_loss: 0.5677 - val_weighted_acc: 0.8420\n",
      "Epoch 80/500\n",
      " - 2s - loss: 0.6153 - weighted_acc: 0.8071 - val_loss: 0.5690 - val_weighted_acc: 0.8380\n"
     ]
    },
    {
     "name": "stdout",
     "output_type": "stream",
     "text": [
      "Epoch 81/500\n",
      " - 2s - loss: 0.5189 - weighted_acc: 0.8857 - val_loss: 0.5703 - val_weighted_acc: 0.8380\n",
      "Epoch 82/500\n",
      " - 2s - loss: 0.4783 - weighted_acc: 0.8786 - val_loss: 0.5711 - val_weighted_acc: 0.8380\n",
      "Epoch 83/500\n",
      " - 2s - loss: 0.5561 - weighted_acc: 0.8429 - val_loss: 0.5719 - val_weighted_acc: 0.8360\n",
      "Epoch 84/500\n",
      " - 2s - loss: 0.4805 - weighted_acc: 0.8571 - val_loss: 0.5735 - val_weighted_acc: 0.8320\n"
     ]
    }
   ],
   "source": [
    "history = model.fit_generator(\n",
    "    train_gen,\n",
    "    epochs=500,\n",
    "    validation_data=val_gen,\n",
    "    verbose=2,\n",
    "    shuffle=False,  # this should be False, since shuffling data means shuffling the whole graph\n",
    "    callbacks=[es_callback, mc_callback],\n",
    ")"
   ]
  },
  {
   "cell_type": "code",
   "execution_count": 26,
   "metadata": {},
   "outputs": [],
   "source": [
    "import matplotlib.pyplot as plt\n",
    "%matplotlib inline\n",
    "\n",
    "def remove_prefix(text, prefix):\n",
    "    return text[text.startswith(prefix) and len(prefix):]\n",
    "\n",
    "def plot_history(history):\n",
    "    metrics = sorted(set([remove_prefix(m, \"val_\") for m in list(history.history.keys())]))\n",
    "    for m in metrics:\n",
    "        # summarize history for metric m\n",
    "        plt.plot(history.history[m])\n",
    "        plt.plot(history.history['val_' + m])\n",
    "        plt.title(m)\n",
    "        plt.ylabel(m)\n",
    "        plt.xlabel('epoch')\n",
    "        plt.legend(['train', 'validation'], loc='right')\n",
    "        plt.show()"
   ]
  },
  {
   "cell_type": "code",
   "execution_count": 27,
   "metadata": {},
   "outputs": [
    {
     "data": {
      "image/png": "[encoded data removed]",
      "text/plain": [
       "<Figure size 432x288 with 1 Axes>"
      ]
     },
     "metadata": {
      "needs_background": "light"
     },
     "output_type": "display_data"
    },
    {
     "data": {
      "image/png": "[encoded data removed]",
      "text/plain": [
       "<Figure size 432x288 with 1 Axes>"
      ]
     },
     "metadata": {
      "needs_background": "light"
     },
     "output_type": "display_data"
    }
   ],
   "source": [
    "plot_history(history)"
   ]
  },
  {
   "cell_type": "markdown",
   "metadata": {},
   "source": [
    "Reload the saved weights of the best model found during the training (according to validation accuracy)"
   ]
  },
  {
   "cell_type": "code",
   "execution_count": 28,
   "metadata": {},
   "outputs": [],
   "source": [
    "model.load_weights(\"logs/best_model.h5\")"
   ]
  },
  {
   "cell_type": "markdown",
   "metadata": {},
   "source": [
    "Evaluate the best model on the test set"
   ]
  },
  {
   "cell_type": "code",
   "execution_count": 29,
   "metadata": {},
   "outputs": [],
   "source": [
    "test_gen = generator.flow(test_data.index, test_targets)"
   ]
  },
  {
   "cell_type": "code",
   "execution_count": 30,
   "metadata": {},
   "outputs": [
    {
     "name": "stdout",
     "output_type": "stream",
     "text": [
      "\n",
      "Test Set Metrics:\n",
      "\tloss: 0.7966\n",
      "\tweighted_acc: 0.8129\n"
     ]
    }
   ],
   "source": [
    "test_metrics = model.evaluate_generator(test_gen)\n",
    "print(\"\\nTest Set Metrics:\")\n",
    "for name, val in zip(model.metrics_names, test_metrics):\n",
    "    print(\"\\t{}: {:0.4f}\".format(name, val))"
   ]
  },
  {
   "cell_type": "markdown",
   "metadata": {},
   "source": [
    "### Making predictions with the model"
   ]
  },
  {
   "cell_type": "markdown",
   "metadata": {},
   "source": [
    "Now let's get the predictions themselves for all nodes:"
   ]
  },
  {
   "cell_type": "code",
   "execution_count": 31,
   "metadata": {},
   "outputs": [],
   "source": [
    "all_nodes = node_data.index\n",
    "all_gen = generator.flow(all_nodes)\n",
    "all_predictions = model.predict_generator(all_gen)"
   ]
  },
  {
   "cell_type": "markdown",
   "metadata": {},
   "source": [
    "These predictions will be the output of the softmax layer, so to get final categories we'll use the `inverse_transform` method of our target attribute specifcation to turn these values back to the original categories"
   ]
  },
  {
   "cell_type": "code",
   "execution_count": 32,
   "metadata": {},
   "outputs": [],
   "source": [
    "node_predictions = target_encoding.inverse_transform(all_predictions)"
   ]
  },
  {
   "cell_type": "markdown",
   "metadata": {},
   "source": [
    "Let's have a look at a few (note that generator orders nodes according to the order in G.nodes(), so the predictions are ordered like that as well. We thus need to index results as `G.nodes()`"
   ]
  },
  {
   "cell_type": "code",
   "execution_count": 33,
   "metadata": {},
   "outputs": [
    {
     "data": {
      "text/html": [
       "<div>\n",
       "<style scoped>\n",
       "    .dataframe tbody tr th:only-of-type {\n",
       "        vertical-align: middle;\n",
       "    }\n",
       "\n",
       "    .dataframe tbody tr th {\n",
       "        vertical-align: top;\n",
       "    }\n",
       "\n",
       "    .dataframe thead th {\n",
       "        text-align: right;\n",
       "    }\n",
       "</style>\n",
       "<table border=\"1\" class=\"dataframe\">\n",
       "  <thead>\n",
       "    <tr style=\"text-align: right;\">\n",
       "      <th></th>\n",
       "      <th>Predicted</th>\n",
       "      <th>True</th>\n",
       "    </tr>\n",
       "  </thead>\n",
       "  <tbody>\n",
       "    <tr>\n",
       "      <th>35</th>\n",
       "      <td>subject=Genetic_Algorithms</td>\n",
       "      <td>Genetic_Algorithms</td>\n",
       "    </tr>\n",
       "    <tr>\n",
       "      <th>40</th>\n",
       "      <td>subject=Genetic_Algorithms</td>\n",
       "      <td>Genetic_Algorithms</td>\n",
       "    </tr>\n",
       "    <tr>\n",
       "      <th>114</th>\n",
       "      <td>subject=Reinforcement_Learning</td>\n",
       "      <td>Reinforcement_Learning</td>\n",
       "    </tr>\n",
       "    <tr>\n",
       "      <th>117</th>\n",
       "      <td>subject=Reinforcement_Learning</td>\n",
       "      <td>Reinforcement_Learning</td>\n",
       "    </tr>\n",
       "    <tr>\n",
       "      <th>128</th>\n",
       "      <td>subject=Reinforcement_Learning</td>\n",
       "      <td>Reinforcement_Learning</td>\n",
       "    </tr>\n",
       "    <tr>\n",
       "      <th>130</th>\n",
       "      <td>subject=Reinforcement_Learning</td>\n",
       "      <td>Reinforcement_Learning</td>\n",
       "    </tr>\n",
       "    <tr>\n",
       "      <th>164</th>\n",
       "      <td>subject=Theory</td>\n",
       "      <td>Theory</td>\n",
       "    </tr>\n",
       "    <tr>\n",
       "      <th>288</th>\n",
       "      <td>subject=Reinforcement_Learning</td>\n",
       "      <td>Reinforcement_Learning</td>\n",
       "    </tr>\n",
       "    <tr>\n",
       "      <th>424</th>\n",
       "      <td>subject=Neural_Networks</td>\n",
       "      <td>Rule_Learning</td>\n",
       "    </tr>\n",
       "    <tr>\n",
       "      <th>434</th>\n",
       "      <td>subject=Reinforcement_Learning</td>\n",
       "      <td>Reinforcement_Learning</td>\n",
       "    </tr>\n",
       "    <tr>\n",
       "      <th>463</th>\n",
       "      <td>subject=Case_Based</td>\n",
       "      <td>Case_Based</td>\n",
       "    </tr>\n",
       "    <tr>\n",
       "      <th>504</th>\n",
       "      <td>subject=Probabilistic_Methods</td>\n",
       "      <td>Probabilistic_Methods</td>\n",
       "    </tr>\n",
       "    <tr>\n",
       "      <th>506</th>\n",
       "      <td>subject=Probabilistic_Methods</td>\n",
       "      <td>Probabilistic_Methods</td>\n",
       "    </tr>\n",
       "    <tr>\n",
       "      <th>887</th>\n",
       "      <td>subject=Reinforcement_Learning</td>\n",
       "      <td>Genetic_Algorithms</td>\n",
       "    </tr>\n",
       "    <tr>\n",
       "      <th>906</th>\n",
       "      <td>subject=Neural_Networks</td>\n",
       "      <td>Neural_Networks</td>\n",
       "    </tr>\n",
       "    <tr>\n",
       "      <th>910</th>\n",
       "      <td>subject=Neural_Networks</td>\n",
       "      <td>Neural_Networks</td>\n",
       "    </tr>\n",
       "    <tr>\n",
       "      <th>936</th>\n",
       "      <td>subject=Case_Based</td>\n",
       "      <td>Case_Based</td>\n",
       "    </tr>\n",
       "    <tr>\n",
       "      <th>940</th>\n",
       "      <td>subject=Case_Based</td>\n",
       "      <td>Case_Based</td>\n",
       "    </tr>\n",
       "    <tr>\n",
       "      <th>941</th>\n",
       "      <td>subject=Case_Based</td>\n",
       "      <td>Case_Based</td>\n",
       "    </tr>\n",
       "    <tr>\n",
       "      <th>943</th>\n",
       "      <td>subject=Case_Based</td>\n",
       "      <td>Case_Based</td>\n",
       "    </tr>\n",
       "  </tbody>\n",
       "</table>\n",
       "</div>"
      ],
      "text/plain": [
       "                          Predicted                    True\n",
       "35       subject=Genetic_Algorithms      Genetic_Algorithms\n",
       "40       subject=Genetic_Algorithms      Genetic_Algorithms\n",
       "114  subject=Reinforcement_Learning  Reinforcement_Learning\n",
       "117  subject=Reinforcement_Learning  Reinforcement_Learning\n",
       "128  subject=Reinforcement_Learning  Reinforcement_Learning\n",
       "130  subject=Reinforcement_Learning  Reinforcement_Learning\n",
       "164                  subject=Theory                  Theory\n",
       "288  subject=Reinforcement_Learning  Reinforcement_Learning\n",
       "424         subject=Neural_Networks           Rule_Learning\n",
       "434  subject=Reinforcement_Learning  Reinforcement_Learning\n",
       "463              subject=Case_Based              Case_Based\n",
       "504   subject=Probabilistic_Methods   Probabilistic_Methods\n",
       "506   subject=Probabilistic_Methods   Probabilistic_Methods\n",
       "887  subject=Reinforcement_Learning      Genetic_Algorithms\n",
       "906         subject=Neural_Networks         Neural_Networks\n",
       "910         subject=Neural_Networks         Neural_Networks\n",
       "936              subject=Case_Based              Case_Based\n",
       "940              subject=Case_Based              Case_Based\n",
       "941              subject=Case_Based              Case_Based\n",
       "943              subject=Case_Based              Case_Based"
      ]
     },
     "execution_count": 33,
     "metadata": {},
     "output_type": "execute_result"
    }
   ],
   "source": [
    "results = pd.DataFrame(node_predictions, index=G.nodes()).idxmax(axis=1)\n",
    "df = pd.DataFrame({\"Predicted\": results, \"True\": node_data['subject']})\n",
    "df.head(20)"
   ]
  },
  {
   "cell_type": "markdown",
   "metadata": {},
   "source": [
    "## Node embeddings\n",
    "Evaluate node embeddings as activations of the output of GAT layer stack, and visualise them, coloring nodes by their subject label.\n",
    "\n",
    "The GAT embeddings are the output of the GAT layers stack, namely the `x_out` variable. Let's create a new model with the same inputs as we used previously `x_inp` but now the output is the embeddings rather than the predicted class. Additionally note that the weights trained previously are kept in the new model."
   ]
  },
  {
   "cell_type": "code",
   "execution_count": 34,
   "metadata": {},
   "outputs": [],
   "source": [
    "embedding_model = Model(inputs=x_inp, outputs=x_out)"
   ]
  },
  {
   "cell_type": "code",
   "execution_count": 35,
   "metadata": {},
   "outputs": [
    {
     "data": {
      "text/plain": [
       "(2708, 8)"
      ]
     },
     "execution_count": 35,
     "metadata": {},
     "output_type": "execute_result"
    }
   ],
   "source": [
    "emb = embedding_model.predict_generator(all_gen)\n",
    "emb.shape"
   ]
  },
  {
   "cell_type": "markdown",
   "metadata": {},
   "source": [
    "Project the embeddings to 2d using either TSNE or PCA transform, and visualise, coloring nodes by their subject label"
   ]
  },
  {
   "cell_type": "code",
   "execution_count": 36,
   "metadata": {},
   "outputs": [],
   "source": [
    "from sklearn.decomposition import PCA\n",
    "from sklearn.manifold import TSNE\n",
    "import pandas as pd\n",
    "import numpy as np"
   ]
  },
  {
   "cell_type": "markdown",
   "metadata": {},
   "source": [
    "Note that the generator orders nodes according to the order in G.nodes(), so we need to re-index node_data"
   ]
  },
  {
   "cell_type": "code",
   "execution_count": 37,
   "metadata": {},
   "outputs": [],
   "source": [
    "X = emb\n",
    "y = np.argmax(target_encoding.transform(node_data.reindex(G.nodes())[[\"subject\"]].to_dict('records')), axis=1)"
   ]
  },
  {
   "cell_type": "code",
   "execution_count": 38,
   "metadata": {},
   "outputs": [],
   "source": [
    "if X.shape[1] > 2:\n",
    "    transform = TSNE #PCA \n",
    "\n",
    "    trans = transform(n_components=2)\n",
    "    emb_transformed = pd.DataFrame(trans.fit_transform(X), index=list(G.nodes()))\n",
    "    emb_transformed['label'] = y\n",
    "else:\n",
    "    emb_transformed = pd.DataFrame(X, index=list(G.nodes()))\n",
    "    emb_transformed = emb_transformed.rename(columns = {'0':0, '1':1})\n",
    "    emb_transformed['label'] = y"
   ]
  },
  {
   "cell_type": "code",
   "execution_count": 39,
   "metadata": {},
   "outputs": [
    {
     "data": {
      "image/png": "[encoded data removed]",
      "text/plain": [
       "<Figure size 504x504 with 1 Axes>"
      ]
     },
     "metadata": {
      "needs_background": "light"
     },
     "output_type": "display_data"
    }
   ],
   "source": [
    "alpha = 0.7\n",
    "\n",
    "fig, ax = plt.subplots(figsize=(7,7))\n",
    "ax.scatter(emb_transformed[0], emb_transformed[1], c=emb_transformed['label'].astype(\"category\"), \n",
    "            cmap=\"jet\", alpha=alpha)\n",
    "ax.set(aspect=\"equal\", xlabel=\"$X_1$\", ylabel=\"$X_2$\")\n",
    "plt.title('{} visualization of GAT embeddings for cora dataset'.format(transform.__name__))\n",
    "plt.show()"
   ]
  }
 ],
 "metadata": {
  "kernelspec": {
   "display_name": "Python 3",
   "language": "python",
   "name": "python3"
  },
  "language_info": {
   "codemirror_mode": {
    "name": "ipython",
    "version": 3
   },
   "file_extension": ".py",
   "mimetype": "text/x-python",
   "name": "python",
   "nbconvert_exporter": "python",
   "pygments_lexer": "ipython3",
   "version": "3.6.6"
  }
 },
 "nbformat": 4,
 "nbformat_minor": 2
}
