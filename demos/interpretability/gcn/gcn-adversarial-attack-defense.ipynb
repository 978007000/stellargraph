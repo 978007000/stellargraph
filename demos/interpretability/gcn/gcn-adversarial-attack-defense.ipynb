{
 "cells": [
  {
   "cell_type": "markdown",
   "metadata": {},
   "source": [
    "This demo shows how to use integrated gradients to guide the adversarial attack on graph convolutional networks (GCNs) under the transductive setting (i.e., models are re-trained for attacked graph). We also show that the attacks can easily be defended via a simple pre-processing. This potentially shows the limitations of GNN models like GCN. \n",
    "\n",
    "This also inspires us to explore stronger adversarial attacks on graph neural networks."
   ]
  },
  {
   "cell_type": "code",
   "execution_count": 11,
   "metadata": {},
   "outputs": [],
   "source": [
    "import networkx as nx\n",
    "import pandas as pd\n",
    "import numpy as np\n",
    "from scipy import stats\n",
    "import os\n",
    "import time\n",
    "import stellargraph as sg\n",
    "from stellargraph.mapper import FullBatchNodeGenerator\n",
    "from stellargraph.layer import GCN\n",
    "import keras\n",
    "from keras import layers, optimizers, losses, metrics, Model, regularizers\n",
    "from sklearn import preprocessing, feature_extraction, model_selection\n",
    "from stellargraph.core.utils import GCN_Aadj_feats_op\n",
    "from copy import deepcopy\n",
    "import matplotlib.pyplot as plt\n",
    "from sklearn.metrics import jaccard_similarity_score\n",
    "%matplotlib inline"
   ]
  },
  {
   "cell_type": "markdown",
   "metadata": {},
   "source": [
    "### Loading the CORA network"
   ]
  },
  {
   "cell_type": "markdown",
   "metadata": {},
   "source": [
    "**Downloading the CORA dataset:**\n",
    "    \n",
    "The dataset used in this demo can be downloaded from https://linqs-data.soe.ucsc.edu/public/lbc/cora.tgz\n",
    "\n",
    "The following is the description of the dataset:\n",
    "> The Cora dataset consists of 2708 scientific publications classified into one of seven classes.\n",
    "> The citation network consists of 5429 links. Each publication in the dataset is described by a\n",
    "> 0/1-valued word vector indicating the absence/presence of the corresponding word from the dictionary.\n",
    "> The dictionary consists of 1433 unique words. The README file in the dataset provides more details.\n",
    "\n",
    "Download and unzip the cora.tgz file to a location on your computer and set the `data_dir` variable to\n",
    "point to the location of the dataset (the directory containing \"cora.cites\" and \"cora.content\")."
   ]
  },
  {
   "cell_type": "code",
   "execution_count": 12,
   "metadata": {},
   "outputs": [],
   "source": [
    "data_dir = os.path.expanduser(\"~/data/cora\")"
   ]
  },
  {
   "cell_type": "markdown",
   "metadata": {},
   "source": [
    "Load the graph from edgelist"
   ]
  },
  {
   "cell_type": "code",
   "execution_count": 13,
   "metadata": {},
   "outputs": [
    {
     "name": "stderr",
     "output_type": "stream",
     "text": [
      "/home/wuhuijun/anaconda3/envs/stellargraph/lib/python3.6/site-packages/ipykernel/__main__.py:1: FutureWarning: read_table is deprecated, use read_csv instead, passing sep='\\t'.\n",
      "  if __name__ == '__main__':\n"
     ]
    }
   ],
   "source": [
    "edgelist = pd.read_table(os.path.join(data_dir, \"cora.cites\"), header=None, names=[\"source\", \"target\"])\n",
    "edgelist[\"label\"] = \"cites\""
   ]
  },
  {
   "cell_type": "code",
   "execution_count": 14,
   "metadata": {},
   "outputs": [],
   "source": [
    "Gnx = nx.from_pandas_edgelist(edgelist, edge_attr=\"label\")\n",
    "nx.set_node_attributes(Gnx, \"paper\", \"label\")\n",
    "feature_names = [\"w_{}\".format(ii) for ii in range(1433)]\n",
    "column_names =  feature_names + [\"subject\"]\n",
    "node_data = pd.read_csv(os.path.join(data_dir, \"cora.content\"), sep='\\t', header=None, names=column_names)"
   ]
  },
  {
   "cell_type": "markdown",
   "metadata": {},
   "source": [
    "### Splitting the data"
   ]
  },
  {
   "cell_type": "markdown",
   "metadata": {},
   "source": [
    "For machine learning we want to take a subset of the nodes for training, and use the rest for validation and testing. We'll use scikit-learn again to do this.\n",
    "\n",
    "Here we're taking 140 node labels for training, 500 for validation, and the rest for testing."
   ]
  },
  {
   "cell_type": "code",
   "execution_count": 15,
   "metadata": {},
   "outputs": [],
   "source": [
    "train_data, test_data = model_selection.train_test_split(node_data, train_size=140, test_size=None, stratify=node_data['subject'])\n",
    "val_data, test_data = model_selection.train_test_split(test_data, train_size=500, test_size=None, stratify=test_data['subject'])"
   ]
  },
  {
   "cell_type": "code",
   "execution_count": 16,
   "metadata": {},
   "outputs": [
    {
     "data": {
      "text/plain": [
       "Counter({'Case_Based': 16,\n",
       "         'Genetic_Algorithms': 22,\n",
       "         'Neural_Networks': 42,\n",
       "         'Probabilistic_Methods': 22,\n",
       "         'Reinforcement_Learning': 11,\n",
       "         'Rule_Learning': 9,\n",
       "         'Theory': 18})"
      ]
     },
     "execution_count": 16,
     "metadata": {},
     "output_type": "execute_result"
    }
   ],
   "source": [
    "from collections import Counter\n",
    "Counter(train_data['subject'])"
   ]
  },
  {
   "cell_type": "markdown",
   "metadata": {},
   "source": [
    "### Converting to numeric arrays"
   ]
  },
  {
   "cell_type": "markdown",
   "metadata": {},
   "source": [
    "For our categorical target, we will use one-hot vectors that will be fed into a soft-max Keras layer during training. To do this conversion ...\n",
    "\n",
    "We now do the same for the node attributes we want to use to predict the subject. These are the feature vectors that the Keras model will use as input. The CORA dataset contains attributes 'w_x' that correspond to words found in that publication. If a word occurs more than once in a publication the relevant attribute will be set to one, otherwise it will be zero."
   ]
  },
  {
   "cell_type": "code",
   "execution_count": 17,
   "metadata": {},
   "outputs": [
    {
     "name": "stdout",
     "output_type": "stream",
     "text": [
      "StellarGraph: Undirected multigraph\n",
      " Nodes: 2708, Edges: 5278\n",
      "\n",
      " Node types:\n",
      "  paper: [2708]\n",
      "    Edge types: paper-cites->paper\n",
      "\n",
      " Edge types:\n",
      "    paper-cites->paper: [5278]\n",
      "\n"
     ]
    }
   ],
   "source": [
    "target_encoding = feature_extraction.DictVectorizer(sparse=False)\n",
    "feature_names = [\"w_{}\".format(ii) for ii in range(1433)]\n",
    "column_names =  feature_names + [\"subject\"]\n",
    "train_targets = target_encoding.fit_transform(train_data[[\"subject\"]].to_dict('records'))\n",
    "val_targets = target_encoding.transform(val_data[[\"subject\"]].to_dict('records'))\n",
    "test_targets = target_encoding.transform(test_data[[\"subject\"]].to_dict('records'))\n",
    "\n",
    "node_ids = node_data.index\n",
    "all_targets = target_encoding.transform(\n",
    "        node_data[[\"subject\"]].to_dict(\"records\")\n",
    "    )\n",
    "node_features = node_data[feature_names]\n",
    "G = sg.StellarGraph(Gnx, node_features=node_features)\n",
    "print(G.info())"
   ]
  },
  {
   "cell_type": "markdown",
   "metadata": {},
   "source": [
    "### Creating the GCN model in Keras"
   ]
  },
  {
   "cell_type": "markdown",
   "metadata": {},
   "source": [
    "Now create a StellarGraph object from the NetworkX graph and the node features and targets. It is StellarGraph objects that we use in this library to perform machine learning tasks on."
   ]
  },
  {
   "cell_type": "markdown",
   "metadata": {},
   "source": [
    "To feed data from the graph to the Keras model we need a generator. Since GAT is a full-batch model, we use the `FullBatchNodeGenerator` class to feed node features and graph adjacency matrix to the model."
   ]
  },
  {
   "cell_type": "code",
   "execution_count": 18,
   "metadata": {},
   "outputs": [],
   "source": [
    "generator = FullBatchNodeGenerator(G, method=\"none\", sparse=False)"
   ]
  },
  {
   "cell_type": "markdown",
   "metadata": {},
   "source": [
    "For training we map only the training nodes returned from our splitter and the target values."
   ]
  },
  {
   "cell_type": "code",
   "execution_count": 19,
   "metadata": {},
   "outputs": [],
   "source": [
    "train_gen = generator.flow(train_data.index, train_targets)"
   ]
  },
  {
   "cell_type": "markdown",
   "metadata": {},
   "source": [
    "Now we can specify our machine learning model, we need a few more parameters for this:\n",
    "\n",
    "the layer_sizes is a list of hidden feature sizes of each layer in the model. In this example we use two GCN layers with 16/7-dimensional hidden node features at each layer.\n",
    "activations is a list of activations applied to each layer's output\n",
    "Arguments such as bias, dropout, kernel_regularizer are internal parameters of the model, execute GCN for details."
   ]
  },
  {
   "cell_type": "code",
   "execution_count": 20,
   "metadata": {},
   "outputs": [],
   "source": [
    "layer_sizes = [16, 16]\n",
    "gcn = GCN(layer_sizes=layer_sizes, activations=[\"elu\", \"elu\"], generator=generator, bias=True, dropout=0.3,kernel_regularizer=regularizers.l2(5e-4))"
   ]
  },
  {
   "cell_type": "code",
   "execution_count": 21,
   "metadata": {
    "collapsed": true
   },
   "outputs": [],
   "source": [
    "# Expose the input and output tensors of the GCN model for node prediction, via GCN.node_model() method:\n",
    "x_inp, x_out = gcn.node_model()\n",
    "# Snap the final estimator layer to x_out\n",
    "x_out = layers.Dense(units=train_targets.shape[1], activation=\"softmax\")(x_out)"
   ]
  },
  {
   "cell_type": "markdown",
   "metadata": {},
   "source": [
    "### Training the model"
   ]
  },
  {
   "cell_type": "markdown",
   "metadata": {},
   "source": [
    "Now let's create the actual Keras model with the input tensors `x_inp` and output tensors being the predictions `x_out` from the final dense layer"
   ]
  },
  {
   "cell_type": "code",
   "execution_count": 22,
   "metadata": {},
   "outputs": [],
   "source": [
    "model = keras.Model(inputs=x_inp, outputs=x_out)"
   ]
  },
  {
   "cell_type": "code",
   "execution_count": 23,
   "metadata": {},
   "outputs": [],
   "source": [
    "model.compile(\n",
    "    optimizer=optimizers.Adam(lr=0.005),# decay=0.001),\n",
    "    loss=losses.categorical_crossentropy,\n",
    "    weighted_metrics=[metrics.categorical_accuracy],\n",
    ")\n",
    "initial_weights = model.get_weights()\n"
   ]
  },
  {
   "cell_type": "markdown",
   "metadata": {},
   "source": [
    "Train the model, keeping track of its loss and accuracy on the training set, and its generalisation performance on the validation set (we need to create another generator over the validation data for this)"
   ]
  },
  {
   "cell_type": "code",
   "execution_count": 24,
   "metadata": {},
   "outputs": [],
   "source": [
    "val_gen = generator.flow(val_data.index, val_targets)\n"
   ]
  },
  {
   "cell_type": "code",
   "execution_count": 25,
   "metadata": {},
   "outputs": [
    {
     "name": "stdout",
     "output_type": "stream",
     "text": [
      "(2708,)\n"
     ]
    }
   ],
   "source": [
    "N = len(node_ids)\n",
    "graph_nodes = list(Gnx.nodes())\n",
    "all_gen = generator.flow(graph_nodes)\n",
    "[X, _, A], y_all = all_gen[0]\n",
    "sample_weights = np.zeros(X.shape[1])\n",
    "sample_weights[train_gen.target_indices[0]] = 1\n",
    "print(sample_weights.shape)"
   ]
  },
  {
   "cell_type": "markdown",
   "metadata": {},
   "source": [
    "Train the model"
   ]
  },
  {
   "cell_type": "code",
   "execution_count": 26,
   "metadata": {},
   "outputs": [
    {
     "name": "stdout",
     "output_type": "stream",
     "text": [
      "Epoch 1/20\n",
      " - 4s - loss: 1.9853 - weighted_categorical_accuracy: 0.1000 - val_loss: 1.9170 - val_weighted_categorical_accuracy: 0.3060\n",
      "Epoch 2/20\n",
      " - 2s - loss: 1.8873 - weighted_categorical_accuracy: 0.3500 - val_loss: 1.8711 - val_weighted_categorical_accuracy: 0.3300\n",
      "Epoch 3/20\n",
      " - 2s - loss: 1.8132 - weighted_categorical_accuracy: 0.4143 - val_loss: 1.8213 - val_weighted_categorical_accuracy: 0.3300\n",
      "Epoch 4/20\n",
      " - 3s - loss: 1.7328 - weighted_categorical_accuracy: 0.4714 - val_loss: 1.7734 - val_weighted_categorical_accuracy: 0.3440\n",
      "Epoch 5/20\n",
      " - 3s - loss: 1.6508 - weighted_categorical_accuracy: 0.4714 - val_loss: 1.7260 - val_weighted_categorical_accuracy: 0.3600\n",
      "Epoch 6/20\n",
      " - 2s - loss: 1.5832 - weighted_categorical_accuracy: 0.5214 - val_loss: 1.6785 - val_weighted_categorical_accuracy: 0.3780\n",
      "Epoch 7/20\n",
      " - 3s - loss: 1.5093 - weighted_categorical_accuracy: 0.5929 - val_loss: 1.6319 - val_weighted_categorical_accuracy: 0.4180\n",
      "Epoch 8/20\n",
      " - 4s - loss: 1.4217 - weighted_categorical_accuracy: 0.6643 - val_loss: 1.5844 - val_weighted_categorical_accuracy: 0.4620\n",
      "Epoch 9/20\n",
      " - 3s - loss: 1.3417 - weighted_categorical_accuracy: 0.6786 - val_loss: 1.5374 - val_weighted_categorical_accuracy: 0.5060\n",
      "Epoch 10/20\n",
      " - 3s - loss: 1.2745 - weighted_categorical_accuracy: 0.6714 - val_loss: 1.4910 - val_weighted_categorical_accuracy: 0.5520\n",
      "Epoch 11/20\n",
      " - 2s - loss: 1.1822 - weighted_categorical_accuracy: 0.7714 - val_loss: 1.4453 - val_weighted_categorical_accuracy: 0.5900\n",
      "Epoch 12/20\n",
      " - 2s - loss: 1.1226 - weighted_categorical_accuracy: 0.8000 - val_loss: 1.4004 - val_weighted_categorical_accuracy: 0.6300\n",
      "Epoch 13/20\n",
      " - 2s - loss: 1.0789 - weighted_categorical_accuracy: 0.8286 - val_loss: 1.3565 - val_weighted_categorical_accuracy: 0.6420\n",
      "Epoch 14/20\n",
      " - 2s - loss: 0.9875 - weighted_categorical_accuracy: 0.8500 - val_loss: 1.3142 - val_weighted_categorical_accuracy: 0.6620\n",
      "Epoch 15/20\n",
      " - 3s - loss: 0.9409 - weighted_categorical_accuracy: 0.8857 - val_loss: 1.2742 - val_weighted_categorical_accuracy: 0.6800\n",
      "Epoch 16/20\n",
      " - 3s - loss: 0.8740 - weighted_categorical_accuracy: 0.8857 - val_loss: 1.2362 - val_weighted_categorical_accuracy: 0.6980\n",
      "Epoch 17/20\n",
      " - 3s - loss: 0.8017 - weighted_categorical_accuracy: 0.8857 - val_loss: 1.2004 - val_weighted_categorical_accuracy: 0.7120\n",
      "Epoch 18/20\n",
      " - 3s - loss: 0.7647 - weighted_categorical_accuracy: 0.8929 - val_loss: 1.1670 - val_weighted_categorical_accuracy: 0.7220\n",
      "Epoch 19/20\n",
      " - 5s - loss: 0.7024 - weighted_categorical_accuracy: 0.9286 - val_loss: 1.1359 - val_weighted_categorical_accuracy: 0.7240\n",
      "Epoch 20/20\n",
      " - 4s - loss: 0.6494 - weighted_categorical_accuracy: 0.9214 - val_loss: 1.1064 - val_weighted_categorical_accuracy: 0.7320\n"
     ]
    }
   ],
   "source": [
    "history = model.fit_generator(train_gen,\n",
    "                    shuffle=False,\n",
    "                    epochs=20,\n",
    "                    verbose=2,\n",
    "                    validation_data=val_gen)"
   ]
  },
  {
   "cell_type": "code",
   "execution_count": 27,
   "metadata": {
    "collapsed": true
   },
   "outputs": [],
   "source": [
    "import matplotlib.pyplot as plt\n",
    "%matplotlib inline\n",
    "\n",
    "def remove_prefix(text, prefix):\n",
    "    return text[text.startswith(prefix) and len(prefix):]\n",
    "\n",
    "def plot_history(history):\n",
    "    metrics = sorted(set([remove_prefix(m, \"val_\") for m in list(history.history.keys())]))\n",
    "    for m in metrics:\n",
    "        # summarize history for metric m\n",
    "        plt.plot(history.history[m])\n",
    "        plt.plot(history.history['val_' + m])\n",
    "        plt.title(m)\n",
    "        plt.ylabel(m)\n",
    "        plt.xlabel('epoch')\n",
    "        plt.legend(['train', 'validation'], loc='best')\n",
    "        plt.show()"
   ]
  },
  {
   "cell_type": "code",
   "execution_count": 28,
   "metadata": {},
   "outputs": [
    {
     "data": {
      "image/png": "[encoded data removed]",
      "text/plain": [
       "<matplotlib.figure.Figure at 0x7fc23ff7bd68>"
      ]
     },
     "metadata": {},
     "output_type": "display_data"
    },
    {
     "data": {
      "image/png": "[encoded data removed]",
      "text/plain": [
       "<matplotlib.figure.Figure at 0x7fc2444c99e8>"
      ]
     },
     "metadata": {},
     "output_type": "display_data"
    }
   ],
   "source": [
    "plot_history(history)"
   ]
  },
  {
   "cell_type": "markdown",
   "metadata": {},
   "source": [
    "Evaluate the trained model on the test set"
   ]
  },
  {
   "cell_type": "code",
   "execution_count": 29,
   "metadata": {},
   "outputs": [
    {
     "name": "stdout",
     "output_type": "stream",
     "text": [
      "\n",
      "Test Set Metrics:\n",
      "\tloss: 1.0625\n",
      "\tweighted_categorical_accuracy: 0.7408\n"
     ]
    }
   ],
   "source": [
    "test_gen = generator.flow(test_data.index, test_targets)\n",
    "test_metrics = model.evaluate_generator(test_gen)\n",
    "print(\"\\nTest Set Metrics:\")\n",
    "for name, val in zip(model.metrics_names, test_metrics):\n",
    "    print(\"\\t{}: {:0.4f}\".format(name, val))"
   ]
  },
  {
   "cell_type": "markdown",
   "metadata": {},
   "source": [
    "# Node and link importance via saliency maps"
   ]
  },
  {
   "cell_type": "markdown",
   "metadata": {},
   "source": [
    "Now we define the importances of node features, nodes, and links in the target node's neighbourhood (ego-net), and evaluate them using our library. \n",
    "\n",
    "Node *feature importance*: given a target node $t$ and the model's prediction of $t$'s class, for each node $v$ in its ego-net, feature importance of feature $f$ for node $v$ is defined as the change in the target node's predicted score $s(c)$ for the winning class $c$ if feature $f$ of node $v$ is perturbed. \n",
    "\n",
    "The overall *node importance* for node $v$ is defined here as the sum of all feature importances for node $v$, i.e., it is the amount by which the target node's predicted score $s(c)$ would change if we set all features of node $v$ to zeros.\n",
    "\n",
    "*Link importance* for link $e=(u, v)$ is defined as the change in target node $t$'s predicted score $s(c)$ if the link $e$ is removed from the graph. Links with high importance (positive or negative) affect the target node prediction more than links with low importance. \n",
    "\n",
    "Node and link importances can be used to assess the role of neighbour nodes and links in model's predictions for the node(s) of interest (the target nodes). For datasets like CORA-ML, the features and edges are binary, vanilla gradients may not perform well so we use integrated gradients to compute them (https://arxiv.org/pdf/1703.01365.pdf).\n",
    "\n",
    "Another interesting application of node and link importances is to identify model vulnerabilities to attacks via perturbing node features and graph structure (see https://arxiv.org/abs/1903.01610)."
   ]
  },
  {
   "cell_type": "code",
   "execution_count": 30,
   "metadata": {
    "collapsed": true
   },
   "outputs": [],
   "source": [
    "from stellargraph.utils.saliency_maps.integrated_gradients import IntegratedGradients\n",
    "from stellargraph.utils.saliency_maps.saliency import GradientSaliency"
   ]
  },
  {
   "cell_type": "markdown",
   "metadata": {},
   "source": [
    "Select the target node whose prediction is to be interpreted"
   ]
  },
  {
   "cell_type": "markdown",
   "metadata": {},
   "source": [
    "Node id of the target node:"
   ]
  },
  {
   "cell_type": "code",
   "execution_count": 31,
   "metadata": {},
   "outputs": [
    {
     "name": "stdout",
     "output_type": "stream",
     "text": [
      "18\n"
     ]
    }
   ],
   "source": [
    "target_idx = 60 #index of the target node in G.nodes()\n",
    "target_nid = list(G.nodes())[target_idx]\n",
    "\n",
    "G_ego = nx.ego_graph(G, target_nid, radius=1)\n",
    "print(len(G_ego.nodes()))"
   ]
  },
  {
   "cell_type": "code",
   "execution_count": 32,
   "metadata": {},
   "outputs": [
    {
     "name": "stdout",
     "output_type": "stream",
     "text": [
      "1688\n"
     ]
    }
   ],
   "source": [
    "y_true = all_targets[list(node_ids).index(target_nid)]  # true class of the target node\n",
    "print(target_nid)"
   ]
  },
  {
   "cell_type": "code",
   "execution_count": 33,
   "metadata": {},
   "outputs": [
    {
     "name": "stdout",
     "output_type": "stream",
     "text": [
      "target node id: 1688, \n",
      "true label: [0. 1. 0. 0. 0. 0. 0.], \n",
      "predicted label scores: [0.02 0.74 0.05 0.12 0.03 0.03 0.02]\n"
     ]
    }
   ],
   "source": [
    "\n",
    "y_pred = model.predict_generator(all_gen)[0, target_idx]\n",
    "class_of_interest = np.argmax(y_pred)\n",
    "\n",
    "node_mask_train = train_gen.target_indices\n",
    "node_mask_val = val_gen.target_indices\n",
    "\n",
    "print(\"target node id: {}, \\ntrue label: {}, \\npredicted label scores: {}\".format(target_nid, y_true, y_pred.round(2)))"
   ]
  },
  {
   "cell_type": "markdown",
   "metadata": {},
   "source": [
    "Get the node feature importance by using integrated gradients"
   ]
  },
  {
   "cell_type": "code",
   "execution_count": 34,
   "metadata": {
    "collapsed": true
   },
   "outputs": [],
   "source": [
    "int_grad_saliency = IntegratedGradients(model)"
   ]
  },
  {
   "cell_type": "markdown",
   "metadata": {},
   "source": [
    "For the parameters of `get_node_importance` method, `X` and `A` are the feature and adjacency matrices, respectively. `target_idx` is the node of interest, and `class_of_interest` is set as the predicted label of the node. `steps` indicates the number of steps used to approximate the integration in integrated gradients calculation. A larger value of `steps` gives better approximation, at the cost of higher computational overhead."
   ]
  },
  {
   "cell_type": "code",
   "execution_count": 35,
   "metadata": {
    "collapsed": true
   },
   "outputs": [],
   "source": [
    "integrated_node_importance = int_grad_saliency.get_node_importance(X, A, target_idx, class_of_interest, steps=20)"
   ]
  },
  {
   "cell_type": "code",
   "execution_count": 36,
   "metadata": {},
   "outputs": [
    {
     "name": "stdout",
     "output_type": "stream",
     "text": [
      "\n",
      "integrated_node_importance [ 0.54  0.   -0.   ...  0.    0.    0.  ]\n",
      "integrated self-importance of target node 1688: 1.87\n"
     ]
    }
   ],
   "source": [
    "print('\\nintegrated_node_importance', integrated_node_importance.round(2))\n",
    "print('integrated self-importance of target node {}: {}'.format(target_nid, integrated_node_importance[target_idx].round(2)))"
   ]
  },
  {
   "cell_type": "markdown",
   "metadata": {},
   "source": [
    "Check that number of non-zero node importance values is less or equal the number of nodes in target node's K-hop ego net (where K is the number of GCN layers in the model)"
   ]
  },
  {
   "cell_type": "code",
   "execution_count": 37,
   "metadata": {
    "collapsed": true
   },
   "outputs": [],
   "source": [
    "G_ego = nx.ego_graph(G, target_nid, radius=len(gcn.activations))"
   ]
  },
  {
   "cell_type": "code",
   "execution_count": 38,
   "metadata": {},
   "outputs": [
    {
     "name": "stdout",
     "output_type": "stream",
     "text": [
      "Number of nodes in the ego graph: 188\n",
      "Number of non-zero elements in integrated_node_importance: 188\n"
     ]
    }
   ],
   "source": [
    "print('Number of nodes in the ego graph: {}'.format(len(G_ego.nodes())))\n",
    "print(\"Number of non-zero elements in integrated_node_importance: {}\".format(np.count_nonzero(integrated_node_importance)))"
   ]
  },
  {
   "cell_type": "markdown",
   "metadata": {},
   "source": [
    "Compute the link importance via integrated gradients (https://arxiv.org/pdf/1703.01365.pdf). Integrated gradients are obtained by cumulating the gradients along the path between the baseline (all-zero graph) and the state of the graph. They provide better sensitivity for the graphs with binary features and edges compared with the vanilla gradients. "
   ]
  },
  {
   "cell_type": "code",
   "execution_count": 39,
   "metadata": {},
   "outputs": [
    {
     "name": "stdout",
     "output_type": "stream",
     "text": [
      "integrate_link_importance.shape = (2708, 2708)\n"
     ]
    }
   ],
   "source": [
    "integrate_link_importance = int_grad_saliency.get_integrated_link_masks(X, A, target_idx, class_of_interest, A_baseline = None, steps=20)\n",
    "print('integrate_link_importance.shape = {}'.format(integrate_link_importance.shape))"
   ]
  },
  {
   "cell_type": "markdown",
   "metadata": {},
   "source": [
    "Some sanity checks:\n",
    "We expect the number of non-zero elements in the integrated link importance be same or less than the number of real edges in the ego graph."
   ]
  },
  {
   "cell_type": "code",
   "execution_count": 40,
   "metadata": {},
   "outputs": [
    {
     "name": "stdout",
     "output_type": "stream",
     "text": [
      "Number of edges in the ego graph: 245\n",
      "Number of non-zero elements in integrate_link_importance: 245\n"
     ]
    }
   ],
   "source": [
    "#The built-in number_of_edges function for the ego graph does not count the self-loops and some reversed edges\n",
    "#in the non-directed graph so we do the sanity check as the following.\n",
    "G_ego_edges = set()\n",
    "for i in np.nonzero(A[0, target_idx])[0]:\n",
    "    G_ego_edges.add((graph_nodes[target_idx], graph_nodes[i]))\n",
    "    for j in np.nonzero(A[0, i])[0]:\n",
    "        G_ego_edges.add((graph_nodes[i], graph_nodes[j]))\n",
    "print(\"Number of edges in the ego graph: {}\".format(len(G_ego_edges)))\n",
    "print(\"Number of non-zero elements in integrate_link_importance: {}\".format(np.count_nonzero(integrate_link_importance)))"
   ]
  },
  {
   "cell_type": "code",
   "execution_count": 41,
   "metadata": {},
   "outputs": [
    {
     "name": "stdout",
     "output_type": "stream",
     "text": [
      "Top 10 most important links by integrated gradients are:\n",
      " [(37879, 440815), (37879, 79809), (35, 1127913), (35, 46431), (35, 198443), (35, 249421), (35, 427606), (35, 103482), (35, 1125386), (35, 175291)]\n"
     ]
    }
   ],
   "source": [
    "sorted_indices = np.argsort(integrate_link_importance.flatten())\n",
    "N = len(graph_nodes)\n",
    "integrated_link_importance_rank = [\n",
    "    (graph_nodes[k//N], graph_nodes[k%N])\n",
    "    for k in sorted_indices[::-1]\n",
    "]\n",
    "topk = 10\n",
    "print('Top {} most important links by integrated gradients are:\\n {}'.format(topk, integrated_link_importance_rank[-topk:]))\n"
   ]
  },
  {
   "cell_type": "code",
   "execution_count": 42,
   "metadata": {
    "collapsed": true
   },
   "outputs": [],
   "source": [
    "#Set the labels as an attribute for the nodes in the graph. The labels are used to color the nodes in different classes.\n",
    "nx.set_node_attributes(G_ego, values={x[0]:{'subject': x[1]} for x in node_data['subject'].items()})"
   ]
  },
  {
   "cell_type": "markdown",
   "metadata": {},
   "source": [
    "In the following, we plot the link and node importance (computed by integrated gradients) of the nodes within the ego graph of the target node. \n",
    "\n",
    "For nodes, the shape of the node indicates the positive/negative importance the node has. 'round' nodes have positive importance while 'diamond' nodes have negative importance. The size of the node indicates the value of the importance, e.g., a large diamond node has higher negative importance. \n",
    "\n",
    "For links, the color of the link indicates the positive/negative importance the link has. 'red' links have positive importance while 'blue' links have negative importance. The width of the link indicates the value of the importance, e.g., a thicker blue link has higher negative importance."
   ]
  },
  {
   "cell_type": "code",
   "execution_count": 43,
   "metadata": {},
   "outputs": [
    {
     "data": {
      "image/png": "[encoded data removed]",
      "text/plain": [
       "<matplotlib.figure.Figure at 0x7fc244376198>"
      ]
     },
     "metadata": {},
     "output_type": "display_data"
    }
   ],
   "source": [
    "node_size_factor = 1e2\n",
    "link_width_factor = 2\n",
    "\n",
    "nodes = list(G_ego.nodes())\n",
    "colors = pd.DataFrame([v[1]['subject'] for v in G_ego.nodes(data=True)], index=nodes, columns=['subject'])\n",
    "colors = np.argmax(target_encoding.transform(colors.to_dict('records')), axis=1) + 1\n",
    "\n",
    "fig, ax = plt.subplots(1, 1, figsize=(15, 10));\n",
    "pos = nx.spring_layout(G_ego)\n",
    "# Draw ego as large and red\n",
    "node_sizes = [integrated_node_importance[list(G.nodes()).index(k)] for k in G_ego.nodes()]\n",
    "node_shapes = ['o' if integrated_node_importance[list(G.nodes()).index(k)] > 0 else 'd' for k in G_ego.nodes()]\n",
    "positive_colors, negative_colors = [], []\n",
    "positive_node_sizes, negative_node_sizes = [], []\n",
    "positive_nodes, negative_nodes = [], []\n",
    "#node_size_sclae is used for better visualization of nodes\n",
    "node_size_scale = node_size_factor/np.max(node_sizes)\n",
    "for k in range(len(node_shapes)):\n",
    "    if list(nodes)[k] == target_idx:\n",
    "        continue\n",
    "    if node_shapes[k] == 'o':\n",
    "        positive_colors.append(colors[k])\n",
    "        positive_nodes.append(list(nodes)[k])\n",
    "        positive_node_sizes.append(node_size_scale*node_sizes[k])\n",
    "\n",
    "    else:\n",
    "        negative_colors.append(colors[k])\n",
    "        negative_nodes.append(list(nodes)[k])\n",
    "        negative_node_sizes.append(node_size_scale*abs(node_sizes[k]))\n",
    "\n",
    "\n",
    "\n",
    "cmap = plt.get_cmap('jet', np.max(colors)-np.min(colors)+1)\n",
    "nc = nx.draw_networkx_nodes(G_ego, pos, nodelist=positive_nodes, node_color=positive_colors, cmap=cmap, node_size=positive_node_sizes, with_labels=False,\n",
    "                           vmin=np.min(colors)-0.5, vmax=np.max(colors)+0.5, node_shape='o')\n",
    "nc = nx.draw_networkx_nodes(G_ego, pos, nodelist=negative_nodes, node_color=negative_colors, cmap=cmap, node_size=negative_node_sizes, with_labels=False,\n",
    "                           vmin=np.min(colors)-0.5, vmax=np.max(colors)+0.5, node_shape='d')\n",
    "# Draw the target node as a large star colored by its true subject\n",
    "nx.draw_networkx_nodes(G_ego, pos, nodelist=[target_nid], node_size=50*abs(node_sizes[nodes.index(target_nid)]), node_shape='*',\n",
    "                       node_color=[colors[nodes.index(target_nid)]], cmap=cmap, vmin=np.min(colors)-0.5, vmax=np.max(colors)+0.5, label=\"Target\")\n",
    "\n",
    "edges = G_ego.edges()\n",
    "#link_width_scale is used for better visualization of links\n",
    "weights = [integrate_link_importance[list(G.nodes()).index(u),list(G.node()).index(v)] for u,v in edges]\n",
    "link_width_scale = link_width_factor/np.max(weights)\n",
    "edge_colors = ['red' if integrate_link_importance[list(G.nodes()).index(u),list(G.node()).index(v)] > 0 else 'blue' for u,v in edges]\n",
    "\n",
    "ec = nx.draw_networkx_edges(G_ego, pos, edge_color=edge_colors,  width = [link_width_scale*w for w in weights])\n",
    "plt.legend()\n",
    "plt.colorbar(nc, ticks=np.arange(np.min(colors),np.max(colors)+1))\n",
    "plt.axis('off')\n",
    "plt.show()"
   ]
  },
  {
   "cell_type": "markdown",
   "metadata": {},
   "source": [
    "get the importance of the potential edges in the ego graph."
   ]
  },
  {
   "cell_type": "code",
   "execution_count": 44,
   "metadata": {
    "collapsed": true
   },
   "outputs": [],
   "source": [
    "integrate_link_importance_potential = int_grad_saliency.get_integrated_link_masks(X, A, target_idx, class_of_interest, A_baseline = None, steps=10, non_exist_edge=True)"
   ]
  },
  {
   "cell_type": "markdown",
   "metadata": {},
   "source": [
    "perturb the graph to add edges"
   ]
  },
  {
   "cell_type": "code",
   "execution_count": 45,
   "metadata": {},
   "outputs": [
    {
     "name": "stdout",
     "output_type": "stream",
     "text": [
      "[ 162857 1256812 1251396 ...  164439  162592  162532]\n",
      "Top 8 most important links to add by integrated gradients are [(35, 1127913), (35, 46431), (35, 198443), (35, 249421), (35, 427606), (35, 103482), (35, 1125386), (35, 175291)]\n",
      "-3.6567599408954267e-06\n",
      "add edge (1688->1365)\n",
      "jaccard similarity score between node 1688 and 1365 = 0.0\n",
      "-1.3628910977558917e-06\n",
      "add edge (1694->5462)\n",
      "jaccard similarity score between node 1694 and 5462 = 0.025\n",
      "-1.3628603468873734e-06\n",
      "add edge (1134022->5462)\n",
      "jaccard similarity score between node 1134022 and 5462 = 0.0\n",
      "-1.3627759976486686e-06\n",
      "add edge (1133338->5462)\n",
      "jaccard similarity score between node 1133338 and 5462 = 0.02564102564102564\n",
      "-1.3627304653596184e-06\n",
      "add edge (1153065->5462)\n",
      "jaccard similarity score between node 1153065 and 5462 = 0.0\n",
      "-1.3627036487662281e-06\n",
      "add edge (1103985->5462)\n",
      "jaccard similarity score between node 1103985 and 5462 = 0.0\n",
      "-1.3625302415221086e-06\n",
      "add edge (694759->5462)\n",
      "jaccard similarity score between node 694759 and 5462 = 0.0\n",
      "-1.3598257474711773e-06\n",
      "add edge (39474->5462)\n",
      "jaccard similarity score between node 39474 and 5462 = 0.0\n",
      "Top 8 most important links to remove by integrated gradients are [(35, 1127913), (35, 46431), (35, 198443), (35, 249421), (35, 427606), (35, 103482), (35, 1125386), (35, 175291)]\n",
      "0.11301493970677257\n",
      "remove edge (1688->576725)\n",
      "jaccard similarity score between node 1688 and 576725 = 0.07142857142857142\n",
      "0.11154330372810364\n",
      "remove edge (1688->39474)\n",
      "jaccard similarity score between node 1688 and 39474 = 0.05263157894736842\n",
      "0.10931137222796679\n",
      "remove edge (1688->152483)\n",
      "jaccard similarity score between node 1688 and 152483 = 0.10526315789473684\n",
      "0.10615700501948595\n",
      "remove edge (1688->44368)\n",
      "jaccard similarity score between node 1688 and 44368 = 0.05\n",
      "0.10494468547403812\n",
      "remove edge (1688->1136814)\n",
      "jaccard similarity score between node 1688 and 1136814 = 0.07142857142857142\n",
      "0.10064744334667922\n",
      "remove edge (1688->84021)\n",
      "jaccard similarity score between node 1688 and 84021 = 0.05\n",
      "0.0960351487621665\n",
      "remove edge (1688->1694)\n",
      "jaccard similarity score between node 1688 and 1694 = 0.08333333333333333\n",
      "0.09427792001515627\n",
      "remove edge (1688->647413)\n",
      "jaccard similarity score between node 1688 and 647413 = 0.02564102564102564\n"
     ]
    }
   ],
   "source": [
    "sorted_indices = np.argsort(integrate_link_importance_potential.flatten().reshape(-1))\n",
    "sorted_indices = np.array(sorted_indices)\n",
    "nodes = list(G.nodes())\n",
    "edges = list(G.edges())\n",
    "print(sorted_indices)\n",
    "#integrated_link_importance_rank = [(k//N, k%N) for k in sorted_indices[::-1]]\n",
    "integrated_link_importance_rank_cord = [(nodes[k//N], nodes[k%N]) for k in sorted_indices[::-1]]\n",
    "node_indices = list(G.nodes())\n",
    "topk = 8\n",
    "print('Top {} most important links to add by integrated gradients are {}'.format(topk, integrated_link_importance_rank[-topk:]))\n",
    "for x,y in integrated_link_importance_rank_cord[::-1]:\n",
    "    if (x, y) in edges:\n",
    "        continue\n",
    "    print(integrate_link_importance_potential[node_indices.index(x), node_indices.index(y)])\n",
    "    topk -= 1\n",
    "    G.add_edge(x, y, label='cites')\n",
    "    print('add edge ({}->{})'.format(x, y))\n",
    "    #we need to reshape the feature vector to make it be treated as binary by the jaccard similarity score function.\n",
    "    print('jaccard similarity score between node {} and {} = {}'.format(x, y, jaccard_similarity_score(X[0,node_indices.index(x)].reshape((1, 1433)), X[0,node_indices.index(y)].reshape((1, 1433)))))\n",
    "    if topk == 0:\n",
    "        break\n",
    "topk = 8\n",
    "print('Top {} most important links to remove by integrated gradients are {}'.format(topk, integrated_link_importance_rank[-topk:]))\n",
    "for x,y in integrated_link_importance_rank:\n",
    "    print(integrate_link_importance[node_indices.index(x), node_indices.index(y)])\n",
    "    topk -= 1\n",
    "    G.remove_edge(x, y)\n",
    "    print('remove edge ({}->{})'.format(x, y))\n",
    "    #we need to reshape the feature vector to make it be treated as binary by the jaccard similarity score function.\n",
    "    print('jaccard similarity score between node {} and {} = {}'.format(x, y, jaccard_similarity_score(X[0,node_indices.index(x)].reshape((1, 1433)), X[0,node_indices.index(y)].reshape((1, 1433)))))\n",
    "    if topk == 0:\n",
    "        break"
   ]
  },
  {
   "cell_type": "code",
   "execution_count": null,
   "metadata": {},
   "outputs": [],
   "source": []
  },
  {
   "cell_type": "markdown",
   "metadata": {},
   "source": [
    "As one may notice, all the edges added by the perturbation (attack) are connecting nodes with share low similarities (=0 for this target node). "
   ]
  },
  {
   "cell_type": "markdown",
   "metadata": {},
   "source": [
    "Using the previous initial weights to re-initilize the model and retrain it with the perturbed graph."
   ]
  },
  {
   "cell_type": "code",
   "execution_count": 46,
   "metadata": {},
   "outputs": [
    {
     "name": "stdout",
     "output_type": "stream",
     "text": [
      "Epoch 1/20\n",
      " - 4s - loss: 1.9704 - weighted_categorical_accuracy: 0.1357 - val_loss: 1.8966 - val_weighted_categorical_accuracy: 0.3300\n",
      "Epoch 2/20\n",
      " - 2s - loss: 1.8639 - weighted_categorical_accuracy: 0.4357 - val_loss: 1.8354 - val_weighted_categorical_accuracy: 0.3480\n",
      "Epoch 3/20\n",
      " - 3s - loss: 1.7583 - weighted_categorical_accuracy: 0.5000 - val_loss: 1.7805 - val_weighted_categorical_accuracy: 0.3720\n",
      "Epoch 4/20\n",
      " - 2s - loss: 1.6682 - weighted_categorical_accuracy: 0.5071 - val_loss: 1.7302 - val_weighted_categorical_accuracy: 0.3800\n",
      "Epoch 5/20\n",
      " - 2s - loss: 1.6049 - weighted_categorical_accuracy: 0.5071 - val_loss: 1.6850 - val_weighted_categorical_accuracy: 0.3860\n",
      "Epoch 6/20\n",
      " - 2s - loss: 1.5221 - weighted_categorical_accuracy: 0.5429 - val_loss: 1.6411 - val_weighted_categorical_accuracy: 0.4020\n",
      "Epoch 7/20\n",
      " - 2s - loss: 1.4534 - weighted_categorical_accuracy: 0.5857 - val_loss: 1.5970 - val_weighted_categorical_accuracy: 0.4220\n",
      "Epoch 8/20\n",
      " - 3s - loss: 1.3832 - weighted_categorical_accuracy: 0.6500 - val_loss: 1.5532 - val_weighted_categorical_accuracy: 0.4680\n",
      "Epoch 9/20\n",
      " - 2s - loss: 1.3095 - weighted_categorical_accuracy: 0.6714 - val_loss: 1.5088 - val_weighted_categorical_accuracy: 0.4960\n",
      "Epoch 10/20\n",
      " - 3s - loss: 1.2342 - weighted_categorical_accuracy: 0.7000 - val_loss: 1.4634 - val_weighted_categorical_accuracy: 0.5160\n",
      "Epoch 11/20\n",
      " - 3s - loss: 1.1700 - weighted_categorical_accuracy: 0.7214 - val_loss: 1.4168 - val_weighted_categorical_accuracy: 0.5660\n",
      "Epoch 12/20\n",
      " - 3s - loss: 1.1090 - weighted_categorical_accuracy: 0.7571 - val_loss: 1.3695 - val_weighted_categorical_accuracy: 0.5860\n",
      "Epoch 13/20\n",
      " - 2s - loss: 1.0182 - weighted_categorical_accuracy: 0.7571 - val_loss: 1.3225 - val_weighted_categorical_accuracy: 0.6120\n",
      "Epoch 14/20\n",
      " - 2s - loss: 0.9617 - weighted_categorical_accuracy: 0.8000 - val_loss: 1.2768 - val_weighted_categorical_accuracy: 0.6380\n",
      "Epoch 15/20\n",
      " - 2s - loss: 0.8647 - weighted_categorical_accuracy: 0.8357 - val_loss: 1.2333 - val_weighted_categorical_accuracy: 0.6780\n",
      "Epoch 16/20\n",
      " - 2s - loss: 0.8255 - weighted_categorical_accuracy: 0.8643 - val_loss: 1.1924 - val_weighted_categorical_accuracy: 0.6960\n",
      "Epoch 17/20\n",
      " - 2s - loss: 0.7468 - weighted_categorical_accuracy: 0.8857 - val_loss: 1.1547 - val_weighted_categorical_accuracy: 0.7120\n",
      "Epoch 18/20\n",
      " - 2s - loss: 0.7222 - weighted_categorical_accuracy: 0.9286 - val_loss: 1.1198 - val_weighted_categorical_accuracy: 0.7260\n",
      "Epoch 19/20\n",
      " - 2s - loss: 0.6641 - weighted_categorical_accuracy: 0.9286 - val_loss: 1.0880 - val_weighted_categorical_accuracy: 0.7380\n",
      "Epoch 20/20\n",
      " - 3s - loss: 0.6097 - weighted_categorical_accuracy: 0.9714 - val_loss: 1.0583 - val_weighted_categorical_accuracy: 0.7540\n",
      "target node id: 1688, \n",
      "true label: [0. 1. 0. 0. 0. 0. 0.], \n",
      "predicted label scores: [0.13 0.23 0.38 0.07 0.09 0.04 0.06]\n",
      "Epoch 1/20\n",
      " - 3s - loss: 1.9582 - weighted_categorical_accuracy: 0.1571 - val_loss: 1.9069 - val_weighted_categorical_accuracy: 0.3160\n",
      "Epoch 2/20\n",
      " - 2s - loss: 1.8847 - weighted_categorical_accuracy: 0.4000 - val_loss: 1.8382 - val_weighted_categorical_accuracy: 0.3100\n",
      "Epoch 3/20\n",
      " - 2s - loss: 1.7809 - weighted_categorical_accuracy: 0.3643 - val_loss: 1.7793 - val_weighted_categorical_accuracy: 0.3120\n",
      "Epoch 4/20\n",
      " - 3s - loss: 1.6731 - weighted_categorical_accuracy: 0.4286 - val_loss: 1.7262 - val_weighted_categorical_accuracy: 0.3200\n",
      "Epoch 5/20\n",
      " - 3s - loss: 1.6080 - weighted_categorical_accuracy: 0.4000 - val_loss: 1.6766 - val_weighted_categorical_accuracy: 0.3260\n",
      "Epoch 6/20\n",
      " - 3s - loss: 1.5232 - weighted_categorical_accuracy: 0.4071 - val_loss: 1.6283 - val_weighted_categorical_accuracy: 0.3460\n",
      "Epoch 7/20\n",
      " - 3s - loss: 1.4349 - weighted_categorical_accuracy: 0.4500 - val_loss: 1.5797 - val_weighted_categorical_accuracy: 0.3580\n",
      "Epoch 8/20\n",
      " - 3s - loss: 1.3466 - weighted_categorical_accuracy: 0.4786 - val_loss: 1.5308 - val_weighted_categorical_accuracy: 0.3780\n",
      "Epoch 9/20\n",
      " - 3s - loss: 1.2806 - weighted_categorical_accuracy: 0.5143 - val_loss: 1.4818 - val_weighted_categorical_accuracy: 0.4140\n",
      "Epoch 10/20\n",
      " - 3s - loss: 1.2043 - weighted_categorical_accuracy: 0.5786 - val_loss: 1.4335 - val_weighted_categorical_accuracy: 0.4520\n",
      "Epoch 11/20\n",
      " - 3s - loss: 1.1383 - weighted_categorical_accuracy: 0.6714 - val_loss: 1.3866 - val_weighted_categorical_accuracy: 0.5040\n",
      "Epoch 12/20\n",
      " - 3s - loss: 1.0725 - weighted_categorical_accuracy: 0.7143 - val_loss: 1.3410 - val_weighted_categorical_accuracy: 0.5680\n",
      "Epoch 13/20\n",
      " - 3s - loss: 1.0095 - weighted_categorical_accuracy: 0.7429 - val_loss: 1.2975 - val_weighted_categorical_accuracy: 0.6140\n",
      "Epoch 14/20\n",
      " - 3s - loss: 0.9373 - weighted_categorical_accuracy: 0.8214 - val_loss: 1.2562 - val_weighted_categorical_accuracy: 0.6560\n",
      "Epoch 15/20\n",
      " - 3s - loss: 0.8898 - weighted_categorical_accuracy: 0.8429 - val_loss: 1.2174 - val_weighted_categorical_accuracy: 0.6800\n",
      "Epoch 16/20\n",
      " - 3s - loss: 0.8152 - weighted_categorical_accuracy: 0.8714 - val_loss: 1.1816 - val_weighted_categorical_accuracy: 0.6980\n",
      "Epoch 17/20\n",
      " - 3s - loss: 0.7858 - weighted_categorical_accuracy: 0.9143 - val_loss: 1.1490 - val_weighted_categorical_accuracy: 0.7040\n",
      "Epoch 18/20\n",
      " - 3s - loss: 0.7390 - weighted_categorical_accuracy: 0.9286 - val_loss: 1.1197 - val_weighted_categorical_accuracy: 0.7280\n",
      "Epoch 19/20\n",
      " - 3s - loss: 0.6931 - weighted_categorical_accuracy: 0.9571 - val_loss: 1.0931 - val_weighted_categorical_accuracy: 0.7220\n",
      "Epoch 20/20\n",
      " - 3s - loss: 0.6145 - weighted_categorical_accuracy: 0.9643 - val_loss: 1.0692 - val_weighted_categorical_accuracy: 0.7280\n",
      "target node id: 1688, \n",
      "true label: [0. 1. 0. 0. 0. 0. 0.], \n",
      "predicted label scores: [0.01 0.24 0.51 0.1  0.04 0.04 0.06]\n",
      "Epoch 1/20\n",
      " - 4s - loss: 1.9636 - weighted_categorical_accuracy: 0.0857 - val_loss: 1.9169 - val_weighted_categorical_accuracy: 0.3200\n",
      "Epoch 2/20\n",
      " - 3s - loss: 1.8952 - weighted_categorical_accuracy: 0.4071 - val_loss: 1.8611 - val_weighted_categorical_accuracy: 0.4240\n",
      "Epoch 3/20\n",
      " - 3s - loss: 1.8049 - weighted_categorical_accuracy: 0.5714 - val_loss: 1.8095 - val_weighted_categorical_accuracy: 0.4460\n",
      "Epoch 4/20\n",
      " - 3s - loss: 1.7305 - weighted_categorical_accuracy: 0.5786 - val_loss: 1.7627 - val_weighted_categorical_accuracy: 0.4600\n",
      "Epoch 5/20\n",
      " - 3s - loss: 1.6683 - weighted_categorical_accuracy: 0.6571 - val_loss: 1.7135 - val_weighted_categorical_accuracy: 0.4840\n",
      "Epoch 6/20\n",
      " - 3s - loss: 1.5746 - weighted_categorical_accuracy: 0.6643 - val_loss: 1.6639 - val_weighted_categorical_accuracy: 0.4920\n",
      "Epoch 7/20\n",
      " - 3s - loss: 1.5001 - weighted_categorical_accuracy: 0.7357 - val_loss: 1.6153 - val_weighted_categorical_accuracy: 0.5200\n",
      "Epoch 8/20\n",
      " - 3s - loss: 1.4324 - weighted_categorical_accuracy: 0.7571 - val_loss: 1.5655 - val_weighted_categorical_accuracy: 0.5500\n",
      "Epoch 9/20\n",
      " - 3s - loss: 1.3383 - weighted_categorical_accuracy: 0.7929 - val_loss: 1.5161 - val_weighted_categorical_accuracy: 0.5700\n",
      "Epoch 10/20\n",
      " - 3s - loss: 1.2805 - weighted_categorical_accuracy: 0.8500 - val_loss: 1.4672 - val_weighted_categorical_accuracy: 0.6000\n",
      "Epoch 11/20\n",
      " - 3s - loss: 1.2081 - weighted_categorical_accuracy: 0.8286 - val_loss: 1.4191 - val_weighted_categorical_accuracy: 0.6220\n",
      "Epoch 12/20\n",
      " - 3s - loss: 1.1400 - weighted_categorical_accuracy: 0.8571 - val_loss: 1.3717 - val_weighted_categorical_accuracy: 0.6460\n",
      "Epoch 13/20\n",
      " - 3s - loss: 1.0550 - weighted_categorical_accuracy: 0.8786 - val_loss: 1.3251 - val_weighted_categorical_accuracy: 0.6580\n",
      "Epoch 14/20\n",
      " - 3s - loss: 0.9815 - weighted_categorical_accuracy: 0.9143 - val_loss: 1.2794 - val_weighted_categorical_accuracy: 0.6760\n",
      "Epoch 15/20\n",
      " - 3s - loss: 0.9152 - weighted_categorical_accuracy: 0.9143 - val_loss: 1.2351 - val_weighted_categorical_accuracy: 0.7020\n",
      "Epoch 16/20\n",
      " - 4s - loss: 0.8433 - weighted_categorical_accuracy: 0.9429 - val_loss: 1.1924 - val_weighted_categorical_accuracy: 0.7140\n",
      "Epoch 17/20\n",
      " - 3s - loss: 0.7887 - weighted_categorical_accuracy: 0.9429 - val_loss: 1.1519 - val_weighted_categorical_accuracy: 0.7180\n",
      "Epoch 18/20\n",
      " - 3s - loss: 0.7292 - weighted_categorical_accuracy: 0.9357 - val_loss: 1.1139 - val_weighted_categorical_accuracy: 0.7320\n",
      "Epoch 19/20\n",
      " - 3s - loss: 0.6825 - weighted_categorical_accuracy: 0.9286 - val_loss: 1.0786 - val_weighted_categorical_accuracy: 0.7440\n"
     ]
    },
    {
     "name": "stdout",
     "output_type": "stream",
     "text": [
      "Epoch 20/20\n",
      " - 3s - loss: 0.6193 - weighted_categorical_accuracy: 0.9714 - val_loss: 1.0463 - val_weighted_categorical_accuracy: 0.7500\n",
      "target node id: 1688, \n",
      "true label: [0. 1. 0. 0. 0. 0. 0.], \n",
      "predicted label scores: [0.18 0.3  0.37 0.02 0.04 0.03 0.07]\n",
      "Epoch 1/20\n",
      " - 4s - loss: 1.9684 - weighted_categorical_accuracy: 0.1500 - val_loss: 1.9259 - val_weighted_categorical_accuracy: 0.3400\n",
      "Epoch 2/20\n",
      " - 3s - loss: 1.8790 - weighted_categorical_accuracy: 0.4786 - val_loss: 1.8683 - val_weighted_categorical_accuracy: 0.4400\n",
      "Epoch 3/20\n",
      " - 3s - loss: 1.7928 - weighted_categorical_accuracy: 0.6071 - val_loss: 1.8119 - val_weighted_categorical_accuracy: 0.4500\n",
      "Epoch 4/20\n",
      " - 3s - loss: 1.7085 - weighted_categorical_accuracy: 0.6786 - val_loss: 1.7566 - val_weighted_categorical_accuracy: 0.4600\n",
      "Epoch 5/20\n",
      " - 3s - loss: 1.6164 - weighted_categorical_accuracy: 0.7286 - val_loss: 1.7016 - val_weighted_categorical_accuracy: 0.4580\n",
      "Epoch 6/20\n",
      " - 3s - loss: 1.5316 - weighted_categorical_accuracy: 0.7214 - val_loss: 1.6470 - val_weighted_categorical_accuracy: 0.4900\n",
      "Epoch 7/20\n",
      " - 3s - loss: 1.4604 - weighted_categorical_accuracy: 0.7071 - val_loss: 1.5928 - val_weighted_categorical_accuracy: 0.5120\n",
      "Epoch 8/20\n",
      " - 3s - loss: 1.3500 - weighted_categorical_accuracy: 0.7429 - val_loss: 1.5397 - val_weighted_categorical_accuracy: 0.5460\n",
      "Epoch 9/20\n",
      " - 3s - loss: 1.2795 - weighted_categorical_accuracy: 0.7714 - val_loss: 1.4865 - val_weighted_categorical_accuracy: 0.5640\n",
      "Epoch 10/20\n",
      " - 3s - loss: 1.2109 - weighted_categorical_accuracy: 0.7714 - val_loss: 1.4342 - val_weighted_categorical_accuracy: 0.5860\n",
      "Epoch 11/20\n",
      " - 3s - loss: 1.1185 - weighted_categorical_accuracy: 0.7643 - val_loss: 1.3830 - val_weighted_categorical_accuracy: 0.6040\n",
      "Epoch 12/20\n",
      " - 3s - loss: 1.0294 - weighted_categorical_accuracy: 0.8286 - val_loss: 1.3333 - val_weighted_categorical_accuracy: 0.6260\n",
      "Epoch 13/20\n",
      " - 3s - loss: 0.9770 - weighted_categorical_accuracy: 0.8500 - val_loss: 1.2855 - val_weighted_categorical_accuracy: 0.6440\n",
      "Epoch 14/20\n",
      " - 3s - loss: 0.9150 - weighted_categorical_accuracy: 0.8429 - val_loss: 1.2403 - val_weighted_categorical_accuracy: 0.6600\n",
      "Epoch 15/20\n",
      " - 3s - loss: 0.8469 - weighted_categorical_accuracy: 0.8571 - val_loss: 1.1980 - val_weighted_categorical_accuracy: 0.6660\n",
      "Epoch 16/20\n",
      " - 3s - loss: 0.7666 - weighted_categorical_accuracy: 0.8714 - val_loss: 1.1589 - val_weighted_categorical_accuracy: 0.6840\n",
      "Epoch 17/20\n",
      " - 3s - loss: 0.7049 - weighted_categorical_accuracy: 0.8929 - val_loss: 1.1226 - val_weighted_categorical_accuracy: 0.6940\n",
      "Epoch 18/20\n",
      " - 3s - loss: 0.6409 - weighted_categorical_accuracy: 0.9286 - val_loss: 1.0895 - val_weighted_categorical_accuracy: 0.7060\n",
      "Epoch 19/20\n",
      " - 3s - loss: 0.6009 - weighted_categorical_accuracy: 0.9286 - val_loss: 1.0595 - val_weighted_categorical_accuracy: 0.7220\n",
      "Epoch 20/20\n",
      " - 3s - loss: 0.5374 - weighted_categorical_accuracy: 0.9714 - val_loss: 1.0325 - val_weighted_categorical_accuracy: 0.7360\n",
      "target node id: 1688, \n",
      "true label: [0. 1. 0. 0. 0. 0. 0.], \n",
      "predicted label scores: [0.05 0.32 0.3  0.06 0.12 0.08 0.06]\n",
      "Epoch 1/20\n",
      " - 4s - loss: 1.9675 - weighted_categorical_accuracy: 0.1571 - val_loss: 1.8848 - val_weighted_categorical_accuracy: 0.3260\n",
      "Epoch 2/20\n",
      " - 3s - loss: 1.8513 - weighted_categorical_accuracy: 0.3357 - val_loss: 1.8251 - val_weighted_categorical_accuracy: 0.3040\n",
      "Epoch 3/20\n",
      " - 3s - loss: 1.7488 - weighted_categorical_accuracy: 0.3214 - val_loss: 1.7791 - val_weighted_categorical_accuracy: 0.3020\n",
      "Epoch 4/20\n",
      " - 3s - loss: 1.6842 - weighted_categorical_accuracy: 0.3143 - val_loss: 1.7391 - val_weighted_categorical_accuracy: 0.3020\n",
      "Epoch 5/20\n",
      " - 3s - loss: 1.6255 - weighted_categorical_accuracy: 0.3000 - val_loss: 1.6981 - val_weighted_categorical_accuracy: 0.3060\n",
      "Epoch 6/20\n",
      " - 3s - loss: 1.5399 - weighted_categorical_accuracy: 0.3643 - val_loss: 1.6523 - val_weighted_categorical_accuracy: 0.3220\n",
      "Epoch 7/20\n",
      " - 3s - loss: 1.4852 - weighted_categorical_accuracy: 0.3571 - val_loss: 1.6020 - val_weighted_categorical_accuracy: 0.3620\n",
      "Epoch 8/20\n",
      " - 3s - loss: 1.3755 - weighted_categorical_accuracy: 0.5500 - val_loss: 1.5496 - val_weighted_categorical_accuracy: 0.4420\n",
      "Epoch 9/20\n",
      " - 3s - loss: 1.2991 - weighted_categorical_accuracy: 0.6500 - val_loss: 1.4989 - val_weighted_categorical_accuracy: 0.5720\n",
      "Epoch 10/20\n",
      " - 3s - loss: 1.2125 - weighted_categorical_accuracy: 0.7786 - val_loss: 1.4511 - val_weighted_categorical_accuracy: 0.6400\n",
      "Epoch 11/20\n",
      " - 3s - loss: 1.1485 - weighted_categorical_accuracy: 0.8000 - val_loss: 1.4074 - val_weighted_categorical_accuracy: 0.6740\n",
      "Epoch 12/20\n",
      " - 3s - loss: 1.0825 - weighted_categorical_accuracy: 0.8929 - val_loss: 1.3667 - val_weighted_categorical_accuracy: 0.6760\n",
      "Epoch 13/20\n",
      " - 3s - loss: 1.0097 - weighted_categorical_accuracy: 0.8929 - val_loss: 1.3276 - val_weighted_categorical_accuracy: 0.6720\n",
      "Epoch 14/20\n",
      " - 3s - loss: 0.9558 - weighted_categorical_accuracy: 0.8857 - val_loss: 1.2897 - val_weighted_categorical_accuracy: 0.6840\n",
      "Epoch 15/20\n",
      " - 3s - loss: 0.8976 - weighted_categorical_accuracy: 0.8643 - val_loss: 1.2527 - val_weighted_categorical_accuracy: 0.6880\n",
      "Epoch 16/20\n",
      " - 3s - loss: 0.8498 - weighted_categorical_accuracy: 0.8643 - val_loss: 1.2174 - val_weighted_categorical_accuracy: 0.7060\n",
      "Epoch 17/20\n",
      " - 3s - loss: 0.7535 - weighted_categorical_accuracy: 0.9143 - val_loss: 1.1853 - val_weighted_categorical_accuracy: 0.7140\n",
      "Epoch 18/20\n",
      " - 3s - loss: 0.7314 - weighted_categorical_accuracy: 0.9357 - val_loss: 1.1573 - val_weighted_categorical_accuracy: 0.7200\n",
      "Epoch 19/20\n",
      " - 3s - loss: 0.6781 - weighted_categorical_accuracy: 0.9214 - val_loss: 1.1326 - val_weighted_categorical_accuracy: 0.7180\n",
      "Epoch 20/20\n",
      " - 4s - loss: 0.6340 - weighted_categorical_accuracy: 0.9071 - val_loss: 1.1106 - val_weighted_categorical_accuracy: 0.7220\n",
      "target node id: 1688, \n",
      "true label: [0. 1. 0. 0. 0. 0. 0.], \n",
      "predicted label scores: [0.05 0.19 0.61 0.05 0.06 0.01 0.03]\n"
     ]
    }
   ],
   "source": [
    "for i in range(5):\n",
    "    generator = FullBatchNodeGenerator(G, method=\"none\", sparse=False)\n",
    "    gcn = GCN(layer_sizes=layer_sizes, activations=[\"elu\", \"elu\"], generator=generator, bias=True, dropout=0.3,kernel_regularizer=regularizers.l2(5e-4))\n",
    "    # Expose the input and output tensors of the GCN model for node prediction, via GCN.node_model() method:\n",
    "    x_inp, x_out = gcn.node_model()\n",
    "    # Snap the final estimator layer to x_out\n",
    "    x_out = layers.Dense(units=train_targets.shape[1], activation=\"softmax\")(x_out)\n",
    "    model = keras.Model(inputs=x_inp, outputs=x_out)\n",
    "    model.compile(\n",
    "        optimizer=optimizers.Adam(lr=0.005),# decay=0.001),\n",
    "        loss=losses.categorical_crossentropy,\n",
    "        weighted_metrics=[metrics.categorical_accuracy],\n",
    "    )\n",
    "    graph_nodes = list(Gnx.nodes())\n",
    "    all_gen = generator.flow(graph_nodes)\n",
    "    train_gen = generator.flow(train_data.index, train_targets)\n",
    "    history = model.fit_generator(train_gen,\n",
    "                        shuffle=False,\n",
    "                        epochs=20,\n",
    "                        verbose=2,\n",
    "                        validation_data=val_gen)\n",
    "\n",
    "    y_pred = model.predict_generator(all_gen)[0, target_idx]\n",
    "    class_of_interest = np.argmax(y_pred)\n",
    "\n",
    "\n",
    "    print(\"target node id: {}, \\ntrue label: {}, \\npredicted label scores: {}\".format(target_nid, y_true, y_pred.round(2)))"
   ]
  },
  {
   "cell_type": "markdown",
   "metadata": {},
   "source": [
    "After the attack, the winning class changes from 1 to 2 which indicates the success of the attack.\n",
    "In order to defend the attack, we will exploit the statistical evidences of the added edges. To be specific, we will perform a prepreocessing on the graph and remove the edges connecting dissimilar nodes."
   ]
  },
  {
   "cell_type": "code",
   "execution_count": 47,
   "metadata": {
    "scrolled": true
   },
   "outputs": [
    {
     "name": "stdout",
     "output_type": "stream",
     "text": [
      "578 edges removed\n",
      "Epoch 1/20\n",
      " - 4s - loss: 1.9800 - weighted_categorical_accuracy: 0.1357 - val_loss: 1.9389 - val_weighted_categorical_accuracy: 0.3000\n",
      "Epoch 2/20\n",
      " - 3s - loss: 1.9095 - weighted_categorical_accuracy: 0.3786 - val_loss: 1.8802 - val_weighted_categorical_accuracy: 0.3640\n",
      "Epoch 3/20\n",
      " - 3s - loss: 1.8135 - weighted_categorical_accuracy: 0.5000 - val_loss: 1.8314 - val_weighted_categorical_accuracy: 0.3720\n",
      "Epoch 4/20\n",
      " - 3s - loss: 1.7330 - weighted_categorical_accuracy: 0.5143 - val_loss: 1.7813 - val_weighted_categorical_accuracy: 0.3820\n",
      "Epoch 5/20\n",
      " - 3s - loss: 1.6377 - weighted_categorical_accuracy: 0.5714 - val_loss: 1.7342 - val_weighted_categorical_accuracy: 0.4020\n",
      "Epoch 6/20\n",
      " - 3s - loss: 1.5725 - weighted_categorical_accuracy: 0.5500 - val_loss: 1.6910 - val_weighted_categorical_accuracy: 0.4120\n",
      "Epoch 7/20\n",
      " - 3s - loss: 1.4874 - weighted_categorical_accuracy: 0.5643 - val_loss: 1.6487 - val_weighted_categorical_accuracy: 0.4220\n",
      "Epoch 8/20\n",
      " - 3s - loss: 1.3916 - weighted_categorical_accuracy: 0.6000 - val_loss: 1.6077 - val_weighted_categorical_accuracy: 0.4380\n",
      "Epoch 9/20\n",
      " - 3s - loss: 1.3389 - weighted_categorical_accuracy: 0.6143 - val_loss: 1.5675 - val_weighted_categorical_accuracy: 0.4540\n",
      "Epoch 10/20\n",
      " - 3s - loss: 1.2578 - weighted_categorical_accuracy: 0.6429 - val_loss: 1.5276 - val_weighted_categorical_accuracy: 0.4580\n",
      "Epoch 11/20\n",
      " - 3s - loss: 1.1942 - weighted_categorical_accuracy: 0.6500 - val_loss: 1.4875 - val_weighted_categorical_accuracy: 0.4700\n",
      "Epoch 12/20\n",
      " - 3s - loss: 1.1117 - weighted_categorical_accuracy: 0.6643 - val_loss: 1.4473 - val_weighted_categorical_accuracy: 0.4840\n",
      "Epoch 13/20\n",
      " - 3s - loss: 1.0556 - weighted_categorical_accuracy: 0.6857 - val_loss: 1.4074 - val_weighted_categorical_accuracy: 0.5060\n",
      "Epoch 14/20\n",
      " - 3s - loss: 1.0026 - weighted_categorical_accuracy: 0.6929 - val_loss: 1.3682 - val_weighted_categorical_accuracy: 0.5300\n",
      "Epoch 15/20\n",
      " - 3s - loss: 0.9392 - weighted_categorical_accuracy: 0.7357 - val_loss: 1.3308 - val_weighted_categorical_accuracy: 0.5460\n",
      "Epoch 16/20\n",
      " - 3s - loss: 0.8823 - weighted_categorical_accuracy: 0.7429 - val_loss: 1.2952 - val_weighted_categorical_accuracy: 0.5480\n",
      "Epoch 17/20\n",
      " - 3s - loss: 0.8201 - weighted_categorical_accuracy: 0.7929 - val_loss: 1.2613 - val_weighted_categorical_accuracy: 0.5740\n",
      "Epoch 18/20\n",
      " - 3s - loss: 0.7783 - weighted_categorical_accuracy: 0.8214 - val_loss: 1.2289 - val_weighted_categorical_accuracy: 0.5940\n",
      "Epoch 19/20\n",
      " - 3s - loss: 0.7255 - weighted_categorical_accuracy: 0.8786 - val_loss: 1.1983 - val_weighted_categorical_accuracy: 0.6260\n",
      "Epoch 20/20\n",
      " - 3s - loss: 0.7004 - weighted_categorical_accuracy: 0.8857 - val_loss: 1.1694 - val_weighted_categorical_accuracy: 0.6480\n",
      "target node id: 1688, \n",
      "true label: [0. 1. 0. 0. 0. 0. 0.], \n",
      "predicted label scores: [0.04 0.34 0.42 0.05 0.06 0.04 0.06]\n",
      "578 edges removed\n",
      "Epoch 1/20\n",
      " - 4s - loss: 1.9856 - weighted_categorical_accuracy: 0.0857 - val_loss: 1.9200 - val_weighted_categorical_accuracy: 0.2940\n",
      "Epoch 2/20\n",
      " - 3s - loss: 1.8877 - weighted_categorical_accuracy: 0.3571 - val_loss: 1.8683 - val_weighted_categorical_accuracy: 0.3640\n",
      "Epoch 3/20\n",
      " - 3s - loss: 1.7978 - weighted_categorical_accuracy: 0.4786 - val_loss: 1.8225 - val_weighted_categorical_accuracy: 0.4040\n",
      "Epoch 4/20\n",
      " - 3s - loss: 1.7198 - weighted_categorical_accuracy: 0.5500 - val_loss: 1.7732 - val_weighted_categorical_accuracy: 0.4140\n",
      "Epoch 5/20\n",
      " - 3s - loss: 1.6339 - weighted_categorical_accuracy: 0.6143 - val_loss: 1.7243 - val_weighted_categorical_accuracy: 0.4320\n",
      "Epoch 6/20\n",
      " - 3s - loss: 1.5621 - weighted_categorical_accuracy: 0.6214 - val_loss: 1.6756 - val_weighted_categorical_accuracy: 0.4660\n",
      "Epoch 7/20\n",
      " - 4s - loss: 1.4794 - weighted_categorical_accuracy: 0.6571 - val_loss: 1.6271 - val_weighted_categorical_accuracy: 0.5100\n",
      "Epoch 8/20\n",
      " - 3s - loss: 1.3928 - weighted_categorical_accuracy: 0.6929 - val_loss: 1.5788 - val_weighted_categorical_accuracy: 0.5340\n",
      "Epoch 9/20\n",
      " - 3s - loss: 1.3002 - weighted_categorical_accuracy: 0.7143 - val_loss: 1.5311 - val_weighted_categorical_accuracy: 0.5440\n",
      "Epoch 10/20\n",
      " - 3s - loss: 1.2424 - weighted_categorical_accuracy: 0.7429 - val_loss: 1.4838 - val_weighted_categorical_accuracy: 0.5540\n",
      "Epoch 11/20\n",
      " - 3s - loss: 1.1384 - weighted_categorical_accuracy: 0.7500 - val_loss: 1.4370 - val_weighted_categorical_accuracy: 0.5720\n",
      "Epoch 12/20\n",
      " - 3s - loss: 1.0846 - weighted_categorical_accuracy: 0.7643 - val_loss: 1.3918 - val_weighted_categorical_accuracy: 0.6000\n",
      "Epoch 13/20\n",
      " - 3s - loss: 0.9701 - weighted_categorical_accuracy: 0.8714 - val_loss: 1.3483 - val_weighted_categorical_accuracy: 0.6260\n",
      "Epoch 14/20\n",
      " - 4s - loss: 0.9370 - weighted_categorical_accuracy: 0.8429 - val_loss: 1.3068 - val_weighted_categorical_accuracy: 0.6440\n",
      "Epoch 15/20\n",
      " - 3s - loss: 0.8698 - weighted_categorical_accuracy: 0.8714 - val_loss: 1.2677 - val_weighted_categorical_accuracy: 0.6520\n",
      "Epoch 16/20\n",
      " - 3s - loss: 0.7989 - weighted_categorical_accuracy: 0.8929 - val_loss: 1.2309 - val_weighted_categorical_accuracy: 0.6780\n",
      "Epoch 17/20\n",
      " - 3s - loss: 0.7440 - weighted_categorical_accuracy: 0.9071 - val_loss: 1.1967 - val_weighted_categorical_accuracy: 0.6820\n",
      "Epoch 18/20\n",
      " - 3s - loss: 0.6886 - weighted_categorical_accuracy: 0.9357 - val_loss: 1.1651 - val_weighted_categorical_accuracy: 0.7100\n",
      "Epoch 19/20\n",
      " - 3s - loss: 0.6440 - weighted_categorical_accuracy: 0.9143 - val_loss: 1.1364 - val_weighted_categorical_accuracy: 0.7180\n",
      "Epoch 20/20\n",
      " - 4s - loss: 0.6178 - weighted_categorical_accuracy: 0.9429 - val_loss: 1.1101 - val_weighted_categorical_accuracy: 0.7320\n",
      "target node id: 1688, \n",
      "true label: [0. 1. 0. 0. 0. 0. 0.], \n",
      "predicted label scores: [0.09 0.54 0.06 0.05 0.1  0.03 0.14]\n",
      "578 edges removed\n",
      "Epoch 1/20\n",
      " - 4s - loss: 1.9376 - weighted_categorical_accuracy: 0.2714 - val_loss: 1.8826 - val_weighted_categorical_accuracy: 0.3180\n",
      "Epoch 2/20\n",
      " - 3s - loss: 1.8361 - weighted_categorical_accuracy: 0.4143 - val_loss: 1.8223 - val_weighted_categorical_accuracy: 0.3120\n",
      "Epoch 3/20\n",
      " - 3s - loss: 1.7452 - weighted_categorical_accuracy: 0.4429 - val_loss: 1.7685 - val_weighted_categorical_accuracy: 0.3180\n",
      "Epoch 4/20\n",
      " - 4s - loss: 1.6521 - weighted_categorical_accuracy: 0.4214 - val_loss: 1.7177 - val_weighted_categorical_accuracy: 0.3360\n",
      "Epoch 5/20\n",
      " - 3s - loss: 1.5654 - weighted_categorical_accuracy: 0.4786 - val_loss: 1.6674 - val_weighted_categorical_accuracy: 0.3600\n",
      "Epoch 6/20\n",
      " - 3s - loss: 1.4840 - weighted_categorical_accuracy: 0.4929 - val_loss: 1.6163 - val_weighted_categorical_accuracy: 0.3800\n",
      "Epoch 7/20\n",
      " - 3s - loss: 1.3942 - weighted_categorical_accuracy: 0.5714 - val_loss: 1.5644 - val_weighted_categorical_accuracy: 0.4180\n",
      "Epoch 8/20\n",
      " - 3s - loss: 1.3269 - weighted_categorical_accuracy: 0.5929 - val_loss: 1.5121 - val_weighted_categorical_accuracy: 0.4880\n",
      "Epoch 9/20\n",
      " - 3s - loss: 1.2379 - weighted_categorical_accuracy: 0.6286 - val_loss: 1.4614 - val_weighted_categorical_accuracy: 0.5460\n",
      "Epoch 10/20\n",
      " - 3s - loss: 1.1743 - weighted_categorical_accuracy: 0.7357 - val_loss: 1.4141 - val_weighted_categorical_accuracy: 0.5980\n",
      "Epoch 11/20\n",
      " - 3s - loss: 1.0919 - weighted_categorical_accuracy: 0.7929 - val_loss: 1.3707 - val_weighted_categorical_accuracy: 0.6400\n",
      "Epoch 12/20\n",
      " - 3s - loss: 1.0553 - weighted_categorical_accuracy: 0.8071 - val_loss: 1.3302 - val_weighted_categorical_accuracy: 0.6760\n",
      "Epoch 13/20\n",
      " - 3s - loss: 0.9763 - weighted_categorical_accuracy: 0.8357 - val_loss: 1.2917 - val_weighted_categorical_accuracy: 0.6940\n",
      "Epoch 14/20\n",
      " - 4s - loss: 0.9399 - weighted_categorical_accuracy: 0.8714 - val_loss: 1.2550 - val_weighted_categorical_accuracy: 0.7060\n",
      "Epoch 15/20\n",
      " - 3s - loss: 0.8703 - weighted_categorical_accuracy: 0.8500 - val_loss: 1.2194 - val_weighted_categorical_accuracy: 0.7140\n",
      "Epoch 16/20\n",
      " - 3s - loss: 0.8081 - weighted_categorical_accuracy: 0.8929 - val_loss: 1.1851 - val_weighted_categorical_accuracy: 0.7200\n",
      "Epoch 17/20\n",
      " - 3s - loss: 0.7591 - weighted_categorical_accuracy: 0.9000 - val_loss: 1.1529 - val_weighted_categorical_accuracy: 0.7220\n",
      "Epoch 18/20\n",
      " - 3s - loss: 0.6956 - weighted_categorical_accuracy: 0.9286 - val_loss: 1.1233 - val_weighted_categorical_accuracy: 0.7280\n",
      "Epoch 19/20\n",
      " - 3s - loss: 0.6684 - weighted_categorical_accuracy: 0.9571 - val_loss: 1.0965 - val_weighted_categorical_accuracy: 0.7360\n"
     ]
    },
    {
     "name": "stdout",
     "output_type": "stream",
     "text": [
      "Epoch 20/20\n",
      " - 4s - loss: 0.6159 - weighted_categorical_accuracy: 0.9357 - val_loss: 1.0724 - val_weighted_categorical_accuracy: 0.7380\n",
      "target node id: 1688, \n",
      "true label: [0. 1. 0. 0. 0. 0. 0.], \n",
      "predicted label scores: [0.16 0.44 0.07 0.06 0.11 0.09 0.07]\n",
      "578 edges removed\n",
      "Epoch 1/20\n",
      " - 4s - loss: 1.9857 - weighted_categorical_accuracy: 0.1571 - val_loss: 1.9047 - val_weighted_categorical_accuracy: 0.3280\n",
      "Epoch 2/20\n",
      " - 3s - loss: 1.8804 - weighted_categorical_accuracy: 0.4286 - val_loss: 1.8453 - val_weighted_categorical_accuracy: 0.3780\n",
      "Epoch 3/20\n",
      " - 3s - loss: 1.7871 - weighted_categorical_accuracy: 0.4143 - val_loss: 1.7897 - val_weighted_categorical_accuracy: 0.3840\n",
      "Epoch 4/20\n",
      " - 3s - loss: 1.7033 - weighted_categorical_accuracy: 0.4643 - val_loss: 1.7370 - val_weighted_categorical_accuracy: 0.4080\n",
      "Epoch 5/20\n",
      " - 3s - loss: 1.6208 - weighted_categorical_accuracy: 0.4786 - val_loss: 1.6864 - val_weighted_categorical_accuracy: 0.4180\n",
      "Epoch 6/20\n",
      " - 3s - loss: 1.5327 - weighted_categorical_accuracy: 0.5286 - val_loss: 1.6372 - val_weighted_categorical_accuracy: 0.4380\n",
      "Epoch 7/20\n",
      " - 3s - loss: 1.4615 - weighted_categorical_accuracy: 0.5286 - val_loss: 1.5885 - val_weighted_categorical_accuracy: 0.4600\n",
      "Epoch 8/20\n",
      " - 3s - loss: 1.3730 - weighted_categorical_accuracy: 0.5786 - val_loss: 1.5395 - val_weighted_categorical_accuracy: 0.4780\n",
      "Epoch 9/20\n",
      " - 3s - loss: 1.3013 - weighted_categorical_accuracy: 0.6357 - val_loss: 1.4902 - val_weighted_categorical_accuracy: 0.5040\n",
      "Epoch 10/20\n",
      " - 3s - loss: 1.2246 - weighted_categorical_accuracy: 0.6929 - val_loss: 1.4412 - val_weighted_categorical_accuracy: 0.5280\n",
      "Epoch 11/20\n",
      " - 3s - loss: 1.1398 - weighted_categorical_accuracy: 0.7357 - val_loss: 1.3926 - val_weighted_categorical_accuracy: 0.5580\n",
      "Epoch 12/20\n",
      " - 3s - loss: 1.0689 - weighted_categorical_accuracy: 0.7643 - val_loss: 1.3454 - val_weighted_categorical_accuracy: 0.5820\n",
      "Epoch 13/20\n",
      " - 3s - loss: 1.0057 - weighted_categorical_accuracy: 0.8286 - val_loss: 1.3002 - val_weighted_categorical_accuracy: 0.6100\n",
      "Epoch 14/20\n",
      " - 4s - loss: 0.9120 - weighted_categorical_accuracy: 0.8429 - val_loss: 1.2573 - val_weighted_categorical_accuracy: 0.6520\n",
      "Epoch 15/20\n",
      " - 4s - loss: 0.8640 - weighted_categorical_accuracy: 0.8857 - val_loss: 1.2169 - val_weighted_categorical_accuracy: 0.6700\n",
      "Epoch 16/20\n",
      " - 3s - loss: 0.7974 - weighted_categorical_accuracy: 0.9000 - val_loss: 1.1789 - val_weighted_categorical_accuracy: 0.6840\n",
      "Epoch 17/20\n",
      " - 3s - loss: 0.7309 - weighted_categorical_accuracy: 0.8714 - val_loss: 1.1436 - val_weighted_categorical_accuracy: 0.7000\n",
      "Epoch 18/20\n",
      " - 3s - loss: 0.6833 - weighted_categorical_accuracy: 0.9143 - val_loss: 1.1111 - val_weighted_categorical_accuracy: 0.7180\n",
      "Epoch 19/20\n",
      " - 3s - loss: 0.6272 - weighted_categorical_accuracy: 0.9071 - val_loss: 1.0812 - val_weighted_categorical_accuracy: 0.7240\n",
      "Epoch 20/20\n",
      " - 3s - loss: 0.5682 - weighted_categorical_accuracy: 0.9286 - val_loss: 1.0544 - val_weighted_categorical_accuracy: 0.7300\n",
      "target node id: 1688, \n",
      "true label: [0. 1. 0. 0. 0. 0. 0.], \n",
      "predicted label scores: [0.2  0.56 0.09 0.05 0.05 0.04 0.02]\n",
      "578 edges removed\n",
      "Epoch 1/20\n",
      " - 4s - loss: 1.9744 - weighted_categorical_accuracy: 0.1000 - val_loss: 1.9031 - val_weighted_categorical_accuracy: 0.4180\n",
      "Epoch 2/20\n",
      " - 4s - loss: 1.8855 - weighted_categorical_accuracy: 0.4143 - val_loss: 1.8512 - val_weighted_categorical_accuracy: 0.5000\n",
      "Epoch 3/20\n",
      " - 3s - loss: 1.7875 - weighted_categorical_accuracy: 0.5857 - val_loss: 1.8019 - val_weighted_categorical_accuracy: 0.5040\n",
      "Epoch 4/20\n",
      " - 4s - loss: 1.7143 - weighted_categorical_accuracy: 0.5786 - val_loss: 1.7535 - val_weighted_categorical_accuracy: 0.5060\n",
      "Epoch 5/20\n",
      " - 3s - loss: 1.6491 - weighted_categorical_accuracy: 0.6071 - val_loss: 1.7057 - val_weighted_categorical_accuracy: 0.5000\n",
      "Epoch 6/20\n",
      " - 3s - loss: 1.5534 - weighted_categorical_accuracy: 0.6643 - val_loss: 1.6579 - val_weighted_categorical_accuracy: 0.5200\n",
      "Epoch 7/20\n",
      " - 3s - loss: 1.4767 - weighted_categorical_accuracy: 0.6929 - val_loss: 1.6100 - val_weighted_categorical_accuracy: 0.5360\n",
      "Epoch 8/20\n",
      " - 4s - loss: 1.3882 - weighted_categorical_accuracy: 0.7357 - val_loss: 1.5625 - val_weighted_categorical_accuracy: 0.5540\n",
      "Epoch 9/20\n",
      " - 3s - loss: 1.2946 - weighted_categorical_accuracy: 0.7857 - val_loss: 1.5157 - val_weighted_categorical_accuracy: 0.5560\n",
      "Epoch 10/20\n",
      " - 4s - loss: 1.2473 - weighted_categorical_accuracy: 0.7643 - val_loss: 1.4701 - val_weighted_categorical_accuracy: 0.5800\n",
      "Epoch 11/20\n",
      " - 3s - loss: 1.1458 - weighted_categorical_accuracy: 0.8500 - val_loss: 1.4256 - val_weighted_categorical_accuracy: 0.5840\n",
      "Epoch 12/20\n",
      " - 3s - loss: 1.0900 - weighted_categorical_accuracy: 0.8571 - val_loss: 1.3827 - val_weighted_categorical_accuracy: 0.5960\n",
      "Epoch 13/20\n",
      " - 3s - loss: 1.0059 - weighted_categorical_accuracy: 0.8786 - val_loss: 1.3410 - val_weighted_categorical_accuracy: 0.6120\n",
      "Epoch 14/20\n",
      " - 3s - loss: 0.9474 - weighted_categorical_accuracy: 0.8500 - val_loss: 1.3008 - val_weighted_categorical_accuracy: 0.6400\n",
      "Epoch 15/20\n",
      " - 3s - loss: 0.8638 - weighted_categorical_accuracy: 0.8929 - val_loss: 1.2627 - val_weighted_categorical_accuracy: 0.6620\n",
      "Epoch 16/20\n",
      " - 3s - loss: 0.8113 - weighted_categorical_accuracy: 0.9214 - val_loss: 1.2267 - val_weighted_categorical_accuracy: 0.6760\n",
      "Epoch 17/20\n",
      " - 3s - loss: 0.7411 - weighted_categorical_accuracy: 0.9143 - val_loss: 1.1922 - val_weighted_categorical_accuracy: 0.6960\n",
      "Epoch 18/20\n",
      " - 3s - loss: 0.6795 - weighted_categorical_accuracy: 0.9500 - val_loss: 1.1593 - val_weighted_categorical_accuracy: 0.7060\n",
      "Epoch 19/20\n",
      " - 3s - loss: 0.6502 - weighted_categorical_accuracy: 0.9214 - val_loss: 1.1286 - val_weighted_categorical_accuracy: 0.7180\n",
      "Epoch 20/20\n",
      " - 3s - loss: 0.5928 - weighted_categorical_accuracy: 0.9643 - val_loss: 1.1006 - val_weighted_categorical_accuracy: 0.7180\n",
      "target node id: 1688, \n",
      "true label: [0. 1. 0. 0. 0. 0. 0.], \n",
      "predicted label scores: [0.06 0.53 0.07 0.16 0.11 0.02 0.06]\n"
     ]
    }
   ],
   "source": [
    "cnt = 0\n",
    "edges = list(G.edges())\n",
    "for x,y in edges:\n",
    "    similarity = jaccard_similarity_score(X[0,node_indices.index(x)].reshape((1, 1433)), \n",
    "                                          X[0,node_indices.index(y)].reshape((1, 1433)))\n",
    "    if similarity == 0:\n",
    "        G.remove_edge(x,y)\n",
    "        cnt += 1\n",
    "for i in range(5):\n",
    "    generator = FullBatchNodeGenerator(G, method=\"none\", sparse=False)\n",
    "    gcn = GCN(layer_sizes=layer_sizes, activations=[\"elu\", \"elu\"], generator=generator, bias=True, dropout=0.3,kernel_regularizer=regularizers.l2(5e-4))\n",
    "    # Expose the input and output tensors of the GCN model for node prediction, via GCN.node_model() method:\n",
    "    x_inp, x_out = gcn.node_model()\n",
    "    # Snap the final estimator layer to x_out\n",
    "    x_out = layers.Dense(units=train_targets.shape[1], activation=\"softmax\")(x_out)\n",
    "    model = keras.Model(inputs=x_inp, outputs=x_out)\n",
    "    model.compile(\n",
    "        optimizer=optimizers.Adam(lr=0.005),# decay=0.001),\n",
    "        loss=losses.categorical_crossentropy,\n",
    "        weighted_metrics=[metrics.categorical_accuracy],\n",
    "    )\n",
    "    graph_nodes = list(Gnx.nodes())\n",
    "    all_gen = generator.flow(graph_nodes)\n",
    "    train_gen = generator.flow(train_data.index, train_targets)\n",
    "    print('{} edges removed'.format(cnt))\n",
    "    history = model.fit_generator(train_gen,\n",
    "                        shuffle=False,\n",
    "                        epochs=20,\n",
    "                        verbose=2,\n",
    "                        validation_data=val_gen)\n",
    "    N = len(node_ids)\n",
    "    y_pred = model.predict_generator(all_gen)[0, target_idx]\n",
    "    class_of_interest = np.argmax(y_pred)\n",
    "\n",
    "    print(\"target node id: {}, \\ntrue label: {}, \\npredicted label scores: {}\".format(target_nid, y_true, y_pred.round(2)))"
   ]
  },
  {
   "cell_type": "markdown",
   "metadata": {},
   "source": [
    "Such a simple preprocessing easily defend the attack. Now the prediction is correct."
   ]
  },
  {
   "cell_type": "code",
   "execution_count": 38,
   "metadata": {},
   "outputs": [
    {
     "name": "stdout",
     "output_type": "stream",
     "text": [
      "(1, 2708, 1433)\n"
     ]
    }
   ],
   "source": [
    "print(X.shape)"
   ]
  },
  {
   "cell_type": "code",
   "execution_count": null,
   "metadata": {
    "collapsed": true
   },
   "outputs": [],
   "source": []
  },
  {
   "cell_type": "raw",
   "metadata": {
    "collapsed": true
   },
   "source": []
  }
 ],
 "metadata": {
  "kernelspec": {
   "display_name": "Python [conda env:stellargraph]",
   "language": "python",
   "name": "conda-env-stellargraph-py"
  },
  "language_info": {
   "codemirror_mode": {
    "name": "ipython",
    "version": 3
   },
   "file_extension": ".py",
   "mimetype": "text/x-python",
   "name": "python",
   "nbconvert_exporter": "python",
   "pygments_lexer": "ipython3",
   "version": "3.6.2"
  }
 },
 "nbformat": 4,
 "nbformat_minor": 2
}
