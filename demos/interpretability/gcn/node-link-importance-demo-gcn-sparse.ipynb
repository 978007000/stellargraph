{
 "cells": [
  {
   "cell_type": "markdown",
   "metadata": {},
   "source": [
    "This demo shows how to use integrated gradients in graph convolutional networks to obtain accurate importance estimations for both the nodes and edges. The notebook consists of three parts:\n",
    "- setting up the node classification problem for Cora citation network\n",
    "- training and evaluating a GCN model for node classification\n",
    "- calculating node and edge importances for model's predictions of query (\"target\") nodes"
   ]
  },
  {
   "cell_type": "code",
   "execution_count": 1,
   "metadata": {},
   "outputs": [
    {
     "name": "stderr",
     "output_type": "stream",
     "text": [
      "Using TensorFlow backend.\n"
     ]
    }
   ],
   "source": [
    "import networkx as nx\n",
    "import pandas as pd\n",
    "import numpy as np\n",
    "from scipy import stats\n",
    "import os\n",
    "import time\n",
    "import stellargraph as sg\n",
    "from stellargraph.mapper import FullBatchNodeGenerator\n",
    "from stellargraph.layer import GCN\n",
    "import keras\n",
    "from keras import layers, optimizers, losses, metrics, Model, regularizers\n",
    "from sklearn import preprocessing, feature_extraction, model_selection\n",
    "from copy import deepcopy\n",
    "import matplotlib.pyplot as plt\n",
    "%matplotlib inline"
   ]
  },
  {
   "cell_type": "markdown",
   "metadata": {},
   "source": [
    "### Loading the CORA network"
   ]
  },
  {
   "cell_type": "markdown",
   "metadata": {},
   "source": [
    "**Downloading the CORA dataset:**\n",
    "    \n",
    "The dataset used in this demo can be downloaded from https://linqs-data.soe.ucsc.edu/public/lbc/cora.tgz\n",
    "\n",
    "The following is the description of the dataset:\n",
    "> The Cora dataset consists of 2708 scientific publications classified into one of seven classes.\n",
    "> The citation network consists of 5429 links. Each publication in the dataset is described by a\n",
    "> 0/1-valued word vector indicating the absence/presence of the corresponding word from the dictionary.\n",
    "> The dictionary consists of 1433 unique words. The README file in the dataset provides more details.\n",
    "\n",
    "Download and unzip the cora.tgz file to a location on your computer and set the `data_dir` variable to\n",
    "point to the location of the dataset (the directory containing \"cora.cites\" and \"cora.content\")."
   ]
  },
  {
   "cell_type": "code",
   "execution_count": 2,
   "metadata": {},
   "outputs": [],
   "source": [
    "data_dir = os.path.expanduser(\"~/data/cora\")"
   ]
  },
  {
   "cell_type": "markdown",
   "metadata": {},
   "source": [
    "Load the graph from edgelist"
   ]
  },
  {
   "cell_type": "code",
   "execution_count": 3,
   "metadata": {},
   "outputs": [
    {
     "name": "stderr",
     "output_type": "stream",
     "text": [
      "/home/wu061/anaconda3/envs/stellar-research-py35/lib/python3.6/site-packages/ipykernel_launcher.py:1: FutureWarning: read_table is deprecated, use read_csv instead, passing sep='\\t'.\n",
      "  \"\"\"Entry point for launching an IPython kernel.\n"
     ]
    }
   ],
   "source": [
    "edgelist = pd.read_table(os.path.join(data_dir, \"cora.cites\"), header=None, names=[\"source\", \"target\"])\n",
    "edgelist[\"label\"] = \"cites\""
   ]
  },
  {
   "cell_type": "code",
   "execution_count": 4,
   "metadata": {},
   "outputs": [
    {
     "name": "stderr",
     "output_type": "stream",
     "text": [
      "/home/wu061/anaconda3/envs/stellar-research-py35/lib/python3.6/site-packages/ipykernel_launcher.py:5: FutureWarning: read_table is deprecated, use read_csv instead, passing sep='\\t'.\n",
      "  \"\"\"\n"
     ]
    }
   ],
   "source": [
    "Gnx = nx.from_pandas_edgelist(edgelist, edge_attr=\"label\")\n",
    "nx.set_node_attributes(Gnx, \"paper\", \"label\")\n",
    "feature_names = [\"w_{}\".format(ii) for ii in range(1433)]\n",
    "column_names =  feature_names + [\"subject\"]\n",
    "node_data = pd.read_table(os.path.join(data_dir, \"cora.content\"), header=None, names=column_names)"
   ]
  },
  {
   "cell_type": "markdown",
   "metadata": {},
   "source": [
    "The adjacency matrix is ordered by the graph nodes from G.nodes(). To make computations easier, let's reindex the node data to maintain the same ordering."
   ]
  },
  {
   "cell_type": "code",
   "execution_count": 5,
   "metadata": {},
   "outputs": [],
   "source": [
    "graph_nodes = list(Gnx.nodes())\n",
    "node_data = node_data.loc[graph_nodes]"
   ]
  },
  {
   "cell_type": "markdown",
   "metadata": {},
   "source": [
    "### Splitting the data"
   ]
  },
  {
   "cell_type": "markdown",
   "metadata": {},
   "source": [
    "For machine learning we want to take a subset of the nodes for training, and use the rest for validation and testing. We'll use scikit-learn again to do this.\n",
    "\n",
    "Here we're taking 140 node labels for training, 500 for validation, and the rest for testing."
   ]
  },
  {
   "cell_type": "code",
   "execution_count": 6,
   "metadata": {},
   "outputs": [],
   "source": [
    "train_data, test_data = model_selection.train_test_split(node_data,\n",
    "                                                         train_size=140,\n",
    "                                                         test_size=None,\n",
    "                                                         stratify=node_data['subject'])\n",
    "val_data, test_data = model_selection.train_test_split(test_data,\n",
    "                                                       train_size=500,\n",
    "                                                       test_size=None,\n",
    "                                                       stratify=test_data['subject'])"
   ]
  },
  {
   "cell_type": "markdown",
   "metadata": {},
   "source": [
    "### Converting to numeric arrays"
   ]
  },
  {
   "cell_type": "markdown",
   "metadata": {},
   "source": [
    "For our categorical target, we will use one-hot vectors that will be fed into a soft-max Keras layer during training. To do this conversion ...\n",
    "\n",
    "We now do the same for the node attributes we want to use to predict the subject. These are the feature vectors that the Keras model will use as input. The CORA dataset contains attributes 'w_x' that correspond to words found in that publication. If a word occurs more than once in a publication the relevant attribute will be set to one, otherwise it will be zero."
   ]
  },
  {
   "cell_type": "code",
   "execution_count": 7,
   "metadata": {},
   "outputs": [],
   "source": [
    "target_encoding = feature_extraction.DictVectorizer(sparse=False)\n",
    "feature_names = [\"w_{}\".format(ii) for ii in range(1433)]\n",
    "column_names =  feature_names + [\"subject\"]\n",
    "train_targets = target_encoding.fit_transform(train_data[[\"subject\"]].to_dict('records'))\n",
    "val_targets = target_encoding.transform(val_data[[\"subject\"]].to_dict('records'))\n",
    "test_targets = target_encoding.transform(test_data[[\"subject\"]].to_dict('records'))\n",
    "\n",
    "node_ids = node_data.index\n",
    "all_targets = target_encoding.transform(\n",
    "        node_data[[\"subject\"]].to_dict(\"records\")\n",
    "    )\n",
    "node_features = node_data[feature_names]"
   ]
  },
  {
   "cell_type": "markdown",
   "metadata": {},
   "source": [
    "### Creating the GCN model in Keras"
   ]
  },
  {
   "cell_type": "markdown",
   "metadata": {},
   "source": [
    "Now create a StellarGraph object from the NetworkX graph and the node features and targets. To feed data from the graph to the Keras model we need a generator. Since GCN is a full-batch model, we use the `FullBatchNodeGenerator` class."
   ]
  },
  {
   "cell_type": "code",
   "execution_count": 8,
   "metadata": {},
   "outputs": [
    {
     "name": "stdout",
     "output_type": "stream",
     "text": [
      "Using GCN (local pooling) filters...\n"
     ]
    }
   ],
   "source": [
    "G = sg.StellarGraph(Gnx, node_features=node_features)\n",
    "generator = FullBatchNodeGenerator(G, sparse=True)"
   ]
  },
  {
   "cell_type": "markdown",
   "metadata": {},
   "source": [
    "For training we map only the training nodes returned from our splitter and the target values."
   ]
  },
  {
   "cell_type": "code",
   "execution_count": 9,
   "metadata": {},
   "outputs": [],
   "source": [
    "train_gen = generator.flow(train_data.index, train_targets)"
   ]
  },
  {
   "cell_type": "markdown",
   "metadata": {},
   "source": [
    "Now we can specify our machine learning model: tn this example we use two GCN layers with 16-dimensional hidden node features at each layer with ELU activation functions."
   ]
  },
  {
   "cell_type": "code",
   "execution_count": 10,
   "metadata": {},
   "outputs": [],
   "source": [
    "layer_sizes = [16, 16]\n",
    "gcn = GCN(layer_sizes=layer_sizes,\n",
    "          activations=[\"elu\", \"elu\"],\n",
    "          generator=generator, \n",
    "          dropout=0.3,\n",
    "          kernel_regularizer=regularizers.l2(5e-4))"
   ]
  },
  {
   "cell_type": "code",
   "execution_count": 11,
   "metadata": {},
   "outputs": [
    {
     "name": "stdout",
     "output_type": "stream",
     "text": [
      "WARNING:tensorflow:From /home/wu061/anaconda3/envs/stellar-research-py35/lib/python3.6/site-packages/tensorflow/python/ops/control_flow_ops.py:423: colocate_with (from tensorflow.python.framework.ops) is deprecated and will be removed in a future version.\n",
      "Instructions for updating:\n",
      "Colocations handled automatically by placer.\n",
      "WARNING:tensorflow:From /home/wu061/anaconda3/envs/stellar-research-py35/lib/python3.6/site-packages/Keras-2.2.4-py3.6.egg/keras/backend/tensorflow_backend.py:3445: calling dropout (from tensorflow.python.ops.nn_ops) with keep_prob is deprecated and will be removed in a future version.\n",
      "Instructions for updating:\n",
      "Please use `rate` instead of `keep_prob`. Rate should be set to `rate = 1 - keep_prob`.\n"
     ]
    }
   ],
   "source": [
    "# Expose the input and output tensors of the GCN model for node prediction, via GCN.node_model() method:\n",
    "x_inp, x_out = gcn.node_model()\n",
    "# Snap the final estimator layer to x_out\n",
    "x_out = layers.Dense(units=train_targets.shape[1], activation=\"softmax\")(x_out)"
   ]
  },
  {
   "cell_type": "markdown",
   "metadata": {},
   "source": [
    "### Training the model"
   ]
  },
  {
   "cell_type": "markdown",
   "metadata": {},
   "source": [
    "Now let's create the actual Keras model with the input tensors `x_inp` and output tensors being the predictions `x_out` from the final dense layer"
   ]
  },
  {
   "cell_type": "code",
   "execution_count": 12,
   "metadata": {},
   "outputs": [],
   "source": [
    "model = keras.Model(inputs=x_inp, outputs=x_out)\n",
    "\n",
    "model.compile(\n",
    "    optimizer=optimizers.Adam(lr=0.01),# decay=0.001),\n",
    "    loss=losses.categorical_crossentropy,\n",
    "    metrics=[metrics.categorical_accuracy],\n",
    ")"
   ]
  },
  {
   "cell_type": "markdown",
   "metadata": {},
   "source": [
    "Train the model, keeping track of its loss and accuracy on the training set, and its generalisation performance on the validation set (we need to create another generator over the validation data for this)"
   ]
  },
  {
   "cell_type": "code",
   "execution_count": 13,
   "metadata": {},
   "outputs": [],
   "source": [
    "val_gen = generator.flow(val_data.index, val_targets)"
   ]
  },
  {
   "cell_type": "markdown",
   "metadata": {},
   "source": [
    "Train the model"
   ]
  },
  {
   "cell_type": "code",
   "execution_count": 14,
   "metadata": {},
   "outputs": [
    {
     "name": "stdout",
     "output_type": "stream",
     "text": [
      "WARNING:tensorflow:From /home/wu061/anaconda3/envs/stellar-research-py35/lib/python3.6/site-packages/tensorflow/python/ops/math_ops.py:3066: to_int32 (from tensorflow.python.ops.math_ops) is deprecated and will be removed in a future version.\n",
      "Instructions for updating:\n",
      "Use tf.cast instead.\n",
      "WARNING:tensorflow:From /home/wu061/anaconda3/envs/stellar-research-py35/lib/python3.6/site-packages/tensorflow/python/ops/math_grad.py:102: div (from tensorflow.python.ops.math_ops) is deprecated and will be removed in a future version.\n",
      "Instructions for updating:\n",
      "Deprecated in favor of operator or tf.math.divide.\n",
      "Epoch 1/20\n",
      " - 0s - loss: 1.9872 - categorical_accuracy: 0.1000 - val_loss: 1.8431 - val_categorical_accuracy: 0.4400\n",
      "Epoch 2/20\n",
      " - 0s - loss: 1.8043 - categorical_accuracy: 0.5357 - val_loss: 1.7382 - val_categorical_accuracy: 0.4900\n",
      "Epoch 3/20\n",
      " - 0s - loss: 1.6463 - categorical_accuracy: 0.6071 - val_loss: 1.6355 - val_categorical_accuracy: 0.4800\n",
      "Epoch 4/20\n",
      " - 0s - loss: 1.4962 - categorical_accuracy: 0.6214 - val_loss: 1.5341 - val_categorical_accuracy: 0.4740\n",
      "Epoch 5/20\n",
      " - 0s - loss: 1.3317 - categorical_accuracy: 0.7214 - val_loss: 1.4347 - val_categorical_accuracy: 0.5100\n",
      "Epoch 6/20\n",
      " - 0s - loss: 1.2041 - categorical_accuracy: 0.7143 - val_loss: 1.3357 - val_categorical_accuracy: 0.5960\n",
      "Epoch 7/20\n",
      " - 0s - loss: 1.0721 - categorical_accuracy: 0.7786 - val_loss: 1.2375 - val_categorical_accuracy: 0.6680\n",
      "Epoch 8/20\n",
      " - 0s - loss: 0.9347 - categorical_accuracy: 0.8357 - val_loss: 1.1436 - val_categorical_accuracy: 0.7180\n",
      "Epoch 9/20\n",
      " - 0s - loss: 0.7921 - categorical_accuracy: 0.9214 - val_loss: 1.0587 - val_categorical_accuracy: 0.7400\n",
      "Epoch 10/20\n",
      " - 0s - loss: 0.6837 - categorical_accuracy: 0.9214 - val_loss: 0.9863 - val_categorical_accuracy: 0.7640\n",
      "Epoch 11/20\n",
      " - 0s - loss: 0.5943 - categorical_accuracy: 0.9500 - val_loss: 0.9267 - val_categorical_accuracy: 0.7940\n",
      "Epoch 12/20\n",
      " - 0s - loss: 0.5071 - categorical_accuracy: 0.9571 - val_loss: 0.8795 - val_categorical_accuracy: 0.8060\n",
      "Epoch 13/20\n",
      " - 0s - loss: 0.4567 - categorical_accuracy: 0.9571 - val_loss: 0.8431 - val_categorical_accuracy: 0.8240\n",
      "Epoch 14/20\n",
      " - 0s - loss: 0.3912 - categorical_accuracy: 0.9714 - val_loss: 0.8188 - val_categorical_accuracy: 0.8180\n",
      "Epoch 15/20\n",
      " - 0s - loss: 0.3358 - categorical_accuracy: 0.9786 - val_loss: 0.8021 - val_categorical_accuracy: 0.8100\n",
      "Epoch 16/20\n",
      " - 0s - loss: 0.3011 - categorical_accuracy: 0.9786 - val_loss: 0.7910 - val_categorical_accuracy: 0.8080\n",
      "Epoch 17/20\n",
      " - 0s - loss: 0.2671 - categorical_accuracy: 0.9929 - val_loss: 0.7830 - val_categorical_accuracy: 0.8120\n",
      "Epoch 18/20\n",
      " - 0s - loss: 0.2559 - categorical_accuracy: 0.9857 - val_loss: 0.7756 - val_categorical_accuracy: 0.8100\n",
      "Epoch 19/20\n",
      " - 0s - loss: 0.2289 - categorical_accuracy: 0.9857 - val_loss: 0.7734 - val_categorical_accuracy: 0.8100\n",
      "Epoch 20/20\n",
      " - 0s - loss: 0.2214 - categorical_accuracy: 0.9929 - val_loss: 0.7700 - val_categorical_accuracy: 0.8140\n"
     ]
    }
   ],
   "source": [
    "history = model.fit_generator(train_gen,\n",
    "                    shuffle=False,\n",
    "                    epochs=20,\n",
    "                    verbose=2,\n",
    "                    validation_data=val_gen)"
   ]
  },
  {
   "cell_type": "code",
   "execution_count": 15,
   "metadata": {},
   "outputs": [],
   "source": [
    "import matplotlib.pyplot as plt\n",
    "%matplotlib inline\n",
    "\n",
    "def remove_prefix(text, prefix):\n",
    "    return text[text.startswith(prefix) and len(prefix):]\n",
    "\n",
    "def plot_history(history):\n",
    "    metrics = sorted(set([remove_prefix(m, \"val_\") for m in list(history.history.keys())]))\n",
    "    for m in metrics:\n",
    "        # summarize history for metric m\n",
    "        plt.plot(history.history[m])\n",
    "        plt.plot(history.history['val_' + m])\n",
    "        plt.title(m)\n",
    "        plt.ylabel(m)\n",
    "        plt.xlabel('epoch')\n",
    "        plt.legend(['train', 'validation'], loc='best')\n",
    "        plt.show()"
   ]
  },
  {
   "cell_type": "code",
   "execution_count": 16,
   "metadata": {},
   "outputs": [
    {
     "data": {
      "image/png": "[encoded data removed]",
      "text/plain": [
       "<Figure size 432x288 with 1 Axes>"
      ]
     },
     "metadata": {
      "needs_background": "light"
     },
     "output_type": "display_data"
    },
    {
     "data": {
      "image/png": "[encoded data removed]",
      "text/plain": [
       "<Figure size 432x288 with 1 Axes>"
      ]
     },
     "metadata": {
      "needs_background": "light"
     },
     "output_type": "display_data"
    }
   ],
   "source": [
    "plot_history(history)"
   ]
  },
  {
   "cell_type": "markdown",
   "metadata": {},
   "source": [
    "Evaluate the trained model on the test set"
   ]
  },
  {
   "cell_type": "code",
   "execution_count": 17,
   "metadata": {},
   "outputs": [
    {
     "name": "stdout",
     "output_type": "stream",
     "text": [
      "\n",
      "Test Set Metrics:\n",
      "\tloss: 0.9079\n",
      "\tcategorical_accuracy: 0.7858\n"
     ]
    }
   ],
   "source": [
    "test_gen = generator.flow(test_data.index, test_targets)\n",
    "test_metrics = model.evaluate_generator(test_gen)\n",
    "print(\"\\nTest Set Metrics:\")\n",
    "for name, val in zip(model.metrics_names, test_metrics):\n",
    "    print(\"\\t{}: {:0.4f}\".format(name, val))"
   ]
  },
  {
   "cell_type": "markdown",
   "metadata": {},
   "source": [
    "# Node and link importance via saliency maps"
   ]
  },
  {
   "cell_type": "markdown",
   "metadata": {},
   "source": [
    "In order to understand why a selected node is predicted as a certain class we want to find the node feature importance, total node importance, and link importance for nodes and edges in the selected node's neighbourhood (ego-net). These importances give information about the effect of changes in the node's features and its neighbourhood on the prediction of the node, specifically:\n",
    "\n",
    "#### Node feature importance:\n",
    "Given the selected node $t$ and the model's prediction $s(c)$ for class $c$. The feature importance can be calculated for each node $v$ in the selcted node's ego-net where the importance of feature $f$ for node $v$ is the change predicted score $s(c)$ for the selected node when the feature $f$ of node $v$ is perturbed.\n",
    "\n",
    "#### Total node importance:\n",
    "This is defined as the sum of the feature importances for node $v$ for all features. Nodes with high importance (positive or negative) affect the prediction for the selected node more than links with low importance. \n",
    "\n",
    "#### Link importance:\n",
    "This is defined as the change in the selected node's predicted score $s(c)$ if the link $e=(u, v)$ is removed from the graph. Links with high importance (positive or negative) affect the prediction for the selected node more than links with low importance. \n",
    "\n",
    "Node and link importances can be used to assess the role of nodes and links in model's predictions for the node(s) of interest (the selected node). For datasets like CORA-ML, the features and edges are binary, vanilla gradients may not perform well so we use integrated gradients to compute them (https://arxiv.org/pdf/1703.01365.pdf).\n",
    "\n",
    "Another interesting application of node and link importances is to identify model vulnerabilities to attacks via perturbing node features and graph structure (see https://arxiv.org/abs/1903.01610)."
   ]
  },
  {
   "cell_type": "markdown",
   "metadata": {},
   "source": [
    "To investigate these importances we use the StellarGraph `saliency_maps` routines:"
   ]
  },
  {
   "cell_type": "code",
   "execution_count": 18,
   "metadata": {},
   "outputs": [],
   "source": [
    "from stellargraph.utils.saliency_maps import IntegratedGradients, GradientSaliency"
   ]
  },
  {
   "cell_type": "markdown",
   "metadata": {},
   "source": [
    "Select the target node whose prediction is to be interpreted"
   ]
  },
  {
   "cell_type": "code",
   "execution_count": 19,
   "metadata": {},
   "outputs": [],
   "source": [
    "target_idx = 7   # index of the selected node in G.nodes()\n",
    "target_nid = graph_nodes[target_idx] # Node ID of the selected node\n",
    "y_true = all_targets[target_idx]  # true class of the target node"
   ]
  },
  {
   "cell_type": "code",
   "execution_count": 20,
   "metadata": {},
   "outputs": [
    {
     "name": "stdout",
     "output_type": "stream",
     "text": [
      "Selected node id: 1109199, \n",
      "True label: [0. 1. 0. 0. 0. 0. 0.], \n",
      "Predicted scores: [0.1  0.65 0.02 0.   0.22 0.   0.01]\n"
     ]
    }
   ],
   "source": [
    "all_gen = generator.flow(graph_nodes)\n",
    "y_pred = model.predict_generator(all_gen)[0, target_idx]\n",
    "class_of_interest = np.argmax(y_pred)\n",
    "\n",
    "print(\"Selected node id: {}, \\nTrue label: {}, \\nPredicted scores: {}\".format(target_nid, y_true, y_pred.round(2)))"
   ]
  },
  {
   "cell_type": "markdown",
   "metadata": {},
   "source": [
    "Get the node feature importance by using integrated gradients"
   ]
  },
  {
   "cell_type": "code",
   "execution_count": 21,
   "metadata": {},
   "outputs": [],
   "source": [
    "int_grad_saliency = IntegratedGradients(model, sparse=True)"
   ]
  },
  {
   "cell_type": "markdown",
   "metadata": {},
   "source": [
    "For the parameters of `get_node_importance` method, `X` and `A` are the feature and adjacency matrices, respectively. If `sparse` option is enabled, `A` will be the non-zero values of the adjacency matrix with `A_index` being the indices. `target_idx` is the node of interest, and `class_of_interest` is set as the predicted label of the node. `steps` indicates the number of steps used to approximate the integration in integrated gradients calculation. A larger value of `steps` gives better approximation, at the cost of higher computational overhead."
   ]
  },
  {
   "cell_type": "code",
   "execution_count": 22,
   "metadata": {},
   "outputs": [],
   "source": [
    "[X,_,A_index, A], y_true_all = all_gen[0]"
   ]
  },
  {
   "cell_type": "code",
   "execution_count": 23,
   "metadata": {},
   "outputs": [],
   "source": [
    "integrated_node_importance = int_grad_saliency.get_node_importance(\n",
    "    X, A_index, A, target_idx, class_of_interest, steps=50\n",
    ")"
   ]
  },
  {
   "cell_type": "code",
   "execution_count": 24,
   "metadata": {},
   "outputs": [
    {
     "data": {
      "text/plain": [
       "(2708,)"
      ]
     },
     "execution_count": 24,
     "metadata": {},
     "output_type": "execute_result"
    }
   ],
   "source": [
    "integrated_node_importance.shape"
   ]
  },
  {
   "cell_type": "code",
   "execution_count": 25,
   "metadata": {},
   "outputs": [
    {
     "name": "stdout",
     "output_type": "stream",
     "text": [
      "\n",
      "integrated_node_importance [ 2.12  0.05 -0.   ...  0.    0.    0.  ]\n",
      "integrate_node_importance.shape = (2708,)\n",
      "integrated self-importance of target node 1109199: 4.06\n"
     ]
    }
   ],
   "source": [
    "print('\\nintegrated_node_importance', integrated_node_importance.round(2))\n",
    "print('integrate_node_importance.shape = {}'.format(integrated_node_importance.shape))\n",
    "print('integrated self-importance of target node {}: {}'.format(target_nid, integrated_node_importance[target_idx].round(2)))"
   ]
  },
  {
   "cell_type": "markdown",
   "metadata": {},
   "source": [
    "Check that number of non-zero node importance values is less or equal the number of nodes in target node's K-hop ego net (where K is the number of GCN layers in the model)"
   ]
  },
  {
   "cell_type": "code",
   "execution_count": 26,
   "metadata": {},
   "outputs": [],
   "source": [
    "G_ego = nx.ego_graph(G, target_nid, radius=len(gcn.activations))"
   ]
  },
  {
   "cell_type": "code",
   "execution_count": 27,
   "metadata": {},
   "outputs": [
    {
     "name": "stdout",
     "output_type": "stream",
     "text": [
      "Number of nodes in the ego graph: 202\n",
      "Number of non-zero elements in integrated_node_importance: 202\n"
     ]
    }
   ],
   "source": [
    "print('Number of nodes in the ego graph: {}'.format(len(G_ego.nodes())))\n",
    "print(\"Number of non-zero elements in integrated_node_importance: {}\".format(np.count_nonzero(integrated_node_importance)))"
   ]
  },
  {
   "cell_type": "markdown",
   "metadata": {},
   "source": [
    "We now compute the link importance using integrated gradients (https://arxiv.org/pdf/1703.01365.pdf). Integrated gradients are obtained by cumulating the gradients along the path between the baseline (all-zero graph) and the state of the graph. They provide better sensitivity for the graphs with binary features and edges compared with the vanilla gradients. "
   ]
  },
  {
   "cell_type": "code",
   "execution_count": 28,
   "metadata": {},
   "outputs": [
    {
     "name": "stdout",
     "output_type": "stream",
     "text": [
      "integrate_link_importance.shape = (2708, 2708)\n",
      "Number of non-zero elements in integrate_link_importance: 210\n"
     ]
    }
   ],
   "source": [
    "integrate_link_importance = int_grad_saliency.get_integrated_link_masks(X, A_index, A, target_idx, class_of_interest, A_baseline=None, steps=50)\n",
    "from scipy.sparse import csr_matrix\n",
    "integrate_link_importance_dense = csr_matrix((integrate_link_importance, (A_index[0, :, 0], A_index[0, :, 1]))).todense()\n",
    "print('integrate_link_importance.shape = {}'.format(integrate_link_importance_dense.shape))\n",
    "print(\"Number of non-zero elements in integrate_link_importance: {}\".format(np.count_nonzero(integrate_link_importance_dense)))"
   ]
  },
  {
   "cell_type": "markdown",
   "metadata": {},
   "source": [
    "We can now find the nodes that have the highest importance to the prediction of the selected node:"
   ]
  },
  {
   "cell_type": "code",
   "execution_count": 29,
   "metadata": {},
   "outputs": [
    {
     "name": "stdout",
     "output_type": "stream",
     "text": [
      "Top 10 most important links by integrated gradients are:\n",
      " [(0, 92), (223, 7), (223, 982), (58, 0), (58, 1806), (58, 7), (58, 58), (7, 7), (7, 0), (7, 58)]\n"
     ]
    }
   ],
   "source": [
    "sorted_indices = np.argsort(integrate_link_importance)\n",
    "N = len(graph_nodes)\n",
    "integrated_link_importance_rank = [\n",
    "  (A_index[0, k, 0], A_index[0, k, 1]) \n",
    "   for k in sorted_indices\n",
    "]\n",
    "topk = 10\n",
    "integrate_link_importance = integrate_link_importance_dense\n",
    "print('Top {} most important links by integrated gradients are:\\n {}'.format(topk, integrated_link_importance_rank[-topk:]))"
   ]
  },
  {
   "cell_type": "code",
   "execution_count": 30,
   "metadata": {},
   "outputs": [],
   "source": [
    "#Set the labels as an attribute for the nodes in the graph. The labels are used to color the nodes in different classes.\n",
    "nx.set_node_attributes(\n",
    "    G_ego,\n",
    "    values={x[0]:{'subject': x[1]} for x in node_data['subject'].items()}\n",
    ")"
   ]
  },
  {
   "cell_type": "markdown",
   "metadata": {},
   "source": [
    "In the following, we plot the link and node importance (computed by integrated gradients) of the nodes within the ego graph of the target node. \n",
    "\n",
    "For nodes, the shape of the node indicates the positive/negative importance the node has. 'round' nodes have positive importance while 'diamond' nodes have negative importance. The size of the node indicates the value of the importance, e.g., a large diamond node has higher negative importance. \n",
    "\n",
    "For links, the color of the link indicates the positive/negative importance the link has. 'red' links have positive importance while 'blue' links have negative importance. The width of the link indicates the value of the importance, e.g., a thicker blue link has higher negative importance."
   ]
  },
  {
   "cell_type": "code",
   "execution_count": 31,
   "metadata": {},
   "outputs": [
    {
     "data": {
      "text/plain": [
       "8.321089152357672"
      ]
     },
     "execution_count": 31,
     "metadata": {},
     "output_type": "execute_result"
    }
   ],
   "source": [
    "integrated_node_importance.max()"
   ]
  },
  {
   "cell_type": "code",
   "execution_count": 32,
   "metadata": {},
   "outputs": [
    {
     "data": {
      "text/plain": [
       "0.1347636458463967"
      ]
     },
     "execution_count": 32,
     "metadata": {},
     "output_type": "execute_result"
    }
   ],
   "source": [
    "integrate_link_importance.max()"
   ]
  },
  {
   "cell_type": "code",
   "execution_count": 33,
   "metadata": {},
   "outputs": [
    {
     "name": "stderr",
     "output_type": "stream",
     "text": [
      "/home/wu061/anaconda3/envs/stellar-research-py35/lib/python3.6/site-packages/networkx/drawing/nx_pylab.py:611: MatplotlibDeprecationWarning: isinstance(..., numbers.Number)\n",
      "  if cb.is_numlike(alpha):\n"
     ]
    },
    {
     "data": {
      "image/png": "[encoded data removed]",
      "text/plain": [
       "<Figure size 1080x720 with 2 Axes>"
      ]
     },
     "metadata": {
      "needs_background": "light"
     },
     "output_type": "display_data"
    }
   ],
   "source": [
    "node_size_factor = 1e2\n",
    "link_width_factor = 2\n",
    "\n",
    "nodes = list(G_ego.nodes())\n",
    "colors = pd.DataFrame([v[1]['subject'] for v in G_ego.nodes(data=True)], \n",
    "                      index=nodes,\n",
    "                      columns=['subject'])\n",
    "colors = np.argmax(target_encoding.transform(colors.to_dict('records')), axis=1) + 1\n",
    "\n",
    "fig, ax = plt.subplots(1, 1, figsize=(15, 10));\n",
    "pos = nx.spring_layout(G_ego)\n",
    "\n",
    "# Draw ego as large and red\n",
    "node_sizes = [integrated_node_importance[graph_nodes.index(k)] for k in nodes]\n",
    "node_shapes = ['o' if w > 0 else 'd' for w in node_sizes]\n",
    "\n",
    "positive_colors, negative_colors = [], []\n",
    "positive_node_sizes, negative_node_sizes = [], []\n",
    "positive_nodes, negative_nodes = [], []\n",
    "node_size_scale = node_size_factor/np.max(node_sizes)\n",
    "for k in range(len(nodes)):\n",
    "    if nodes[k] == target_idx:\n",
    "        continue\n",
    "    if node_shapes[k] == 'o':\n",
    "        positive_colors.append(colors[k])\n",
    "        positive_nodes.append(nodes[k])\n",
    "        positive_node_sizes.append(node_size_scale*node_sizes[k])\n",
    "\n",
    "    else:\n",
    "        negative_colors.append(colors[k])\n",
    "        negative_nodes.append(nodes[k])\n",
    "        negative_node_sizes.append(node_size_scale*abs(node_sizes[k]))\n",
    "\n",
    "# Plot the ego network with the node importances\n",
    "cmap = plt.get_cmap('jet', np.max(colors)-np.min(colors)+1)\n",
    "nc = nx.draw_networkx_nodes(G_ego, pos, nodelist=positive_nodes, node_color=positive_colors, cmap=cmap,\n",
    "                            node_size=positive_node_sizes, with_labels=False,\n",
    "                           vmin=np.min(colors)-0.5, vmax=np.max(colors)+0.5, node_shape='o')\n",
    "nc = nx.draw_networkx_nodes(G_ego, pos, nodelist=negative_nodes, node_color=negative_colors, cmap=cmap,\n",
    "                            node_size=negative_node_sizes, with_labels=False,\n",
    "                           vmin=np.min(colors)-0.5, vmax=np.max(colors)+0.5, node_shape='d')\n",
    "# Draw the target node as a large star colored by its true subject\n",
    "nx.draw_networkx_nodes(G_ego, pos, nodelist=[target_nid], node_size=50*abs(node_sizes[nodes.index(target_nid)]),\n",
    "                       node_shape='*', node_color=[colors[nodes.index(target_nid)]], cmap=cmap,\n",
    "                       vmin=np.min(colors)-0.5, vmax=np.max(colors)+0.5, label=\"Target\")\n",
    "\n",
    "# Draw the edges with the edge importances\n",
    "edges = G_ego.edges()\n",
    "weights = [integrate_link_importance[graph_nodes.index(u),graph_nodes.index(v)] for u,v in edges]\n",
    "edge_colors = ['red' if w > 0 else 'blue' for w in weights]\n",
    "weights = link_width_factor*np.abs(weights)/np.max(weights)\n",
    "\n",
    "ec = nx.draw_networkx_edges(G_ego, pos, edge_color=edge_colors, width=weights)\n",
    "plt.legend()\n",
    "plt.colorbar(nc, ticks=np.arange(np.min(colors),np.max(colors)+1))\n",
    "plt.axis('off')\n",
    "plt.show()"
   ]
  },
  {
   "cell_type": "markdown",
   "metadata": {},
   "source": [
    "We then remove the node or edge in the ego graph one by one and check how the prediction changes. By doing so, we can obtain the ground truth importance of the nodes and edges. Comparing the following figure and the above one can show the effectiveness of integrated gradients as the importance approximations are relatively consistent with the ground truth."
   ]
  },
  {
   "cell_type": "code",
   "execution_count": 36,
   "metadata": {},
   "outputs": [
    {
     "ename": "IndexError",
     "evalue": "too many indices for array",
     "output_type": "error",
     "traceback": [
      "\u001b[0;31m---------------------------------------------------------------------------\u001b[0m",
      "\u001b[0;31mIndexError\u001b[0m                                Traceback (most recent call last)",
      "\u001b[0;32m<ipython-input-36-61066a169767>\u001b[0m in \u001b[0;36m<module>\u001b[0;34m\u001b[0m\n\u001b[1;32m     38\u001b[0m \u001b[0;32mfor\u001b[0m \u001b[0medge\u001b[0m \u001b[0;32min\u001b[0m \u001b[0medges\u001b[0m\u001b[0;34m:\u001b[0m\u001b[0;34m\u001b[0m\u001b[0;34m\u001b[0m\u001b[0m\n\u001b[1;32m     39\u001b[0m     \u001b[0mA\u001b[0m \u001b[0;34m=\u001b[0m \u001b[0mdeepcopy\u001b[0m\u001b[0;34m(\u001b[0m\u001b[0mA_bk\u001b[0m\u001b[0;34m)\u001b[0m\u001b[0;34m\u001b[0m\u001b[0;34m\u001b[0m\u001b[0m\n\u001b[0;32m---> 40\u001b[0;31m     \u001b[0;32mif\u001b[0m \u001b[0mA\u001b[0m\u001b[0;34m[\u001b[0m\u001b[0;36m0\u001b[0m\u001b[0;34m,\u001b[0m \u001b[0medge\u001b[0m\u001b[0;34m[\u001b[0m\u001b[0;36m0\u001b[0m\u001b[0;34m]\u001b[0m\u001b[0;34m,\u001b[0m \u001b[0medge\u001b[0m\u001b[0;34m[\u001b[0m\u001b[0;36m1\u001b[0m\u001b[0;34m]\u001b[0m\u001b[0;34m]\u001b[0m \u001b[0;34m==\u001b[0m \u001b[0;36m0\u001b[0m\u001b[0;34m:\u001b[0m\u001b[0;34m\u001b[0m\u001b[0;34m\u001b[0m\u001b[0m\n\u001b[0m\u001b[1;32m     41\u001b[0m         \u001b[0;32mcontinue\u001b[0m\u001b[0;34m\u001b[0m\u001b[0;34m\u001b[0m\u001b[0m\n\u001b[1;32m     42\u001b[0m     \u001b[0;31m#we set the weight of a given edge to zero to check the ground truth link importance\u001b[0m\u001b[0;34m\u001b[0m\u001b[0;34m\u001b[0m\u001b[0;34m\u001b[0m\u001b[0m\n",
      "\u001b[0;31mIndexError\u001b[0m: too many indices for array"
     ]
    }
   ],
   "source": [
    "X_bk = deepcopy(X)\n",
    "A_bk = deepcopy(A)\n",
    "selected_nodes = np.array([[target_idx]], dtype='int32')\n",
    "nodes = [graph_nodes.index(v) for v in G_ego.nodes()]\n",
    "edges = [(graph_nodes.index(u),graph_nodes.index(v)) for u,v in G_ego.edges()]\n",
    "\n",
    "clean_prediction = model.predict([X, selected_nodes, A_index, A]).squeeze()\n",
    "predict_label = np.argmax(clean_prediction)\n",
    "\n",
    "groud_truth_node_importance = np.zeros((N,))\n",
    "for node in nodes:\n",
    "    #we set all the features of the node to zero to check the ground truth node importance.\n",
    "    X_perturb = deepcopy(X_bk)\n",
    "    X_perturb[:, node, :] = 0\n",
    "    predict_after_perturb = model.predict([X_perturb, selected_nodes, A_index, A]).squeeze()\n",
    "    groud_truth_node_importance[node] = clean_prediction[predict_label] - predict_after_perturb[predict_label]\n",
    "\n",
    "node_shapes = ['o' if groud_truth_node_importance[k] > 0 else 'd' for k in range(len(nodes))]\n",
    "positive_colors, negative_colors = [], []\n",
    "positive_node_sizes, negative_node_sizes = [], []\n",
    "positive_nodes, negative_nodes = [], []\n",
    "#node_size_scale is used for better visulization of nodes\n",
    "node_size_scale = node_size_factor/max(groud_truth_node_importance)\n",
    "\n",
    "for k in range(len(node_shapes)):\n",
    "    if nodes[k] == target_idx:\n",
    "        continue\n",
    "    if node_shapes[k] == 'o':\n",
    "        positive_colors.append(colors[k])\n",
    "        positive_nodes.append(graph_nodes[nodes[k]])\n",
    "        positive_node_sizes.append(node_size_scale*groud_truth_node_importance[nodes[k]])\n",
    "    else:\n",
    "        negative_colors.append(colors[k])\n",
    "        negative_nodes.append(graph_nodes[nodes[k]])\n",
    "        negative_node_sizes.append(node_size_scale*abs(groud_truth_node_importance[nodes[k]]))\n",
    "X = deepcopy(X_bk)\n",
    "groud_truth_edge_importance = np.zeros((N,N))\n",
    "for edge in edges:\n",
    "    A = deepcopy(A_bk)\n",
    "    if A[0, edge[0], edge[1]] == 0:\n",
    "        continue\n",
    "    #we set the weight of a given edge to zero to check the ground truth link importance\n",
    "    A[:, edge[0], edge[1]] = 0\n",
    "    predict_after_perturb = model.predict([X, A_index, selected_nodes, A_index, A]).squeeze()\n",
    "    groud_truth_edge_importance[edge[0], edge[1]] = (predict_after_perturb[predict_label]\n",
    "                                                     - clean_prediction[predict_label])/(0 - 1)\n",
    "    A[:, edge[0], edge[1]] = 1\n",
    "\n",
    "fig, ax = plt.subplots(1, 1, figsize=(15, 10));\n",
    "cmap = plt.get_cmap('jet', np.max(colors)-np.min(colors)+1)\n",
    "# Draw the target node as a large star colored by its true subject\n",
    "nx.draw_networkx_nodes(G_ego, pos, nodelist=[target_nid], node_size=50*abs(node_sizes[nodes.index(target_idx)]), \n",
    "                       node_color=[colors[nodes.index(target_idx)]], cmap=cmap, \n",
    "                       node_shape='*', vmin=np.min(colors)-0.5, vmax=np.max(colors)+0.5, label=\"Target\")\n",
    "# Draw the ego net\n",
    "nc = nx.draw_networkx_nodes(G_ego, pos, nodelist=positive_nodes, node_color=positive_colors, cmap=cmap, \n",
    "                            node_size=positive_node_sizes, with_labels=False,\n",
    "                            vmin=np.min(colors)-0.5, vmax=np.max(colors)+0.5, node_shape='o')\n",
    "nc = nx.draw_networkx_nodes(G_ego, pos, nodelist=negative_nodes, node_color=negative_colors, cmap=cmap, \n",
    "                            node_size=negative_node_sizes, with_labels=False,\n",
    "                            vmin=np.min(colors)-0.5, vmax=np.max(colors)+0.5, node_shape='d')\n",
    "edges = G_ego.edges()\n",
    "weights = [groud_truth_edge_importance[graph_nodes.index(u),graph_nodes.index(v)] for u,v in edges]\n",
    "edge_colors = ['red' if w > 0 else 'blue' for w in weights]\n",
    "weights = link_width_factor*np.abs(weights)/np.max(weights)\n",
    "\n",
    "ec = nx.draw_networkx_edges(G_ego, pos, edge_color=edge_colors, width=weights)\n",
    "plt.legend()\n",
    "plt.colorbar(nc, ticks=np.arange(np.min(colors),np.max(colors)+1))\n",
    "plt.axis('off')\n",
    "plt.show()"
   ]
  },
  {
   "cell_type": "markdown",
   "metadata": {},
   "source": [
    "By comparing the above two figures, one can see that the integrated gradients are quite consistent with the brute-force approach. The main benefit of using integrated gradients is scalability. The gradient operations are very efficient to compute on deep learning frameworks with the parallism provided by GPUs. Also, integrated gradients can give the importance of individual node features, for all nodes in the graph. Achieving this by brute-force approch is often non-trivial. "
   ]
  }
 ],
 "metadata": {
  "kernelspec": {
   "display_name": "stellar-research-py35",
   "language": "python",
   "name": "stellar-research-py35"
  },
  "language_info": {
   "codemirror_mode": {
    "name": "ipython",
    "version": 3
   },
   "file_extension": ".py",
   "mimetype": "text/x-python",
   "name": "python",
   "nbconvert_exporter": "python",
   "pygments_lexer": "ipython3",
   "version": "3.6.8"
  }
 },
 "nbformat": 4,
 "nbformat_minor": 2
}
